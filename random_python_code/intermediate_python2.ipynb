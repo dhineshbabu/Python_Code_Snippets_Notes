{
 "metadata": {
  "language_info": {
   "codemirror_mode": {
    "name": "ipython",
    "version": 3
   },
   "file_extension": ".py",
   "mimetype": "text/x-python",
   "name": "python",
   "nbconvert_exporter": "python",
   "pygments_lexer": "ipython3",
   "version": "3.8.5-final"
  },
  "orig_nbformat": 2,
  "kernelspec": {
   "name": "python3",
   "display_name": "Python 3.8.5 64-bit",
   "metadata": {
    "interpreter": {
     "hash": "31f2aee4e71d21fbe5cf8b01ff0e069b9275f58929596ceb00d14d90e3e16cd6"
    }
   }
  }
 },
 "nbformat": 4,
 "nbformat_minor": 2,
 "cells": [
  {
   "source": [
    "***\n",
    "## Decorators\n",
    "***"
   ],
   "cell_type": "markdown",
   "metadata": {}
  },
  {
   "cell_type": "code",
   "execution_count": 4,
   "metadata": {},
   "outputs": [
    {
     "output_type": "stream",
     "name": "stdout",
     "text": [
      "Starting\n4\n3\n"
     ]
    }
   ],
   "source": [
    "def countdown(num):\n",
    "    print('Starting')\n",
    "    while num > 0:\n",
    "        yield num\n",
    "        num -= 1\n",
    "\n",
    "cd = countdown(4)\n",
    "\n",
    "value = next(cd)\n",
    "print(value)\n",
    "\n",
    "print(next(cd))"
   ]
  },
  {
   "cell_type": "code",
   "execution_count": 12,
   "metadata": {},
   "outputs": [
    {
     "output_type": "stream",
     "name": "stdout",
     "text": [
      "28\n",
      "28\n",
      "8697456\n",
      "112\n"
     ]
    }
   ],
   "source": [
    "import sys\n",
    "\n",
    "def firstn(n):\n",
    "    nums = []\n",
    "    num = 0\n",
    "    while num < n:\n",
    "        nums.append(num)\n",
    "        num += 1\n",
    "    return nums\n",
    "\n",
    "mylist = sum(firstn(10))\n",
    "\n",
    "\n",
    "# generator version\n",
    "def firstn_generator(n):\n",
    "    num = 0\n",
    "    while num < n:\n",
    "        yield num\n",
    "        num += 1\n",
    "\n",
    "print(sys.getsizeof(sum(firstn(10))))\n",
    "print(sys.getsizeof(sum(firstn_generator(10))))\n",
    "\n",
    "print(sys.getsizeof(firstn(1000000))) # This takes more memory than generator\n",
    "print(sys.getsizeof(firstn_generator(1000000)))"
   ]
  },
  {
   "cell_type": "code",
   "execution_count": 13,
   "metadata": {},
   "outputs": [
    {
     "output_type": "stream",
     "name": "stdout",
     "text": [
      "0\n1\n1\n2\n3\n5\n8\n13\n21\n"
     ]
    }
   ],
   "source": [
    "def fibonacci(limit):\n",
    "    a,b = 0,1\n",
    "    while a<limit:\n",
    "        yield a\n",
    "        a,b = b, a+b\n",
    "\n",
    "fib = fibonacci(30)\n",
    "for i in fib:\n",
    "    print(i)"
   ]
  },
  {
   "cell_type": "code",
   "execution_count": 18,
   "metadata": {},
   "outputs": [
    {
     "output_type": "stream",
     "name": "stdout",
     "text": [
      "<class 'generator'>\n[0, 2, 4, 6, 8]\n[]\n"
     ]
    }
   ],
   "source": [
    "mygenerator = (i for i in range(10) if i%2 == 0)\n",
    "print(type(mygenerator))\n",
    "print(list(mygenerator))\n",
    "for i in mygenerator:\n",
    "    print(i)\n",
    "\n",
    "#converting generator to list\n",
    "print(list(mygenerator))"
   ]
  },
  {
   "source": [
    "***\n",
    "## Threading\n",
    "***"
   ],
   "cell_type": "markdown",
   "metadata": {}
  },
  {
   "cell_type": "code",
   "execution_count": 2,
   "metadata": {},
   "outputs": [
    {
     "output_type": "stream",
     "name": "stdout",
     "text": [
      "Start value:  0\nEnd value  2\nend main\n"
     ]
    }
   ],
   "source": [
    "from threading import Thread, Lock\n",
    "import time\n",
    "\n",
    "database_value = 0\n",
    "\n",
    "def increase(lock):\n",
    "    global database_value\n",
    "    lock.acquire()\n",
    "    local_copy = database_value\n",
    "    #processing\n",
    "    local_copy += 1\n",
    "    time.sleep(0.1)\n",
    "    database_value = local_copy\n",
    "    lock.release()\n",
    "\n",
    "if __name__ == '__main__':\n",
    "    print('Start value: ', database_value)\n",
    "    lock = Lock()\n",
    "    thread1 = Thread(target = increase, args=(lock,))\n",
    "    thread2 = Thread(target = increase, args=(lock,))\n",
    "\n",
    "    thread1.start()\n",
    "    thread2.start()\n",
    "\n",
    "    thread1.join()\n",
    "    thread2.join()\n",
    "\n",
    "    print('End value ', database_value)\n",
    "    print('end main')"
   ]
  },
  {
   "cell_type": "code",
   "execution_count": 3,
   "metadata": {},
   "outputs": [
    {
     "output_type": "stream",
     "name": "stdout",
     "text": [
      "Start value:  0\n",
      "End value  2\n",
      "end main\n"
     ]
    }
   ],
   "source": [
    "#acquiring lock with contect managers\n",
    "from threading import Thread, Lock\n",
    "import time\n",
    "\n",
    "database_value = 0\n",
    "\n",
    "def increase(lock):\n",
    "    global database_value\n",
    "    \n",
    "    with lock:\n",
    "        local_copy = database_value\n",
    "        #processing\n",
    "        local_copy += 1\n",
    "        time.sleep(0.1)\n",
    "        database_value = local_copy\n",
    "\n",
    "if __name__ == '__main__':\n",
    "    print('Start value: ', database_value)\n",
    "    lock = Lock()\n",
    "    thread1 = Thread(target = increase, args=(lock,))\n",
    "    thread2 = Thread(target = increase, args=(lock,))\n",
    "\n",
    "    thread1.start()\n",
    "    thread2.start()\n",
    "\n",
    "    thread1.join()\n",
    "    thread2.join()\n",
    "\n",
    "    print('End value ', database_value)\n",
    "    print('end main')"
   ]
  },
  {
   "source": [
    "## queues"
   ],
   "cell_type": "markdown",
   "metadata": {}
  },
  {
   "cell_type": "code",
   "execution_count": 4,
   "metadata": {},
   "outputs": [
    {
     "output_type": "stream",
     "name": "stdout",
     "text": [
      "1\nend main\n"
     ]
    }
   ],
   "source": [
    "#acquiring lock with contect managers\n",
    "from threading import Thread, Lock\n",
    "import time\n",
    "from queue import Queue\n",
    "\n",
    "\n",
    "\n",
    "if __name__ == '__main__':\n",
    "\n",
    "    q = Queue()\n",
    "    q.put(1)\n",
    "    q.put(2)\n",
    "    q.put(3)\n",
    "\n",
    "    first = q.get()\n",
    "    print(first)\n",
    "\n",
    "    print('end main')"
   ]
  },
  {
   "cell_type": "code",
   "execution_count": 9,
   "metadata": {},
   "outputs": [
    {
     "output_type": "stream",
     "name": "stdout",
     "text": [
      "in Thread-50 got 1\nin Thread-51 got 2\nin Thread-52 got 3\nin Thread-52 got 13\nin Thread-52 got 14\nin Thread-52 got 15\nin Thread-52 got 16\nin Thread-52 got 17\nin Thread-52 got 18\nin Thread-52 got 19\nin Thread-50 got 11\nin Thread-51 got 12\nin Thread-54 got 8\nin Thread-56 got 10\nin Thread-52 got 20\nin Thread-58 got 9\nin Thread-55 got 5\nin Thread-53 got 4\nin Thread-59 got 7\nin Thread-57 got 6\nend main\n"
     ]
    }
   ],
   "source": [
    "#acquiring lock with contect managers\n",
    "from threading import Thread, Lock, current_thread\n",
    "import time\n",
    "from queue import Queue\n",
    "\n",
    "def worker(q, lock):\n",
    "    while True:\n",
    "        value = q.get()\n",
    "        #processing...\n",
    "        with lock:\n",
    "            print(f'in {current_thread().name} got {value}')\n",
    "            q.task_done()\n",
    "\n",
    "\n",
    "if __name__ == '__main__':\n",
    "\n",
    "    q = Queue()\n",
    "    lock = Lock()\n",
    "    num_threads = 10\n",
    "\n",
    "    for i in range(num_threads):\n",
    "        thread = Thread(target=worker, args=(q,lock))\n",
    "        thread.daemon = True\n",
    "        thread.start()\n",
    "\n",
    "    for i in range(1,21):\n",
    "        q.put(i)\n",
    "\n",
    "    q.join()\n",
    "\n",
    "    print('end main')\n",
    "    "
   ]
  },
  {
   "source": [
    "***\n",
    "## Function arguments\n",
    "***"
   ],
   "cell_type": "markdown",
   "metadata": {}
  },
  {
   "cell_type": "code",
   "execution_count": 2,
   "metadata": {},
   "outputs": [
    {
     "output_type": "stream",
     "name": "stdout",
     "text": [
      "Dhinesh\n"
     ]
    }
   ],
   "source": [
    "def print_name(name):\n",
    "    print(name)\n",
    "\n",
    "print_name(\"Dhinesh\")"
   ]
  },
  {
   "cell_type": "code",
   "execution_count": 3,
   "metadata": {},
   "outputs": [
    {
     "output_type": "stream",
     "name": "stdout",
     "text": [
      "1 2 3\n"
     ]
    }
   ],
   "source": [
    "#positional args\n",
    "def foo(a,b,c):\n",
    "    print(a,b,c)\n",
    "\n",
    "print(1,2,3)"
   ]
  },
  {
   "cell_type": "code",
   "execution_count": 6,
   "metadata": {},
   "outputs": [
    {
     "output_type": "stream",
     "name": "stdout",
     "text": [
      "1 3 2\n"
     ]
    }
   ],
   "source": [
    "# keyword args\n",
    "def foo(a,b,c):\n",
    "    print(a,b,c)\n",
    "\n",
    "foo(a=1,c=2,b=3)"
   ]
  },
  {
   "cell_type": "code",
   "execution_count": 8,
   "metadata": {},
   "outputs": [
    {
     "output_type": "stream",
     "name": "stdout",
     "text": [
      "1 3 2\n"
     ]
    }
   ],
   "source": [
    "# mi of positional and keyword args\n",
    "def foo(a,b,c):\n",
    "    print(a,b,c)\n",
    "\n",
    "foo(1,c=2,b=3)"
   ]
  },
  {
   "cell_type": "code",
   "execution_count": 9,
   "metadata": {},
   "outputs": [
    {
     "output_type": "stream",
     "name": "stdout",
     "text": [
      "1 3 2 4\n"
     ]
    }
   ],
   "source": [
    "# default arguemnts - must be at the end\n",
    "def foo(a,b,c,d=4):\n",
    "    print(a,b,c,d)\n",
    "\n",
    "foo(1,c=2,b=3)"
   ]
  },
  {
   "cell_type": "code",
   "execution_count": 16,
   "metadata": {},
   "outputs": [
    {
     "output_type": "stream",
     "name": "stdout",
     "text": [
      "1 2\n3\n4\n5\n6\nseven 7\n"
     ]
    }
   ],
   "source": [
    "# variable length args\n",
    "\n",
    "def foo(a,b,*args,**kwargs):\n",
    "    print(a,b)\n",
    "    for arg in args:\n",
    "        print(arg)\n",
    "    for key in kwargs:\n",
    "        print(key, kwargs[key])\n",
    "\n",
    "foo(1,2,3,4,5,6,seven = 7)"
   ]
  },
  {
   "cell_type": "code",
   "execution_count": 21,
   "metadata": {},
   "outputs": [
    {
     "output_type": "stream",
     "name": "stdout",
     "text": [
      "1 2\n"
     ]
    }
   ],
   "source": [
    "#case variable length args to enforce keyword arguments\n",
    "\n",
    "def foo(a,b,*,c,d):\n",
    "    print(a,b)\n",
    "\n",
    "foo(1,2,c=3,d=5)"
   ]
  },
  {
   "cell_type": "code",
   "execution_count": null,
   "metadata": {},
   "outputs": [],
   "source": [
    "def foo(a,b,*,c,d):\n",
    "    print(a,b)\n",
    "\n",
    "foo(1,2,c=3,d=5)"
   ]
  },
  {
   "cell_type": "code",
   "execution_count": 23,
   "metadata": {},
   "outputs": [
    {
     "output_type": "stream",
     "name": "stdout",
     "text": [
      "1\n2\n100\n"
     ]
    }
   ],
   "source": [
    "def foo(*args, last):\n",
    "    for arg in args:\n",
    "        print(arg)\n",
    "    print(last)\n",
    "    \n",
    "\n",
    "foo(1,2,last=100)"
   ]
  },
  {
   "cell_type": "code",
   "execution_count": 26,
   "metadata": {},
   "outputs": [
    {
     "output_type": "stream",
     "name": "stdout",
     "text": [
      "0 1 2\n3 2 1\n"
     ]
    }
   ],
   "source": [
    "# unpacking arguments\n",
    "def foo(a,b,c):\n",
    "    print(a,b,c)\n",
    "\n",
    "my_list = [0,1,2] # we can have tuple here\n",
    "foo(*my_list)\n",
    "\n",
    "# keywod args unpacking\n",
    "my_dict = {'c': 1, 'b': 2, 'a': 3} # keys must match the parameter. order is not important\n",
    "foo(**my_dict)"
   ]
  },
  {
   "cell_type": "code",
   "execution_count": 29,
   "metadata": {},
   "outputs": [
    {
     "output_type": "stream",
     "name": "stdout",
     "text": [
      "number inside function:  0\n3\n"
     ]
    }
   ],
   "source": [
    "def foo():\n",
    "    global number\n",
    "    x = number\n",
    "    number = 3\n",
    "    print('number inside function: ', x)\n",
    "    \n",
    "number = 0\n",
    "foo()\n",
    "print(number) # number will be changes inside the function foo"
   ]
  },
  {
   "source": [
    "***\n",
    "## (*) oprator \n",
    "***"
   ],
   "cell_type": "markdown",
   "metadata": {}
  },
  {
   "cell_type": "code",
   "execution_count": 36,
   "metadata": {},
   "outputs": [
    {
     "output_type": "stream",
     "name": "stdout",
     "text": [
      "10\n32\n[0, 0, 0, 0, 0, 0, 0, 0, 0, 0]\n(0, 1, 0, 1, 0, 1, 0, 1, 0, 1, 0, 1, 0, 1, 0, 1, 0, 1, 0, 1)\nABABABABABABABABABAB\n"
     ]
    }
   ],
   "source": [
    "# for multiplication\n",
    "result = 2*5\n",
    "print(result)\n",
    "# for power operation\n",
    "result = 2**5\n",
    "print(result)\n",
    "#repeat or fill\n",
    "zeros = [0]* 10\n",
    "print(zeros)\n",
    "# tuple filee\n",
    "zero_and_ones = (0,1) * 10\n",
    "print(zero_and_ones)\n",
    "#for text\n",
    "alpha = 'AB' * 10\n",
    "print(alpha)"
   ]
  },
  {
   "source": [
    "***\n",
    "## unpacking elements into variables\n",
    "***"
   ],
   "cell_type": "markdown",
   "metadata": {}
  },
  {
   "cell_type": "code",
   "execution_count": 40,
   "metadata": {},
   "outputs": [
    {
     "output_type": "stream",
     "name": "stdout",
     "text": [
      "1\n[2, 3, 4, 5, 6]\n[2, 3, 4, 5]\n"
     ]
    }
   ],
   "source": [
    "numbers = [1,2,3,4,5,6]\n",
    "\n",
    "beginning, *last = numbers # last will be a list\n",
    "print(beginning)\n",
    "print(last)\n",
    "beginning,*middle, last = numbers \n",
    "print(middle)"
   ]
  },
  {
   "cell_type": "code",
   "execution_count": 41,
   "metadata": {},
   "outputs": [
    {
     "output_type": "stream",
     "name": "stdout",
     "text": [
      "[1, 2, 3, 4, 5, 6]\n"
     ]
    }
   ],
   "source": [
    "my_tuple = (1,2,3)\n",
    "my_list = [4,5,6]\n",
    "\n",
    "new_list = [*my_tuple, *my_list]\n",
    "print(new_list)"
   ]
  },
  {
   "cell_type": "code",
   "execution_count": 42,
   "metadata": {},
   "outputs": [
    {
     "output_type": "stream",
     "name": "stdout",
     "text": [
      "{'c': 1, 'b': 2, 'a': 3, 'd': 4}\n"
     ]
    }
   ],
   "source": [
    "my_dict1 = {'c': 1, 'b': 2, 'a': 3} \n",
    "my_dict2 = {'d': 4} \n",
    "\n",
    "my_dict = {**my_dict1, **my_dict2}\n",
    "print(my_dict)"
   ]
  },
  {
   "cell_type": "code",
   "execution_count": null,
   "metadata": {},
   "outputs": [],
   "source": []
  },
  {
   "cell_type": "code",
   "execution_count": null,
   "metadata": {},
   "outputs": [],
   "source": []
  },
  {
   "cell_type": "code",
   "execution_count": null,
   "metadata": {},
   "outputs": [],
   "source": []
  },
  {
   "cell_type": "code",
   "execution_count": null,
   "metadata": {},
   "outputs": [],
   "source": []
  },
  {
   "cell_type": "code",
   "execution_count": null,
   "metadata": {},
   "outputs": [],
   "source": []
  }
 ]
}