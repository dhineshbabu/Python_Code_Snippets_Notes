{
 "metadata": {
  "language_info": {
   "codemirror_mode": {
    "name": "ipython",
    "version": 3
   },
   "file_extension": ".py",
   "mimetype": "text/x-python",
   "name": "python",
   "nbconvert_exporter": "python",
   "pygments_lexer": "ipython3",
   "version": "3.8.5-final"
  },
  "orig_nbformat": 2,
  "kernelspec": {
   "name": "python3",
   "display_name": "Python 3.8.5 64-bit",
   "metadata": {
    "interpreter": {
     "hash": "31f2aee4e71d21fbe5cf8b01ff0e069b9275f58929596ceb00d14d90e3e16cd6"
    }
   }
  }
 },
 "nbformat": 4,
 "nbformat_minor": 2,
 "cells": [
  {
   "source": [
    "***\n",
    "## Decorators\n",
    "***"
   ],
   "cell_type": "markdown",
   "metadata": {}
  },
  {
   "cell_type": "code",
   "execution_count": 4,
   "metadata": {},
   "outputs": [
    {
     "output_type": "stream",
     "name": "stdout",
     "text": [
      "Starting\n4\n3\n"
     ]
    }
   ],
   "source": [
    "def countdown(num):\n",
    "    print('Starting')\n",
    "    while num > 0:\n",
    "        yield num\n",
    "        num -= 1\n",
    "\n",
    "cd = countdown(4)\n",
    "\n",
    "value = next(cd)\n",
    "print(value)\n",
    "\n",
    "print(next(cd))"
   ]
  },
  {
   "cell_type": "code",
   "execution_count": 12,
   "metadata": {},
   "outputs": [
    {
     "output_type": "stream",
     "name": "stdout",
     "text": [
      "28\n",
      "28\n",
      "8697456\n",
      "112\n"
     ]
    }
   ],
   "source": [
    "import sys\n",
    "\n",
    "def firstn(n):\n",
    "    nums = []\n",
    "    num = 0\n",
    "    while num < n:\n",
    "        nums.append(num)\n",
    "        num += 1\n",
    "    return nums\n",
    "\n",
    "mylist = sum(firstn(10))\n",
    "\n",
    "\n",
    "# generator version\n",
    "def firstn_generator(n):\n",
    "    num = 0\n",
    "    while num < n:\n",
    "        yield num\n",
    "        num += 1\n",
    "\n",
    "print(sys.getsizeof(sum(firstn(10))))\n",
    "print(sys.getsizeof(sum(firstn_generator(10))))\n",
    "\n",
    "print(sys.getsizeof(firstn(1000000))) # This takes more memory than generator\n",
    "print(sys.getsizeof(firstn_generator(1000000)))"
   ]
  },
  {
   "cell_type": "code",
   "execution_count": 13,
   "metadata": {},
   "outputs": [
    {
     "output_type": "stream",
     "name": "stdout",
     "text": [
      "0\n1\n1\n2\n3\n5\n8\n13\n21\n"
     ]
    }
   ],
   "source": [
    "def fibonacci(limit):\n",
    "    a,b = 0,1\n",
    "    while a<limit:\n",
    "        yield a\n",
    "        a,b = b, a+b\n",
    "\n",
    "fib = fibonacci(30)\n",
    "for i in fib:\n",
    "    print(i)"
   ]
  },
  {
   "cell_type": "code",
   "execution_count": 18,
   "metadata": {},
   "outputs": [
    {
     "output_type": "stream",
     "name": "stdout",
     "text": [
      "<class 'generator'>\n[0, 2, 4, 6, 8]\n[]\n"
     ]
    }
   ],
   "source": [
    "mygenerator = (i for i in range(10) if i%2 == 0)\n",
    "print(type(mygenerator))\n",
    "print(list(mygenerator))\n",
    "for i in mygenerator:\n",
    "    print(i)\n",
    "\n",
    "#converting generator to list\n",
    "print(list(mygenerator))"
   ]
  },
  {
   "source": [
    "***\n",
    "## Threading\n",
    "***"
   ],
   "cell_type": "markdown",
   "metadata": {}
  },
  {
   "cell_type": "code",
   "execution_count": 2,
   "metadata": {},
   "outputs": [
    {
     "output_type": "stream",
     "name": "stdout",
     "text": [
      "Start value:  0\nEnd value  2\nend main\n"
     ]
    }
   ],
   "source": [
    "from threading import Thread, Lock\n",
    "import time\n",
    "\n",
    "database_value = 0\n",
    "\n",
    "def increase(lock):\n",
    "    global database_value\n",
    "    lock.acquire()\n",
    "    local_copy = database_value\n",
    "    #processing\n",
    "    local_copy += 1\n",
    "    time.sleep(0.1)\n",
    "    database_value = local_copy\n",
    "    lock.release()\n",
    "\n",
    "if __name__ == '__main__':\n",
    "    print('Start value: ', database_value)\n",
    "    lock = Lock()\n",
    "    thread1 = Thread(target = increase, args=(lock,))\n",
    "    thread2 = Thread(target = increase, args=(lock,))\n",
    "\n",
    "    thread1.start()\n",
    "    thread2.start()\n",
    "\n",
    "    thread1.join()\n",
    "    thread2.join()\n",
    "\n",
    "    print('End value ', database_value)\n",
    "    print('end main')"
   ]
  },
  {
   "cell_type": "code",
   "execution_count": null,
   "metadata": {},
   "outputs": [],
   "source": [
    "#acquiring lock with contect managers\n",
    "from threading import Thread, Lock\n",
    "import time\n",
    "\n",
    "database_value = 0\n",
    "\n",
    "def increase(lock):\n",
    "    global database_value\n",
    "    \n",
    "    with lock:\n",
    "        local_copy = database_value\n",
    "        #processing\n",
    "        local_copy += 1\n",
    "        time.sleep(0.1)\n",
    "        database_value = local_copy\n",
    "\n",
    "if __name__ == '__main__':\n",
    "    print('Start value: ', database_value)\n",
    "    lock = Lock()\n",
    "    thread1 = Thread(target = increase, args=(lock,))\n",
    "    thread2 = Thread(target = increase, args=(lock,))\n",
    "\n",
    "    thread1.start()\n",
    "    thread2.start()\n",
    "\n",
    "    thread1.join()\n",
    "    thread2.join()\n",
    "\n",
    "    print('End value ', database_value)\n",
    "    print('end main')"
   ]
  },
  {
   "cell_type": "code",
   "execution_count": null,
   "metadata": {},
   "outputs": [],
   "source": []
  }
 ]
}