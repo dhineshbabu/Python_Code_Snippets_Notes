{
 "metadata": {
  "language_info": {
   "codemirror_mode": {
    "name": "ipython",
    "version": 3
   },
   "file_extension": ".py",
   "mimetype": "text/x-python",
   "name": "python",
   "nbconvert_exporter": "python",
   "pygments_lexer": "ipython3",
   "version": "3.9.6"
  },
  "orig_nbformat": 4,
  "kernelspec": {
   "name": "python3",
   "display_name": "Python 3.9.6 64-bit"
  },
  "interpreter": {
   "hash": "38740d3277777e2cd7c6c2cc9d8addf5118fdf3f82b1b39231fd12aeac8aee8b"
  }
 },
 "nbformat": 4,
 "nbformat_minor": 2,
 "cells": [
  {
   "cell_type": "markdown",
   "source": [
    "## Some Description\n",
    "### Aliasing - Providing more than one reference \n",
    "### Cloning\n",
    "### Deep Copy\n",
    "### Shallow Copy"
   ],
   "metadata": {}
  },
  {
   "cell_type": "code",
   "execution_count": 1,
   "source": [
    "## Aliasing - changes to l1 will also get reflected for l2\r\n",
    "l1 = [10, 20, 30, 40]\r\n",
    "l2 = l1\r\n",
    "print(l1 is l2)\r\n"
   ],
   "outputs": [
    {
     "output_type": "stream",
     "name": "stdout",
     "text": [
      "True\n"
     ]
    }
   ],
   "metadata": {}
  },
  {
   "cell_type": "code",
   "execution_count": 3,
   "source": [
    "## Cloning - if we need duplicate objects than we need to choose cloning\r\n",
    "# using copy() method\r\n",
    "l1 = [10, 20, 30, 40]\r\n",
    "l2 = l1.copy()\r\n",
    "print(id(l1))\r\n",
    "print(id(l2))\r\n",
    "print(l1 is l2)"
   ],
   "outputs": [
    {
     "output_type": "stream",
     "name": "stdout",
     "text": [
      "1324518995328\n",
      "1324518781056\n",
      "False\n"
     ]
    }
   ],
   "metadata": {}
  },
  {
   "cell_type": "code",
   "execution_count": 5,
   "source": [
    "## Deep cloning vs Shallow cloning\r\n",
    "\r\n",
    "#nested list\r\n",
    "l1 = [10, 20, [30, 40], 50]\r\n",
    "l2 = l1.copy()\r\n",
    "l1[0] = 7777 # This change will happen only for l1 and not for l2\r\n",
    "print(f'l1: {l1}')\r\n",
    "print(f'l2: {l2}')\r\n",
    "\r\n",
    "# changing the inner list \r\n",
    "l1[2][0] = 9999 # This change will happen to both l1 and l2\r\n",
    "print(f'l1: {l1}')\r\n",
    "print(f'l2: {l2}')\r\n",
    "\r\n",
    "# conclusion: Inner nested lists will not be cloned using copy() method this is \"SHALLOW CLONING\""
   ],
   "outputs": [
    {
     "output_type": "stream",
     "name": "stdout",
     "text": [
      "l1: [7777, 20, [30, 40], 50]\n",
      "l2: [10, 20, [30, 40], 50]\n",
      "l1: [7777, 20, [9999, 40], 50]\n",
      "l2: [10, 20, [9999, 40], 50]\n"
     ]
    }
   ],
   "metadata": {}
  },
  {
   "cell_type": "code",
   "execution_count": 1,
   "source": [
    "# Another methods for \"SHALLOW CLONING\" - Use copy() method from copy module\r\n",
    "\r\n",
    "import copy\r\n",
    "l1 = [10, 20, [30, 40], 50]\r\n",
    "l2 = copy.copy(l1)\r\n",
    "\r\n",
    "l1[2][0] = 9999 # This change will happen to both l1 and l2\r\n",
    "print(f'l1: {l1}')\r\n",
    "print(f'l2: {l2}')"
   ],
   "outputs": [
    {
     "output_type": "stream",
     "name": "stdout",
     "text": [
      "l1: [10, 20, [9999, 40], 50]\n",
      "l2: [10, 20, [9999, 40], 50]\n"
     ]
    }
   ],
   "metadata": {}
  },
  {
   "cell_type": "code",
   "execution_count": 2,
   "source": [
    "# \"DEEP CLONING\" - Even inner / nested objects will also be copied \r\n",
    "# Use deepcopy() module\r\n",
    "\r\n",
    "import copy\r\n",
    "l1 = [10, 20, [30, 40], 50]\r\n",
    "l2 = copy.deepcopy(l1)\r\n",
    "\r\n",
    "l1[2][0] = 9999 # This change will happen only for l1 and not for l2\r\n",
    "print(f'l1: {l1}')\r\n",
    "print(f'l2: {l2}')"
   ],
   "outputs": [
    {
     "output_type": "stream",
     "name": "stdout",
     "text": [
      "l1: [10, 20, [9999, 40], 50]\n",
      "l2: [10, 20, [30, 40], 50]\n"
     ]
    }
   ],
   "metadata": {}
  },
  {
   "cell_type": "code",
   "execution_count": 3,
   "source": [
    "# using slicing methods - This is also shallow cloning\r\n",
    "l1 = [10, 20, [30, 40], 50]\r\n",
    "l2 = l1[:]\r\n",
    "l1[2][0] = 9999 # This change will happen to both l1 and l2\r\n",
    "print(f'l1: {l1}')\r\n",
    "print(f'l2: {l2}')"
   ],
   "outputs": [
    {
     "output_type": "stream",
     "name": "stdout",
     "text": [
      "l1: [10, 20, [9999, 40], 50]\n",
      "l2: [10, 20, [9999, 40], 50]\n"
     ]
    }
   ],
   "metadata": {}
  },
  {
   "cell_type": "code",
   "execution_count": null,
   "source": [],
   "outputs": [],
   "metadata": {}
  },
  {
   "cell_type": "code",
   "execution_count": null,
   "source": [],
   "outputs": [],
   "metadata": {}
  }
 ]
}