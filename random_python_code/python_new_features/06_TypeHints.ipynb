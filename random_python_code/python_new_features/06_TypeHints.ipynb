{
 "cells": [
  {
   "source": [
    "# Type Hints\n",
    "### Introduced in Python 3.5 version as part of PEP 484\n",
    "### We can declare the type for variables, function arguments and return values\n",
    "### We can use tools like <u>mypy</u> to perform static type checking for python programs but it will not run the programs"
   ],
   "cell_type": "markdown",
   "metadata": {}
  },
  {
   "cell_type": "code",
   "execution_count": 3,
   "source": [
    "## Function Type hints | Function Annotations\n",
    "\n",
    "\n",
    "def add(x: int, y: int) -> None:\n",
    "    print(x, y)\n",
    "\n",
    "add(1,2)\n",
    "add('python', 'program') # This will also work. Because Type hints are for developer inputs and optional\n",
    "\n",
    "# But we can use with 3rd party tools like mypy\n",
    "# mypy test.py"
   ],
   "outputs": [
    {
     "output_type": "stream",
     "name": "stdout",
     "text": [
      "1 2\n",
      "python program\n"
     ]
    }
   ],
   "metadata": {}
  },
  {
   "cell_type": "code",
   "execution_count": 5,
   "source": [
    "## To get the types assigned by type hints , use __annotations__ for the function\n",
    "\n",
    "def add(x: int, y: int) -> None:\n",
    "    print(x, y)\n",
    "\n",
    "\n",
    "print(add.__annotations__)"
   ],
   "outputs": [
    {
     "output_type": "stream",
     "name": "stdout",
     "text": [
      "{'x': <class 'int'>, 'y': <class 'int'>, 'return': None}\n"
     ]
    }
   ],
   "metadata": {}
  },
  {
   "cell_type": "code",
   "execution_count": 6,
   "source": [
    "############ Variable related type hints (or) Variable annotations ###########\n",
    "# Syntax: Variable name: Type = Value"
   ],
   "outputs": [],
   "metadata": {}
  },
  {
   "cell_type": "code",
   "execution_count": 2,
   "source": [
    "name: str = 'Dhinesh'\n",
    "print(name)\n",
    "print(__annotations__) # This will list all the annotations in the local scope"
   ],
   "outputs": [
    {
     "name": "stdout",
     "output_type": "stream",
     "text": [
      "Dhinesh\n",
      "{'name': <class 'str'>}\n"
     ]
    }
   ],
   "metadata": {}
  },
  {
   "cell_type": "code",
   "execution_count": 3,
   "source": [
    "print(\"This is from pycharm1\")"
   ],
   "outputs": [
    {
     "name": "stdout",
     "output_type": "stream",
     "text": [
      "This is from pycharm1\n"
     ]
    }
   ],
   "metadata": {}
  },
  {
   "source": [
    "### Complex Type Hints from **typing** Library\n",
    "List, Tuple, Set, Dict, Sequence, Union, Optional and etc."
   ],
   "cell_type": "markdown",
   "metadata": {
    "collapsed": false,
    "pycharm": {
     "name": "#%%\n"
    }
   }
  },
  {
   "cell_type": "code",
   "execution_count": 6,
   "metadata": {},
   "outputs": [
    {
     "output_type": "stream",
     "name": "stdout",
     "text": [
      "Current name is Hello\nCurrent name is This is\nCurrent name is Pythonista\nCurrent name is Thanks\n{'return': typing.List[str]}\n"
     ]
    }
   ],
   "source": [
    "# List of names in type hints\n",
    "\n",
    "from typing import List\n",
    "\n",
    "def get_names() -> List[str]:\n",
    "    names: List[str] = []\n",
    "    names.append(\"Hello\")\n",
    "    names.append(\"This is\")\n",
    "    names.append(\"Pythonista\")\n",
    "    names.append(\"Thanks\")\n",
    "    return names\n",
    "\n",
    "names = get_names()\n",
    "for name in names:\n",
    "    print(f'Current name is {name}')\n",
    "    \n",
    "print(get_names.__annotations__)"
   ]
  },
  {
   "cell_type": "code",
   "execution_count": 8,
   "metadata": {},
   "outputs": [
    {
     "output_type": "stream",
     "name": "stdout",
     "text": [
      "[[10, 20], [20, 30]]\n{'nested_list': typing.List[typing.List[int]]}\n"
     ]
    }
   ],
   "source": [
    "# nested list\n",
    "from typing import List\n",
    "\n",
    "nested_list: List[List[int]] = [[10,20], [20,30]]\n",
    "print(nested_list)\n",
    "print(__annotations__)"
   ]
  },
  {
   "cell_type": "code",
   "execution_count": 10,
   "metadata": {},
   "outputs": [
    {
     "output_type": "stream",
     "name": "stdout",
     "text": [
      "('Student', 20, 30)\n{'nested_list': typing.List[typing.List[int]], 't1': typing.Tuple[str, int, int]}\n"
     ]
    }
   ],
   "source": [
    "# Typing library for Tuple\n",
    "from typing import Tuple\n",
    "\n",
    "# t1: Tuple[int] = (10, 20 ,30) ==> This is invalid, we need to specify type for all the elements\n",
    "t1: Tuple[str, int, int] = ('Student', 20, 30)\n",
    "print(t1)\n",
    "print(__annotations__)\n"
   ]
  },
  {
   "source": [
    "### Typehint for Set\n"
   ],
   "cell_type": "markdown",
   "metadata": {}
  },
  {
   "cell_type": "code",
   "execution_count": 11,
   "metadata": {},
   "outputs": [
    {
     "output_type": "stream",
     "name": "stdout",
     "text": [
      "{40, 10, 20, 30}\n{'nested_list': typing.List[typing.List[int]], 't1': typing.Tuple[str, int, int], 's': typing.Set[int]}\n"
     ]
    }
   ],
   "source": [
    "from typing import Set\n",
    "\n",
    "s: Set[int] = {10, 20, 30, 40} \n",
    "\n",
    "print(s)\n",
    "print(__annotations__)"
   ]
  },
  {
   "source": [
    "### Typehint for Dict"
   ],
   "cell_type": "markdown",
   "metadata": {}
  },
  {
   "cell_type": "code",
   "execution_count": 12,
   "metadata": {},
   "outputs": [
    {
     "output_type": "stream",
     "name": "stdout",
     "text": [
      "{100: 'Performance', 200: 'Engineer', 300: 'Pythonista'}\n{'nested_list': typing.List[typing.List[int]], 't1': typing.Tuple[str, int, int], 's': typing.Set[int], 'students': typing.Dict[int, str]}\n"
     ]
    }
   ],
   "source": [
    "from typing import Dict\n",
    "\n",
    "students: Dict[int, str] = {100: 'Performance', 200: 'Engineer', 300: 'Pythonista'}\n",
    "\n",
    "print(students)\n",
    "print(__annotations__)"
   ]
  },
  {
   "cell_type": "code",
   "execution_count": null,
   "metadata": {},
   "outputs": [],
   "source": []
  }
 ],
 "metadata": {
  "orig_nbformat": 4,
  "language_info": {
   "name": "python",
   "version": "3.9.6",
   "mimetype": "text/x-python",
   "codemirror_mode": {
    "name": "ipython",
    "version": 3
   },
   "pygments_lexer": "ipython3",
   "nbconvert_exporter": "python",
   "file_extension": ".py"
  },
  "kernelspec": {
   "name": "python3",
   "display_name": "Python 3.9.6 64-bit"
  },
  "interpreter": {
   "hash": "38740d3277777e2cd7c6c2cc9d8addf5118fdf3f82b1b39231fd12aeac8aee8b"
  }
 },
 "nbformat": 4,
 "nbformat_minor": 2
}