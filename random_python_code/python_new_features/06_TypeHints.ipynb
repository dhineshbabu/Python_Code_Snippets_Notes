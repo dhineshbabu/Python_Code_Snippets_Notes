{
 "cells": [
  {
   "cell_type": "code",
   "execution_count": null,
   "source": [
    "## Type Hints\n",
    "# Introduced in Python 3.5 version as part of PEP 484\n",
    "# We can declare the type for variables, function arguments and return values"
   ],
   "outputs": [],
   "metadata": {}
  },
  {
   "cell_type": "code",
   "execution_count": 3,
   "source": [
    "## Function Type hints | Function Annotations\n",
    "\n",
    "\n",
    "def add(x: int, y: int) -> None:\n",
    "    print(x, y)\n",
    "\n",
    "add(1,2)\n",
    "add('python', 'program') # This will also work. Because Type hints are for developer inputs and optional\n",
    "\n",
    "# But we can use with 3rd party tools like mypy\n",
    "# mypy test.py"
   ],
   "outputs": [
    {
     "output_type": "stream",
     "name": "stdout",
     "text": [
      "1 2\n",
      "python program\n"
     ]
    }
   ],
   "metadata": {}
  },
  {
   "cell_type": "code",
   "execution_count": 5,
   "source": [
    "## To get the types assigned by type hints , use __annotations__ for the function\n",
    "\n",
    "def add(x: int, y: int) -> None:\n",
    "    print(x, y)\n",
    "\n",
    "\n",
    "print(add.__annotations__)"
   ],
   "outputs": [
    {
     "output_type": "stream",
     "name": "stdout",
     "text": [
      "{'x': <class 'int'>, 'y': <class 'int'>, 'return': None}\n"
     ]
    }
   ],
   "metadata": {}
  },
  {
   "cell_type": "code",
   "execution_count": 6,
   "source": [
    "############ Variable related type hints (or) Variable annotations ###########\n",
    "# Syntax: Variable name: Type = Valeu"
   ],
   "outputs": [],
   "metadata": {}
  },
  {
   "cell_type": "code",
   "execution_count": 10,
   "source": [
    "name: str = 'Dhinesh'\n",
    "print(name)\n",
    "print(__annotations__) # This will list all the annotations in the local scope"
   ],
   "outputs": [
    {
     "output_type": "stream",
     "name": "stdout",
     "text": [
      "Dhinesh\n",
      "{'name': <class 'str'>}\n"
     ]
    }
   ],
   "metadata": {}
  },
  {
   "cell_type": "code",
   "execution_count": 1,
   "source": [
    "print(\"This is from pycharm\")\n"
   ],
   "outputs": [
    {
     "name": "stdout",
     "output_type": "stream",
     "text": [
      "This is from pycharm\n"
     ]
    }
   ],
   "metadata": {}
  }
 ],
 "metadata": {
  "orig_nbformat": 4,
  "language_info": {
   "name": "python",
   "version": "3.9.6",
   "mimetype": "text/x-python",
   "codemirror_mode": {
    "name": "ipython",
    "version": 3
   },
   "pygments_lexer": "ipython3",
   "nbconvert_exporter": "python",
   "file_extension": ".py"
  },
  "kernelspec": {
   "name": "python3",
   "display_name": "Python 3.9"
  },
  "interpreter": {
   "hash": "36cf16204b8548560b1c020c4e8fb5b57f0e4c58016f52f2d4be01e192833930"
  }
 },
 "nbformat": 4,
 "nbformat_minor": 2
}