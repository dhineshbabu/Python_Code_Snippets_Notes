{
 "cells": [
  {
   "cell_type": "code",
   "execution_count": 1,
   "metadata": {},
   "outputs": [],
   "source": [
    "### abs() method ### return absolute value of the given number. if complex, it will return magnitude"
   ]
  },
  {
   "cell_type": "code",
   "execution_count": 2,
   "metadata": {},
   "outputs": [
    {
     "data": {
      "text/plain": [
       "2"
      ]
     },
     "execution_count": 2,
     "metadata": {},
     "output_type": "execute_result"
    }
   ],
   "source": [
    "abs(-2)"
   ]
  },
  {
   "cell_type": "code",
   "execution_count": 3,
   "metadata": {},
   "outputs": [
    {
     "data": {
      "text/plain": [
       "3.5"
      ]
     },
     "execution_count": 3,
     "metadata": {},
     "output_type": "execute_result"
    }
   ],
   "source": [
    "abs(-3.5)"
   ]
  },
  {
   "cell_type": "code",
   "execution_count": 4,
   "metadata": {},
   "outputs": [
    {
     "data": {
      "text/plain": [
       "6.4031242374328485"
      ]
     },
     "execution_count": 4,
     "metadata": {},
     "output_type": "execute_result"
    }
   ],
   "source": [
    "abs(4-5j)"
   ]
  },
  {
   "cell_type": "code",
   "execution_count": 5,
   "metadata": {},
   "outputs": [],
   "source": [
    "### all() method ###  Return true when all the elements in the given iterable are true. if not, \n",
    "# it returns false. Returns True for empty iterable"
   ]
  },
  {
   "cell_type": "code",
   "execution_count": 7,
   "metadata": {},
   "outputs": [
    {
     "name": "stdout",
     "output_type": "stream",
     "text": [
      "True\n",
      "False\n",
      "False\n",
      "False\n",
      "True\n"
     ]
    }
   ],
   "source": [
    "l = [1,2,3] #all true\n",
    "print(all(l))\n",
    "\n",
    "l = [0, False] # all false\n",
    "print(all(l))\n",
    " \n",
    "l = [0, False, 5] # atleast 1 true\n",
    "print(all(l))\n",
    "\n",
    "l = [1,2,3,0] #atleast 1 false\n",
    "print(all(l))\n",
    "\n",
    "l = [] # empty iterable\n",
    "print(all(l))"
   ]
  },
  {
   "cell_type": "code",
   "execution_count": 1,
   "metadata": {
    "tags": []
   },
   "outputs": [
    {
     "name": "stdout",
     "output_type": "stream",
     "text": [
      "True\n",
      "True\n",
      "True\n"
     ]
    },
    {
     "ename": "TypeError",
     "evalue": "'int' object is not iterable",
     "output_type": "error",
     "traceback": [
      "\u001b[1;31m---------------------------------------------------------------------------\u001b[0m",
      "\u001b[1;31mTypeError\u001b[0m                                 Traceback (most recent call last)",
      "\u001b[1;32m<ipython-input-1-d939902f1b7d>\u001b[0m in \u001b[0;36m<module>\u001b[1;34m\u001b[0m\n\u001b[0;32m      9\u001b[0m \u001b[0mprint\u001b[0m\u001b[1;33m(\u001b[0m\u001b[0mall\u001b[0m\u001b[1;33m(\u001b[0m\u001b[0mstring\u001b[0m\u001b[1;33m)\u001b[0m\u001b[1;33m)\u001b[0m\u001b[1;33m\u001b[0m\u001b[1;33m\u001b[0m\u001b[0m\n\u001b[0;32m     10\u001b[0m \u001b[0mstring\u001b[0m \u001b[1;33m=\u001b[0m \u001b[1;36m0\u001b[0m\u001b[1;33m\u001b[0m\u001b[1;33m\u001b[0m\u001b[0m\n\u001b[1;32m---> 11\u001b[1;33m \u001b[0mprint\u001b[0m\u001b[1;33m(\u001b[0m\u001b[0mall\u001b[0m\u001b[1;33m(\u001b[0m\u001b[0mstring\u001b[0m\u001b[1;33m)\u001b[0m\u001b[1;33m)\u001b[0m\u001b[1;33m\u001b[0m\u001b[1;33m\u001b[0m\u001b[0m\n\u001b[0m",
      "\u001b[1;31mTypeError\u001b[0m: 'int' object is not iterable"
     ]
    }
   ],
   "source": [
    "#with Strings\n",
    "# 0 is False\n",
    "# '0' is True\n",
    "string = \"This is a good string\"\n",
    "print(all(string))\n",
    "string = \"000\"\n",
    "print(all(string))\n",
    "string=\"\"\n",
    "print(all(string))\n",
    "string = 0\n",
    "print(all(string)) # This will hrow error since int is not an iterable"
   ]
  },
  {
   "cell_type": "code",
   "execution_count": 15,
   "metadata": {},
   "outputs": [
    {
     "name": "stdout",
     "output_type": "stream",
     "text": [
      "False\n",
      "True\n",
      "True\n"
     ]
    }
   ],
   "source": [
    "# with dictionaries -> if all keys are true or if dict is empty, it will return True else False\n",
    "s= {0:'False', 1: \"False\"}\n",
    "print(all(s))\n",
    "s= {True:'False', 1: \"False\"}\n",
    "print(all(s))\n",
    "s= {}\n",
    "print(all(s))"
   ]
  },
  {
   "cell_type": "code",
   "execution_count": null,
   "metadata": {},
   "outputs": [],
   "source": [
    "####################### BLANK ################################"
   ]
  },
  {
   "cell_type": "code",
   "execution_count": 16,
   "metadata": {},
   "outputs": [],
   "source": [
    "### any() method ### returns True if any of the elements of an iterable is True else it returns False\n",
    "# It returns false for an empty iterable"
   ]
  },
  {
   "cell_type": "code",
   "execution_count": 18,
   "metadata": {},
   "outputs": [
    {
     "name": "stdout",
     "output_type": "stream",
     "text": [
      "True\n",
      "False\n",
      "True\n",
      "False\n"
     ]
    }
   ],
   "source": [
    "l = [1,2]\n",
    "print(any(l))\n",
    "\n",
    "l = [False, False]\n",
    "print(any(l))\n",
    "\n",
    "l = [True, False]\n",
    "print(any(l))\n",
    "\n",
    "l = []\n",
    "print(any(l))"
   ]
  },
  {
   "cell_type": "code",
   "execution_count": 19,
   "metadata": {},
   "outputs": [],
   "source": [
    "# it works for the dictionaries in the same way like all() method"
   ]
  },
  {
   "cell_type": "code",
   "execution_count": 20,
   "metadata": {},
   "outputs": [],
   "source": [
    "####################### BLANK ################################"
   ]
  },
  {
   "cell_type": "code",
   "execution_count": 21,
   "metadata": {},
   "outputs": [],
   "source": [
    "### ascii() method ### returns a string containing a printable representation of an object\n",
    "# it wsapes the non-Ascii characters in the string using \\x, \\u and \\U escapes"
   ]
  },
  {
   "cell_type": "code",
   "execution_count": 22,
   "metadata": {},
   "outputs": [
    {
     "name": "stdout",
     "output_type": "stream",
     "text": [
      "'Python is interesting'\n",
      "'Pyth\\xf6n is interesting'\n",
      "Pythön is interesting\n"
     ]
    }
   ],
   "source": [
    "normalText = 'Python is interesting'\n",
    "print(ascii(normalText))\n",
    "\n",
    "otherText = 'Pythön is interesting'\n",
    "print(ascii(otherText))\n",
    "\n",
    "print('Pyth\\xf6n is interesting')"
   ]
  },
  {
   "cell_type": "code",
   "execution_count": 24,
   "metadata": {},
   "outputs": [
    {
     "name": "stdout",
     "output_type": "stream",
     "text": [
      "['python', 'Pyth\\xf6n', 5]\n"
     ]
    }
   ],
   "source": [
    "#another example\n",
    "random_list = ['python', 'Pythön', 5]\n",
    "print(ascii(random_list))"
   ]
  },
  {
   "cell_type": "code",
   "execution_count": 25,
   "metadata": {},
   "outputs": [],
   "source": [
    "####################### BLANK ################################"
   ]
  },
  {
   "cell_type": "code",
   "execution_count": 26,
   "metadata": {},
   "outputs": [],
   "source": [
    "### bin() method ### converts and returns the binary equivalent string  of a given integer. if the \n",
    "#parameter is not an integer, it has to implement __index__() method to return an integer"
   ]
  },
  {
   "cell_type": "code",
   "execution_count": 27,
   "metadata": {},
   "outputs": [
    {
     "name": "stdout",
     "output_type": "stream",
     "text": [
      "0b10\n"
     ]
    }
   ],
   "source": [
    "number = 2\n",
    "print(bin(number)) #The prefix 0b represents that the result is a binary string."
   ]
  },
  {
   "cell_type": "code",
   "execution_count": 28,
   "metadata": {},
   "outputs": [
    {
     "name": "stdout",
     "output_type": "stream",
     "text": [
      "The binary equivalent for the given quantity is  0b111\n"
     ]
    }
   ],
   "source": [
    "# implementing __index__() method to use for bin() to convert object values into binary\n",
    "\n",
    "class Quantity:\n",
    "    apple = 1\n",
    "    orange = 5\n",
    "    mango = 1\n",
    "    \n",
    "    def __index__(self):\n",
    "        return self.apple + self.orange + self.mango\n",
    "    \n",
    "print(\"The binary equivalent for the given quantity is \",bin(Quantity())) # it will throw TypeError is no number is returned for bin() conversion"
   ]
  },
  {
   "cell_type": "code",
   "execution_count": 3,
   "metadata": {},
   "outputs": [
    {
     "ename": "TypeError",
     "evalue": "'float' object cannot be interpreted as an integer",
     "output_type": "error",
     "traceback": [
      "\u001b[1;31m---------------------------------------------------------------------------\u001b[0m",
      "\u001b[1;31mTypeError\u001b[0m                                 Traceback (most recent call last)",
      "\u001b[1;32m<ipython-input-3-9fdce2631f47>\u001b[0m in \u001b[0;36m<module>\u001b[1;34m\u001b[0m\n\u001b[1;32m----> 1\u001b[1;33m \u001b[0mbin\u001b[0m\u001b[1;33m(\u001b[0m\u001b[1;36m10.5\u001b[0m\u001b[1;33m)\u001b[0m\u001b[1;33m\u001b[0m\u001b[1;33m\u001b[0m\u001b[0m\n\u001b[0m",
      "\u001b[1;31mTypeError\u001b[0m: 'float' object cannot be interpreted as an integer"
     ]
    }
   ],
   "source": [
    "bin(10.5)"
   ]
  },
  {
   "cell_type": "code",
   "execution_count": 29,
   "metadata": {},
   "outputs": [],
   "source": [
    "####################### BLANK ################################"
   ]
  },
  {
   "cell_type": "code",
   "execution_count": 30,
   "metadata": {},
   "outputs": [],
   "source": [
    "### bool() method ### converts a value to Boolean(True or False) using the standard truth testing procedure"
   ]
  },
  {
   "cell_type": "code",
   "execution_count": 31,
   "metadata": {},
   "outputs": [],
   "source": [
    "#Following are falsy values: None, False, Zero (0, 0.0, 0j), Empty Sequence([], (), \"\"), Empty mapping {}\n",
    "# Also Objects of classes which has __bool__() or __len()__ method which returns 0 or False\n",
    "# if no argument passed to bool function, it will return False"
   ]
  },
  {
   "cell_type": "code",
   "execution_count": 33,
   "metadata": {},
   "outputs": [
    {
     "name": "stdout",
     "output_type": "stream",
     "text": [
      "False\n",
      "True\n",
      "False\n",
      "False\n",
      "True\n",
      "True\n"
     ]
    }
   ],
   "source": [
    "test = []\n",
    "print(bool(test))\n",
    "\n",
    "test = [0]\n",
    "print(bool(test))\n",
    "\n",
    "test = 0.0\n",
    "print(bool(test))\n",
    "\n",
    "test = None\n",
    "print(bool(test))\n",
    "\n",
    "test = True\n",
    "print(bool(test))\n",
    "\n",
    "test = 'Easy string. THis is true'\n",
    "print(bool(test))"
   ]
  },
  {
   "cell_type": "code",
   "execution_count": 34,
   "metadata": {},
   "outputs": [],
   "source": [
    "####################### BLANK ################################"
   ]
  },
  {
   "cell_type": "code",
   "execution_count": 35,
   "metadata": {},
   "outputs": [],
   "source": [
    "### bytearray() method ### returns  a bytearray object which is an array of the given byte"
   ]
  },
  {
   "cell_type": "code",
   "execution_count": 36,
   "metadata": {},
   "outputs": [],
   "source": [
    "#The bytearray() method returns a bytearray object which is a mutable (can be modified) sequence of integers in the range 0 <=x < 256.\n",
    "# if no source is given, it creates an array of size 0"
   ]
  },
  {
   "cell_type": "code",
   "execution_count": 37,
   "metadata": {},
   "outputs": [
    {
     "name": "stdout",
     "output_type": "stream",
     "text": [
      "bytearray(b'This is a good string...')\n"
     ]
    }
   ],
   "source": [
    "#Array of bytes from a string\n",
    "string = \"This is a good string...\"\n",
    "arr = bytearray(string, 'utf-8')\n",
    "print(arr)"
   ]
  },
  {
   "cell_type": "code",
   "execution_count": 38,
   "metadata": {},
   "outputs": [
    {
     "name": "stdout",
     "output_type": "stream",
     "text": [
      "bytearray(b'\\x00\\x00\\x00\\x00\\x00')\n"
     ]
    }
   ],
   "source": [
    "#Array of bytes from a given Integer size\n",
    "size = 5\n",
    "arr = bytearray(size)\n",
    "print(arr)"
   ]
  },
  {
   "cell_type": "code",
   "execution_count": 3,
   "metadata": {},
   "outputs": [
    {
     "name": "stdout",
     "output_type": "stream",
     "text": [
      "bytearray(b'\\x01\\x02\\x03\\x04')\n",
      "<class 'bytearray'>\n"
     ]
    }
   ],
   "source": [
    "#Array of bytes from a given Iterable list\n",
    "rlist = [1,2,3,4]\n",
    "arr = bytearray(rlist)\n",
    "print(arr)\n",
    "print(type(arr))"
   ]
  },
  {
   "cell_type": "code",
   "execution_count": 2,
   "metadata": {},
   "outputs": [],
   "source": [
    "####################### BLANK ################################"
   ]
  },
  {
   "cell_type": "code",
   "execution_count": 3,
   "metadata": {},
   "outputs": [],
   "source": [
    "### callable() method ### returns True if the object passed appears callable\n",
    "# For custom objects this will return True if the __call__() method is implemented"
   ]
  },
  {
   "cell_type": "code",
   "execution_count": 4,
   "metadata": {},
   "outputs": [
    {
     "name": "stdout",
     "output_type": "stream",
     "text": [
      "False\n",
      "True\n"
     ]
    }
   ],
   "source": [
    "x = 5\n",
    "print(callable(x))\n",
    "\n",
    "def some_function():\n",
    "    print(\"Hello\")\n",
    "    \n",
    "y = some_function\n",
    "print(callable(y))"
   ]
  },
  {
   "cell_type": "code",
   "execution_count": 5,
   "metadata": {},
   "outputs": [
    {
     "name": "stdout",
     "output_type": "stream",
     "text": [
      "True\n"
     ]
    }
   ],
   "source": [
    "## Callable Object Test\n",
    "class Foo:\n",
    "    def __call__(self):\n",
    "        print('Something')\n",
    "\n",
    "print(callable(Foo))"
   ]
  },
  {
   "cell_type": "code",
   "execution_count": 6,
   "metadata": {},
   "outputs": [
    {
     "name": "stdout",
     "output_type": "stream",
     "text": [
      "Something\n"
     ]
    }
   ],
   "source": [
    "some_object = Foo()\n",
    "some_object() # now it will call __call__ method"
   ]
  },
  {
   "cell_type": "code",
   "execution_count": 7,
   "metadata": {},
   "outputs": [],
   "source": [
    "#Object Appears to be Callable but isn't callable."
   ]
  },
  {
   "cell_type": "code",
   "execution_count": 8,
   "metadata": {},
   "outputs": [
    {
     "name": "stdout",
     "output_type": "stream",
     "text": [
      "True\n"
     ]
    }
   ],
   "source": [
    "class Foo:\n",
    "    def print_line(self):\n",
    "        print('something')\n",
    "print(callable(Foo))"
   ]
  },
  {
   "cell_type": "code",
   "execution_count": 9,
   "metadata": {},
   "outputs": [],
   "source": [
    "#but it instance will throw error"
   ]
  },
  {
   "cell_type": "code",
   "execution_count": 10,
   "metadata": {},
   "outputs": [
    {
     "ename": "TypeError",
     "evalue": "'Foo' object is not callable",
     "output_type": "error",
     "traceback": [
      "\u001b[1;31m---------------------------------------------------------------------------\u001b[0m",
      "\u001b[1;31mTypeError\u001b[0m                                 Traceback (most recent call last)",
      "\u001b[1;32m<ipython-input-10-15acd2cd06e6>\u001b[0m in \u001b[0;36m<module>\u001b[1;34m()\u001b[0m\n\u001b[0;32m      1\u001b[0m \u001b[0manother_instance\u001b[0m \u001b[1;33m=\u001b[0m \u001b[0mFoo\u001b[0m\u001b[1;33m(\u001b[0m\u001b[1;33m)\u001b[0m\u001b[1;33m\u001b[0m\u001b[0m\n\u001b[1;32m----> 2\u001b[1;33m \u001b[0manother_instance\u001b[0m\u001b[1;33m(\u001b[0m\u001b[1;33m)\u001b[0m\u001b[1;33m\u001b[0m\u001b[0m\n\u001b[0m",
      "\u001b[1;31mTypeError\u001b[0m: 'Foo' object is not callable"
     ]
    }
   ],
   "source": [
    "another_instance = Foo()\n",
    "another_instance()"
   ]
  },
  {
   "cell_type": "code",
   "execution_count": 11,
   "metadata": {},
   "outputs": [],
   "source": [
    "####################### BLANK ################################"
   ]
  },
  {
   "cell_type": "code",
   "execution_count": 12,
   "metadata": {},
   "outputs": [],
   "source": [
    "### chr() method ### returns a character (a unicode string) from an integer \n",
    "# valid integer range is  from 0 through 11141111"
   ]
  },
  {
   "cell_type": "code",
   "execution_count": 16,
   "metadata": {},
   "outputs": [
    {
     "name": "stdout",
     "output_type": "stream",
     "text": [
      "a\n",
      "A\n",
      "Ұ\n"
     ]
    }
   ],
   "source": [
    "print(chr(97))\n",
    "print(chr(65))\n",
    "print(chr(1200))"
   ]
  },
  {
   "cell_type": "code",
   "execution_count": 18,
   "metadata": {},
   "outputs": [
    {
     "ename": "ValueError",
     "evalue": "chr() arg not in range(0x110000)",
     "output_type": "error",
     "traceback": [
      "\u001b[1;31m---------------------------------------------------------------------------\u001b[0m",
      "\u001b[1;31mValueError\u001b[0m                                Traceback (most recent call last)",
      "\u001b[1;32m<ipython-input-18-071c81fcb6e3>\u001b[0m in \u001b[0;36m<module>\u001b[1;34m()\u001b[0m\n\u001b[1;32m----> 1\u001b[1;33m \u001b[0mchr\u001b[0m\u001b[1;33m(\u001b[0m\u001b[1;33m-\u001b[0m\u001b[1;36m1\u001b[0m\u001b[1;33m)\u001b[0m\u001b[1;33m\u001b[0m\u001b[0m\n\u001b[0m",
      "\u001b[1;31mValueError\u001b[0m: chr() arg not in range(0x110000)"
     ]
    }
   ],
   "source": [
    "chr(-1)"
   ]
  },
  {
   "cell_type": "code",
   "execution_count": null,
   "metadata": {},
   "outputs": [],
   "source": [
    "####################### BLANK ################################"
   ]
  },
  {
   "cell_type": "code",
   "execution_count": 21,
   "metadata": {},
   "outputs": [],
   "source": [
    "### classmethod() ### returns a class method for the given function\n",
    "#we can use @classmethod decorator in the newer version of python\n",
    "#A class method is a method that is bound to a class rather than its object. It doesn't require creation of a class instance, much like staticmethod.\n",
    "#But no matter what, the class method is always attached to a class with first argument as the class itself cls."
   ]
  },
  {
   "cell_type": "code",
   "execution_count": 22,
   "metadata": {},
   "outputs": [
    {
     "name": "stdout",
     "output_type": "stream",
     "text": [
      "Age is  25\n"
     ]
    }
   ],
   "source": [
    "#using classmethod()\n",
    "class Person:\n",
    "    age = 25\n",
    "    \n",
    "    def print_age(cls):\n",
    "        print(\"Age is \", cls.age)\n",
    "\n",
    "Person.print_age = classmethod(Person.print_age)\n",
    "Person.print_age()"
   ]
  },
  {
   "cell_type": "code",
   "execution_count": null,
   "metadata": {},
   "outputs": [],
   "source": [
    "#Creating Factory methods usign classmethod()"
   ]
  },
  {
   "cell_type": "code",
   "execution_count": 26,
   "metadata": {},
   "outputs": [
    {
     "name": "stdout",
     "output_type": "stream",
     "text": [
      "DHinesh's age is 5\n",
      "Kanu's age is 3\n"
     ]
    }
   ],
   "source": [
    "from datetime import date\n",
    "\n",
    "class Person:\n",
    "    def __init__(self, name, age):\n",
    "        self.name = name\n",
    "        self.age = age\n",
    "        \n",
    "    @classmethod\n",
    "    def from_birth_year(cls, name, birth_year):\n",
    "        return cls(name, date.today().year - birth_year)\n",
    "    \n",
    "    def display(self):\n",
    "        print(self.name + \"'s age is \"+ str(self.age))\n",
    "        \n",
    "person = Person('DHinesh', 5)\n",
    "person.display()\n",
    "\n",
    "person1 = Person.from_birth_year(\"Kanu\", 2016)\n",
    "person1.display()"
   ]
  },
  {
   "cell_type": "code",
   "execution_count": 27,
   "metadata": {},
   "outputs": [],
   "source": [
    "#You can create a static method for the above example but the object it creates, will always be hardcoded as Base class\n",
    "#But, when you use a class method, it creates the correct instance of the derived class."
   ]
  },
  {
   "cell_type": "code",
   "execution_count": 28,
   "metadata": {},
   "outputs": [
    {
     "name": "stdout",
     "output_type": "stream",
     "text": [
      "True\n",
      "False\n"
     ]
    }
   ],
   "source": [
    "from datetime import date\n",
    "\n",
    "# random Person\n",
    "class Person:\n",
    "    def __init__(self, name, age):\n",
    "        self.name = name\n",
    "        self.age = age\n",
    "\n",
    "    @staticmethod\n",
    "    def fromFathersAge(name, fatherAge, fatherPersonAgeDiff):\n",
    "        return Person(name, date.today().year - fatherAge + fatherPersonAgeDiff)\n",
    "\n",
    "    @classmethod\n",
    "    def fromBirthYear(cls, name, birthYear):\n",
    "        return cls(name, date.today().year - birthYear)\n",
    "\n",
    "    def display(self):\n",
    "        print(self.name + \"'s age is: \" + str(self.age))\n",
    "\n",
    "class Man(Person):\n",
    "    sex = 'Male'\n",
    "\n",
    "man = Man.fromBirthYear('John', 1985)\n",
    "print(isinstance(man, Man))\n",
    "\n",
    "man1 = Man.fromFathersAge('John', 1965, 20)\n",
    "print(isinstance(man1, Man))"
   ]
  },
  {
   "cell_type": "code",
   "execution_count": null,
   "metadata": {},
   "outputs": [],
   "source": [
    "####################### BLANK ################################"
   ]
  },
  {
   "cell_type": "code",
   "execution_count": 1,
   "metadata": {},
   "outputs": [],
   "source": [
    "### compile() method ### return python code object from the source (normal string, a byte string or AST object)"
   ]
  },
  {
   "cell_type": "code",
   "execution_count": 2,
   "metadata": {},
   "outputs": [],
   "source": [
    "# This code object can later be used by exec() or eval() which will execute dynamically generated python code"
   ]
  },
  {
   "cell_type": "code",
   "execution_count": 3,
   "metadata": {},
   "outputs": [
    {
     "name": "stdout",
     "output_type": "stream",
     "text": [
      "sum =  11\n"
     ]
    }
   ],
   "source": [
    "code_in_string = 'a=5\\nb=6\\nsum=a+b\\nprint(\"sum = \",sum)'\n",
    "code_object = compile(code_in_string, 'sum_string', 'exec')\n",
    "exec(code_object)"
   ]
  },
  {
   "cell_type": "code",
   "execution_count": 4,
   "metadata": {},
   "outputs": [],
   "source": [
    "####################### BLANK ################################"
   ]
  },
  {
   "cell_type": "code",
   "execution_count": 5,
   "metadata": {},
   "outputs": [],
   "source": [
    "### complex() method ### returns complex number if real and imaginary parts are provided or it converts a string to a complex number"
   ]
  },
  {
   "cell_type": "code",
   "execution_count": 6,
   "metadata": {},
   "outputs": [],
   "source": [
    "#if either real or imaginary part is omitted then it will default to zero"
   ]
  },
  {
   "cell_type": "code",
   "execution_count": 7,
   "metadata": {},
   "outputs": [
    {
     "name": "stdout",
     "output_type": "stream",
     "text": [
      "(2-3j)\n",
      "(1+0j)\n",
      "0j\n",
      "(5-9j)\n"
     ]
    },
    {
     "ename": "ValueError",
     "evalue": "complex() arg is a malformed string",
     "output_type": "error",
     "traceback": [
      "\u001b[1;31m---------------------------------------------------------------------------\u001b[0m",
      "\u001b[1;31mValueError\u001b[0m                                Traceback (most recent call last)",
      "\u001b[1;32m<ipython-input-7-31f8efe11f81>\u001b[0m in \u001b[0;36m<module>\u001b[1;34m()\u001b[0m\n\u001b[0;32m     11\u001b[0m \u001b[0mprint\u001b[0m\u001b[1;33m(\u001b[0m\u001b[0mz\u001b[0m\u001b[1;33m)\u001b[0m\u001b[1;33m\u001b[0m\u001b[0m\n\u001b[0;32m     12\u001b[0m \u001b[1;33m\u001b[0m\u001b[0m\n\u001b[1;32m---> 13\u001b[1;33m \u001b[0mz\u001b[0m \u001b[1;33m=\u001b[0m \u001b[0mcomplex\u001b[0m\u001b[1;33m(\u001b[0m\u001b[1;34m\"dhinesh\"\u001b[0m\u001b[1;33m)\u001b[0m\u001b[1;33m\u001b[0m\u001b[0m\n\u001b[0m\u001b[0;32m     14\u001b[0m \u001b[0mprint\u001b[0m\u001b[1;33m(\u001b[0m\u001b[0mz\u001b[0m\u001b[1;33m)\u001b[0m\u001b[1;33m\u001b[0m\u001b[0m\n\u001b[0;32m     15\u001b[0m \u001b[1;33m\u001b[0m\u001b[0m\n",
      "\u001b[1;31mValueError\u001b[0m: complex() arg is a malformed string"
     ]
    }
   ],
   "source": [
    "z = complex(2, -3)\n",
    "print(z)\n",
    "\n",
    "z = complex(1)\n",
    "print(z)\n",
    "\n",
    "z = complex()\n",
    "print(z)\n",
    "\n",
    "z = complex('5-9j')\n",
    "print(z)\n",
    "\n",
    "z = complex(\"dhinesh\")\n",
    "print(z) # this will throw error\n",
    "    "
   ]
  },
  {
   "cell_type": "code",
   "execution_count": 8,
   "metadata": {},
   "outputs": [
    {
     "name": "stdout",
     "output_type": "stream",
     "text": [
      "(2+3j)\n",
      "<class 'complex'>\n",
      "(-0-2j)\n",
      "<class 'complex'>\n",
      "0j\n",
      "<class 'complex'>\n"
     ]
    }
   ],
   "source": [
    "# Creating complex number without complex() method. We can use either j or J\n",
    "a = 2+3j\n",
    "print(a)\n",
    "print(type(a))\n",
    "\n",
    "b = -2j\n",
    "print(b)\n",
    "print(type(b))\n",
    "\n",
    "c = 0j\n",
    "print(c)\n",
    "print(type(c))"
   ]
  },
  {
   "cell_type": "code",
   "execution_count": 9,
   "metadata": {},
   "outputs": [],
   "source": [
    "####################### BLANK ################################"
   ]
  },
  {
   "cell_type": "code",
   "execution_count": 10,
   "metadata": {},
   "outputs": [],
   "source": [
    "### delattr() method ###  deletes an attribute from the object (if the object allows it)\n",
    "# it returns None "
   ]
  },
  {
   "cell_type": "code",
   "execution_count": 11,
   "metadata": {},
   "outputs": [
    {
     "name": "stdout",
     "output_type": "stream",
     "text": [
      "10\n"
     ]
    }
   ],
   "source": [
    "class Sample:\n",
    "    x = 10\n",
    "    \n",
    "point = Sample()\n",
    "print(point.x)"
   ]
  },
  {
   "cell_type": "code",
   "execution_count": 12,
   "metadata": {},
   "outputs": [],
   "source": [
    "delattr(Sample, 'x')"
   ]
  },
  {
   "cell_type": "code",
   "execution_count": 13,
   "metadata": {},
   "outputs": [
    {
     "ename": "AttributeError",
     "evalue": "'Sample' object has no attribute 'x'",
     "output_type": "error",
     "traceback": [
      "\u001b[1;31m---------------------------------------------------------------------------\u001b[0m",
      "\u001b[1;31mAttributeError\u001b[0m                            Traceback (most recent call last)",
      "\u001b[1;32m<ipython-input-13-8dca2dfbdad4>\u001b[0m in \u001b[0;36m<module>\u001b[1;34m()\u001b[0m\n\u001b[0;32m      1\u001b[0m \u001b[0mpoint\u001b[0m \u001b[1;33m=\u001b[0m \u001b[0mSample\u001b[0m\u001b[1;33m(\u001b[0m\u001b[1;33m)\u001b[0m\u001b[1;33m\u001b[0m\u001b[0m\n\u001b[1;32m----> 2\u001b[1;33m \u001b[0mprint\u001b[0m\u001b[1;33m(\u001b[0m\u001b[0mpoint\u001b[0m\u001b[1;33m.\u001b[0m\u001b[0mx\u001b[0m\u001b[1;33m)\u001b[0m\u001b[1;33m\u001b[0m\u001b[0m\n\u001b[0m",
      "\u001b[1;31mAttributeError\u001b[0m: 'Sample' object has no attribute 'x'"
     ]
    }
   ],
   "source": [
    "point = Sample()\n",
    "print(point.x)"
   ]
  },
  {
   "cell_type": "code",
   "execution_count": 14,
   "metadata": {},
   "outputs": [
    {
     "name": "stdout",
     "output_type": "stream",
     "text": [
      "10\n"
     ]
    }
   ],
   "source": [
    "#Deleting an attribut using del operator\n",
    "class Sample:\n",
    "    x = 10\n",
    "    \n",
    "point = Sample()\n",
    "print(point.x)"
   ]
  },
  {
   "cell_type": "code",
   "execution_count": 15,
   "metadata": {},
   "outputs": [],
   "source": [
    "del Sample.x"
   ]
  },
  {
   "cell_type": "code",
   "execution_count": 16,
   "metadata": {},
   "outputs": [
    {
     "ename": "AttributeError",
     "evalue": "'Sample' object has no attribute 'x'",
     "output_type": "error",
     "traceback": [
      "\u001b[1;31m---------------------------------------------------------------------------\u001b[0m",
      "\u001b[1;31mAttributeError\u001b[0m                            Traceback (most recent call last)",
      "\u001b[1;32m<ipython-input-16-f443710e3230>\u001b[0m in \u001b[0;36m<module>\u001b[1;34m()\u001b[0m\n\u001b[1;32m----> 1\u001b[1;33m \u001b[0mprint\u001b[0m\u001b[1;33m(\u001b[0m\u001b[0mpoint\u001b[0m\u001b[1;33m.\u001b[0m\u001b[0mx\u001b[0m\u001b[1;33m)\u001b[0m\u001b[1;33m\u001b[0m\u001b[0m\n\u001b[0m",
      "\u001b[1;31mAttributeError\u001b[0m: 'Sample' object has no attribute 'x'"
     ]
    }
   ],
   "source": [
    "print(point.x)"
   ]
  },
  {
   "cell_type": "code",
   "execution_count": null,
   "metadata": {},
   "outputs": [],
   "source": [
    "####################### BLANK ################################"
   ]
  },
  {
   "cell_type": "code",
   "execution_count": null,
   "metadata": {},
   "outputs": [],
   "source": [
    "###dict() method ### constructor creates a dictionary in python"
   ]
  },
  {
   "cell_type": "code",
   "execution_count": null,
   "metadata": {},
   "outputs": [],
   "source": [
    "\"\"\"\n",
    "Differnt forms of constructors are \n",
    "\n",
    "class dict(**kwarg)\n",
    "class dict(mapping, **kwarg)\n",
    "class dict(iterable, **kwarg)\n",
    "\n",
    "\"\"\""
   ]
  },
  {
   "cell_type": "code",
   "execution_count": 2,
   "metadata": {},
   "outputs": [
    {
     "name": "stdout",
     "output_type": "stream",
     "text": [
      "dict_items([('name', 'kanu'), ('age', '3')])\n",
      "<class 'dict'>\n"
     ]
    }
   ],
   "source": [
    "#Creating Dictionary using keyword arguments only\n",
    "person = dict(name=\"kanu\", age='3')\n",
    "print(person.items())\n",
    "print(type(person))"
   ]
  },
  {
   "cell_type": "code",
   "execution_count": 8,
   "metadata": {},
   "outputs": [
    {
     "name": "stdout",
     "output_type": "stream",
     "text": [
      "dict_items([('name', 'Dhinesh'), ('age', 3)])\n",
      "person3  {'name': 'dhinesh', 'age': 3, 'job': 'IT'}\n",
      "person4  {'dhinesh': 'babu', 'kanu': 'hasini'}\n",
      "<class 'dict'>\n"
     ]
    }
   ],
   "source": [
    "#creating Dictionaries using iterables\n",
    "person1 = dict([('name', 'Dhinesh'), ('age', 3)])\n",
    "print(person1.items())\n",
    "\n",
    "#along with keyword arguments\n",
    "person3 = dict([('name', 'dhinesh'), ('age', 3)], job = 'IT')\n",
    "print('person3 ', person3)\n",
    "\n",
    "#using zip()method to create an iterable in python 3\n",
    "person4 = dict(zip(['dhinesh', 'kanu'], ['babu', 'hasini']))\n",
    "print('person4 ', person4)\n",
    "print(type(person4))"
   ]
  },
  {
   "cell_type": "code",
   "execution_count": 9,
   "metadata": {},
   "outputs": [
    {
     "name": "stdout",
     "output_type": "stream",
     "text": [
      "{'name': 'dhinesh', 'age': 2}\n",
      "person2  {'name': 'dhinesh', 'age': 2}\n",
      "<class 'dict'>\n",
      "person3  {'name': 'dhinesh', 'age': 2, 'job': 'IT'}\n",
      "<class 'dict'>\n"
     ]
    }
   ],
   "source": [
    "#Creating Dictionaries using Mapping\n",
    "person = dict({'name':'dhinesh', 'age': 2})\n",
    "print(person)\n",
    "\n",
    "#dict() is not required when using direct mapping\n",
    "person2 = {'name':'dhinesh', 'age': 2}\n",
    "print('person2 ', person2)\n",
    "print(type(person2))\n",
    "\n",
    "#Also with keyword arguments\n",
    "person3 = dict({'name':'dhinesh', 'age': 2}, job='IT')\n",
    "print('person3 ', person3)\n",
    "print(type(person3))"
   ]
  },
  {
   "cell_type": "code",
   "execution_count": 10,
   "metadata": {},
   "outputs": [],
   "source": [
    "####################### BLANK ################################"
   ]
  },
  {
   "cell_type": "code",
   "execution_count": 11,
   "metadata": {},
   "outputs": [],
   "source": [
    "### dir() method ### returns a list of valid attributes of the object\n",
    "#If the object has __dir__() method, the method will be called and must return the list of attributes\n",
    "#If the object doesn't have __dir__() method, this method tries to find information from the __dict__ attribute (if defined), and from type object. In this case, the list returned from dir() may not be complete.\n",
    "#if no names/object passed to the dir method, it will return the list of names in the current scope"
   ]
  },
  {
   "cell_type": "code",
   "execution_count": 12,
   "metadata": {},
   "outputs": [
    {
     "name": "stdout",
     "output_type": "stream",
     "text": [
      "['__add__', '__class__', '__contains__', '__delattr__', '__delitem__', '__dir__', '__doc__', '__eq__', '__format__', '__ge__', '__getattribute__', '__getitem__', '__gt__', '__hash__', '__iadd__', '__imul__', '__init__', '__init_subclass__', '__iter__', '__le__', '__len__', '__lt__', '__mul__', '__ne__', '__new__', '__reduce__', '__reduce_ex__', '__repr__', '__reversed__', '__rmul__', '__setattr__', '__setitem__', '__sizeof__', '__str__', '__subclasshook__', 'append', 'clear', 'copy', 'count', 'extend', 'index', 'insert', 'pop', 'remove', 'reverse', 'sort']\n",
      "Print from empty dir() method...\n",
      "['In', 'Out', '_', '__', '___', '__builtin__', '__builtins__', '__doc__', '__loader__', '__name__', '__package__', '__spec__', '_dh', '_i', '_i1', '_i10', '_i11', '_i12', '_i2', '_i3', '_i4', '_i5', '_i6', '_i7', '_i8', '_i9', '_ih', '_ii', '_iii', '_oh', 'exit', 'get_ipython', 'number_list', 'person', 'person1', 'person2', 'person3', 'person4', 'quit']\n"
     ]
    }
   ],
   "source": [
    "number_list = [1,2,3,4]\n",
    "print(dir(list))\n",
    "\n",
    "print('Print from empty dir() method...')\n",
    "print(dir())"
   ]
  },
  {
   "cell_type": "code",
   "execution_count": 13,
   "metadata": {},
   "outputs": [
    {
     "name": "stdout",
     "output_type": "stream",
     "text": [
      "['age', 'name', 'salary']\n"
     ]
    }
   ],
   "source": [
    "#using dir() on user defined object\n",
    "class Person():\n",
    "    def __dir__(self):\n",
    "        return ['age', 'name', 'salary']\n",
    "    \n",
    "teacher = Person()\n",
    "print(dir(teacher))"
   ]
  },
  {
   "cell_type": "code",
   "execution_count": 14,
   "metadata": {},
   "outputs": [],
   "source": [
    "####################### BLANK ################################"
   ]
  },
  {
   "cell_type": "code",
   "execution_count": 15,
   "metadata": {},
   "outputs": [],
   "source": [
    "### divmod() method ### takes 2 numbers and returns a pair of numbers (tuple) with quotient and reminder"
   ]
  },
  {
   "cell_type": "code",
   "execution_count": 16,
   "metadata": {},
   "outputs": [],
   "source": [
    "#If x and y are integers, the return value from divmod() is same as (a // b, x % y).\n",
    "#If either x or y is a float, the result is (q, x%y). Here, q is the whole part of the quotient."
   ]
  },
  {
   "cell_type": "code",
   "execution_count": 17,
   "metadata": {},
   "outputs": [
    {
     "name": "stdout",
     "output_type": "stream",
     "text": [
      "divmod(8,3)  (2, 2)\n",
      "divmod(3,8)  (0, 3)\n",
      "divmod(5,5)  (1, 0)\n",
      "divmod(8.0,3)  (2.0, 2.0)\n",
      "divmod(3,8.0)  (0.0, 3.0)\n",
      "divmod(3,8.0)  (3.0, 0.0)\n",
      "divmod(2.6,0.5)  (5.0, 0.10000000000000009)\n"
     ]
    }
   ],
   "source": [
    "print('divmod(8,3) ',divmod(8,3))\n",
    "print('divmod(3,8) ',divmod(3,8))\n",
    "print('divmod(5,5) ',divmod(5,5))\n",
    "\n",
    "#divmod() for floats\n",
    "print('divmod(8.0,3) ',divmod(8.0,3))\n",
    "print('divmod(3,8.0) ',divmod(3,8.0))\n",
    "print('divmod(3,8.0) ',divmod(7.5,2.5))\n",
    "print('divmod(2.6,0.5) ',divmod(2.6,0.5))"
   ]
  },
  {
   "cell_type": "code",
   "execution_count": 18,
   "metadata": {},
   "outputs": [],
   "source": [
    "####################### BLANK ################################"
   ]
  },
  {
   "cell_type": "code",
   "execution_count": 19,
   "metadata": {},
   "outputs": [],
   "source": [
    "### enumerate() method ### adds counter to an iterable and returs it(the enumerate object)\n",
    "#takes 2 paramters\n",
    "# iterable - a sequence, an iterator, or objects that supports iteration\n",
    "# start (optional) - enumerate() starts counting from this number. If start is omitted, 0 is taken as start."
   ]
  },
  {
   "cell_type": "code",
   "execution_count": 20,
   "metadata": {},
   "outputs": [
    {
     "name": "stdout",
     "output_type": "stream",
     "text": [
      "<class 'enumerate'>\n",
      "[(0, 'milk'), (1, 'butter'), (2, 'jam')]\n",
      "[(21, 'milk'), (22, 'butter'), (23, 'jam')]\n"
     ]
    }
   ],
   "source": [
    "grocery = ['milk', 'butter', 'jam']\n",
    "enumerate_grocery = enumerate(grocery)\n",
    "print(type(enumerate_grocery))\n",
    "\n",
    "#converting to list\n",
    "print(list(enumerate_grocery))\n",
    "\n",
    "#changing the default counter that is 0\n",
    "changed_grocery = enumerate(grocery, 21)\n",
    "print(list(changed_grocery))"
   ]
  },
  {
   "cell_type": "code",
   "execution_count": 21,
   "metadata": {},
   "outputs": [
    {
     "name": "stdout",
     "output_type": "stream",
     "text": [
      "(0, 'milk')\n",
      "(1, 'butter')\n",
      "(2, 'jam')\n",
      "\n",
      "\n",
      "11 milk\n",
      "12 butter\n",
      "13 jam\n"
     ]
    }
   ],
   "source": [
    "#Looping over an Enumerate Object\n",
    "grocery1 = ['milk', 'butter', 'jam']\n",
    "\n",
    "for item in enumerate(grocery):\n",
    "    print(item)\n",
    "    \n",
    "print('\\n')\n",
    "for count, item in enumerate(grocery, 11): # changing the counter\n",
    "    print(count, item)\n",
    "    "
   ]
  },
  {
   "cell_type": "code",
   "execution_count": 22,
   "metadata": {},
   "outputs": [],
   "source": [
    "####################### BLANK ################################"
   ]
  },
  {
   "cell_type": "code",
   "execution_count": 23,
   "metadata": {},
   "outputs": [],
   "source": [
    "### eval() method ### parses the expression passed to this method and runs the python expression(code) within the program\n",
    "#takes 3 arguments\n",
    "#eval(expression, globals=None, locals=None)\n",
    "#expression - expression to be evaluated\n",
    "#globals - dictionary(optional)\n",
    "#locals (optional) - a mapping object. Dictionary is the standard and commonly used mapping type in python"
   ]
  },
  {
   "cell_type": "code",
   "execution_count": 25,
   "metadata": {},
   "outputs": [
    {
     "name": "stdout",
     "output_type": "stream",
     "text": [
      "2\n"
     ]
    }
   ],
   "source": [
    "x = 1\n",
    "print(eval('x+1'))"
   ]
  },
  {
   "cell_type": "code",
   "execution_count": 28,
   "metadata": {},
   "outputs": [
    {
     "name": "stdout",
     "output_type": "stream",
     "text": [
      "Type a function:  calculatePerimeter(l)\n",
      "If length is  1 , Perimeter =  4\n",
      "If length is  2 , Perimeter =  8\n",
      "If length is  3 , Perimeter =  12\n",
      "If length is  4 , Perimeter =  16\n"
     ]
    }
   ],
   "source": [
    "#Practical Example of using eval()\n",
    "# Perimeter of Square\n",
    "def calculatePerimeter(l):\n",
    "    return 4*l\n",
    "\n",
    "# Area of Square\n",
    "def calculateArea(l):\n",
    "    return l*1\n",
    "\n",
    "property = input(\"Type a function: \")\n",
    "\n",
    "for l in range(1, 5):\n",
    "    if (property == 'calculatePerimeter(l)'):\n",
    "        print(\"If length is \", l , \", Perimeter = \", eval(property))\n",
    "    elif (property == 'calculateArea(l)'):\n",
    "\t    print(\"If length is \", l , \", Area = \", eval(property))\n",
    "    else:\n",
    "        print('Wrong Function')\n",
    "        break"
   ]
  },
  {
   "cell_type": "code",
   "execution_count": 29,
   "metadata": {},
   "outputs": [
    {
     "name": "stdout",
     "output_type": "stream",
     "text": [
      "['In', 'Out', 'Person', '_', '__', '___', '__builtin__', '__builtins__', '__doc__', '__loader__', '__name__', '__package__', '__spec__', '_dh', '_i', '_i1', '_i10', '_i11', '_i12', '_i13', '_i14', '_i15', '_i16', '_i17', '_i18', '_i19', '_i2', '_i20', '_i21', '_i22', '_i23', '_i24', '_i25', '_i26', '_i27', '_i28', '_i29', '_i3', '_i4', '_i5', '_i6', '_i7', '_i8', '_i9', '_ih', '_ii', '_iii', '_oh', 'acos', 'acosh', 'asin', 'asinh', 'atan', 'atan2', 'atanh', 'calculateArea', 'calculatePerimeter', 'ceil', 'changed_grocery', 'copysign', 'cos', 'cosh', 'count', 'degrees', 'e', 'enumerate_grocery', 'erf', 'erfc', 'exit', 'exp', 'expm1', 'fabs', 'factorial', 'floor', 'fmod', 'frexp', 'fsum', 'gamma', 'gcd', 'get_ipython', 'grocery', 'grocery1', 'hypot', 'inf', 'isclose', 'isfinite', 'isinf', 'isnan', 'item', 'l', 'ldexp', 'lgamma', 'log', 'log10', 'log1p', 'log2', 'modf', 'nan', 'number_list', 'person', 'person1', 'person2', 'person3', 'person4', 'pi', 'pow', 'property', 'quit', 'radians', 'sin', 'sinh', 'sqrt', 'tan', 'tanh', 'tau', 'teacher', 'trunc', 'x']\n"
     ]
    }
   ],
   "source": [
    "#chacking the available methods user can run using eval\n",
    "from math import *\n",
    "print(eval('dir()'))"
   ]
  },
  {
   "cell_type": "code",
   "execution_count": 30,
   "metadata": {},
   "outputs": [],
   "source": [
    "# When both globals and locals areignored, eval() will execute in the current scope"
   ]
  },
  {
   "cell_type": "code",
   "execution_count": 31,
   "metadata": {},
   "outputs": [
    {
     "name": "stdout",
     "output_type": "stream",
     "text": [
      "['__builtins__']\n"
     ]
    }
   ],
   "source": [
    "#Passing globals parameter; locals parameter is omitted\n",
    "#If the locals dictionary is omitted, it defaults to globals dictionary. Meaning, globals will be used for both global and local variables.\n",
    "from math import *\n",
    "print(eval('dir()', {}))\n",
    "\n",
    "# The code below will raise an exception\n",
    "# print(eval('sqrt(25)', {}))\n",
    "#If you pass an empty dictionary as globals, only the __builtins__ are available to expression (first parameter to the eval()).\n",
    "#Even though we have imported math module in the above program, expression can't access none of the functions provided by the math module.\n"
   ]
  },
  {
   "cell_type": "code",
   "execution_count": 32,
   "metadata": {},
   "outputs": [
    {
     "name": "stdout",
     "output_type": "stream",
     "text": [
      "['__builtins__', 'pow', 'sqtr']\n"
     ]
    }
   ],
   "source": [
    "#Making Certain Methods available\n",
    "from math import *\n",
    "print(eval('dir()', {'sqtr': sqrt, 'pow': pow}))\n",
    "#Here, the expression can also use sqrt() and pow() methods along with __builtins__."
   ]
  },
  {
   "cell_type": "code",
   "execution_count": 35,
   "metadata": {},
   "outputs": [
    {
     "name": "stdout",
     "output_type": "stream",
     "text": [
      "3.0\n"
     ]
    }
   ],
   "source": [
    "# aslo we can chnage the names of the functions\n",
    "from math import *\n",
    "print(eval('square_root(9)', {'square_root':sqrt, 'pow': pow}))"
   ]
  },
  {
   "cell_type": "code",
   "execution_count": 36,
   "metadata": {},
   "outputs": [],
   "source": [
    "#Restricting the use of Builtin\n",
    "eval(expression, {'__builtins__': None})"
   ]
  },
  {
   "cell_type": "code",
   "execution_count": null,
   "metadata": {},
   "outputs": [],
   "source": [
    "#passing both globals and locals dictionary\n",
    "#In this program, the expression (first parameter to the eval) can have sqrt() method and variable a only. \n",
    "#All other methods and variables are unavailable.\n",
    "from math import *\n",
    "a=5\n",
    "print(eval('sqrt(a)', {'__builtins__': None}, {'a': a, 'sqrt': sqrt}))"
   ]
  },
  {
   "cell_type": "code",
   "execution_count": 37,
   "metadata": {},
   "outputs": [],
   "source": [
    "####################### BLANK ################################"
   ]
  },
  {
   "cell_type": "code",
   "execution_count": 39,
   "metadata": {},
   "outputs": [],
   "source": [
    "### exec() method ### executes the dynamically created program which is either a string or a code object\n",
    "# Takes 3 parameters\n",
    "# Object - String or code to be executed\n",
    "# globals - dictionary (optional)\n",
    "# locals - a mapping object (dictionary is the commonly used mapping type in python)\n",
    "# Exec doesn't return any value, it returns None"
   ]
  },
  {
   "cell_type": "code",
   "execution_count": 42,
   "metadata": {},
   "outputs": [
    {
     "name": "stdout",
     "output_type": "stream",
     "text": [
      "sum 11\n"
     ]
    }
   ],
   "source": [
    "program = 'a=5\\nb=6\\nprint(\"sum\", a+b)'\n",
    "exec(program)"
   ]
  },
  {
   "cell_type": "code",
   "execution_count": null,
   "metadata": {},
   "outputs": [],
   "source": [
    "#other propoerties are similar to the above eval() method\n",
    "#It's important to note that, exec() executes the code and doesn't return any value (returns None).\n",
    "#Hence, you cannot use return and yield statements outside of the function definitions."
   ]
  },
  {
   "cell_type": "code",
   "execution_count": 43,
   "metadata": {},
   "outputs": [],
   "source": [
    "####################### BLANK ################################"
   ]
  },
  {
   "cell_type": "code",
   "execution_count": 44,
   "metadata": {},
   "outputs": [],
   "source": [
    "### filter() method ### constrcts an iterator from elements of an iterable for which a function returns True\n",
    "#syntax: filter(function, iterable)\n",
    "# when function is None => (element for element in iterable if element)"
   ]
  },
  {
   "cell_type": "code",
   "execution_count": 45,
   "metadata": {},
   "outputs": [
    {
     "name": "stdout",
     "output_type": "stream",
     "text": [
      "Identified vowels are: \n",
      "i\n",
      "e\n",
      "a\n",
      "u\n"
     ]
    }
   ],
   "source": [
    "alphabets = ['d', 'h', 'i', 'n', 'e', 's', 'h','k', 'a', 'n', 'u']\n",
    "\n",
    "#function to filter vowels\n",
    "def filter_vowels(alphabet):\n",
    "    vowels = ['a','e', 'i', 'o', 'u']\n",
    "    \n",
    "    if alphabet in vowels:\n",
    "        return True\n",
    "    else:\n",
    "        return False\n",
    "    \n",
    "output  = filter(filter_vowels, alphabets)\n",
    "\n",
    "print('Identified vowels are: ')\n",
    "for vowel in output:\n",
    "    print(vowel)"
   ]
  },
  {
   "cell_type": "code",
   "execution_count": 46,
   "metadata": {},
   "outputs": [
    {
     "data": {
      "text/plain": [
       "['i', 'e', 'a', 'u']"
      ]
     },
     "execution_count": 46,
     "metadata": {},
     "output_type": "execute_result"
    }
   ],
   "source": [
    "#another simple technique using list comprehension\n",
    "[sample for sample in alphabets if sample in ('a', 'e', 'i', 'o', 'u')]"
   ]
  },
  {
   "cell_type": "code",
   "execution_count": 47,
   "metadata": {},
   "outputs": [
    {
     "name": "stdout",
     "output_type": "stream",
     "text": [
      "THe output is:\n",
      "1\n",
      "a\n",
      "sample\n",
      "True\n"
     ]
    }
   ],
   "source": [
    "#How to filter methods works with out any filter function (that is None)\n",
    "random_list = [1,'a', 0, 'sample', False, 0, True]\n",
    "\n",
    "filtered_list = filter(None, random_list)\n",
    "\n",
    "print(\"THe output is:\")\n",
    "for value in filtered_list:\n",
    "    print(value)# THis will print the values that are only truthy"
   ]
  },
  {
   "cell_type": "code",
   "execution_count": 48,
   "metadata": {},
   "outputs": [],
   "source": [
    "####################### BLANK ################################"
   ]
  },
  {
   "cell_type": "code",
   "execution_count": 50,
   "metadata": {},
   "outputs": [],
   "source": [
    "### float() method ### returns a floating point number from a number or a string\n",
    "#syntax : float([x]) . If it's a string, the string should contain decimal points\n",
    "# Returns 0.0 if no argument is passed"
   ]
  },
  {
   "cell_type": "code",
   "execution_count": 56,
   "metadata": {},
   "outputs": [
    {
     "name": "stdout",
     "output_type": "stream",
     "text": [
      "10.0\n",
      "11.22\n",
      "8.0\n",
      "-13.33\n",
      "-24.24\n"
     ]
    },
    {
     "ename": "ValueError",
     "evalue": "could not convert string to float: 'abc'",
     "output_type": "error",
     "traceback": [
      "\u001b[1;31m---------------------------------------------------------------------------\u001b[0m",
      "\u001b[1;31mValueError\u001b[0m                                Traceback (most recent call last)",
      "\u001b[1;32m<ipython-input-56-ed7a28bdbd57>\u001b[0m in \u001b[0;36m<module>\u001b[1;34m()\u001b[0m\n\u001b[0;32m      4\u001b[0m \u001b[0mprint\u001b[0m\u001b[1;33m(\u001b[0m\u001b[0mfloat\u001b[0m\u001b[1;33m(\u001b[0m\u001b[1;34m\"-13.33\"\u001b[0m\u001b[1;33m)\u001b[0m\u001b[1;33m)\u001b[0m\u001b[1;33m\u001b[0m\u001b[0m\n\u001b[0;32m      5\u001b[0m \u001b[0mprint\u001b[0m\u001b[1;33m(\u001b[0m\u001b[0mfloat\u001b[0m\u001b[1;33m(\u001b[0m\u001b[1;34m\"    -24.24\\n\"\u001b[0m\u001b[1;33m)\u001b[0m\u001b[1;33m)\u001b[0m \u001b[1;31m#additional white spaces will be trimmed\u001b[0m\u001b[1;33m\u001b[0m\u001b[0m\n\u001b[1;32m----> 6\u001b[1;33m \u001b[0mprint\u001b[0m\u001b[1;33m(\u001b[0m\u001b[0mfloat\u001b[0m\u001b[1;33m(\u001b[0m\u001b[1;34m\"abc\"\u001b[0m\u001b[1;33m)\u001b[0m\u001b[1;33m)\u001b[0m\u001b[1;33m\u001b[0m\u001b[0m\n\u001b[0m",
      "\u001b[1;31mValueError\u001b[0m: could not convert string to float: 'abc'"
     ]
    }
   ],
   "source": [
    "print(float(10))\n",
    "print(float(11.22))\n",
    "print(float(\"8\"))\n",
    "print(float(\"-13.33\"))\n",
    "print(float(\"    -24.24\\n\")) #additional white spaces will be trimmed\n",
    "print(float(\"abc\"))"
   ]
  },
  {
   "cell_type": "code",
   "execution_count": 60,
   "metadata": {},
   "outputs": [
    {
     "name": "stdout",
     "output_type": "stream",
     "text": [
      "nan\n",
      "nan\n",
      "inf\n",
      "inf\n",
      "inf\n",
      "inf\n"
     ]
    }
   ],
   "source": [
    "#for NaN\n",
    "print(float(\"nan\"))\n",
    "print(float(\"NaN\"))\n",
    "\n",
    "#for inf/infinity\n",
    "print(float(\"inf\"))\n",
    "print(float(\"InF\"))\n",
    "print(float(\"InfiNity\"))\n",
    "print(float(\"infinity\"))"
   ]
  },
  {
   "cell_type": "code",
   "execution_count": 61,
   "metadata": {},
   "outputs": [],
   "source": [
    "####################### BLANK ################################"
   ]
  },
  {
   "cell_type": "code",
   "execution_count": 62,
   "metadata": {},
   "outputs": [],
   "source": [
    "### format() method ### returns the formaated representation of the given value by the format specifier\n",
    "#similar to String format() method. Internally will call __format__() method of an object"
   ]
  },
  {
   "cell_type": "code",
   "execution_count": 69,
   "metadata": {},
   "outputs": [
    {
     "name": "stdout",
     "output_type": "stream",
     "text": [
      "\n"
     ]
    }
   ],
   "source": [
    "#The format specifier could be in the format:\n",
    "\"\"\"\n",
    "[[fill]align][sign][#][0][width][,][.precision][type]\n",
    "where, the options are\n",
    "fill        ::=  any character\n",
    "align       ::=  \"<\" | \">\" | \"=\" | \"^\"\n",
    "sign        ::=  \"+\" | \"-\" | \" \"\n",
    "width       ::=  integer\n",
    "precision   ::=  integer\n",
    "type        ::=  \"b\" | \"c\" | \"d\" | \"e\" | \"E\" | \"f\" | \"F\" | \"g\" | \"G\" | \"n\" | \"o\" | \"s\" | \"x\" | \"X\" | \"%\"\n",
    "\"\"\""
   ]
  },
  {
   "cell_type": "code",
   "execution_count": 68,
   "metadata": {},
   "outputs": [
    {
     "name": "stdout",
     "output_type": "stream",
     "text": [
      "123\n",
      "123.540000\n",
      "1100\n"
     ]
    }
   ],
   "source": [
    "#d, f, and b are types\n",
    "\n",
    "print(format(123, \"d\"))\n",
    "print(format(123.54, \"f\"))\n",
    "print(format(12, \"b\"))"
   ]
  },
  {
   "cell_type": "code",
   "execution_count": 70,
   "metadata": {},
   "outputs": [
    {
     "name": "stdout",
     "output_type": "stream",
     "text": [
      "***+123\n"
     ]
    }
   ],
   "source": [
    "#Number formatting with fill, align, sign, width, precision and type\n",
    "print(format(123, \"*>+7,d\"))"
   ]
  },
  {
   "cell_type": "code",
   "execution_count": 71,
   "metadata": {},
   "outputs": [
    {
     "name": "stdout",
     "output_type": "stream",
     "text": [
      "0123.4570\n"
     ]
    }
   ],
   "source": [
    "print(format(123.4567, \"^-09.3f\"))"
   ]
  },
  {
   "cell_type": "code",
   "execution_count": 72,
   "metadata": {},
   "outputs": [
    {
     "name": "stdout",
     "output_type": "stream",
     "text": [
      "23\n"
     ]
    }
   ],
   "source": [
    "#using format() by overriding __format__()\n",
    "class Person:\n",
    "    def __format__(self, format):\n",
    "        if(format == 'age'):\n",
    "            return '23'\n",
    "        return 'None'\n",
    "    \n",
    "print(format(Person(), 'age'))"
   ]
  },
  {
   "cell_type": "code",
   "execution_count": 73,
   "metadata": {},
   "outputs": [],
   "source": [
    "####################### BLANK ################################"
   ]
  },
  {
   "cell_type": "code",
   "execution_count": 76,
   "metadata": {},
   "outputs": [],
   "source": [
    "### frozenset() method ### returns an immutable frozenset object initialized with elements from the given iterable\n",
    "#Frozen set is just an immutable version of a Python set object. \n",
    "#Due to this, frozen sets can be used as key in Dictionary or as element of another set. \n",
    "#But like sets, it is not ordered (the elements can be set at any index).\n",
    "#If no parameters are passed, it returns an empty frozenset."
   ]
  },
  {
   "cell_type": "code",
   "execution_count": 81,
   "metadata": {},
   "outputs": [
    {
     "name": "stdout",
     "output_type": "stream",
     "text": [
      "frozenset({'a', 'e', 'u', 'i', 'o'})\n",
      "frozenset({'a', 'e', 'u', 'i', 'o'})\n"
     ]
    }
   ],
   "source": [
    "vowels = ('a', 'u','e', 'i', 'o', 'o', 'u') \n",
    "\n",
    "fset = frozenset(vowels)#duplicates will be removed sicne it is a set\n",
    "print(fset)\n",
    "fest = ('a', 'u','e')\n",
    "print(fset) #can not be changed. Only previous value will be printed"
   ]
  },
  {
   "cell_type": "code",
   "execution_count": 82,
   "metadata": {},
   "outputs": [
    {
     "name": "stdout",
     "output_type": "stream",
     "text": [
      "frozenset({'name', 'age', 'sex'})\n"
     ]
    }
   ],
   "source": [
    "#frozenset() for Dictionary\n",
    "person = {\"name\": \"John\", \"age\": 23, \"sex\": \"male\"}\n",
    "fset = frozenset(person)\n",
    "print(fset)"
   ]
  },
  {
   "cell_type": "code",
   "execution_count": null,
   "metadata": {},
   "outputs": [],
   "source": [
    "####################### BLANK ################################"
   ]
  },
  {
   "cell_type": "code",
   "execution_count": 83,
   "metadata": {},
   "outputs": [],
   "source": [
    "### getattr() method ### returns the value of the namesd attributes of an object\n",
    "#if not found, it returns the default value provided to the function\n",
    "#AttributeError exception, if named attribute is not found and default is not defined"
   ]
  },
  {
   "cell_type": "code",
   "execution_count": 84,
   "metadata": {},
   "outputs": [
    {
     "name": "stdout",
     "output_type": "stream",
     "text": [
      "The age is  3\n",
      "The age is  3\n"
     ]
    }
   ],
   "source": [
    "class Person:\n",
    "    name = \"kanu\"\n",
    "    age = \"3\"\n",
    "    \n",
    "person = Person()\n",
    "print('The age is ', getattr(person, \"age\"))\n",
    "print('The age is ', person.age)"
   ]
  },
  {
   "cell_type": "code",
   "execution_count": 85,
   "metadata": {},
   "outputs": [
    {
     "name": "stdout",
     "output_type": "stream",
     "text": [
      "School name is  Prodigy\n"
     ]
    }
   ],
   "source": [
    "#with default values\n",
    "print('School name is ', getattr(person, \"school\", \"Prodigy\"))"
   ]
  },
  {
   "cell_type": "code",
   "execution_count": 86,
   "metadata": {},
   "outputs": [],
   "source": [
    "####################### BLANK ################################"
   ]
  },
  {
   "cell_type": "code",
   "execution_count": 87,
   "metadata": {},
   "outputs": [],
   "source": [
    "### globals() method ### returns the dictionary of the current global object"
   ]
  },
  {
   "cell_type": "code",
   "execution_count": 88,
   "metadata": {},
   "outputs": [
    {
     "data": {
      "text/plain": [
       "'\\nA symbol table is a data structure maintained by a compiler which contains all necessary information about the program.\\n\\nThese include variable names, methods, classes, etc.\\n\\nThere are mainly two kinds of symbol table.\\n\\nLocal symbol table\\nGlobal symbol table\\nLocal symbol table stores all information related to the local scope of the program, and is accessed in Python using locals() method.\\n\\nThe local scope could be within a function, within a class, etc.\\n\\nLikewise, a Global symbol table stores all information related to the global scope of the program, and is accessed in Python using globals() method.\\n\\nThe global scope contains all functions, variables which are not associated to any class or function.\\n'"
      ]
     },
     "execution_count": 88,
     "metadata": {},
     "output_type": "execute_result"
    }
   ],
   "source": [
    "\"\"\"\n",
    "A symbol table is a data structure maintained by a compiler which contains all necessary information about the program.\n",
    "\n",
    "These include variable names, methods, classes, etc.\n",
    "\n",
    "There are mainly two kinds of symbol table.\n",
    "\n",
    "Local symbol table\n",
    "Global symbol table\n",
    "Local symbol table stores all information related to the local scope of the program, and is accessed in Python using locals() method.\n",
    "\n",
    "The local scope could be within a function, within a class, etc.\n",
    "\n",
    "Likewise, a Global symbol table stores all information related to the global scope of the program, and is accessed in Python using globals() method.\n",
    "\n",
    "The global scope contains all functions, variables which are not associated to any class or function.\n",
    "\"\"\""
   ]
  },
  {
   "cell_type": "code",
   "execution_count": 90,
   "metadata": {},
   "outputs": [],
   "source": [
    "globals() #it will be a huge list so execute to see if you need it"
   ]
  },
  {
   "cell_type": "code",
   "execution_count": 91,
   "metadata": {},
   "outputs": [
    {
     "name": "stdout",
     "output_type": "stream",
     "text": [
      "THe age is  45\n"
     ]
    }
   ],
   "source": [
    "# Modifying global variable using globals(). It changes in the global symbol table as well\n",
    "age = 23\n",
    "globals()['age'] = 45\n",
    "print('THe age is ', age)"
   ]
  },
  {
   "cell_type": "code",
   "execution_count": 92,
   "metadata": {},
   "outputs": [],
   "source": [
    "####################### BLANK ################################"
   ]
  },
  {
   "cell_type": "code",
   "execution_count": 93,
   "metadata": {},
   "outputs": [],
   "source": [
    "### hasattr() method ### returns True if the object has the given named attribute else False"
   ]
  },
  {
   "cell_type": "code",
   "execution_count": 94,
   "metadata": {},
   "outputs": [
    {
     "name": "stdout",
     "output_type": "stream",
     "text": [
      "Do we have age ? True\n",
      "Do we have school name ? False\n"
     ]
    }
   ],
   "source": [
    "class Person:\n",
    "    name = \"kanu\"\n",
    "    age = \"3\"\n",
    "    \n",
    "person = Person()\n",
    "print(\"Do we have age ?\", hasattr(person, 'age'))\n",
    "print('Do we have school name ?', hasattr(person, 'school'))"
   ]
  },
  {
   "cell_type": "code",
   "execution_count": 95,
   "metadata": {},
   "outputs": [],
   "source": [
    "####################### BLANK ################################"
   ]
  },
  {
   "cell_type": "code",
   "execution_count": 96,
   "metadata": {},
   "outputs": [],
   "source": [
    "### hash() method ### returns the hash value of an object if it has one"
   ]
  },
  {
   "cell_type": "code",
   "execution_count": 97,
   "metadata": {},
   "outputs": [],
   "source": [
    "#Hash values are just integers which are used to compare dictionary keys during a dictionary lookup quickl\n",
    "#nternally, hash() method calls __hash__() method of an object which are set by default for any object. "
   ]
  },
  {
   "cell_type": "code",
   "execution_count": 100,
   "metadata": {},
   "outputs": [
    {
     "name": "stdout",
     "output_type": "stream",
     "text": [
      "181\n",
      "530343892119126197\n",
      "-2797191891453798832\n"
     ]
    }
   ],
   "source": [
    "#hash for integer unchanged\n",
    "print(hash(181))\n",
    "#hash for float\n",
    "print(hash(181.23))\n",
    "#hash for string\n",
    "print(hash('python'))"
   ]
  },
  {
   "cell_type": "code",
   "execution_count": 101,
   "metadata": {},
   "outputs": [
    {
     "name": "stdout",
     "output_type": "stream",
     "text": [
      "-1904845320437294080\n"
     ]
    }
   ],
   "source": [
    "# hash() for immutable tuple object\n",
    "vowels = ('a', 'b', 'c', 'd')\n",
    "print(hash(vowels))"
   ]
  },
  {
   "cell_type": "code",
   "execution_count": 103,
   "metadata": {},
   "outputs": [],
   "source": [
    "#custom hash implementation\n",
    "#__hash__() should always return an integer\n",
    "#both __eq__() and __hash__() methods have to be implemented"
   ]
  },
  {
   "cell_type": "code",
   "execution_count": null,
   "metadata": {},
   "outputs": [],
   "source": [
    "# check the URL https://www.programiz.com/python-programming/methods/built-in/hash for the corect combination of __eq__() and __hash__() method combinations"
   ]
  },
  {
   "cell_type": "code",
   "execution_count": 108,
   "metadata": {},
   "outputs": [
    {
     "name": "stdout",
     "output_type": "stream",
     "text": [
      "The hash is:\n",
      "-3217839137487158160\n"
     ]
    }
   ],
   "source": [
    "class Person:\n",
    "    def __init__(self, age, name):\n",
    "        self.name = name\n",
    "        self.age = age\n",
    "        \n",
    "#     def __eq__(self, other):\n",
    "#         return self.age == other.age and self.name == other.name\n",
    "    \n",
    "    def __hash__(self):\n",
    "        print('The hash is:')\n",
    "        return hash((self.age, self.name))\n",
    "    \n",
    "person = Person(23, \"kanu\")\n",
    "print(hash(person))"
   ]
  },
  {
   "cell_type": "code",
   "execution_count": 109,
   "metadata": {},
   "outputs": [],
   "source": [
    "#Note: You don't have to implement the __eq__() method for the hash as it is created by default for all objects."
   ]
  },
  {
   "cell_type": "code",
   "execution_count": 110,
   "metadata": {},
   "outputs": [],
   "source": [
    "####################### BLANK ################################"
   ]
  },
  {
   "cell_type": "code",
   "execution_count": 111,
   "metadata": {},
   "outputs": [],
   "source": [
    "### help() method ### calls the builtin python help system\n",
    "#syntax: help(object)"
   ]
  },
  {
   "cell_type": "code",
   "execution_count": 112,
   "metadata": {},
   "outputs": [
    {
     "name": "stdout",
     "output_type": "stream",
     "text": [
      "Help on class list in module builtins:\n",
      "\n",
      "class list(object)\n",
      " |  list() -> new empty list\n",
      " |  list(iterable) -> new list initialized from iterable's items\n",
      " |  \n",
      " |  Methods defined here:\n",
      " |  \n",
      " |  __add__(self, value, /)\n",
      " |      Return self+value.\n",
      " |  \n",
      " |  __contains__(self, key, /)\n",
      " |      Return key in self.\n",
      " |  \n",
      " |  __delitem__(self, key, /)\n",
      " |      Delete self[key].\n",
      " |  \n",
      " |  __eq__(self, value, /)\n",
      " |      Return self==value.\n",
      " |  \n",
      " |  __ge__(self, value, /)\n",
      " |      Return self>=value.\n",
      " |  \n",
      " |  __getattribute__(self, name, /)\n",
      " |      Return getattr(self, name).\n",
      " |  \n",
      " |  __getitem__(...)\n",
      " |      x.__getitem__(y) <==> x[y]\n",
      " |  \n",
      " |  __gt__(self, value, /)\n",
      " |      Return self>value.\n",
      " |  \n",
      " |  __iadd__(self, value, /)\n",
      " |      Implement self+=value.\n",
      " |  \n",
      " |  __imul__(self, value, /)\n",
      " |      Implement self*=value.\n",
      " |  \n",
      " |  __init__(self, /, *args, **kwargs)\n",
      " |      Initialize self.  See help(type(self)) for accurate signature.\n",
      " |  \n",
      " |  __iter__(self, /)\n",
      " |      Implement iter(self).\n",
      " |  \n",
      " |  __le__(self, value, /)\n",
      " |      Return self<=value.\n",
      " |  \n",
      " |  __len__(self, /)\n",
      " |      Return len(self).\n",
      " |  \n",
      " |  __lt__(self, value, /)\n",
      " |      Return self<value.\n",
      " |  \n",
      " |  __mul__(self, value, /)\n",
      " |      Return self*value.n\n",
      " |  \n",
      " |  __ne__(self, value, /)\n",
      " |      Return self!=value.\n",
      " |  \n",
      " |  __new__(*args, **kwargs) from builtins.type\n",
      " |      Create and return a new object.  See help(type) for accurate signature.\n",
      " |  \n",
      " |  __repr__(self, /)\n",
      " |      Return repr(self).\n",
      " |  \n",
      " |  __reversed__(...)\n",
      " |      L.__reversed__() -- return a reverse iterator over the list\n",
      " |  \n",
      " |  __rmul__(self, value, /)\n",
      " |      Return self*value.\n",
      " |  \n",
      " |  __setitem__(self, key, value, /)\n",
      " |      Set self[key] to value.\n",
      " |  \n",
      " |  __sizeof__(...)\n",
      " |      L.__sizeof__() -- size of L in memory, in bytes\n",
      " |  \n",
      " |  append(...)\n",
      " |      L.append(object) -> None -- append object to end\n",
      " |  \n",
      " |  clear(...)\n",
      " |      L.clear() -> None -- remove all items from L\n",
      " |  \n",
      " |  copy(...)\n",
      " |      L.copy() -> list -- a shallow copy of L\n",
      " |  \n",
      " |  count(...)\n",
      " |      L.count(value) -> integer -- return number of occurrences of value\n",
      " |  \n",
      " |  extend(...)\n",
      " |      L.extend(iterable) -> None -- extend list by appending elements from the iterable\n",
      " |  \n",
      " |  index(...)\n",
      " |      L.index(value, [start, [stop]]) -> integer -- return first index of value.\n",
      " |      Raises ValueError if the value is not present.\n",
      " |  \n",
      " |  insert(...)\n",
      " |      L.insert(index, object) -- insert object before index\n",
      " |  \n",
      " |  pop(...)\n",
      " |      L.pop([index]) -> item -- remove and return item at index (default last).\n",
      " |      Raises IndexError if list is empty or index is out of range.\n",
      " |  \n",
      " |  remove(...)\n",
      " |      L.remove(value) -> None -- remove first occurrence of value.\n",
      " |      Raises ValueError if the value is not present.\n",
      " |  \n",
      " |  reverse(...)\n",
      " |      L.reverse() -- reverse *IN PLACE*\n",
      " |  \n",
      " |  sort(...)\n",
      " |      L.sort(key=None, reverse=False) -> None -- stable sort *IN PLACE*\n",
      " |  \n",
      " |  ----------------------------------------------------------------------\n",
      " |  Data and other attributes defined here:\n",
      " |  \n",
      " |  __hash__ = None\n",
      "\n"
     ]
    }
   ],
   "source": [
    "help(list)"
   ]
  },
  {
   "cell_type": "code",
   "execution_count": 113,
   "metadata": {},
   "outputs": [
    {
     "name": "stdout",
     "output_type": "stream",
     "text": [
      "Help on built-in function print in module builtins:\n",
      "\n",
      "print(...)\n",
      "    print(value, ..., sep=' ', end='\\n', file=sys.stdout, flush=False)\n",
      "    \n",
      "    Prints the values to a stream, or to sys.stdout by default.\n",
      "    Optional keyword arguments:\n",
      "    file:  a file-like object (stream); defaults to the current sys.stdout.\n",
      "    sep:   string inserted between values, default a space.\n",
      "    end:   string appended after the last value, default a newline.\n",
      "    flush: whether to forcibly flush the stream.\n",
      "\n"
     ]
    }
   ],
   "source": [
    "# if string is passed as an argument, the given string is looked up as the name of a module, function, class, method , keyword or documentation topic and help page is printed\n",
    "help(print)"
   ]
  },
  {
   "cell_type": "code",
   "execution_count": 114,
   "metadata": {},
   "outputs": [
    {
     "name": "stdout",
     "output_type": "stream",
     "text": [
      "Help on built-in function print in module builtins:\n",
      "\n",
      "print(...)\n",
      "    print(value, ..., sep=' ', end='\\n', file=sys.stdout, flush=False)\n",
      "    \n",
      "    Prints the values to a stream, or to sys.stdout by default.\n",
      "    Optional keyword arguments:\n",
      "    file:  a file-like object (stream); defaults to the current sys.stdout.\n",
      "    sep:   string inserted between values, default a space.\n",
      "    end:   string appended after the last value, default a newline.\n",
      "    flush: whether to forcibly flush the stream.\n",
      "\n"
     ]
    }
   ],
   "source": [
    "help('print')"
   ]
  },
  {
   "cell_type": "code",
   "execution_count": 115,
   "metadata": {},
   "outputs": [],
   "source": [
    "#If no argument is passed, Python's help utility (interactive help system) starts on the console"
   ]
  },
  {
   "cell_type": "code",
   "execution_count": 116,
   "metadata": {},
   "outputs": [],
   "source": [
    "####################### BLANK ################################"
   ]
  },
  {
   "cell_type": "code",
   "execution_count": 117,
   "metadata": {},
   "outputs": [
    {
     "name": "stdout",
     "output_type": "stream",
     "text": [
      "0x1b3\n",
      "0x0\n",
      "-0x22\n",
      "Return type of hex() method:  <class 'str'>\n"
     ]
    }
   ],
   "source": [
    "### hex() method### converts  an integer number to the corresponding hexadecimal string\n",
    "#takes 1 integer argument(or int object , it has to define __index__() method that returns an interger)\n",
    "#The returned hexadecimal string starts with prefix \"0x\" indicating it's in hexadecimal form\n",
    "print(hex(435))\n",
    "print(hex(0))\n",
    "print(hex(-34))\n",
    "print('Return type of hex() method: ', type(hex(124)))"
   ]
  },
  {
   "cell_type": "code",
   "execution_count": 118,
   "metadata": {},
   "outputs": [
    {
     "name": "stdout",
     "output_type": "stream",
     "text": [
      "0x1.519999999999ap+5\n"
     ]
    }
   ],
   "source": [
    "#for floar you need to use float.hex() method\n",
    "print(float.hex(42.2))"
   ]
  },
  {
   "cell_type": "code",
   "execution_count": 119,
   "metadata": {},
   "outputs": [],
   "source": [
    "####################### BLANK ################################"
   ]
  },
  {
   "cell_type": "code",
   "execution_count": 120,
   "metadata": {},
   "outputs": [],
   "source": [
    "### id() method ### returns identity (unique integer) of an object\n",
    "# THis id number is unique for an object and remains constant during it's lifetime"
   ]
  },
  {
   "cell_type": "code",
   "execution_count": 121,
   "metadata": {},
   "outputs": [
    {
     "name": "stdout",
     "output_type": "stream",
     "text": [
      "1759220602640\n"
     ]
    }
   ],
   "source": [
    "class Test:\n",
    "    a = 1\n",
    "    \n",
    "sample_test = Test()\n",
    "print(id(sample_test))"
   ]
  },
  {
   "cell_type": "code",
   "execution_count": 122,
   "metadata": {},
   "outputs": [
    {
     "name": "stdout",
     "output_type": "stream",
     "text": [
      "1481749696\n",
      "1481749696\n",
      "1481749696\n",
      "1759221499824\n"
     ]
    }
   ],
   "source": [
    "print(id(5))\n",
    "a=5\n",
    "print(id(a))\n",
    "b=a\n",
    "print(id(b))\n",
    "print(id(5.0)) #float"
   ]
  },
  {
   "cell_type": "code",
   "execution_count": 123,
   "metadata": {},
   "outputs": [],
   "source": [
    "#since int 5 remains constant during the lifetime, it shows the same id at all the prints\n",
    "# but 5.0 is float and it will have differnt id"
   ]
  },
  {
   "cell_type": "code",
   "execution_count": 124,
   "metadata": {},
   "outputs": [],
   "source": [
    "####################### BLANK ################################"
   ]
  },
  {
   "cell_type": "code",
   "execution_count": 125,
   "metadata": {},
   "outputs": [],
   "source": [
    "### input() method ### reads a line from the input and returns the string form of that\n",
    "#If EOF is read, it raises an EOFError exception."
   ]
  },
  {
   "cell_type": "code",
   "execution_count": 126,
   "metadata": {},
   "outputs": [],
   "source": [
    "#syntax: input([prompt]) - prmopt is a string that will be written to the output with no newline"
   ]
  },
  {
   "cell_type": "code",
   "execution_count": 127,
   "metadata": {},
   "outputs": [
    {
     "name": "stdout",
     "output_type": "stream",
     "text": [
      "Enter your name:  kanu hasini\n",
      "kanu hasini\n"
     ]
    }
   ],
   "source": [
    "input_string = input('Enter your name: ')\n",
    "print(input_string)"
   ]
  },
  {
   "cell_type": "code",
   "execution_count": 128,
   "metadata": {},
   "outputs": [],
   "source": [
    "####################### BLANK ################################"
   ]
  },
  {
   "cell_type": "code",
   "execution_count": 129,
   "metadata": {},
   "outputs": [],
   "source": [
    "### int() method ### returns an integer object from any number or string"
   ]
  },
  {
   "cell_type": "code",
   "execution_count": 130,
   "metadata": {},
   "outputs": [],
   "source": [
    "#syntax; int(x=0, base=10)\n",
    "#base of the number x. can be 0 or 2-36 (default is 10)\n",
    "# if no paramters, int() method will return 0"
   ]
  },
  {
   "cell_type": "code",
   "execution_count": 132,
   "metadata": {},
   "outputs": [
    {
     "name": "stdout",
     "output_type": "stream",
     "text": [
      "45\n",
      "1233\n",
      "123\n"
     ]
    }
   ],
   "source": [
    "print(int(\"45\"))\n",
    "print(int(1233.12))\n",
    "print(int(123))"
   ]
  },
  {
   "cell_type": "code",
   "execution_count": 133,
   "metadata": {},
   "outputs": [
    {
     "name": "stdout",
     "output_type": "stream",
     "text": [
      "10\n",
      "10\n",
      "10\n",
      "10\n",
      "10\n",
      "10\n"
     ]
    }
   ],
   "source": [
    "#how int works for binary, octal, hexadecimal\n",
    "\n",
    "#binary\n",
    "print(int('1010', 2))\n",
    "print(int('0b1010', 2))\n",
    "\n",
    "#octal 0o or 0O\n",
    "print(int('12', 8))\n",
    "print(int('0o12', 8))\n",
    "\n",
    "#hecadecimal 0x\n",
    "print(int('A', 16))\n",
    "print(int('0xA',16))"
   ]
  },
  {
   "cell_type": "code",
   "execution_count": 134,
   "metadata": {},
   "outputs": [],
   "source": [
    "#int() for custom objects\n",
    "#You can do this by overriding the __index__() and __int__() methods of the class to return a number.\n",
    "#These two methods should return the same value as older versions of Python uses __int__(), while newer uses __index__() method."
   ]
  },
  {
   "cell_type": "code",
   "execution_count": 138,
   "metadata": {},
   "outputs": [
    {
     "name": "stdout",
     "output_type": "stream",
     "text": [
      "3\n"
     ]
    }
   ],
   "source": [
    "class Person:\n",
    "    age = 3\n",
    "    \n",
    "    def __index__(self):\n",
    "        return self.age\n",
    "    \n",
    "    def __int__(self):\n",
    "        return self.age\n",
    "    \n",
    "person = Person()\n",
    "print(int(person))"
   ]
  },
  {
   "cell_type": "code",
   "execution_count": null,
   "metadata": {},
   "outputs": [],
   "source": [
    "#invalid values to the int() method will raise ValueError"
   ]
  },
  {
   "cell_type": "code",
   "execution_count": 136,
   "metadata": {},
   "outputs": [
    {
     "ename": "ValueError",
     "evalue": "invalid literal for int() with base 10: 'kanu'",
     "output_type": "error",
     "traceback": [
      "\u001b[1;31m---------------------------------------------------------------------------\u001b[0m",
      "\u001b[1;31mValueError\u001b[0m                                Traceback (most recent call last)",
      "\u001b[1;32m<ipython-input-136-e8a72136dcda>\u001b[0m in \u001b[0;36m<module>\u001b[1;34m()\u001b[0m\n\u001b[1;32m----> 1\u001b[1;33m \u001b[0mint\u001b[0m\u001b[1;33m(\u001b[0m\u001b[1;34m\"kanu\"\u001b[0m\u001b[1;33m)\u001b[0m\u001b[1;33m\u001b[0m\u001b[0m\n\u001b[0m",
      "\u001b[1;31mValueError\u001b[0m: invalid literal for int() with base 10: 'kanu'"
     ]
    }
   ],
   "source": [
    "int(\"kanu\")"
   ]
  },
  {
   "cell_type": "code",
   "execution_count": 1,
   "metadata": {},
   "outputs": [],
   "source": [
    "####################### BLANK ################################"
   ]
  },
  {
   "cell_type": "code",
   "execution_count": 2,
   "metadata": {},
   "outputs": [],
   "source": [
    "### isinstance() method ### Check and return True if the object(first argument) is an instance or subclass of classinfo class (second argument) or any element of tuple"
   ]
  },
  {
   "cell_type": "code",
   "execution_count": 3,
   "metadata": {},
   "outputs": [
    {
     "name": "stdout",
     "output_type": "stream",
     "text": [
      "True\n",
      "False\n",
      "True\n"
     ]
    }
   ],
   "source": [
    "class Foo:\n",
    "    a = 5\n",
    "    \n",
    "foo_instance = Foo()\n",
    "\n",
    "print(isinstance(foo_instance, Foo))\n",
    "print(isinstance(foo_instance, (list, tuple)))\n",
    "print(isinstance(foo_instance, (list, tuple, Foo)))"
   ]
  },
  {
   "cell_type": "code",
   "execution_count": 5,
   "metadata": {},
   "outputs": [
    {
     "name": "stdout",
     "output_type": "stream",
     "text": [
      "True\n",
      "True\n",
      "True\n",
      "True\n"
     ]
    }
   ],
   "source": [
    "#working of sinstance() with Native Types\n",
    "list_value = [1,2]\n",
    "print(isinstance(list_value, list))\n",
    "\n",
    "tuple_value = (1,2,3)\n",
    "print(isinstance(tuple_value, tuple))\n",
    "\n",
    "int_value = 23\n",
    "print(isinstance(int_value, int))\n",
    "\n",
    "float_value = 34.435\n",
    "print(isinstance(float_value, float))"
   ]
  },
  {
   "cell_type": "code",
   "execution_count": null,
   "metadata": {},
   "outputs": [],
   "source": [
    "####################### BLANK ################################"
   ]
  },
  {
   "cell_type": "code",
   "execution_count": 6,
   "metadata": {},
   "outputs": [],
   "source": [
    "### issubclass() method ### checks if the first argument is a subclass of second argument\n",
    "# It's important to note that class is considered a subclass of itself."
   ]
  },
  {
   "cell_type": "code",
   "execution_count": 7,
   "metadata": {},
   "outputs": [
    {
     "name": "stdout",
     "output_type": "stream",
     "text": [
      "True\n",
      "False\n",
      "True\n",
      "True\n"
     ]
    }
   ],
   "source": [
    "class Polygon:\n",
    "    def __init__(polygon_type):\n",
    "        print('Polygon is a ', polygon_type)\n",
    "        \n",
    "class Triangle(Polygon):\n",
    "    def __init__(self):\n",
    "        Polygon.__init__('triangle')\n",
    "        \n",
    "print(issubclass(Triangle, Polygon))\n",
    "print(issubclass(Triangle, list))\n",
    "print(issubclass(Triangle, (Polygon, list)))\n",
    "print(issubclass(Polygon, (list, Polygon)))"
   ]
  },
  {
   "cell_type": "code",
   "execution_count": 8,
   "metadata": {},
   "outputs": [],
   "source": [
    "####################### BLANK ################################"
   ]
  },
  {
   "cell_type": "code",
   "execution_count": 9,
   "metadata": {},
   "outputs": [],
   "source": [
    "### iter() method ### returns an iterator for the given \n",
    "#syntax: iter(object[, sentinel])\n",
    "#sentinerl is an optioanl value that is used to represent the end of sequence"
   ]
  },
  {
   "cell_type": "code",
   "execution_count": 10,
   "metadata": {},
   "outputs": [],
   "source": [
    "# How iter() works for different scenario\n",
    "# 1. Collection object(set, tuple) -> Created iterator for the collection object\n",
    "# 2. User defined object (Custom object) -> Either implement __iter__() and __next__() method, or implment __getitem__() method \n",
    "# 3. User defined object with no __iter__() and __next__() method -> Raises TypeError\n",
    "# 4. Callable Object (with sentinel) -> Returns iterator that calls object with no arguments for each call to its __next__() if sentinel found, raises StpoIteration Exception"
   ]
  },
  {
   "cell_type": "code",
   "execution_count": 11,
   "metadata": {},
   "outputs": [
    {
     "name": "stdout",
     "output_type": "stream",
     "text": [
      "dhinesh\n",
      "kanu\n"
     ]
    }
   ],
   "source": [
    "names = [\"dhinesh\", \"kanu\"]\n",
    "\n",
    "iter_names = iter(names)\n",
    "print(next(iter_names))\n",
    "print(next(iter_names))"
   ]
  },
  {
   "cell_type": "code",
   "execution_count": 14,
   "metadata": {},
   "outputs": [
    {
     "name": "stdout",
     "output_type": "stream",
     "text": [
      "1\n",
      "2\n",
      "3\n",
      "4\n"
     ]
    },
    {
     "ename": "StopIteration",
     "evalue": "",
     "output_type": "error",
     "traceback": [
      "\u001b[1;31m---------------------------------------------------------------------------\u001b[0m",
      "\u001b[1;31mStopIteration\u001b[0m                             Traceback (most recent call last)",
      "\u001b[1;32m<ipython-input-14-fb233503403c>\u001b[0m in \u001b[0;36m<module>\u001b[1;34m()\u001b[0m\n\u001b[0;32m     21\u001b[0m \u001b[0mprint\u001b[0m\u001b[1;33m(\u001b[0m\u001b[0mnext\u001b[0m\u001b[1;33m(\u001b[0m\u001b[0mprint_num\u001b[0m\u001b[1;33m)\u001b[0m\u001b[1;33m)\u001b[0m\u001b[1;33m\u001b[0m\u001b[0m\n\u001b[0;32m     22\u001b[0m \u001b[0mprint\u001b[0m\u001b[1;33m(\u001b[0m\u001b[0mnext\u001b[0m\u001b[1;33m(\u001b[0m\u001b[0mprint_num\u001b[0m\u001b[1;33m)\u001b[0m\u001b[1;33m)\u001b[0m\u001b[1;33m\u001b[0m\u001b[0m\n\u001b[1;32m---> 23\u001b[1;33m \u001b[0mprint\u001b[0m\u001b[1;33m(\u001b[0m\u001b[0mnext\u001b[0m\u001b[1;33m(\u001b[0m\u001b[0mprint_num\u001b[0m\u001b[1;33m)\u001b[0m\u001b[1;33m)\u001b[0m\u001b[1;33m\u001b[0m\u001b[0m\n\u001b[0m",
      "\u001b[1;32m<ipython-input-14-fb233503403c>\u001b[0m in \u001b[0;36m__next__\u001b[1;34m(self)\u001b[0m\n\u001b[0;32m     11\u001b[0m     \u001b[1;32mdef\u001b[0m \u001b[0m__next__\u001b[0m\u001b[1;33m(\u001b[0m\u001b[0mself\u001b[0m\u001b[1;33m)\u001b[0m\u001b[1;33m:\u001b[0m\u001b[1;33m\u001b[0m\u001b[0m\n\u001b[0;32m     12\u001b[0m         \u001b[1;32mif\u001b[0m\u001b[1;33m(\u001b[0m\u001b[0mself\u001b[0m\u001b[1;33m.\u001b[0m\u001b[0mnum\u001b[0m \u001b[1;33m>=\u001b[0m \u001b[0mself\u001b[0m\u001b[1;33m.\u001b[0m\u001b[0mmax\u001b[0m\u001b[1;33m)\u001b[0m\u001b[1;33m:\u001b[0m\u001b[1;33m\u001b[0m\u001b[0m\n\u001b[1;32m---> 13\u001b[1;33m             \u001b[1;32mraise\u001b[0m \u001b[0mStopIteration\u001b[0m\u001b[1;33m\u001b[0m\u001b[0m\n\u001b[0m\u001b[0;32m     14\u001b[0m         \u001b[0mself\u001b[0m\u001b[1;33m.\u001b[0m\u001b[0mnum\u001b[0m \u001b[1;33m+=\u001b[0m \u001b[1;36m1\u001b[0m\u001b[1;33m\u001b[0m\u001b[0m\n\u001b[0;32m     15\u001b[0m         \u001b[1;32mreturn\u001b[0m \u001b[0mself\u001b[0m\u001b[1;33m.\u001b[0m\u001b[0mnum\u001b[0m\u001b[1;33m\u001b[0m\u001b[0m\n",
      "\u001b[1;31mStopIteration\u001b[0m: "
     ]
    }
   ],
   "source": [
    "#iter() method for custom objects\n",
    "\n",
    "class PrintNumber:\n",
    "    def __init__(self, max):\n",
    "        self.max = max\n",
    "        \n",
    "    def __iter__(self):\n",
    "        self.num = 0\n",
    "        return self\n",
    "    \n",
    "    def __next__(self):\n",
    "        if(self.num >= self.max):\n",
    "            raise StopIteration\n",
    "        self.num += 1\n",
    "        return self.num\n",
    "    \n",
    "print_num = PrintNumber(4)\n",
    "print_num_iter = iter(print_num)\n",
    "print(next(print_num))\n",
    "print(next(print_num))\n",
    "print(next(print_num))\n",
    "print(next(print_num))\n",
    "print(next(print_num))"
   ]
  },
  {
   "cell_type": "code",
   "execution_count": null,
   "metadata": {},
   "outputs": [],
   "source": [
    "# how iter() works for callable objects with sentinel"
   ]
  },
  {
   "cell_type": "code",
   "execution_count": null,
   "metadata": {},
   "outputs": [],
   "source": [
    "with open('mydata.txt') as fp:\n",
    "    for line in iter(fp.readline, ''):\n",
    "        processLine(line)"
   ]
  },
  {
   "cell_type": "code",
   "execution_count": 15,
   "metadata": {},
   "outputs": [],
   "source": [
    "####################### BLANK ################################"
   ]
  },
  {
   "cell_type": "code",
   "execution_count": 16,
   "metadata": {},
   "outputs": [],
   "source": [
    "### len() method ### returns the number of items in an object (string, bytes, tuple, list, range)"
   ]
  },
  {
   "cell_type": "code",
   "execution_count": 18,
   "metadata": {},
   "outputs": [
    {
     "name": "stdout",
     "output_type": "stream",
     "text": [
      "0\n",
      "2\n",
      "3\n",
      "9\n"
     ]
    }
   ],
   "source": [
    "testlist = []\n",
    "print(len(testlist))\n",
    "\n",
    "testlist = ['dhinesh', 'kanu']\n",
    "print(len(testlist))\n",
    "\n",
    "test_tuple = (1,2,3)\n",
    "print(len(test_tuple))\n",
    "\n",
    "test_range = range(1,10)\n",
    "print(len(test_range))\n"
   ]
  },
  {
   "cell_type": "code",
   "execution_count": 20,
   "metadata": {},
   "outputs": [
    {
     "name": "stdout",
     "output_type": "stream",
     "text": [
      "4\n",
      "6\n",
      "Byte object from lisr length  2\n"
     ]
    }
   ],
   "source": [
    "#len() with strings\n",
    "\n",
    "test_string= 'kanu'\n",
    "print(len(test_string))\n",
    "\n",
    "#byte object\n",
    "test_byte = b'Python'\n",
    "print(len(test_byte))\n",
    "\n",
    "#converting list to byteobject and checking the length\n",
    "test_list = [1,2]\n",
    "test_bytes = bytes(test_list)\n",
    "print('Byte object from lisr length ', len(test_bytes))"
   ]
  },
  {
   "cell_type": "code",
   "execution_count": 21,
   "metadata": {},
   "outputs": [
    {
     "name": "stdout",
     "output_type": "stream",
     "text": [
      "3\n",
      "0\n",
      "2\n",
      "0\n",
      "2\n"
     ]
    }
   ],
   "source": [
    "#len() with dictionaries and sets\n",
    "test_set = {1,2,3}\n",
    "print(len(test_set))\n",
    "\n",
    "test_set = set() #empty set\n",
    "print(len(test_set))\n",
    "\n",
    "test_dict = {1: 'one', 2: 'two'}\n",
    "print(len(test_dict))\n",
    "\n",
    "test_dict = dict()\n",
    "print(len(test_dict))\n",
    "\n",
    "sample_test = {1,2}\n",
    "frozen_set = frozenset(sample_test)\n",
    "print(len(frozen_set))\n"
   ]
  },
  {
   "cell_type": "code",
   "execution_count": 22,
   "metadata": {},
   "outputs": [],
   "source": [
    "# len() with custom objects - len() method internally calls __len__() method for custom objects"
   ]
  },
  {
   "cell_type": "code",
   "execution_count": 25,
   "metadata": {},
   "outputs": [
    {
     "name": "stdout",
     "output_type": "stream",
     "text": [
      "0\n",
      "2\n"
     ]
    }
   ],
   "source": [
    "class Session:\n",
    "    def __init__(self, number = 0):\n",
    "        self.number = number\n",
    "        \n",
    "    def __len__(self):\n",
    "        return self.number\n",
    "    \n",
    "#default num is 0\n",
    "s1 = Session()\n",
    "print(len(s1))\n",
    "\n",
    "#giving custom length\n",
    "s2 = Session(2)\n",
    "print(len(s2))"
   ]
  },
  {
   "cell_type": "code",
   "execution_count": null,
   "metadata": {},
   "outputs": [],
   "source": [
    "####################### BLANK ################################"
   ]
  },
  {
   "cell_type": "code",
   "execution_count": null,
   "metadata": {},
   "outputs": [],
   "source": [
    "### list() method ### constructor creates a list in python"
   ]
  },
  {
   "cell_type": "code",
   "execution_count": 26,
   "metadata": {},
   "outputs": [
    {
     "name": "stdout",
     "output_type": "stream",
     "text": [
      "[]\n",
      "['k', 'a', 'n', 'u']\n",
      "['h', 'e', 'l', 'l', 'o']\n",
      "['a', 'e', 'i']\n"
     ]
    }
   ],
   "source": [
    "#empty list\n",
    "print(list())\n",
    "\n",
    "#from strings\n",
    "name = \"kanu\"\n",
    "print(list(name))\n",
    "\n",
    "#from tuple\n",
    "names = ('h', 'e', 'l', 'l', 'o')\n",
    "print(list(names))\n",
    "\n",
    "#from list\n",
    "old_list = ['a', 'e', 'i']\n",
    "print(list(old_list))"
   ]
  },
  {
   "cell_type": "code",
   "execution_count": 27,
   "metadata": {},
   "outputs": [
    {
     "name": "stdout",
     "output_type": "stream",
     "text": [
      "['kanu', 'dhinesh']\n",
      "['a', 'b', 'c']\n"
     ]
    }
   ],
   "source": [
    "#create a list from set and dictionary\n",
    "local_set = {'dhinesh', 'kanu'}\n",
    "print(list(local_set))\n",
    "\n",
    "local_dict = {'a': 1, 'b': 2, 'c': 3}\n",
    "print(list(local_dict)) # Keys in the dictionary are used as elements of the returned list. Also, the order in the list is not defined as a sequence."
   ]
  },
  {
   "cell_type": "code",
   "execution_count": 29,
   "metadata": {},
   "outputs": [
    {
     "name": "stdout",
     "output_type": "stream",
     "text": [
      "[1, 2, 4, 8]\n"
     ]
    }
   ],
   "source": [
    "#create a list from custom iterator object\n",
    "\n",
    "class PowTwo:\n",
    "    def __init__(self, max):\n",
    "        self.max = max\n",
    "        \n",
    "    def __iter__(self):\n",
    "        self.num = 0\n",
    "        return self\n",
    "    \n",
    "    def __next__(self):\n",
    "        if(self.num >= self.max):\n",
    "            raise StopIteration\n",
    "        result = 2 ** self.num\n",
    "        self.num += 1\n",
    "        return result\n",
    "    \n",
    "pow_2 = PowTwo(4)\n",
    "pow_2_iter = iter(pow_2)\n",
    "print(list(pow_2_iter))"
   ]
  },
  {
   "cell_type": "code",
   "execution_count": 30,
   "metadata": {},
   "outputs": [],
   "source": [
    "####################### BLANK ################################"
   ]
  },
  {
   "cell_type": "code",
   "execution_count": 31,
   "metadata": {},
   "outputs": [],
   "source": [
    "### locals() method ### updates and returns a dictionary of the current local symbol table\n",
    "#syntax : locals()"
   ]
  },
  {
   "cell_type": "code",
   "execution_count": 33,
   "metadata": {},
   "outputs": [],
   "source": [
    "locals() #it will br a long list of local scope variable and methods. So execute it if required"
   ]
  },
  {
   "cell_type": "code",
   "execution_count": 35,
   "metadata": {},
   "outputs": [
    {
     "name": "stdout",
     "output_type": "stream",
     "text": [
      "Local not present:  {}\n",
      "Local present:  {'local_variable': True}\n"
     ]
    }
   ],
   "source": [
    "# how locals() works inside a local scope\n",
    "\n",
    "def locals_not_present():\n",
    "    return locals()\n",
    "\n",
    "def locals_present():\n",
    "    local_variable = True\n",
    "    return locals()\n",
    "\n",
    "print('Local not present: ', locals_not_present())\n",
    "print('Local present: ', locals_present())"
   ]
  },
  {
   "cell_type": "code",
   "execution_count": 39,
   "metadata": {},
   "outputs": [
    {
     "name": "stdout",
     "output_type": "stream",
     "text": [
      "True\n",
      "True\n",
      "{'local_variable': True}\n"
     ]
    }
   ],
   "source": [
    "# updating locals() dictionary values\n",
    "\n",
    "def local_present():\n",
    "    local_variable = True\n",
    "    print(local_variable)\n",
    "    locals()['local_variable'] = False\n",
    "    print(local_variable)\n",
    "    return locals()\n",
    "    \n",
    "print(local_present())\n",
    "#Note : , locals() dictionary may not change the information inside the locals table."
   ]
  },
  {
   "cell_type": "code",
   "execution_count": 40,
   "metadata": {},
   "outputs": [],
   "source": [
    "####################### BLANK ################################"
   ]
  },
  {
   "cell_type": "code",
   "execution_count": 41,
   "metadata": {},
   "outputs": [],
   "source": [
    "### map() method ### applies the given function to each item of an iterable(list , tuple and etc) and returns a list of the results\n",
    "# syntax: map(function, iterable, ...) \n",
    "#You can pass more than one iterable to the map() function."
   ]
  },
  {
   "cell_type": "code",
   "execution_count": 43,
   "metadata": {},
   "outputs": [
    {
     "name": "stdout",
     "output_type": "stream",
     "text": [
      "<map object at 0x000001D805CBF198>\n",
      "{16, 1, 4, 9}\n"
     ]
    }
   ],
   "source": [
    "def calculate_square(n):\n",
    "    return n*n\n",
    "\n",
    "number = (1,2,3,4)\n",
    "result = map(calculate_square, number)\n",
    "\n",
    "print(result)\n",
    "print(set(result))"
   ]
  },
  {
   "cell_type": "code",
   "execution_count": 44,
   "metadata": {},
   "outputs": [
    {
     "name": "stdout",
     "output_type": "stream",
     "text": [
      "<map object at 0x000001D805C907B8>\n",
      "{1, 4, 9, 16, 25}\n"
     ]
    }
   ],
   "source": [
    "#lambda functions are commonly used for simple operatins in maps\n",
    "numbers = (1,2,3,4,5)\n",
    "result = map(lambda x: x*x, numbers)\n",
    "\n",
    "print(result)\n",
    "print(set(result))"
   ]
  },
  {
   "cell_type": "code",
   "execution_count": 46,
   "metadata": {},
   "outputs": [
    {
     "name": "stdout",
     "output_type": "stream",
     "text": [
      "[7, 9, 11]\n"
     ]
    }
   ],
   "source": [
    "#passing multiple iterators to Lambda\n",
    "numbers1 = [4,5,6]\n",
    "numbers2 = [3,4,5]\n",
    "\n",
    "result = map(lambda n1,n2: n1+n2 , numbers1, numbers2)\n",
    "print(list(result))"
   ]
  },
  {
   "cell_type": "code",
   "execution_count": null,
   "metadata": {},
   "outputs": [],
   "source": [
    "####################### BLANK ################################"
   ]
  },
  {
   "cell_type": "code",
   "execution_count": 1,
   "metadata": {},
   "outputs": [],
   "source": [
    "### max() method ### returns the largest element in an iterable or largest of two or more parameters\n",
    "#syntax1 : max(iterable, *iterables[,key, default])\n",
    "#syntax2: max(arg1, arg2, *args[, key])"
   ]
  },
  {
   "cell_type": "code",
   "execution_count": 2,
   "metadata": {},
   "outputs": [
    {
     "name": "stdout",
     "output_type": "stream",
     "text": [
      "5\n",
      "5\n"
     ]
    }
   ],
   "source": [
    "print(max(1,2,3,4,5))\n",
    "\n",
    "#using max on iterbles\n",
    "num = [1,2,3,4,5]\n",
    "print(max(num))"
   ]
  },
  {
   "cell_type": "code",
   "execution_count": 9,
   "metadata": {},
   "outputs": [
    {
     "name": "stdout",
     "output_type": "stream",
     "text": [
      "Maximum from the numbers is  6674\n",
      "Maximum from the numbers is  9999\n"
     ]
    }
   ],
   "source": [
    "# Find number whose sum of digits is largest using key function\n",
    "def sum_digits(num):\n",
    "    sum = 0\n",
    "    while(num):\n",
    "        sum += num%10\n",
    "        num = int(num/10)\n",
    "    return sum\n",
    "\n",
    "#print max of sum of digits\n",
    "print(\"Maximum from the numbers is \", max(100,23,4565,6674,345, key=sum_digits))\n",
    "\n",
    "#print max of sum of digits in an iterable\n",
    "print(\"Maximum from the numbers is \", max([100,23,9999,6674,345], key=sum_digits))"
   ]
  },
  {
   "cell_type": "code",
   "execution_count": 10,
   "metadata": {},
   "outputs": [
    {
     "name": "stdout",
     "output_type": "stream",
     "text": [
      "Maximum size is:  [1, 2, 3, 4, 5, 6, 4, 5, 6]\n"
     ]
    }
   ],
   "source": [
    "#Finding the maximum length of the lists using max()\n",
    "\n",
    "numbers1 = [ 1,2,3,4]\n",
    "numbers2 = [ 1,2,3,4,5,6]\n",
    "numbers3 = [ 1,2,3,4,5,6,4,5,6]\n",
    "\n",
    "print('Maximum size is: ', max(numbers1, numbers2, numbers3, key=len))"
   ]
  },
  {
   "cell_type": "code",
   "execution_count": 11,
   "metadata": {},
   "outputs": [],
   "source": [
    "####################### BLANK ################################"
   ]
  },
  {
   "cell_type": "code",
   "execution_count": 12,
   "metadata": {},
   "outputs": [],
   "source": [
    "### memoryview() method ### returns a memory view object of the given argument\n",
    "#buffer protocol provides a way to access the internal data of an object. This internal data is a memory array or a buffer\n",
    "#This protocol is only accessible to us at the C-API level and not using our normal code base.\n",
    "#So, in order to expose the same protocol to normal Python code base, memory views are present."
   ]
  },
  {
   "cell_type": "code",
   "execution_count": 19,
   "metadata": {},
   "outputs": [
    {
     "name": "stdout",
     "output_type": "stream",
     "text": [
      "<memory at 0x000001A3E35E1348>\n",
      "75\n",
      "b'KA'\n",
      "[75, 65, 78, 85]\n"
     ]
    }
   ],
   "source": [
    "#random byte array\n",
    "random_bytearray = bytearray('KANU', 'utf-8')\n",
    "mv = memoryview(random_bytearray)\n",
    "\n",
    "#access memory view's 0th index\n",
    "print(mv)\n",
    "print(mv[0]) #mv's 0th index 'K' and printed it (which gives the ASCII value - 75).\n",
    "#create byte from memory view\n",
    "print(bytes(mv[0:2]))\n",
    "\n",
    "#create list from memory view\n",
    "print(list(mv[0:4]))"
   ]
  },
  {
   "cell_type": "code",
   "execution_count": 20,
   "metadata": {},
   "outputs": [
    {
     "name": "stdout",
     "output_type": "stream",
     "text": [
      "Before update:  bytearray(b'KANU')\n",
      "After update:  bytearray(b'KBNU')\n"
     ]
    }
   ],
   "source": [
    "# Modifying internal data using memory view\n",
    "random_bytearray = bytearray('KANU', 'utf-8')\n",
    "print('Before update: ', random_bytearray)\n",
    "\n",
    "mv = memoryview(random_bytearray)\n",
    "\n",
    "#update 1st index of mz 'B' using its ascii value\n",
    "mv[1] = 66\n",
    "print('After update: ', random_bytearray)\n",
    "#Since, the memory view object mv references the same buffer/memory, updating the index in mv also updates randomByteArray"
   ]
  },
  {
   "cell_type": "code",
   "execution_count": null,
   "metadata": {},
   "outputs": [],
   "source": [
    "####################### BLANK ################################"
   ]
  },
  {
   "cell_type": "code",
   "execution_count": 21,
   "metadata": {},
   "outputs": [],
   "source": [
    "### min() method ### returns the smallest element in an iterable or smallest orf 2 or more paramters\n",
    "#syntax 1: min(iterable, *iterables[,key, default])\n",
    "#syntax 2: min(arg1, arg2, *args[, key])\n",
    "#Others are applicable as if in the items for max() method"
   ]
  },
  {
   "cell_type": "code",
   "execution_count": 22,
   "metadata": {},
   "outputs": [
    {
     "name": "stdout",
     "output_type": "stream",
     "text": [
      "1\n",
      "1\n"
     ]
    }
   ],
   "source": [
    "print(min(1,2,3,4))\n",
    "\n",
    "#min of an iterable\n",
    "numbers = [1,2,3,4,5]\n",
    "print(min(numbers))"
   ]
  },
  {
   "cell_type": "code",
   "execution_count": 23,
   "metadata": {},
   "outputs": [
    {
     "name": "stdout",
     "output_type": "stream",
     "text": [
      "Minimum from the numbers is  100\n",
      "Minimum from the numbers is  100\n"
     ]
    }
   ],
   "source": [
    "# Find number whose sum of digits is smallest using key function\n",
    "def sum_digits(num):\n",
    "    sum = 0\n",
    "    while(num):\n",
    "        sum += num%10\n",
    "        num = int(num/10)\n",
    "    return sum\n",
    "\n",
    "#print min of sum of digits\n",
    "print(\"Minimum from the numbers is \", min(100,23,4565,6674,345, key=sum_digits))\n",
    "\n",
    "#print max of sum of digits in an iterable\n",
    "print(\"Minimum from the numbers is \", min([100,23,9999,6674,345], key=sum_digits))"
   ]
  },
  {
   "cell_type": "code",
   "execution_count": 25,
   "metadata": {},
   "outputs": [
    {
     "name": "stdout",
     "output_type": "stream",
     "text": [
      "Smallest list is:  [1, 2, 3, 4]\n"
     ]
    }
   ],
   "source": [
    "#Finding the minimum length of the lists using max()\n",
    "\n",
    "numbers1 = [ 1,2,3,4]\n",
    "numbers2 = [ 1,2,3,4,5,6]\n",
    "numbers3 = [ 1,2,3,4,5,6,4,5,6]\n",
    "\n",
    "print('Smallest list is: ', min(numbers1, numbers2, numbers3, key=len))"
   ]
  },
  {
   "cell_type": "code",
   "execution_count": 26,
   "metadata": {},
   "outputs": [],
   "source": [
    "####################### BLANK ################################"
   ]
  },
  {
   "cell_type": "code",
   "execution_count": 27,
   "metadata": {},
   "outputs": [],
   "source": [
    "### next() method ### returns the next item from the iterator\n",
    "#syntax -> next(iterator, default)  # here default (optional) is returned when iterator exhausted\n",
    "# if no default value, next() will raise StopIteration error when iterator exhausted"
   ]
  },
  {
   "cell_type": "code",
   "execution_count": 28,
   "metadata": {},
   "outputs": [
    {
     "name": "stdout",
     "output_type": "stream",
     "text": [
      "dhinesh\n",
      "kanu\n",
      "hasini\n"
     ]
    },
    {
     "ename": "StopIteration",
     "evalue": "",
     "output_type": "error",
     "traceback": [
      "\u001b[1;31m---------------------------------------------------------------------------\u001b[0m",
      "\u001b[1;31mStopIteration\u001b[0m                             Traceback (most recent call last)",
      "\u001b[1;32m<ipython-input-28-3eaaed80b9bc>\u001b[0m in \u001b[0;36m<module>\u001b[1;34m()\u001b[0m\n\u001b[0;32m      6\u001b[0m \u001b[0mprint\u001b[0m\u001b[1;33m(\u001b[0m\u001b[0mnext\u001b[0m\u001b[1;33m(\u001b[0m\u001b[0mrandom_iter\u001b[0m\u001b[1;33m)\u001b[0m\u001b[1;33m)\u001b[0m\u001b[1;33m\u001b[0m\u001b[0m\n\u001b[0;32m      7\u001b[0m \u001b[0mprint\u001b[0m\u001b[1;33m(\u001b[0m\u001b[0mnext\u001b[0m\u001b[1;33m(\u001b[0m\u001b[0mrandom_iter\u001b[0m\u001b[1;33m)\u001b[0m\u001b[1;33m)\u001b[0m\u001b[1;33m\u001b[0m\u001b[0m\n\u001b[1;32m----> 8\u001b[1;33m \u001b[0mprint\u001b[0m\u001b[1;33m(\u001b[0m\u001b[0mnext\u001b[0m\u001b[1;33m(\u001b[0m\u001b[0mrandom_iter\u001b[0m\u001b[1;33m)\u001b[0m\u001b[1;33m)\u001b[0m\u001b[1;33m\u001b[0m\u001b[0m\n\u001b[0m",
      "\u001b[1;31mStopIteration\u001b[0m: "
     ]
    }
   ],
   "source": [
    "random_list = ['dhinesh', 'kanu', 'hasini']\n",
    "\n",
    "random_iter = iter(random_list)\n",
    "\n",
    "print(next(random_iter))\n",
    "print(next(random_iter))\n",
    "print(next(random_iter))\n",
    "print(next(random_iter)) # here stop iteration error"
   ]
  },
  {
   "cell_type": "code",
   "execution_count": 30,
   "metadata": {},
   "outputs": [
    {
     "name": "stdout",
     "output_type": "stream",
     "text": [
      "dhinesh\n",
      "kanu\n",
      "Field Exhausted\n",
      "Field Exhausted\n"
     ]
    }
   ],
   "source": [
    "#iterator with default value\n",
    "random = ['dhinesh', 'kanu']\n",
    "\n",
    "random_iter1 = iter(random)\n",
    "\n",
    "print(next(random_iter1, \"Field Exhausted\"))\n",
    "print(next(random_iter1, \"Field Exhausted\"))\n",
    "print(next(random_iter1, \"Field Exhausted\"))\n",
    "print(next(random_iter1, \"Field Exhausted\"))"
   ]
  },
  {
   "cell_type": "code",
   "execution_count": 31,
   "metadata": {},
   "outputs": [],
   "source": [
    "####################### BLANK ################################"
   ]
  },
  {
   "cell_type": "code",
   "execution_count": 32,
   "metadata": {},
   "outputs": [],
   "source": [
    "### object() method ### returns a featureless object which is a base for all classes"
   ]
  },
  {
   "cell_type": "code",
   "execution_count": 33,
   "metadata": {},
   "outputs": [
    {
     "name": "stdout",
     "output_type": "stream",
     "text": [
      "<class 'object'>\n",
      "['__class__', '__delattr__', '__dir__', '__doc__', '__eq__', '__format__', '__ge__', '__getattribute__', '__gt__', '__hash__', '__init__', '__init_subclass__', '__le__', '__lt__', '__ne__', '__new__', '__reduce__', '__reduce_ex__', '__repr__', '__setattr__', '__sizeof__', '__str__', '__subclasshook__']\n"
     ]
    }
   ],
   "source": [
    "test = object()\n",
    "print(type(test))\n",
    "print(dir(test))\n",
    "#The object doesn't have __dict__ as suggested by the output. Hence, you can't assign arbitrary attributes to the instances of this class."
   ]
  },
  {
   "cell_type": "code",
   "execution_count": 34,
   "metadata": {},
   "outputs": [],
   "source": [
    "####################### BLANK ################################"
   ]
  },
  {
   "cell_type": "code",
   "execution_count": 35,
   "metadata": {},
   "outputs": [],
   "source": [
    "### oct() method ### returns the octal representation of the given integer number. If the given number is not an int, it must implement __index__() method to return an integer"
   ]
  },
  {
   "cell_type": "code",
   "execution_count": 36,
   "metadata": {},
   "outputs": [
    {
     "name": "stdout",
     "output_type": "stream",
     "text": [
      "0o12\n",
      "0o5\n",
      "0o12\n"
     ]
    }
   ],
   "source": [
    "#decimal number\n",
    "print(oct(10))\n",
    "\n",
    "#binary number\n",
    "print(oct(0b101))\n",
    "\n",
    "#hexadecimal number\n",
    "print(oct(0XA))"
   ]
  },
  {
   "cell_type": "code",
   "execution_count": 37,
   "metadata": {},
   "outputs": [
    {
     "name": "stdout",
     "output_type": "stream",
     "text": [
      "0o27\n"
     ]
    }
   ],
   "source": [
    "#oct() method for custom objects by implementing __index__() method\n",
    "#For backward compatibility, implement __int__() as well\n",
    "class Person:\n",
    "    age = 23\n",
    "    \n",
    "    def __index__(self):\n",
    "        return self.age\n",
    "    \n",
    "    def __int__(self):\n",
    "        return self.age\n",
    "    \n",
    "person = Person()\n",
    "\n",
    "print(oct(person))"
   ]
  },
  {
   "cell_type": "code",
   "execution_count": 38,
   "metadata": {},
   "outputs": [],
   "source": [
    "####################### BLANK ################################"
   ]
  },
  {
   "cell_type": "code",
   "execution_count": 39,
   "metadata": {},
   "outputs": [],
   "source": [
    "### open() method ### opens the file and returns a corresponding file object\n",
    "#syntax -> open(file, mode='r', buffering=-1, encoding=None, errors=None, newline=None, closefd=True, opener=None)"
   ]
  },
  {
   "cell_type": "code",
   "execution_count": null,
   "metadata": {},
   "outputs": [],
   "source": [
    "\"\"\"\n",
    "buffering (optional) - used for setting buffering policy\n",
    "encoding (optional) - name of the encoding to encode or decode the file\n",
    "errors (optional) - string specifying how to handle encoding/decoding errors\n",
    "newline​ (optional) - how newlines mode works (available values: None, ' ', '\\n', 'r', and '\\r\\n'\n",
    "closefd (optional) - must be True (default) if given otherwise an exception will be raised\n",
    "opener (optional) - a custom opener; must return an open file descriptor\n",
    "\"\"\""
   ]
  },
  {
   "cell_type": "code",
   "execution_count": 40,
   "metadata": {},
   "outputs": [
    {
     "ename": "FileNotFoundError",
     "evalue": "[Errno 2] No such file or directory: 'test.txt'",
     "output_type": "error",
     "traceback": [
      "\u001b[1;31m---------------------------------------------------------------------------\u001b[0m",
      "\u001b[1;31mFileNotFoundError\u001b[0m                         Traceback (most recent call last)",
      "\u001b[1;32m<ipython-input-40-4814fcd3cea5>\u001b[0m in \u001b[0;36m<module>\u001b[1;34m()\u001b[0m\n\u001b[0;32m      1\u001b[0m \u001b[1;31m#opening from current directory\u001b[0m\u001b[1;33m\u001b[0m\u001b[1;33m\u001b[0m\u001b[0m\n\u001b[1;32m----> 2\u001b[1;33m \u001b[0mfile\u001b[0m \u001b[1;33m=\u001b[0m \u001b[0mopen\u001b[0m\u001b[1;33m(\u001b[0m\u001b[1;34m\"test.txt\"\u001b[0m\u001b[1;33m)\u001b[0m\u001b[1;33m\u001b[0m\u001b[0m\n\u001b[0m",
      "\u001b[1;31mFileNotFoundError\u001b[0m: [Errno 2] No such file or directory: 'test.txt'"
     ]
    }
   ],
   "source": [
    "#opening from current directory\n",
    "file = open(\"test.txt\") # 'r' is default file opning mode"
   ]
  },
  {
   "cell_type": "code",
   "execution_count": null,
   "metadata": {},
   "outputs": [],
   "source": [
    "# openining in write mode\n",
    "file = open('sample.txt', mode='w')\n",
    "\n",
    "#specifying the encoding \n",
    "file = open('sample.txt', mode='w', encoding='utf-8')"
   ]
  },
  {
   "cell_type": "code",
   "execution_count": 41,
   "metadata": {},
   "outputs": [],
   "source": [
    "####################### BLANK ################################"
   ]
  },
  {
   "cell_type": "code",
   "execution_count": 42,
   "metadata": {},
   "outputs": [],
   "source": [
    "### ord() method ### return the interger representing Unicode point for the given Unicode character\n",
    "#The ord() method is the inverse of chr()."
   ]
  },
  {
   "cell_type": "code",
   "execution_count": 44,
   "metadata": {},
   "outputs": [
    {
     "name": "stdout",
     "output_type": "stream",
     "text": [
      "53\n",
      "97\n",
      "36\n"
     ]
    }
   ],
   "source": [
    "#code point for integer\n",
    "print(ord('5'))\n",
    "\n",
    "#code point for alphabet\n",
    "print(ord('a'))\n",
    "\n",
    "# code point for character\n",
    "print(ord('$'))"
   ]
  },
  {
   "cell_type": "code",
   "execution_count": 45,
   "metadata": {},
   "outputs": [],
   "source": [
    "####################### BLANK ################################"
   ]
  },
  {
   "cell_type": "code",
   "execution_count": 46,
   "metadata": {},
   "outputs": [],
   "source": [
    "### pow() method ### return the x to the power y. \n",
    "# if the 3rd(optional) argument is given, returns x to the power of y modulus z (i.e)pow(x,y)"
   ]
  },
  {
   "cell_type": "code",
   "execution_count": 47,
   "metadata": {},
   "outputs": [
    {
     "name": "stdout",
     "output_type": "stream",
     "text": [
      "4\n",
      "4\n",
      "0.25\n",
      "0.25\n"
     ]
    }
   ],
   "source": [
    "# positive x, positive y (x**y)\n",
    "print(pow(2, 2))\n",
    "\n",
    "# negative x, positive y\n",
    "print(pow(-2, 2))\n",
    "\n",
    "# positive x, negative y (x**-y)\n",
    "print(pow(2, -2))\n",
    "\n",
    "# negative x, negative y\n",
    "print(pow(-2, -2))"
   ]
  },
  {
   "cell_type": "code",
   "execution_count": 48,
   "metadata": {},
   "outputs": [
    {
     "name": "stdout",
     "output_type": "stream",
     "text": [
      "1\n"
     ]
    }
   ],
   "source": [
    "# pow() with third aguments\n",
    "print(pow(4,2,3)) # => (4**2)%3"
   ]
  },
  {
   "cell_type": "code",
   "execution_count": 49,
   "metadata": {},
   "outputs": [],
   "source": [
    "####################### BLANK ################################"
   ]
  },
  {
   "cell_type": "code",
   "execution_count": 50,
   "metadata": {},
   "outputs": [],
   "source": [
    "### print() method ### print the given outptu to the standard output stream or to the text stream\n",
    "#syntax => print(*object, sep=' ', end='\\n', file=sys.stdout, flush=false)"
   ]
  },
  {
   "cell_type": "code",
   "execution_count": null,
   "metadata": {},
   "outputs": [],
   "source": [
    "\"\"\"\n",
    "objects - object to the printed. * indicates that there may be more than one object\n",
    "sep - objects are separated by sep. Default value: ' '\n",
    "end - end is printed at last\n",
    "file - must be an object with write(string) method. If omitted it, sys.stdout will be used which prints objects on the screen.\n",
    "flush - If True, the stream is forcibly flushed. Default value: False\n",
    "\"\"\""
   ]
  },
  {
   "cell_type": "code",
   "execution_count": 51,
   "metadata": {},
   "outputs": [
    {
     "name": "stdout",
     "output_type": "stream",
     "text": [
      "a = ****5this is end \n",
      "a = ****5another end"
     ]
    }
   ],
   "source": [
    "#using separator in the print() method\n",
    "a=5\n",
    "\n",
    "print('a = ', a, sep='****', end='this is end \\n')\n",
    "print('a = ', a, sep='****', end='another end')"
   ]
  },
  {
   "cell_type": "code",
   "execution_count": null,
   "metadata": {},
   "outputs": [],
   "source": [
    "#wiriting to the file using print() method\n",
    "source_file = open('python.txt', 'w')\n",
    "print('Writing to the file', file=source_file)\n",
    "source_file.close()"
   ]
  },
  {
   "cell_type": "code",
   "execution_count": 53,
   "metadata": {},
   "outputs": [],
   "source": [
    "####################### BLANK ################################"
   ]
  },
  {
   "cell_type": "code",
   "execution_count": null,
   "metadata": {},
   "outputs": [],
   "source": [
    "### property() method ### returns a property attribute\n",
    "#Syntax => property(fget=None, fset=None, fdel=None, doc=None)"
   ]
  },
  {
   "cell_type": "code",
   "execution_count": 54,
   "metadata": {},
   "outputs": [
    {
     "data": {
      "text/plain": [
       "'\\nfget (Optional) - function for getting the attribute value\\nfset (Optional) - function for setting the attribute value\\nfdel (Optional) - function for deleting the attribute value\\ndoc (Optional) - string that contains the documentation (docstring) for the attribute\\n'"
      ]
     },
     "execution_count": 54,
     "metadata": {},
     "output_type": "execute_result"
    }
   ],
   "source": [
    "\"\"\"\n",
    "fget (Optional) - function for getting the attribute value\n",
    "fset (Optional) - function for setting the attribute value\n",
    "fdel (Optional) - function for deleting the attribute value\n",
    "doc (Optional) - string that contains the documentation (docstring) for the attribute\n",
    "\"\"\""
   ]
  },
  {
   "cell_type": "code",
   "execution_count": 64,
   "metadata": {},
   "outputs": [
    {
     "name": "stdout",
     "output_type": "stream",
     "text": [
      "Getting Name\n",
      "Kanu\n",
      "setting the Name\n",
      "THis is doc string fro name property\n",
      "deleting name property...\n"
     ]
    }
   ],
   "source": [
    "class Person:\n",
    "    def __init__(self, name):\n",
    "        self._name = name\n",
    "        \n",
    "    def get_name(self):\n",
    "        print('Getting Name')\n",
    "        return self._name\n",
    "    \n",
    "    def set_name(self, name):\n",
    "        print('setting the Name')\n",
    "        self._name = name\n",
    "        \n",
    "    def del_name(self):\n",
    "        print('deleting name property...')\n",
    "        del self._name\n",
    "    #using property method\n",
    "    name = property(get_name, set_name, del_name, \"THis is doc string fro name property\")\n",
    "    \n",
    "p = Person('Kanu')\n",
    "print(p.name)\n",
    "p.name = 'Hasini'\n",
    "print(Person.name.__doc__)\n",
    "del p.name;"
   ]
  },
  {
   "cell_type": "code",
   "execution_count": null,
   "metadata": {},
   "outputs": [],
   "source": [
    "# instead of property() method, we can use decorator @property to assign the getter, setter and deleter\n"
   ]
  },
  {
   "cell_type": "code",
   "execution_count": 66,
   "metadata": {},
   "outputs": [
    {
     "name": "stdout",
     "output_type": "stream",
     "text": [
      "Getting Name\n",
      "Kanu\n",
      "setting the Name\n",
      "deleting name property...\n"
     ]
    }
   ],
   "source": [
    "class Person:\n",
    "    def __init__(self, name):\n",
    "        self._name = name\n",
    "     \n",
    "    @property\n",
    "    def name(self):\n",
    "        print('Getting Name')\n",
    "        return self._name\n",
    "    \n",
    "    @name.setter\n",
    "    def name(self, name):\n",
    "        print('setting the Name')\n",
    "        self._name = name\n",
    "    \n",
    "    @name.deleter\n",
    "    def name(self):\n",
    "        print('deleting name property...')\n",
    "        del self._name\n",
    "        \n",
    "p = Person('Kanu')\n",
    "print(p.name)\n",
    "p.name = 'Hasini'\n",
    "#print(Person.name.__doc__)\n",
    "del p.name;   "
   ]
  },
  {
   "cell_type": "code",
   "execution_count": 67,
   "metadata": {},
   "outputs": [],
   "source": [
    "####################### BLANK ################################"
   ]
  },
  {
   "cell_type": "code",
   "execution_count": 68,
   "metadata": {},
   "outputs": [],
   "source": [
    "### range() method ### returns immutable sequqnce of numbers between the given start and stop int\n",
    "\n",
    "#syntax -> range(start, stop[, step])"
   ]
  },
  {
   "cell_type": "code",
   "execution_count": 70,
   "metadata": {},
   "outputs": [
    {
     "name": "stdout",
     "output_type": "stream",
     "text": [
      "[]\n",
      "[0, 1, 2, 3, 4, 5, 6, 7, 8, 9]\n",
      "[1, 2, 3, 4, 5, 6, 7, 8, 9]\n"
     ]
    }
   ],
   "source": [
    "#empty range\n",
    "print(list(range(0)))\n",
    "\n",
    "#using stop\n",
    "print(list(range(10)))\n",
    "\n",
    "#using start and stop\n",
    "print(list(range(1, 10)))"
   ]
  },
  {
   "cell_type": "code",
   "execution_count": 75,
   "metadata": {},
   "outputs": [
    {
     "name": "stdout",
     "output_type": "stream",
     "text": [
      "[0, 2, 4, 6, 8]\n"
     ]
    }
   ],
   "source": [
    "#creating list of even numbers with range\n",
    "print(list(range(0,10,2)))\n",
    "\n",
    "#working with negative stpes"
   ]
  },
  {
   "cell_type": "code",
   "execution_count": 78,
   "metadata": {},
   "outputs": [
    {
     "name": "stdout",
     "output_type": "stream",
     "text": [
      "[20, 18, 16, 14, 12]\n",
      "[]\n"
     ]
    }
   ],
   "source": [
    "print(list(range(20,10,-2)))\n",
    "print(list(range(20,10,2)))"
   ]
  },
  {
   "cell_type": "code",
   "execution_count": 79,
   "metadata": {},
   "outputs": [],
   "source": [
    "####################### BLANK ################################"
   ]
  },
  {
   "cell_type": "code",
   "execution_count": 80,
   "metadata": {},
   "outputs": [],
   "source": [
    "### repr() method ### returns a printable representation of the given object\n",
    "# Internally, repr() method calls __repr__() method of the given object"
   ]
  },
  {
   "cell_type": "code",
   "execution_count": 82,
   "metadata": {},
   "outputs": [
    {
     "name": "stdout",
     "output_type": "stream",
     "text": [
      "kanu\n"
     ]
    }
   ],
   "source": [
    "class Person:\n",
    "    name = \"kanu\"\n",
    "    \n",
    "    def __repr__(self):\n",
    "        return self.name\n",
    "    \n",
    "print(repr(Person()))"
   ]
  },
  {
   "cell_type": "code",
   "execution_count": 83,
   "metadata": {},
   "outputs": [],
   "source": [
    "####################### BLANK ################################"
   ]
  },
  {
   "cell_type": "code",
   "execution_count": 84,
   "metadata": {},
   "outputs": [],
   "source": [
    "### reversed() method ### returns the reversed iterator of the given sequence\n",
    "#supports tuple, string, list or range or could be an object that has implemented __reversed()__ method"
   ]
  },
  {
   "cell_type": "code",
   "execution_count": 87,
   "metadata": {},
   "outputs": [
    {
     "name": "stdout",
     "output_type": "stream",
     "text": [
      "['u', 'n', 'a', 'k']\n",
      "['u', 'n', 'a', 'k']\n",
      "[9, 8, 7, 6, 5]\n"
     ]
    }
   ],
   "source": [
    "#string\n",
    "name = 'kanu'\n",
    "print(list(reversed(name)))\n",
    "\n",
    "#for tuple\n",
    "name_t = ('k','a', 'n', 'u')\n",
    "print(list(reversed(name_t)))\n",
    "\n",
    "#for range\n",
    "value_range = range(5,10)\n",
    "print(list(reversed(value_range)))"
   ]
  },
  {
   "cell_type": "code",
   "execution_count": 89,
   "metadata": {},
   "outputs": [
    {
     "name": "stdout",
     "output_type": "stream",
     "text": [
      "['u', 'o', 'i', 'e', 'a']\n"
     ]
    }
   ],
   "source": [
    "# reversed with custom objects\n",
    "\n",
    "class Vowels:\n",
    "    vowels = ['a', 'e', 'i', 'o', 'u']\n",
    "    \n",
    "    def __reversed__(self):\n",
    "        return reversed(self.vowels)\n",
    "    \n",
    "v = Vowels()\n",
    "print(list(reversed(v)))"
   ]
  },
  {
   "cell_type": "code",
   "execution_count": null,
   "metadata": {},
   "outputs": [],
   "source": [
    "####################### BLANK ################################"
   ]
  },
  {
   "cell_type": "code",
   "execution_count": 90,
   "metadata": {},
   "outputs": [],
   "source": [
    "### round() method ###  returns the floating point  number rounded off to the given ndigits after the decimal\n",
    "# if no digit is provided, it rounds off the number to the nearest integer"
   ]
  },
  {
   "cell_type": "code",
   "execution_count": 91,
   "metadata": {},
   "outputs": [
    {
     "name": "stdout",
     "output_type": "stream",
     "text": [
      "11\n",
      "6\n"
     ]
    }
   ],
   "source": [
    "print(round(10.7))\n",
    "print(round(5.5))"
   ]
  },
  {
   "cell_type": "code",
   "execution_count": 93,
   "metadata": {},
   "outputs": [
    {
     "name": "stdout",
     "output_type": "stream",
     "text": [
      "2.67\n",
      "2.67\n",
      "2.68\n"
     ]
    }
   ],
   "source": [
    "print(round(2.665, 2))\n",
    "print(round(2.675, 2))\n",
    "print(round(2.6751, 2))"
   ]
  },
  {
   "cell_type": "code",
   "execution_count": 94,
   "metadata": {},
   "outputs": [],
   "source": [
    "####################### BLANK ################################"
   ]
  },
  {
   "cell_type": "code",
   "execution_count": 95,
   "metadata": {},
   "outputs": [],
   "source": [
    "### set() method ### constructor contructs a Python set from the given iterable and returns it"
   ]
  },
  {
   "cell_type": "code",
   "execution_count": 97,
   "metadata": {},
   "outputs": [
    {
     "name": "stdout",
     "output_type": "stream",
     "text": [
      "set()\n",
      "{'o', 'n', 't', 'y', 'h', 'p'}\n",
      "{'b', 'd', 'a', 'c'}\n",
      "{0, 1, 2, 3, 4}\n"
     ]
    }
   ],
   "source": [
    "#epmty set\n",
    "print(set())\n",
    "\n",
    "#from string\n",
    "print(set(\"python\"))\n",
    "\n",
    "#from tuple\n",
    "print(set(('a', 'b', 'c', 'd')))\n",
    "\n",
    "#from range\n",
    "print(set(range(5)))"
   ]
  },
  {
   "cell_type": "code",
   "execution_count": 98,
   "metadata": {},
   "outputs": [
    {
     "name": "stdout",
     "output_type": "stream",
     "text": [
      "{'b', 'a', 'c'}\n",
      "{'b', 'a', 'c'}\n"
     ]
    }
   ],
   "source": [
    "#with dictionary and frozen set\n",
    "#from dictionary\n",
    "print(set({'a': 1, 'b': 2, 'c': 3}))\n",
    "\n",
    "#from forzenset\n",
    "frozen_set = frozenset(('a', 'b', 'c'))\n",
    "print(set(frozen_set))"
   ]
  },
  {
   "cell_type": "code",
   "execution_count": 99,
   "metadata": {},
   "outputs": [
    {
     "name": "stdout",
     "output_type": "stream",
     "text": [
      "{1, 2, 3, 4, 5}\n"
     ]
    }
   ],
   "source": [
    "# set() for custom iterable objects\n",
    "class PrintNumber:\n",
    "    def __init__(self, max):\n",
    "        self.max = max\n",
    "\n",
    "    def __iter__(self):\n",
    "        self.num = 0\n",
    "        return self\n",
    "\n",
    "    def __next__(self):\n",
    "        if(self.num >= self.max):\n",
    "            raise StopIteration\n",
    "        self.num += 1\n",
    "        return self.num\n",
    "\n",
    "printNum = PrintNumber(5)\n",
    "\n",
    "# creating a set\n",
    "print(set(printNum))"
   ]
  },
  {
   "cell_type": "code",
   "execution_count": null,
   "metadata": {},
   "outputs": [],
   "source": [
    "####################### BLANK ################################"
   ]
  },
  {
   "cell_type": "code",
   "execution_count": 100,
   "metadata": {},
   "outputs": [],
   "source": [
    "### setattr() method ### sets the value of the attribute of an object\n",
    "#setattr(object, name, value)\n",
    "#If the attribute is not found, setattr() creates a new attribute by the given name and value.\n",
    "#However, this is only possible if the object implements __dict__() method."
   ]
  },
  {
   "cell_type": "code",
   "execution_count": 101,
   "metadata": {},
   "outputs": [
    {
     "name": "stdout",
     "output_type": "stream",
     "text": [
      "Before Change  kanu\n",
      "After modification  john\n"
     ]
    }
   ],
   "source": [
    "class Person:\n",
    "    name = \"kanu\"\n",
    "    \n",
    "p = Person()\n",
    "print('Before Change ', p.name)\n",
    "\n",
    "#setting name to john\n",
    "setattr(p, 'name', 'john')\n",
    "\n",
    "print('After modification ', p.name)"
   ]
  },
  {
   "cell_type": "code",
   "execution_count": 102,
   "metadata": {},
   "outputs": [],
   "source": [
    "####################### BLANK ################################"
   ]
  },
  {
   "cell_type": "code",
   "execution_count": 103,
   "metadata": {},
   "outputs": [],
   "source": [
    "### slice() method ### creates a slice object representing the set of indices specified by range(start, stop, step)\n",
    "# it can be applicable to string, list, bytes, tuple , range or any object that implements __getitem__() and __len__() method"
   ]
  },
  {
   "cell_type": "code",
   "execution_count": 104,
   "metadata": {},
   "outputs": [],
   "source": [
    "#syntax\n",
    "# 1. slice(stop)\n",
    "# 2. slice(start, stop, step)"
   ]
  },
  {
   "cell_type": "code",
   "execution_count": 105,
   "metadata": {},
   "outputs": [
    {
     "data": {
      "text/plain": [
       "slice(None, 3, None)"
      ]
     },
     "execution_count": 105,
     "metadata": {},
     "output_type": "execute_result"
    }
   ],
   "source": [
    "\"\"\"start - starting integer where the slicing of the object starts\n",
    "stop - integer until which the slicing takes place. The slicing stops at index stop - 1.\n",
    "step - integer value which determines the increment between each index for slicing\n",
    "If a single parameter is passed, start and step are set to None.\n",
    "\"\"\""
   ]
  },
  {
   "cell_type": "code",
   "execution_count": 106,
   "metadata": {},
   "outputs": [
    {
     "name": "stdout",
     "output_type": "stream",
     "text": [
      "slice(None, 5, None)\n"
     ]
    }
   ],
   "source": [
    "# single parameter\n",
    "print(slice(5))"
   ]
  },
  {
   "cell_type": "code",
   "execution_count": 109,
   "metadata": {},
   "outputs": [
    {
     "name": "stdout",
     "output_type": "stream",
     "text": [
      "slice(None, 3, None)\n",
      "kan\n",
      "au\n"
     ]
    }
   ],
   "source": [
    "#get substring from a given string using slice object\n",
    "my_string = 'kanuhasini'\n",
    "print(slice(3))\n",
    "print(my_string[slice(3)])#indices 0, 1, 2\n",
    "\n",
    "print(my_string[slice(1,5,2)])"
   ]
  },
  {
   "cell_type": "code",
   "execution_count": 112,
   "metadata": {},
   "outputs": [
    {
     "name": "stdout",
     "output_type": "stream",
     "text": [
      "uba\n"
     ]
    }
   ],
   "source": [
    "#get substring from a given string using negative index\n",
    "my_string = 'dhineshbabu'\n",
    "\n",
    "print(my_string[slice(-1, -4, -1)])"
   ]
  },
  {
   "cell_type": "code",
   "execution_count": 113,
   "metadata": {},
   "outputs": [
    {
     "name": "stdout",
     "output_type": "stream",
     "text": [
      "dhi\n"
     ]
    }
   ],
   "source": [
    "# We can use the alternate syntax for slicing like below\n",
    "my_name = 'dhineshbabu'\n",
    "\n",
    "print(my_name[0:3])"
   ]
  },
  {
   "cell_type": "code",
   "execution_count": 114,
   "metadata": {},
   "outputs": [],
   "source": [
    "####################### BLANK ################################"
   ]
  },
  {
   "cell_type": "code",
   "execution_count": 115,
   "metadata": {},
   "outputs": [],
   "source": [
    "### sorted() method ### returns a sorted list from the given iterable in a specific order - Ascending or Descending\n",
    "#A list also has sort() method which performs the same way as sorted(). Only difference being, sort() method doesn't return any value and changes the original list itself."
   ]
  },
  {
   "cell_type": "code",
   "execution_count": 118,
   "metadata": {},
   "outputs": [
    {
     "name": "stdout",
     "output_type": "stream",
     "text": [
      "['bru', 'dhinesh', 'kanu']\n",
      "['d', 'e', 'h', 'h', 'i', 'n', 's']\n",
      "['e', 'i', 'uo']\n"
     ]
    }
   ],
   "source": [
    "#from the list\n",
    "names = ['dhinesh', 'kanu', 'bru']\n",
    "print(sorted(names))\n",
    "\n",
    "#for string\n",
    "name_string = 'dhiensh'\n",
    "print(sorted(name_string))\n",
    "\n",
    "#for tuple\n",
    "name_tuple = ('e', 'i', 'u' 'o')\n",
    "print(sorted(name_tuple))"
   ]
  },
  {
   "cell_type": "code",
   "execution_count": 119,
   "metadata": {},
   "outputs": [
    {
     "name": "stdout",
     "output_type": "stream",
     "text": [
      "['u', 'i', 'e', 'a']\n",
      "['u', 'i', 'e', 'a']\n",
      "['r', 'i', 'e']\n"
     ]
    }
   ],
   "source": [
    "#sorting in Descending order\n",
    "#set\n",
    "my_set = {'e', 'a', 'u', 'i'}\n",
    "print(sorted(my_set, reverse=True))\n",
    "\n",
    "#dictionary\n",
    "my_dict = {'e':1, 'a':3, 'u':4, 'i': 1}\n",
    "print(sorted(my_dict, reverse=True))\n",
    "\n",
    "#frozen set\n",
    "my_froset = frozenset(('e', 'r', 'i'))\n",
    "print(sorted(my_froset, reverse=True))"
   ]
  },
  {
   "cell_type": "code",
   "execution_count": 120,
   "metadata": {},
   "outputs": [
    {
     "name": "stdout",
     "output_type": "stream",
     "text": [
      "[(4, 1), (2, 2), (1, 3), (3, 4)]\n"
     ]
    }
   ],
   "source": [
    "#sorting the list of tuples with key function and sorted() method\n",
    "\n",
    "#take second element for short\n",
    "def take_second(elem):\n",
    "    return elem[1]\n",
    "\n",
    "# random list\n",
    "random = [(2, 2), (3, 4), (4, 1), (1, 3)]\n",
    "\n",
    "sorted_list = sorted(random, key=take_second)\n",
    "print(sorted_list)"
   ]
  },
  {
   "cell_type": "code",
   "execution_count": null,
   "metadata": {},
   "outputs": [],
   "source": [
    "####################### BLANK ################################"
   ]
  },
  {
   "cell_type": "code",
   "execution_count": 121,
   "metadata": {},
   "outputs": [],
   "source": [
    "### staticmethod() ### returns a static method for a given function\n",
    "#in newer versions of Python, you can use the Python decorator @staticmethod."
   ]
  },
  {
   "cell_type": "code",
   "execution_count": 122,
   "metadata": {},
   "outputs": [
    {
     "name": "stdout",
     "output_type": "stream",
     "text": [
      "Dates are equal\n"
     ]
    }
   ],
   "source": [
    "# Creating a utility functions with staticmethod decorator\n",
    "class Dates:\n",
    "    def __init__(self, date):\n",
    "        self.date = date\n",
    "        \n",
    "    def get_date(self):\n",
    "        return self.date\n",
    "    \n",
    "    @staticmethod\n",
    "    def to_dash_date(date):\n",
    "        return date.replace(\"/\", \"-\")\n",
    "    \n",
    "date = Dates(\"15-12-2019\")\n",
    "date_from_db = \"15/12/2019\"\n",
    "date_with_dash = Dates.to_dash_date(date_from_db)\n",
    "\n",
    "if(date.get_date() == date_with_dash):\n",
    "    print('Dates are equal')\n",
    "else:\n",
    "    print(\"Dates are not equal\")"
   ]
  },
  {
   "cell_type": "code",
   "execution_count": 123,
   "metadata": {},
   "outputs": [],
   "source": [
    "####################### BLANK ################################"
   ]
  },
  {
   "cell_type": "code",
   "execution_count": 124,
   "metadata": {},
   "outputs": [],
   "source": [
    "### str() method ### returns the informal or \"nicely\" pintable representaion of a given object\n",
    "#syntax 1: str(object='')\n",
    "#syntax 2: str(object=b\"\", encoding='utf-8', errors='strict')\n",
    "# If encoding and errors parameter isn't provided, str() method internally calls __str__() method of an object.\n",
    "# If it cannot find the __str__() method, it instead calls repr(obj)."
   ]
  },
  {
   "cell_type": "code",
   "execution_count": null,
   "metadata": {},
   "outputs": [],
   "source": [
    "\"\"\"\n",
    "errors - response when decoding fails. There are six types of error response\n",
    "strict - default response which raises a UnicodeDecodeError exception on failure\n",
    "ignore - ignores the unencodable unicode from the result\n",
    "replace - replaces the unencodable unicode to a question mark ?\n",
    "xmlcharrefreplace - inserts XML character reference instead of unencodable unicode\n",
    "backslashreplace - inserts a \\uNNNN espace sequence instead of unencodable unicode\n",
    "namereplace - inserts a \\N{...} escape sequence instead of unencodable unicode\n",
    "\n",
    "\"\"\""
   ]
  },
  {
   "cell_type": "code",
   "execution_count": 125,
   "metadata": {},
   "outputs": [
    {
     "data": {
      "text/plain": [
       "'3904893048'"
      ]
     },
     "execution_count": 125,
     "metadata": {},
     "output_type": "execute_result"
    }
   ],
   "source": [
    "str(3904893048)"
   ]
  },
  {
   "cell_type": "code",
   "execution_count": 126,
   "metadata": {},
   "outputs": [
    {
     "data": {
      "text/plain": [
       "\"b'3904893048'\""
      ]
     },
     "execution_count": 126,
     "metadata": {},
     "output_type": "execute_result"
    }
   ],
   "source": [
    "str(b'3904893048')"
   ]
  },
  {
   "cell_type": "code",
   "execution_count": 127,
   "metadata": {},
   "outputs": [
    {
     "data": {
      "text/plain": [
       "\"b'DHinesh'\""
      ]
     },
     "execution_count": 127,
     "metadata": {},
     "output_type": "execute_result"
    }
   ],
   "source": [
    "str(b'DHinesh')"
   ]
  },
  {
   "cell_type": "code",
   "execution_count": 130,
   "metadata": {},
   "outputs": [
    {
     "name": "stdout",
     "output_type": "stream",
     "text": [
      "pythn\n"
     ]
    }
   ],
   "source": [
    "#using errors and encoding with str() method\n",
    "b = bytes('pythön', encoding='utf-8')\n",
    "print(str(b, encoding='ascii', errors='ignore'))\n",
    "#Since, the character 'ö' cannot be decoded by ASCII, it gives out an error.\n",
    "#But, since we set the errors='ignore', it ignores the character which cannot be decoded by str(), i.e. ö"
   ]
  },
  {
   "cell_type": "code",
   "execution_count": 131,
   "metadata": {},
   "outputs": [],
   "source": [
    "####################### BLANK ################################"
   ]
  },
  {
   "cell_type": "code",
   "execution_count": 132,
   "metadata": {},
   "outputs": [],
   "source": [
    "### sum() method ### add the items of an iterable and returns the sum\n",
    "#syntax -> sum(iterable, start). start value will be added to the resultant sum"
   ]
  },
  {
   "cell_type": "code",
   "execution_count": 134,
   "metadata": {},
   "outputs": [
    {
     "name": "stdout",
     "output_type": "stream",
     "text": [
      "89.3\n",
      "90.3\n"
     ]
    }
   ],
   "source": [
    "numbers = [1, 23, 56, 9.3]\n",
    "\n",
    "numbers_sum = sum(numbers)\n",
    "print(numbers_sum)\n",
    "\n",
    "numbers_sum_again = sum(numbers, 1) # Adding 1 to the total sum value\n",
    "print(numbers_sum_again)"
   ]
  },
  {
   "cell_type": "code",
   "execution_count": null,
   "metadata": {},
   "outputs": [],
   "source": [
    "####################### BLANK ################################"
   ]
  },
  {
   "cell_type": "code",
   "execution_count": 135,
   "metadata": {},
   "outputs": [],
   "source": [
    "### super() method ### returns a proxy object that allows you to refer parent class by 'super'"
   ]
  },
  {
   "cell_type": "code",
   "execution_count": 137,
   "metadata": {},
   "outputs": [
    {
     "name": "stdout",
     "output_type": "stream",
     "text": [
      "Dog has four legs\n",
      "Dog is a warm blooded animal\n"
     ]
    }
   ],
   "source": [
    "#super() with single inheritance\n",
    "class Mammal(object):\n",
    "    def __init__(self, mammal_name):\n",
    "        print(mammal_name, 'is a warm blooded animal')\n",
    "        \n",
    "class Dog(Mammal):\n",
    "    def __init__(self):\n",
    "        print('Dog has four legs')\n",
    "        super().__init__('Dog')\n",
    "        \n",
    "dog = Dog()"
   ]
  },
  {
   "cell_type": "code",
   "execution_count": 138,
   "metadata": {},
   "outputs": [
    {
     "name": "stdout",
     "output_type": "stream",
     "text": [
      "Dog has 4 legs.\n",
      "Dog can't swim.\n",
      "Dog can't fly.\n",
      "Dog is a warm-blooded animal.\n",
      "Dog is an animal.\n",
      "\n",
      "Bat can't swim.\n",
      "Bat is a warm-blooded animal.\n",
      "Bat is an animal.\n"
     ]
    }
   ],
   "source": [
    "#super() with multiple inheritance\n",
    "class Animal:\n",
    "    def __init__(self, animalName):\n",
    "        print(animalName, 'is an animal.');\n",
    "\n",
    "class Mammal(Animal):\n",
    "    def __init__(self, mammalName):\n",
    "        print(mammalName, 'is a warm-blooded animal.')\n",
    "        super().__init__(mammalName)\n",
    "\n",
    "class NonWingedMammal(Mammal):\n",
    "    def __init__(self, NonWingedMammalName):\n",
    "        print(NonWingedMammalName, \"can't fly.\")\n",
    "        super().__init__(NonWingedMammalName)\n",
    "\n",
    "class NonMarineMammal(Mammal):\n",
    "    def __init__(self, NonMarineMammalName):\n",
    "        print(NonMarineMammalName, \"can't swim.\")\n",
    "        super().__init__(NonMarineMammalName)\n",
    "\n",
    "class Dog(NonMarineMammal, NonWingedMammal):\n",
    "    def __init__(self):\n",
    "        print('Dog has 4 legs.');\n",
    "        super().__init__('Dog')\n",
    "\n",
    "d = Dog()\n",
    "print('')\n",
    "bat = NonMarineMammal('Bat') "
   ]
  },
  {
   "cell_type": "code",
   "execution_count": 139,
   "metadata": {},
   "outputs": [
    {
     "data": {
      "text/plain": [
       "(__main__.Dog,\n",
       " __main__.NonMarineMammal,\n",
       " __main__.NonWingedMammal,\n",
       " __main__.Mammal,\n",
       " __main__.Animal,\n",
       " object)"
      ]
     },
     "execution_count": 139,
     "metadata": {},
     "output_type": "execute_result"
    }
   ],
   "source": [
    "#Method Resolution Order (MRO)\n",
    "Dog.__mro__\n",
    "#If there are multiple parents like Dog(NonMarineMammal, NonWingedMammal), method of NonMarineMammal is invoked first because it appears first."
   ]
  },
  {
   "cell_type": "code",
   "execution_count": 140,
   "metadata": {},
   "outputs": [],
   "source": [
    "####################### BLANK ################################"
   ]
  },
  {
   "cell_type": "code",
   "execution_count": 141,
   "metadata": {},
   "outputs": [],
   "source": [
    "### tuple() method ### creates a tuple "
   ]
  },
  {
   "cell_type": "code",
   "execution_count": 143,
   "metadata": {},
   "outputs": [
    {
     "name": "stdout",
     "output_type": "stream",
     "text": [
      "(1, 2, 3, 4)\n",
      "('d', 'h', 'i', 'n', 'e', 's', 'h')\n",
      "(1, 2)\n"
     ]
    }
   ],
   "source": [
    "#creating a tuple from a list\n",
    "print(tuple([1,2,3,4]))\n",
    "\n",
    "#creating from string\n",
    "print(tuple(\"dhinesh\"))\n",
    "\n",
    "#creating from dictionary\n",
    "print(tuple({1: 'one', 2: 'two'}))"
   ]
  },
  {
   "cell_type": "code",
   "execution_count": null,
   "metadata": {},
   "outputs": [],
   "source": [
    "####################### BLANK ################################"
   ]
  },
  {
   "cell_type": "code",
   "execution_count": 144,
   "metadata": {},
   "outputs": [],
   "source": [
    "### type() method ### retunrs the type of the given object. If three arguments (name, bases and dict) are passed, it returns a new type object.\n",
    "#Syntax: type(object)\n",
    "#syntax: type(name, bases, dict)\n",
    "\"\"\"\n",
    "name - class name which becomes __name__ attribute\n",
    "bases - a tuple that itemizes the base class, becomes __bases__ attribute\n",
    "dict - a dictionary which is the namespace containing definitions for class body; becomes __dict__ attribute\n",
    "\"\"\""
   ]
  },
  {
   "cell_type": "code",
   "execution_count": 148,
   "metadata": {},
   "outputs": [
    {
     "name": "stdout",
     "output_type": "stream",
     "text": [
      "<class 'list'>\n",
      "<class 'list'>\n",
      "<class '__main__.Foo'>\n"
     ]
    }
   ],
   "source": [
    "print(type([1,2,4]))\n",
    "name = [1,2,3]\n",
    "print(type(name))\n",
    "\n",
    "class Foo:\n",
    "    a = 0\n",
    "    \n",
    "foo = Foo()\n",
    "print(type(foo))"
   ]
  },
  {
   "cell_type": "code",
   "execution_count": 150,
   "metadata": {},
   "outputs": [
    {
     "name": "stdout",
     "output_type": "stream",
     "text": [
      "<class 'type'>\n",
      "{'a': 'Foo', 'b': 12, '__module__': '__main__', '__dict__': <attribute '__dict__' of 'X' objects>, '__weakref__': <attribute '__weakref__' of 'X' objects>, '__doc__': None}\n",
      "<class 'type'>\n",
      "{'a': 'Foo', 'b': 12, '__module__': '__main__', '__doc__': None}\n"
     ]
    }
   ],
   "source": [
    "#type() with name, bases and dict parameters\n",
    "o1 = type('X', (object,), dict(a='Foo', b=12))\n",
    "\n",
    "print(type(o1))\n",
    "print(vars(o1))\n",
    "\n",
    "class test:\n",
    "    a = 'Foo'\n",
    "    b = 12\n",
    "  \n",
    "o2 = type('Y', (test,), dict(a='Foo', b=12))\n",
    "print(type(o2))\n",
    "print(vars(o2))\n",
    "#In the program, we have used Python vars() function return the __dict__ attribute. __dict__ is used to store object's writable attributes."
   ]
  },
  {
   "cell_type": "code",
   "execution_count": null,
   "metadata": {},
   "outputs": [],
   "source": [
    "####################### BLANK ################################"
   ]
  },
  {
   "cell_type": "code",
   "execution_count": 151,
   "metadata": {},
   "outputs": [],
   "source": [
    "### vars() method ### returns the __dict__ atrribute of the given object if the object has __dict__ attribute"
   ]
  },
  {
   "cell_type": "code",
   "execution_count": 152,
   "metadata": {},
   "outputs": [
    {
     "name": "stdout",
     "output_type": "stream",
     "text": [
      "{'a': 5, 'b': 10}\n"
     ]
    }
   ],
   "source": [
    "class Foo:\n",
    "    def __init__(self, a = 5, b = 10):\n",
    "        self.a = a\n",
    "        self.b = b\n",
    "instance_of_foo = Foo()\n",
    "print(vars(instance_of_foo))"
   ]
  },
  {
   "cell_type": "code",
   "execution_count": 153,
   "metadata": {},
   "outputs": [
    {
     "data": {
      "text/plain": [
       "mappingproxy({'__add__': <slot wrapper '__add__' of 'list' objects>,\n",
       "              '__contains__': <slot wrapper '__contains__' of 'list' objects>,\n",
       "              '__delitem__': <slot wrapper '__delitem__' of 'list' objects>,\n",
       "              '__doc__': \"list() -> new empty list\\nlist(iterable) -> new list initialized from iterable's items\",\n",
       "              '__eq__': <slot wrapper '__eq__' of 'list' objects>,\n",
       "              '__ge__': <slot wrapper '__ge__' of 'list' objects>,\n",
       "              '__getattribute__': <slot wrapper '__getattribute__' of 'list' objects>,\n",
       "              '__getitem__': <method '__getitem__' of 'list' objects>,\n",
       "              '__gt__': <slot wrapper '__gt__' of 'list' objects>,\n",
       "              '__hash__': None,\n",
       "              '__iadd__': <slot wrapper '__iadd__' of 'list' objects>,\n",
       "              '__imul__': <slot wrapper '__imul__' of 'list' objects>,\n",
       "              '__init__': <slot wrapper '__init__' of 'list' objects>,\n",
       "              '__iter__': <slot wrapper '__iter__' of 'list' objects>,\n",
       "              '__le__': <slot wrapper '__le__' of 'list' objects>,\n",
       "              '__len__': <slot wrapper '__len__' of 'list' objects>,\n",
       "              '__lt__': <slot wrapper '__lt__' of 'list' objects>,\n",
       "              '__mul__': <slot wrapper '__mul__' of 'list' objects>,\n",
       "              '__ne__': <slot wrapper '__ne__' of 'list' objects>,\n",
       "              '__new__': <function list.__new__>,\n",
       "              '__repr__': <slot wrapper '__repr__' of 'list' objects>,\n",
       "              '__reversed__': <method '__reversed__' of 'list' objects>,\n",
       "              '__rmul__': <slot wrapper '__rmul__' of 'list' objects>,\n",
       "              '__setitem__': <slot wrapper '__setitem__' of 'list' objects>,\n",
       "              '__sizeof__': <method '__sizeof__' of 'list' objects>,\n",
       "              'append': <method 'append' of 'list' objects>,\n",
       "              'clear': <method 'clear' of 'list' objects>,\n",
       "              'copy': <method 'copy' of 'list' objects>,\n",
       "              'count': <method 'count' of 'list' objects>,\n",
       "              'extend': <method 'extend' of 'list' objects>,\n",
       "              'index': <method 'index' of 'list' objects>,\n",
       "              'insert': <method 'insert' of 'list' objects>,\n",
       "              'pop': <method 'pop' of 'list' objects>,\n",
       "              'remove': <method 'remove' of 'list' objects>,\n",
       "              'reverse': <method 'reverse' of 'list' objects>,\n",
       "              'sort': <method 'sort' of 'list' objects>})"
      ]
     },
     "execution_count": 153,
     "metadata": {},
     "output_type": "execute_result"
    }
   ],
   "source": [
    "vars(list)"
   ]
  },
  {
   "cell_type": "code",
   "execution_count": 1,
   "metadata": {},
   "outputs": [],
   "source": [
    "####################### BLANK ################################"
   ]
  },
  {
   "cell_type": "code",
   "execution_count": 2,
   "metadata": {},
   "outputs": [],
   "source": [
    "#zip () method ### take iterables (can be zero or more), makes iterator that aggregates elements based on the iterables passed, and returns an iterator of tuples."
   ]
  },
  {
   "cell_type": "code",
   "execution_count": 5,
   "metadata": {},
   "outputs": [
    {
     "name": "stdout",
     "output_type": "stream",
     "text": [
      "<zip object at 0x000001577AE78F08>\n",
      "[(1, 'one'), (2, 'two'), (3, 'three')]\n"
     ]
    }
   ],
   "source": [
    "numbers = [1,2,3]\n",
    "number_text = ['one', 'two', 'three']\n",
    "print(zip(numbers, number_text))\n",
    "print(list(zip(numbers, number_text)))"
   ]
  },
  {
   "cell_type": "code",
   "execution_count": 9,
   "metadata": {},
   "outputs": [
    {
     "name": "stdout",
     "output_type": "stream",
     "text": [
      "[(1, 'one'), (2, 'two')]\n",
      "{(1, 'one', 'ONE'), (2, 'two', 'TWO')}\n"
     ]
    }
   ],
   "source": [
    "#Different Number of Elements in Iterables Passed to zip()\n",
    "numbersList = [1, 2, 3]\n",
    "strList = ['one', 'two']\n",
    "numbersTuple = ('ONE', 'TWO', 'THREE', 'FOUR')\n",
    "print(list(zip(numbersList, strList)))\n",
    "print(set(zip(numbersList, strList, numbersTuple)))"
   ]
  },
  {
   "cell_type": "code",
   "execution_count": 11,
   "metadata": {},
   "outputs": [
    {
     "name": "stdout",
     "output_type": "stream",
     "text": [
      "[('x', 3), ('y', 4), ('z', 5)]\n",
      "c=  ('x', 'y', 'z')\n",
      "v=  (3, 4, 5)\n"
     ]
    }
   ],
   "source": [
    "#Unzipping the Value Using zip()\n",
    "coordinate = ['x', 'y', 'z']\n",
    "value = [3, 4, 5, 0, 9]\n",
    "\n",
    "result = zip(coordinate, value)\n",
    "resultList = list(result)\n",
    "print(resultList)\n",
    "\n",
    "c, v = zip(*resultList)\n",
    "print('c= ',c)\n",
    "print('v= ',v)"
   ]
  },
  {
   "cell_type": "code",
   "execution_count": 8,
   "metadata": {},
   "outputs": [
    {
     "name": "stdout",
     "output_type": "stream",
     "text": [
      "1 1 2\n"
     ]
    }
   ],
   "source": [
    "dd = {\"1\": \"0\", \"0\": \"1\"}\n",
    "for x in dd.values"
   ]
  }
 ],
 "metadata": {
  "interpreter": {
   "hash": "1baa965d5efe3ac65b79dfc60c0d706280b1da80fedb7760faf2759126c4f253"
  },
  "kernelspec": {
   "display_name": "Python 3 (ipykernel)",
   "language": "python",
   "name": "python3"
  },
  "language_info": {
   "codemirror_mode": {
    "name": "ipython",
    "version": 3
   },
   "file_extension": ".py",
   "mimetype": "text/x-python",
   "name": "python",
   "nbconvert_exporter": "python",
   "pygments_lexer": "ipython3",
   "version": "3.9.6"
  }
 },
 "nbformat": 4,
 "nbformat_minor": 4
}
