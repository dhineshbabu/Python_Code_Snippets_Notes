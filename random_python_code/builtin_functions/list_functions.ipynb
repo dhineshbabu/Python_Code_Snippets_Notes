{
 "cells": [
  {
   "cell_type": "code",
   "execution_count": 1,
   "metadata": {},
   "outputs": [],
   "source": [
    "####################### BLANK ################################"
   ]
  },
  {
   "cell_type": "code",
   "execution_count": 2,
   "metadata": {},
   "outputs": [],
   "source": [
    "### append() method ### adds an item to the end of the list (modfies the original list)"
   ]
  },
  {
   "cell_type": "code",
   "execution_count": 3,
   "metadata": {},
   "outputs": [
    {
     "name": "stdout",
     "output_type": "stream",
     "text": [
      "['cat', 'dog', 'cow']\n"
     ]
    }
   ],
   "source": [
    "#source list\n",
    "animal = ['cat', 'dog']\n",
    "animal.append('cow')\n",
    "print(animal)"
   ]
  },
  {
   "cell_type": "code",
   "execution_count": 4,
   "metadata": {},
   "outputs": [
    {
     "name": "stdout",
     "output_type": "stream",
     "text": [
      "[1, 2, 3, 4, [5, 6, 7]]\n"
     ]
    }
   ],
   "source": [
    "#adding another list to the list\n",
    "list1 = [1,2,3,4]\n",
    "list2 = [5,6,7]\n",
    "list1.append(list2)\n",
    "print(list1 )"
   ]
  },
  {
   "cell_type": "code",
   "execution_count": 5,
   "metadata": {},
   "outputs": [],
   "source": [
    "####################### BLANK ################################"
   ]
  },
  {
   "cell_type": "code",
   "execution_count": 6,
   "metadata": {},
   "outputs": [],
   "source": [
    "### extend() method ### extends the list by adding all items of a list(passed as an argument) to the end\n",
    "#Modifies the oritignal list"
   ]
  },
  {
   "cell_type": "code",
   "execution_count": 7,
   "metadata": {},
   "outputs": [
    {
     "name": "stdout",
     "output_type": "stream",
     "text": [
      "[1, 2, 3, 4, 5, 6, 7]\n"
     ]
    }
   ],
   "source": [
    "list1 = [1,2,3,4]\n",
    "list2 = [5,6,7]\n",
    "list1.extend(list2)\n",
    "print(list1 )"
   ]
  },
  {
   "cell_type": "code",
   "execution_count": 8,
   "metadata": {},
   "outputs": [
    {
     "name": "stdout",
     "output_type": "stream",
     "text": [
      "['French', 'English', 'German', 'Spanish', 'Portuguese']\n",
      "['French', 'English', 'German', 'Spanish', 'Portuguese', 'Chinese', 'Japanese']\n"
     ]
    }
   ],
   "source": [
    "#Adding elements from a tuple\n",
    "# language list\n",
    "language = ['French', 'English', 'German']\n",
    "\n",
    "# language tuple\n",
    "language_tuple = ('Spanish', 'Portuguese')\n",
    "\n",
    "# language set\n",
    "language_set = {'Chinese', 'Japanese'}\n",
    "\n",
    "#extending with tuple\n",
    "language.extend(language_tuple)\n",
    "print(language)\n",
    "\n",
    "#extending with set\n",
    "language.extend(language_set)\n",
    "print(language)"
   ]
  },
  {
   "cell_type": "code",
   "execution_count": 9,
   "metadata": {},
   "outputs": [
    {
     "name": "stdout",
     "output_type": "stream",
     "text": [
      "[1, 2, 3, 4]\n"
     ]
    }
   ],
   "source": [
    "# we can also add 2 lists like this\n",
    "list1 = [1,2]\n",
    "list2 = [3,4]\n",
    "\n",
    "list1 += list2\n",
    "print(list1)"
   ]
  },
  {
   "cell_type": "code",
   "execution_count": 10,
   "metadata": {},
   "outputs": [],
   "source": [
    "####################### BLANK ################################"
   ]
  },
  {
   "cell_type": "code",
   "execution_count": 11,
   "metadata": {},
   "outputs": [],
   "source": [
    "### insert() method ### inserts an element to the list at a given index\n",
    "#syntax: insert(index, element). Modifies the original list"
   ]
  },
  {
   "cell_type": "code",
   "execution_count": 34,
   "metadata": {},
   "outputs": [
    {
     "name": "stdout",
     "output_type": "stream",
     "text": [
      "['dhinesh', 'kanu', ' bru']\n"
     ]
    }
   ],
   "source": [
    "my_list = ['dhinesh', 'kanu']\n",
    "my_list.insert(3, ' bru')\n",
    "print(my_list)"
   ]
  },
  {
   "cell_type": "code",
   "execution_count": 35,
   "metadata": {},
   "outputs": [
    {
     "name": "stdout",
     "output_type": "stream",
     "text": [
      "['dhinesh', 'kanu', (1, 2), ' bru']\n"
     ]
    }
   ],
   "source": [
    "#inserting a tuple as an element\n",
    "number_tuple = (1,2)\n",
    "my_list.insert(2, number_tuple)\n",
    "print(my_list)"
   ]
  },
  {
   "cell_type": "code",
   "execution_count": 18,
   "metadata": {},
   "outputs": [],
   "source": [
    "####################### BLANK ################################"
   ]
  },
  {
   "cell_type": "code",
   "execution_count": 20,
   "metadata": {},
   "outputs": [],
   "source": [
    "### remove() method ### searches for the given element in the list and removes the first matching element\n",
    "#modifies the original list"
   ]
  },
  {
   "cell_type": "code",
   "execution_count": 21,
   "metadata": {},
   "outputs": [
    {
     "name": "stdout",
     "output_type": "stream",
     "text": [
      "['dog', 'cow']\n"
     ]
    }
   ],
   "source": [
    "animal_list = ['dog', 'cat', 'cow']\n",
    "animal_list.remove('cat')\n",
    "print(animal_list)"
   ]
  },
  {
   "cell_type": "code",
   "execution_count": 23,
   "metadata": {},
   "outputs": [
    {
     "name": "stdout",
     "output_type": "stream",
     "text": [
      "['dog', 'cow', 'cat']\n"
     ]
    }
   ],
   "source": [
    "# If a list contains duplicate elements\n",
    "# the remove() method removes only the first instance\n",
    "animal_list1 = ['dog', 'cat', 'cow', 'cat']\n",
    "animal_list1.remove('cat')\n",
    "print(animal_list1)"
   ]
  },
  {
   "cell_type": "code",
   "execution_count": null,
   "metadata": {},
   "outputs": [],
   "source": [
    "#Tryting to delete an invalid element from tthe list will raise ValueError"
   ]
  },
  {
   "cell_type": "code",
   "execution_count": 24,
   "metadata": {},
   "outputs": [
    {
     "ename": "ValueError",
     "evalue": "list.remove(x): x not in list",
     "output_type": "error",
     "traceback": [
      "\u001b[1;31m---------------------------------------------------------------------------\u001b[0m",
      "\u001b[1;31mValueError\u001b[0m                                Traceback (most recent call last)",
      "\u001b[1;32m<ipython-input-24-0f4998de01bc>\u001b[0m in \u001b[0;36m<module>\u001b[1;34m()\u001b[0m\n\u001b[1;32m----> 1\u001b[1;33m \u001b[0manimal_list1\u001b[0m\u001b[1;33m.\u001b[0m\u001b[0mremove\u001b[0m\u001b[1;33m(\u001b[0m\u001b[1;34m'lion'\u001b[0m\u001b[1;33m)\u001b[0m\u001b[1;33m\u001b[0m\u001b[0m\n\u001b[0m",
      "\u001b[1;31mValueError\u001b[0m: list.remove(x): x not in list"
     ]
    }
   ],
   "source": [
    "animal_list1.remove('lion')"
   ]
  },
  {
   "cell_type": "code",
   "execution_count": 25,
   "metadata": {},
   "outputs": [],
   "source": [
    "####################### BLANK ################################"
   ]
  },
  {
   "cell_type": "code",
   "execution_count": 26,
   "metadata": {},
   "outputs": [],
   "source": [
    "### index() method ### searches an element in the list and returns its index. FOr duplicates, it retuns the first occurence"
   ]
  },
  {
   "cell_type": "code",
   "execution_count": 29,
   "metadata": {},
   "outputs": [
    {
     "name": "stdout",
     "output_type": "stream",
     "text": [
      "1\n"
     ]
    }
   ],
   "source": [
    "my_index = ['dhinesh', 'bru', 'kanu']\n",
    "print(my_index.index('bru'))"
   ]
  },
  {
   "cell_type": "code",
   "execution_count": 30,
   "metadata": {},
   "outputs": [
    {
     "name": "stdout",
     "output_type": "stream",
     "text": [
      "1\n",
      "3\n"
     ]
    }
   ],
   "source": [
    "#finding nested list and tuple\n",
    "complex_list = ['dhinesh', ['kanu', 'hasini'], 'bru', ('dhinesh', 'babu')]\n",
    "print(complex_list.index(['kanu','hasini']))\n",
    "print(complex_list.index(('dhinesh', 'babu')))"
   ]
  },
  {
   "cell_type": "code",
   "execution_count": 28,
   "metadata": {},
   "outputs": [
    {
     "ename": "ValueError",
     "evalue": "'lion' is not in list",
     "output_type": "error",
     "traceback": [
      "\u001b[1;31m---------------------------------------------------------------------------\u001b[0m",
      "\u001b[1;31mValueError\u001b[0m                                Traceback (most recent call last)",
      "\u001b[1;32m<ipython-input-28-42f252b10a02>\u001b[0m in \u001b[0;36m<module>\u001b[1;34m()\u001b[0m\n\u001b[0;32m      1\u001b[0m \u001b[1;31m#for invalid element it will raise ValueError\u001b[0m\u001b[1;33m\u001b[0m\u001b[1;33m\u001b[0m\u001b[0m\n\u001b[1;32m----> 2\u001b[1;33m \u001b[0mprint\u001b[0m\u001b[1;33m(\u001b[0m\u001b[0mmy_index\u001b[0m\u001b[1;33m.\u001b[0m\u001b[0mindex\u001b[0m\u001b[1;33m(\u001b[0m\u001b[1;34m'lion'\u001b[0m\u001b[1;33m)\u001b[0m\u001b[1;33m)\u001b[0m\u001b[1;33m\u001b[0m\u001b[0m\n\u001b[0m",
      "\u001b[1;31mValueError\u001b[0m: 'lion' is not in list"
     ]
    }
   ],
   "source": [
    "#for invalid element it will raise ValueError\n",
    "print(my_index.index('lion'))"
   ]
  },
  {
   "cell_type": "code",
   "execution_count": 31,
   "metadata": {},
   "outputs": [],
   "source": [
    "####################### BLANK ################################"
   ]
  },
  {
   "cell_type": "code",
   "execution_count": 32,
   "metadata": {},
   "outputs": [],
   "source": [
    "### count() method ### returns the number of occurrences of an element in a list"
   ]
  },
  {
   "cell_type": "code",
   "execution_count": 36,
   "metadata": {},
   "outputs": [
    {
     "name": "stdout",
     "output_type": "stream",
     "text": [
      "2\n"
     ]
    }
   ],
   "source": [
    "list_count = ['dhinesh', 'bru', 'dhinesh','kanu']\n",
    "print(list_count.count('dhinesh'))"
   ]
  },
  {
   "cell_type": "code",
   "execution_count": 39,
   "metadata": {},
   "outputs": [
    {
     "name": "stdout",
     "output_type": "stream",
     "text": [
      "2\n",
      "1\n"
     ]
    }
   ],
   "source": [
    "#counting the occurrences of tuple inside a list\n",
    "# random list\n",
    "random = ['a', ('a', 'b'), ('a', 'b'), [3, 4]]\n",
    "print(random.count(('a', 'b')))\n",
    "print(random.count([3,4]))"
   ]
  },
  {
   "cell_type": "code",
   "execution_count": 40,
   "metadata": {},
   "outputs": [],
   "source": [
    "####################### BLANK ################################"
   ]
  },
  {
   "cell_type": "code",
   "execution_count": 41,
   "metadata": {},
   "outputs": [],
   "source": [
    "### pop() method ### removes the item at the given index and returns the removed value"
   ]
  },
  {
   "cell_type": "code",
   "execution_count": 44,
   "metadata": {},
   "outputs": [
    {
     "name": "stdout",
     "output_type": "stream",
     "text": [
      "3\n",
      "[1, 2, 4, 5, 6]\n"
     ]
    }
   ],
   "source": [
    "list_pop = [1,2,3,4,5,6]\n",
    "print(list_pop.pop(2))\n",
    "print(list_pop)"
   ]
  },
  {
   "cell_type": "code",
   "execution_count": 46,
   "metadata": {},
   "outputs": [
    {
     "name": "stdout",
     "output_type": "stream",
     "text": [
      "6\n"
     ]
    }
   ],
   "source": [
    "#removing the last element (note pop() with no argument will remove the last element)\n",
    "print(list_pop.pop())"
   ]
  },
  {
   "cell_type": "code",
   "execution_count": 47,
   "metadata": {},
   "outputs": [],
   "source": [
    "####################### BLANK ################################"
   ]
  },
  {
   "cell_type": "code",
   "execution_count": 48,
   "metadata": {},
   "outputs": [],
   "source": [
    "### reverse() method ### reverses the elements of the given list"
   ]
  },
  {
   "cell_type": "code",
   "execution_count": 49,
   "metadata": {},
   "outputs": [
    {
     "name": "stdout",
     "output_type": "stream",
     "text": [
      "['linux', 'mac', 'windows']\n"
     ]
    }
   ],
   "source": [
    "os = ['windows', 'mac', 'linux']\n",
    "#reversing the actual list\n",
    "os.reverse()\n",
    "print(os)"
   ]
  },
  {
   "cell_type": "code",
   "execution_count": 50,
   "metadata": {},
   "outputs": [
    {
     "name": "stdout",
     "output_type": "stream",
     "text": [
      "['windows 98', 'Windows Millenium', 'windows xp', 'Windows Vista']\n",
      "['Windows Vista', 'windows xp', 'Windows Millenium', 'windows 98']\n"
     ]
    }
   ],
   "source": [
    "#Reversing a list using slicing operator\n",
    "os = ['windows 98', 'Windows Millenium', \"windows xp\", 'Windows Vista']\n",
    "reversed_list = os[::-1]\n",
    "print(os)\n",
    "print(reversed_list)"
   ]
  },
  {
   "cell_type": "code",
   "execution_count": 51,
   "metadata": {},
   "outputs": [],
   "source": [
    "####################### BLANK ################################"
   ]
  },
  {
   "cell_type": "code",
   "execution_count": 52,
   "metadata": {},
   "outputs": [],
   "source": [
    "### sort() method ### sorts the elements of a given list\n",
    "#By default, sort() doesn't require any extra parameters. However, it has two optional parameters:\n",
    "# 1. reverse - If true, the sorted list is reversed (or sorted in Descending order)\n",
    "# 2. key - function that serves as a key for the sort comparison"
   ]
  },
  {
   "cell_type": "code",
   "execution_count": 53,
   "metadata": {},
   "outputs": [
    {
     "name": "stdout",
     "output_type": "stream",
     "text": [
      "['a', 'e', 'i', 'o', 'u']\n"
     ]
    }
   ],
   "source": [
    "vowels = ['e', 'a', 'u', 'o', 'i']\n",
    "vowels.sort()\n",
    "print(vowels)"
   ]
  },
  {
   "cell_type": "code",
   "execution_count": 55,
   "metadata": {},
   "outputs": [
    {
     "name": "stdout",
     "output_type": "stream",
     "text": [
      "['u', 'o', 'i', 'e', 'a']\n"
     ]
    }
   ],
   "source": [
    "#if reversed=True, it will sort in descending order\n",
    "vowels = ['e', 'a', 'u', 'o', 'i']\n",
    "vowels.sort(reverse=True)\n",
    "print(vowels)"
   ]
  },
  {
   "cell_type": "code",
   "execution_count": 56,
   "metadata": {},
   "outputs": [
    {
     "name": "stdout",
     "output_type": "stream",
     "text": [
      "[(2, 2), (1, 2), (9, 3), (3, 4), (7, 8)]\n"
     ]
    }
   ],
   "source": [
    "# sorting based on the key function given to the sort() method\n",
    "#any function \n",
    "def take_second(elem):\n",
    "    return elem[1]\n",
    "\n",
    "#random list\n",
    "random = [(2,2), (3,4), (1,2), (7,8), (9,3)]\n",
    "\n",
    "random.sort(key=take_second)\n",
    "print(random)"
   ]
  },
  {
   "cell_type": "code",
   "execution_count": 57,
   "metadata": {},
   "outputs": [],
   "source": [
    "####################### BLANK ################################"
   ]
  },
  {
   "cell_type": "code",
   "execution_count": 58,
   "metadata": {},
   "outputs": [],
   "source": [
    "### copy() method ### returns a shallow copy of the list"
   ]
  },
  {
   "cell_type": "code",
   "execution_count": 59,
   "metadata": {},
   "outputs": [
    {
     "name": "stdout",
     "output_type": "stream",
     "text": [
      "New List: [1, 2, 3, 'a']\n",
      "Old List: [1, 2, 3, 'a']\n"
     ]
    }
   ],
   "source": [
    "# Normally list will be copied by reference if you use assignment operator\n",
    "old_list = [1, 2, 3]\n",
    "new_list = old_list\n",
    "\n",
    "# add element to list\n",
    "new_list.append('a')\n",
    "\n",
    "print('New List:', new_list )\n",
    "print('Old List:', old_list )"
   ]
  },
  {
   "cell_type": "code",
   "execution_count": 60,
   "metadata": {},
   "outputs": [],
   "source": [
    "#if you need the original list unchanged when the new list is modified, you can use copy() method. This is called shallow copy."
   ]
  },
  {
   "cell_type": "code",
   "execution_count": 62,
   "metadata": {},
   "outputs": [
    {
     "name": "stdout",
     "output_type": "stream",
     "text": [
      "['cat', 0.5, 'dog', 9.3]\n",
      "['cat', 0.5, 'dog', 9.3, 'cow']\n"
     ]
    }
   ],
   "source": [
    "animals = ['cat', 0.5, 'dog', 9.3]\n",
    "\n",
    "new_animals = animals.copy()\n",
    "\n",
    "new_animals.append('cow')\n",
    "\n",
    "print(animals)\n",
    "print(new_animals)"
   ]
  },
  {
   "cell_type": "code",
   "execution_count": null,
   "metadata": {},
   "outputs": [],
   "source": [
    "#shallow copy of a list using slicing"
   ]
  },
  {
   "cell_type": "code",
   "execution_count": 63,
   "metadata": {},
   "outputs": [
    {
     "name": "stdout",
     "output_type": "stream",
     "text": [
      "['cat', 0.5, 'dog', 9.3]\n",
      "['cat', 0.5, 'dog', 9.3, 'cow']\n"
     ]
    }
   ],
   "source": [
    "animals2 = ['cat', 0.5, 'dog', 9.3]\n",
    "\n",
    "#slicing\n",
    "animals3 = animals2[:]\n",
    "\n",
    "animals3.append('cow')\n",
    "\n",
    "print(animals2)\n",
    "print(animals3)"
   ]
  },
  {
   "cell_type": "code",
   "execution_count": 64,
   "metadata": {},
   "outputs": [],
   "source": [
    "####################### BLANK ################################"
   ]
  },
  {
   "cell_type": "code",
   "execution_count": 1,
   "metadata": {},
   "outputs": [],
   "source": [
    "### clear() method ### removes all items from the list"
   ]
  },
  {
   "cell_type": "code",
   "execution_count": 2,
   "metadata": {},
   "outputs": [
    {
     "name": "stdout",
     "output_type": "stream",
     "text": [
      "[]\n"
     ]
    }
   ],
   "source": [
    "source_list = [1,2,3,4,5,6]\n",
    "source_list.clear()\n",
    "print(source_list)"
   ]
  },
  {
   "cell_type": "code",
   "execution_count": 3,
   "metadata": {},
   "outputs": [
    {
     "name": "stdout",
     "output_type": "stream",
     "text": [
      "Current list items are  []\n"
     ]
    }
   ],
   "source": [
    "#we can use the old \"del\" operator also\n",
    "source_list2 = [1,2,3,4]\n",
    "\n",
    "del source_list2[:]\n",
    "\n",
    "print(\"Current list items are \", source_list2)"
   ]
  },
  {
   "cell_type": "code",
   "execution_count": null,
   "metadata": {},
   "outputs": [],
   "source": []
  }
 ],
 "metadata": {
  "kernelspec": {
   "display_name": "Python 3",
   "language": "python",
   "name": "python3"
  },
  "language_info": {
   "codemirror_mode": {
    "name": "ipython",
    "version": 3
   },
   "file_extension": ".py",
   "mimetype": "text/x-python",
   "name": "python",
   "nbconvert_exporter": "python",
   "pygments_lexer": "ipython3",
   "version": "3.6.1"
  }
 },
 "nbformat": 4,
 "nbformat_minor": 2
}
