{
 "cells": [
  {
   "cell_type": "markdown",
   "metadata": {},
   "source": [
    "#### Item 3: Know the difference between bytes and str "
   ]
  },
  {
   "cell_type": "code",
   "execution_count": null,
   "metadata": {},
   "outputs": [],
   "source": [
    "# Types represents sequences of character data in python code  \n",
    "# bytes and str"
   ]
  },
  {
   "cell_type": "code",
   "execution_count": 2,
   "metadata": {},
   "outputs": [
    {
     "name": "stdout",
     "output_type": "stream",
     "text": [
      "[104, 101, 108, 108, 111]\n",
      "b'hello'\n"
     ]
    }
   ],
   "source": [
    "# Bytes uses raw, unsigned 8-bit values\n",
    "a = b'h\\x65llo'\n",
    "print(list(a))\n",
    "print(a)"
   ]
  },
  {
   "cell_type": "code",
   "execution_count": 4,
   "metadata": {},
   "outputs": [
    {
     "name": "stdout",
     "output_type": "stream",
     "text": [
      "['a', 'e', 'l', 'l', 'o']\n",
      "aello\n"
     ]
    }
   ],
   "source": [
    "# str contains unicode points that represent textual characters not raw bytes like above \n",
    "b = 'a\\x65llo'\n",
    "print(list(b))\n",
    "print(b)\n",
    "# note the output below the values are not in bytes rather it is in texts"
   ]
  },
  {
   "cell_type": "code",
   "execution_count": 6,
   "metadata": {},
   "outputs": [
    {
     "name": "stdout",
     "output_type": "stream",
     "text": [
      "foo\n",
      "bar\n",
      "'foo'\n",
      "'bar'\n"
     ]
    }
   ],
   "source": [
    "# Always we need to use helper function to convert between these 2 types based on the program's expectations\n",
    "\n",
    "# Convert to str \n",
    "def to_str(bytes_to_str):\n",
    "    if isinstance(bytes_to_str, bytes):\n",
    "        value = bytes_to_str.decode('utf-8')\n",
    "    else:\n",
    "        value = bytes_to_str\n",
    "    return value\n",
    "\n",
    "print(to_str(b'foo'))\n",
    "print(to_str('bar'))\n",
    "print(repr(to_str(b'foo')))\n",
    "print(repr(to_str('bar')))"
   ]
  },
  {
   "cell_type": "code",
   "execution_count": 7,
   "metadata": {},
   "outputs": [
    {
     "name": "stdout",
     "output_type": "stream",
     "text": [
      "b'foo'\n",
      "b'bar'\n",
      "b'foo'\n",
      "b'bar'\n"
     ]
    }
   ],
   "source": [
    "# The second helper function will take bytes or str and always return bytes\n",
    "def to_bytes(str_to_bytes):\n",
    "    if isinstance(str_to_bytes, str):\n",
    "        value = str_to_bytes.encode('utf-8')\n",
    "    else:\n",
    "        value = str_to_bytes\n",
    "    return value\n",
    "\n",
    "print(to_bytes(b'foo'))\n",
    "print(to_bytes('bar'))\n",
    "print(to_bytes(to_str(b'foo')))\n",
    "print(to_bytes(to_str('bar')))"
   ]
  },
  {
   "cell_type": "code",
   "execution_count": 8,
   "metadata": {},
   "outputs": [
    {
     "ename": "TypeError",
     "evalue": "can only concatenate str (not \"bytes\") to str",
     "output_type": "error",
     "traceback": [
      "\u001b[1;31m---------------------------------------------------------------------------\u001b[0m",
      "\u001b[1;31mTypeError\u001b[0m                                 Traceback (most recent call last)",
      "\u001b[1;32m~\\AppData\\Local\\Temp/ipykernel_8328/4221545940.py\u001b[0m in \u001b[0;36m<module>\u001b[1;34m\u001b[0m\n\u001b[0;32m      1\u001b[0m \u001b[1;31m# bytes and str are incompatible in python so we can't concatenate them together\u001b[0m\u001b[1;33m\u001b[0m\u001b[1;33m\u001b[0m\u001b[0m\n\u001b[1;32m----> 2\u001b[1;33m \u001b[0mprint\u001b[0m\u001b[1;33m(\u001b[0m\u001b[1;34m'str'\u001b[0m \u001b[1;33m+\u001b[0m \u001b[1;34mb'foo'\u001b[0m\u001b[1;33m)\u001b[0m\u001b[1;33m\u001b[0m\u001b[1;33m\u001b[0m\u001b[0m\n\u001b[0m",
      "\u001b[1;31mTypeError\u001b[0m: can only concatenate str (not \"bytes\") to str"
     ]
    }
   ],
   "source": [
    "# bytes and str are incompatible in python so we can't concatenate them together\n",
    "print('str' + b'foo') # we will get type error for this operation"
   ]
  },
  {
   "cell_type": "code",
   "execution_count": 9,
   "metadata": {},
   "outputs": [],
   "source": [
    "# similarly we can not perform comparison between bytes and str in python because they are not compatible between each other"
   ]
  },
  {
   "cell_type": "code",
   "execution_count": 10,
   "metadata": {},
   "outputs": [
    {
     "name": "stdout",
     "output_type": "stream",
     "text": [
      "False\n"
     ]
    }
   ],
   "source": [
    "# comparing for equality between bytes and str will always return False even if they have the same characters\n",
    "print(b'foo' == 'foo')"
   ]
  },
  {
   "cell_type": "code",
   "execution_count": 12,
   "metadata": {},
   "outputs": [],
   "source": [
    "# while writing bytes to a file, use the mode \"wb\" instead of \"w\" because \"w\" expect str instead of bytes\n",
    "with open('sample.bin', \"wb\") as f:\n",
    "    f.write(b'\\xf1\\xf2\\xf3')\n",
    "# the same principle is applicable for reading data from files "
   ]
  },
  {
   "cell_type": "code",
   "execution_count": 13,
   "metadata": {},
   "outputs": [
    {
     "name": "stdout",
     "output_type": "stream",
     "text": [
      "cp1252\n"
     ]
    }
   ],
   "source": [
    "# How to check the default encoding used by our system\n",
    "import locale\n",
    "print(locale.getpreferredencoding())"
   ]
  },
  {
   "cell_type": "markdown",
   "metadata": {},
   "source": [
    "#### Item 4: Prefer interpolated F-Strings Over C-Style Format Strings and str.format "
   ]
  },
  {
   "cell_type": "code",
   "execution_count": 14,
   "metadata": {},
   "outputs": [
    {
     "name": "stdout",
     "output_type": "stream",
     "text": [
      "Binary is 187 and hex is 3167\n"
     ]
    }
   ],
   "source": [
    "# using the % formatting operator\n",
    "a = 0b10111011\n",
    "b = 0xc5f\n",
    "print('Binary is %d and hex is %d' % (a, b))\n",
    "# This has a problem that if you change the order in the tuple you may get TypeError"
   ]
  },
  {
   "cell_type": "code",
   "execution_count": 15,
   "metadata": {},
   "outputs": [
    {
     "name": "stdout",
     "output_type": "stream",
     "text": [
      "Today's soup is veg\n"
     ]
    }
   ],
   "source": [
    "# we can use dictionaries for the string representation but the expression becone longer and more visually noisy \n",
    "soup = 'veg'\n",
    "formatted_string = 'Today\\'s soup is %(soup)s' % {'soup': soup}\n",
    "print(formatted_string)"
   ]
  },
  {
   "cell_type": "code",
   "execution_count": 17,
   "metadata": {},
   "outputs": [
    {
     "name": "stdout",
     "output_type": "stream",
     "text": [
      "1,234.57\n",
      "*      my string       *\n"
     ]
    }
   ],
   "source": [
    "# using the built-in format() method - new options such as , for thousands separators and ^ for center characters\n",
    "a = 1234.5678\n",
    "b = 'my string'\n",
    "a_formatted = format(a, ',.2f')\n",
    "b_formatted = format(b, '^20s')\n",
    "print(a_formatted)\n",
    "print('*', b_formatted, '*')\n",
    "\n"
   ]
  },
  {
   "cell_type": "code",
   "execution_count": 19,
   "metadata": {},
   "outputs": [
    {
     "name": "stdout",
     "output_type": "stream",
     "text": [
      "1,234.57 and the string is      my string      \n"
     ]
    }
   ],
   "source": [
    "# in str.format() method we can use the {} as placeholder for the variables in the output\n",
    "final_formatted = '{} and the string is {}'.format(a_formatted, b_formatted)\n",
    "print(final_formatted)"
   ]
  },
  {
   "cell_type": "code",
   "execution_count": 22,
   "metadata": {},
   "outputs": [
    {
     "name": "stdout",
     "output_type": "stream",
     "text": [
      "my_var     = 1.234000\n"
     ]
    }
   ],
   "source": [
    "# we can optionally provide a colon character to specify how values will be customized\n",
    "key = 'my_var'\n",
    "value = 1.234\n",
    "colon_formatted = '{:<10} = {:2f}'.format(key,value)\n",
    "print(colon_formatted)"
   ]
  },
  {
   "cell_type": "code",
   "execution_count": 23,
   "metadata": {},
   "outputs": [
    {
     "name": "stdout",
     "output_type": "stream",
     "text": [
      "1.23 replaces {}\n"
     ]
    }
   ],
   "source": [
    "# in str.format() method if we need to print the braces we need to escape it with double (open or close) braces around\n",
    "print('{} replaces {{}}'.format(1.23))"
   ]
  },
  {
   "cell_type": "code",
   "execution_count": 24,
   "metadata": {},
   "outputs": [
    {
     "name": "stdout",
     "output_type": "stream",
     "text": [
      "my_var = 1.234\n"
     ]
    }
   ],
   "source": [
    "# we can also use positional index number along with placeholders\n",
    "key = 'my_var'\n",
    "value = 1.234\n",
    "positional_formatted = '{0} = {1}'.format(key,value)\n",
    "print(positional_formatted)"
   ]
  },
  {
   "cell_type": "code",
   "execution_count": 25,
   "metadata": {},
   "outputs": [
    {
     "name": "stdout",
     "output_type": "stream",
     "text": [
      "my_var:1.234\n"
     ]
    }
   ],
   "source": [
    "## INTERPOLATED F STRINGS - Introduced in python 3.6\n",
    "key = 'my_var'\n",
    "value = 1.234\n",
    "f_formatted = f'{key}:{value}'\n",
    "print(f_formatted)"
   ]
  },
  {
   "cell_type": "code",
   "execution_count": 26,
   "metadata": {},
   "outputs": [
    {
     "name": "stdout",
     "output_type": "stream",
     "text": [
      "'my_var'   = 1.23\n"
     ]
    }
   ],
   "source": [
    "# we can add additional formatting using the colon inside the {} in f-strings to\n",
    "addon_formatted = f'{key!r:<10} = {value:.2f}'\n",
    "print(addon_formatted)"
   ]
  },
  {
   "cell_type": "code",
   "execution_count": 27,
   "metadata": {},
   "outputs": [
    {
     "name": "stdout",
     "output_type": "stream",
     "text": [
      "11.6: My_Var\n"
     ]
    }
   ],
   "source": [
    "# we can add complete expression inside {} in f strings\n",
    "new_f_string = f'{5.6+2*3}: {key.title()}' # we can divide this into multiple lines of different f strings\n",
    "print(new_f_string)"
   ]
  },
  {
   "cell_type": "markdown",
   "metadata": {},
   "source": [
    "#### Item 5: Write Helper Functions instead of Complex Expressions"
   ]
  },
  {
   "cell_type": "code",
   "execution_count": 32,
   "metadata": {},
   "outputs": [
    {
     "name": "stdout",
     "output_type": "stream",
     "text": [
      "{'red': ['5'], 'blue': ['0'], 'green': ['']}\n",
      "5\n",
      "0\n",
      "0\n"
     ]
    }
   ],
   "source": [
    "# consider the below dictionary output, to get the integer from it we will have to use the helper method instead of writing long lines expressions\n",
    "# This enables 'DRY' principle of coding\n",
    "from urllib.parse import parse_qs\n",
    "my_values = parse_qs('red=5&blue=0&green=', keep_blank_values=True) # here the parameter values can either be truthy or falsy. So we need to write helper functions to extract the values from the resultant dictionary\n",
    "print(repr(my_values))\n",
    "\n",
    "# This is the helper method\n",
    "def get_first_int(values, key, default=0):\n",
    "    found = values.get(key, [''])\n",
    "    if found[0]:\n",
    "        return int(found[0])\n",
    "    return default\n",
    "\n",
    "red = get_first_int(my_values, 'red')\n",
    "blue = get_first_int(my_values, 'blue')\n",
    "green = get_first_int(my_values, 'green')\n",
    "print(red)\n",
    "print(blue)\n",
    "print(green)"
   ]
  },
  {
   "cell_type": "markdown",
   "metadata": {},
   "source": [
    "#### Item 6: Prefer Multiple Assignment Unpacking over Indexing"
   ]
  },
  {
   "cell_type": "code",
   "execution_count": null,
   "metadata": {},
   "outputs": [],
   "source": [
    "# tuple can be created from a dictionary\n",
    "snack_calories = {\n",
    " 'chips': 140,\n",
    " 'popcorn': 80,\n",
    " 'nuts': 190,\n",
    "}\n",
    "\n",
    "items = tuple(snack_calories)"
   ]
  },
  {
   "cell_type": "code",
   "execution_count": null,
   "metadata": {},
   "outputs": [],
   "source": []
  },
  {
   "cell_type": "code",
   "execution_count": null,
   "metadata": {},
   "outputs": [],
   "source": []
  },
  {
   "cell_type": "code",
   "execution_count": null,
   "metadata": {},
   "outputs": [],
   "source": []
  }
 ],
 "metadata": {
  "interpreter": {
   "hash": "578aa1710721ebb0cd4e3b8e419f7437728ee3837e632204dd7a023c7bca9a56"
  },
  "kernelspec": {
   "display_name": "Python 3.10.0 64-bit",
   "language": "python",
   "name": "python3"
  },
  "language_info": {
   "codemirror_mode": {
    "name": "ipython",
    "version": 3
   },
   "file_extension": ".py",
   "mimetype": "text/x-python",
   "name": "python",
   "nbconvert_exporter": "python",
   "pygments_lexer": "ipython3",
   "version": "3.10.0"
  },
  "orig_nbformat": 4
 },
 "nbformat": 4,
 "nbformat_minor": 2
}
