{
 "cells": [
  {
   "cell_type": "code",
   "execution_count": 2,
   "metadata": {
    "collapsed": true
   },
   "outputs": [
    {
     "name": "stdout",
     "output_type": "stream",
     "text": [
      "2797104228944\n",
      "hexadecimal version of the same: 0x28b40676a50\n"
     ]
    }
   ],
   "source": [
    "from typing import List\n",
    "\n",
    "my_var_1 = 10\n",
    "print(id(my_var_1))\n",
    "\n",
    "print(f'hexadecimal version of the same: {hex(id(my_var_1))}')"
   ]
  },
  {
   "cell_type": "code",
   "execution_count": 3,
   "outputs": [
    {
     "name": "stdout",
     "output_type": "stream",
     "text": [
      "0x28b44c5aeb0\n"
     ]
    }
   ],
   "source": [
    "# checking the string version\n",
    "name = 'dhinesh'\n",
    "print(hex(id(name)))"
   ],
   "metadata": {
    "collapsed": false,
    "pycharm": {
     "name": "#%%\n"
    }
   }
  },
  {
   "cell_type": "code",
   "execution_count": 6,
   "outputs": [
    {
     "name": "stdout",
     "output_type": "stream",
     "text": [
      "2\n",
      "3\n"
     ]
    }
   ],
   "source": [
    "# Reference counting - will be managed by python memory manager for GC and etc.\n",
    "my_var = 10\n",
    "# using sys module\n",
    "import sys\n",
    "a: list[int] = [1,2,3]\n",
    "print(sys.getrefcount(a)) # this function will add one more reference count\n",
    "b = a\n",
    "print(sys.getrefcount(a))"
   ],
   "metadata": {
    "collapsed": false,
    "pycharm": {
     "name": "#%%\n"
    }
   }
  },
  {
   "cell_type": "code",
   "execution_count": 7,
   "outputs": [
    {
     "data": {
      "text/plain": "2"
     },
     "execution_count": 7,
     "metadata": {},
     "output_type": "execute_result"
    }
   ],
   "source": [
    "# another method for reference counting\n",
    "import ctypes\n",
    "\n",
    "def ref_count(address: int):\n",
    "    return ctypes.c_long.from_address(address).value\n",
    "\n",
    "ref_count(id(a))\n",
    "\n",
    "b = a\n",
    "ref_count(id(a))"
   ],
   "metadata": {
    "collapsed": false,
    "pycharm": {
     "name": "#%%\n"
    }
   }
  },
  {
   "cell_type": "code",
   "execution_count": 23,
   "outputs": [
    {
     "name": "stdout",
     "output_type": "stream",
     "text": [
      "2797104228944\n",
      "2797104228944\n",
      "10\n"
     ]
    }
   ],
   "source": [
    "a = 10\n",
    "id(a)\n",
    "b = a\n",
    "print(id(b))\n",
    "a = None\n",
    "print(id(b))\n",
    "print(b)"
   ],
   "metadata": {
    "collapsed": false,
    "pycharm": {
     "name": "#%%\n"
    }
   }
  },
  {
   "cell_type": "code",
   "execution_count": 4,
   "outputs": [
    {
     "name": "stdout",
     "output_type": "stream",
     "text": [
      "B: self: 0x1eec0cb02e0 , a: 0x1eec0cb0a30\n",
      "A: self: 0x1eec0cb0a30 , b: 0x1eec0cb02e0\n",
      "0x1eec0cb02e0\n",
      "0x1eec0cb0a30\n",
      "2\n",
      "1\n",
      "object exists\n",
      "object exists\n",
      "1\n",
      "1\n",
      "Not found\n",
      "Not found\n"
     ]
    }
   ],
   "source": [
    "# Garbage Collection\n",
    "# using gc module\n",
    "# trying to demonstrate circular reference\n",
    "\n",
    "import ctypes\n",
    "import gc\n",
    "\n",
    "def ref_count(address):\n",
    "    return ctypes.c_long.from_address(address).value\n",
    "\n",
    "def obj_by_id(object_id):\n",
    "    for obj in gc.get_objects():\n",
    "        if id(obj) == object_id:\n",
    "            return \"object exists\"\n",
    "    return \"Not found\"\n",
    "\n",
    "class A:\n",
    "    def __init__(self):\n",
    "        self.b = B(self)\n",
    "        print('A: self: {0} , b: {1}'.format(hex(id(self)), hex(id(self.b))))\n",
    "\n",
    "class B:\n",
    "    def __init__(self, a):\n",
    "        self.a = a\n",
    "        print('B: self: {0} , a: {1}'.format(hex(id(self)), hex(id(self.a))))\n",
    "\n",
    "my_var = A()\n",
    "print(hex(id(my_var.b)))\n",
    "print(hex(id(my_var.b.a)))\n",
    "a_id = id(my_var)\n",
    "b_id = id(my_var.b)\n",
    "print(ref_count(a_id)) # references are B and my_var\n",
    "print(ref_count(b_id)) # only reference is \n",
    "print(obj_by_id(a_id))\n",
    "print(obj_by_id(b_id))\n",
    "my_var = None # removing my_var reference\n",
    "print(ref_count(a_id))\n",
    "print(ref_count(b_id))\n",
    "gc.collect()\n",
    "print(obj_by_id(a_id))\n",
    "print(obj_by_id(b_id))\n",
    "# here after reference count will be instable"
   ],
   "metadata": {
    "collapsed": false,
    "pycharm": {
     "name": "#%%\n"
    }
   }
  },
  {
   "cell_type": "code",
   "execution_count": null,
   "outputs": [],
   "source": [
    "# Object Mutability\n",
    " # Object with its internal state can be changed is mutable (Lists, Sets, Dictionaries, User-defined classes)\n",
    " # Others are immutable( Numbers (int, float,), Boolean, String, Tuple, Strings, FrozenSets, User-Defined classes"
   ],
   "metadata": {
    "collapsed": false,
    "pycharm": {
     "name": "#%%\n"
    }
   }
  },
  {
   "cell_type": "code",
   "execution_count": 5,
   "outputs": [
    {
     "name": "stdout",
     "output_type": "stream",
     "text": [
      "([1, 2, 5], [1, 4])\n"
     ]
    }
   ],
   "source": [
    "# Tuple is immutable but it can contain mutable elements and the values of those mutable elements can be changed\n",
    "a = [1,2]\n",
    "b = [1,4]\n",
    "t = (a, b)  # now changing the list a and b will be reflected inside  tuple\n",
    "a.append(5)\n",
    "print(t) # refer the output\n"
   ],
   "metadata": {
    "collapsed": false,
    "pycharm": {
     "name": "#%%\n"
    }
   }
  },
  {
   "cell_type": "code",
   "execution_count": 6,
   "outputs": [
    {
     "name": "stdout",
     "output_type": "stream",
     "text": [
      "2124948742528\n",
      "2124948742528\n",
      "2124948100864\n"
     ]
    }
   ],
   "source": [
    "# Things to be considered for lists\n",
    "# For lists append method will not change the address of the list\n",
    "# But adding element using + symbol winn change the address of the list and will return new object. Because python Interpreter will look for the righthand side of the expression\n",
    "list1 = [1,2]\n",
    "print(id(list1))\n",
    "list1.append(10)\n",
    "print(id(list1)) # this will not change the address of the list object\n",
    "list1 = list1 + [1,2,3] # This will modify the address of the list and will return a new object\n",
    "print(id(list1))"
   ],
   "metadata": {
    "collapsed": false,
    "pycharm": {
     "name": "#%%\n"
    }
   }
  },
  {
   "cell_type": "code",
   "execution_count": 2,
   "outputs": [
    {
     "name": "stdout",
     "output_type": "stream",
     "text": [
      "2560936918656\n",
      "intial s # = 2560936918656\n",
      "Final lst = 2560936918656\n",
      "2560936918656\n"
     ]
    }
   ],
   "source": [
    "# Function argument and mutability\n",
    "# immutable objects are safe from side effects when it is passed to a function as paramaters such as passing string, int to a function will not change the original value of the reference in module scope\n",
    "\n",
    "# But not for mutable objects such as lists\n",
    "def modify_list(lst):\n",
    "    print(f'intial s # = {id(lst)}')\n",
    "    lst.append(100)\n",
    "    print(f'Final lst = {id(lst)}')\n",
    "\n",
    "my_list = [1,2,3,4]\n",
    "print(id(my_list))\n",
    "\n",
    "modify_list(my_list) # append will not change the address of the list\n",
    "print(id(my_list))\n",
    "\n",
    "\n"
   ],
   "metadata": {
    "collapsed": false,
    "pycharm": {
     "name": "#%%\n"
    }
   }
  },
  {
   "cell_type": "code",
   "execution_count": 1,
   "outputs": [
    {
     "name": "stdout",
     "output_type": "stream",
     "text": [
      "True\n"
     ]
    }
   ],
   "source": [
    "# shared memory references\n",
    "a = 'hello'\n",
    "b = 'hello'\n",
    "\n",
    "print(id(a) == id(b)) # Python memory manager will take care of the assignment"
   ],
   "metadata": {
    "collapsed": false,
    "pycharm": {
     "name": "#%%\n"
    }
   }
  },
  {
   "cell_type": "code",
   "execution_count": null,
   "outputs": [],
   "source": [
    "# is operator is used to check the address comparison\n",
    "# == is used to compare the content of the data\n",
    "# is not operator is negotiating that\n",
    "# != is negotiating the later"
   ],
   "metadata": {
    "collapsed": false,
    "pycharm": {
     "name": "#%%\n"
    }
   }
  },
  {
   "cell_type": "code",
   "execution_count": null,
   "outputs": [],
   "source": [
    "# None is of NoneType and all the objects that are assigned to None will be pointing to / sharing the same object in the memory space"
   ],
   "metadata": {
    "collapsed": false,
    "pycharm": {
     "name": "#%%\n"
    }
   }
  },
  {
   "cell_type": "code",
   "execution_count": 2,
   "outputs": [
    {
     "name": "stdout",
     "output_type": "stream",
     "text": [
      "140732753091800\n"
     ]
    }
   ],
   "source": [
    "# All are objects in python even functions\n",
    "def my_func():\n",
    "    pass\n",
    "\n",
    "print(id(my_func()))"
   ],
   "metadata": {
    "collapsed": false,
    "pycharm": {
     "name": "#%%\n"
    }
   }
  },
  {
   "cell_type": "code",
   "execution_count": null,
   "outputs": [],
   "source": [
    "# Functions are first class citizens in python"
   ],
   "metadata": {
    "collapsed": false,
    "pycharm": {
     "name": "#%%\n"
    }
   }
  },
  {
   "cell_type": "code",
   "execution_count": 4,
   "outputs": [
    {
     "name": "stdout",
     "output_type": "stream",
     "text": [
      "1825867852368\n",
      "1825867852368\n",
      "1825946022896\n",
      "1825946025232\n"
     ]
    }
   ],
   "source": [
    "# Python interning\n",
    "# for integers python preloads integer from range -5 to 256\n",
    "# Reason: small integers show up often\n",
    "a= 10\n",
    "b = 10\n",
    "print(id(a))\n",
    "print(id(b))\n",
    "\n",
    "# the below set will have different memory address since python will not cache integers after 256\n",
    "a = 257\n",
    "b = 257\n",
    "print(id(a))\n",
    "print(id(b))\n"
   ],
   "metadata": {
    "collapsed": false,
    "pycharm": {
     "name": "#%%\n"
    }
   }
  },
  {
   "cell_type": "code",
   "execution_count": 5,
   "outputs": [
    {
     "name": "stdout",
     "output_type": "stream",
     "text": [
      "True\n"
     ]
    }
   ],
   "source": [
    "# String interning\n",
    "# not all strings are interned\n",
    "# identifiers are interned and all strings that looks like valid identifier\n",
    "\n",
    "a = 'some_long_string'\n",
    "b = 'some_long_string'\n",
    "print(a is b)"
   ],
   "metadata": {
    "collapsed": false,
    "pycharm": {
     "name": "#%%\n"
    }
   }
  },
  {
   "cell_type": "code",
   "execution_count": 7,
   "outputs": [
    {
     "name": "stdout",
     "output_type": "stream",
     "text": [
      "True\n",
      "1825945933744\n",
      "1825945933744\n"
     ]
    }
   ],
   "source": [
    "# we can forcefully do intern using sys.intern() method\n",
    "import sys\n",
    "a = sys.intern(\" this is a long string with space and not an identifier eligible\")\n",
    "b = sys.intern(\" this is a long string with space and not an identifier eligible\")\n",
    "\n",
    "print(a is b)\n",
    "print(id(a))\n",
    "print(id(b))"
   ],
   "metadata": {
    "collapsed": false,
    "pycharm": {
     "name": "#%%\n"
    }
   }
  },
  {
   "cell_type": "code",
   "execution_count": 8,
   "outputs": [
    {
     "name": "stdout",
     "output_type": "stream",
     "text": [
      "False\n",
      "1825945933616\n",
      "1825945933488\n"
     ]
    }
   ],
   "source": [
    "# This will not get interned since it is not a valid identifier look alike string\n",
    "a = \" this is a long string with space and not an identifier eligible\"\n",
    "b = \" this is a long string with space and not an identifier eligible\"\n",
    "print(a is b)\n",
    "print(id(a))\n",
    "print(id(b))"
   ],
   "metadata": {
    "collapsed": false,
    "pycharm": {
     "name": "#%%\n"
    }
   }
  },
  {
   "cell_type": "code",
   "execution_count": null,
   "outputs": [],
   "source": [
    "# peephole optimizations\n",
    "# happening at compile time\n",
    "# Constant expressions\n",
    "# short sequences < 20\n",
    "# Membership tests: Mutables will be replaced by immutables\n",
    "    # sets to ForzenSets\n",
    "    # Lists to Tuples\n",
    "# Set membership is faster than list or tuple membership\n",
    "# prefer sets over lists and tuples for operations such as membership validation\n"
   ],
   "metadata": {
    "collapsed": false,
    "pycharm": {
     "name": "#%%\n"
    }
   }
  },
  {
   "cell_type": "code",
   "execution_count": 9,
   "outputs": [
    {
     "name": "stdout",
     "output_type": "stream",
     "text": [
      "(None, 1200, (1, 2, 1, 2, 1, 2, 1, 2, 1, 2), 'abcabcabc', 'ababababababababababab', 'the quick brown foxthe quick brown foxthe quick brown foxthe quick brown foxthe quick brown fox', 'a', 'b', 3)\n"
     ]
    }
   ],
   "source": [
    "# checking the precalculated constants\n",
    "def my_func():\n",
    "    a = 20*60\n",
    "    b = (1,2) * 5\n",
    "    c = 'abc' * 3\n",
    "    d = 'ab' * 11\n",
    "    a = 'the quick brown fox' * 5\n",
    "    f = ['a', 'b'] * 3\n",
    "\n",
    "print(my_func.__code__.co_consts)"
   ],
   "metadata": {
    "collapsed": false,
    "pycharm": {
     "name": "#%%\n"
    }
   }
  },
  {
   "cell_type": "code",
   "execution_count": 15,
   "outputs": [
    {
     "name": "stdout",
     "output_type": "stream",
     "text": [
      "['a', 'b', 'c', 'd', 'e', 'f', 'g', 'h', 'i', 'j', 'k', 'l', 'm', 'n', 'o', 'p', 'q', 'r', 's', 't', 'u', 'v', 'w', 'x', 'y', 'z', 'A', 'B', 'C', 'D', 'E', 'F', 'G', 'H', 'I', 'J', 'K', 'L', 'M', 'N', 'O', 'P', 'Q', 'R', 'S', 'T', 'U', 'V', 'W', 'X', 'Y', 'Z']\n",
      "{'u', 'K', 'H', 'x', 'S', 'N', 'r', 'o', 'C', 'F', 'R', 'U', 'X', 'l', 'w', 'O', 'j', 'P', 'z', 'Q', 'Y', 'T', 'B', 'a', 'M', 'L', 'b', 'G', 'h', 'm', 'V', 's', 'A', 'p', 'k', 'd', 'g', 'f', 'y', 'D', 'W', 'n', 'I', 'E', 'i', 'v', 'Z', 'c', 'e', 'J', 'q', 't'}\n",
      "('a', 'b', 'c', 'd', 'e', 'f', 'g', 'h', 'i', 'j', 'k', 'l', 'm', 'n', 'o', 'p', 'q', 'r', 's', 't', 'u', 'v', 'w', 'x', 'y', 'z', 'A', 'B', 'C', 'D', 'E', 'F', 'G', 'H', 'I', 'J', 'K', 'L', 'M', 'N', 'O', 'P', 'Q', 'R', 'S', 'T', 'U', 'V', 'W', 'X', 'Y', 'Z')\n",
      "list:  6.690000009257346e-05\n",
      "list:  6.800000119255856e-05\n",
      "list:  6.060000123397913e-05\n"
     ]
    }
   ],
   "source": [
    "# another example\n",
    "import string\n",
    "import time\n",
    "\n",
    "char_list = list(string.ascii_letters)\n",
    "char_tuple = tuple(string.ascii_letters)\n",
    "char_set = set(string.ascii_letters)\n",
    "print(char_list)\n",
    "print(char_set)\n",
    "print(char_tuple)\n",
    "\n",
    "def membership_test(n, container):\n",
    "    for i in range(10):\n",
    "        if 'z' in container:\n",
    "            pass\n",
    "\n",
    "\n",
    "start = time.perf_counter()\n",
    "membership_test(10000000,char_list)\n",
    "end = time.perf_counter()\n",
    "print('list: ', end-start)\n",
    "\n",
    "start = time.perf_counter()\n",
    "membership_test(10000000,char_tuple)\n",
    "end = time.perf_counter()\n",
    "print('list: ', end-start)\n",
    "\n",
    "start = time.perf_counter()\n",
    "membership_test(10000000,char_set)\n",
    "end = time.perf_counter()\n",
    "print('list: ', end-start)\n"
   ],
   "metadata": {
    "collapsed": false,
    "pycharm": {
     "name": "#%%\n"
    }
   }
  },
  {
   "cell_type": "code",
   "execution_count": null,
   "outputs": [],
   "source": [],
   "metadata": {
    "collapsed": false,
    "pycharm": {
     "name": "#%%\n"
    }
   }
  },
  {
   "cell_type": "code",
   "execution_count": null,
   "outputs": [],
   "source": [],
   "metadata": {
    "collapsed": false,
    "pycharm": {
     "name": "#%%\n"
    }
   }
  }
 ],
 "metadata": {
  "kernelspec": {
   "display_name": "Python 3",
   "language": "python",
   "name": "python3"
  },
  "language_info": {
   "codemirror_mode": {
    "name": "ipython",
    "version": 2
   },
   "file_extension": ".py",
   "mimetype": "text/x-python",
   "name": "python",
   "nbconvert_exporter": "python",
   "pygments_lexer": "ipython2",
   "version": "2.7.6"
  }
 },
 "nbformat": 4,
 "nbformat_minor": 0
}