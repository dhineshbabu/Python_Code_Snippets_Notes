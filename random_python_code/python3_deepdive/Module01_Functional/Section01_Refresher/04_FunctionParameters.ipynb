{
 "cells": [
  {
   "cell_type": "code",
   "execution_count": null,
   "metadata": {
    "collapsed": true
   },
   "outputs": [],
   "source": [
    "# Arguments and Parameters\n",
    "# parameters - function definition\n",
    "# arguments - function calling"
   ]
  },
  {
   "cell_type": "code",
   "execution_count": 2,
   "outputs": [
    {
     "name": "stdout",
     "output_type": "stream",
     "text": [
      "1 2\n"
     ]
    }
   ],
   "source": [
    "def my_func(a=1, b=2):\n",
    "    print(a, b)\n",
    "\n",
    "my_func()"
   ],
   "metadata": {
    "collapsed": false,
    "pycharm": {
     "name": "#%%\n"
    }
   }
  },
  {
   "cell_type": "code",
   "execution_count": 4,
   "outputs": [
    {
     "name": "stdout",
     "output_type": "stream",
     "text": [
      "<class 'tuple'>\n"
     ]
    }
   ],
   "source": [
    "a = ()\n",
    "print(type(a))"
   ],
   "metadata": {
    "collapsed": false,
    "pycharm": {
     "name": "#%%\n"
    }
   }
  },
  {
   "cell_type": "code",
   "execution_count": 5,
   "outputs": [
    {
     "name": "stdout",
     "output_type": "stream",
     "text": [
      "1 2 3\n"
     ]
    }
   ],
   "source": [
    "# unpacking - splitting iterable to individual variables\n",
    "a, b, c = [1,2,3]\n",
    "print(a,b,c,)\n"
   ],
   "metadata": {
    "collapsed": false,
    "pycharm": {
     "name": "#%%\n"
    }
   }
  },
  {
   "cell_type": "code",
   "execution_count": 6,
   "outputs": [
    {
     "name": "stdout",
     "output_type": "stream",
     "text": [
      "d i\n"
     ]
    }
   ],
   "source": [
    "# even for strings\n",
    "name = 'dhinesh'\n",
    "d,h,i,n,e,s,h = name\n",
    "print(d, i)"
   ],
   "metadata": {
    "collapsed": false,
    "pycharm": {
     "name": "#%%\n"
    }
   }
  },
  {
   "cell_type": "code",
   "execution_count": 8,
   "outputs": [
    {
     "name": "stdout",
     "output_type": "stream",
     "text": [
      "a b\n"
     ]
    }
   ],
   "source": [
    "# for dictionaries we are unpacking the keys alone\n",
    "d = {'a': 'name1', 'b': 'b'}\n",
    "a, b = d\n",
    "print(a, b)"
   ],
   "metadata": {
    "collapsed": false,
    "pycharm": {
     "name": "#%%\n"
    }
   }
  },
  {
   "cell_type": "code",
   "execution_count": 2,
   "outputs": [
    {
     "name": "stdout",
     "output_type": "stream",
     "text": [
      "20 10\n"
     ]
    }
   ],
   "source": [
    "#swapping\n",
    "a = 10\n",
    "b = 20\n",
    "a,b = b,a\n",
    "print(a,b)"
   ],
   "metadata": {
    "collapsed": false,
    "pycharm": {
     "name": "#%%\n"
    }
   }
  },
  {
   "cell_type": "code",
   "execution_count": 4,
   "outputs": [
    {
     "name": "stdout",
     "output_type": "stream",
     "text": [
      "{'d', 'n', 'h', 'e', 'i'}\n"
     ]
    }
   ],
   "source": [
    "name = {'d', 'h', 'i', 'n', 'e'}\n",
    "print(name)"
   ],
   "metadata": {
    "collapsed": false,
    "pycharm": {
     "name": "#%%\n"
    }
   }
  },
  {
   "cell_type": "code",
   "execution_count": 5,
   "outputs": [
    {
     "name": "stdout",
     "output_type": "stream",
     "text": [
      "[2, 3, 4, 5, 6]\n"
     ]
    }
   ],
   "source": [
    "# extended unpacking\n",
    "l = [1,2,3,4,5,6]\n",
    "a, *b = l\n",
    "print(b) # this is list"
   ],
   "metadata": {
    "collapsed": false,
    "pycharm": {
     "name": "#%%\n"
    }
   }
  },
  {
   "cell_type": "code",
   "execution_count": 6,
   "outputs": [
    {
     "name": "stdout",
     "output_type": "stream",
     "text": [
      "[2, 3, 4, 5]\n"
     ]
    }
   ],
   "source": [
    "# extended unpacking\n",
    "l = [1,2,3,4,5,6]\n",
    "a, *b , c= l\n",
    "print(b) # this is list"
   ],
   "metadata": {
    "collapsed": false,
    "pycharm": {
     "name": "#%%\n"
    }
   }
  },
  {
   "cell_type": "code",
   "execution_count": null,
   "outputs": [],
   "source": [
    "# extended unpacking\n",
    "l = [1,2,3,4,5,6]\n",
    "a, *b , c= l #we cant write multiple assignments\n",
    "print(b) # this is list"
   ],
   "metadata": {
    "collapsed": false,
    "pycharm": {
     "name": "#%%\n"
    }
   }
  },
  {
   "cell_type": "code",
   "execution_count": 7,
   "outputs": [
    {
     "name": "stdout",
     "output_type": "stream",
     "text": [
      "[1, 2, 3, 4, 5, 6, 7, 8, 9]\n"
     ]
    }
   ],
   "source": [
    "# unpacking to extend the list from another lists\n",
    "l1 = [1,2,3,4,5,6]\n",
    "l2 = [7, 8, 9]\n",
    "l3 = [*l1, *l2]\n",
    "print(l3)"
   ],
   "metadata": {
    "collapsed": false,
    "pycharm": {
     "name": "#%%\n"
    }
   }
  },
  {
   "cell_type": "code",
   "execution_count": 8,
   "outputs": [
    {
     "name": "stdout",
     "output_type": "stream",
     "text": [
      "{'a': 1, 'b': 2, 'c': 1, 'd': 2}\n"
     ]
    }
   ],
   "source": [
    "# similarly we can unpack dictionaries but only it can be used at the RHS\n",
    "d1 = {'a': 1, 'b': 2}\n",
    "d2 = {'c': 1, 'd': 2}\n",
    "d3 = {**d1, **d2}\n",
    "print(d3)"
   ],
   "metadata": {
    "collapsed": false,
    "pycharm": {
     "name": "#%%\n"
    }
   }
  },
  {
   "cell_type": "code",
   "execution_count": 9,
   "outputs": [
    {
     "name": "stdout",
     "output_type": "stream",
     "text": [
      "{'a': 1, 'b': 2, 'd': 2}\n"
     ]
    }
   ],
   "source": [
    "# with duplicates\n",
    "d1 = {'a': 1, 'b': 2}\n",
    "d2 = {'a': 1, 'd': 2}\n",
    "d3 = {**d1, **d2}\n",
    "print(d3)"
   ],
   "metadata": {
    "collapsed": false,
    "pycharm": {
     "name": "#%%\n"
    }
   }
  },
  {
   "cell_type": "code",
   "execution_count": 10,
   "outputs": [
    {
     "name": "stdout",
     "output_type": "stream",
     "text": [
      "4 5\n"
     ]
    }
   ],
   "source": [
    "# unpacking nested lists\n",
    "l = [1,2,3,[4,5]]\n",
    "a,b,c,(d,e) = l\n",
    "print(d,e)"
   ],
   "metadata": {
    "collapsed": false,
    "pycharm": {
     "name": "#%%\n"
    }
   }
  },
  {
   "cell_type": "code",
   "execution_count": null,
   "outputs": [],
   "source": [
    "# nested unpacking can have multiple * at the nested levels\n",
    "# but not allowed in normal unpacking scenarios\n"
   ],
   "metadata": {
    "collapsed": false,
    "pycharm": {
     "name": "#%%\n"
    }
   }
  },
  {
   "cell_type": "code",
   "execution_count": 11,
   "outputs": [
    {
     "name": "stdout",
     "output_type": "stream",
     "text": [
      "<class 'tuple'>\n"
     ]
    }
   ],
   "source": [
    "# * args - should be the last element in the parameter after positional arguments\n",
    "# also this can be an optional parameter as well. it will become empty tuple\n",
    "def func1(a, b, *c):\n",
    "    print(type(c))\n",
    "\n",
    "func1(1,2,3,4,5) # this is tuple"
   ],
   "metadata": {
    "collapsed": false,
    "pycharm": {
     "name": "#%%\n"
    }
   }
  },
  {
   "cell_type": "code",
   "execution_count": 12,
   "outputs": [
    {
     "name": "stdout",
     "output_type": "stream",
     "text": [
      "1 2 4\n"
     ]
    }
   ],
   "source": [
    " # keyword arguments\n",
    "def func(a,b,c):\n",
    "    print(a,b,c)\n",
    "\n",
    "func(a=1, b=2, c=4)"
   ],
   "metadata": {
    "collapsed": false,
    "pycharm": {
     "name": "#%%\n"
    }
   }
  },
  {
   "cell_type": "code",
   "execution_count": 13,
   "outputs": [
    {
     "name": "stdout",
     "output_type": "stream",
     "text": [
      "1 2 (4,) {'d': 10}\n"
     ]
    }
   ],
   "source": [
    "# using **kwargs\n",
    "def func(a, b, *c, **d): # here c will be a tuple and d will be a dictionary\n",
    "    print(a,b,c,d)\n",
    "\n",
    "func(1, 2, 4, d=10)"
   ],
   "metadata": {
    "collapsed": false,
    "pycharm": {
     "name": "#%%\n"
    }
   }
  },
  {
   "cell_type": "code",
   "execution_count": 16,
   "outputs": [
    {
     "name": "stdout",
     "output_type": "stream",
     "text": [
      "1 2 4\n"
     ]
    }
   ],
   "source": [
    "# forcing that there is no positional arguments\n",
    "# func(*, b):\n",
    "#   pass\n",
    "\n",
    "def func(a, b, *, d): # here * denotes that there shoould be no positional arguments after b\n",
    "    print(a,b,d)\n",
    "\n",
    "# function calling should be something similar to the below code\n",
    "# func(1, 2, 3) # this will give error\n",
    "func(1, 2, d=4)"
   ],
   "metadata": {
    "collapsed": false,
    "pycharm": {
     "name": "#%%\n"
    }
   }
  },
  {
   "cell_type": "code",
   "execution_count": 19,
   "outputs": [
    {
     "name": "stdout",
     "output_type": "stream",
     "text": [
      "5 4 (3, 2, 1) 0 4\n"
     ]
    }
   ],
   "source": [
    "# mixing all\n",
    "def func(a, b=20, *args, d=0, e):\n",
    "    print(a,b,args,d,e)\n",
    "\n",
    "func(5,4,3,2,1,e=4)"
   ],
   "metadata": {
    "collapsed": false,
    "pycharm": {
     "name": "#%%\n"
    }
   }
  },
  {
   "cell_type": "code",
   "execution_count": 22,
   "outputs": [
    {
     "name": "stdout",
     "output_type": "stream",
     "text": [
      "0 600 () Good Morning python\n"
     ]
    }
   ],
   "source": [
    "func(0, 600, d='Good Morning', e='python')"
   ],
   "metadata": {
    "collapsed": false,
    "pycharm": {
     "name": "#%%\n"
    }
   }
  },
  {
   "cell_type": "code",
   "execution_count": 23,
   "outputs": [
    {
     "name": "stdout",
     "output_type": "stream",
     "text": [
      "0 600 ('Good Morning',) 0 python\n"
     ]
    }
   ],
   "source": [
    "func(0, 600, 'Good Morning', e='python')"
   ],
   "metadata": {
    "collapsed": false,
    "pycharm": {
     "name": "#%%\n"
    }
   }
  },
  {
   "cell_type": "code",
   "execution_count": 24,
   "outputs": [
    {
     "name": "stdout",
     "output_type": "stream",
     "text": [
      "10 {'v': 20, 'f': 30}\n"
     ]
    }
   ],
   "source": [
    "# kwargs\n",
    "def func(*, d, **kwargs): # kwargs can be an empty dictionary\n",
    "    print(d, kwargs)\n",
    "\n",
    "func(d=10, v=20, f=30)"
   ],
   "metadata": {
    "collapsed": false,
    "pycharm": {
     "name": "#%%\n"
    }
   }
  },
  {
   "cell_type": "code",
   "execution_count": 26,
   "outputs": [
    {
     "name": "stdout",
     "output_type": "stream",
     "text": [
      "2021-12-10 14:49:17.097745, Sample message\n",
      "2021-12-10 14:49:17.097745, Sample message\n"
     ]
    }
   ],
   "source": [
    "# note: do not have expressions as value for default argument for keyword arguments in the function definition\n",
    "\n",
    "from datetime import datetime\n",
    "\n",
    "def log(msg, * , dt = datetime.utcnow()):\n",
    "    print(f'{dt}, {msg}')\n",
    "\n",
    "\n",
    "log('Sample message')\n",
    "log('Sample message') # both will print the same timestamp, because the utcnow() expression will be executed only once during the function definition"
   ],
   "metadata": {
    "collapsed": false,
    "pycharm": {
     "name": "#%%\n"
    }
   }
  },
  {
   "cell_type": "code",
   "execution_count": null,
   "outputs": [],
   "source": [
    "# similarly, it is not recommended to use mutable object such as list as default value in the function definition since it will change in future"
   ],
   "metadata": {
    "collapsed": false,
    "pycharm": {
     "name": "#%%\n"
    }
   }
  },
  {
   "cell_type": "code",
   "execution_count": null,
   "outputs": [],
   "source": [
    "# but we can use for cache like scenarios"
   ],
   "metadata": {
    "collapsed": false,
    "pycharm": {
     "name": "#%%\n"
    }
   }
  },
  {
   "cell_type": "code",
   "execution_count": null,
   "outputs": [],
   "source": [],
   "metadata": {
    "collapsed": false,
    "pycharm": {
     "name": "#%%\n"
    }
   }
  },
  {
   "cell_type": "markdown",
   "source": [
    "# functions are first class in python"
   ],
   "metadata": {
    "collapsed": false
   }
  },
  {
   "cell_type": "code",
   "execution_count": 27,
   "outputs": [
    {
     "name": "stdout",
     "output_type": "stream",
     "text": [
      " this is docstring \n"
     ]
    }
   ],
   "source": [
    "# DocString and Annotation\n",
    "# first line of any function if string, then it is interpreted as docstring ''' is prefered\n",
    "# will be stored in __doc__ property\n",
    "def my_func():\n",
    "    ''' this is docstring '''\n",
    "    pass\n",
    "\n",
    "print(my_func.__doc__)"
   ],
   "metadata": {
    "collapsed": false,
    "pycharm": {
     "name": "#%%\n"
    }
   }
  },
  {
   "cell_type": "code",
   "execution_count": null,
   "outputs": [],
   "source": [
    "# similarly, annotation (type hints) are stored in __annotations__ property of a function\n"
   ],
   "metadata": {
    "collapsed": false,
    "pycharm": {
     "name": "#%%\n"
    }
   }
  },
  {
   "cell_type": "code",
   "execution_count": 28,
   "outputs": [
    {
     "name": "stdout",
     "output_type": "stream",
     "text": [
      "100\n"
     ]
    }
   ],
   "source": [
    "# Lambda Expressions\n",
    "# limited to single line expression, but line breaks (logical) is allowed\n",
    "# no annotations\n",
    "# can not do variable assignment\n",
    "# we can specify default values\n",
    "\n",
    "test = lambda a: a*a\n",
    "print(test(10))"
   ],
   "metadata": {
    "collapsed": false,
    "pycharm": {
     "name": "#%%\n"
    }
   }
  },
  {
   "cell_type": "code",
   "execution_count": 29,
   "outputs": [
    {
     "data": {
      "text/plain": "function"
     },
     "execution_count": 29,
     "metadata": {},
     "output_type": "execute_result"
    }
   ],
   "source": [
    "type(lambda a: a*a)"
   ],
   "metadata": {
    "collapsed": false,
    "pycharm": {
     "name": "#%%\n"
    }
   }
  },
  {
   "cell_type": "code",
   "execution_count": 31,
   "outputs": [
    {
     "name": "stdout",
     "output_type": "stream",
     "text": [
      "this is no parameter lambda\n"
     ]
    }
   ],
   "source": [
    "# lambda with empty parameters\n",
    "test = lambda : 'this is no parameter lambda'\n",
    "print(test())"
   ],
   "metadata": {
    "collapsed": false,
    "pycharm": {
     "name": "#%%\n"
    }
   }
  },
  {
   "cell_type": "code",
   "execution_count": 32,
   "outputs": [
    {
     "name": "stdout",
     "output_type": "stream",
     "text": [
      "This is false\n"
     ]
    }
   ],
   "source": [
    "test = lambda x: True if x == 10 else 'This is false'\n",
    "print(test(11))"
   ],
   "metadata": {
    "collapsed": false,
    "pycharm": {
     "name": "#%%\n"
    }
   }
  },
  {
   "cell_type": "code",
   "execution_count": 34,
   "outputs": [
    {
     "data": {
      "text/plain": "15"
     },
     "execution_count": 34,
     "metadata": {},
     "output_type": "execute_result"
    }
   ],
   "source": [
    "# sample code\n",
    "def apply_func(fn, *args, **kwargs):\n",
    "    return fn(*args, **kwargs)\n",
    "\n",
    "apply_func(lambda *args: sum(args), 1,2,3,4,5)"
   ],
   "metadata": {
    "collapsed": false,
    "pycharm": {
     "name": "#%%\n"
    }
   }
  },
  {
   "cell_type": "code",
   "execution_count": 35,
   "outputs": [
    {
     "data": {
      "text/plain": "21"
     },
     "execution_count": 35,
     "metadata": {},
     "output_type": "execute_result"
    }
   ],
   "source": [
    "# another example\n",
    "apply_func(lambda x, *, y: x+y, 1, y=20)"
   ],
   "metadata": {
    "collapsed": false,
    "pycharm": {
     "name": "#%%\n"
    }
   }
  },
  {
   "cell_type": "code",
   "execution_count": null,
   "outputs": [],
   "source": [
    "# Function Introspection"
   ],
   "metadata": {
    "collapsed": false,
    "pycharm": {
     "name": "#%%\n"
    }
   }
  },
  {
   "cell_type": "code",
   "execution_count": 50,
   "outputs": [
    {
     "name": "stdout",
     "output_type": "stream",
     "text": [
      "['__annotations__', '__call__', '__class__', '__closure__', '__code__', '__defaults__', '__delattr__', '__dict__', '__dir__', '__doc__', '__eq__', '__format__', '__ge__', '__get__', '__getattribute__', '__globals__', '__gt__', '__hash__', '__init__', '__init_subclass__', '__kwdefaults__', '__le__', '__lt__', '__module__', '__name__', '__ne__', '__new__', '__qualname__', '__reduce__', '__reduce_ex__', '__repr__', '__setattr__', '__sizeof__', '__str__', '__subclasshook__']\n"
     ]
    }
   ],
   "source": [
    "# preceding comment\n",
    "def my_func(a, b=2, c=3, *, k1, kw2=2):\n",
    "    # some comment\n",
    "    pass\n",
    "\n",
    "\n",
    "print(dir(my_func))"
   ],
   "metadata": {
    "collapsed": false,
    "pycharm": {
     "name": "#%%\n"
    }
   }
  },
  {
   "cell_type": "code",
   "execution_count": 39,
   "outputs": [
    {
     "data": {
      "text/plain": "'my_func'"
     },
     "execution_count": 39,
     "metadata": {},
     "output_type": "execute_result"
    }
   ],
   "source": [
    "my_func.__name__"
   ],
   "metadata": {
    "collapsed": false,
    "pycharm": {
     "name": "#%%\n"
    }
   }
  },
  {
   "cell_type": "code",
   "execution_count": 40,
   "outputs": [
    {
     "data": {
      "text/plain": "(2, 3)"
     },
     "execution_count": 40,
     "metadata": {},
     "output_type": "execute_result"
    }
   ],
   "source": [
    "my_func.__defaults__"
   ],
   "metadata": {
    "collapsed": false,
    "pycharm": {
     "name": "#%%\n"
    }
   }
  },
  {
   "cell_type": "code",
   "execution_count": 42,
   "outputs": [
    {
     "data": {
      "text/plain": "('a', 'b', 'c', 'k1', 'kw2')"
     },
     "execution_count": 42,
     "metadata": {},
     "output_type": "execute_result"
    }
   ],
   "source": [
    "my_func.__code__.co_varnames"
   ],
   "metadata": {
    "collapsed": false,
    "pycharm": {
     "name": "#%%\n"
    }
   }
  },
  {
   "cell_type": "code",
   "execution_count": 57,
   "outputs": [
    {
     "name": "stdout",
     "output_type": "stream",
     "text": [
      "False\n",
      "def my_func(a, b=2, c=3, *, k1, kw2: 'some annotation'=2, **kwargs):\n",
      "    \"\"\"some docstring here\"\"\"\n",
      "    pass\n",
      "\n",
      "<module '__main__'>\n",
      "<module 'builtins' (built-in)>\n",
      "# another example\n",
      "\n",
      "(a, b=2, c=3, *, k1, kw2: 'some annotation' = 2, **kwargs)\n",
      "Name : a\n",
      "Default : <class 'inspect._empty'>\n",
      "Annotation : <class 'inspect._empty'>\n",
      "kind : POSITIONAL_OR_KEYWORD\n",
      "-----------------------------------\n",
      "Name : b\n",
      "Default : 2\n",
      "Annotation : <class 'inspect._empty'>\n",
      "kind : POSITIONAL_OR_KEYWORD\n",
      "-----------------------------------\n",
      "Name : c\n",
      "Default : 3\n",
      "Annotation : <class 'inspect._empty'>\n",
      "kind : POSITIONAL_OR_KEYWORD\n",
      "-----------------------------------\n",
      "Name : k1\n",
      "Default : <class 'inspect._empty'>\n",
      "Annotation : <class 'inspect._empty'>\n",
      "kind : KEYWORD_ONLY\n",
      "-----------------------------------\n",
      "Name : kw2\n",
      "Default : 2\n",
      "Annotation : some annotation\n",
      "kind : KEYWORD_ONLY\n",
      "-----------------------------------\n",
      "Name : kwargs\n",
      "Default : <class 'inspect._empty'>\n",
      "Annotation : <class 'inspect._empty'>\n",
      "kind : VAR_KEYWORD\n",
      "-----------------------------------\n"
     ]
    }
   ],
   "source": [
    "# using inspect module\n",
    "import inspect\n",
    "print(inspect.iscode(my_func))\n",
    "print(inspect.getsource(my_func))\n",
    "print(inspect.getmodule(my_func))\n",
    "print(inspect.getmodule(print))\n",
    "print(inspect.getcomments(my_func))\n",
    "print(inspect.signature(my_func))\n",
    "\n",
    "for param in inspect.signature(my_func).parameters.values():\n",
    "    print(f'Name : {param.name}')\n",
    "    print(f'Default : {param.default}')\n",
    "    print(f'Annotation : {param.annotation}')\n",
    "    print(f'kind : {param.kind}')\n",
    "    print('-----------------------------------')\n"
   ],
   "metadata": {
    "collapsed": false,
    "pycharm": {
     "name": "#%%\n"
    }
   }
  },
  {
   "cell_type": "code",
   "execution_count": 54,
   "outputs": [
    {
     "name": "stdout",
     "output_type": "stream",
     "text": [
      "Name:  a\n",
      "Default:  <class 'inspect._empty'>\n",
      "Annotation:  <class 'inspect._empty'>\n",
      "Kind:  POSITIONAL_OR_KEYWORD\n",
      "Name:  b\n",
      "Default:  2\n",
      "Annotation:  <class 'inspect._empty'>\n",
      "Kind:  POSITIONAL_OR_KEYWORD\n",
      "Name:  c\n",
      "Default:  3\n",
      "Annotation:  <class 'inspect._empty'>\n",
      "Kind:  POSITIONAL_OR_KEYWORD\n",
      "Name:  k1\n",
      "Default:  <class 'inspect._empty'>\n",
      "Annotation:  <class 'inspect._empty'>\n",
      "Kind:  KEYWORD_ONLY\n",
      "Name:  kw2\n",
      "Default:  2\n",
      "Annotation:  some annotation\n",
      "Kind:  KEYWORD_ONLY\n",
      "Name:  kwargs\n",
      "Default:  <class 'inspect._empty'>\n",
      "Annotation:  <class 'inspect._empty'>\n",
      "Kind:  VAR_KEYWORD\n"
     ]
    }
   ],
   "source": [
    "# another example\n",
    "def my_func(a, b=2, c=3, *, k1, kw2: 'some annotation'=2, **kwargs):\n",
    "    \"\"\"some docstring here\"\"\"\n",
    "    pass\n",
    "\n",
    "for param in inspect.signature(my_func).parameters.values():\n",
    "    print('Name: ', param.name)\n",
    "    print('Default: ', param.default)\n",
    "    print('Annotation: ', param.annotation)\n",
    "    print('Kind: ', param.kind)"
   ],
   "metadata": {
    "collapsed": false,
    "pycharm": {
     "name": "#%%\n"
    }
   }
  },
  {
   "cell_type": "code",
   "execution_count": 58,
   "outputs": [
    {
     "data": {
      "text/plain": "True"
     },
     "execution_count": 58,
     "metadata": {},
     "output_type": "execute_result"
    }
   ],
   "source": [
    "# callable\n",
    "callable(print)"
   ],
   "metadata": {
    "collapsed": false,
    "pycharm": {
     "name": "#%%\n"
    }
   }
  },
  {
   "cell_type": "code",
   "execution_count": 59,
   "outputs": [
    {
     "data": {
      "text/plain": "True"
     },
     "execution_count": 59,
     "metadata": {},
     "output_type": "execute_result"
    }
   ],
   "source": [
    "callable(str.upper)"
   ],
   "metadata": {
    "collapsed": false,
    "pycharm": {
     "name": "#%%\n"
    }
   }
  },
  {
   "cell_type": "code",
   "execution_count": 60,
   "outputs": [
    {
     "name": "stdout",
     "output_type": "stream",
     "text": [
      "True\n"
     ]
    }
   ],
   "source": [
    "# classes are callable\n",
    "class Myclass:\n",
    "    pass\n",
    "\n",
    "print(callable(Myclass))"
   ],
   "metadata": {
    "collapsed": false,
    "pycharm": {
     "name": "#%%\n"
    }
   }
  },
  {
   "cell_type": "code",
   "execution_count": null,
   "outputs": [],
   "source": [
    "# custom objects are callable if they are implementing __call__()"
   ],
   "metadata": {
    "collapsed": false,
    "pycharm": {
     "name": "#%%\n"
    }
   }
  },
  {
   "cell_type": "code",
   "execution_count": 61,
   "outputs": [],
   "source": [
    "class NewClass:\n",
    "    def __init__(self, x=0):\n",
    "        print('initializing....')\n",
    "        self.counter = x\n",
    "\n",
    "    def __call__(self, x=1):\n",
    "        print('updating counter...')\n",
    "        self.counter =+ x\n"
   ],
   "metadata": {
    "collapsed": false,
    "pycharm": {
     "name": "#%%\n"
    }
   }
  },
  {
   "cell_type": "code",
   "execution_count": 62,
   "outputs": [
    {
     "name": "stdout",
     "output_type": "stream",
     "text": [
      "initializing....\n",
      "True\n"
     ]
    }
   ],
   "source": [
    "b = NewClass()\n",
    "print(callable(b))"
   ],
   "metadata": {
    "collapsed": false,
    "pycharm": {
     "name": "#%%\n"
    }
   }
  },
  {
   "cell_type": "code",
   "execution_count": 63,
   "outputs": [
    {
     "data": {
      "text/plain": "type"
     },
     "execution_count": 63,
     "metadata": {},
     "output_type": "execute_result"
    }
   ],
   "source": [
    "type(Myclass)"
   ],
   "metadata": {
    "collapsed": false,
    "pycharm": {
     "name": "#%%\n"
    }
   }
  },
  {
   "cell_type": "code",
   "execution_count": null,
   "outputs": [],
   "source": [
    "# map function\n",
    "# map "
   ],
   "metadata": {
    "collapsed": false,
    "pycharm": {
     "name": "#%%\n"
    }
   }
  },
  {
   "cell_type": "code",
   "execution_count": null,
   "outputs": [],
   "source": [],
   "metadata": {
    "collapsed": false,
    "pycharm": {
     "name": "#%%\n"
    }
   }
  },
  {
   "cell_type": "code",
   "execution_count": null,
   "outputs": [],
   "source": [],
   "metadata": {
    "collapsed": false,
    "pycharm": {
     "name": "#%%\n"
    }
   }
  },
  {
   "cell_type": "code",
   "execution_count": null,
   "outputs": [],
   "source": [],
   "metadata": {
    "collapsed": false,
    "pycharm": {
     "name": "#%%\n"
    }
   }
  },
  {
   "cell_type": "code",
   "execution_count": null,
   "outputs": [],
   "source": [],
   "metadata": {
    "collapsed": false,
    "pycharm": {
     "name": "#%%\n"
    }
   }
  },
  {
   "cell_type": "code",
   "execution_count": null,
   "outputs": [],
   "source": [],
   "metadata": {
    "collapsed": false,
    "pycharm": {
     "name": "#%%\n"
    }
   }
  }
 ],
 "metadata": {
  "kernelspec": {
   "display_name": "Python 3",
   "language": "python",
   "name": "python3"
  },
  "language_info": {
   "codemirror_mode": {
    "name": "ipython",
    "version": 2
   },
   "file_extension": ".py",
   "mimetype": "text/x-python",
   "name": "python",
   "nbconvert_exporter": "python",
   "pygments_lexer": "ipython2",
   "version": "2.7.6"
  }
 },
 "nbformat": 4,
 "nbformat_minor": 0
}