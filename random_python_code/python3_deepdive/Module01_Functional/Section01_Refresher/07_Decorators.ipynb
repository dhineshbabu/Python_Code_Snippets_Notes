{
 "cells": [
  {
   "cell_type": "code",
   "execution_count": 7,
   "metadata": {},
   "outputs": [],
   "source": [
    "## Decorators (contd.)"
   ]
  },
  {
   "cell_type": "markdown",
   "metadata": {},
   "source": [
    "## Decorator Parameter"
   ]
  },
  {
   "cell_type": "code",
   "execution_count": 8,
   "metadata": {},
   "outputs": [
    {
     "ename": "SyntaxError",
     "evalue": "invalid syntax (Temp/ipykernel_8852/1235331270.py, line 1)",
     "output_type": "error",
     "traceback": [
      "\u001b[1;36m  File \u001b[1;32m\"C:\\Users\\LENOVO\\AppData\\Local\\Temp/ipykernel_8852/1235331270.py\"\u001b[1;36m, line \u001b[1;32m1\u001b[0m\n\u001b[1;33m    for\u001b[0m\n\u001b[1;37m        ^\u001b[0m\n\u001b[1;31mSyntaxError\u001b[0m\u001b[1;31m:\u001b[0m invalid syntax\n"
     ]
    }
   ],
   "source": []
  },
  {
   "cell_type": "code",
   "execution_count": null,
   "metadata": {},
   "outputs": [],
   "source": [
    "# demo for parameterized decorator\n",
    "def timed(fn, reps):\n",
    "    from time import perf_counter\n",
    "\n",
    "    def inner(*args, **kwargs):\n",
    "        total_elapsed = 0\n",
    "        for i in range(reps):\n",
    "            start = perf_counter()\n",
    "            result = fn(*args, **kwargs)\n",
    "            total_elapsed += (perf_counter() - start)\n",
    "        avg_elapsed = total_elapsed / reps\n",
    "        print(avg_elapsed)\n",
    "        return result\n",
    "    return inner"
   ]
  },
  {
   "cell_type": "code",
   "execution_count": null,
   "metadata": {},
   "outputs": [],
   "source": [
    "# put the above code inside an outer function\n",
    "# timed here is called as \"decorator factory\" (outer function that returns the decorator)\n",
    "\n",
    "def timed(reps):\n",
    "    def dec(fn):\n",
    "        from time import perf_counter\n",
    "\n",
    "        def inner(*args, **kwargs):\n",
    "            total_elapsed = 0\n",
    "            for i in range(reps):\n",
    "                start = perf_counter()\n",
    "                result = fn(*args, **kwargs)\n",
    "                total_elapsed += (perf_counter() - start)\n",
    "            avg_elapsed = total_elapsed / reps\n",
    "            print(f'Avg run time: {avg_elapsed}')\n",
    "            return result\n",
    "        return inner\n",
    "    return dec\n"
   ]
  },
  {
   "cell_type": "code",
   "execution_count": null,
   "metadata": {},
   "outputs": [],
   "source": [
    "def calc_fib_recurse(n):\n",
    "    return 1 if n<3 else calc_fib_recurse(n-1)+calc_fib_recurse(n-2)"
   ]
  },
  {
   "cell_type": "code",
   "execution_count": null,
   "metadata": {},
   "outputs": [],
   "source": [
    "@timed(5)\n",
    "def fib(n):\n",
    "    return calc_fib_recurse(n)\n"
   ]
  },
  {
   "cell_type": "code",
   "execution_count": null,
   "metadata": {},
   "outputs": [
    {
     "name": "stdout",
     "output_type": "stream",
     "text": [
      "Avg run time: 0.1994881400000395\n"
     ]
    },
    {
     "data": {
      "text/plain": [
       "317811"
      ]
     },
     "execution_count": 20,
     "metadata": {},
     "output_type": "execute_result"
    }
   ],
   "source": [
    "fib(28)"
   ]
  },
  {
   "cell_type": "code",
   "execution_count": null,
   "metadata": {},
   "outputs": [
    {
     "data": {
      "text/plain": [
       "<function __main__.timed.<locals>.dec.<locals>.inner(*args, **kwargs)>"
      ]
     },
     "execution_count": 18,
     "metadata": {},
     "output_type": "execute_result"
    }
   ],
   "source": [
    "fib(28)"
   ]
  },
  {
   "cell_type": "markdown",
   "metadata": {},
   "source": [
    "## Decorator Class"
   ]
  },
  {
   "cell_type": "code",
   "execution_count": null,
   "metadata": {},
   "outputs": [],
   "source": [
    "# a simple decorator factory\n",
    "def my_dec(a, b):\n",
    "    def dec(fn):\n",
    "        def inner(*args, **kwargs):\n",
    "            print(f'decorated function called: a = {a}, b = {b}')\n",
    "            return fn(*args, **kwargs)\n",
    "        return inner\n",
    "    return dec"
   ]
  },
  {
   "cell_type": "code",
   "execution_count": null,
   "metadata": {},
   "outputs": [],
   "source": [
    "@my_dec(10, 20)\n",
    "def my_func(a):\n",
    "    print(f'Hello {a}')"
   ]
  },
  {
   "cell_type": "code",
   "execution_count": null,
   "metadata": {},
   "outputs": [
    {
     "name": "stdout",
     "output_type": "stream",
     "text": [
      "decorated function called: a = 10, b = 20\n",
      "Hello Dhinesh\n"
     ]
    }
   ],
   "source": [
    "my_func('Dhinesh')"
   ]
  },
  {
   "cell_type": "code",
   "execution_count": null,
   "metadata": {},
   "outputs": [],
   "source": [
    "class MyClass:\n",
    "    def __init__(self, a, b) -> None:\n",
    "        self.a = a\n",
    "        self.b = b\n",
    "\n",
    "    def __call__(self, c):\n",
    "        print(f'Caled a = {self.a}, b = {self.b}, c  = {c}')\n"
   ]
  },
  {
   "cell_type": "code",
   "execution_count": null,
   "metadata": {},
   "outputs": [],
   "source": [
    "obj = MyClass(10, 20)"
   ]
  },
  {
   "cell_type": "code",
   "execution_count": null,
   "metadata": {},
   "outputs": [
    {
     "data": {
      "text/plain": [
       "<__main__.MyClass at 0x2a84c7663b0>"
      ]
     },
     "execution_count": 30,
     "metadata": {},
     "output_type": "execute_result"
    }
   ],
   "source": [
    "obj"
   ]
  },
  {
   "cell_type": "code",
   "execution_count": null,
   "metadata": {},
   "outputs": [
    {
     "name": "stdout",
     "output_type": "stream",
     "text": [
      "Caled a = 10, b = 20, c  = 100\n"
     ]
    }
   ],
   "source": [
    "obj.__call__(100)"
   ]
  },
  {
   "cell_type": "code",
   "execution_count": null,
   "metadata": {},
   "outputs": [
    {
     "name": "stdout",
     "output_type": "stream",
     "text": [
      "Caled a = 10, b = 20, c  = 100\n"
     ]
    }
   ],
   "source": [
    "obj(100)"
   ]
  },
  {
   "cell_type": "code",
   "execution_count": null,
   "metadata": {},
   "outputs": [],
   "source": [
    "# adding inner function to the __call__ method that will enable a class to be used as an decorator\n",
    "class MyClass:\n",
    "    def __init__(self, a, b) -> None:\n",
    "        self.a = a\n",
    "        self.b = b\n",
    "\n",
    "    def __call__(self, fn):\n",
    "        def inner(*args, **kwargs):\n",
    "            print(f'decorated function called: a = {self.a}, b = {self.b}')\n",
    "            return fn(*args, **kwargs)\n",
    "        return inner"
   ]
  },
  {
   "cell_type": "code",
   "execution_count": null,
   "metadata": {},
   "outputs": [],
   "source": [
    "# decorating using the class\n",
    "@MyClass(10, 20)\n",
    "def my_func(s):\n",
    "    print(f'Hello {s}')"
   ]
  },
  {
   "cell_type": "code",
   "execution_count": null,
   "metadata": {},
   "outputs": [
    {
     "name": "stdout",
     "output_type": "stream",
     "text": [
      "decorated function called: a = 10, b = 20\n",
      "Hello Dhinesh\n"
     ]
    }
   ],
   "source": [
    "my_func('Dhinesh')"
   ]
  },
  {
   "cell_type": "code",
   "execution_count": null,
   "metadata": {},
   "outputs": [
    {
     "name": "stdout",
     "output_type": "stream",
     "text": [
      "decorated function called: a = 30, b = 20\n",
      "Hello Dhinesh\n"
     ]
    }
   ],
   "source": [
    "# another way\n",
    "obj = MyClass(30, 20)\n",
    "\n",
    "def my_func(s):\n",
    "    print(f'Hello {s}')\n",
    "\n",
    "my_func = obj(my_func) # this will add the class decorator to the function\n",
    "my_func('Dhinesh')"
   ]
  },
  {
   "cell_type": "markdown",
   "metadata": {},
   "source": [
    "## Decorating Classes than functions"
   ]
  },
  {
   "cell_type": "code",
   "execution_count": null,
   "metadata": {},
   "outputs": [
    {
     "data": {
      "text/plain": [
       "Fraction(2, 3)"
      ]
     },
     "execution_count": 43,
     "metadata": {},
     "output_type": "execute_result"
    }
   ],
   "source": [
    "from fractions import Fraction\n",
    "f = Fraction(2,3)\n",
    "f"
   ]
  },
  {
   "cell_type": "code",
   "execution_count": null,
   "metadata": {},
   "outputs": [
    {
     "data": {
      "text/plain": [
       "100"
      ]
     },
     "execution_count": 44,
     "metadata": {},
     "output_type": "execute_result"
    }
   ],
   "source": [
    "# adding additional attribute\n",
    "Fraction.speak = 100\n",
    "Fraction.speak"
   ]
  },
  {
   "cell_type": "code",
   "execution_count": null,
   "metadata": {},
   "outputs": [],
   "source": [
    "Fraction.speak = lambda self, message: f'Franction says: {message}'"
   ]
  },
  {
   "cell_type": "code",
   "execution_count": null,
   "metadata": {},
   "outputs": [
    {
     "data": {
      "text/plain": [
       "'Franction says: THis is a late parrot'"
      ]
     },
     "execution_count": 46,
     "metadata": {},
     "output_type": "execute_result"
    }
   ],
   "source": [
    "f.speak('THis is a late parrot')"
   ]
  },
  {
   "cell_type": "code",
   "execution_count": null,
   "metadata": {},
   "outputs": [],
   "source": [
    "# adding another attribute\n",
    "\n",
    "Fraction.is_integral = lambda self: self.denominator == 1"
   ]
  },
  {
   "cell_type": "code",
   "execution_count": null,
   "metadata": {},
   "outputs": [],
   "source": [
    "f1 = Fraction(64, 8)"
   ]
  },
  {
   "cell_type": "code",
   "execution_count": null,
   "metadata": {},
   "outputs": [
    {
     "data": {
      "text/plain": [
       "Fraction(8, 1)"
      ]
     },
     "execution_count": 57,
     "metadata": {},
     "output_type": "execute_result"
    }
   ],
   "source": [
    "f1"
   ]
  },
  {
   "cell_type": "code",
   "execution_count": null,
   "metadata": {},
   "outputs": [
    {
     "data": {
      "text/plain": [
       "True"
      ]
     },
     "execution_count": 58,
     "metadata": {},
     "output_type": "execute_result"
    }
   ],
   "source": [
    "f1.is_integral()"
   ]
  },
  {
   "cell_type": "code",
   "execution_count": null,
   "metadata": {},
   "outputs": [],
   "source": [
    "def dec_speak(cls):\n",
    "    cls.speak = lambda self, message: f'{self.__class__.__name__} says {message}'\n",
    "    return cls"
   ]
  },
  {
   "cell_type": "code",
   "execution_count": null,
   "metadata": {},
   "outputs": [],
   "source": [
    "Fraction = dec_speak(Fraction) # mutuating with new attribute"
   ]
  },
  {
   "cell_type": "code",
   "execution_count": null,
   "metadata": {},
   "outputs": [
    {
     "data": {
      "text/plain": [
       "'Fraction says Hello'"
      ]
     },
     "execution_count": 61,
     "metadata": {},
     "output_type": "execute_result"
    }
   ],
   "source": [
    "f1 = Fraction(2, 3)\n",
    "f1.speak('Hello')"
   ]
  },
  {
   "cell_type": "code",
   "execution_count": null,
   "metadata": {},
   "outputs": [
    {
     "data": {
      "text/plain": [
       "'Person says This works!!!'"
      ]
     },
     "execution_count": 62,
     "metadata": {},
     "output_type": "execute_result"
    }
   ],
   "source": [
    "# mututaing attribute to a custom class\n",
    "class Person:\n",
    "    pass\n",
    "\n",
    "Person = dec_speak(Person)\n",
    "p = Person()\n",
    "p.speak('This works!!!')"
   ]
  },
  {
   "cell_type": "code",
   "execution_count": 1,
   "metadata": {},
   "outputs": [],
   "source": [
    "# another example\n",
    "\n",
    "from datetime import datetime, timezone\n",
    "\n",
    "def info(self):\n",
    "    results = []\n",
    "    results.append(f'time: {datetime.now(timezone.utc)}')\n",
    "    results.append(f'Class {self.__class__.__name__}')\n",
    "    results.append(f'id: {hex(id(self))}')\n",
    "\n",
    "    for k,v in vars(self).items():\n",
    "        results.append(f'{k}: {v}')\n",
    "    \n",
    "    return results\n",
    "\n",
    "def debug_info(cls):\n",
    "    cls.debug = info\n",
    "    return cls "
   ]
  },
  {
   "cell_type": "code",
   "execution_count": 2,
   "metadata": {},
   "outputs": [],
   "source": [
    "@debug_info\n",
    "class Person:\n",
    "    def __init__(self, name, birth_year) -> None:\n",
    "        self.name = name\n",
    "        self.birth_year = birth_year\n",
    "\n",
    "    def say_hi():\n",
    "        return 'Hello there !'"
   ]
  },
  {
   "cell_type": "code",
   "execution_count": 3,
   "metadata": {},
   "outputs": [
    {
     "data": {
      "text/plain": [
       "['time: 2021-12-26 07:04:45.615756+00:00',\n",
       " 'Class Person',\n",
       " 'id: 0x25078c16890',\n",
       " 'name: Dhinesh',\n",
       " 'birth_year: 1989']"
      ]
     },
     "execution_count": 3,
     "metadata": {},
     "output_type": "execute_result"
    }
   ],
   "source": [
    "p = Person('Dhinesh', 1989)\n",
    "p.debug()"
   ]
  },
  {
   "cell_type": "code",
   "execution_count": 3,
   "metadata": {},
   "outputs": [],
   "source": [
    "# another class\n",
    "\n",
    "@debug_info\n",
    "class Automobile:\n",
    "    def __init__(self, make, model, year, top_speed) -> None:\n",
    "        self.make = make\n",
    "        self.model = model\n",
    "        self.year = year\n",
    "        self.top_speed = top_speed\n",
    "        self._speed = 0\n",
    "\n",
    "    @property\n",
    "    def speed(self):\n",
    "        return self._speed\n",
    "\n",
    "    @speed.setter\n",
    "    def speed(self, new_speed):\n",
    "        if new_speed > self.top_speed:\n",
    "            raise ValueError('Speed cannot exceed top_speed')\n",
    "        else:\n",
    "            self.speed = new_speed"
   ]
  },
  {
   "cell_type": "code",
   "execution_count": 4,
   "metadata": {},
   "outputs": [],
   "source": [
    "favorite = Automobile('Ford', 'Model T', 1908, 45)"
   ]
  },
  {
   "cell_type": "code",
   "execution_count": 5,
   "metadata": {},
   "outputs": [
    {
     "data": {
      "text/plain": [
       "['time: 2021-12-26 07:07:30.679081+00:00',\n",
       " 'Class Automobile',\n",
       " 'id: 0x1782bde6440',\n",
       " 'make: Ford',\n",
       " 'model: Model T',\n",
       " 'year: 1908',\n",
       " 'top_speed: 45',\n",
       " '_speed: 0']"
      ]
     },
     "execution_count": 5,
     "metadata": {},
     "output_type": "execute_result"
    }
   ],
   "source": [
    "favorite.debug()"
   ]
  },
  {
   "cell_type": "code",
   "execution_count": null,
   "metadata": {},
   "outputs": [],
   "source": [
    "favorite.speed = 40"
   ]
  },
  {
   "cell_type": "markdown",
   "metadata": {},
   "source": [
    "## Decorator application : Single Dispatch Generic Function"
   ]
  },
  {
   "cell_type": "code",
   "execution_count": 5,
   "metadata": {},
   "outputs": [],
   "source": [
    "from html import escape \n",
    "\n",
    "def html_escape(arg):\n",
    "    return escape(str(arg))\n",
    "\n",
    "\n",
    "def html_int(a):\n",
    "    return f'{a}(<i>{str(hex(a))}</i>)'\n",
    "\n",
    "def html_real(a):\n",
    "    return f'{0:.2f}'.format(round(a, 2))\n",
    "\n",
    "def html_str(s):\n",
    "    return html_escape(s).replace('\\n', '<br/>\\n')\n",
    "\n",
    "def html_list(l):\n",
    "    items = ('<li>{0}</li>'.format(html_escape(item)) for item in l)\n",
    "    return '<ul>\\n' + '\\n'.join(items) + '\\n</ul>'\n",
    "\n",
    "def html_dict(d):\n",
    "    items = ('<li>{0}={1}</li>'.format(k, v) for k, v in d.items())\n",
    "    return '<ul>\\n' + '\\n'.join(items) + '\\n</ul>'\n"
   ]
  },
  {
   "cell_type": "code",
   "execution_count": 3,
   "metadata": {},
   "outputs": [
    {
     "name": "stdout",
     "output_type": "stream",
     "text": [
      "this is <br/>\n",
      "a multi line string<br/>\n",
      "with special characters: 10 &lt; 100\n"
     ]
    }
   ],
   "source": [
    "print(html_str(\"\"\"this is \n",
    "a multi line string\n",
    "with special characters: 10 < 100\"\"\"))"
   ]
  },
  {
   "cell_type": "code",
   "execution_count": 6,
   "metadata": {},
   "outputs": [
    {
     "name": "stdout",
     "output_type": "stream",
     "text": [
      "255(<i>0xff</i>)\n"
     ]
    }
   ],
   "source": [
    "print(html_int(255))"
   ]
  },
  {
   "cell_type": "code",
   "execution_count": 7,
   "metadata": {},
   "outputs": [
    {
     "name": "stdout",
     "output_type": "stream",
     "text": [
      "(10+2j)\n"
     ]
    }
   ],
   "source": [
    "print(html_escape(10+2j))"
   ]
  },
  {
   "cell_type": "code",
   "execution_count": 8,
   "metadata": {},
   "outputs": [],
   "source": [
    "from decimal import Decimal\n",
    "from html import escape\n",
    "\n",
    "def htmlize(arg):\n",
    "    if isinstance(arg, int):\n",
    "        return html_int(arg)\n",
    "    elif isinstance(arg, float) or isinstance(arg, Decimal):\n",
    "        return html_real(arg)\n",
    "    elif isinstance(arg, str):\n",
    "        return html_str(arg)\n",
    "    elif isinstance(arg, list) or isinstance(arg, tuple):\n",
    "        return html_list(arg)\n",
    "    elif isinstance(arg, dict):\n",
    "        return html_dict(arg)\n",
    "    else:\n",
    "        return html_escape(arg)"
   ]
  },
  {
   "cell_type": "code",
   "execution_count": 9,
   "metadata": {},
   "outputs": [
    {
     "data": {
      "text/plain": [
       "'100(<i>0x64</i>)'"
      ]
     },
     "execution_count": 9,
     "metadata": {},
     "output_type": "execute_result"
    }
   ],
   "source": [
    "htmlize(100)"
   ]
  },
  {
   "cell_type": "code",
   "execution_count": 11,
   "metadata": {},
   "outputs": [
    {
     "name": "stdout",
     "output_type": "stream",
     "text": [
      "<ul>\n",
      "<li>1</li>\n",
      "<li>2</li>\n",
      "<li>3</li>\n",
      "</ul>\n"
     ]
    }
   ],
   "source": [
    "print(htmlize([1,2,3]))"
   ]
  },
  {
   "cell_type": "code",
   "execution_count": 12,
   "metadata": {},
   "outputs": [
    {
     "name": "stdout",
     "output_type": "stream",
     "text": [
      "<ul>\n",
      "<li>Python\n",
      "rocks! 0&lt;1\n",
      "</li>\n",
      "<li>(10, 20, 30)</li>\n",
      "<li>100</li>\n",
      "</ul>\n"
     ]
    }
   ],
   "source": [
    "print(htmlize([\"\"\"Python\n",
    "rocks! 0<1\n",
    "\"\"\", (10,20,30), 100]))"
   ]
  },
  {
   "cell_type": "code",
   "execution_count": 9,
   "metadata": {},
   "outputs": [],
   "source": [
    "from decimal import Decimal\n",
    "from html import escape\n",
    "\n",
    "def htmlize(arg):\n",
    "    if isinstance(arg, int):\n",
    "        return html_int(arg)\n",
    "    elif isinstance(arg, float) or isinstance(arg, Decimal):\n",
    "        return html_real(arg)\n",
    "    elif isinstance(arg, str):\n",
    "        return html_str(arg)\n",
    "    elif isinstance(arg, list) or isinstance(arg, tuple):\n",
    "        return html_list(arg)\n",
    "    elif isinstance(arg, dict):\n",
    "        return html_dict(arg)\n",
    "    elif isinstance(arg, set):\n",
    "        return html_set(arg)\n",
    "    else:\n",
    "        return html_escape(arg)"
   ]
  },
  {
   "cell_type": "code",
   "execution_count": 10,
   "metadata": {},
   "outputs": [],
   "source": [
    "def html_escape(arg):\n",
    "    return escape(str(arg))\n",
    "\n",
    "\n",
    "def html_int(a):\n",
    "    return f'{a}(<i>{str(hex(a))}</i>)'\n",
    "\n",
    "def html_real(a):\n",
    "    return f'{0:.2f}'.format(round(a, 2))\n",
    "\n",
    "def html_str(s):\n",
    "    return html_escape(s).replace('\\n', '<br/>\\n')\n",
    "\n",
    "def html_list(l):\n",
    "    items = ('<li>{0}</li>'.format(htmlize(item)) for item in l)\n",
    "    return '<ul>\\n' + '\\n'.join(items) + '\\n</ul>'\n",
    "\n",
    "def html_dict(d):\n",
    "    items = ('<li>{0}={1}</li>'.format(html_escape(k), htmlize(v)) for k, v in d.items())\n",
    "    return '<ul>\\n' + '\\n'.join(items) + '\\n</ul>'\n",
    "\n",
    "def html_set(arg):\n",
    "    return html_list(arg)"
   ]
  },
  {
   "cell_type": "code",
   "execution_count": 7,
   "metadata": {},
   "outputs": [
    {
     "name": "stdout",
     "output_type": "stream",
     "text": [
      "<ul>\n",
      "<li>Python<br/>\n",
      "rocks! 0&lt;1<br/>\n",
      "</li>\n",
      "<li><ul>\n",
      "<li>10(<i>0xa</i>)</li>\n",
      "<li>20(<i>0x14</i>)</li>\n",
      "<li>30(<i>0x1e</i>)</li>\n",
      "</ul></li>\n",
      "<li>100(<i>0x64</i>)</li>\n",
      "</ul>\n"
     ]
    }
   ],
   "source": [
    "print(htmlize([\"\"\"Python\n",
    "rocks! 0<1\n",
    "\"\"\", (10,20,30), 100]))"
   ]
  },
  {
   "cell_type": "code",
   "execution_count": 12,
   "metadata": {},
   "outputs": [
    {
     "data": {
      "text/plain": [
       "'<ul>\\n<li>1(<i>0x1</i>)</li>\\n<li>2(<i>0x2</i>)</li>\\n<li>3(<i>0x3</i>)</li>\\n</ul>'"
      ]
     },
     "execution_count": 12,
     "metadata": {},
     "output_type": "execute_result"
    }
   ],
   "source": [
    "htmlize({1,2,3})"
   ]
  },
  {
   "cell_type": "code",
   "execution_count": 13,
   "metadata": {},
   "outputs": [],
   "source": [
    "def htmlize(arg):\n",
    "\n",
    "    registry = {\n",
    "        object: html_escape,\n",
    "        int: html_int,\n",
    "        float: html_real,\n",
    "        Decimal: html_int,\n",
    "        str: html_str,\n",
    "        list: html_list,\n",
    "        set: html_set,\n",
    "        dict: html_dict\n",
    "    }\n",
    "\n",
    "    fn = registry.get(type(arg), registry[object])\n",
    "    return fn(arg)\n"
   ]
  },
  {
   "cell_type": "code",
   "execution_count": 14,
   "metadata": {},
   "outputs": [
    {
     "data": {
      "text/plain": [
       "'-100(<i>-0x64</i>)'"
      ]
     },
     "execution_count": 14,
     "metadata": {},
     "output_type": "execute_result"
    }
   ],
   "source": [
    "htmlize(-100)"
   ]
  },
  {
   "cell_type": "code",
   "execution_count": 15,
   "metadata": {},
   "outputs": [],
   "source": [
    "from functools import singledispatch\n",
    "\n",
    "from numbers import Integral\n",
    "from collections.abc import Sequence\n",
    "\n",
    "@singledispatch\n",
    "def htmlize(a):\n",
    "    return escape(str(a))"
   ]
  },
  {
   "cell_type": "code",
   "execution_count": 16,
   "metadata": {},
   "outputs": [
    {
     "data": {
      "text/plain": [
       "mappingproxy({object: <function __main__.htmlize(a)>})"
      ]
     },
     "execution_count": 16,
     "metadata": {},
     "output_type": "execute_result"
    }
   ],
   "source": [
    "htmlize.registry"
   ]
  },
  {
   "cell_type": "code",
   "execution_count": 17,
   "metadata": {},
   "outputs": [
    {
     "data": {
      "text/plain": [
       "<function __main__.htmlize(a)>"
      ]
     },
     "execution_count": 17,
     "metadata": {},
     "output_type": "execute_result"
    }
   ],
   "source": [
    "htmlize.dispatch(str)"
   ]
  },
  {
   "cell_type": "code",
   "execution_count": 18,
   "metadata": {},
   "outputs": [],
   "source": [
    "@htmlize.register(Integral)\n",
    "def htmlize_integral_number(a):\n",
    "    return f'{a}(<i>{str(hex(a))}</i>)'"
   ]
  },
  {
   "cell_type": "code",
   "execution_count": 19,
   "metadata": {},
   "outputs": [
    {
     "data": {
      "text/plain": [
       "mappingproxy({object: <function __main__.htmlize(a)>,\n",
       "              numbers.Integral: <function __main__.htmlize_integral_number(a)>})"
      ]
     },
     "execution_count": 19,
     "metadata": {},
     "output_type": "execute_result"
    }
   ],
   "source": [
    "htmlize.registry"
   ]
  },
  {
   "cell_type": "code",
   "execution_count": 20,
   "metadata": {},
   "outputs": [
    {
     "data": {
      "text/plain": [
       "<function __main__.htmlize_integral_number(a)>"
      ]
     },
     "execution_count": 20,
     "metadata": {},
     "output_type": "execute_result"
    }
   ],
   "source": [
    "htmlize.dispatch(int)"
   ]
  },
  {
   "cell_type": "code",
   "execution_count": 21,
   "metadata": {},
   "outputs": [
    {
     "data": {
      "text/plain": [
       "'10(<i>0xa</i>)'"
      ]
     },
     "execution_count": 21,
     "metadata": {},
     "output_type": "execute_result"
    }
   ],
   "source": [
    "htmlize(10)"
   ]
  },
  {
   "cell_type": "code",
   "execution_count": 22,
   "metadata": {},
   "outputs": [],
   "source": [
    "@htmlize.register(Sequence)\n",
    "def html_list(l):\n",
    "    items = ('<li>{0}</li>'.format(htmlize(item)) for item in l)\n",
    "    return '<ul>\\n' + '\\n'.join(items) + '\\n</ul>'"
   ]
  },
  {
   "cell_type": "code",
   "execution_count": 23,
   "metadata": {},
   "outputs": [
    {
     "data": {
      "text/plain": [
       "'<ul>\\n<li>1(<i>0x1</i>)</li>\\n<li>2(<i>0x2</i>)</li>\\n<li>3(<i>0x3</i>)</li>\\n</ul>'"
      ]
     },
     "execution_count": 23,
     "metadata": {},
     "output_type": "execute_result"
    }
   ],
   "source": [
    "htmlize([1,2,3])"
   ]
  },
  {
   "cell_type": "code",
   "execution_count": 24,
   "metadata": {},
   "outputs": [
    {
     "data": {
      "text/plain": [
       "'<ul>\\n<li>1(<i>0x1</i>)</li>\\n<li>2(<i>0x2</i>)</li>\\n<li>3(<i>0x3</i>)</li>\\n</ul>'"
      ]
     },
     "execution_count": 24,
     "metadata": {},
     "output_type": "execute_result"
    }
   ],
   "source": [
    "htmlize((1,2,3))"
   ]
  },
  {
   "cell_type": "code",
   "execution_count": 26,
   "metadata": {},
   "outputs": [
    {
     "ename": "RecursionError",
     "evalue": "maximum recursion depth exceeded",
     "output_type": "error",
     "traceback": [
      "\u001b[1;31m---------------------------------------------------------------------------\u001b[0m",
      "\u001b[1;31mRecursionError\u001b[0m                            Traceback (most recent call last)",
      "\u001b[1;32m~\\AppData\\Local\\Temp/ipykernel_2408/1496990031.py\u001b[0m in \u001b[0;36m<module>\u001b[1;34m\u001b[0m\n\u001b[1;32m----> 1\u001b[1;33m \u001b[0mhtmlize\u001b[0m\u001b[1;33m(\u001b[0m\u001b[1;34m'python'\u001b[0m\u001b[1;33m)\u001b[0m \u001b[1;31m# we will get RecursionError here\u001b[0m\u001b[1;33m\u001b[0m\u001b[1;33m\u001b[0m\u001b[0m\n\u001b[0m",
      "\u001b[1;32mC:\\Python_310\\Python\\lib\\functools.py\u001b[0m in \u001b[0;36mwrapper\u001b[1;34m(*args, **kw)\u001b[0m\n\u001b[0;32m    876\u001b[0m                             '1 positional argument')\n\u001b[0;32m    877\u001b[0m \u001b[1;33m\u001b[0m\u001b[0m\n\u001b[1;32m--> 878\u001b[1;33m         \u001b[1;32mreturn\u001b[0m \u001b[0mdispatch\u001b[0m\u001b[1;33m(\u001b[0m\u001b[0margs\u001b[0m\u001b[1;33m[\u001b[0m\u001b[1;36m0\u001b[0m\u001b[1;33m]\u001b[0m\u001b[1;33m.\u001b[0m\u001b[0m__class__\u001b[0m\u001b[1;33m)\u001b[0m\u001b[1;33m(\u001b[0m\u001b[1;33m*\u001b[0m\u001b[0margs\u001b[0m\u001b[1;33m,\u001b[0m \u001b[1;33m**\u001b[0m\u001b[0mkw\u001b[0m\u001b[1;33m)\u001b[0m\u001b[1;33m\u001b[0m\u001b[1;33m\u001b[0m\u001b[0m\n\u001b[0m\u001b[0;32m    879\u001b[0m \u001b[1;33m\u001b[0m\u001b[0m\n\u001b[0;32m    880\u001b[0m     \u001b[0mfuncname\u001b[0m \u001b[1;33m=\u001b[0m \u001b[0mgetattr\u001b[0m\u001b[1;33m(\u001b[0m\u001b[0mfunc\u001b[0m\u001b[1;33m,\u001b[0m \u001b[1;34m'__name__'\u001b[0m\u001b[1;33m,\u001b[0m \u001b[1;34m'singledispatch function'\u001b[0m\u001b[1;33m)\u001b[0m\u001b[1;33m\u001b[0m\u001b[1;33m\u001b[0m\u001b[0m\n",
      "\u001b[1;32m~\\AppData\\Local\\Temp/ipykernel_2408/4055397866.py\u001b[0m in \u001b[0;36mhtml_list\u001b[1;34m(l)\u001b[0m\n\u001b[0;32m      2\u001b[0m \u001b[1;32mdef\u001b[0m \u001b[0mhtml_list\u001b[0m\u001b[1;33m(\u001b[0m\u001b[0ml\u001b[0m\u001b[1;33m)\u001b[0m\u001b[1;33m:\u001b[0m\u001b[1;33m\u001b[0m\u001b[1;33m\u001b[0m\u001b[0m\n\u001b[0;32m      3\u001b[0m     \u001b[0mitems\u001b[0m \u001b[1;33m=\u001b[0m \u001b[1;33m(\u001b[0m\u001b[1;34m'<li>{0}</li>'\u001b[0m\u001b[1;33m.\u001b[0m\u001b[0mformat\u001b[0m\u001b[1;33m(\u001b[0m\u001b[0mhtmlize\u001b[0m\u001b[1;33m(\u001b[0m\u001b[0mitem\u001b[0m\u001b[1;33m)\u001b[0m\u001b[1;33m)\u001b[0m \u001b[1;32mfor\u001b[0m \u001b[0mitem\u001b[0m \u001b[1;32min\u001b[0m \u001b[0ml\u001b[0m\u001b[1;33m)\u001b[0m\u001b[1;33m\u001b[0m\u001b[1;33m\u001b[0m\u001b[0m\n\u001b[1;32m----> 4\u001b[1;33m     \u001b[1;32mreturn\u001b[0m \u001b[1;34m'<ul>\\n'\u001b[0m \u001b[1;33m+\u001b[0m \u001b[1;34m'\\n'\u001b[0m\u001b[1;33m.\u001b[0m\u001b[0mjoin\u001b[0m\u001b[1;33m(\u001b[0m\u001b[0mitems\u001b[0m\u001b[1;33m)\u001b[0m \u001b[1;33m+\u001b[0m \u001b[1;34m'\\n</ul>'\u001b[0m\u001b[1;33m\u001b[0m\u001b[1;33m\u001b[0m\u001b[0m\n\u001b[0m",
      "\u001b[1;32m~\\AppData\\Local\\Temp/ipykernel_2408/4055397866.py\u001b[0m in \u001b[0;36m<genexpr>\u001b[1;34m(.0)\u001b[0m\n\u001b[0;32m      1\u001b[0m \u001b[1;33m@\u001b[0m\u001b[0mhtmlize\u001b[0m\u001b[1;33m.\u001b[0m\u001b[0mregister\u001b[0m\u001b[1;33m(\u001b[0m\u001b[0mSequence\u001b[0m\u001b[1;33m)\u001b[0m\u001b[1;33m\u001b[0m\u001b[1;33m\u001b[0m\u001b[0m\n\u001b[0;32m      2\u001b[0m \u001b[1;32mdef\u001b[0m \u001b[0mhtml_list\u001b[0m\u001b[1;33m(\u001b[0m\u001b[0ml\u001b[0m\u001b[1;33m)\u001b[0m\u001b[1;33m:\u001b[0m\u001b[1;33m\u001b[0m\u001b[1;33m\u001b[0m\u001b[0m\n\u001b[1;32m----> 3\u001b[1;33m     \u001b[0mitems\u001b[0m \u001b[1;33m=\u001b[0m \u001b[1;33m(\u001b[0m\u001b[1;34m'<li>{0}</li>'\u001b[0m\u001b[1;33m.\u001b[0m\u001b[0mformat\u001b[0m\u001b[1;33m(\u001b[0m\u001b[0mhtmlize\u001b[0m\u001b[1;33m(\u001b[0m\u001b[0mitem\u001b[0m\u001b[1;33m)\u001b[0m\u001b[1;33m)\u001b[0m \u001b[1;32mfor\u001b[0m \u001b[0mitem\u001b[0m \u001b[1;32min\u001b[0m \u001b[0ml\u001b[0m\u001b[1;33m)\u001b[0m\u001b[1;33m\u001b[0m\u001b[1;33m\u001b[0m\u001b[0m\n\u001b[0m\u001b[0;32m      4\u001b[0m     \u001b[1;32mreturn\u001b[0m \u001b[1;34m'<ul>\\n'\u001b[0m \u001b[1;33m+\u001b[0m \u001b[1;34m'\\n'\u001b[0m\u001b[1;33m.\u001b[0m\u001b[0mjoin\u001b[0m\u001b[1;33m(\u001b[0m\u001b[0mitems\u001b[0m\u001b[1;33m)\u001b[0m \u001b[1;33m+\u001b[0m \u001b[1;34m'\\n</ul>'\u001b[0m\u001b[1;33m\u001b[0m\u001b[1;33m\u001b[0m\u001b[0m\n",
      "... last 3 frames repeated, from the frame below ...\n",
      "\u001b[1;32mC:\\Python_310\\Python\\lib\\functools.py\u001b[0m in \u001b[0;36mwrapper\u001b[1;34m(*args, **kw)\u001b[0m\n\u001b[0;32m    876\u001b[0m                             '1 positional argument')\n\u001b[0;32m    877\u001b[0m \u001b[1;33m\u001b[0m\u001b[0m\n\u001b[1;32m--> 878\u001b[1;33m         \u001b[1;32mreturn\u001b[0m \u001b[0mdispatch\u001b[0m\u001b[1;33m(\u001b[0m\u001b[0margs\u001b[0m\u001b[1;33m[\u001b[0m\u001b[1;36m0\u001b[0m\u001b[1;33m]\u001b[0m\u001b[1;33m.\u001b[0m\u001b[0m__class__\u001b[0m\u001b[1;33m)\u001b[0m\u001b[1;33m(\u001b[0m\u001b[1;33m*\u001b[0m\u001b[0margs\u001b[0m\u001b[1;33m,\u001b[0m \u001b[1;33m**\u001b[0m\u001b[0mkw\u001b[0m\u001b[1;33m)\u001b[0m\u001b[1;33m\u001b[0m\u001b[1;33m\u001b[0m\u001b[0m\n\u001b[0m\u001b[0;32m    879\u001b[0m \u001b[1;33m\u001b[0m\u001b[0m\n\u001b[0;32m    880\u001b[0m     \u001b[0mfuncname\u001b[0m \u001b[1;33m=\u001b[0m \u001b[0mgetattr\u001b[0m\u001b[1;33m(\u001b[0m\u001b[0mfunc\u001b[0m\u001b[1;33m,\u001b[0m \u001b[1;34m'__name__'\u001b[0m\u001b[1;33m,\u001b[0m \u001b[1;34m'singledispatch function'\u001b[0m\u001b[1;33m)\u001b[0m\u001b[1;33m\u001b[0m\u001b[1;33m\u001b[0m\u001b[0m\n",
      "\u001b[1;31mRecursionError\u001b[0m: maximum recursion depth exceeded"
     ]
    }
   ],
   "source": [
    "htmlize('python') # we will get RecursionError here"
   ]
  },
  {
   "cell_type": "code",
   "execution_count": 27,
   "metadata": {},
   "outputs": [],
   "source": [
    "@htmlize.register(str)\n",
    "def html_str(s):\n",
    "    return html_escape(s).replace('\\n', '<br/>\\n')"
   ]
  },
  {
   "cell_type": "code",
   "execution_count": 29,
   "metadata": {},
   "outputs": [
    {
     "data": {
      "text/plain": [
       "'python 1 &lt; 100'"
      ]
     },
     "execution_count": 29,
     "metadata": {},
     "output_type": "execute_result"
    }
   ],
   "source": [
    "htmlize('python 1 < 100')"
   ]
  },
  {
   "cell_type": "code",
   "execution_count": 30,
   "metadata": {},
   "outputs": [
    {
     "data": {
      "text/plain": [
       "'<ul>\\n<li>1(<i>0x1</i>)</li>\\n<li>2(<i>0x2</i>)</li>\\n<li>3(<i>0x3</i>)</li>\\n</ul>'"
      ]
     },
     "execution_count": 30,
     "metadata": {},
     "output_type": "execute_result"
    }
   ],
   "source": [
    "htmlize((1,2,3))"
   ]
  },
  {
   "cell_type": "code",
   "execution_count": 31,
   "metadata": {},
   "outputs": [],
   "source": [
    "@htmlize.register(tuple)\n",
    "def html_tuple(t):\n",
    "    items = (escape(str(item)) for item in t)\n",
    "    return '({0})'.format(', '.join(items))"
   ]
  },
  {
   "cell_type": "code",
   "execution_count": 32,
   "metadata": {},
   "outputs": [
    {
     "data": {
      "text/plain": [
       "mappingproxy({object: <function __main__.htmlize(a)>,\n",
       "              numbers.Integral: <function __main__.htmlize_integral_number(a)>,\n",
       "              collections.abc.Sequence: <function __main__.html_list(l)>,\n",
       "              str: <function __main__.html_str(s)>,\n",
       "              tuple: <function __main__.html_tuple(t)>})"
      ]
     },
     "execution_count": 32,
     "metadata": {},
     "output_type": "execute_result"
    }
   ],
   "source": [
    "htmlize.registry"
   ]
  },
  {
   "cell_type": "code",
   "execution_count": 33,
   "metadata": {},
   "outputs": [
    {
     "data": {
      "text/plain": [
       "'(1, 2, 3)'"
      ]
     },
     "execution_count": 33,
     "metadata": {},
     "output_type": "execute_result"
    }
   ],
   "source": [
    "htmlize((1,2,3))"
   ]
  },
  {
   "cell_type": "code",
   "execution_count": 34,
   "metadata": {},
   "outputs": [],
   "source": [
    "@singledispatch\n",
    "def htmlize(a):\n",
    "    return escape(str(a))"
   ]
  },
  {
   "cell_type": "code",
   "execution_count": 38,
   "metadata": {},
   "outputs": [],
   "source": [
    "@htmlize.register(Integral)\n",
    "def _(a):\n",
    "    return f'{a}(<i>{str(hex(a))}</i>)'\n",
    "\n",
    "@htmlize.register(Sequence)\n",
    "def _(l):\n",
    "    items = ('<li>{0}</li>'.format(htmlize(item)) for item in l)\n",
    "    return '<ul>\\n' + '\\n'.join(items) + '\\n</ul>'\n",
    "\n",
    "@htmlize.register(str)\n",
    "def _(s):\n",
    "    return html_escape(s).replace('\\n', '<br/>\\n')"
   ]
  },
  {
   "cell_type": "code",
   "execution_count": null,
   "metadata": {},
   "outputs": [],
   "source": []
  },
  {
   "cell_type": "code",
   "execution_count": null,
   "metadata": {},
   "outputs": [],
   "source": []
  },
  {
   "cell_type": "code",
   "execution_count": null,
   "metadata": {},
   "outputs": [],
   "source": []
  },
  {
   "cell_type": "code",
   "execution_count": null,
   "metadata": {},
   "outputs": [],
   "source": []
  },
  {
   "cell_type": "code",
   "execution_count": null,
   "metadata": {},
   "outputs": [],
   "source": []
  }
 ],
 "metadata": {
  "interpreter": {
   "hash": "578aa1710721ebb0cd4e3b8e419f7437728ee3837e632204dd7a023c7bca9a56"
  },
  "kernelspec": {
   "display_name": "Python 3.10.0 64-bit",
   "language": "python",
   "name": "python3"
  },
  "language_info": {
   "codemirror_mode": {
    "name": "ipython",
    "version": 3
   },
   "file_extension": ".py",
   "mimetype": "text/x-python",
   "name": "python",
   "nbconvert_exporter": "python",
   "pygments_lexer": "ipython3",
   "version": "3.10.0"
  },
  "orig_nbformat": 4
 },
 "nbformat": 4,
 "nbformat_minor": 2
}
