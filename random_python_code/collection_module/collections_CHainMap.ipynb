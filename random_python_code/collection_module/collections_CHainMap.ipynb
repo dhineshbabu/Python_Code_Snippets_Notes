{
 "nbformat": 4,
 "nbformat_minor": 2,
 "metadata": {
  "language_info": {
   "name": "python",
   "codemirror_mode": {
    "name": "ipython",
    "version": 3
   },
   "version": "3.6.9-final"
  },
  "orig_nbformat": 2,
  "file_extension": ".py",
  "mimetype": "text/x-python",
  "name": "python",
  "npconvert_exporter": "python",
  "pygments_lexer": "ipython3",
  "version": 3,
  "kernelspec": {
   "name": "python36964bit03c1c1cb19cd4cb28bc7f205768c28f6",
   "display_name": "Python 3.6.9 64-bit"
  }
 },
 "cells": [
  {
   "cell_type": "markdown",
   "metadata": {},
   "source": [
    "***\n",
    "## ChainMap\n",
    "* Python contains a container called “ChainMap” which encapsulates many dictionaries into one unit.\n",
    "* A ChainMap groups multiple dicts or other mappings together to create a single, updateable view. If no maps are specified, a single empty dictionary is provided so that a new chain always has at least one mapping.\n",
    "* A ChainMap incorporates the underlying mappings by reference. So, if one of the underlying mappings gets updated, those changes will be reflected in ChainMap.\n",
    "***"
   ]
  },
  {
   "cell_type": "code",
   "execution_count": 1,
   "metadata": {},
   "outputs": [
    {
     "name": "stdout",
     "output_type": "stream",
     "text": "ChainMap({'a': 1, 'b': 2}, {'c': 3, 'd': 4}, {'e': 5, 'f': 6})\n"
    }
   ],
   "source": [
    "# Demo\n",
    "from collections import ChainMap\n",
    "\n",
    "d1 = {'a': 1, 'b': 2}  \n",
    "d2 = {'c': 3, 'd': 4}  \n",
    "d3 = {'e': 5, 'f': 6}  \n",
    "\n",
    "# defining ChainMap\n",
    "c = ChainMap(d1, d2, d3)\n",
    "print(c)"
   ]
  },
  {
   "cell_type": "code",
   "execution_count": 2,
   "metadata": {},
   "outputs": [
    {
     "data": {
      "text/plain": "'\\n\\nkeys() :- This function is used to display all the keys of all the dictionaries in ChainMap.\\n\\nvalues() :- This function is used to display values of all the dictionaries in ChainMap.\\n\\nmaps() :- This function is used to display keys with corresponding values of all the dictionaries in ChainMap\\n\\n'"
     },
     "execution_count": 2,
     "metadata": {},
     "output_type": "execute_result"
    }
   ],
   "source": [
    "## Access operations on ChainMap\n",
    "\"\"\"\n",
    "\n",
    "keys() :- This function is used to display all the keys of all the dictionaries in ChainMap.\n",
    "\n",
    "values() :- This function is used to display values of all the dictionaries in ChainMap.\n",
    "\n",
    "maps() :- This function is used to display keys with corresponding values of all the dictionaries in ChainMap\n",
    "\n",
    "\"\"\""
   ]
  },
  {
   "cell_type": "code",
   "execution_count": 3,
   "metadata": {},
   "outputs": [
    {
     "name": "stdout",
     "output_type": "stream",
     "text": "All the ChainMap contents are : \n[{'a': 1, 'b': 2}, {'b': 3, 'c': 4}]\nAll keys of ChainMap are : \n['b', 'a', 'c']\nAll values of ChainMap are : \n[2, 1, 4]\n"
    }
   ],
   "source": [
    "import collections \n",
    "  \n",
    "# initializing dictionaries \n",
    "dic1 = { 'a' : 1, 'b' : 2 } \n",
    "dic2 = { 'b' : 3, 'c' : 4 } \n",
    "  \n",
    "# initializing ChainMap \n",
    "chain = collections.ChainMap(dic1, dic2) \n",
    "  \n",
    "# printing chainMap using maps \n",
    "print (\"All the ChainMap contents are : \") \n",
    "print (chain.maps) \n",
    "# Note : Notice the key named “b” exists in both dictionaries, but only first dictionary key is taken as key value of “b”. Ordering is done as the dictionaries are passed in function.\n",
    "  \n",
    "# printing keys using keys() \n",
    "print (\"All keys of ChainMap are : \") \n",
    "print (list(chain.keys())) \n",
    "  \n",
    "# printing keys using keys() \n",
    "print (\"All values of ChainMap are : \") \n",
    "print (list(chain.values())) "
   ]
  },
  {
   "cell_type": "code",
   "execution_count": null,
   "metadata": {},
   "outputs": [],
   "source": [
    "## Manipulating Operations\n",
    "# new_child() :- This function adds a new dictionary in the beginning of the ChainMap.\n",
    "\n",
    "# reversed() :- This function reverses the relative ordering of dictionaries in the ChainMap"
   ]
  },
  {
   "cell_type": "code",
   "execution_count": 4,
   "metadata": {},
   "outputs": [
    {
     "name": "stdout",
     "output_type": "stream",
     "text": "All the ChainMap contents are : \n[{'a': 1, 'b': 2}, {'b': 3, 'c': 4}]\nDisplaying new ChainMap : \n[{'f': 5}, {'a': 1, 'b': 2}, {'b': 3, 'c': 4}]\nValue associated with b before reversing is : 2\nValue associated with b after reversing is : 3\n"
    }
   ],
   "source": [
    "import collections \n",
    "  \n",
    "# initializing dictionaries \n",
    "dic1 = { 'a' : 1, 'b' : 2 } \n",
    "dic2 = { 'b' : 3, 'c' : 4 } \n",
    "dic3 = { 'f' : 5 } \n",
    "  \n",
    "# initializing ChainMap \n",
    "chain = collections.ChainMap(dic1, dic2) \n",
    "  \n",
    "# printing chainMap using map \n",
    "print (\"All the ChainMap contents are : \") \n",
    "print (chain.maps) \n",
    "  \n",
    "# using new_child() to add new dictionary \n",
    "chain1 = chain.new_child(dic3) \n",
    "  \n",
    "# printing chainMap using map \n",
    "print (\"Displaying new ChainMap : \") \n",
    "print (chain1.maps) \n",
    "  \n",
    "# displaying value associated with b before reversing \n",
    "print (\"Value associated with b before reversing is : \",end=\"\") \n",
    "print (chain1['b']) \n",
    "  \n",
    "# reversing the ChainMap \n",
    "chain1.maps = reversed(chain1.maps) \n",
    "  \n",
    "# displaying value associated with b after reversing \n",
    "print (\"Value associated with b after reversing is : \",end=\"\") \n",
    "print (chain1['b']) "
   ]
  },
  {
   "cell_type": "code",
   "execution_count": null,
   "metadata": {},
   "outputs": [],
   "source": []
  },
  {
   "cell_type": "code",
   "execution_count": null,
   "metadata": {},
   "outputs": [],
   "source": []
  },
  {
   "cell_type": "code",
   "execution_count": null,
   "metadata": {},
   "outputs": [],
   "source": []
  },
  {
   "cell_type": "code",
   "execution_count": null,
   "metadata": {},
   "outputs": [],
   "source": []
  },
  {
   "cell_type": "code",
   "execution_count": null,
   "metadata": {},
   "outputs": [],
   "source": []
  },
  {
   "cell_type": "code",
   "execution_count": null,
   "metadata": {},
   "outputs": [],
   "source": []
  },
  {
   "cell_type": "code",
   "execution_count": null,
   "metadata": {},
   "outputs": [],
   "source": []
  },
  {
   "cell_type": "code",
   "execution_count": null,
   "metadata": {},
   "outputs": [],
   "source": []
  }
 ]
}