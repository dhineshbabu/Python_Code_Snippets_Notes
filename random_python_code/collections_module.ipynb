{
 "nbformat": 4,
 "nbformat_minor": 2,
 "metadata": {
  "language_info": {
   "name": "python",
   "codemirror_mode": {
    "name": "ipython",
    "version": 3
   },
   "version": "3.6.9-final"
  },
  "orig_nbformat": 2,
  "file_extension": ".py",
  "mimetype": "text/x-python",
  "name": "python",
  "npconvert_exporter": "python",
  "pygments_lexer": "ipython3",
  "version": 3,
  "kernelspec": {
   "name": "python36964bit03c1c1cb19cd4cb28bc7f205768c28f6",
   "display_name": "Python 3.6.9 64-bit"
  }
 },
 "cells": [
  {
   "cell_type": "markdown",
   "metadata": {},
   "source": [
    "## Counter"
   ]
  },
  {
   "cell_type": "code",
   "execution_count": 4,
   "metadata": {},
   "outputs": [
    {
     "name": "stdout",
     "output_type": "stream",
     "text": "Counter({3: 5, 5: 4, 6: 3, 1: 1, 2: 1, 4: 1})\n"
    }
   ],
   "source": [
    "#Counter with List\n",
    "from collections import Counter\n",
    "lst = [1,2,3,3,3,3,3,4,5,5,5,5,6,6,6]\n",
    "count = Counter(lst)\n",
    "print(count)"
   ]
  },
  {
   "cell_type": "code",
   "execution_count": 8,
   "metadata": {},
   "outputs": [
    {
     "name": "stdout",
     "output_type": "stream",
     "text": "Counter({'h': 2, 'b': 2, 'd': 1, 'i': 1, 'n': 1, 'e': 1, 's': 1, ' ': 1, 'a': 1, 'u': 1})\nLetter d is appeared 1 times\nLetter h is appeared 2 times\nLetter i is appeared 1 times\nLetter n is appeared 1 times\nLetter e is appeared 1 times\nLetter s is appeared 1 times\nLetter   is appeared 1 times\nLetter b is appeared 2 times\nLetter a is appeared 1 times\nLetter u is appeared 1 times\n"
    }
   ],
   "source": [
    "#Counter with String\n",
    "from collections import Counter\n",
    "count  = Counter(\"dhinesh babu\")\n",
    "print(count)\n",
    "for k,v in count.items():\n",
    "    print(\"Letter {} is appeared {} times\".format(k,v))"
   ]
  },
  {
   "cell_type": "code",
   "execution_count": 9,
   "metadata": {},
   "outputs": [
    {
     "name": "stdout",
     "output_type": "stream",
     "text": "Counter({'the': 3, 'this': 2, 'is': 2, 'Hello': 1, 'from': 1, 'given': 1, 'strings,': 1, 'but': 1, 'strings': 1, 'are': 1, 'available': 1, 'to': 1, 'check': 1, 'count': 1, 'of': 1})\n"
    }
   ],
   "source": [
    "# Counting the words in a list\n",
    "from collections import Counter\n",
    "s = \"Hello this is from the given strings, but the strings are available to check count of this is the\"\n",
    "words = s.split()\n",
    "count = Counter(words)\n",
    "print(count)"
   ]
  },
  {
   "cell_type": "code",
   "execution_count": 10,
   "metadata": {},
   "outputs": [],
   "source": [
    "# Methods in Counter"
   ]
  },
  {
   "cell_type": "code",
   "execution_count": 12,
   "metadata": {},
   "outputs": [
    {
     "name": "stdout",
     "output_type": "stream",
     "text": "[('the', 3), ('this', 2)]\n"
    }
   ],
   "source": [
    "# most_commofrom collections import Counter\n",
    "s = \"Hello this is from the given strings, but the strings are available to check count of this is the\"\n",
    "words = s.split()\n",
    "count = Counter(words)\n",
    "print(count.most_common(2)) # to get the first 2 most common words"
   ]
  },
  {
   "cell_type": "markdown",
   "metadata": {},
   "source": [
    "## DefaultDict\n"
   ]
  },
  {
   "cell_type": "code",
   "execution_count": 15,
   "metadata": {},
   "outputs": [
    {
     "name": "stdout",
     "output_type": "stream",
     "text": "<class 'collections.defaultdict'>\none\n"
    }
   ],
   "source": [
    "from collections import defaultdict\n",
    "d = defaultdict(object)\n",
    "d['one'] # normal dict will raise KeyError but default dict will add this item\n",
    "print(type(d))\n",
    "\n",
    "for item in d:\n",
    "    print(item)"
   ]
  },
  {
   "cell_type": "markdown",
   "metadata": {},
   "source": [
    "## OrderedDict"
   ]
  },
  {
   "cell_type": "code",
   "execution_count": 16,
   "metadata": {},
   "outputs": [
    {
     "name": "stdout",
     "output_type": "stream",
     "text": "Normal Dictionary\na A\nb B\nc C\nd D\ne E\n"
    }
   ],
   "source": [
    "#Normal dictionary\n",
    "print(\"Normal Dictionary\")\n",
    "d = {'a': 'A', 'b': 'B', 'c': 'C', 'd': 'D', 'e':'E'}\n",
    "for k,v in d.items():\n",
    "    print(k,v)"
   ]
  },
  {
   "cell_type": "code",
   "execution_count": 17,
   "metadata": {},
   "outputs": [
    {
     "name": "stdout",
     "output_type": "stream",
     "text": "Ordered Dictionary\na A\nb B\nc C\nd D\ne E\n"
    }
   ],
   "source": [
    "# Ordered dictionaryy\n",
    "from collections import OrderedDict\n",
    "print(\"Ordered Dictionary\")\n",
    "d = OrderedDict()\n",
    "d = {'a': 'A', 'b': 'B', 'c': 'C', 'd': 'D', 'e':'E'}\n",
    "for k,v in d.items():\n",
    "    print(k,v)"
   ]
  },
  {
   "cell_type": "code",
   "execution_count": 19,
   "metadata": {},
   "outputs": [
    {
     "name": "stdout",
     "output_type": "stream",
     "text": "Dictionaries are equal??\nTrue\n"
    }
   ],
   "source": [
    "# Equality with normal dictionary\n",
    "print(\"Dictionaries are equal??\")\n",
    "\n",
    "d1 = {'a': 'A', 'b':'B'}\n",
    "d2 = {'b': 'B', 'a':'A'}\n",
    "print(d1==d2)"
   ]
  },
  {
   "cell_type": "code",
   "execution_count": 21,
   "metadata": {},
   "outputs": [
    {
     "name": "stdout",
     "output_type": "stream",
     "text": "Dictionaries are equal??\nOrderedDict([('a', 'A'), ('b', 'B')])\nOrderedDict([('b', 'B'), ('a', 'A')])\nFalse\n"
    }
   ],
   "source": [
    "# Equality with OrderedDict\n",
    "from collections import OrderedDict\n",
    "print(\"Dictionaries are equal??\")\n",
    "\n",
    "d1 = OrderedDict()\n",
    "d2 = OrderedDict()\n",
    "d1['a'] = 'A'\n",
    "d1['b'] = 'B'\n",
    "d2['b'] = 'B'\n",
    "d2['a'] = 'A'\n",
    "print(d1) \n",
    "print(d2)\n",
    "print(d1==d2) # False, beacuse order of elements is important"
   ]
  },
  {
   "cell_type": "markdown",
   "metadata": {},
   "source": [
    "## namedtuple"
   ]
  },
  {
   "cell_type": "code",
   "execution_count": 22,
   "metadata": {},
   "outputs": [
    {
     "name": "stdout",
     "output_type": "stream",
     "text": "12\n"
    }
   ],
   "source": [
    "#normal tuple\n",
    "t = (10,12,13)\n",
    "print(t[1])"
   ]
  },
  {
   "cell_type": "code",
   "execution_count": 23,
   "metadata": {},
   "outputs": [
    {
     "name": "stdout",
     "output_type": "stream",
     "text": "Dog(age=2, breed='lab', name='sammy')\nDog(age=3, breed='huskie', name='Frankie')\n"
    }
   ],
   "source": [
    "# namedtuple\n",
    "from collections import namedtuple\n",
    "Dog = namedtuple('Dog', 'age breed name') # first parameter is name of a tuple, second parameter is list of attributes seperated by spacce\n",
    "sam = Dog(age=2, breed='lab', name=\"sammy\")\n",
    "frank = Dog(age=3, breed=\"huskie\", name='Frankie')\n",
    "print(sam)\n",
    "print(frank)"
   ]
  },
  {
   "cell_type": "code",
   "execution_count": 24,
   "metadata": {},
   "outputs": [
    {
     "data": {
      "text/plain": "2"
     },
     "execution_count": 24,
     "metadata": {},
     "output_type": "execute_result"
    }
   ],
   "source": [
    "sam.age"
   ]
  },
  {
   "cell_type": "code",
   "execution_count": 25,
   "metadata": {},
   "outputs": [
    {
     "data": {
      "text/plain": "'huskie'"
     },
     "execution_count": 25,
     "metadata": {},
     "output_type": "execute_result"
    }
   ],
   "source": [
    "frank.breed"
   ]
  },
  {
   "cell_type": "code",
   "execution_count": 26,
   "metadata": {},
   "outputs": [
    {
     "data": {
      "text/plain": "'Frankie'"
     },
     "execution_count": 26,
     "metadata": {},
     "output_type": "execute_result"
    }
   ],
   "source": [
    "frank[2]"
   ]
  },
  {
   "cell_type": "code",
   "execution_count": null,
   "metadata": {},
   "outputs": [],
   "source": []
  },
  {
   "cell_type": "code",
   "execution_count": null,
   "metadata": {},
   "outputs": [],
   "source": [
    "-"
   ]
  },
  {
   "cell_type": "code",
   "execution_count": null,
   "metadata": {},
   "outputs": [],
   "source": []
  },
  {
   "cell_type": "code",
   "execution_count": null,
   "metadata": {},
   "outputs": [],
   "source": []
  },
  {
   "cell_type": "code",
   "execution_count": null,
   "metadata": {},
   "outputs": [],
   "source": []
  },
  {
   "cell_type": "code",
   "execution_count": null,
   "metadata": {},
   "outputs": [],
   "source": []
  },
  {
   "cell_type": "code",
   "execution_count": null,
   "metadata": {},
   "outputs": [],
   "source": []
  },
  {
   "cell_type": "code",
   "execution_count": null,
   "metadata": {},
   "outputs": [],
   "source": []
  },
  {
   "cell_type": "code",
   "execution_count": null,
   "metadata": {},
   "outputs": [],
   "source": []
  },
  {
   "cell_type": "code",
   "execution_count": null,
   "metadata": {},
   "outputs": [],
   "source": []
  },
  {
   "cell_type": "code",
   "execution_count": null,
   "metadata": {},
   "outputs": [],
   "source": []
  },
  {
   "cell_type": "code",
   "execution_count": null,
   "metadata": {},
   "outputs": [],
   "source": []
  }
 ]
}