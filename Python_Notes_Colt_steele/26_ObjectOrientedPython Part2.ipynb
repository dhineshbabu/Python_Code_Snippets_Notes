{
 "cells": [
  {
   "cell_type": "code",
   "execution_count": 1,
   "metadata": {},
   "outputs": [],
   "source": [
    "##### Inhertiance in Python ######## Passing the parent class as an argument to the child class"
   ]
  },
  {
   "cell_type": "code",
   "execution_count": 5,
   "metadata": {},
   "outputs": [
    {
     "name": "stdout",
     "output_type": "stream",
     "text": [
      "this animal sounds CHIRP\n",
      "this animal sounds Meow!!!!\n",
      "True\n",
      "True\n",
      "True\n"
     ]
    }
   ],
   "source": [
    "class Animal:\n",
    "    cool = True\n",
    "    def make_sound(self, sound):\n",
    "        print(f\"this animal sounds {sound}\")\n",
    "        \n",
    "class Cat(Animal):\n",
    "    pass\n",
    "\n",
    "a = Animal()\n",
    "a.make_sound(\"CHIRP\")\n",
    "\n",
    "blue = Cat()\n",
    "blue.make_sound(\"Meow!!!!\")\n",
    "print(Cat.cool)\n",
    "print(isinstance(blue,Cat)) #True\n",
    "print(isinstance(blue,Animal)) #True"
   ]
  },
  {
   "cell_type": "code",
   "execution_count": null,
   "metadata": {},
   "outputs": [],
   "source": [
    "######### Properties #########"
   ]
  },
  {
   "cell_type": "code",
   "execution_count": 7,
   "metadata": {},
   "outputs": [
    {
     "name": "stdout",
     "output_type": "stream",
     "text": [
      "50\n",
      "None\n",
      "30\n"
     ]
    }
   ],
   "source": [
    "class Human:\n",
    "    def __init__(self, first, last, age):\n",
    "        self.first = first\n",
    "        self.last = last\n",
    "        if age >= 0:\n",
    "            self._age = age\n",
    "        else:\n",
    "            self._age = 0\n",
    "        \n",
    "    def get_age(self):\n",
    "        return self._age\n",
    "    \n",
    "    def set_age(self, new_age):\n",
    "        if new_age >=0:\n",
    "            self._age = new_age\n",
    "        else:\n",
    "            self._age = 0\n",
    "    \n",
    "kanu = Human(\"kanu\", \"Hasini\", 50)\n",
    "print(kanu.get_age())\n",
    "kanu.set_age(30)\n",
    "print(kanu.get_age())"
   ]
  },
  {
   "cell_type": "code",
   "execution_count": 8,
   "metadata": {},
   "outputs": [],
   "source": [
    "#### using @property decorator #####"
   ]
  },
  {
   "cell_type": "code",
   "execution_count": 15,
   "metadata": {},
   "outputs": [
    {
     "name": "stdout",
     "output_type": "stream",
     "text": [
      "50\n",
      "20\n",
      "Kanu Dhinesh\n",
      "{'first': 'Kanu', 'last': 'Dhinesh', '_age': 20}\n"
     ]
    }
   ],
   "source": [
    "class Human1:\n",
    "    def __init__(self, first, last, age):\n",
    "        self.first = first\n",
    "        self.last = last\n",
    "        if age >= 0:\n",
    "            self._age = age\n",
    "        else:\n",
    "            self._age = 0\n",
    "    @property\n",
    "    def age(self):\n",
    "        return self._age\n",
    "    @age.setter\n",
    "    def age(self, value):\n",
    "        if value >=0:\n",
    "            self._age = value\n",
    "        else:\n",
    "            raise ValueError(\"Age cant be negative!!!\")\n",
    "            \n",
    "    @property\n",
    "    def full_name(self):\n",
    "        return f\"{self.first} {self.last}\"\n",
    "    \n",
    "    @full_name.setter\n",
    "    def full_name(self, name):\n",
    "        self.first, self.last = name.split(\" \")\n",
    "kanu = Human1(\"kanu\", \"Hasini\", 50)\n",
    "print(kanu.age)\n",
    "kanu.age = 20\n",
    "print(kanu.age)\n",
    "kanu.full_name = \"Kanu Dhinesh\"\n",
    "print(kanu.full_name)\n",
    "print(kanu.__dict__)"
   ]
  },
  {
   "cell_type": "code",
   "execution_count": 16,
   "metadata": {},
   "outputs": [],
   "source": [
    "############## super() method ##################"
   ]
  },
  {
   "cell_type": "code",
   "execution_count": 22,
   "metadata": {},
   "outputs": [
    {
     "name": "stdout",
     "output_type": "stream",
     "text": [
      "<__main__.Cat1 object at 0x000001DF8E83B438>\n",
      "Blue\n",
      "Cat\n",
      "Blue plays with String\n"
     ]
    }
   ],
   "source": [
    "class Animal1:\n",
    "    def __init__(self, name, species):\n",
    "        self.name = name\n",
    "        self.species = species\n",
    "        \n",
    "    def make_sound(self, sound):\n",
    "        print(f\"this animal sounds {sound}\")\n",
    "\n",
    "#Cat class        \n",
    "class Cat1(Animal1):\n",
    "    def __init__(self, name, species, breed, toy):\n",
    "        #self.name = name\n",
    "        #self.species = species\n",
    "        #Animal1.__init__(self, name, species) #another format\n",
    "        super().__init__(name,species=\"Cat\")\n",
    "        self.breed = breed\n",
    "        self.toy = toy\n",
    "        \n",
    "    def play(self):\n",
    "        print(f\"{self.name} plays with {self.toy}\")\n",
    "\n",
    "blue = Cat1(\"Blue\", \"Cat\", \"Indian\", \"String\")\n",
    "print(blue)\n",
    "print(blue.name)\n",
    "print(blue.species)\n",
    "blue.play()"
   ]
  },
  {
   "cell_type": "code",
   "execution_count": null,
   "metadata": {},
   "outputs": [],
   "source": [
    "# Inheritance Demo with User class created"
   ]
  },
  {
   "cell_type": "code",
   "execution_count": 24,
   "metadata": {},
   "outputs": [],
   "source": [
    "class User4:\n",
    "    \n",
    "    active_users = 0 # class attribute\n",
    "    \n",
    "    #class methods\n",
    "    @classmethod\n",
    "    def display_active_users(cls):\n",
    "        return f\"There are currently {cls.active_users} active users on the system\"\n",
    "    \n",
    "    @classmethod\n",
    "    def from_string(cls, data_str):\n",
    "        first, last, age = data_str.split(\",\")\n",
    "        return cls(first, last, int(age))\n",
    "    \n",
    "    def __init__(self, firstname, lastname, age): # will be called when an instance created\n",
    "        self.first = firstname\n",
    "        self.last = lastname\n",
    "        self.age = age\n",
    "        User4.active_users += 1\n",
    "        \n",
    "    def __repr__(self):\n",
    "        return f\"{self.first} is {self.age}\"\n",
    "        \n",
    "    def logout(self):\n",
    "        User4.active_users -= 1\n",
    "        return f\"{self.first} has been logged out\"\n",
    "        \n",
    "    def full_name(self):\n",
    "        return f\"{self.first} {self.last}\"\n",
    "    \n",
    "    def initials(self):\n",
    "        return f\"{self.first[0]}.{self.last[0]}\"\n",
    "    \n",
    "    def likes(self, thing):\n",
    "        return f\"{self.first} likes {thing}\"  # note no \"self\" for the thing\n",
    "    \n",
    "    def is_senior(self):\n",
    "        return self.age >= 65\n",
    "    \n",
    "    def birthday(self):\n",
    "        self.age += 1\n",
    "        return f\"Happy {self.age}th birthday!!!, {self.first}\"\n"
   ]
  },
  {
   "cell_type": "code",
   "execution_count": 30,
   "metadata": {},
   "outputs": [
    {
     "name": "stdout",
     "output_type": "stream",
     "text": [
      "kanuhasini dhineshbabu\n",
      "piano\n",
      "There are currently 2 active mods\n"
     ]
    }
   ],
   "source": [
    "class Moderator(User4):\n",
    "    total_mods = 0\n",
    "    def __init__(self,firstname, lastname, age, community):\n",
    "        super().__init__(firstname, lastname, age,)\n",
    "        self.community = community\n",
    "        Moderator.total_mods += 1\n",
    "        \n",
    "    @classmethod\n",
    "    def display_active_mods(cls):\n",
    "        print(f\"There are currently {cls.total_mods} active mods\")\n",
    "    \n",
    "    def remove_post(self):\n",
    "        return f\"{self.full_name()} removed a post from the {self.community} community\"\n",
    "    \n",
    "#creating moderators\n",
    "\n",
    "kanu = Moderator(\"kanuhasini\", \"dhineshbabu\", 61, \"piano\")\n",
    "dhinesh = Moderator(\"dhineshbabu\", \"muthuraj\", 75, \"guitar\")\n",
    "print(kanu.full_name())\n",
    "print(kanu.community)\n",
    "Moderator.display_active_mods()"
   ]
  },
  {
   "cell_type": "code",
   "execution_count": 31,
   "metadata": {},
   "outputs": [],
   "source": [
    "################# Understanding Multiple Inheritance ###########"
   ]
  },
  {
   "cell_type": "code",
   "execution_count": 35,
   "metadata": {},
   "outputs": [
    {
     "name": "stdout",
     "output_type": "stream",
     "text": [
      "AQUATIC INIT!\n",
      "AMBULATORY INIT!\n",
      "PENGUIN INIT!\n",
      "AMBULATORY INIT!\n",
      "Captain Cook is swimming\n",
      "Captain Cook is walking\n",
      "I am Captain Cook of the land!\n",
      "captain_cook is instance of Penguin: True\n",
      "captain_cook is instance of Aquatic: True\n",
      "captain_cook is instance of Ambulatory: True\n"
     ]
    }
   ],
   "source": [
    "class Aquatic:\n",
    "    def __init__(self,name):\n",
    "        print(\"AQUATIC INIT!\")\n",
    "        self.name = name\n",
    "\n",
    "    def swim(self):\n",
    "        return f\"{self.name} is swimming\"\n",
    "\n",
    "    def greet(self):\n",
    "        return f\"I am {self.name} of the sea!\"\n",
    "\n",
    "\n",
    "\n",
    "class Ambulatory:\n",
    "    def __init__(self,name):\n",
    "        print(\"AMBULATORY INIT!\")\n",
    "        self.name = name\n",
    "\n",
    "    def walk(self):\n",
    "        return f\"{self.name} is walking\"\n",
    "\n",
    "    def greet(self):\n",
    "        return f\"I am {self.name} of the land!\"\n",
    "\n",
    "\n",
    "\n",
    "class Penguin(Ambulatory, Aquatic):\n",
    "    def __init__(self,name):\n",
    "        print(\"PENGUIN INIT!\")\n",
    "        super().__init__(name=name)\n",
    "        # Ambulatory.__init__(self,name=name)\n",
    "        # Aquatic.__init__(self, name=name)\n",
    "\n",
    "\n",
    "\n",
    "jaws = Aquatic(\"Jaws\")\n",
    "lassie = Ambulatory(\"Lassie\")\n",
    "captain_cook = Penguin(\"Captain Cook\")\n",
    "\n",
    "print(captain_cook.swim())\n",
    "print(captain_cook.walk())\n",
    "print(captain_cook.greet())\n",
    "\n",
    "print(f\"captain_cook is instance of Penguin: {isinstance(captain_cook, Penguin)}\")\n",
    "print(f\"captain_cook is instance of Aquatic: {isinstance(captain_cook, Aquatic)}\")\n",
    "print(f\"captain_cook is instance of Ambulatory: {isinstance(captain_cook, Ambulatory)}\")\n"
   ]
  },
  {
   "cell_type": "code",
   "execution_count": 36,
   "metadata": {},
   "outputs": [],
   "source": [
    "############ Method Resolution Order #############"
   ]
  },
  {
   "cell_type": "code",
   "execution_count": 37,
   "metadata": {},
   "outputs": [],
   "source": [
    "#You can programmatically reference the MRO three ways\n",
    "# __mro__ attribute on the class\n",
    "# use the mro() method on the class\n",
    "#use the built in help(cls) method"
   ]
  },
  {
   "cell_type": "code",
   "execution_count": 39,
   "metadata": {},
   "outputs": [],
   "source": [
    "#Demo\n",
    "class A:\n",
    "    def greet(self):\n",
    "        print('This is from class A')\n",
    "        \n",
    "class B(A):\n",
    "    def greet(self):\n",
    "        print('This is from class B') \n",
    "        \n",
    "class C(A):\n",
    "    def greet(self):\n",
    "        print('This is from class C')  \n",
    "        \n",
    "class D(B,C):\n",
    "    def greet(self):\n",
    "        print('This is from class D')    "
   ]
  },
  {
   "cell_type": "code",
   "execution_count": 40,
   "metadata": {},
   "outputs": [],
   "source": [
    "thing = D()"
   ]
  },
  {
   "cell_type": "code",
   "execution_count": 42,
   "metadata": {},
   "outputs": [
    {
     "data": {
      "text/plain": [
       "(__main__.D, __main__.B, __main__.C, __main__.A, object)"
      ]
     },
     "execution_count": 42,
     "metadata": {},
     "output_type": "execute_result"
    }
   ],
   "source": [
    "D.__mro__"
   ]
  },
  {
   "cell_type": "code",
   "execution_count": 43,
   "metadata": {},
   "outputs": [
    {
     "data": {
      "text/plain": [
       "[__main__.D, __main__.B, __main__.C, __main__.A, object]"
      ]
     },
     "execution_count": 43,
     "metadata": {},
     "output_type": "execute_result"
    }
   ],
   "source": [
    "#another way\n",
    "D.mro()"
   ]
  },
  {
   "cell_type": "code",
   "execution_count": 44,
   "metadata": {},
   "outputs": [
    {
     "name": "stdout",
     "output_type": "stream",
     "text": [
      "Help on class D in module __main__:\n",
      "\n",
      "class D(B, C)\n",
      " |  Method resolution order:\n",
      " |      D\n",
      " |      B\n",
      " |      C\n",
      " |      A\n",
      " |      builtins.object\n",
      " |  \n",
      " |  Methods defined here:\n",
      " |  \n",
      " |  greet(self)\n",
      " |  \n",
      " |  ----------------------------------------------------------------------\n",
      " |  Data descriptors inherited from A:\n",
      " |  \n",
      " |  __dict__\n",
      " |      dictionary for instance variables (if defined)\n",
      " |  \n",
      " |  __weakref__\n",
      " |      list of weak references to the object (if defined)\n",
      "\n"
     ]
    }
   ],
   "source": [
    "#another way\n",
    "help(D)"
   ]
  },
  {
   "cell_type": "code",
   "execution_count": 45,
   "metadata": {},
   "outputs": [],
   "source": [
    "#################### POLYMORPHISM ####################\n",
    "# 1. The same class method works in a similar way for different kinds of objects\n",
    "# 2. The same operation works for differnt kind of objects. such as len() method for both list and objects"
   ]
  },
  {
   "cell_type": "code",
   "execution_count": 46,
   "metadata": {},
   "outputs": [
    {
     "data": {
      "text/plain": [
       "'Bow bow'"
      ]
     },
     "execution_count": 46,
     "metadata": {},
     "output_type": "execute_result"
    }
   ],
   "source": [
    "#Demo\n",
    "class Animal():\n",
    "    def speak(self):\n",
    "        raise NotImplementedError(\"Subclass needs to implment this method\")\n",
    "\n",
    "class Dog(Animal):\n",
    "    def speak(self):\n",
    "        return \"Bow bow\"\n",
    "    \n",
    "class Cat(Animal):\n",
    "    def speak(self):\n",
    "        return \"Meow\"\n",
    "    \n",
    "class Fish(Animal):\n",
    "    pass\n",
    "\n",
    "d = Dog()\n",
    "d.speak()"
   ]
  },
  {
   "cell_type": "code",
   "execution_count": 47,
   "metadata": {},
   "outputs": [
    {
     "ename": "NotImplementedError",
     "evalue": "Subclass needs to implment this method",
     "output_type": "error",
     "traceback": [
      "\u001b[1;31m---------------------------------------------------------------------------\u001b[0m",
      "\u001b[1;31mNotImplementedError\u001b[0m                       Traceback (most recent call last)",
      "\u001b[1;32m<ipython-input-47-fc1f8382c64a>\u001b[0m in \u001b[0;36m<module>\u001b[1;34m\u001b[0m\n\u001b[0;32m      1\u001b[0m \u001b[0mf\u001b[0m \u001b[1;33m=\u001b[0m \u001b[0mFish\u001b[0m\u001b[1;33m(\u001b[0m\u001b[1;33m)\u001b[0m\u001b[1;33m\u001b[0m\u001b[1;33m\u001b[0m\u001b[0m\n\u001b[1;32m----> 2\u001b[1;33m \u001b[0mf\u001b[0m\u001b[1;33m.\u001b[0m\u001b[0mspeak\u001b[0m\u001b[1;33m(\u001b[0m\u001b[1;33m)\u001b[0m\u001b[1;33m\u001b[0m\u001b[1;33m\u001b[0m\u001b[0m\n\u001b[0m",
      "\u001b[1;32m<ipython-input-46-806ed4bd2c52>\u001b[0m in \u001b[0;36mspeak\u001b[1;34m(self)\u001b[0m\n\u001b[0;32m      2\u001b[0m \u001b[1;32mclass\u001b[0m \u001b[0mAnimal\u001b[0m\u001b[1;33m(\u001b[0m\u001b[1;33m)\u001b[0m\u001b[1;33m:\u001b[0m\u001b[1;33m\u001b[0m\u001b[1;33m\u001b[0m\u001b[0m\n\u001b[0;32m      3\u001b[0m     \u001b[1;32mdef\u001b[0m \u001b[0mspeak\u001b[0m\u001b[1;33m(\u001b[0m\u001b[0mself\u001b[0m\u001b[1;33m)\u001b[0m\u001b[1;33m:\u001b[0m\u001b[1;33m\u001b[0m\u001b[1;33m\u001b[0m\u001b[0m\n\u001b[1;32m----> 4\u001b[1;33m         \u001b[1;32mraise\u001b[0m \u001b[0mNotImplementedError\u001b[0m\u001b[1;33m(\u001b[0m\u001b[1;34m\"Subclass needs to implment this method\"\u001b[0m\u001b[1;33m)\u001b[0m\u001b[1;33m\u001b[0m\u001b[1;33m\u001b[0m\u001b[0m\n\u001b[0m\u001b[0;32m      5\u001b[0m \u001b[1;33m\u001b[0m\u001b[0m\n\u001b[0;32m      6\u001b[0m \u001b[1;32mclass\u001b[0m \u001b[0mDog\u001b[0m\u001b[1;33m(\u001b[0m\u001b[0mAnimal\u001b[0m\u001b[1;33m)\u001b[0m\u001b[1;33m:\u001b[0m\u001b[1;33m\u001b[0m\u001b[1;33m\u001b[0m\u001b[0m\n",
      "\u001b[1;31mNotImplementedError\u001b[0m: Subclass needs to implment this method"
     ]
    }
   ],
   "source": [
    "f = Fish()\n",
    "f.speak()  # subclass must have it's own version of speak(0 method"
   ]
  },
  {
   "cell_type": "code",
   "execution_count": 48,
   "metadata": {},
   "outputs": [],
   "source": [
    "####### Sepcial Methods #########"
   ]
  },
  {
   "cell_type": "code",
   "execution_count": 49,
   "metadata": {},
   "outputs": [],
   "source": [
    "#__len__() method\n",
    "#__repr__() method()"
   ]
  },
  {
   "cell_type": "code",
   "execution_count": 60,
   "metadata": {},
   "outputs": [
    {
     "name": "stdout",
     "output_type": "stream",
     "text": [
      "Human named thomas jacob\n",
      "58\n",
      "Human named NewBorn jacob\n",
      "[Human named thomas jacob, Human named thomas jacob]\n",
      "[Human named NewBorn jacob, Human named NewBorn jacob, Human named NewBorn jacob]\n"
     ]
    }
   ],
   "source": [
    "#demo\n",
    "from copy import copy\n",
    "class Human:\n",
    "    def __init__(self, first, last, age):\n",
    "        self.first = first\n",
    "        self.last = last\n",
    "        self.age = age\n",
    "        \n",
    "    def __repr__(self):\n",
    "        return f\"Human named {self.first} {self.last}\"\n",
    "    \n",
    "    def __len__(self):\n",
    "        return self.age\n",
    "    \n",
    "    def __add__(self, other):\n",
    "        if isinstance(other, Human):\n",
    "            return Human(first='NewBorn', last = self.last, age=0)\n",
    "        return 'You cant add that!'\n",
    "    \n",
    "    def __mul__(self, other):# if we pass 2 objects to a method(operands, first will be assigned to self and the second will be assigned to others)\n",
    "        if isinstance(other, int):\n",
    "            return[copy(self) for i in range(other)]\n",
    "        return \"cant multiply\"\n",
    "    \n",
    "human = Human(\"thomas\", \"jacob\", 58)   \n",
    "human1 = Human(\"jenny\", \"jacob\", 8)   \n",
    "print(human)\n",
    "print(len(human))\n",
    "print(human+human1)\n",
    "print(human*2)\n",
    "\n",
    "#another long math\n",
    "print((human+human1)*3)"
   ]
  },
  {
   "cell_type": "code",
   "execution_count": 61,
   "metadata": {},
   "outputs": [],
   "source": [
    "########### GRUMPY DICT #############"
   ]
  },
  {
   "cell_type": "code",
   "execution_count": 74,
   "metadata": {},
   "outputs": [
    {
     "name": "stdout",
     "output_type": "stream",
     "text": [
      "NONE OF YOUR BUSINESS\n",
      "{'first': 'Tom', 'animal': 'cat'}\n"
     ]
    }
   ],
   "source": [
    "class GrumpyDict(dict):\n",
    "    def __repr__(self):\n",
    "        print(\"NONE OF YOUR BUSINESS\")\n",
    "        return super().__repr__()\n",
    "    \n",
    "    def __missing__(self, key):\n",
    "        print(\"You want {key}?. Well, it aint here\")\n",
    "        \n",
    "    def __setitem__(self, key, value):\n",
    "        print(\"You want to change the dictionary?\")\n",
    "        print(\"Ok Fine....\")\n",
    "        super().__setitem__(key, value)\n",
    "        \n",
    "    def __contains__(self, item):\n",
    "        print(\"No, the item is not her!!!!\")\n",
    "        return False\n",
    "    \n",
    "data = GrumpyDict({\"first\": \"Tom\", \"animal\":\"cat\"})\n",
    "print(data)"
   ]
  },
  {
   "cell_type": "code",
   "execution_count": 71,
   "metadata": {},
   "outputs": [
    {
     "name": "stdout",
     "output_type": "stream",
     "text": [
      "You want {key}?. Well, it aint here\n"
     ]
    }
   ],
   "source": [
    " data['city']  # if __missing__ is not overridden, we will get KEYERROR"
   ]
  },
  {
   "cell_type": "code",
   "execution_count": 75,
   "metadata": {},
   "outputs": [
    {
     "name": "stdout",
     "output_type": "stream",
     "text": [
      "You want to change the dictionary?\n",
      "Ok Fine....\n",
      "NONE OF YOUR BUSINESS\n",
      "{'first': 'Tom', 'animal': 'cat', 'nation': 'India'}\n"
     ]
    }
   ],
   "source": [
    "data['nation']  = \"India\"\n",
    "print(data)"
   ]
  },
  {
   "cell_type": "code",
   "execution_count": 76,
   "metadata": {},
   "outputs": [
    {
     "name": "stdout",
     "output_type": "stream",
     "text": [
      "No, the item is not her!!!!\n"
     ]
    },
    {
     "data": {
      "text/plain": [
       "False"
      ]
     },
     "execution_count": 76,
     "metadata": {},
     "output_type": "execute_result"
    }
   ],
   "source": [
    "\"city\" in data  # this is from __contains__ method"
   ]
  }
 ],
 "metadata": {
  "kernelspec": {
   "display_name": "Python 3",
   "language": "python",
   "name": "python3"
  },
  "language_info": {
   "codemirror_mode": {
    "name": "ipython",
    "version": 3
   },
   "file_extension": ".py",
   "mimetype": "text/x-python",
   "name": "python",
   "nbconvert_exporter": "python",
   "pygments_lexer": "ipython3",
   "version": "3.7.3"
  }
 },
 "nbformat": 4,
 "nbformat_minor": 2
}
