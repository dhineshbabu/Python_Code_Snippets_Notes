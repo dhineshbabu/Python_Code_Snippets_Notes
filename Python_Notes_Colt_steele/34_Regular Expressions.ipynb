{
 "cells": [
  {
   "cell_type": "code",
   "execution_count": 1,
   "metadata": {},
   "outputs": [],
   "source": [
    "###### Regular Expression Introduction #####"
   ]
  },
  {
   "cell_type": "code",
   "execution_count": 2,
   "metadata": {},
   "outputs": [],
   "source": [
    "# use https://pythex.org/ for any regex validation\n",
    "# also check regular expression cheat sheet"
   ]
  },
  {
   "cell_type": "code",
   "execution_count": 3,
   "metadata": {},
   "outputs": [
    {
     "data": {
      "text/plain": [
       "'\\n\\\\d  digit[0-9]\\n\\\\w  letter, digit and underscore\\n\\\\s whitespace character\\n\\\\D not a digit\\n\\\\W not a word character\\n\\\\S not a whitespace character\\n.  any character except line break\\n'"
      ]
     },
     "execution_count": 3,
     "metadata": {},
     "output_type": "execute_result"
    }
   ],
   "source": [
    "\"\"\"\n",
    "\\d  digit[0-9]\n",
    "\\w  letter, digit and underscore\n",
    "\\s whitespace character\n",
    "\\D not a digit\n",
    "\\W not a word character\n",
    "\\S not a whitespace character\n",
    ".  any character except line break\n",
    "\"\"\""
   ]
  },
  {
   "cell_type": "code",
   "execution_count": 4,
   "metadata": {},
   "outputs": [
    {
     "data": {
      "text/plain": [
       "'\\n+ one or more\\n{3} Exactly 3 times\\n{3,5} Three to Five times\\n{4,} Four or more times\\n* Zero or more times\\n? Once or none(optional)\\n'"
      ]
     },
     "execution_count": 4,
     "metadata": {},
     "output_type": "execute_result"
    }
   ],
   "source": [
    "# Regex quantifiers\n",
    "\"\"\"\n",
    "+ one or more\n",
    "{3} Exactly 3 times\n",
    "{3,5} Three to Five times\n",
    "{4,} Four or more times\n",
    "* Zero or more times\n",
    "? Once or none(optional)\n",
    "\"\"\""
   ]
  },
  {
   "cell_type": "code",
   "execution_count": null,
   "metadata": {},
   "outputs": [],
   "source": [
    "# character classes\n",
    "\"\"\"\n",
    "[aeiou] Checks for all the letter that is in aeiou\n",
    "[aeiou]{2} 2 continuous vowels\n",
    "[a-f] Only letters between a and f\n",
    "[0-9] digits between 1 and 9\n",
    "[^k] anything that is not k\n",
    "[^0-9aeiou] anything that is not in these list of characters\n",
    "\"\"\""
   ]
  },
  {
   "cell_type": "code",
   "execution_count": null,
   "metadata": {},
   "outputs": [],
   "source": [
    "#Anchors and Boundaries\n",
    "\"\"\"\n",
    "^ Start of string or line\n",
    "$ End of Strin or line\n",
    "\\b word boundary\n",
    "\"\"\""
   ]
  },
  {
   "cell_type": "code",
   "execution_count": 1,
   "metadata": {},
   "outputs": [
    {
     "data": {
      "text/plain": [
       "'\\n(\\\\(\\\\d{3}\\\\)|\\\\d{3}) \\\\d{3}-\\\\d{4}  - either this or that\\n(Mr\\\\.|Mrs\\\\.) ([A-Za-z]+ [A-Za-z]+) - Also grouping with ()\\n'"
      ]
     },
     "execution_count": 1,
     "metadata": {},
     "output_type": "execute_result"
    }
   ],
   "source": [
    "# Logical OR (pipe character)\n",
    "\"\"\"\n",
    "(\\(\\d{3}\\)|\\d{3}) \\d{3}-\\d{4}  - either this or that\n",
    "(Mr\\.|Mrs\\.) ([A-Za-z]+ [A-Za-z]+) - Also grouping with ()\n",
    "\"\"\""
   ]
  },
  {
   "cell_type": "code",
   "execution_count": 3,
   "metadata": {},
   "outputs": [
    {
     "name": "stdout",
     "output_type": "stream",
     "text": [
      "<re.Match object; span=(19, 31), match='995 211-9993'>\n",
      "None\n"
     ]
    }
   ],
   "source": [
    "import re\n",
    "\n",
    "pattern = re.compile(r'\\d{3} \\d{3}-\\d{4}') # r is for raw string in front of the string\n",
    "\n",
    "res = pattern.search('My phone number is 995 211-9993!')\n",
    "\n",
    "res1 = pattern.search(\"547875454 rdffgfg\")\n",
    "\n",
    "print(res)\n",
    "print(res1)"
   ]
  },
  {
   "cell_type": "code",
   "execution_count": 4,
   "metadata": {},
   "outputs": [
    {
     "data": {
      "text/plain": [
       "'995 211-9993'"
      ]
     },
     "execution_count": 4,
     "metadata": {},
     "output_type": "execute_result"
    }
   ],
   "source": [
    "res.group() # it will return the first macth from the object"
   ]
  },
  {
   "cell_type": "code",
   "execution_count": 5,
   "metadata": {},
   "outputs": [],
   "source": [
    "res2 = pattern.findall('My phone number is 995 211-9993! and also 960 027-1975#')"
   ]
  },
  {
   "cell_type": "code",
   "execution_count": 6,
   "metadata": {},
   "outputs": [
    {
     "data": {
      "text/plain": [
       "['995 211-9993', '960 027-1975']"
      ]
     },
     "execution_count": 6,
     "metadata": {},
     "output_type": "execute_result"
    }
   ],
   "source": [
    "res2 #list of all the matches"
   ]
  },
  {
   "cell_type": "code",
   "execution_count": 8,
   "metadata": {},
   "outputs": [
    {
     "data": {
      "text/plain": [
       "'995 211-9993'"
      ]
     },
     "execution_count": 8,
     "metadata": {},
     "output_type": "execute_result"
    }
   ],
   "source": [
    "# we can also do directly\n",
    "re.search(r'\\d{3} \\d{3}-\\d{4}', 'My phone number is 995 211-9993!').group() # this will compile every time you do the validation"
   ]
  },
  {
   "cell_type": "code",
   "execution_count": 9,
   "metadata": {},
   "outputs": [],
   "source": [
    "#another demo"
   ]
  },
  {
   "cell_type": "code",
   "execution_count": 19,
   "metadata": {},
   "outputs": [
    {
     "name": "stdout",
     "output_type": "stream",
     "text": [
      "995 211-9993\n",
      "None\n",
      "995 211-9993\n",
      "['995 211-9993', '995 211-9993']\n",
      "True\n",
      "False\n",
      "False\n",
      "True\n",
      "False\n",
      "False\n"
     ]
    }
   ],
   "source": [
    "import re\n",
    "\n",
    "def extract_phone(input):\n",
    "    phone_regex = re.compile(r'\\d{3} \\d{3}-\\d{4}\\b')\n",
    "    match = phone_regex.search(input)\n",
    "    if match:\n",
    "        return match.group()\n",
    "    return None\n",
    "\n",
    "def extract_all_phones(input):\n",
    "    phone_regex = re.compile(r'\\d{3} \\d{3}-\\d{4}\\b')\n",
    "    match = phone_regex.findall(input)\n",
    "    if match:\n",
    "        return match\n",
    "    return None\n",
    "\n",
    "def is_valid_phone(input):\n",
    "    phone_regex = re.compile(r'^\\d{3} \\d{3}-\\d{4}\\b$')  #$ symbol must be there to print\n",
    "    match = phone_regex.search(input)\n",
    "    if match:\n",
    "        return True\n",
    "    return False \n",
    "\n",
    "def is_valid_phone_version2(input):\n",
    "    phone_regex = re.compile(r'\\d{3} \\d{3}-\\d{4}')  #$ symbol must be there to print\n",
    "    match = phone_regex.fullmatch(input)\n",
    "    if match:\n",
    "        return True\n",
    "    return False   \n",
    "\n",
    "print(extract_phone(\"My number is 995 211-9993\")) #works\n",
    "print(extract_phone(\"My number is 995 211-9993993\"))#None\n",
    "print(extract_phone(\"995 211-9993 dfgfgfd\"))\n",
    "print(extract_all_phones(\"995 211-9993 dfgfgfd 995 211-9993\"))\n",
    "print(is_valid_phone(\"995 211-9993\")) #True\n",
    "print(is_valid_phone(\"995 211-9993 dfdf\")) #False\n",
    "print(is_valid_phone(\"ssds 995 211-9993 dfdf \")) #False\n",
    "print(is_valid_phone_version2(\"995 211-9993\")) #True\n",
    "print(is_valid_phone_version2(\"995 211-9993 dfdf\")) #False\n",
    "print(is_valid_phone_version2(\"ssds 995 211-9993 dfdf \")) #False"
   ]
  },
  {
   "cell_type": "code",
   "execution_count": null,
   "metadata": {},
   "outputs": [],
   "source": [
    "#### Parsing URLs with python ####"
   ]
  },
  {
   "cell_type": "code",
   "execution_count": 27,
   "metadata": {},
   "outputs": [
    {
     "name": "stdout",
     "output_type": "stream",
     "text": [
      "https://www.google.com\n",
      "https://www.google.com\n",
      "https\n",
      "www.google.com\n",
      "\n",
      "('https', 'www.google.com', '')\n",
      "Protocol: https\n",
      "Domain: www.google.com\n",
      "Everything else in the given URL: \n"
     ]
    }
   ],
   "source": [
    "import re\n",
    "\n",
    "url_regex = re.compile(r'(https?)://(www\\.[A-Za-z-]{2,256}\\.[a-z]{2,6})([-a-zA-Z0-9@:%_\\+.~#?&//=]*)')\n",
    "\n",
    "match = url_regex.search(\"https://www.google.com\")\n",
    "\n",
    "print(match.group())\n",
    "print(match.group(0)) #all the groups similar to group()\n",
    "print(match.group(1)) #first matching group\n",
    "print(match.group(2)) #second matching group\n",
    "print(match.group(3)) #third matching group\n",
    "print(match.groups()) #note, this is groups. will return tuple of all the groups\n",
    "\n",
    "print(f\"Protocol: {match.group(1)}\")\n",
    "print(f\"Domain: {match.group(2)}\")\n",
    "print(f\"Everything else in the given URL: {match.group(3)}\")"
   ]
  },
  {
   "cell_type": "code",
   "execution_count": 31,
   "metadata": {},
   "outputs": [
    {
     "name": "stdout",
     "output_type": "stream",
     "text": [
      "Kanu\n",
      "Hasini\n"
     ]
    }
   ],
   "source": [
    "#another demo - Symbolic Group Names\n",
    "\n",
    "import re\n",
    "\n",
    "def parse_name(input):\n",
    "    name_regex = re.compile(r'^(Mr\\.|Mrs\\.|Ms\\.|Mdme\\.) (?P<first>[A-Za-z]+) (?P<last>[A-Za-z]+)$') #?P is a group name. we can use it in the match.group() method later\n",
    "    matches = name_regex.search(input)\n",
    "    print(matches.group('first'))\n",
    "    print(matches.group('last'))\n",
    "    \n",
    "parse_name(\"Ms. Kanu Hasini\")"
   ]
  },
  {
   "cell_type": "code",
   "execution_count": 32,
   "metadata": {},
   "outputs": [],
   "source": [
    "##### Regex Compilation Flags #####"
   ]
  },
  {
   "cell_type": "code",
   "execution_count": 36,
   "metadata": {},
   "outputs": [
    {
     "name": "stdout",
     "output_type": "stream",
     "text": [
      "kanuhasinid@gmail.com\n",
      "('kanuhasinid', 'gmail', 'com')\n",
      "KANUHSAINID@GMAIL.COM\n",
      "('KANUHSAINID', 'GMAIL', 'COM')\n"
     ]
    }
   ],
   "source": [
    "import re\n",
    "\n",
    "pat = re.compile(r'^([a-z0-9_\\.-]+)@([\\da-z\\.-]+)\\.([a-z\\.]{2,6})$') # This line can be re-written as below. Also we can add comments\n",
    "\n",
    "pattern = re.compile(r\"\"\"\n",
    "    ^([a-z0-9_\\.-]+)     #first part of email\n",
    "    @                    #single @ sign\n",
    "    ([\\da-z\\.-]+)        #email provider\n",
    "    \\.                   #single period\n",
    "    ([a-z\\.]{2,6})$      #com, org, net, etc.\n",
    "\"\"\", re.VERBOSE | re.IGNORECASE) # wecan use re.X or re.VERBOSE.. wecan use re.I or re.IGNORECASE..\n",
    "\n",
    "match = pattern.search(\"kanuhasinid@gmail.com\")\n",
    "print(match.group())\n",
    "print(match.groups())\n",
    "match = pattern.search(\"KANUHSAINID@GMAIL.COM\")\n",
    "print(match.group())\n",
    "print(match.groups())"
   ]
  },
  {
   "cell_type": "code",
   "execution_count": 37,
   "metadata": {},
   "outputs": [],
   "source": [
    "#####  Regex Substitution Basic #### using sub() method"
   ]
  },
  {
   "cell_type": "code",
   "execution_count": 47,
   "metadata": {},
   "outputs": [
    {
     "name": "stdout",
     "output_type": "stream",
     "text": [
      "Last night #### and #### played with ####\n",
      "Last night Mrs. Good and Mr. Good played with Ms. Good\n",
      "Last night Mrs. B and Mr. D played with Ms. K\n"
     ]
    }
   ],
   "source": [
    "import re\n",
    "text = \"Last night Mrs. Bru and Mr. Dhinesh played with Ms. Kanu\"\n",
    "\n",
    "pattern = re.compile(r'(Mr.|Mrs.|Ms.) ([a-z])[a-z]+', re.I)\n",
    "\n",
    "#print(pattern.findall(text)) #['Mrs.', 'Mr.', 'Ms.']\n",
    "#print(pattern.search(text).group()) #Mrs. Bru\n",
    "result = pattern.sub(\"####\", text)\n",
    "result1 = pattern.sub(\"\\g<1> Good\", text)\n",
    "result2 = pattern.sub(\"\\g<1> \\g<2>\", text)\n",
    "print(result)\n",
    "print(result1)\n",
    "print(result2)"
   ]
  },
  {
   "cell_type": "code",
   "execution_count": 48,
   "metadata": {},
   "outputs": [],
   "source": [
    "### Swapping File Names ###"
   ]
  },
  {
   "cell_type": "code",
   "execution_count": 53,
   "metadata": {},
   "outputs": [
    {
     "name": "stdout",
     "output_type": "stream",
     "text": [
      "['1978 - Tales of the City', '1980 - More Tales of the City', '1982 - Further Tales of the City', '1984 - Babycakes', '1987 - Significant Others', '1989 - Sure of You', '2007 - Michael Tolliver Lives', '2010 - Mary Ann in Autumn', '2014 - The Days of Anna Madrigal']\n"
     ]
    }
   ],
   "source": [
    "import re\n",
    "\n",
    "titles = [\n",
    "    \"Significant Others (1987)\",\n",
    "    \"Tales of the City (1978)\",\n",
    "    \"The Days of Anna Madrigal (2014)\",\n",
    "    \"Mary Ann in Autumn (2010)\",\n",
    "    \"Further Tales of the City (1982)\",\n",
    "    \"Babycakes (1984)\",\n",
    "    \"More Tales of the City (1980)\",\n",
    "    \"Sure of You (1989)\",\n",
    "    \"Michael Tolliver Lives (2007)\"\n",
    "]\n",
    "fixed_book_titles = []\n",
    "pattern = re.compile(r'(^[\\w ]+) \\((\\d{4})\\)')\n",
    "for book in titles:\n",
    "    result = pattern.sub(\"\\g<2> - \\g<1>\", book)\n",
    "    fixed_book_titles.append(result)\n",
    "fixed_book_titles.sort()\n",
    "print(fixed_book_titles)\n"
   ]
  },
  {
   "cell_type": "code",
   "execution_count": null,
   "metadata": {},
   "outputs": [],
   "source": []
  }
 ],
 "metadata": {
  "kernelspec": {
   "display_name": "Python 3",
   "language": "python",
   "name": "python3"
  },
  "language_info": {
   "codemirror_mode": {
    "name": "ipython",
    "version": 3
   },
   "file_extension": ".py",
   "mimetype": "text/x-python",
   "name": "python",
   "nbconvert_exporter": "python",
   "pygments_lexer": "ipython3",
   "version": "3.7.3"
  }
 },
 "nbformat": 4,
 "nbformat_minor": 2
}
