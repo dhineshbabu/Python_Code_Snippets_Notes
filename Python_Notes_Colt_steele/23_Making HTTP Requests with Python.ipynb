{
 "cells": [
  {
   "cell_type": "code",
   "execution_count": 1,
   "metadata": {},
   "outputs": [],
   "source": [
    "#### Using 'requests' module ####"
   ]
  },
  {
   "cell_type": "code",
   "execution_count": 2,
   "metadata": {},
   "outputs": [],
   "source": [
    "import requests\n",
    "res = requests.get(\"https://news.ycombinator.com\")"
   ]
  },
  {
   "cell_type": "code",
   "execution_count": 3,
   "metadata": {},
   "outputs": [
    {
     "data": {
      "text/plain": [
       "<Response [200]>"
      ]
     },
     "execution_count": 3,
     "metadata": {},
     "output_type": "execute_result"
    }
   ],
   "source": [
    "res"
   ]
  },
  {
   "cell_type": "code",
   "execution_count": 6,
   "metadata": {},
   "outputs": [
    {
     "data": {
      "text/plain": [
       "True"
      ]
     },
     "execution_count": 6,
     "metadata": {},
     "output_type": "execute_result"
    }
   ],
   "source": [
    "res.ok"
   ]
  },
  {
   "cell_type": "code",
   "execution_count": 7,
   "metadata": {},
   "outputs": [
    {
     "data": {
      "text/plain": [
       "{'Server': 'nginx', 'Date': 'Sat, 11 May 2019 14:39:39 GMT', 'Content-Type': 'text/html; charset=utf-8', 'Transfer-Encoding': 'chunked', 'Connection': 'keep-alive', 'Vary': 'Accept-Encoding', 'Cache-Control': 'private; max-age=0', 'X-Frame-Options': 'DENY', 'X-Content-Type-Options': 'nosniff', 'X-XSS-Protection': '1; mode=block', 'Referrer-Policy': 'origin', 'Strict-Transport-Security': 'max-age=31556900', 'Content-Security-Policy': \"default-src 'self'; script-src 'self' 'unsafe-inline' https://www.google.com/recaptcha/ https://www.gstatic.com/recaptcha/ https://cdnjs.cloudflare.com/; frame-src 'self' https://www.google.com/recaptcha/; style-src 'self' 'unsafe-inline'\", 'Content-Encoding': 'gzip'}"
      ]
     },
     "execution_count": 7,
     "metadata": {},
     "output_type": "execute_result"
    }
   ],
   "source": [
    "res.headers"
   ]
  },
  {
   "cell_type": "code",
   "execution_count": 8,
   "metadata": {},
   "outputs": [
    {
     "data": {
      "text/plain": [
       "'<html op=\"news\"><head><meta name=\"referrer\" content=\"origin\"><meta name=\"viewport\" content=\"width=device-width, initial-scale=1.0\"><link rel=\"stylesheet\" type=\"text/css\" href=\"news.css?6qLiQFrZT2a8FpFZWIxT\">\\n            <link rel=\"shortcut icon\" href=\"favicon.ico\">\\n          <link rel=\"alternate\" type=\"application/rss+xml\" title=\"RSS\" href=\"rss\">\\n        <title>Hacker News</title></head><body><center><table id=\"hnmain\" border=\"0\" cellpadding=\"0\" cellspacing=\"0\" width=\"85%\" bgcolor=\"#f6f6ef\">\\n        <tr><td bgcolor=\"#ff6600\"><table border=\"0\" cellpadding=\"0\" cellspacing=\"0\" width=\"100%\" style=\"padding:2px\"><tr><td style=\"width:18px;padding-right:4px\"><a href=\"https://news.ycombinator.com\"><img src=\"y18.gif\" width=\"18\" height=\"18\" style=\"border:1px white solid;\"></a></td>\\n                  <td style=\"line-height:12pt; height:10px;\"><span class=\"pagetop\"><b class=\"hnname\"><a href=\"news\">Hacker News</a></b>\\n              <a href=\"newest\">new</a> | <a href=\"front\">past</a> | <a href=\"newcomments\">comments</a> | <a href=\"ask\">ask</a> | <a href=\"show\">show</a> | <a href=\"jobs\">jobs</a> | <a href=\"submit\">submit</a>            </span></td><td style=\"text-align:right;padding-right:4px;\"><span class=\"pagetop\">\\n                              <a href=\"login?goto=news\">login</a>\\n                          </span></td>\\n              </tr></table></td></tr>\\n<tr id=\"pagespace\" title=\"\" style=\"height:10px\"></tr><tr><td><table border=\"0\" cellpadding=\"0\" cellspacing=\"0\" class=\"itemlist\">\\n              <tr class=\\'athing\\' id=\\'19885764\\'>\\n      <td align=\"right\" valign=\"top\" class=\"title\"><span class=\"rank\">1.</span></td>      <td valign=\"top\" class=\"votelinks\"><center><a id=\\'up_19885764\\' href=\\'vote?id=19885764&amp;how=up&amp;goto=news\\'><div class=\\'votearrow\\' title=\\'upvote\\'></div></a></center></td><td class=\"title\"><a href=\"https://www.twilio.com/wireless/super-sim\" class=\"storylink\">Twilio Super SIM</a><span class=\"sitebit comhead\"> (<a href=\"from?site=twilio.com\"><span class=\"sitestr\">twilio.com</span></a>)</span></td></tr><tr><td colspan=\"2\"></td><td class=\"subtext\">\\n        <span class=\"score\" id=\"score_19885764\">134 points</span> by <a href=\"user?id=galfarragem\" class=\"hnuser\">galfarragem</a> <span class=\"age\"><a href=\"item?id=19885764\">2 hours ago</a></span> <span id=\"unv_19885764\"></span> | <a href=\"hide?id=19885764&amp;goto=news\">hide</a> | <a href=\"item?id=19885764\">49&nbsp;comments</a>              </td></tr>\\n      <tr class=\"spacer\" style=\"height:5px\"></tr>\\n                <tr class=\\'athing\\' id=\\'19885769\\'>\\n      <td align=\"right\" valign=\"top\" class=\"title\"><span class=\"rank\">2.</span></td>      <td valign=\"top\" class=\"votelinks\"><center><a id=\\'up_19885769\\' href=\\'vote?id=19885769&amp;how=up&amp;goto=news\\'><div class=\\'votearrow\\' title=\\'upvote\\'></div></a></center></td><td class=\"title\"><a href=\"https://zwischenzugs.com/2019/05/11/seven-surprising-bash-variables/\" class=\"storylink\">Surprising Bash Variables</a><span class=\"sitebit comhead\"> (<a href=\"from?site=zwischenzugs.com\"><span class=\"sitestr\">zwischenzugs.com</span></a>)</span></td></tr><tr><td colspan=\"2\"></td><td class=\"subtext\">\\n        <span class=\"score\" id=\"score_19885769\">60 points</span> by <a href=\"user?id=zwischenzug\" class=\"hnuser\">zwischenzug</a> <span class=\"age\"><a href=\"item?id=19885769\">2 hours ago</a></span> <span id=\"unv_19885769\"></span> | <a href=\"hide?id=19885769&amp;goto=news\">hide</a> | <a href=\"item?id=19885769\">23&nbsp;comments</a>              </td></tr>\\n      <tr class=\"spacer\" style=\"height:5px\"></tr>\\n                <tr class=\\'athing\\' id=\\'19885863\\'>\\n      <td align=\"right\" valign=\"top\" class=\"title\"><span class=\"rank\">3.</span></td>      <td valign=\"top\" class=\"votelinks\"><center><a id=\\'up_19885863\\' href=\\'vote?id=19885863&amp;how=up&amp;goto=news\\'><div class=\\'votearrow\\' title=\\'upvote\\'></div></a></center></td><td class=\"title\"><a href=\"http://clojure-goes-fast.com/blog/shenandoah-in-production/\" class=\"storylink\">Shenandoah GC in production: experience report</a><span class=\"sitebit comhead\"> (<a href=\"from?site=clojure-goes-fast.com\"><span class=\"sitestr\">clojure-goes-fast.com</span></a>)</span></td></tr><tr><td colspan=\"2\"></td><td class=\"subtext\">\\n        <span class=\"score\" id=\"score_19885863\">45 points</span> by <a href=\"user?id=truth_seeker\" class=\"hnuser\">truth_seeker</a> <span class=\"age\"><a href=\"item?id=19885863\">1 hour ago</a></span> <span id=\"unv_19885863\"></span> | <a href=\"hide?id=19885863&amp;goto=news\">hide</a> | <a href=\"item?id=19885863\">9&nbsp;comments</a>              </td></tr>\\n      <tr class=\"spacer\" style=\"height:5px\"></tr>\\n                <tr class=\\'athing\\' id=\\'19886049\\'>\\n      <td align=\"right\" valign=\"top\" class=\"title\"><span class=\"rank\">4.</span></td>      <td valign=\"top\" class=\"votelinks\"><center><a id=\\'up_19886049\\' href=\\'vote?id=19886049&amp;how=up&amp;goto=news\\'><div class=\\'votearrow\\' title=\\'upvote\\'></div></a></center></td><td class=\"title\"><a href=\"https://github.com/Microsoft/wil\" class=\"storylink\">Windows Implementation Libraries: type-safe C++ interfaces for Windows patterns</a><span class=\"sitebit comhead\"> (<a href=\"from?site=github.com\"><span class=\"sitestr\">github.com</span></a>)</span></td></tr><tr><td colspan=\"2\"></td><td class=\"subtext\">\\n        <span class=\"score\" id=\"score_19886049\">19 points</span> by <a href=\"user?id=ingve\" class=\"hnuser\">ingve</a> <span class=\"age\"><a href=\"item?id=19886049\">1 hour ago</a></span> <span id=\"unv_19886049\"></span> | <a href=\"hide?id=19886049&amp;goto=news\">hide</a> | <a href=\"item?id=19886049\">2&nbsp;comments</a>              </td></tr>\\n      <tr class=\"spacer\" style=\"height:5px\"></tr>\\n                <tr class=\\'athing\\' id=\\'19886210\\'>\\n      <td align=\"right\" valign=\"top\" class=\"title\"><span class=\"rank\">5.</span></td>      <td valign=\"top\" class=\"votelinks\"><center><a id=\\'up_19886210\\' href=\\'vote?id=19886210&amp;how=up&amp;goto=news\\'><div class=\\'votearrow\\' title=\\'upvote\\'></div></a></center></td><td class=\"title\"><a href=\"https://blog.japaric.io/microamp/\" class=\"storylink\">Microamp: Asymmetric Multi-Processing on Microcontrollers</a><span class=\"sitebit comhead\"> (<a href=\"from?site=japaric.io\"><span class=\"sitestr\">japaric.io</span></a>)</span></td></tr><tr><td colspan=\"2\"></td><td class=\"subtext\">\\n        <span class=\"score\" id=\"score_19886210\">6 points</span> by <a href=\"user?id=zdw\" class=\"hnuser\">zdw</a> <span class=\"age\"><a href=\"item?id=19886210\">35 minutes ago</a></span> <span id=\"unv_19886210\"></span> | <a href=\"hide?id=19886210&amp;goto=news\">hide</a> | <a href=\"item?id=19886210\">discuss</a>              </td></tr>\\n      <tr class=\"spacer\" style=\"height:5px\"></tr>\\n                <tr class=\\'athing\\' id=\\'19885922\\'>\\n      <td align=\"right\" valign=\"top\" class=\"title\"><span class=\"rank\">6.</span></td>      <td valign=\"top\" class=\"votelinks\"><center><a id=\\'up_19885922\\' href=\\'vote?id=19885922&amp;how=up&amp;goto=news\\'><div class=\\'votearrow\\' title=\\'upvote\\'></div></a></center></td><td class=\"title\"><a href=\"https://www.graalvm.org/docs/release-notes/#1900\" class=\"storylink\">GraalVM 19.0</a><span class=\"sitebit comhead\"> (<a href=\"from?site=graalvm.org\"><span class=\"sitestr\">graalvm.org</span></a>)</span></td></tr><tr><td colspan=\"2\"></td><td class=\"subtext\">\\n        <span class=\"score\" id=\"score_19885922\">69 points</span> by <a href=\"user?id=tosh\" class=\"hnuser\">tosh</a> <span class=\"age\"><a href=\"item?id=19885922\">1 hour ago</a></span> <span id=\"unv_19885922\"></span> | <a href=\"hide?id=19885922&amp;goto=news\">hide</a> | <a href=\"item?id=19885922\">9&nbsp;comments</a>              </td></tr>\\n      <tr class=\"spacer\" style=\"height:5px\"></tr>\\n                <tr class=\\'athing\\' id=\\'19885901\\'>\\n      <td align=\"right\" valign=\"top\" class=\"title\"><span class=\"rank\">7.</span></td>      <td valign=\"top\" class=\"votelinks\"><center><a id=\\'up_19885901\\' href=\\'vote?id=19885901&amp;how=up&amp;goto=news\\'><div class=\\'votearrow\\' title=\\'upvote\\'></div></a></center></td><td class=\"title\"><a href=\"https://medium.com/@veedrac/to-reinvent-the-processor-671139a4a034\" class=\"storylink\">To reinvent the processor</a><span class=\"sitebit comhead\"> (<a href=\"from?site=medium.com\"><span class=\"sitestr\">medium.com</span></a>)</span></td></tr><tr><td colspan=\"2\"></td><td class=\"subtext\">\\n        <span class=\"score\" id=\"score_19885901\">26 points</span> by <a href=\"user?id=Veedrac\" class=\"hnuser\">Veedrac</a> <span class=\"age\"><a href=\"item?id=19885901\">1 hour ago</a></span> <span id=\"unv_19885901\"></span> | <a href=\"hide?id=19885901&amp;goto=news\">hide</a> | <a href=\"item?id=19885901\">2&nbsp;comments</a>              </td></tr>\\n      <tr class=\"spacer\" style=\"height:5px\"></tr>\\n                <tr class=\\'athing\\' id=\\'19883714\\'>\\n      <td align=\"right\" valign=\"top\" class=\"title\"><span class=\"rank\">8.</span></td>      <td valign=\"top\" class=\"votelinks\"><center><a id=\\'up_19883714\\' href=\\'vote?id=19883714&amp;how=up&amp;goto=news\\'><div class=\\'votearrow\\' title=\\'upvote\\'></div></a></center></td><td class=\"title\"><a href=\"https://twitter.com/Foone/status/1126996260026605568\" class=\"storylink\">Pilotwings demos act differently depending on when the cartridge was made</a><span class=\"sitebit comhead\"> (<a href=\"from?site=twitter.com\"><span class=\"sitestr\">twitter.com</span></a>)</span></td></tr><tr><td colspan=\"2\"></td><td class=\"subtext\">\\n        <span class=\"score\" id=\"score_19883714\">357 points</span> by <a href=\"user?id=ilamont\" class=\"hnuser\">ilamont</a> <span class=\"age\"><a href=\"item?id=19883714\">13 hours ago</a></span> <span id=\"unv_19883714\"></span> | <a href=\"hide?id=19883714&amp;goto=news\">hide</a> | <a href=\"item?id=19883714\">112&nbsp;comments</a>              </td></tr>\\n      <tr class=\"spacer\" style=\"height:5px\"></tr>\\n                <tr class=\\'athing\\' id=\\'19886280\\'>\\n      <td align=\"right\" valign=\"top\" class=\"title\"><span class=\"rank\">9.</span></td>      <td valign=\"top\" class=\"votelinks\"><center><a id=\\'up_19886280\\' href=\\'vote?id=19886280&amp;how=up&amp;goto=news\\'><div class=\\'votearrow\\' title=\\'upvote\\'></div></a></center></td><td class=\"title\"><a href=\"https://blog.adacore.com/using-spark-to-prove-255-bit-integer-arithmetic-from-curve25519\" class=\"storylink\" rel=\"nofollow\">Using Spark to Prove 255-Bit Integer Arithmetic from Curve25519</a><span class=\"sitebit comhead\"> (<a href=\"from?site=adacore.com\"><span class=\"sitestr\">adacore.com</span></a>)</span></td></tr><tr><td colspan=\"2\"></td><td class=\"subtext\">\\n        <span class=\"score\" id=\"score_19886280\">4 points</span> by <a href=\"user?id=based2\" class=\"hnuser\">based2</a> <span class=\"age\"><a href=\"item?id=19886280\">21 minutes ago</a></span> <span id=\"unv_19886280\"></span> | <a href=\"hide?id=19886280&amp;goto=news\">hide</a> | <a href=\"item?id=19886280\">discuss</a>              </td></tr>\\n      <tr class=\"spacer\" style=\"height:5px\"></tr>\\n                <tr class=\\'athing\\' id=\\'19883876\\'>\\n      <td align=\"right\" valign=\"top\" class=\"title\"><span class=\"rank\">10.</span></td>      <td valign=\"top\" class=\"votelinks\"><center><a id=\\'up_19883876\\' href=\\'vote?id=19883876&amp;how=up&amp;goto=news\\'><div class=\\'votearrow\\' title=\\'upvote\\'></div></a></center></td><td class=\"title\"><a href=\"https://benhoyt.com/writings/replacing-google-analytics/\" class=\"storylink\">Show HN: I replaced Google Analytics with simple log-based analytics</a><span class=\"sitebit comhead\"> (<a href=\"from?site=benhoyt.com\"><span class=\"sitestr\">benhoyt.com</span></a>)</span></td></tr><tr><td colspan=\"2\"></td><td class=\"subtext\">\\n        <span class=\"score\" id=\"score_19883876\">294 points</span> by <a href=\"user?id=benhoyt\" class=\"hnuser\">benhoyt</a> <span class=\"age\"><a href=\"item?id=19883876\">13 hours ago</a></span> <span id=\"unv_19883876\"></span> | <a href=\"hide?id=19883876&amp;goto=news\">hide</a> | <a href=\"item?id=19883876\">91&nbsp;comments</a>              </td></tr>\\n      <tr class=\"spacer\" style=\"height:5px\"></tr>\\n                <tr class=\\'athing\\' id=\\'19885320\\'>\\n      <td align=\"right\" valign=\"top\" class=\"title\"><span class=\"rank\">11.</span></td>      <td valign=\"top\" class=\"votelinks\"><center><a id=\\'up_19885320\\' href=\\'vote?id=19885320&amp;how=up&amp;goto=news\\'><div class=\\'votearrow\\' title=\\'upvote\\'></div></a></center></td><td class=\"title\"><a href=\"https://venturebeat.com/2019/05/09/google-creates-dedicated-placement-in-search-results-for-amp-stories-starting-with-travel-category/\" class=\"storylink\">Google Creates \\'Dedicated Placement\\' in Search Results for AMP Stories</a><span class=\"sitebit comhead\"> (<a href=\"from?site=venturebeat.com\"><span class=\"sitestr\">venturebeat.com</span></a>)</span></td></tr><tr><td colspan=\"2\"></td><td class=\"subtext\">\\n        <span class=\"score\" id=\"score_19885320\">26 points</span> by <a href=\"user?id=anfilt\" class=\"hnuser\">anfilt</a> <span class=\"age\"><a href=\"item?id=19885320\">4 hours ago</a></span> <span id=\"unv_19885320\"></span> | <a href=\"hide?id=19885320&amp;goto=news\">hide</a> | <a href=\"item?id=19885320\">5&nbsp;comments</a>              </td></tr>\\n      <tr class=\"spacer\" style=\"height:5px\"></tr>\\n                <tr class=\\'athing\\' id=\\'19885372\\'>\\n      <td align=\"right\" valign=\"top\" class=\"title\"><span class=\"rank\">12.</span></td>      <td valign=\"top\" class=\"votelinks\"><center><a id=\\'up_19885372\\' href=\\'vote?id=19885372&amp;how=up&amp;goto=news\\'><div class=\\'votearrow\\' title=\\'upvote\\'></div></a></center></td><td class=\"title\"><a href=\"https://krebsonsecurity.com/2019/05/nine-charged-in-alleged-sim-swapping-ring/\" class=\"storylink\">Nine Charged in Alleged SIM Swapping Ring</a><span class=\"sitebit comhead\"> (<a href=\"from?site=krebsonsecurity.com\"><span class=\"sitestr\">krebsonsecurity.com</span></a>)</span></td></tr><tr><td colspan=\"2\"></td><td class=\"subtext\">\\n        <span class=\"score\" id=\"score_19885372\">37 points</span> by <a href=\"user?id=OrgNet\" class=\"hnuser\">OrgNet</a> <span class=\"age\"><a href=\"item?id=19885372\">5 hours ago</a></span> <span id=\"unv_19885372\"></span> | <a href=\"hide?id=19885372&amp;goto=news\">hide</a> | <a href=\"item?id=19885372\">8&nbsp;comments</a>              </td></tr>\\n      <tr class=\"spacer\" style=\"height:5px\"></tr>\\n                <tr class=\\'athing\\' id=\\'19884043\\'>\\n      <td align=\"right\" valign=\"top\" class=\"title\"><span class=\"rank\">13.</span></td>      <td valign=\"top\" class=\"votelinks\"><center><a id=\\'up_19884043\\' href=\\'vote?id=19884043&amp;how=up&amp;goto=news\\'><div class=\\'votearrow\\' title=\\'upvote\\'></div></a></center></td><td class=\"title\"><a href=\"https://www.themarshallproject.org/2019/05/09/why-mothers-are-the-unsung-heroes-of-prison\" class=\"storylink\">Mothers Are the Unsung Heroes of Prison</a><span class=\"sitebit comhead\"> (<a href=\"from?site=themarshallproject.org\"><span class=\"sitestr\">themarshallproject.org</span></a>)</span></td></tr><tr><td colspan=\"2\"></td><td class=\"subtext\">\\n        <span class=\"score\" id=\"score_19884043\">61 points</span> by <a href=\"user?id=wyndham\" class=\"hnuser\">wyndham</a> <span class=\"age\"><a href=\"item?id=19884043\">8 hours ago</a></span> <span id=\"unv_19884043\"></span> | <a href=\"hide?id=19884043&amp;goto=news\">hide</a> | <a href=\"item?id=19884043\">24&nbsp;comments</a>              </td></tr>\\n      <tr class=\"spacer\" style=\"height:5px\"></tr>\\n                <tr class=\\'athing\\' id=\\'19862536\\'>\\n      <td align=\"right\" valign=\"top\" class=\"title\"><span class=\"rank\">14.</span></td>      <td valign=\"top\" class=\"votelinks\"><center><a id=\\'up_19862536\\' href=\\'vote?id=19862536&amp;how=up&amp;goto=news\\'><div class=\\'votearrow\\' title=\\'upvote\\'></div></a></center></td><td class=\"title\"><a href=\"https://www.fastcompany.com/90338379/i-wrote-the-book-on-user-friendly-design-what-i-see-today-horrifies-me\" class=\"storylink\">Don Norman on how design fails older consumers</a><span class=\"sitebit comhead\"> (<a href=\"from?site=fastcompany.com\"><span class=\"sitestr\">fastcompany.com</span></a>)</span></td></tr><tr><td colspan=\"2\"></td><td class=\"subtext\">\\n        <span class=\"score\" id=\"score_19862536\">190 points</span> by <a href=\"user?id=probably_wrong\" class=\"hnuser\">probably_wrong</a> <span class=\"age\"><a href=\"item?id=19862536\">14 hours ago</a></span> <span id=\"unv_19862536\"></span> | <a href=\"hide?id=19862536&amp;goto=news\">hide</a> | <a href=\"item?id=19862536\">106&nbsp;comments</a>              </td></tr>\\n      <tr class=\"spacer\" style=\"height:5px\"></tr>\\n                <tr class=\\'athing\\' id=\\'19881709\\'>\\n      <td align=\"right\" valign=\"top\" class=\"title\"><span class=\"rank\">15.</span></td>      <td valign=\"top\" class=\"votelinks\"><center><a id=\\'up_19881709\\' href=\\'vote?id=19881709&amp;how=up&amp;goto=news\\'><div class=\\'votearrow\\' title=\\'upvote\\'></div></a></center></td><td class=\"title\"><a href=\"https://github.com/features/package-registry\" class=\"storylink\">GitHub Package Registry</a><span class=\"sitebit comhead\"> (<a href=\"from?site=github.com\"><span class=\"sitestr\">github.com</span></a>)</span></td></tr><tr><td colspan=\"2\"></td><td class=\"subtext\">\\n        <span class=\"score\" id=\"score_19881709\">970 points</span> by <a href=\"user?id=rtsao\" class=\"hnuser\">rtsao</a> <span class=\"age\"><a href=\"item?id=19881709\">18 hours ago</a></span> <span id=\"unv_19881709\"></span> | <a href=\"hide?id=19881709&amp;goto=news\">hide</a> | <a href=\"item?id=19881709\">308&nbsp;comments</a>              </td></tr>\\n      <tr class=\"spacer\" style=\"height:5px\"></tr>\\n                <tr class=\\'athing\\' id=\\'19885627\\'>\\n      <td align=\"right\" valign=\"top\" class=\"title\"><span class=\"rank\">16.</span></td>      <td valign=\"top\" class=\"votelinks\"><center><a id=\\'up_19885627\\' href=\\'vote?id=19885627&amp;how=up&amp;goto=news\\'><div class=\\'votearrow\\' title=\\'upvote\\'></div></a></center></td><td class=\"title\"><a href=\"https://www.reddit.com/r/sysadmin/comments/bn38pp/oracle_wallet_master_key_lost/\" class=\"storylink\">Oracle Wallet Master Key Lost</a><span class=\"sitebit comhead\"> (<a href=\"from?site=reddit.com\"><span class=\"sitestr\">reddit.com</span></a>)</span></td></tr><tr><td colspan=\"2\"></td><td class=\"subtext\">\\n        <span class=\"score\" id=\"score_19885627\">90 points</span> by <a href=\"user?id=quicksilver03\" class=\"hnuser\">quicksilver03</a> <span class=\"age\"><a href=\"item?id=19885627\">3 hours ago</a></span> <span id=\"unv_19885627\"></span> | <a href=\"hide?id=19885627&amp;goto=news\">hide</a> | <a href=\"item?id=19885627\">22&nbsp;comments</a>              </td></tr>\\n      <tr class=\"spacer\" style=\"height:5px\"></tr>\\n                <tr class=\\'athing\\' id=\\'19883626\\'>\\n      <td align=\"right\" valign=\"top\" class=\"title\"><span class=\"rank\">17.</span></td>      <td valign=\"top\" class=\"votelinks\"><center><a id=\\'up_19883626\\' href=\\'vote?id=19883626&amp;how=up&amp;goto=news\\'><div class=\\'votearrow\\' title=\\'upvote\\'></div></a></center></td><td class=\"title\"><a href=\"https://github.com/intel/rust-hypervisor-firmware\" class=\"storylink\">Simple KVM Firmware in Rust</a><span class=\"sitebit comhead\"> (<a href=\"from?site=github.com\"><span class=\"sitestr\">github.com</span></a>)</span></td></tr><tr><td colspan=\"2\"></td><td class=\"subtext\">\\n        <span class=\"score\" id=\"score_19883626\">134 points</span> by <a href=\"user?id=adamnemecek\" class=\"hnuser\">adamnemecek</a> <span class=\"age\"><a href=\"item?id=19883626\">14 hours ago</a></span> <span id=\"unv_19883626\"></span> | <a href=\"hide?id=19883626&amp;goto=news\">hide</a> | <a href=\"item?id=19883626\">9&nbsp;comments</a>              </td></tr>\\n      <tr class=\"spacer\" style=\"height:5px\"></tr>\\n                <tr class=\\'athing\\' id=\\'19879830\\'>\\n      <td align=\"right\" valign=\"top\" class=\"title\"><span class=\"rank\">18.</span></td>      <td valign=\"top\" class=\"votelinks\"><center><a id=\\'up_19879830\\' href=\\'vote?id=19879830&amp;how=up&amp;goto=news\\'><div class=\\'votearrow\\' title=\\'upvote\\'></div></a></center></td><td class=\"title\"><a href=\"http://www.bbc.com/culture/story/20190509-the-1968-sci-fi-that-spookily-predicted-today\" class=\"storylink\">John Brunner\\'s “Stand on Zanzibar” spookily predicted today</a><span class=\"sitebit comhead\"> (<a href=\"from?site=bbc.com\"><span class=\"sitestr\">bbc.com</span></a>)</span></td></tr><tr><td colspan=\"2\"></td><td class=\"subtext\">\\n        <span class=\"score\" id=\"score_19879830\">118 points</span> by <a href=\"user?id=hhs\" class=\"hnuser\">hhs</a> <span class=\"age\"><a href=\"item?id=19879830\">12 hours ago</a></span> <span id=\"unv_19879830\"></span> | <a href=\"hide?id=19879830&amp;goto=news\">hide</a> | <a href=\"item?id=19879830\">32&nbsp;comments</a>              </td></tr>\\n      <tr class=\"spacer\" style=\"height:5px\"></tr>\\n                <tr class=\\'athing\\' id=\\'19884668\\'>\\n      <td align=\"right\" valign=\"top\" class=\"title\"><span class=\"rank\">19.</span></td>      <td valign=\"top\" class=\"votelinks\"><center><a id=\\'up_19884668\\' href=\\'vote?id=19884668&amp;how=up&amp;goto=news\\'><div class=\\'votearrow\\' title=\\'upvote\\'></div></a></center></td><td class=\"title\"><a href=\"https://eprint.iacr.org/2019/474\" class=\"storylink\">A Note on SIMON-32/64 Security</a><span class=\"sitebit comhead\"> (<a href=\"from?site=iacr.org\"><span class=\"sitestr\">iacr.org</span></a>)</span></td></tr><tr><td colspan=\"2\"></td><td class=\"subtext\">\\n        <span class=\"score\" id=\"score_19884668\">59 points</span> by <a href=\"user?id=mrb\" class=\"hnuser\">mrb</a> <span class=\"age\"><a href=\"item?id=19884668\">9 hours ago</a></span> <span id=\"unv_19884668\"></span> | <a href=\"hide?id=19884668&amp;goto=news\">hide</a> | <a href=\"item?id=19884668\">14&nbsp;comments</a>              </td></tr>\\n      <tr class=\"spacer\" style=\"height:5px\"></tr>\\n                <tr class=\\'athing\\' id=\\'19885697\\'>\\n      <td align=\"right\" valign=\"top\" class=\"title\"><span class=\"rank\">20.</span></td>      <td valign=\"top\" class=\"votelinks\"><center><a id=\\'up_19885697\\' href=\\'vote?id=19885697&amp;how=up&amp;goto=news\\'><div class=\\'votearrow\\' title=\\'upvote\\'></div></a></center></td><td class=\"title\"><a href=\"https://www.nature.com/immersive/d41586-019-01126-5/index.html\" class=\"storylink\">China charts a path into European science</a><span class=\"sitebit comhead\"> (<a href=\"from?site=nature.com\"><span class=\"sitestr\">nature.com</span></a>)</span></td></tr><tr><td colspan=\"2\"></td><td class=\"subtext\">\\n        <span class=\"score\" id=\"score_19885697\">19 points</span> by <a href=\"user?id=pseudolus\" class=\"hnuser\">pseudolus</a> <span class=\"age\"><a href=\"item?id=19885697\">2 hours ago</a></span> <span id=\"unv_19885697\"></span> | <a href=\"hide?id=19885697&amp;goto=news\">hide</a> | <a href=\"item?id=19885697\">6&nbsp;comments</a>              </td></tr>\\n      <tr class=\"spacer\" style=\"height:5px\"></tr>\\n                <tr class=\\'athing\\' id=\\'19884415\\'>\\n      <td align=\"right\" valign=\"top\" class=\"title\"><span class=\"rank\">21.</span></td>      <td valign=\"top\" class=\"votelinks\"><center><a id=\\'up_19884415\\' href=\\'vote?id=19884415&amp;how=up&amp;goto=news\\'><div class=\\'votearrow\\' title=\\'upvote\\'></div></a></center></td><td class=\"title\"><a href=\"https://www.reuters.com/article/us-google-india-antitrust-exclusive/exclusive-india-orders-anti-trust-probe-of-google-for-alleged-android-abuse-sources-idUSKCN1SG17O\" class=\"storylink\">India orders anti-trust probe of Google for alleged Android abuse</a><span class=\"sitebit comhead\"> (<a href=\"from?site=reuters.com\"><span class=\"sitestr\">reuters.com</span></a>)</span></td></tr><tr><td colspan=\"2\"></td><td class=\"subtext\">\\n        <span class=\"score\" id=\"score_19884415\">94 points</span> by <a href=\"user?id=occamschainsaw\" class=\"hnuser\">occamschainsaw</a> <span class=\"age\"><a href=\"item?id=19884415\">10 hours ago</a></span> <span id=\"unv_19884415\"></span> | <a href=\"hide?id=19884415&amp;goto=news\">hide</a> | <a href=\"item?id=19884415\">25&nbsp;comments</a>              </td></tr>\\n      <tr class=\"spacer\" style=\"height:5px\"></tr>\\n                <tr class=\\'athing\\' id=\\'19885935\\'>\\n      <td align=\"right\" valign=\"top\" class=\"title\"><span class=\"rank\">22.</span></td>      <td valign=\"top\" class=\"votelinks\"><center><a id=\\'up_19885935\\' href=\\'vote?id=19885935&amp;how=up&amp;goto=news\\'><div class=\\'votearrow\\' title=\\'upvote\\'></div></a></center></td><td class=\"title\"><a href=\"http://eprints.networks.imdea.org/1959/1/An_Analysis_of_Pre-installed_Android_Software_2019_EN.pdf\" class=\"storylink\" rel=\"nofollow\">An Analysis of Pre-Installed Android Software [pdf]</a><span class=\"sitebit comhead\"> (<a href=\"from?site=imdea.org\"><span class=\"sitestr\">imdea.org</span></a>)</span></td></tr><tr><td colspan=\"2\"></td><td class=\"subtext\">\\n        <span class=\"score\" id=\"score_19885935\">4 points</span> by <a href=\"user?id=mrzool\" class=\"hnuser\">mrzool</a> <span class=\"age\"><a href=\"item?id=19885935\">1 hour ago</a></span> <span id=\"unv_19885935\"></span> | <a href=\"hide?id=19885935&amp;goto=news\">hide</a> | <a href=\"item?id=19885935\">discuss</a>              </td></tr>\\n      <tr class=\"spacer\" style=\"height:5px\"></tr>\\n                <tr class=\\'athing\\' id=\\'19883860\\'>\\n      <td align=\"right\" valign=\"top\" class=\"title\"><span class=\"rank\">23.</span></td>      <td valign=\"top\" class=\"votelinks\"><center><a id=\\'up_19883860\\' href=\\'vote?id=19883860&amp;how=up&amp;goto=news\\'><div class=\\'votearrow\\' title=\\'upvote\\'></div></a></center></td><td class=\"title\"><a href=\"https://www.gamasutra.com/blogs/JoostVanDongen/20180925/327159/Interior_Mapping_rendering_real_rooms_without_geometry.php\" class=\"storylink\">Interior Mapping: rendering real rooms without geometry (2018)</a><span class=\"sitebit comhead\"> (<a href=\"from?site=gamasutra.com\"><span class=\"sitestr\">gamasutra.com</span></a>)</span></td></tr><tr><td colspan=\"2\"></td><td class=\"subtext\">\\n        <span class=\"score\" id=\"score_19883860\">99 points</span> by <a href=\"user?id=smacktoward\" class=\"hnuser\">smacktoward</a> <span class=\"age\"><a href=\"item?id=19883860\">13 hours ago</a></span> <span id=\"unv_19883860\"></span> | <a href=\"hide?id=19883860&amp;goto=news\">hide</a> | <a href=\"item?id=19883860\">5&nbsp;comments</a>              </td></tr>\\n      <tr class=\"spacer\" style=\"height:5px\"></tr>\\n                <tr class=\\'athing\\' id=\\'19885837\\'>\\n      <td align=\"right\" valign=\"top\" class=\"title\"><span class=\"rank\">24.</span></td>      <td valign=\"top\" class=\"votelinks\"><center><a id=\\'up_19885837\\' href=\\'vote?id=19885837&amp;how=up&amp;goto=news\\'><div class=\\'votearrow\\' title=\\'upvote\\'></div></a></center></td><td class=\"title\"><a href=\"https://www.theguardian.com/books/2019/may/11/nathan-filer-schizophrenia\" class=\"storylink\">Why what we think we know about schizophrenia is wrong</a><span class=\"sitebit comhead\"> (<a href=\"from?site=theguardian.com\"><span class=\"sitestr\">theguardian.com</span></a>)</span></td></tr><tr><td colspan=\"2\"></td><td class=\"subtext\">\\n        <span class=\"score\" id=\"score_19885837\">24 points</span> by <a href=\"user?id=jajag\" class=\"hnuser\">jajag</a> <span class=\"age\"><a href=\"item?id=19885837\">2 hours ago</a></span> <span id=\"unv_19885837\"></span> | <a href=\"hide?id=19885837&amp;goto=news\">hide</a> | <a href=\"item?id=19885837\">5&nbsp;comments</a>              </td></tr>\\n      <tr class=\"spacer\" style=\"height:5px\"></tr>\\n                <tr class=\\'athing\\' id=\\'19886145\\'>\\n      <td align=\"right\" valign=\"top\" class=\"title\"><span class=\"rank\">25.</span></td>      <td valign=\"top\" class=\"votelinks\"><center><a id=\\'up_19886145\\' href=\\'vote?id=19886145&amp;how=up&amp;goto=news\\'><div class=\\'votearrow\\' title=\\'upvote\\'></div></a></center></td><td class=\"title\"><a href=\"https://arstechnica.com/cars/2019/05/japanese-railway-company-starts-testing-249mph-bullet-train-speeds/\" class=\"storylink\" rel=\"nofollow\">Japanese railway company starts testing 249mph bullet train speeds</a><span class=\"sitebit comhead\"> (<a href=\"from?site=arstechnica.com\"><span class=\"sitestr\">arstechnica.com</span></a>)</span></td></tr><tr><td colspan=\"2\"></td><td class=\"subtext\">\\n        <span class=\"score\" id=\"score_19886145\">14 points</span> by <a href=\"user?id=pulisse\" class=\"hnuser\">pulisse</a> <span class=\"age\"><a href=\"item?id=19886145\">46 minutes ago</a></span> <span id=\"unv_19886145\"></span> | <a href=\"hide?id=19886145&amp;goto=news\">hide</a> | <a href=\"item?id=19886145\">8&nbsp;comments</a>              </td></tr>\\n      <tr class=\"spacer\" style=\"height:5px\"></tr>\\n                <tr class=\\'athing\\' id=\\'19884080\\'>\\n      <td align=\"right\" valign=\"top\" class=\"title\"><span class=\"rank\">26.</span></td>      <td valign=\"top\" class=\"votelinks\"><center><a id=\\'up_19884080\\' href=\\'vote?id=19884080&amp;how=up&amp;goto=news\\'><div class=\\'votearrow\\' title=\\'upvote\\'></div></a></center></td><td class=\"title\"><a href=\"https://www.theguardian.com/science/2019/may/08/mapping-begins-of-lands-lost-to-north-sea-during-the-stone-age\" class=\"storylink\">\\'Reconstruction\\' begins of stone age lands lost to North Sea</a><span class=\"sitebit comhead\"> (<a href=\"from?site=theguardian.com\"><span class=\"sitestr\">theguardian.com</span></a>)</span></td></tr><tr><td colspan=\"2\"></td><td class=\"subtext\">\\n        <span class=\"score\" id=\"score_19884080\">27 points</span> by <a href=\"user?id=antigizmo\" class=\"hnuser\">antigizmo</a> <span class=\"age\"><a href=\"item?id=19884080\">7 hours ago</a></span> <span id=\"unv_19884080\"></span> | <a href=\"hide?id=19884080&amp;goto=news\">hide</a> | <a href=\"item?id=19884080\">3&nbsp;comments</a>              </td></tr>\\n      <tr class=\"spacer\" style=\"height:5px\"></tr>\\n                <tr class=\\'athing\\' id=\\'19884291\\'>\\n      <td align=\"right\" valign=\"top\" class=\"title\"><span class=\"rank\">27.</span></td>      <td valign=\"top\" class=\"votelinks\"><center><a id=\\'up_19884291\\' href=\\'vote?id=19884291&amp;how=up&amp;goto=news\\'><div class=\\'votearrow\\' title=\\'upvote\\'></div></a></center></td><td class=\"title\"><a href=\"http://www.zindlerb.com/joins-in-steps/\" class=\"storylink\">Joins In Steps</a><span class=\"sitebit comhead\"> (<a href=\"from?site=zindlerb.com\"><span class=\"sitestr\">zindlerb.com</span></a>)</span></td></tr><tr><td colspan=\"2\"></td><td class=\"subtext\">\\n        <span class=\"score\" id=\"score_19884291\">54 points</span> by <a href=\"user?id=zindlerb\" class=\"hnuser\">zindlerb</a> <span class=\"age\"><a href=\"item?id=19884291\">11 hours ago</a></span> <span id=\"unv_19884291\"></span> | <a href=\"hide?id=19884291&amp;goto=news\">hide</a> | <a href=\"item?id=19884291\">21&nbsp;comments</a>              </td></tr>\\n      <tr class=\"spacer\" style=\"height:5px\"></tr>\\n                <tr class=\\'athing\\' id=\\'19884107\\'>\\n      <td align=\"right\" valign=\"top\" class=\"title\"><span class=\"rank\">28.</span></td>      <td valign=\"top\" class=\"votelinks\"><center><a id=\\'up_19884107\\' href=\\'vote?id=19884107&amp;how=up&amp;goto=news\\'><div class=\\'votearrow\\' title=\\'upvote\\'></div></a></center></td><td class=\"title\"><a href=\"https://www.technologyreview.com/s/613457/a-new-camera-can-photograph-you-from-45-kilometers-away/\" class=\"storylink\">A new camera can photograph from 45 kilometers away</a><span class=\"sitebit comhead\"> (<a href=\"from?site=technologyreview.com\"><span class=\"sitestr\">technologyreview.com</span></a>)</span></td></tr><tr><td colspan=\"2\"></td><td class=\"subtext\">\\n        <span class=\"score\" id=\"score_19884107\">68 points</span> by <a href=\"user?id=jonbaer\" class=\"hnuser\">jonbaer</a> <span class=\"age\"><a href=\"item?id=19884107\">12 hours ago</a></span> <span id=\"unv_19884107\"></span> | <a href=\"hide?id=19884107&amp;goto=news\">hide</a> | <a href=\"item?id=19884107\">28&nbsp;comments</a>              </td></tr>\\n      <tr class=\"spacer\" style=\"height:5px\"></tr>\\n                <tr class=\\'athing\\' id=\\'19882262\\'>\\n      <td align=\"right\" valign=\"top\" class=\"title\"><span class=\"rank\">29.</span></td>      <td valign=\"top\" class=\"votelinks\"><center><a id=\\'up_19882262\\' href=\\'vote?id=19882262&amp;how=up&amp;goto=news\\'><div class=\\'votearrow\\' title=\\'upvote\\'></div></a></center></td><td class=\"title\"><a href=\"https://metatron.app/\" class=\"storylink\">Metatron – Open-Sourced, Self-Service Big Data Discovery</a><span class=\"sitebit comhead\"> (<a href=\"from?site=metatron.app\"><span class=\"sitestr\">metatron.app</span></a>)</span></td></tr><tr><td colspan=\"2\"></td><td class=\"subtext\">\\n        <span class=\"score\" id=\"score_19882262\">66 points</span> by <a href=\"user?id=jsiepkes\" class=\"hnuser\">jsiepkes</a> <span class=\"age\"><a href=\"item?id=19882262\">11 hours ago</a></span> <span id=\"unv_19882262\"></span> | <a href=\"hide?id=19882262&amp;goto=news\">hide</a> | <a href=\"item?id=19882262\">5&nbsp;comments</a>              </td></tr>\\n      <tr class=\"spacer\" style=\"height:5px\"></tr>\\n                <tr class=\\'athing\\' id=\\'19877916\\'>\\n      <td align=\"right\" valign=\"top\" class=\"title\"><span class=\"rank\">30.</span></td>      <td valign=\"top\" class=\"votelinks\"><center><a id=\\'up_19877916\\' href=\\'vote?id=19877916&amp;how=up&amp;goto=news\\'><div class=\\'votearrow\\' title=\\'upvote\\'></div></a></center></td><td class=\"title\"><a href=\"https://veekaybee.github.io/2019/05/10/java8/\" class=\"storylink\">IT Runs on Java 8</a><span class=\"sitebit comhead\"> (<a href=\"from?site=veekaybee.github.io\"><span class=\"sitestr\">veekaybee.github.io</span></a>)</span></td></tr><tr><td colspan=\"2\"></td><td class=\"subtext\">\\n        <span class=\"score\" id=\"score_19877916\">819 points</span> by <a href=\"user?id=anielsen\" class=\"hnuser\">anielsen</a> <span class=\"age\"><a href=\"item?id=19877916\">1 day ago</a></span> <span id=\"unv_19877916\"></span> | <a href=\"hide?id=19877916&amp;goto=news\">hide</a> | <a href=\"item?id=19877916\">457&nbsp;comments</a>              </td></tr>\\n      <tr class=\"spacer\" style=\"height:5px\"></tr>\\n            <tr class=\"morespace\" style=\"height:10px\"></tr><tr><td colspan=\"2\"></td><td class=\"title\"><a href=\"news?p=2\" class=\"morelink\" rel=\"next\">More</a></td></tr>\\n  </table>\\n</td></tr>\\n<tr><td><img src=\"s.gif\" height=\"10\" width=\"0\"><table width=\"100%\" cellspacing=\"0\" cellpadding=\"1\"><tr><td bgcolor=\"#ff6600\"></td></tr></table><br><center><span class=\"yclinks\"><a href=\"newsguidelines.html\">Guidelines</a>\\n        | <a href=\"newsfaq.html\">FAQ</a>\\n        | <a href=\"mailto:hn@ycombinator.com\">Support</a>\\n        | <a href=\"https://github.com/HackerNews/API\">API</a>\\n        | <a href=\"security.html\">Security</a>\\n        | <a href=\"lists\">Lists</a>\\n        | <a href=\"bookmarklet.html\" rel=\"nofollow\">Bookmarklet</a>\\n        | <a href=\"http://www.ycombinator.com/legal/\">Legal</a>\\n        | <a href=\"http://www.ycombinator.com/apply/\">Apply to YC</a>\\n        | <a href=\"mailto:hn@ycombinator.com\">Contact</a></span><br><br><form method=\"get\" action=\"//hn.algolia.com/\">Search:\\n          <input type=\"text\" name=\"q\" value=\"\" size=\"17\" autocorrect=\"off\" spellcheck=\"false\" autocapitalize=\"off\" autocomplete=\"false\"></form>\\n            </center></td></tr>\\n      </table></center></body><script type=\\'text/javascript\\' src=\\'hn.js?6qLiQFrZT2a8FpFZWIxT\\'></script>\\n  </html>\\n'"
      ]
     },
     "execution_count": 8,
     "metadata": {},
     "output_type": "execute_result"
    }
   ],
   "source": [
    "res.text"
   ]
  },
  {
   "cell_type": "code",
   "execution_count": 9,
   "metadata": {},
   "outputs": [
    {
     "name": "stdout",
     "output_type": "stream",
     "text": [
      "your requests to https://www.google.com came back with statu code 200\n"
     ]
    }
   ],
   "source": [
    "#another demo\n",
    "import requests\n",
    "url = \"https://www.google.com\"\n",
    "response = requests.get(url)\n",
    "print(f\"your requests to {url} came back with statu code {response.status_code}\")"
   ]
  },
  {
   "cell_type": "code",
   "execution_count": 10,
   "metadata": {},
   "outputs": [
    {
     "name": "stdout",
     "output_type": "stream",
     "text": [
      "What did the dog say to the two trees? Bark bark.\n"
     ]
    }
   ],
   "source": [
    "############# JOKE WEBSITE DEMO #############\n",
    "import requests\n",
    "url = \"https://icanhazdadjoke.com/\"\n",
    "response = requests.get(url,headers = {\"Accept\": \"text/plain\"})#this is designed to handle the text/plain to give the jokes\n",
    "print(response.text) "
   ]
  },
  {
   "cell_type": "code",
   "execution_count": 17,
   "metadata": {},
   "outputs": [
    {
     "name": "stdout",
     "output_type": "stream",
     "text": [
      "{'id': 'exH6pOuzXDd', 'joke': 'How do you get a baby alien to sleep?  You rocket.', 'status': 200}\n",
      "<class 'dict'>\n",
      "How do you get a baby alien to sleep?  You rocket.\n"
     ]
    }
   ],
   "source": [
    "#json response type\n",
    "import requests\n",
    "url = \"https://icanhazdadjoke.com/\"\n",
    "response = requests.get(url,headers = {\"Accept\": \"application/json\"})#this is designed to handle the text/plain to give the jokes\n",
    "data = response.json()\n",
    "print(data)\n",
    "print(type(data))\n",
    "print(data['joke'])"
   ]
  },
  {
   "cell_type": "code",
   "execution_count": 18,
   "metadata": {},
   "outputs": [],
   "source": [
    "###### Sending query with params ##########"
   ]
  },
  {
   "cell_type": "code",
   "execution_count": 23,
   "metadata": {},
   "outputs": [
    {
     "name": "stdout",
     "output_type": "stream",
     "text": [
      "{'id': 'exH6pOuzXDd', 'joke': 'How do you get a baby alien to sleep?  You rocket.', 'status': 200}\n"
     ]
    }
   ],
   "source": [
    "import requests\n",
    "\n",
    "url = \"https://icanhazdadjoke.com/search\"\n",
    "respone = requests.get(\n",
    "    url,\n",
    "    headers = {\"Accept\": \"application/json\"},\n",
    "    params = {\"term\": \"cat\"}\n",
    ")\n",
    "\n",
    "data = response.json()\n",
    "print(data)"
   ]
  },
  {
   "cell_type": "code",
   "execution_count": 24,
   "metadata": {},
   "outputs": [],
   "source": [
    "### API Project Demo #####"
   ]
  },
  {
   "cell_type": "code",
   "execution_count": null,
   "metadata": {},
   "outputs": [],
   "source": [
    "import requests\n",
    "from random import choice\n",
    "from pyfiglet import figlet_format\n",
    "from termcolor import colored\n",
    "\n",
    "header = figlet_format(\"KANU's JOKES GEN\")\n",
    "header = colored(header, color='magenta')\n",
    "print(header)\n",
    "\n",
    "usr_input = input(\"what would you like to search for ? \")\n",
    "url = \"https://icanhazdadjoke.com/search\"\n",
    "\n",
    "res = requests.get(\n",
    "    url, \n",
    "    headers = {\"Accept\": \"application/json\"},\n",
    "    params = {\"term\": usr_input}\n",
    ").json()\n",
    "\n",
    "num_jokes = res[\"total_jokes\"]\n",
    "results = res[\"results\"]\n",
    "\n",
    "if num_jokes > 1:\n",
    "    print(f\"I found {num_jokes} jokes about {usr_input}. Here is one: \")\n",
    "    print(choice(results)[\"joke\"])\n",
    "elif num_jokes == 1:\n",
    "    print(\"THERE IS ONE JOKE!!!!\")\n",
    "    print(results[0]['joke'])\n",
    "else:\n",
    "    print(f\" SORRY.... THERE ARE NO JOKES for {usr_input.upper()}\")"
   ]
  },
  {
   "cell_type": "code",
   "execution_count": null,
   "metadata": {},
   "outputs": [],
   "source": []
  }
 ],
 "metadata": {
  "kernelspec": {
   "display_name": "Python 3",
   "language": "python",
   "name": "python3"
  },
  "language_info": {
   "codemirror_mode": {
    "name": "ipython",
    "version": 3
   },
   "file_extension": ".py",
   "mimetype": "text/x-python",
   "name": "python",
   "nbconvert_exporter": "python",
   "pygments_lexer": "ipython3",
   "version": "3.7.3"
  }
 },
 "nbformat": 4,
 "nbformat_minor": 2
}
