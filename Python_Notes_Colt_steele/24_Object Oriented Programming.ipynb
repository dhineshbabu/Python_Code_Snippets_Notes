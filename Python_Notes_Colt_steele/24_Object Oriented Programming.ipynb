{
 "cells": [
  {
   "cell_type": "code",
   "execution_count": 1,
   "metadata": {},
   "outputs": [],
   "source": [
    "#Defining the simplest possible class"
   ]
  },
  {
   "cell_type": "code",
   "execution_count": 4,
   "metadata": {},
   "outputs": [
    {
     "name": "stdout",
     "output_type": "stream",
     "text": [
      "<__main__.User object at 0x0000022315F7C2E8>\n",
      "<class '__main__.User'>\n"
     ]
    }
   ],
   "source": [
    "class User:\n",
    "    pass\n",
    "\n",
    "user1 = User();\n",
    "print(user1)\n",
    "print(type(user1))"
   ]
  },
  {
   "cell_type": "code",
   "execution_count": 10,
   "metadata": {},
   "outputs": [
    {
     "name": "stdout",
     "output_type": "stream",
     "text": [
      "kanu hasini 3\n"
     ]
    }
   ],
   "source": [
    "class User1:\n",
    "    def __init__(self, firstname, lastname, age): # will be called when an instance created\n",
    "        self.first = firstname\n",
    "        self.last = lastname\n",
    "        self.age = age\n",
    "\n",
    "user1 = User1(\"kanu\", \"hasini\", 3)\n",
    "print(user1.first, user1.last, user1.age)\n"
   ]
  },
  {
   "cell_type": "code",
   "execution_count": 14,
   "metadata": {},
   "outputs": [
    {
     "name": "stdout",
     "output_type": "stream",
     "text": [
      "Hello\n"
     ]
    }
   ],
   "source": [
    "class Person:\n",
    "    def __init__(self):\n",
    "        self.name = 'kanu'\n",
    "        self._secret = \"Hello\" # private variable convention using _ . PURE CONVENTION\n",
    "        self.__msg = \"I like cats\" #This will be hidden. This is name mangling using __. This will be stored as _Person__msg\n",
    "\n",
    "p = Person()\n",
    "\n",
    "print(p._secret)"
   ]
  },
  {
   "cell_type": "code",
   "execution_count": 16,
   "metadata": {},
   "outputs": [
    {
     "ename": "AttributeError",
     "evalue": "'Person' object has no attribute '__msg'",
     "output_type": "error",
     "traceback": [
      "\u001b[1;31m---------------------------------------------------------------------------\u001b[0m",
      "\u001b[1;31mAttributeError\u001b[0m                            Traceback (most recent call last)",
      "\u001b[1;32m<ipython-input-16-8e77828ccfef>\u001b[0m in \u001b[0;36m<module>\u001b[1;34m\u001b[0m\n\u001b[1;32m----> 1\u001b[1;33m \u001b[0mp\u001b[0m\u001b[1;33m.\u001b[0m\u001b[0m__msg\u001b[0m\u001b[1;33m\u001b[0m\u001b[1;33m\u001b[0m\u001b[0m\n\u001b[0m",
      "\u001b[1;31mAttributeError\u001b[0m: 'Person' object has no attribute '__msg'"
     ]
    }
   ],
   "source": [
    "p.__msg # because name mangling happened and it will be accessed via _Person__msg"
   ]
  },
  {
   "cell_type": "code",
   "execution_count": 18,
   "metadata": {},
   "outputs": [
    {
     "data": {
      "text/plain": [
       "'I like cats'"
      ]
     },
     "execution_count": 18,
     "metadata": {},
     "output_type": "execute_result"
    }
   ],
   "source": [
    "p._Person__msg"
   ]
  },
  {
   "cell_type": "code",
   "execution_count": 19,
   "metadata": {},
   "outputs": [],
   "source": [
    "########### Adding instance methods #################"
   ]
  },
  {
   "cell_type": "code",
   "execution_count": 25,
   "metadata": {},
   "outputs": [
    {
     "name": "stdout",
     "output_type": "stream",
     "text": [
      "kanu hasini 3\n",
      "kanu hasini\n",
      "k.h\n",
      "kanu likes Ice Cream\n",
      "False\n",
      "Happy 4th birthday!!!, kanu\n"
     ]
    }
   ],
   "source": [
    "class User1:\n",
    "    def __init__(self, firstname, lastname, age): # will be called when an instance created\n",
    "        self.first = firstname\n",
    "        self.last = lastname\n",
    "        self.age = age\n",
    "        \n",
    "    def full_name(self):\n",
    "        return f\"{self.first} {self.last}\"\n",
    "    \n",
    "    def initials(self):\n",
    "        return f\"{self.first[0]}.{self.last[0]}\"\n",
    "    \n",
    "    def likes(self, thing):\n",
    "        return f\"{self.first} likes {thing}\"  # note no \"self\" for the thing\n",
    "    \n",
    "    def is_senior(self):\n",
    "        return self.age >= 65\n",
    "    \n",
    "    def birthday(self):\n",
    "        self.age += 1\n",
    "        return f\"Happy {self.age}th birthday!!!, {self.first}\"\n",
    "\n",
    "user1 = User1(\"kanu\", \"hasini\", 3)\n",
    "print(user1.first, user1.last, user1.age)\n",
    "\n",
    "print(user1.full_name())\n",
    "print(user1.initials())\n",
    "print(user1.likes(\"Ice Cream\"))\n",
    "print(user1.is_senior())\n",
    "print(user1.birthday())"
   ]
  },
  {
   "cell_type": "code",
   "execution_count": 26,
   "metadata": {},
   "outputs": [],
   "source": [
    "############# CLASS ATTRIBUTES ############ will be shared by all the class instances\n"
   ]
  },
  {
   "cell_type": "code",
   "execution_count": 29,
   "metadata": {},
   "outputs": [
    {
     "name": "stdout",
     "output_type": "stream",
     "text": [
      "2\n",
      "Dinesh has been logged out\n",
      "1\n"
     ]
    }
   ],
   "source": [
    "class User2:\n",
    "    \n",
    "    active_users = 0 # class attribute\n",
    "    \n",
    "    def __init__(self, firstname, lastname, age): # will be called when an instance created\n",
    "        self.first = firstname\n",
    "        self.last = lastname\n",
    "        self.age = age\n",
    "        User2.active_users += 1\n",
    "        \n",
    "    def logout(self):\n",
    "        User2.active_users -= 1\n",
    "        return f\"{self.first} has been logged out\"\n",
    "        \n",
    "    def full_name(self):\n",
    "        return f\"{self.first} {self.last}\"\n",
    "    \n",
    "    def initials(self):\n",
    "        return f\"{self.first[0]}.{self.last[0]}\"\n",
    "    \n",
    "    def likes(self, thing):\n",
    "        return f\"{self.first} likes {thing}\"  # note no \"self\" for the thing\n",
    "    \n",
    "    def is_senior(self):\n",
    "        return self.age >= 65\n",
    "    \n",
    "    def birthday(self):\n",
    "        self.age += 1\n",
    "        return f\"Happy {self.age}th birthday!!!, {self.first}\"\n",
    "\n",
    "user1 = User2(\"kanu\", \"hasini\", 3)\n",
    "user2 = User2(\"Dinesh\", \"babu\", 30)\n",
    "\n",
    "print(User2.active_users)\n",
    "print(user2.logout())\n",
    "print(User2.active_users)"
   ]
  },
  {
   "cell_type": "code",
   "execution_count": 30,
   "metadata": {},
   "outputs": [],
   "source": [
    "#another class called PET#"
   ]
  },
  {
   "cell_type": "code",
   "execution_count": 31,
   "metadata": {},
   "outputs": [
    {
     "ename": "ValueError",
     "evalue": "You can't have a tiger pet",
     "output_type": "error",
     "traceback": [
      "\u001b[1;31m---------------------------------------------------------------------------\u001b[0m",
      "\u001b[1;31mValueError\u001b[0m                                Traceback (most recent call last)",
      "\u001b[1;32m<ipython-input-31-1333224a7fcc>\u001b[0m in \u001b[0;36m<module>\u001b[1;34m\u001b[0m\n\u001b[0;32m     10\u001b[0m \u001b[0mcat\u001b[0m \u001b[1;33m=\u001b[0m \u001b[0mPet\u001b[0m\u001b[1;33m(\u001b[0m\u001b[1;34m\"Blue\"\u001b[0m\u001b[1;33m,\u001b[0m \u001b[1;34m\"cat\"\u001b[0m\u001b[1;33m)\u001b[0m\u001b[1;33m\u001b[0m\u001b[1;33m\u001b[0m\u001b[0m\n\u001b[0;32m     11\u001b[0m \u001b[0mdog\u001b[0m \u001b[1;33m=\u001b[0m \u001b[0mPet\u001b[0m\u001b[1;33m(\u001b[0m\u001b[1;34m\"Rambo\"\u001b[0m\u001b[1;33m,\u001b[0m \u001b[1;34m\"dog\"\u001b[0m\u001b[1;33m)\u001b[0m\u001b[1;33m\u001b[0m\u001b[1;33m\u001b[0m\u001b[0m\n\u001b[1;32m---> 12\u001b[1;33m \u001b[0mtigor\u001b[0m \u001b[1;33m=\u001b[0m \u001b[0mPet\u001b[0m\u001b[1;33m(\u001b[0m\u001b[1;34m\"Tony\"\u001b[0m\u001b[1;33m,\u001b[0m \u001b[1;34m\"tiger\"\u001b[0m\u001b[1;33m)\u001b[0m\u001b[1;33m\u001b[0m\u001b[1;33m\u001b[0m\u001b[0m\n\u001b[0m",
      "\u001b[1;32m<ipython-input-31-1333224a7fcc>\u001b[0m in \u001b[0;36m__init__\u001b[1;34m(self, name, species)\u001b[0m\n\u001b[0;32m      4\u001b[0m     \u001b[1;32mdef\u001b[0m \u001b[0m__init__\u001b[0m\u001b[1;33m(\u001b[0m\u001b[0mself\u001b[0m\u001b[1;33m,\u001b[0m \u001b[0mname\u001b[0m\u001b[1;33m,\u001b[0m \u001b[0mspecies\u001b[0m\u001b[1;33m)\u001b[0m\u001b[1;33m:\u001b[0m\u001b[1;33m\u001b[0m\u001b[1;33m\u001b[0m\u001b[0m\n\u001b[0;32m      5\u001b[0m         \u001b[1;32mif\u001b[0m \u001b[0mspecies\u001b[0m \u001b[1;32mnot\u001b[0m \u001b[1;32min\u001b[0m \u001b[0mPet\u001b[0m\u001b[1;33m.\u001b[0m\u001b[0mallowed\u001b[0m\u001b[1;33m:\u001b[0m\u001b[1;33m\u001b[0m\u001b[1;33m\u001b[0m\u001b[0m\n\u001b[1;32m----> 6\u001b[1;33m             \u001b[1;32mraise\u001b[0m \u001b[0mValueError\u001b[0m\u001b[1;33m(\u001b[0m\u001b[1;34mf\"You can't have a {species} pet\"\u001b[0m\u001b[1;33m)\u001b[0m\u001b[1;33m\u001b[0m\u001b[1;33m\u001b[0m\u001b[0m\n\u001b[0m\u001b[0;32m      7\u001b[0m         \u001b[0mself\u001b[0m\u001b[1;33m.\u001b[0m\u001b[0mname\u001b[0m \u001b[1;33m=\u001b[0m \u001b[0mname\u001b[0m\u001b[1;33m\u001b[0m\u001b[1;33m\u001b[0m\u001b[0m\n\u001b[0;32m      8\u001b[0m         \u001b[0mself\u001b[0m\u001b[1;33m.\u001b[0m\u001b[0mspecies\u001b[0m \u001b[1;33m=\u001b[0m \u001b[0mspecies\u001b[0m\u001b[1;33m\u001b[0m\u001b[1;33m\u001b[0m\u001b[0m\n",
      "\u001b[1;31mValueError\u001b[0m: You can't have a tiger pet"
     ]
    }
   ],
   "source": [
    "class Pet:\n",
    "    allowed = ['cat','dog', 'fish', 'rat']\n",
    "    \n",
    "    def __init__(self, name, species):\n",
    "        if species not in Pet.allowed:\n",
    "            raise ValueError(f\"You can't have a {species} pet\")\n",
    "        self.name = name\n",
    "        self.species = species\n",
    "        \n",
    "    def set_species(self, species):\n",
    "        if species not in Pet.allowed:\n",
    "            raise ValueError(f\"You can't have a {species} pet\")\n",
    "        self.species = species\n",
    "        \n",
    "cat = Pet(\"Blue\", \"cat\")\n",
    "dog = Pet(\"Rambo\", \"dog\")\n",
    "tigor = Pet(\"Tony\", \"tiger\")"
   ]
  },
  {
   "cell_type": "code",
   "execution_count": 33,
   "metadata": {},
   "outputs": [
    {
     "data": {
      "text/plain": [
       "2349715535176"
      ]
     },
     "execution_count": 33,
     "metadata": {},
     "output_type": "execute_result"
    }
   ],
   "source": [
    "### id() method is used to check the reference of the attributes ####\n",
    "id(cat.allowed)"
   ]
  },
  {
   "cell_type": "code",
   "execution_count": 35,
   "metadata": {},
   "outputs": [
    {
     "data": {
      "text/plain": [
       "2349715535176"
      ]
     },
     "execution_count": 35,
     "metadata": {},
     "output_type": "execute_result"
    }
   ],
   "source": [
    "id(dog.allowed)"
   ]
  },
  {
   "cell_type": "code",
   "execution_count": 36,
   "metadata": {},
   "outputs": [],
   "source": [
    "#if we set out own cat.allowed then the cat.allowed will point to it's own reference"
   ]
  },
  {
   "cell_type": "code",
   "execution_count": 37,
   "metadata": {},
   "outputs": [],
   "source": [
    "########### Class Methods ############# They are methods not specific to any instance "
   ]
  },
  {
   "cell_type": "code",
   "execution_count": 38,
   "metadata": {},
   "outputs": [],
   "source": [
    "# class methods will have @classmethod decorator"
   ]
  },
  {
   "cell_type": "code",
   "execution_count": 47,
   "metadata": {},
   "outputs": [
    {
     "name": "stdout",
     "output_type": "stream",
     "text": [
      "kanu\n",
      "hasini\n",
      "3\n"
     ]
    }
   ],
   "source": [
    "class User3:\n",
    "    \n",
    "    active_users = 0 # class attribute\n",
    "    \n",
    "    #class methods\n",
    "    @classmethod\n",
    "    def display_active_users(cls):\n",
    "        return f\"There are currently {cls.active_users} active users on the system\"\n",
    "    \n",
    "    @classmethod\n",
    "    def from_string(cls, data_str):\n",
    "        first, last, age = data_str.split(\",\")\n",
    "        return cls(first, last, int(age))\n",
    "    \n",
    "    def __init__(self, firstname, lastname, age): # will be called when an instance created\n",
    "        self.first = firstname\n",
    "        self.last = lastname\n",
    "        self.age = age\n",
    "        User3.active_users += 1\n",
    "        \n",
    "    def logout(self):\n",
    "        User3.active_users -= 1\n",
    "        return f\"{self.first} has been logged out\"\n",
    "        \n",
    "    def full_name(self):\n",
    "        return f\"{self.first} {self.last}\"\n",
    "    \n",
    "    def initials(self):\n",
    "        return f\"{self.first[0]}.{self.last[0]}\"\n",
    "    \n",
    "    def likes(self, thing):\n",
    "        return f\"{self.first} likes {thing}\"  # note no \"self\" for the thing\n",
    "    \n",
    "    def is_senior(self):\n",
    "        return self.age >= 65\n",
    "    \n",
    "    def birthday(self):\n",
    "        self.age += 1\n",
    "        return f\"Happy {self.age}th birthday!!!, {self.first}\"\n",
    "\n",
    "# user1 = User3(\"kanu\", \"hasini\", 3)\n",
    "# user2 = User3(\"Dinesh\", \"babu\", 30)\n",
    "# user3 = User3(\"Bruntha\", \"M\", 29)\n",
    "\n",
    "# print(User3.active_users)\n",
    "# print(user2.logout())\n",
    "# print(User3.active_users)\n",
    "# print(User3.display_active_users())\n",
    "\n",
    "kanu = User3.from_string(\"kanu,hasini,3\")\n",
    "print(kanu.first)\n",
    "print(kanu.last)\n",
    "print(kanu.age)"
   ]
  },
  {
   "cell_type": "code",
   "execution_count": 48,
   "metadata": {},
   "outputs": [],
   "source": [
    "#######   __repr__ method ###########"
   ]
  },
  {
   "cell_type": "code",
   "execution_count": 50,
   "metadata": {},
   "outputs": [
    {
     "name": "stdout",
     "output_type": "stream",
     "text": [
      "kanu is 3\n"
     ]
    }
   ],
   "source": [
    "class User4:\n",
    "    \n",
    "    active_users = 0 # class attribute\n",
    "    \n",
    "    #class methods\n",
    "    @classmethod\n",
    "    def display_active_users(cls):\n",
    "        return f\"There are currently {cls.active_users} active users on the system\"\n",
    "    \n",
    "    @classmethod\n",
    "    def from_string(cls, data_str):\n",
    "        first, last, age = data_str.split(\",\")\n",
    "        return cls(first, last, int(age))\n",
    "    \n",
    "    def __init__(self, firstname, lastname, age): # will be called when an instance created\n",
    "        self.first = firstname\n",
    "        self.last = lastname\n",
    "        self.age = age\n",
    "        User4.active_users += 1\n",
    "        \n",
    "    def __repr__(self):\n",
    "        return f\"{self.first} is {self.age}\"\n",
    "        \n",
    "    def logout(self):\n",
    "        User4.active_users -= 1\n",
    "        return f\"{self.first} has been logged out\"\n",
    "        \n",
    "    def full_name(self):\n",
    "        return f\"{self.first} {self.last}\"\n",
    "    \n",
    "    def initials(self):\n",
    "        return f\"{self.first[0]}.{self.last[0]}\"\n",
    "    \n",
    "    def likes(self, thing):\n",
    "        return f\"{self.first} likes {thing}\"  # note no \"self\" for the thing\n",
    "    \n",
    "    def is_senior(self):\n",
    "        return self.age >= 65\n",
    "    \n",
    "    def birthday(self):\n",
    "        self.age += 1\n",
    "        return f\"Happy {self.age}th birthday!!!, {self.first}\"\n",
    "\n",
    "# user1 = User3(\"kanu\", \"hasini\", 3)\n",
    "# user2 = User3(\"Dinesh\", \"babu\", 30)\n",
    "# user3 = User3(\"Bruntha\", \"M\", 29)\n",
    "\n",
    "# print(User3.active_users)\n",
    "# print(user2.logout())\n",
    "# print(User3.active_users)\n",
    "# print(User3.display_active_users())\n",
    "\n",
    "kanu = User4.from_string(\"kanu,hasini,3\")\n",
    "print(kanu) # this is from __repr__ method. To change the custom representation of the object"
   ]
  }
 ],
 "metadata": {
  "kernelspec": {
   "display_name": "Python 3",
   "language": "python",
   "name": "python3"
  },
  "language_info": {
   "codemirror_mode": {
    "name": "ipython",
    "version": 3
   },
   "file_extension": ".py",
   "mimetype": "text/x-python",
   "name": "python",
   "nbconvert_exporter": "python",
   "pygments_lexer": "ipython3",
   "version": "3.7.3"
  }
 },
 "nbformat": 4,
 "nbformat_minor": 2
}
