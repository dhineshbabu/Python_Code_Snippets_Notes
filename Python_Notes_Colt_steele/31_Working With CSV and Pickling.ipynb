{
 "cells": [
  {
   "cell_type": "code",
   "execution_count": 1,
   "metadata": {},
   "outputs": [],
   "source": [
    "############## Reading CSV Files #################"
   ]
  },
  {
   "cell_type": "code",
   "execution_count": 3,
   "metadata": {},
   "outputs": [],
   "source": [
    "# using reader - lets you iterate over the rows and will return each row as list\n",
    "# DictReader - lets you iterate over rows of the CSV as OrderedDicts"
   ]
  },
  {
   "cell_type": "code",
   "execution_count": 4,
   "metadata": {},
   "outputs": [],
   "source": [
    "#using reader"
   ]
  },
  {
   "cell_type": "code",
   "execution_count": 11,
   "metadata": {},
   "outputs": [
    {
     "name": "stdout",
     "output_type": "stream",
     "text": [
      "Ryu is from Japan\n",
      "['Ryu', 'Japan', '175']\n",
      "Ken is from USA\n",
      "['Ken', 'USA', '175']\n",
      "Chun-Li is from China\n",
      "['Chun-Li', 'China', '165']\n",
      "Guile is from USA\n",
      "['Guile', 'USA', '182']\n",
      "E. Honda is from Japan\n",
      "['E. Honda', 'Japan', '185']\n",
      "Dhalsim is from India\n",
      "['Dhalsim', 'India', '176']\n",
      "Blanka is from Brazil\n",
      "['Blanka', 'Brazil', '192']\n",
      "Zangief is from Russia\n",
      "['Zangief', 'Russia', '214']\n"
     ]
    }
   ],
   "source": [
    "from csv import reader\n",
    "with open(\"fighters.csv\") as file:\n",
    "    csv_reader = reader(file) #THis is an iterator. We will get only one copy\n",
    "    next(csv_reader) # to skip the headers\n",
    "    for row in csv_reader:\n",
    "        print(f\"{row[0]} is from {row[1]}\")\n",
    "        print(row)"
   ]
  },
  {
   "cell_type": "code",
   "execution_count": null,
   "metadata": {},
   "outputs": [],
   "source": [
    "#using DictReader"
   ]
  },
  {
   "cell_type": "code",
   "execution_count": 16,
   "metadata": {},
   "outputs": [
    {
     "name": "stdout",
     "output_type": "stream",
     "text": [
      "OrderedDict([('Name', 'Ryu'), ('Country', 'Japan'), ('Height (in cm)', '175')])\n",
      "OrderedDict([('Name', 'Ken'), ('Country', 'USA'), ('Height (in cm)', '175')])\n",
      "OrderedDict([('Name', 'Chun-Li'), ('Country', 'China'), ('Height (in cm)', '165')])\n",
      "OrderedDict([('Name', 'Guile'), ('Country', 'USA'), ('Height (in cm)', '182')])\n",
      "OrderedDict([('Name', 'E. Honda'), ('Country', 'Japan'), ('Height (in cm)', '185')])\n",
      "OrderedDict([('Name', 'Dhalsim'), ('Country', 'India'), ('Height (in cm)', '176')])\n",
      "OrderedDict([('Name', 'Blanka'), ('Country', 'Brazil'), ('Height (in cm)', '192')])\n",
      "OrderedDict([('Name', 'Zangief'), ('Country', 'Russia'), ('Height (in cm)', '214')])\n"
     ]
    }
   ],
   "source": [
    "from csv import DictReader\n",
    "with open(\"fighters.csv\") as file:\n",
    "    csv_reader = DictReader(file) \n",
    "    for row in csv_reader:\n",
    "        # Each row is an OrderedDict\n",
    "        print(row)"
   ]
  },
  {
   "cell_type": "code",
   "execution_count": 17,
   "metadata": {},
   "outputs": [
    {
     "name": "stdout",
     "output_type": "stream",
     "text": [
      "Ryu\n",
      "Ken\n",
      "Chun-Li\n",
      "Guile\n",
      "E. Honda\n",
      "Dhalsim\n",
      "Blanka\n",
      "Zangief\n"
     ]
    }
   ],
   "source": [
    "from csv import DictReader\n",
    "with open(\"fighters.csv\") as file:\n",
    "    csv_reader = DictReader(file) # we can use optional delimiter=\"|\"\n",
    "    for row in csv_reader:\n",
    "        # Each row is an OrderedDict\n",
    "        print(row['Name']) # accessing using keys (Headers will be the keys for each item )"
   ]
  },
  {
   "cell_type": "code",
   "execution_count": null,
   "metadata": {},
   "outputs": [],
   "source": [
    "################# Writing to csv files #################"
   ]
  },
  {
   "cell_type": "code",
   "execution_count": 18,
   "metadata": {},
   "outputs": [],
   "source": [
    "#writer - created a writer objects to csv\n",
    "#writerow - method on a writer to write a row to the csv"
   ]
  },
  {
   "cell_type": "code",
   "execution_count": 24,
   "metadata": {},
   "outputs": [],
   "source": [
    "from csv import writer\n",
    "with open(\"cats.csv\", \"w\", newline='') as file:\n",
    "    csv_writer = writer(file)\n",
    "    csv_writer.writerow([\"Name\", \"Age\"])\n",
    "    csv_writer.writerow([\"Blue\", \"2\"])\n",
    "    csv_writer.writerow([\"Kani\", \"3\"])"
   ]
  },
  {
   "cell_type": "code",
   "execution_count": 30,
   "metadata": {},
   "outputs": [
    {
     "name": "stdout",
     "output_type": "stream",
     "text": [
      "['NAME', 'COUNTRY', 'HEIGHT (IN CM)']\n",
      "['RYU', 'JAPAN', '175']\n",
      "['KEN', 'USA', '175']\n",
      "['CHUN-LI', 'CHINA', '165']\n",
      "['GUILE', 'USA', '182']\n",
      "['E. HONDA', 'JAPAN', '185']\n",
      "['DHALSIM', 'INDIA', '176']\n",
      "['BLANKA', 'BRAZIL', '192']\n",
      "['ZANGIEF', 'RUSSIA', '214']\n"
     ]
    }
   ],
   "source": [
    "#demo\n",
    "from csv import reader, writer\n",
    "with open(\"fighters.csv\") as file:\n",
    "    csv_reader = reader(file)\n",
    "    fighters = [[s.upper() for s in row] for row in csv_reader]\n",
    "    for row in fighters:\n",
    "        print(row)\n",
    "\n",
    "with open('screaming_fighters.csv', \"w\", newline='') as file:\n",
    "    csv_writer = writer(file)\n",
    "    for fighter in fighters:\n",
    "        csv_writer.writerow(fighter)\n",
    "    "
   ]
  },
  {
   "cell_type": "code",
   "execution_count": 31,
   "metadata": {},
   "outputs": [],
   "source": [
    "#Another way of writing the above code"
   ]
  },
  {
   "cell_type": "code",
   "execution_count": 32,
   "metadata": {},
   "outputs": [],
   "source": [
    "#demo\n",
    "from csv import reader, writer\n",
    "with open(\"fighters.csv\") as file:\n",
    "    csv_reader = reader(file)\n",
    "    with open('screaming_fighters.csv', \"w\", newline='') as file:\n",
    "        csv_writer = writer(file)\n",
    "        for fighter in csv_reader:\n",
    "            csv_writer.writerow([s.upper() for s in fighter])    "
   ]
  },
  {
   "cell_type": "code",
   "execution_count": 33,
   "metadata": {},
   "outputs": [],
   "source": [
    "############# Writing using DictWriter #################"
   ]
  },
  {
   "cell_type": "code",
   "execution_count": 34,
   "metadata": {},
   "outputs": [],
   "source": [
    "#DictWriter - creates a writer object for writing using dictionaries\n",
    "#fieldnames - kwarg for the DictWriter specifying headers\n",
    "#writeheader - method on a writer to write header row\n",
    "#writerow - method on a writer to write a row based on a dictionary"
   ]
  },
  {
   "cell_type": "code",
   "execution_count": 36,
   "metadata": {},
   "outputs": [],
   "source": [
    "from csv import DictWriter\n",
    "with open(\"cats1.csv\", \"w\", newline='') as file:\n",
    "    headers = [\"Name\", \"Breed\", \"Age\"]\n",
    "    csv_writer = DictWriter(file, fieldnames=headers)\n",
    "    csv_writer.writeheader()\n",
    "    csv_writer.writerow({\n",
    "        \"Name\": \"Blue\",\n",
    "        \"Breed\": \"Indian\",\n",
    "        \"Age\": 3\n",
    "    })"
   ]
  },
  {
   "cell_type": "code",
   "execution_count": 41,
   "metadata": {},
   "outputs": [],
   "source": [
    "#another demo using fighters.csv\n",
    "from csv import DictWriter\n",
    "\n",
    "def cm_to_in(cm):\n",
    "    return float(cm) * 0.393701\n",
    "\n",
    "with open(\"fighters.csv\") as file:\n",
    "    csv_reader = DictReader(file)\n",
    "    fighters = list(csv_reader)\n",
    "    \n",
    "with open(\"inchers_fighters.csv\", \"w\", newline=\"\") as file:\n",
    "    headers = (\"Name\", \"Country\", \"Height\")\n",
    "    csv_writer = DictWriter(file, fieldnames=headers)\n",
    "    csv_writer.writeheader()\n",
    "    for f in fighters:\n",
    "        csv_writer.writerow({\n",
    "            \"Name\": f[\"Name\"],\n",
    "            \"Country\": f[\"Country\"],\n",
    "            \"Height\": cm_to_in(f[\"Height (in cm)\"])\n",
    "        })\n",
    "    \n",
    "    "
   ]
  },
  {
   "cell_type": "code",
   "execution_count": 42,
   "metadata": {},
   "outputs": [],
   "source": [
    "################# Pickling #############"
   ]
  },
  {
   "cell_type": "code",
   "execution_count": 43,
   "metadata": {},
   "outputs": [],
   "source": [
    "import pickle\n",
    "class Animal:\n",
    "\tdef __init__(self, name, species):\n",
    "\t\tself.name = name\n",
    "\t\tself.species = species\n",
    "\n",
    "\tdef __repr__(self):\n",
    "\t\treturn f\"{self.name} is a {self.species}\"\n",
    "\n",
    "\tdef make_sound(self, sound):\n",
    "\t\tprint(f\"this animal says {sound}\")\n",
    "\n",
    "\n",
    "class Cat(Animal):\n",
    "\tdef __init__(self, name, breed, toy):\n",
    "\t\tsuper().__init__(name, species=\"Cat\") # Call init on parent class\n",
    "\t\tself.breed = breed\n",
    "\t\tself.toy = toy\n",
    "\n",
    "\tdef play(self):\n",
    "\t\tprint(f\"{self.name} plays with {self.toy}\")\n",
    "\n",
    "\n",
    "blue = Cat(\"Blue\", \"Scottish Fold\", \"String\")\n",
    "\n",
    "# To pickle an object:\n",
    "with open(\"pets.pickle\", \"wb\") as file:\n",
    "\tpickle.dump(blue, file) ## serialize the object for database storage and etc"
   ]
  },
  {
   "cell_type": "code",
   "execution_count": 44,
   "metadata": {},
   "outputs": [],
   "source": [
    "#unpickling the data again from .pickle file"
   ]
  },
  {
   "cell_type": "code",
   "execution_count": 46,
   "metadata": {},
   "outputs": [
    {
     "name": "stdout",
     "output_type": "stream",
     "text": [
      "Blue is a Cat\n",
      "Blue plays with String\n",
      "None\n"
     ]
    }
   ],
   "source": [
    "with open(\"pets.pickle\", \"rb\") as file:\n",
    "    zombie_blue = pickle.load(file)\n",
    "    print(zombie_blue)\n",
    "    print(zombie_blue.play())"
   ]
  },
  {
   "cell_type": "code",
   "execution_count": 48,
   "metadata": {},
   "outputs": [],
   "source": [
    "############ Extra Fancy JSON Pickling ###########"
   ]
  },
  {
   "cell_type": "code",
   "execution_count": 50,
   "metadata": {},
   "outputs": [
    {
     "name": "stdout",
     "output_type": "stream",
     "text": [
      "[\"name\", {\"bar\": [\"baz\", null, 1.0, 2]}]\n"
     ]
    }
   ],
   "source": [
    "import json \n",
    "\n",
    "j = json.dumps(['name', {'bar': ('baz', None, 1.0, 2)}])\n",
    "print(j)"
   ]
  },
  {
   "cell_type": "code",
   "execution_count": 51,
   "metadata": {},
   "outputs": [
    {
     "name": "stdout",
     "output_type": "stream",
     "text": [
      "{\"name\": \"Browny\", \"breed\": \"Indian\"}\n"
     ]
    }
   ],
   "source": [
    "#another demo\n",
    "\n",
    "import json\n",
    "\n",
    "class Cat:\n",
    "    def __init__(self, name, breed):\n",
    "        self.name = name\n",
    "        self.breed = breed\n",
    "c = Cat(\"Browny\", \"Indian\")\n",
    "\n",
    "j = json.dumps(c.__dict__)\n",
    "\n",
    "print(j)"
   ]
  },
  {
   "cell_type": "code",
   "execution_count": null,
   "metadata": {},
   "outputs": [],
   "source": [
    "############ using jsonpickle module for serialization ########"
   ]
  },
  {
   "cell_type": "code",
   "execution_count": 55,
   "metadata": {},
   "outputs": [
    {
     "name": "stdout",
     "output_type": "stream",
     "text": [
      "{\"py/object\": \"__main__.Cat1\", \"breed\": \"Indian\", \"name\": \"Browny\"}\n"
     ]
    }
   ],
   "source": [
    "import jsonpickle\n",
    "class Cat1:\n",
    "    def __init__(self, name, breed):\n",
    "        self.name = name\n",
    "        self.breed = breed\n",
    "        \n",
    "c1 = Cat1(\"Browny\", \"Indian\")\n",
    "\n",
    "with open(\"cat.json\", \"w\", newline='') as file:\n",
    "    frozen = jsonpickle.encode(c1)\n",
    "    file.write(frozen)\n",
    "    print(frozen)"
   ]
  },
  {
   "cell_type": "code",
   "execution_count": null,
   "metadata": {},
   "outputs": [],
   "source": [
    "#### Reading from jsonpickleed file ####"
   ]
  },
  {
   "cell_type": "code",
   "execution_count": 58,
   "metadata": {},
   "outputs": [
    {
     "name": "stdout",
     "output_type": "stream",
     "text": [
      "<__main__.Cat1 object at 0x000001D7AB8BFCC0>\n",
      "Indian\n"
     ]
    }
   ],
   "source": [
    "with open(\"cat.json\", \"r\") as file:\n",
    "    contents = file.read()\n",
    "    unfrozen = jsonpickle.decode(contents)\n",
    "    print(unfrozen)\n",
    "    print(unfrozen.breed)"
   ]
  },
  {
   "cell_type": "code",
   "execution_count": null,
   "metadata": {},
   "outputs": [],
   "source": []
  }
 ],
 "metadata": {
  "kernelspec": {
   "display_name": "Python 3",
   "language": "python",
   "name": "python3"
  },
  "language_info": {
   "codemirror_mode": {
    "name": "ipython",
    "version": 3
   },
   "file_extension": ".py",
   "mimetype": "text/x-python",
   "name": "python",
   "nbconvert_exporter": "python",
   "pygments_lexer": "ipython3",
   "version": "3.7.3"
  }
 },
 "nbformat": 4,
 "nbformat_minor": 2
}
