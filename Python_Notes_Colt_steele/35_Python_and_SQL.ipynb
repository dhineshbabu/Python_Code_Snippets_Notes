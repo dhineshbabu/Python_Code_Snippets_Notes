{
 "cells": [
  {
   "cell_type": "code",
   "execution_count": 1,
   "metadata": {},
   "outputs": [],
   "source": [
    "# we will use sqlite3 python module in this tutorial\n",
    "# Python comes with sqlite3"
   ]
  },
  {
   "cell_type": "code",
   "execution_count": 2,
   "metadata": {},
   "outputs": [],
   "source": [
    "#### Creating basic SQlite Tables ####"
   ]
  },
  {
   "cell_type": "code",
   "execution_count": 3,
   "metadata": {},
   "outputs": [],
   "source": [
    "# Types in sqlite\n",
    "# NULL\n",
    "# INTEGER\n",
    "# REAL\n",
    "# TEXT\n",
    "# BLOB"
   ]
  },
  {
   "cell_type": "code",
   "execution_count": 12,
   "metadata": {},
   "outputs": [],
   "source": [
    "import sqlite3\n",
    "\n",
    "conn = sqlite3.connect(\"my_friends.db\") # will cretae one if not exists\n",
    "#create curson object\n",
    "c = conn.cursor()\n",
    "#execute some sql\n",
    "#c.execute(\"CREATE TABLE friends(first_name TEXT, last_name TEXT, closeness INTEGER)\")\n",
    "#insert_query = '''INSERT INTO friends VALUES (\"Kanu\", \"Hasini\", 7)'''\n",
    "#form_first = \"Dhinesh\"\n",
    "#insert_query = f\"INSERT INTO friends (first_name) VALUES ('{form_first}')\"\n",
    "#insert_query = f\"INSERT INTO friends (first_name) VALUES (?)\"\n",
    "data = (\"Dhineshbabu\", \"Muthuraj\", 30)\n",
    "insert_query = f\"INSERT INTO friends VALUES (?,?,?)\"\n",
    "c.execute(insert_query, data)\n",
    "#commit changes\n",
    "conn.commit()\n",
    "conn.close()"
   ]
  },
  {
   "cell_type": "code",
   "execution_count": null,
   "metadata": {},
   "outputs": [],
   "source": [
    "#### BULK inserts with python ####"
   ]
  },
  {
   "cell_type": "code",
   "execution_count": 14,
   "metadata": {},
   "outputs": [],
   "source": [
    "import sqlite3\n",
    "\n",
    "conn = sqlite3.connect(\"my_friends.db\") # will cretae one if not exists\n",
    "#create curson object\n",
    "c = conn.cursor()\n",
    "\n",
    "people = [\n",
    "\t(\"Roald\",\"Amundsen\", 5),\n",
    "\t(\"Rosa\", \"Parks\", 8),\n",
    "\t(\"Henry\", \"Hudson\", 7),\n",
    "\t(\"Neil\",\"Armstrong\", 7),\n",
    "\t(\"Daniel\", \"Boone\", 3)]\n",
    "\n",
    "c.executemany(\"INSERT INTO friends VALUES (?,?,?)\", people)\n",
    "#commit changes\n",
    "conn.commit()\n",
    "conn.close()"
   ]
  },
  {
   "cell_type": "code",
   "execution_count": 15,
   "metadata": {},
   "outputs": [],
   "source": [
    "### selecting with python ###"
   ]
  },
  {
   "cell_type": "code",
   "execution_count": 17,
   "metadata": {},
   "outputs": [
    {
     "name": "stdout",
     "output_type": "stream",
     "text": [
      "('Kanu', 'Hasini', 7)\n",
      "('Bru', None, None)\n",
      "('Dhinesh', None, None)\n",
      "('Dhineshbabu', 'Muthuraj', 30)\n",
      "('Roald', 'Amundsen', 5)\n",
      "('Rosa', 'Parks', 8)\n",
      "('Henry', 'Hudson', 7)\n",
      "('Neil', 'Armstrong', 7)\n",
      "('Daniel', 'Boone', 3)\n"
     ]
    }
   ],
   "source": [
    "import sqlite3\n",
    "\n",
    "conn = sqlite3.connect(\"my_friends.db\") # will cretae one if not exists\n",
    "#create curson object\n",
    "c = conn.cursor()\n",
    "c.execute(\"SELECT * FROM friends\")\n",
    "for result in c:\n",
    "    print(result)\n",
    "#commit changes\n",
    "conn.commit()\n",
    "conn.close()"
   ]
  },
  {
   "cell_type": "code",
   "execution_count": 21,
   "metadata": {},
   "outputs": [
    {
     "name": "stdout",
     "output_type": "stream",
     "text": [
      "[('Rosa', 'Parks', 8)]\n"
     ]
    }
   ],
   "source": [
    "### another way of selecting using ftechall() method ###\n",
    "\n",
    "import sqlite3\n",
    "\n",
    "conn = sqlite3.connect(\"my_friends.db\") # will cretae one if not exists\n",
    "#create curson object\n",
    "c = conn.cursor()\n",
    "c.execute(\"SELECT * FROM friends WHERE first_name IS 'Rosa'\")\n",
    "print(c.fetchall())\n",
    "#commit changes\n",
    "conn.commit()\n",
    "conn.close()"
   ]
  },
  {
   "cell_type": "code",
   "execution_count": 23,
   "metadata": {},
   "outputs": [
    {
     "name": "stdout",
     "output_type": "stream",
     "text": [
      "('Rosa', 'Parks', 8)\n"
     ]
    }
   ],
   "source": [
    "###fetchone() method ###\n",
    "import sqlite3\n",
    "\n",
    "conn = sqlite3.connect(\"my_friends.db\") # will cretae one if not exists\n",
    "#create curson object\n",
    "c = conn.cursor()\n",
    "c.execute(\"SELECT * FROM friends WHERE first_name IS 'Rosa'\")\n",
    "print(c.fetchone())\n",
    "#commit changes\n",
    "conn.commit()\n",
    "conn.close()"
   ]
  },
  {
   "cell_type": "code",
   "execution_count": 24,
   "metadata": {},
   "outputs": [],
   "source": [
    "############### SQL INJECTION ##########"
   ]
  },
  {
   "cell_type": "code",
   "execution_count": 30,
   "metadata": {},
   "outputs": [],
   "source": [
    "import sqlite3\n",
    "\n",
    "conn = sqlite3.connect(\"users.db\")\n",
    "c = conn.cursor()\n",
    "\n",
    "#query = \"CREATE TABLE users (username TEXT, password TEXT)\"\n",
    "users = [\n",
    "\t(\"Dhinesh\",\"indian123\"),\n",
    "\t(\"Kanu\", \"sample132\"),\n",
    "\t(\"Bru\", \"hello123\")]\n",
    "\n",
    "c.executemany(\"INSERT INTO users VALUES (?,?)\", users)\n",
    "conn.commit()\n",
    "conn.close()"
   ]
  },
  {
   "cell_type": "code",
   "execution_count": 33,
   "metadata": {},
   "outputs": [
    {
     "name": "stdin",
     "output_type": "stream",
     "text": [
      "Please enter your username... Dhinesh\n",
      "Please enter your password... ' OR 1=1--\n"
     ]
    },
    {
     "name": "stdout",
     "output_type": "stream",
     "text": [
      "Welcome Back...\n"
     ]
    }
   ],
   "source": [
    "import sqlite3\n",
    "\n",
    "conn = sqlite3.connect(\"users.db\")\n",
    "c = conn.cursor()\n",
    "\n",
    "#query = \"CREATE TABLE users (username TEXT, password TEXT)\"\n",
    "u = input(\"Please enter your username...\")\n",
    "p = input(\"Please enter your password...\")\n",
    "query = f\"SELECT * FROM users WHERE username='{u}' AND password='{p}'\"\n",
    "# if i give password like ' OR 1=1-- this will return the successful data.\n",
    "# replace with ? for the the paramters and send the data in the c.execute\n",
    "c.execute(query)\n",
    "result = c.fetchone()\n",
    "if(result):\n",
    "    print(\"Welcome Back...\")\n",
    "else:\n",
    "    print(\"Login Failed. Please check username and password...\")\n",
    "conn.commit()"
   ]
  },
  {
   "cell_type": "code",
   "execution_count": 1,
   "metadata": {},
   "outputs": [],
   "source": [
    "########## Scraping data to the database ######\n",
    "# demo using http://books.toscrape.com/"
   ]
  },
  {
   "cell_type": "code",
   "execution_count": 17,
   "metadata": {},
   "outputs": [],
   "source": [
    "import sqlite3\n",
    "import requests\n",
    "from bs4 import BeautifulSoup\n",
    "    \n",
    "def scrape_books(url):\n",
    "    #Request URL\n",
    "    response = requests.get(url)\n",
    "    soup = BeautifulSoup(response.text, \"html.parser\")\n",
    "    books = soup.find_all(\"article\")\n",
    "    all_books = []\n",
    "    for book in books:\n",
    "        book_data = (get_title(book), get_price(book), get_rating(book))\n",
    "        all_books.append(book_data)\n",
    "    save_books(all_books)\n",
    "    \n",
    "def save_books(all_books):\n",
    "    connection  = sqlite3.connect(\"books.db\")\n",
    "    c = connection.cursor()\n",
    "    c.execute('''CREATE TABLE books \n",
    "            (title TEXT, pricing REAL, rating INTEGER)''')\n",
    "    c.executemany(\"INSERT INTO books VALUES (?,?,?)\", all_books)\n",
    "    connection.commit()\n",
    "    connection.close()\n",
    "    \n",
    "def get_title(book):\n",
    "    return book.find(\"h3\").find(\"a\")[\"title\"]\n",
    "        \n",
    "def get_price(book)  :\n",
    "    price = book.select(\".price_color\")[0].get_text()\n",
    "    return float(price.replace(\"Â\",\"\").replace(\"£\",\"\"))\n",
    "\n",
    "def get_rating(book):\n",
    "    ratings = {\"Zero\":0, \"One\": 1, \"Two\":2, \"Three\":3, \"Four\": 4, \"Five\": 5}\n",
    "    paragraph = book.select(\".star-rating\")[0]\n",
    "    word = paragraph.get_attribute_list(\"class\")[-1]\n",
    "    return ratings[word]\n",
    "    \n",
    "scrape_books(\"http://books.toscrape.com/catalogue/category/books/history_32/index.html\")"
   ]
  },
  {
   "cell_type": "code",
   "execution_count": null,
   "metadata": {},
   "outputs": [],
   "source": []
  }
 ],
 "metadata": {
  "kernelspec": {
   "display_name": "Python 3",
   "language": "python",
   "name": "python3"
  },
  "language_info": {
   "codemirror_mode": {
    "name": "ipython",
    "version": 3
   },
   "file_extension": ".py",
   "mimetype": "text/x-python",
   "name": "python",
   "nbconvert_exporter": "python",
   "pygments_lexer": "ipython3",
   "version": "3.7.3"
  }
 },
 "nbformat": 4,
 "nbformat_minor": 2
}
