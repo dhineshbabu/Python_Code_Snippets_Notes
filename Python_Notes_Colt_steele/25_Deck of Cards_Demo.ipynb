{
 "cells": [
  {
   "cell_type": "code",
   "execution_count": 1,
   "metadata": {},
   "outputs": [],
   "source": [
    "#################### Card Class ##############\n",
    "# Each insrtance of a card should have a suit(\"hearts\", \"diamonds\", \"clubs\" or \"spades\")\n",
    "# Each instance of ard should have a value (\"A\" ... \"K\", \"Q, \"J\")\n",
    "#Card's __repr__ method should display the card's value amd nd suit(e.g) \"A of clubs\""
   ]
  },
  {
   "cell_type": "code",
   "execution_count": 3,
   "metadata": {
    "scrolled": false
   },
   "outputs": [
    {
     "name": "stdout",
     "output_type": "stream",
     "text": [
      "A of hearts\n"
     ]
    }
   ],
   "source": [
    "class Card:\n",
    "    def __init__(self, value, suit):\n",
    "        self.value = value\n",
    "        self.suit = suit\n",
    "    \n",
    "    def __repr__(self):\n",
    "        return f\"{self.value} of {self.suit}\"\n",
    "        \n",
    "c= Card(\"A\", \"hearts\")\n",
    "print(c)"
   ]
  },
  {
   "cell_type": "code",
   "execution_count": 11,
   "metadata": {},
   "outputs": [
    {
     "name": "stdout",
     "output_type": "stream",
     "text": [
      "7 of Spades\n",
      "46\n"
     ]
    }
   ],
   "source": [
    "from random import shuffle\n",
    "\n",
    "class Deck:\n",
    "    def __init__(self):\n",
    "        suits = [\"Hearts\", \"Diamonds\", \"Clubs\", \"Spades\"]\n",
    "        values = [\"A\",\"2\",\"3\",'4','5','6','7','8','9','10','J','Q','K']\n",
    "        self.cards = [Card(value, suit) for suit in suits for value in values]\n",
    "        #print(self.cards)\n",
    "        \n",
    "    def __repr__(self):\n",
    "        return f\"Deck of {self.count()} cards\"\n",
    "        \n",
    "    def count(self):\n",
    "        return len(self.cards)\n",
    "    \n",
    "    def _deal(self, num):\n",
    "        count =  self.count()\n",
    "        actual = min([count, num])\n",
    "        if count == 0:\n",
    "            raise ValueError(\"All cards have been dealt!!!\")\n",
    "        cards = self.cards[-actual:]\n",
    "        self.cards = self.cards[:-actual]\n",
    "        return cards\n",
    "    \n",
    "    def deal_card(self):\n",
    "        return self._deal(1)[0]\n",
    "    \n",
    "    def deal_hand(self, hand_size):\n",
    "        return self._deal(hand_size)\n",
    "    \n",
    "    def shuffle(self):\n",
    "        if self.count() < 52:\n",
    "            raise ValueError('Only full decks can be shuffled')\n",
    "        shuffle(self.cards)\n",
    " \n",
    "d = Deck()\n",
    "d.shuffle()# will shuffle in place\n",
    "card = d.deal_card()\n",
    "print(card)\n",
    "hand = d.deal_hand(5)\n",
    "print(len(d.cards))"
   ]
  },
  {
   "cell_type": "code",
   "execution_count": 12,
   "metadata": {},
   "outputs": [
    {
     "data": {
      "text/plain": [
       "46"
      ]
     },
     "execution_count": 12,
     "metadata": {},
     "output_type": "execute_result"
    }
   ],
   "source": [
    "d.count()"
   ]
  }
 ],
 "metadata": {
  "kernelspec": {
   "display_name": "Python 3",
   "language": "python",
   "name": "python3"
  },
  "language_info": {
   "codemirror_mode": {
    "name": "ipython",
    "version": 3
   },
   "file_extension": ".py",
   "mimetype": "text/x-python",
   "name": "python",
   "nbconvert_exporter": "python",
   "pygments_lexer": "ipython3",
   "version": "3.7.3"
  }
 },
 "nbformat": 4,
 "nbformat_minor": 2
}
