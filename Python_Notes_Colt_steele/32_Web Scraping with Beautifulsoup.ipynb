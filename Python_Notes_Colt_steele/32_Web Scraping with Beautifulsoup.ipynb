{
 "cells": [
  {
   "cell_type": "code",
   "execution_count": 1,
   "metadata": {},
   "outputs": [],
   "source": [
    "### Using Beautifulsoup for web scraping ####"
   ]
  },
  {
   "cell_type": "code",
   "execution_count": 3,
   "metadata": {},
   "outputs": [],
   "source": [
    "#with sample html , demo\n",
    "#once html is parsed, there are several ways to navigate\n",
    "    #by tage name\n",
    "    # using find() - returns one matching tag\n",
    "    #using find_all() - returns a list of matching tag\n",
    "#Also we can navigate using CSS selectors"
   ]
  },
  {
   "cell_type": "code",
   "execution_count": 14,
   "metadata": {},
   "outputs": [
    {
     "name": "stdout",
     "output_type": "stream",
     "text": [
      "<body>\n",
      "<div id=\"first\">\n",
      "<h3 data-example=\"yes\">hi</h3>\n",
      "<p>more text</p>\n",
      "</div>\n",
      "<ol>\n",
      "<li class=\"special\">This list items is special</li>\n",
      "<li class=\"special\">This list items is also special</li>\n",
      "<li class=\"special\">This list item is not so special</li>\n",
      "</ol>\n",
      "<div>bye</div>\n",
      "</body>\n"
     ]
    }
   ],
   "source": [
    "from bs4 import BeautifulSoup\n",
    "\n",
    "html = \"\"\"\n",
    "<html>\n",
    "    <head>\n",
    "        <meta charset=\"UTF-8\">\n",
    "        <title>Fist HTML Page</title>\n",
    "    </head>\n",
    "    <body>\n",
    "        <div id=\"first\">\n",
    "            <h3 data-example=\"yes\">hi</h3>\n",
    "            <p>more text</p>\n",
    "        </div>\n",
    "        <ol>\n",
    "            <li class=\"special\">This list items is special</li>\n",
    "            <li class=\"special\">This list items is also special</li>\n",
    "            <li class=\"special\">This list item is not so special</li>\n",
    "        </ol>\n",
    "        <div>bye</div>\n",
    "    </body>\n",
    "</html>\n",
    "\"\"\"\n",
    "\n",
    "soup = BeautifulSoup(html, \"html.parser\")\n",
    "print(soup.body)"
   ]
  },
  {
   "cell_type": "code",
   "execution_count": 15,
   "metadata": {},
   "outputs": [
    {
     "name": "stdout",
     "output_type": "stream",
     "text": [
      "<div id=\"first\">\n",
      "<h3 data-example=\"yes\">hi</h3>\n",
      "<p>more text</p>\n",
      "</div>\n"
     ]
    }
   ],
   "source": [
    "print(soup.body.div) # wewill only get the first div"
   ]
  },
  {
   "cell_type": "code",
   "execution_count": 16,
   "metadata": {},
   "outputs": [
    {
     "name": "stdout",
     "output_type": "stream",
     "text": [
      "<div id=\"first\">\n",
      "<h3 data-example=\"yes\">hi</h3>\n",
      "<p>more text</p>\n",
      "</div>\n"
     ]
    }
   ],
   "source": [
    "print(soup.find(\"div\"))"
   ]
  },
  {
   "cell_type": "code",
   "execution_count": 17,
   "metadata": {},
   "outputs": [
    {
     "name": "stdout",
     "output_type": "stream",
     "text": [
      "[<div id=\"first\">\n",
      "<h3 data-example=\"yes\">hi</h3>\n",
      "<p>more text</p>\n",
      "</div>, <div>bye</div>]\n"
     ]
    }
   ],
   "source": [
    "print(soup.find_all(\"div\")) # A list of all the div elements"
   ]
  },
  {
   "cell_type": "code",
   "execution_count": 18,
   "metadata": {},
   "outputs": [
    {
     "name": "stdout",
     "output_type": "stream",
     "text": [
      "[<li class=\"special\">This list items is special</li>, <li class=\"special\">This list items is also special</li>, <li class=\"special\">This list item is not so special</li>]\n"
     ]
    }
   ],
   "source": [
    "print(soup.find_all(\"li\"))"
   ]
  },
  {
   "cell_type": "code",
   "execution_count": 19,
   "metadata": {},
   "outputs": [
    {
     "data": {
      "text/plain": [
       "<div id=\"first\">\n",
       "<h3 data-example=\"yes\">hi</h3>\n",
       "<p>more text</p>\n",
       "</div>"
      ]
     },
     "execution_count": 19,
     "metadata": {},
     "output_type": "execute_result"
    }
   ],
   "source": [
    "#selecting using attributes (id and class)\n",
    "soup.find(id = \"first\")"
   ]
  },
  {
   "cell_type": "code",
   "execution_count": 22,
   "metadata": {},
   "outputs": [
    {
     "data": {
      "text/plain": [
       "<li class=\"special\">This list items is special</li>"
      ]
     },
     "execution_count": 22,
     "metadata": {},
     "output_type": "execute_result"
    }
   ],
   "source": [
    "soup.find(class_ = \"special\")"
   ]
  },
  {
   "cell_type": "code",
   "execution_count": 24,
   "metadata": {},
   "outputs": [
    {
     "data": {
      "text/plain": [
       "[<li class=\"special\">This list items is special</li>,\n",
       " <li class=\"special\">This list items is also special</li>,\n",
       " <li class=\"special\">This list item is not so special</li>]"
      ]
     },
     "execution_count": 24,
     "metadata": {},
     "output_type": "execute_result"
    }
   ],
   "source": [
    "soup.find_all(class_ = \"special\")"
   ]
  },
  {
   "cell_type": "code",
   "execution_count": 25,
   "metadata": {},
   "outputs": [
    {
     "name": "stdout",
     "output_type": "stream",
     "text": [
      "[<h3 data-example=\"yes\">hi</h3>]\n"
     ]
    }
   ],
   "source": [
    "#selecting data attribute\n",
    "d = soup.find_all(attrs = {\"data-example\": \"yes\"})\n",
    "print(d)"
   ]
  },
  {
   "cell_type": "code",
   "execution_count": 26,
   "metadata": {},
   "outputs": [],
   "source": [
    "#### Selecting using CSS selectors #### alwyas gives the list of elements"
   ]
  },
  {
   "cell_type": "code",
   "execution_count": 27,
   "metadata": {},
   "outputs": [
    {
     "data": {
      "text/plain": [
       "[<div id=\"first\">\n",
       " <h3 data-example=\"yes\">hi</h3>\n",
       " <p>more text</p>\n",
       " </div>]"
      ]
     },
     "execution_count": 27,
     "metadata": {},
     "output_type": "execute_result"
    }
   ],
   "source": [
    "soup.select(\"#first\") #this is a list of items"
   ]
  },
  {
   "cell_type": "code",
   "execution_count": 28,
   "metadata": {},
   "outputs": [
    {
     "data": {
      "text/plain": [
       "<div id=\"first\">\n",
       "<h3 data-example=\"yes\">hi</h3>\n",
       "<p>more text</p>\n",
       "</div>"
      ]
     },
     "execution_count": 28,
     "metadata": {},
     "output_type": "execute_result"
    }
   ],
   "source": [
    "soup.select(\"#first\")[0]"
   ]
  },
  {
   "cell_type": "code",
   "execution_count": 29,
   "metadata": {},
   "outputs": [
    {
     "data": {
      "text/plain": [
       "[<li class=\"special\">This list items is special</li>,\n",
       " <li class=\"special\">This list items is also special</li>,\n",
       " <li class=\"special\">This list item is not so special</li>]"
      ]
     },
     "execution_count": 29,
     "metadata": {},
     "output_type": "execute_result"
    }
   ],
   "source": [
    "soup.select(\"#first\")"
   ]
  },
  {
   "cell_type": "code",
   "execution_count": 30,
   "metadata": {},
   "outputs": [
    {
     "data": {
      "text/plain": [
       "[<div id=\"first\">\n",
       " <h3 data-example=\"yes\">hi</h3>\n",
       " <p>more text</p>\n",
       " </div>, <div>bye</div>]"
      ]
     },
     "execution_count": 30,
     "metadata": {},
     "output_type": "execute_result"
    }
   ],
   "source": [
    "soup.select(\"div\")"
   ]
  },
  {
   "cell_type": "code",
   "execution_count": 31,
   "metadata": {},
   "outputs": [
    {
     "data": {
      "text/plain": [
       "[<h3 data-example=\"yes\">hi</h3>]"
      ]
     },
     "execution_count": 31,
     "metadata": {},
     "output_type": "execute_result"
    }
   ],
   "source": [
    "soup.select(\"[data-example]\")"
   ]
  },
  {
   "cell_type": "code",
   "execution_count": 32,
   "metadata": {},
   "outputs": [],
   "source": [
    "### Accessing data with beautiful soup ###"
   ]
  },
  {
   "cell_type": "code",
   "execution_count": 33,
   "metadata": {},
   "outputs": [],
   "source": [
    "#get_text - access the inner text in an element\n",
    "#name - tag name\n",
    "#attrs - dictionary of attributes\n",
    "# you can also access attribute values using brackets"
   ]
  },
  {
   "cell_type": "code",
   "execution_count": 38,
   "metadata": {},
   "outputs": [
    {
     "name": "stdout",
     "output_type": "stream",
     "text": [
      "This list items is special\n",
      "li\n",
      "{'class': ['special']}\n",
      "['special']\n",
      "This list items is also special\n",
      "li\n",
      "{'class': ['special']}\n",
      "['special']\n",
      "This list item is not so special\n",
      "li\n",
      "{'class': ['special']}\n",
      "['special']\n",
      "yes\n"
     ]
    }
   ],
   "source": [
    "from bs4 import BeautifulSoup\n",
    "\n",
    "html = \"\"\"\n",
    "<html>\n",
    "    <head>\n",
    "        <meta charset=\"UTF-8\">\n",
    "        <title>Fist HTML Page</title>\n",
    "    </head>\n",
    "    <body>\n",
    "        <div id=\"first\">\n",
    "            <h3 data-example=\"yes\">hi</h3>\n",
    "            <p>more text</p>\n",
    "        </div>\n",
    "        <ol>\n",
    "            <li class=\"special\">This list items is special</li>\n",
    "            <li class=\"special\">This list items is also special</li>\n",
    "            <li class=\"special\">This list item is not so special</li>\n",
    "        </ol>\n",
    "        <div>bye</div>\n",
    "    </body>\n",
    "</html>\n",
    "\"\"\"\n",
    "\n",
    "soup = BeautifulSoup(html, \"html.parser\")\n",
    "\n",
    "for el in soup.select(\".special\"):\n",
    "    print(el.get_text()) # will return the inner text. \n",
    "    print(el.name) # weill print the tag name.\n",
    "    print(el.attrs) # will return the attributes in each of the items\n",
    "    print(el.attrs['class'])\n",
    "\n",
    "#another way of getting the attribute\n",
    "attr = soup.find(\"h3\")[\"data-example\"]\n",
    "print(attr) #yes"
   ]
  },
  {
   "cell_type": "code",
   "execution_count": null,
   "metadata": {},
   "outputs": [],
   "source": [
    "##### Navigating with Beautiful Soup #####"
   ]
  },
  {
   "cell_type": "code",
   "execution_count": null,
   "metadata": {},
   "outputs": [],
   "source": [
    "\"\"\"\n",
    "via Tags\n",
    "* parent / parents\n",
    "* contents\n",
    "* next_sibling / next_siblings\n",
    "* previous_sibling / previous_siblings\n",
    "\"\"\"\n",
    "\"\"\"\n",
    "via Searching\n",
    "* find_parent() / find_parents()\n",
    "* find_next_sibling() / find_next_siblings()\n",
    "* find_previous_sibling() / find_previous_siblings()\n",
    "\"\"\""
   ]
  },
  {
   "cell_type": "code",
   "execution_count": 46,
   "metadata": {},
   "outputs": [],
   "source": [
    "from bs4 import BeautifulSoup\n",
    "\n",
    "html = \"\"\"\n",
    "<html>\n",
    "    <head>\n",
    "        <meta charset=\"UTF-8\">\n",
    "        <title>Fist HTML Page</title>\n",
    "    </head>\n",
    "    <body>\n",
    "        <div id=\"first\">\n",
    "            <h3 data-example=\"yes\">hi</h3>\n",
    "            <p>more text</p>\n",
    "        </div>\n",
    "        <ol>\n",
    "            <li class=\"special super-special\">This list items is special</li>\n",
    "            <li class=\"special\">This list items is also special</li>\n",
    "            <li>This list item is not so special</li>\n",
    "        </ol>\n",
    "        <div>bye</div>\n",
    "    </body>\n",
    "</html>\n",
    "\"\"\"\n",
    "\n",
    "soup = BeautifulSoup(html, \"html.parser\")"
   ]
  },
  {
   "cell_type": "code",
   "execution_count": 47,
   "metadata": {},
   "outputs": [
    {
     "name": "stdout",
     "output_type": "stream",
     "text": [
      "['\\n', <div id=\"first\">\n",
      "<h3 data-example=\"yes\">hi</h3>\n",
      "<p>more text</p>\n",
      "</div>, '\\n', <ol>\n",
      "<li class=\"special super-special\">This list items is special</li>\n",
      "<li class=\"special\">This list items is also special</li>\n",
      "<li>This list item is not so special</li>\n",
      "</ol>, '\\n', <div>bye</div>, '\\n']\n"
     ]
    }
   ],
   "source": [
    "data = soup.body.contents\n",
    "print(data) #all the body contents in a list with newlines /n"
   ]
  },
  {
   "cell_type": "code",
   "execution_count": 48,
   "metadata": {},
   "outputs": [
    {
     "name": "stdout",
     "output_type": "stream",
     "text": [
      "<div id=\"first\">\n",
      "<h3 data-example=\"yes\">hi</h3>\n",
      "<p>more text</p>\n",
      "</div>\n"
     ]
    }
   ],
   "source": [
    "data = soup.body.contents[1]\n",
    "print(data)"
   ]
  },
  {
   "cell_type": "code",
   "execution_count": 49,
   "metadata": {},
   "outputs": [
    {
     "name": "stdout",
     "output_type": "stream",
     "text": [
      "['\\n', <h3 data-example=\"yes\">hi</h3>, '\\n', <p>more text</p>, '\\n']\n"
     ]
    }
   ],
   "source": [
    "#another level of digging\n",
    "data = soup.body.contents[1].contents\n",
    "print(data) # only the div contents"
   ]
  },
  {
   "cell_type": "code",
   "execution_count": 50,
   "metadata": {},
   "outputs": [
    {
     "name": "stdout",
     "output_type": "stream",
     "text": [
      "<ol>\n",
      "<li class=\"special super-special\">This list items is special</li>\n",
      "<li class=\"special\">This list items is also special</li>\n",
      "<li>This list item is not so special</li>\n",
      "</ol>\n"
     ]
    }
   ],
   "source": [
    "data = soup.body.contents[1].next_sibling.next_sibling\n",
    "print(data)"
   ]
  },
  {
   "cell_type": "code",
   "execution_count": 53,
   "metadata": {},
   "outputs": [
    {
     "name": "stdout",
     "output_type": "stream",
     "text": [
      "<ol>\n",
      "<li class=\"special super-special\">This list items is special</li>\n",
      "<li class=\"special\">This list items is also special</li>\n",
      "<li>This list item is not so special</li>\n",
      "</ol>\n"
     ]
    }
   ],
   "source": [
    "data = soup.find(class_ = \"super-special\").parent\n",
    "print(data)"
   ]
  },
  {
   "cell_type": "code",
   "execution_count": 54,
   "metadata": {},
   "outputs": [
    {
     "name": "stdout",
     "output_type": "stream",
     "text": [
      "<ol>\n",
      "<li class=\"special super-special\">This list items is special</li>\n",
      "<li class=\"special\">This list items is also special</li>\n",
      "<li>This list item is not so special</li>\n",
      "</ol>\n"
     ]
    }
   ],
   "source": [
    "#navigate via searching\n",
    "data = soup.find(id=\"first\").find_next_sibling() # this will skip the /n content in the returned list\n",
    "print(data)"
   ]
  },
  {
   "cell_type": "code",
   "execution_count": 55,
   "metadata": {},
   "outputs": [
    {
     "name": "stdout",
     "output_type": "stream",
     "text": [
      "<div>bye</div>\n"
     ]
    }
   ],
   "source": [
    "data = soup.find(id=\"first\").find_next_sibling().find_next_sibling()\n",
    "print(data)"
   ]
  },
  {
   "cell_type": "code",
   "execution_count": 60,
   "metadata": {},
   "outputs": [
    {
     "ename": "AttributeError",
     "evalue": "'list' object has no attribute 'find_previous_sibling'",
     "output_type": "error",
     "traceback": [
      "\u001b[1;31m---------------------------------------------------------------------------\u001b[0m",
      "\u001b[1;31mAttributeError\u001b[0m                            Traceback (most recent call last)",
      "\u001b[1;32m<ipython-input-60-19750f62068e>\u001b[0m in \u001b[0;36m<module>\u001b[1;34m\u001b[0m\n\u001b[1;32m----> 1\u001b[1;33m \u001b[0mdata\u001b[0m \u001b[1;33m=\u001b[0m \u001b[0msoup\u001b[0m\u001b[1;33m.\u001b[0m\u001b[0mselect\u001b[0m\u001b[1;33m(\u001b[0m\u001b[1;34m\"[data-example]\"\u001b[0m\u001b[1;33m)\u001b[0m\u001b[1;33m.\u001b[0m\u001b[0mfind_previous_sibling\u001b[0m\u001b[1;33m(\u001b[0m\u001b[1;33m)\u001b[0m\u001b[1;33m\u001b[0m\u001b[1;33m\u001b[0m\u001b[0m\n\u001b[0m\u001b[0;32m      2\u001b[0m \u001b[0mprint\u001b[0m\u001b[1;33m(\u001b[0m\u001b[0mdata\u001b[0m\u001b[1;33m)\u001b[0m\u001b[1;33m\u001b[0m\u001b[1;33m\u001b[0m\u001b[0m\n",
      "\u001b[1;31mAttributeError\u001b[0m: 'list' object has no attribute 'find_previous_sibling'"
     ]
    }
   ],
   "source": [
    "data = soup.select(\"[data-example]\").find_previous_sibling()\n",
    "print(data)"
   ]
  },
  {
   "cell_type": "code",
   "execution_count": 62,
   "metadata": {},
   "outputs": [
    {
     "name": "stdout",
     "output_type": "stream",
     "text": [
      "<div id=\"first\">\n",
      "<h3 data-example=\"yes\">hi</h3>\n",
      "<p>more text</p>\n",
      "</div>\n"
     ]
    }
   ],
   "source": [
    "data = soup.find(id=\"first\").find_next_sibling().find_previous_sibling()\n",
    "print(data)"
   ]
  },
  {
   "cell_type": "code",
   "execution_count": 63,
   "metadata": {},
   "outputs": [
    {
     "name": "stdout",
     "output_type": "stream",
     "text": [
      "<li class=\"special\">This list items is also special</li>\n"
     ]
    }
   ],
   "source": [
    "data = soup.find(class_=\"super-special\").find_next_sibling(class_=\"special\")\n",
    "print(data)"
   ]
  },
  {
   "cell_type": "code",
   "execution_count": 65,
   "metadata": {},
   "outputs": [
    {
     "name": "stdout",
     "output_type": "stream",
     "text": [
      "<div id=\"first\">\n",
      "<h3 data-example=\"yes\">hi</h3>\n",
      "<p>more text</p>\n",
      "</div>\n"
     ]
    }
   ],
   "source": [
    "data = soup.find(\"h3\").find_parent()\n",
    "print(data)"
   ]
  },
  {
   "cell_type": "code",
   "execution_count": 66,
   "metadata": {},
   "outputs": [
    {
     "name": "stdout",
     "output_type": "stream",
     "text": [
      "<body>\n",
      "<div id=\"first\">\n",
      "<h3 data-example=\"yes\">hi</h3>\n",
      "<p>more text</p>\n",
      "</div>\n",
      "<ol>\n",
      "<li class=\"special super-special\">This list items is special</li>\n",
      "<li class=\"special\">This list items is also special</li>\n",
      "<li>This list item is not so special</li>\n",
      "</ol>\n",
      "<div>bye</div>\n",
      "</body>\n"
     ]
    }
   ],
   "source": [
    "data = soup.find(\"h3\").find_parent(\"body\") #finding the next specific parent\n",
    "print(data)"
   ]
  },
  {
   "cell_type": "code",
   "execution_count": 1,
   "metadata": {},
   "outputs": [],
   "source": [
    "################### BLANK #######################"
   ]
  },
  {
   "cell_type": "code",
   "execution_count": 2,
   "metadata": {},
   "outputs": [],
   "source": [
    "# Scraping https://www.rithmschool.com/blog"
   ]
  },
  {
   "cell_type": "code",
   "execution_count": 16,
   "metadata": {},
   "outputs": [],
   "source": [
    "import requests\n",
    "from bs4 import BeautifulSoup\n",
    "from csv import writer\n",
    "\n",
    "response = requests.get(\"https://www.rithmschool.com/blog\")\n",
    "\n",
    "soup = BeautifulSoup(response.text, \"html.parser\")\n",
    "articles = soup.find_all(\"article\")\n",
    "\n",
    "with open(\"blog_data.csv\", \"w\", newline=\"\") as csv_file:\n",
    "    csv_writer = writer(csv_file)\n",
    "    csv_writer.writerow([\"title\", \"link\", \"date\"])\n",
    "    for article in articles:\n",
    "        a_tag = article.find(\"a\")\n",
    "        title = a_tag.get_text()\n",
    "        url = a_tag[\"href\"]\n",
    "        date = article.find(\"time\")[\"datetime\"]\n",
    "        #print(title, url, date)\n",
    "        csv_writer.writerow([title, url, date])\n"
   ]
  },
  {
   "cell_type": "code",
   "execution_count": null,
   "metadata": {},
   "outputs": [],
   "source": []
  },
  {
   "cell_type": "code",
   "execution_count": null,
   "metadata": {},
   "outputs": [],
   "source": []
  }
 ],
 "metadata": {
  "kernelspec": {
   "display_name": "Python 3",
   "language": "python",
   "name": "python3"
  },
  "language_info": {
   "codemirror_mode": {
    "name": "ipython",
    "version": 3
   },
   "file_extension": ".py",
   "mimetype": "text/x-python",
   "name": "python",
   "nbconvert_exporter": "python",
   "pygments_lexer": "ipython3",
   "version": "3.7.3"
  }
 },
 "nbformat": 4,
 "nbformat_minor": 2
}
