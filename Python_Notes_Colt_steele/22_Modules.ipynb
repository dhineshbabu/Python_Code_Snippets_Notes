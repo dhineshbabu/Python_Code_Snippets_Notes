{
 "cells": [
  {
   "cell_type": "code",
   "execution_count": 1,
   "metadata": {},
   "outputs": [],
   "source": [
    "import random"
   ]
  },
  {
   "cell_type": "code",
   "execution_count": 4,
   "metadata": {},
   "outputs": [
    {
     "data": {
      "text/plain": [
       "'dhinesh'"
      ]
     },
     "execution_count": 4,
     "metadata": {},
     "output_type": "execute_result"
    }
   ],
   "source": [
    "random.choice([\"dhinesh\", 'kanu'])"
   ]
  },
  {
   "cell_type": "code",
   "execution_count": 3,
   "metadata": {},
   "outputs": [
    {
     "data": {
      "text/plain": [
       "'kanu'"
      ]
     },
     "execution_count": 3,
     "metadata": {},
     "output_type": "execute_result"
    }
   ],
   "source": [
    "random.choice([\"dhinesh\", 'kanu'])"
   ]
  },
  {
   "cell_type": "code",
   "execution_count": 8,
   "metadata": {},
   "outputs": [],
   "source": [
    "sample = random.shuffle([\"dhinesh\", 'kanu', 'bru', 'jothi'])"
   ]
  },
  {
   "cell_type": "code",
   "execution_count": 10,
   "metadata": {},
   "outputs": [],
   "source": [
    "sample # because shuffle method will not return anything but it will shuffle the values in place\n"
   ]
  },
  {
   "cell_type": "code",
   "execution_count": 11,
   "metadata": {},
   "outputs": [],
   "source": [
    "import random as randi  #we can assign temporary name to the module name"
   ]
  },
  {
   "cell_type": "code",
   "execution_count": 13,
   "metadata": {},
   "outputs": [
    {
     "data": {
      "text/plain": [
       "11"
      ]
     },
     "execution_count": 13,
     "metadata": {},
     "output_type": "execute_result"
    }
   ],
   "source": [
    "randi.randint(1,20)"
   ]
  },
  {
   "cell_type": "code",
   "execution_count": 14,
   "metadata": {},
   "outputs": [],
   "source": [
    "#import specific items from the module\n",
    "from random import choice, randint"
   ]
  },
  {
   "cell_type": "code",
   "execution_count": 15,
   "metadata": {},
   "outputs": [
    {
     "data": {
      "text/plain": [
       "1"
      ]
     },
     "execution_count": 15,
     "metadata": {},
     "output_type": "execute_result"
    }
   ],
   "source": [
    "randint(1,10)"
   ]
  },
  {
   "cell_type": "code",
   "execution_count": 16,
   "metadata": {},
   "outputs": [],
   "source": [
    "#importing all the available functions from the module\n",
    "from random import *"
   ]
  },
  {
   "cell_type": "code",
   "execution_count": 17,
   "metadata": {},
   "outputs": [],
   "source": [
    "############## Creating our own custom modules #########\n",
    "#Check banana.py, apples.py and fruits.py files in this directory"
   ]
  },
  {
   "cell_type": "code",
   "execution_count": 18,
   "metadata": {},
   "outputs": [],
   "source": [
    "###### Installing external modules #####\n",
    "# check for python package index for all the external modules\n",
    "#PyPi"
   ]
  },
  {
   "cell_type": "code",
   "execution_count": 19,
   "metadata": {},
   "outputs": [],
   "source": [
    "#pip is the command used in python to install external modules"
   ]
  },
  {
   "cell_type": "code",
   "execution_count": 20,
   "metadata": {},
   "outputs": [],
   "source": [
    "#demo -> using \"termcolor\" module"
   ]
  },
  {
   "cell_type": "code",
   "execution_count": 21,
   "metadata": {},
   "outputs": [
    {
     "name": "stdout",
     "output_type": "stream",
     "text": [
      "['ATTRIBUTES', 'COLORS', 'HIGHLIGHTS', 'RESET', 'VERSION', '__ALL__', '__builtins__', '__cached__', '__doc__', '__file__', '__loader__', '__name__', '__package__', '__spec__', 'colored', 'cprint', 'os', 'print_function']\n"
     ]
    }
   ],
   "source": [
    "import termcolor\n",
    "print(dir(termcolor))"
   ]
  },
  {
   "cell_type": "code",
   "execution_count": 22,
   "metadata": {
    "scrolled": true
   },
   "outputs": [
    {
     "name": "stdout",
     "output_type": "stream",
     "text": [
      "Help on module termcolor:\n",
      "\n",
      "NAME\n",
      "    termcolor - ANSII Color formatting for output in terminal.\n",
      "\n",
      "FUNCTIONS\n",
      "    colored(text, color=None, on_color=None, attrs=None)\n",
      "        Colorize text.\n",
      "        \n",
      "        Available text colors:\n",
      "            red, green, yellow, blue, magenta, cyan, white.\n",
      "        \n",
      "        Available text highlights:\n",
      "            on_red, on_green, on_yellow, on_blue, on_magenta, on_cyan, on_white.\n",
      "        \n",
      "        Available attributes:\n",
      "            bold, dark, underline, blink, reverse, concealed.\n",
      "        \n",
      "        Example:\n",
      "            colored('Hello, World!', 'red', 'on_grey', ['blue', 'blink'])\n",
      "            colored('Hello, World!', 'green')\n",
      "    \n",
      "    cprint(text, color=None, on_color=None, attrs=None, **kwargs)\n",
      "        Print colorize text.\n",
      "        \n",
      "        It accepts arguments of print function.\n",
      "\n",
      "DATA\n",
      "    ATTRIBUTES = {'blink': 5, 'bold': 1, 'concealed': 8, 'dark': 2, 'rever...\n",
      "    COLORS = {'blue': 34, 'cyan': 36, 'green': 32, 'grey': 30, 'magenta': ...\n",
      "    HIGHLIGHTS = {'on_blue': 44, 'on_cyan': 46, 'on_green': 42, 'on_grey':...\n",
      "    RESET = '\\x1b[0m'\n",
      "    VERSION = (1, 1, 0)\n",
      "    __ALL__ = ['colored', 'cprint']\n",
      "    print_function = _Feature((2, 6, 0, 'alpha', 2), (3, 0, 0, 'alpha', 0)...\n",
      "\n",
      "FILE\n",
      "    c:\\users\\lenovo\\appdata\\local\\programs\\python\\python37\\lib\\site-packages\\termcolor.py\n",
      "\n",
      "\n"
     ]
    }
   ],
   "source": [
    "help(termcolor)"
   ]
  },
  {
   "cell_type": "code",
   "execution_count": 32,
   "metadata": {},
   "outputs": [
    {
     "name": "stdout",
     "output_type": "stream",
     "text": [
      "\u001b[36mHi There!\u001b[0m\n",
      "\u001b[35mHi Kanu!\u001b[0m\n",
      "\u001b[5m\u001b[45m\u001b[32mHi Dhinesh!\u001b[0m\n"
     ]
    }
   ],
   "source": [
    "from termcolor import colored\n",
    "text = colored(\"Hi There!\", color = \"cyan\")\n",
    "print(text)\n",
    "text = colored(\"Hi Kanu!\", color = \"magenta\")\n",
    "print(text)\n",
    "text = colored(\"Hi Dhinesh!\", color = \"green\", on_color = \"on_magenta\", attrs = [\"blink\"])\n",
    "print(text)"
   ]
  },
  {
   "cell_type": "code",
   "execution_count": 33,
   "metadata": {},
   "outputs": [],
   "source": [
    "################# ASCII ART PRINTER #################"
   ]
  },
  {
   "cell_type": "code",
   "execution_count": 34,
   "metadata": {},
   "outputs": [
    {
     "name": "stdout",
     "output_type": "stream",
     "text": [
      " _  __                 \n",
      "| |/ /__ _ _ __  _   _ \n",
      "| ' // _` | '_ \\| | | |\n",
      "| . \\ (_| | | | | |_| |\n",
      "|_|\\_\\__,_|_| |_|\\__,_|\n",
      "                       \n",
      "\n"
     ]
    }
   ],
   "source": [
    "import pyfiglet\n",
    "result = pyfiglet.figlet_format(\"Kanu\")\n",
    "print(result)"
   ]
  },
  {
   "cell_type": "code",
   "execution_count": 40,
   "metadata": {},
   "outputs": [
    {
     "name": "stdout",
     "output_type": "stream",
     "text": [
      "what string would you like to print ? sffsfd\n",
      "What color ? afdf\n",
      "\u001b[35m      __  __      __     _ \n",
      " ___ / _|/ _|___ / _| __| |\n",
      "/ __| |_| |_/ __| |_ / _` |\n",
      "\\__ \\  _|  _\\__ \\  _| (_| |\n",
      "|___/_| |_| |___/_|  \\__,_|\n",
      "                           \n",
      "\u001b[0m\n"
     ]
    }
   ],
   "source": [
    "#demo code\n",
    "import pyfiglet\n",
    "from termcolor import colored\n",
    "\n",
    "valid_colors = ('red', 'green', 'yellow', 'blue', 'magenta', 'cyan', 'white')\n",
    "\n",
    "msg = input(\"what string would you like to print ? \")\n",
    "color = input(\"What color ? \")\n",
    "\n",
    "if color not in valid_colors:\n",
    "    color = \"magenta\"\n",
    "\n",
    "ascii_art = pyfiglet.figlet_format(msg)\n",
    "colored_ascii = colored(ascii_art, color=color)\n",
    "print(colored_ascii)"
   ]
  },
  {
   "cell_type": "code",
   "execution_count": 41,
   "metadata": {},
   "outputs": [],
   "source": [
    "### autopep8 module #####\n",
    "# go to the command line and run the below command to format the ugly python file\n",
    "#  autopep8 --in-place -a -a ugly_code.py"
   ]
  },
  {
   "cell_type": "code",
   "execution_count": 45,
   "metadata": {},
   "outputs": [],
   "source": [
    "### __main__ variable in python #####\n",
    "#Every python module has a  __name__ variable\n",
    "# if the file is the main file being run, it's __name__ value is \"__main__\""
   ]
  },
  {
   "cell_type": "code",
   "execution_count": null,
   "metadata": {},
   "outputs": [],
   "source": [
    "#when a module isgetting imported , python will the entire module file that is getting imported\n",
    "# so to prevent this in some situations, \" if __name__ == __main__\" check is being used in python"
   ]
  }
 ],
 "metadata": {
  "kernelspec": {
   "display_name": "Python 3",
   "language": "python",
   "name": "python3"
  },
  "language_info": {
   "codemirror_mode": {
    "name": "ipython",
    "version": 3
   },
   "file_extension": ".py",
   "mimetype": "text/x-python",
   "name": "python",
   "nbconvert_exporter": "python",
   "pygments_lexer": "ipython3",
   "version": "3.7.3"
  }
 },
 "nbformat": 4,
 "nbformat_minor": 2
}
