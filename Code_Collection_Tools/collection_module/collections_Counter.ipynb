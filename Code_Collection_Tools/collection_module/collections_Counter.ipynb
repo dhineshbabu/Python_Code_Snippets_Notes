{
 "nbformat": 4,
 "nbformat_minor": 2,
 "metadata": {
  "language_info": {
   "name": "python",
   "codemirror_mode": {
    "name": "ipython",
    "version": 3
   },
   "version": "3.6.9-final"
  },
  "orig_nbformat": 2,
  "file_extension": ".py",
  "mimetype": "text/x-python",
  "name": "python",
  "npconvert_exporter": "python",
  "pygments_lexer": "ipython3",
  "version": 3,
  "kernelspec": {
   "name": "python36964bit03c1c1cb19cd4cb28bc7f205768c28f6",
   "display_name": "Python 3.6.9 64-bit"
  }
 },
 "cells": [
  {
   "cell_type": "markdown",
   "metadata": {},
   "source": [
    "## List of Collection types available in collections module\n",
    "* Counters\n",
    "* OrderedDict\n",
    "* DefaultDict\n",
    "* ChainMap\n",
    "* NamedTuple\n",
    "* DeQue\n",
    "* UserDict\n",
    "* UserList\n",
    "* UserString"
   ]
  },
  {
   "cell_type": "markdown",
   "metadata": {},
   "source": [
    "***\n",
    "## Counter\n",
    "* Containers are objects that hold objects. They provide a way to access the contained objects and iterate over them.\n",
    "* A Counter is a subclass of dict. Therefore it is an unordered collection where elements and their respective count are stored as a dictionary.\n",
    "***"
   ]
  },
  {
   "cell_type": "code",
   "execution_count": 2,
   "metadata": {},
   "outputs": [
    {
     "name": "stdout",
     "output_type": "stream",
     "text": "Counter({5: 4, 8: 4, 6: 3, 3: 2, 1: 1, 2: 1, 4: 1, 7: 1})\nCounter({'C': 6, 'B': 5, 'A': 3})\nCounter({'B': 5, 'A': 3, 'C': 2})\n"
    }
   ],
   "source": [
    "# A Python program to show different ways to create Counter\n",
    "from collections import Counter\n",
    "\n",
    "#with sequqnce of items\n",
    "print(Counter([1,2,3,3,4,5,5,5,5,6,6,6,7,8,8,8,8]))\n",
    "\n",
    "# with Dictionary\n",
    "print(Counter({'A': 3, 'B': 5, 'C': 6}))\n",
    "\n",
    "# with keyword arguments\n",
    "print(Counter(A=3, B=5, C=2))"
   ]
  },
  {
   "cell_type": "code",
   "execution_count": 3,
   "metadata": {},
   "outputs": [
    {
     "name": "stdout",
     "output_type": "stream",
     "text": "Counter({1: 3, 2: 2, 3: 2, 4: 2})\nCounter({1: 4, 2: 4, 3: 3, 4: 2})\n"
    }
   ],
   "source": [
    "# we can also use udpate() method to create counter\n",
    "from collections import Counter\n",
    "count = Counter()\n",
    "count.update([1,2,3,4,1,1,2,3,4])\n",
    "print(count)\n",
    "count.update([1,2,2,3]) # exissting data will be updated\n",
    "print(count)"
   ]
  },
  {
   "cell_type": "code",
   "execution_count": 4,
   "metadata": {},
   "outputs": [
    {
     "name": "stdout",
     "output_type": "stream",
     "text": "Counter({'C': 6, 'B': 0, 'A': -6})\n"
    }
   ],
   "source": [
    "# Python program to demonstrate that counts in  Counter can be 0 and negative  subtract() method\n",
    "from collections import Counter \n",
    "  \n",
    "c1 = Counter(A=4,  B=3, C=10) \n",
    "c2 = Counter(A=10, B=3, C=4) \n",
    "  \n",
    "c1.subtract(c2) \n",
    "print(c1)"
   ]
  },
  {
   "cell_type": "code",
   "execution_count": 5,
   "metadata": {},
   "outputs": [
    {
     "name": "stdout",
     "output_type": "stream",
     "text": "Counter({'blue': 3, 'red': 2, 'yellow': 1})\n"
    }
   ],
   "source": [
    "\n",
    "# An example program where different list items are counted using counter \n",
    "from collections import Counter \n",
    "  \n",
    "# Create a list \n",
    "z = ['blue', 'red', 'blue', 'yellow', 'blue', 'red'] \n",
    "  \n",
    "# Count distinct elements and print Counter aboject \n",
    "print(Counter(z)) "
   ]
  },
  {
   "cell_type": "code",
   "execution_count": 7,
   "metadata": {},
   "outputs": [
    {
     "data": {
      "text/plain": "dict_values([4, 4, 3, 2])"
     },
     "execution_count": 7,
     "metadata": {},
     "output_type": "execute_result"
    }
   ],
   "source": [
    "count.values()"
   ]
  },
  {
   "cell_type": "code",
   "execution_count": 8,
   "metadata": {},
   "outputs": [
    {
     "data": {
      "text/plain": "[('s', 5), ('d', 4), ('f', 4)]"
     },
     "execution_count": 8,
     "metadata": {},
     "output_type": "execute_result"
    }
   ],
   "source": [
    "# most_common() method\n",
    "Counter('sadsadasssdfffdf').most_common(3) # to get the most common values"
   ]
  },
  {
   "cell_type": "code",
   "execution_count": 13,
   "metadata": {},
   "outputs": [
    {
     "name": "stdout",
     "output_type": "stream",
     "text": "1 2 3 3 4 5 5 5 5 6 6 6 7 8 8 8 8"
    }
   ],
   "source": [
    "# to get the elements\n",
    "from collections import Counter\n",
    "\n",
    "#with sequqnce of items\n",
    "c = Counter([1,2,3,3,4,5,5,5,5,6,6,6,7,8,8,8,8])\n",
    "for i in c.elements():\n",
    "    print(i, end=\" \")"
   ]
  },
  {
   "cell_type": "code",
   "execution_count": 14,
   "metadata": {},
   "outputs": [
    {
     "data": {
      "text/plain": "dict_items([(1, 1), (2, 1), (3, 2), (4, 1), (5, 4), (6, 3), (7, 1), (8, 4)])"
     },
     "execution_count": 14,
     "metadata": {},
     "output_type": "execute_result"
    }
   ],
   "source": [
    "c.items() # to convert counter to tuple of item name and count"
   ]
  },
  {
   "cell_type": "code",
   "execution_count": null,
   "metadata": {},
   "outputs": [],
   "source": [
    "\"\"\"\n",
    "sum(c.values())                 # total of all counts\n",
    "c.clear()                       # reset all counts\n",
    "list(c)                         # list unique elements\n",
    "set(c)                          # convert to a set\n",
    "dict(c)                         # convert to a regular dictionary\n",
    "c.items()                       # convert to a list of (elem, cnt) pairs\n",
    "Counter(dict(list_of_pairs))    # convert from a list of (elem, cnt) pairs\n",
    "c.most_common()[:-n-1:-1]       # n least common elements\n",
    "+c                              # remove zero and negative counts\n",
    "\"\"\""
   ]
  },
  {
   "cell_type": "code",
   "execution_count": null,
   "metadata": {},
   "outputs": [],
   "source": [
    "# Some mroe examaples from Documentation\n",
    "\"\"\"\n",
    ">>>c = Counter(a=3, b=1)\n",
    ">>>d = Counter(a=1, b=2)\n",
    ">>>c + d                       # add two counters together:  c[x] + d[x]\n",
    "Counter({'a': 4, 'b': 3})\n",
    ">>>c - d                       # subtract (keeping only positive counts)\n",
    "Counter({'a': 2})\n",
    ">>>c & d                       # intersection:  min(c[x], d[x]) \n",
    "Counter({'a': 1, 'b': 1})\n",
    ">>>c | d                       # union:  max(c[x], d[x])\n",
    "Counter({'a': 3, 'b': 2})\n",
    "\"\""
   ]
  },
  {
   "cell_type": "code",
   "execution_count": null,
   "metadata": {},
   "outputs": [],
   "source": [
    "#Unary addition and subtraction are shortcuts for adding an empty counter or subtracting from an empty counter.\n",
    "\"\"\"\n",
    "c = Counter(a=2, b=-4)\n",
    "+c\n",
    "Counter({'a': 2})\n",
    "-c\n",
    "Counter({'b': 4})\n",
    "\"\"\""
   ]
  },
  {
   "cell_type": "code",
   "execution_count": null,
   "metadata": {},
   "outputs": [],
   "source": []
  },
  {
   "cell_type": "code",
   "execution_count": 4,
   "metadata": {},
   "outputs": [],
   "source": [
    " "
   ]
  },
  {
   "cell_type": "code",
   "execution_count": null,
   "metadata": {},
   "outputs": [],
   "source": []
  },
  {
   "cell_type": "code",
   "execution_count": null,
   "metadata": {},
   "outputs": [],
   "source": []
  },
  {
   "cell_type": "code",
   "execution_count": null,
   "metadata": {},
   "outputs": [],
   "source": []
  },
  {
   "cell_type": "code",
   "execution_count": null,
   "metadata": {},
   "outputs": [],
   "source": []
  },
  {
   "cell_type": "code",
   "execution_count": null,
   "metadata": {},
   "outputs": [],
   "source": []
  },
  {
   "cell_type": "code",
   "execution_count": null,
   "metadata": {},
   "outputs": [],
   "source": []
  },
  {
   "cell_type": "code",
   "execution_count": null,
   "metadata": {},
   "outputs": [],
   "source": []
  }
 ]
}