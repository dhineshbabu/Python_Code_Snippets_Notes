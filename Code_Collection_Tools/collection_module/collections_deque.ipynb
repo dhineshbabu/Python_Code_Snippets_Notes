{
 "nbformat": 4,
 "nbformat_minor": 2,
 "metadata": {
  "language_info": {
   "name": "python",
   "codemirror_mode": {
    "name": "ipython",
    "version": 3
   },
   "version": "3.6.9-final"
  },
  "orig_nbformat": 2,
  "file_extension": ".py",
  "mimetype": "text/x-python",
  "name": "python",
  "npconvert_exporter": "python",
  "pygments_lexer": "ipython3",
  "version": 3,
  "kernelspec": {
   "name": "python36964bit03c1c1cb19cd4cb28bc7f205768c28f6",
   "display_name": "Python 3.6.9 64-bit"
  }
 },
 "cells": [
  {
   "cell_type": "markdown",
   "metadata": {},
   "source": [
    "***\n",
    "## deque\n",
    "* Deque (Doubly Ended Queue) in Python is implemented using the module “collections“. Deque is preferred over list in the cases where we need quicker append and pop operations from both the ends of container, as deque provides an O(1) time complexity for append and pop operations as compared to list which provides O(n) time complexity\n",
    "***"
   ]
  },
  {
   "cell_type": "code",
   "execution_count": 1,
   "metadata": {},
   "outputs": [
    {
     "name": "stdout",
     "output_type": "stream",
     "text": "deque(['name', 'age', 'DOB'])\n"
    }
   ],
   "source": [
    "# demo program\n",
    "from collections import deque\n",
    "\n",
    "queue = deque(['name', 'age', 'DOB'])\n",
    "print(queue)"
   ]
  },
  {
   "cell_type": "markdown",
   "metadata": {},
   "source": [
    "***\n",
    "## acccess and other methods\n",
    "* append() :- This function is used to insert the value in its argument to the right end of deque.\n",
    "\n",
    "* appendleft() :- This function is used to insert the value in its argument to the left end of deque.\n",
    "\n",
    "* pop() :- This function is used to delete an argument from the right end of deque.\n",
    "\n",
    "* popleft() :- This function is used to delete an argument from the left end of deque.\n",
    "***"
   ]
  },
  {
   "cell_type": "code",
   "execution_count": 2,
   "metadata": {},
   "outputs": [
    {
     "name": "stdout",
     "output_type": "stream",
     "text": "The deque after appending at right is : \ndeque([1, 2, 3, 4])\nThe deque after appending at left is : \ndeque([6, 1, 2, 3, 4])\nThe deque after deleting from right is : \ndeque([6, 1, 2, 3])\nThe deque after deleting from left is : \ndeque([1, 2, 3])\n"
    }
   ],
   "source": [
    "import collections \n",
    "  \n",
    "# initializing deque \n",
    "de = collections.deque([1,2,3]) \n",
    "  \n",
    "# using append() to insert element at right end  \n",
    "# inserts 4 at the end of deque \n",
    "de.append(4) \n",
    "  \n",
    "# printing modified deque \n",
    "print (\"The deque after appending at right is : \") \n",
    "print (de) \n",
    "  \n",
    "# using appendleft() to insert element at right end  \n",
    "# inserts 6 at the beginning of deque \n",
    "de.appendleft(6) \n",
    "  \n",
    "# printing modified deque \n",
    "print (\"The deque after appending at left is : \") \n",
    "print (de) \n",
    "  \n",
    "# using pop() to delete element from right end  \n",
    "# deletes 4 from the right end of deque \n",
    "de.pop() \n",
    "  \n",
    "# printing modified deque \n",
    "print (\"The deque after deleting from right is : \") \n",
    "print (de) \n",
    "  \n",
    "# using popleft() to delete element from left end  \n",
    "# deletes 6 from the left end of deque \n",
    "de.popleft() \n",
    "  \n",
    "# printing modified deque \n",
    "print (\"The deque after deleting from left is : \") \n",
    "print (de) "
   ]
  },
  {
   "cell_type": "markdown",
   "metadata": {},
   "source": [
    "***\n",
    "## acccess and other methods (contd.)\n",
    "* index(ele, beg, end) :- This function returns the first index of the value mentioned in arguments, starting searching from beg till end index.\n",
    "\n",
    "* insert(i, a) :- This function inserts the value mentioned in arguments(a) at index(i) specified in arguments.\n",
    "\n",
    "* remove() :- This function removes the first occurrence of value mentioned in arguments.\n",
    "\n",
    "* count() :- This function counts the number of occurrences of value mentioned in arguments.\n",
    "***"
   ]
  },
  {
   "cell_type": "code",
   "execution_count": 3,
   "metadata": {},
   "outputs": [
    {
     "name": "stdout",
     "output_type": "stream",
     "text": "The number 4 first occurs at a position : \n4\nThe deque after inserting 3 at 5th position is : \ndeque([1, 2, 3, 3, 3, 4, 2, 4])\nThe count of 3 in deque is : \n3\nThe deque after deleting first occurrence of 3 is : \ndeque([1, 2, 3, 3, 4, 2, 4])\n"
    }
   ],
   "source": [
    "import collections \n",
    "  \n",
    "# initializing deque \n",
    "de = collections.deque([1, 2, 3, 3, 4, 2, 4]) \n",
    "  \n",
    "# using index() to print the first occurrence of 4 \n",
    "print (\"The number 4 first occurs at a position : \") \n",
    "print (de.index(4,2,5)) \n",
    "  \n",
    "# using insert() to insert the value 3 at 5th position \n",
    "de.insert(4,3) \n",
    "  \n",
    "# printing modified deque \n",
    "print (\"The deque after inserting 3 at 5th position is : \") \n",
    "print (de) \n",
    "  \n",
    "# using count() to count the occurrences of 3 \n",
    "print (\"The count of 3 in deque is : \") \n",
    "print (de.count(3)) \n",
    "  \n",
    "# using remove() to remove the first occurrence of 3 \n",
    "de.remove(3) \n",
    "  \n",
    "# printing modified deque \n",
    "print (\"The deque after deleting first occurrence of 3 is : \") \n",
    "print (de)"
   ]
  },
  {
   "cell_type": "markdown",
   "metadata": {},
   "source": [
    "***\n",
    "## acccess and other methods (contd.)\n",
    "* extend(iterable) :- This function is used to add multiple values at the right end of deque. The argument passed is an iterable.\n",
    "\n",
    "* extendleft(iterable) :- This function is used to add multiple values at the left end of deque. The argument passed is an iterable. Order is reversed as a result of left appends.\n",
    "\n",
    "* reverse() :- This function is used to reverse order of deque elements.\n",
    "\n",
    "* rotate() :- This function rotates the deque by the number specified in arguments. If the number specified is negative, rotation occurs to left. Else rotation is to right.\n",
    "***"
   ]
  },
  {
   "cell_type": "code",
   "execution_count": 4,
   "metadata": {},
   "outputs": [
    {
     "name": "stdout",
     "output_type": "stream",
     "text": "The deque after extending deque at end is : \ndeque([1, 2, 3, 4, 5, 6])\nThe deque after extending deque at beginning is : \ndeque([9, 8, 7, 1, 2, 3, 4, 5, 6])\nThe deque after rotating deque is : \ndeque([1, 2, 3, 4, 5, 6, 9, 8, 7])\nThe deque after reversing deque is : \ndeque([7, 8, 9, 6, 5, 4, 3, 2, 1])\n"
    }
   ],
   "source": [
    "import collections \n",
    "  \n",
    "# initializing deque \n",
    "de = collections.deque([1, 2, 3,]) \n",
    "  \n",
    "# using extend() to add numbers to right end  \n",
    "# adds 4,5,6 to right end \n",
    "de.extend([4,5,6]) \n",
    "  \n",
    "# printing modified deque \n",
    "print (\"The deque after extending deque at end is : \") \n",
    "print (de) \n",
    "  \n",
    "# using extendleft() to add numbers to left end  \n",
    "# adds 7,8,9 to right end \n",
    "de.extendleft([7,8,9]) \n",
    "  \n",
    "# printing modified deque \n",
    "print (\"The deque after extending deque at beginning is : \") \n",
    "print (de) \n",
    "  \n",
    "# using rotate() to rotate the deque \n",
    "# rotates by 3 to left \n",
    "de.rotate(-3) \n",
    "  \n",
    "# printing modified deque \n",
    "print (\"The deque after rotating deque is : \") \n",
    "print (de) \n",
    "  \n",
    "# using reverse() to reverse the deque \n",
    "de.reverse() \n",
    "  \n",
    "# printing modified deque \n",
    "print (\"The deque after reversing deque is : \") \n",
    "print (de) "
   ]
  },
  {
   "cell_type": "code",
   "execution_count": null,
   "metadata": {},
   "outputs": [],
   "source": []
  },
  {
   "cell_type": "code",
   "execution_count": null,
   "metadata": {},
   "outputs": [],
   "source": []
  },
  {
   "cell_type": "code",
   "execution_count": null,
   "metadata": {},
   "outputs": [],
   "source": []
  },
  {
   "cell_type": "code",
   "execution_count": null,
   "metadata": {},
   "outputs": [],
   "source": []
  },
  {
   "cell_type": "code",
   "execution_count": null,
   "metadata": {},
   "outputs": [],
   "source": []
  },
  {
   "cell_type": "code",
   "execution_count": null,
   "metadata": {},
   "outputs": [],
   "source": []
  },
  {
   "cell_type": "code",
   "execution_count": null,
   "metadata": {},
   "outputs": [],
   "source": []
  },
  {
   "cell_type": "code",
   "execution_count": null,
   "metadata": {},
   "outputs": [],
   "source": []
  },
  {
   "cell_type": "code",
   "execution_count": null,
   "metadata": {},
   "outputs": [],
   "source": []
  }
 ]
}