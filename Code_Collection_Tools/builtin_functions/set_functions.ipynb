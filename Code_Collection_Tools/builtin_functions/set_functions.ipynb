{
 "cells": [
  {
   "cell_type": "code",
   "execution_count": 1,
   "metadata": {},
   "outputs": [],
   "source": [
    "############################### BLANK #################################"
   ]
  },
  {
   "cell_type": "code",
   "execution_count": 2,
   "metadata": {},
   "outputs": [],
   "source": [
    "### remove() method ### searches and removes the given element"
   ]
  },
  {
   "cell_type": "code",
   "execution_count": 4,
   "metadata": {},
   "outputs": [
    {
     "name": "stdout",
     "output_type": "stream",
     "text": [
      "{'Hindi', 'English', 'German'}\n"
     ]
    }
   ],
   "source": [
    "language = {'English', 'Tamil', 'Hindi', 'German'}\n",
    "language.remove('Tamil')\n",
    "print(language)"
   ]
  },
  {
   "cell_type": "code",
   "execution_count": 5,
   "metadata": {},
   "outputs": [
    {
     "ename": "KeyError",
     "evalue": "'japanese'",
     "output_type": "error",
     "traceback": [
      "\u001B[1;31m---------------------------------------------------------------------------\u001B[0m",
      "\u001B[1;31mKeyError\u001B[0m                                  Traceback (most recent call last)",
      "\u001B[1;32m<ipython-input-5-a6613f461fc7>\u001B[0m in \u001B[0;36m<module>\u001B[1;34m()\u001B[0m\n\u001B[0;32m      1\u001B[0m \u001B[1;31m#removing an element that does not exist\u001B[0m\u001B[1;33m\u001B[0m\u001B[1;33m\u001B[0m\u001B[0m\n\u001B[1;32m----> 2\u001B[1;33m \u001B[0mlanguage\u001B[0m\u001B[1;33m.\u001B[0m\u001B[0mremove\u001B[0m\u001B[1;33m(\u001B[0m\u001B[1;34m'japanese'\u001B[0m\u001B[1;33m)\u001B[0m\u001B[1;33m\u001B[0m\u001B[0m\n\u001B[0m",
      "\u001B[1;31mKeyError\u001B[0m: 'japanese'"
     ]
    }
   ],
   "source": [
    "#removing an element that does not exist\n",
    "language.remove('japanese')"
   ]
  },
  {
   "cell_type": "code",
   "execution_count": 6,
   "metadata": {},
   "outputs": [],
   "source": [
    "############################### BLANK #################################"
   ]
  },
  {
   "cell_type": "code",
   "execution_count": 7,
   "metadata": {},
   "outputs": [],
   "source": [
    "### add() method ### adds a given element to the set. if the element is already available, this will be skipped"
   ]
  },
  {
   "cell_type": "code",
   "execution_count": 8,
   "metadata": {},
   "outputs": [
    {
     "name": "stdout",
     "output_type": "stream",
     "text": [
      "{'Hindi', 'japanese', 'Tamil', 'English', 'German'}\n",
      "{'Hindi', 'japanese', 'Tamil', 'English', 'German'}\n"
     ]
    }
   ],
   "source": [
    "language = {'English', 'Tamil', 'Hindi', 'German'}\n",
    "language.add('japanese')\n",
    "print(language)\n",
    "#adding duplicate\n",
    "language.add('Hindi')\n",
    "print(language)"
   ]
  },
  {
   "cell_type": "code",
   "execution_count": 9,
   "metadata": {},
   "outputs": [
    {
     "name": "stdout",
     "output_type": "stream",
     "text": [
      "{'Hindi', 'japanese', 'Tamil', 'English', 'German', ('Chennai', 'Kongu')}\n"
     ]
    }
   ],
   "source": [
    "#adding a tuple to the set\n",
    "local_langs = ('Chennai', 'Kongu')\n",
    "language.add(local_langs)\n",
    "print(language)"
   ]
  },
  {
   "cell_type": "code",
   "execution_count": 10,
   "metadata": {},
   "outputs": [],
   "source": [
    "########################### BLANK #################################"
   ]
  },
  {
   "cell_type": "code",
   "execution_count": 11,
   "metadata": {},
   "outputs": [],
   "source": [
    "### copy() method ### returns a shallow copy of the set"
   ]
  },
  {
   "cell_type": "code",
   "execution_count": 14,
   "metadata": {},
   "outputs": [
    {
     "name": "stdout",
     "output_type": "stream",
     "text": [
      "{'Hindi', 'Tamil', 'English', 'German'}\n",
      "{'Hindi', 'Tamil', 'English', 'German', 'Japanese'}\n",
      "{'Hindi', 'Tamil', 'English', 'German'}\n"
     ]
    }
   ],
   "source": [
    "language = {'English', 'Tamil', 'Hindi', 'German'}\n",
    "another_language = language.copy()\n",
    "print(another_language)\n",
    "language.add('Japanese')#modifying source will not impact the new set\n",
    "print(language)\n",
    "print(another_language)"
   ]
  },
  {
   "cell_type": "code",
   "execution_count": 15,
   "metadata": {},
   "outputs": [],
   "source": [
    "########################### BLANK #################################"
   ]
  },
  {
   "cell_type": "code",
   "execution_count": 16,
   "metadata": {},
   "outputs": [],
   "source": [
    "### clear() method ### removes all the elements from the set"
   ]
  },
  {
   "cell_type": "code",
   "execution_count": 17,
   "metadata": {},
   "outputs": [
    {
     "name": "stdout",
     "output_type": "stream",
     "text": [
      "set()\n"
     ]
    }
   ],
   "source": [
    "language = {'English', 'Tamil', 'Hindi', 'German'}\n",
    "language.clear()\n",
    "print(language)"
   ]
  },
  {
   "cell_type": "code",
   "execution_count": 18,
   "metadata": {},
   "outputs": [],
   "source": [
    "########################### BLANK #################################"
   ]
  },
  {
   "cell_type": "code",
   "execution_count": 19,
   "metadata": {},
   "outputs": [],
   "source": [
    "### difference() method ### returns the set difference of two sets\n",
    "#If A and B are two sets. The set difference of A and B is a set of elements that exists only in set A but not in B"
   ]
  },
  {
   "cell_type": "code",
   "execution_count": 20,
   "metadata": {},
   "outputs": [
    {
     "name": "stdout",
     "output_type": "stream",
     "text": [
      "{'Hindi', 'Tamil', 'German'}\n"
     ]
    }
   ],
   "source": [
    "first_language = {'English', 'Tamil', 'Hindi', 'German'}\n",
    "second_language = {'English', 'Japanse'}\n",
    "differnce = first_language.difference(second_language)\n",
    "print(differnce)"
   ]
  },
  {
   "cell_type": "code",
   "execution_count": 21,
   "metadata": {},
   "outputs": [
    {
     "name": "stdout",
     "output_type": "stream",
     "text": [
      "{'Hindi', 'Tamil', 'German'}\n",
      "{'Japanse'}\n"
     ]
    }
   ],
   "source": [
    "# set difference using '-' operator\n",
    "first_language = {'English', 'Tamil', 'Hindi', 'German'}\n",
    "second_language = {'English', 'Japanse'}\n",
    "print(first_language - second_language)\n",
    "print(second_language - first_language)"
   ]
  },
  {
   "cell_type": "code",
   "execution_count": 22,
   "metadata": {},
   "outputs": [],
   "source": [
    "########################### BLANK #################################"
   ]
  },
  {
   "cell_type": "code",
   "execution_count": 23,
   "metadata": {},
   "outputs": [],
   "source": [
    "### difference_update() method ### \n",
    "#A.difference_update(B)  => Here, A and B are two sets. The difference_update() updates set A with the set difference of A-B\n",
    "# The difference_update() returns None indicating the object (set) is mutated."
   ]
  },
  {
   "cell_type": "code",
   "execution_count": 24,
   "metadata": {},
   "outputs": [
    {
     "name": "stdout",
     "output_type": "stream",
     "text": [
      "{'Hindi', 'Tamil', 'German'}\n"
     ]
    }
   ],
   "source": [
    "first_language = {'English', 'Tamil', 'Hindi', 'German'}\n",
    "second_language = {'English', 'Japanse'}\n",
    "first_language.difference_update(second_language)\n",
    "print(first_language)"
   ]
  },
  {
   "cell_type": "code",
   "execution_count": 25,
   "metadata": {},
   "outputs": [],
   "source": [
    "########################### BLANK #################################"
   ]
  },
  {
   "cell_type": "code",
   "execution_count": 26,
   "metadata": {},
   "outputs": [],
   "source": [
    "### discard() method ### removes a specified element from the set if present\n",
    "#This method returns None (meaning, absence of a return value)."
   ]
  },
  {
   "cell_type": "code",
   "execution_count": 27,
   "metadata": {},
   "outputs": [
    {
     "name": "stdout",
     "output_type": "stream",
     "text": [
      "{'Hindi', 'Tamil', 'German'}\n"
     ]
    }
   ],
   "source": [
    "first_language = {'English', 'Tamil', 'Hindi', 'German'}\n",
    "first_language.discard('English')\n",
    "print(first_language)"
   ]
  },
  {
   "cell_type": "code",
   "execution_count": 28,
   "metadata": {},
   "outputs": [],
   "source": [
    "########################### BLANK #################################"
   ]
  },
  {
   "cell_type": "code",
   "execution_count": 29,
   "metadata": {},
   "outputs": [],
   "source": [
    "### intersect() method ### returns a new set with elements that are common to both the sets\n",
    "# Syntax: A.intersection(*other_sets)"
   ]
  },
  {
   "cell_type": "code",
   "execution_count": 30,
   "metadata": {},
   "outputs": [
    {
     "name": "stdout",
     "output_type": "stream",
     "text": [
      "{'English'}\n"
     ]
    }
   ],
   "source": [
    "first_language = {'English', 'Tamil', 'Hindi', 'German'}\n",
    "second_language = {'English', 'Japanse'}\n",
    "third_language = {'English', 'Tamil', 'Japanese'}\n",
    "\n",
    "print(first_language.intersection(second_language, third_language))"
   ]
  },
  {
   "cell_type": "code",
   "execution_count": 31,
   "metadata": {},
   "outputs": [
    {
     "name": "stdout",
     "output_type": "stream",
     "text": [
      "{'English'}\n"
     ]
    }
   ],
   "source": [
    "# Set intersection using & operator\n",
    "first_language = {'English', 'Tamil', 'Hindi', 'German'}\n",
    "second_language = {'English', 'Japanse'}\n",
    "\n",
    "print(first_language & second_language)"
   ]
  },
  {
   "cell_type": "code",
   "execution_count": 32,
   "metadata": {},
   "outputs": [],
   "source": [
    "########################### BLANK #################################"
   ]
  },
  {
   "cell_type": "code",
   "execution_count": null,
   "metadata": {},
   "outputs": [],
   "source": [
    "### intersection_update() method ### \n",
    "# suppose \"result = A.intersection_update(B, C)\"\n",
    "\"\"\"\n",
    "result will be None\n",
    "A will be equal to the intersection of A, B and C\n",
    "B remains unchanged\n",
    "Cremains unchanged\n",
    "\n",
    "\"\"\""
   ]
  },
  {
   "cell_type": "code",
   "execution_count": 3,
   "metadata": {
    "ExecuteTime": {
     "end_time": "2024-02-26T17:16:14.622355Z",
     "start_time": "2024-02-26T17:16:14.614351Z"
    }
   },
   "outputs": [
    {
     "name": "stdout",
     "output_type": "stream",
     "text": [
      "None\n",
      "{'English'}\n"
     ]
    }
   ],
   "source": [
    "first_language = {'English', 'Tamil', 'Hindi', 'German'}\n",
    "second_language = {'English', 'Japanse'}\n",
    "third_language = {'English', 'Tamil', 'Japanese'}\n",
    "\n",
    "result = first_language.intersection_update(second_language, third_language)\n",
    "print(result)\n",
    "print(first_language)"
   ]
  },
  {
   "cell_type": "code",
   "execution_count": 34,
   "metadata": {},
   "outputs": [],
   "source": [
    "########################### BLANK #################################"
   ]
  },
  {
   "cell_type": "code",
   "execution_count": 35,
   "metadata": {},
   "outputs": [],
   "source": [
    "### isdisjoint() method ### returns True if two sets are disjoint sets else returns Flase\n",
    "#Two sets are said to be disjoint sets if they have no common elements.\n",
    "#You can also pass an iterable (list, tuple, dictionary and string) to disjoint(). The isdisjoint() method will automatically convert iterables to set and checks whether the sets are disjoint or not."
   ]
  },
  {
   "cell_type": "code",
   "execution_count": 36,
   "metadata": {},
   "outputs": [
    {
     "name": "stdout",
     "output_type": "stream",
     "text": [
      "False\n",
      "True\n"
     ]
    }
   ],
   "source": [
    "first_language = {'English', 'Tamil', 'Hindi', 'German'}\n",
    "second_language = {'English', 'Japanse'}\n",
    "third_language = {'C++', 'Python', 'Java'}\n",
    "\n",
    "print(first_language.isdisjoint(second_language))\n",
    "print(first_language.isdisjoint(third_language))"
   ]
  },
  {
   "cell_type": "code",
   "execution_count": 37,
   "metadata": {},
   "outputs": [
    {
     "name": "stdout",
     "output_type": "stream",
     "text": [
      "False\n",
      "True\n"
     ]
    }
   ],
   "source": [
    "#isdisjoint() with other Iterables as arguments\n",
    "first_language_set = {'English', 'Tamil', 'Hindi', 'German'}\n",
    "second_language_list = {'English', 'Japanse'}\n",
    "third_language_tuple = {'C++', 'Python', 'Java'}\n",
    "print(first_language_set.isdisjoint(second_language_list))\n",
    "print(first_language_set.isdisjoint(third_language_tuple))"
   ]
  },
  {
   "cell_type": "code",
   "execution_count": 38,
   "metadata": {},
   "outputs": [],
   "source": [
    "########################### BLANK #################################"
   ]
  },
  {
   "cell_type": "code",
   "execution_count": 39,
   "metadata": {},
   "outputs": [
    {
     "name": "stdout",
     "output_type": "stream",
     "text": [
      "True\n"
     ]
    }
   ],
   "source": [
    "### issubset() method ### returns True if the set is subset of another set . Else returns False\n",
    "first_language = {'English', 'Tamil'}\n",
    "second_language = {'English', 'Tamil', 'Hindi', 'German'}\n",
    "print(first_language.issubset(second_language))"
   ]
  },
  {
   "cell_type": "code",
   "execution_count": 40,
   "metadata": {},
   "outputs": [],
   "source": [
    "########################### BLANK #################################"
   ]
  },
  {
   "cell_type": "code",
   "execution_count": 41,
   "metadata": {},
   "outputs": [],
   "source": [
    "### issubset() method ### returns True if the set is superset of another set . Else returns False"
   ]
  },
  {
   "cell_type": "code",
   "execution_count": 43,
   "metadata": {},
   "outputs": [
    {
     "name": "stdout",
     "output_type": "stream",
     "text": [
      "True\n"
     ]
    }
   ],
   "source": [
    "second_language = {'English', 'Tamil'}\n",
    "first_language = {'English', 'Tamil', 'Hindi', 'German'}\n",
    "print(first_language.issuperset(second_language))"
   ]
  },
  {
   "cell_type": "code",
   "execution_count": 44,
   "metadata": {},
   "outputs": [],
   "source": [
    "########################### BLANK #################################"
   ]
  },
  {
   "cell_type": "code",
   "execution_count": 45,
   "metadata": {},
   "outputs": [],
   "source": [
    "### pop() method ### removes and element from the set and returns it\n",
    "# The pop() method returns an arbitrary (random) element from the set. Also, the set is updated and will not contain the element (which is returned)."
   ]
  },
  {
   "cell_type": "code",
   "execution_count": 46,
   "metadata": {},
   "outputs": [
    {
     "name": "stdout",
     "output_type": "stream",
     "text": [
      "Hindi\n",
      "{'Tamil', 'English', 'German'}\n"
     ]
    }
   ],
   "source": [
    "first_language = {'English', 'Tamil', 'Hindi', 'German'}\n",
    "print(first_language.pop())\n",
    "print(first_language)"
   ]
  },
  {
   "cell_type": "code",
   "execution_count": 47,
   "metadata": {},
   "outputs": [],
   "source": [
    "########################### BLANK #################################"
   ]
  },
  {
   "cell_type": "code",
   "execution_count": 48,
   "metadata": {},
   "outputs": [],
   "source": [
    "### symmetric_difference() ### returns a new set which is the symmetric difference of two sets\n",
    "#The symmetric difference of two sets A and B is the set of elements which are in either of the sets A or B but not in both."
   ]
  },
  {
   "cell_type": "code",
   "execution_count": 49,
   "metadata": {},
   "outputs": [
    {
     "name": "stdout",
     "output_type": "stream",
     "text": [
      "{'Hindi', 'German', 'Japanese'}\n"
     ]
    }
   ],
   "source": [
    "first_language = {'English', 'Tamil', 'Hindi', 'German'}\n",
    "second_language = {'English', 'Tamil', 'Japanese'}\n",
    "print(first_language.symmetric_difference(second_language))"
   ]
  },
  {
   "cell_type": "code",
   "execution_count": 50,
   "metadata": {},
   "outputs": [
    {
     "name": "stdout",
     "output_type": "stream",
     "text": [
      "{'Hindi', 'German', 'Japanese'}\n"
     ]
    }
   ],
   "source": [
    "#Symmetric_difference using ^ operator\n",
    "print(first_language ^ second_language)"
   ]
  },
  {
   "cell_type": "code",
   "execution_count": 51,
   "metadata": {},
   "outputs": [],
   "source": [
    "########################### BLANK #################################"
   ]
  },
  {
   "cell_type": "code",
   "execution_count": 52,
   "metadata": {},
   "outputs": [],
   "source": [
    "### symmetric_difference_update() method ### \n",
    "#This method returns None (meaning, absence of a return value). It only updates the set calling symmetric_difference_update() method (set A) with the symmetric difference of sets (A and B)."
   ]
  },
  {
   "cell_type": "code",
   "execution_count": 54,
   "metadata": {},
   "outputs": [
    {
     "name": "stdout",
     "output_type": "stream",
     "text": [
      "{'Hindi', 'German', 'Japanese'}\n"
     ]
    }
   ],
   "source": [
    "first_language = {'English', 'Tamil', 'Hindi', 'German'}\n",
    "second_language = {'English', 'Tamil', 'Japanese'}\n",
    "first_language.symmetric_difference_update(second_language)\n",
    "print(first_language)"
   ]
  },
  {
   "cell_type": "code",
   "execution_count": 55,
   "metadata": {},
   "outputs": [],
   "source": [
    "########################### BLANK #################################"
   ]
  },
  {
   "cell_type": "code",
   "execution_count": 56,
   "metadata": {},
   "outputs": [
    {
     "name": "stdout",
     "output_type": "stream",
     "text": [
      "{'Hindi', 'Java', 'python', 'Tamil', 'English', 'German', 'Japanese'}\n"
     ]
    }
   ],
   "source": [
    "### union() method ### returns a new set with distinct elements from all the sets.\n",
    "first_language = {'English', 'Tamil', 'Hindi', 'German'}\n",
    "second_language = {'English', 'Tamil', 'Japanese'}\n",
    "third_language = {'python', 'English', \"Java\"}\n",
    "print(first_language.union(second_language, third_language))"
   ]
  },
  {
   "cell_type": "code",
   "execution_count": 57,
   "metadata": {},
   "outputs": [
    {
     "name": "stdout",
     "output_type": "stream",
     "text": [
      "{'Hindi', 'Java', 'python', 'Tamil', 'English', 'German', 'Japanese'}\n"
     ]
    }
   ],
   "source": [
    "# union using | operator\n",
    "print(first_language|second_language|third_language)"
   ]
  },
  {
   "cell_type": "code",
   "execution_count": 58,
   "metadata": {},
   "outputs": [],
   "source": [
    "########################### BLANK #################################"
   ]
  },
  {
   "cell_type": "code",
   "execution_count": 59,
   "metadata": {},
   "outputs": [],
   "source": [
    "### update() method ### adds elements from a set (passed as an argument) to the set (calling the update() method)\n",
    "#If you need to add elements of other native datatypes (like tuple, list, dictionary etc.) to the set, you can simply use:set.update(list)"
   ]
  },
  {
   "cell_type": "code",
   "execution_count": 60,
   "metadata": {},
   "outputs": [
    {
     "name": "stdout",
     "output_type": "stream",
     "text": [
      "{'Hindi', 'Tamil', 'English', 'German', 'Japanese'}\n"
     ]
    }
   ],
   "source": [
    "first_language = {'English', 'Tamil', 'Hindi', 'German'}\n",
    "second_language = {'English', 'Tamil', 'Japanese'}\n",
    "first_language.update(second_language)\n",
    "print(first_language)"
   ]
  },
  {
   "cell_type": "code",
   "execution_count": 70,
   "metadata": {},
   "outputs": [
    {
     "name": "stdout",
     "output_type": "stream",
     "text": [
      "{1, 2, 'u', 'n', 'a', 'k'}\n",
      "{1, 2, 'name', 'age'}\n"
     ]
    }
   ],
   "source": [
    "# Adding elements of String and Dictionary to Set\n",
    "string_alphabet = \"kanu\"\n",
    "number_set = {1,2}\n",
    "number_set.update(string_alphabet)\n",
    "print(number_set)\n",
    "dictionary = {'name': 'kanu', 'age': 2}\n",
    "number_set = {1,2}\n",
    "number_set.update(dictionary)\n",
    "print(number_set)"
   ]
  }
 ],
 "metadata": {
  "kernelspec": {
   "display_name": "Python 3",
   "language": "python",
   "name": "python3"
  },
  "language_info": {
   "codemirror_mode": {
    "name": "ipython",
    "version": 3
   },
   "file_extension": ".py",
   "mimetype": "text/x-python",
   "name": "python",
   "nbconvert_exporter": "python",
   "pygments_lexer": "ipython3",
   "version": "3.6.1"
  }
 },
 "nbformat": 4,
 "nbformat_minor": 2
}
