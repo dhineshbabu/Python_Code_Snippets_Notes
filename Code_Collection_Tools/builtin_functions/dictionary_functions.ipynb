{
 "cells": [
  {
   "cell_type": "code",
   "execution_count": 1,
   "metadata": {},
   "outputs": [],
   "source": [
    "####################### BLANK ################################"
   ]
  },
  {
   "cell_type": "code",
   "execution_count": 2,
   "metadata": {},
   "outputs": [],
   "source": [
    "### clear() method ### removes all the items from the dictionary. Modifies original dictionary "
   ]
  },
  {
   "cell_type": "code",
   "execution_count": 4,
   "metadata": {},
   "outputs": [
    {
     "name": "stdout",
     "output_type": "stream",
     "text": [
      "{1: 'one', 2: 'two'}\n",
      "{}\n"
     ]
    }
   ],
   "source": [
    "d = {1: 'one', 2: 'two'}\n",
    "print(d)\n",
    "d.clear()\n",
    "print(d)"
   ]
  },
  {
   "cell_type": "code",
   "execution_count": 5,
   "metadata": {},
   "outputs": [],
   "source": [
    "# However there is a difference between clear() method and assigning a variable to the {} braces when there is aother variable referencing the dictionary"
   ]
  },
  {
   "cell_type": "code",
   "execution_count": 7,
   "metadata": {},
   "outputs": [
    {
     "name": "stdout",
     "output_type": "stream",
     "text": [
      "Removing using clear() method\n",
      "d =  {}\n",
      "d1 =  {}\n",
      "Removing using clear() method\n",
      "d =  {}\n",
      "d1 =  {1: 'one', 2: 'two'}\n"
     ]
    }
   ],
   "source": [
    "d = {1: 'one', 2:'two'}\n",
    "d1 = d\n",
    "d.clear()\n",
    "print('Removing using clear() method')\n",
    "print('d = ', d)\n",
    "print('d1 = ', d1)\n",
    "\n",
    "d = {1: 'one', 2:'two'}\n",
    "d1 = d\n",
    "d = {}\n",
    "print('Removing by assigning to {} method')\n",
    "print('d = ', d)\n",
    "print('d1 = ', d1)"
   ]
  },
  {
   "cell_type": "code",
   "execution_count": 8,
   "metadata": {},
   "outputs": [],
   "source": [
    "####################### BLANK ################################"
   ]
  },
  {
   "cell_type": "code",
   "execution_count": 9,
   "metadata": {},
   "outputs": [],
   "source": [
    "### copy() method ### returns a shallow copy of the dictionary"
   ]
  },
  {
   "cell_type": "code",
   "execution_count": 12,
   "metadata": {},
   "outputs": [
    {
     "name": "stdout",
     "output_type": "stream",
     "text": [
      "Original  {1: 'one', 2: 'two'}\n",
      "new  {1: 'one', 2: 'two'}\n"
     ]
    }
   ],
   "source": [
    "original = {1: 'one', 2: 'two'}\n",
    "new = original.copy()\n",
    "print('Original ', original)\n",
    "print('new ', new)"
   ]
  },
  {
   "cell_type": "code",
   "execution_count": 15,
   "metadata": {},
   "outputs": [
    {
     "name": "stdout",
     "output_type": "stream",
     "text": [
      "new  {}\n",
      "original  {}\n"
     ]
    }
   ],
   "source": [
    "# when the = operator is used, a new reference to the original dictionary is created but not the new one\n",
    "\n",
    "original = {1: \"one\"}\n",
    "new = original\n",
    "\n",
    "new.clear() #this will clear original as well\n",
    "print('new ', new)\n",
    "print('original ', original)"
   ]
  },
  {
   "cell_type": "code",
   "execution_count": null,
   "metadata": {},
   "outputs": [],
   "source": [
    "####################### BLANK ################################"
   ]
  },
  {
   "cell_type": "code",
   "execution_count": 16,
   "metadata": {},
   "outputs": [],
   "source": [
    "### fromkeys() method ###  creates a new dictionary from the given sequence of elements with a value provided by the user\n",
    "# syntax: dictionary.fromkeys(sequence[, value])"
   ]
  },
  {
   "cell_type": "code",
   "execution_count": 18,
   "metadata": {},
   "outputs": [
    {
     "name": "stdout",
     "output_type": "stream",
     "text": [
      "{'o': None, 'u': None, 'a': None, 'e': None, 'i': None}\n",
      "{'o': 'new value', 'u': 'new value', 'a': 'new value', 'e': 'new value', 'i': 'new value'}\n"
     ]
    }
   ],
   "source": [
    "keys = {'a', 'e', 'i', 'o', 'u'}\n",
    "\n",
    "vowels = dict.fromkeys(keys)\n",
    "print(vowels)\n",
    "vowels = dict.fromkeys(keys, 'new value')\n",
    "print(vowels)"
   ]
  },
  {
   "cell_type": "code",
   "execution_count": 21,
   "metadata": {},
   "outputs": [
    {
     "name": "stdout",
     "output_type": "stream",
     "text": [
      "{'o': [1, 2], 'u': [1, 2], 'a': [1, 2], 'e': [1, 2], 'i': [1, 2]}\n",
      "{'o': [1, 2, 'dhinesh'], 'u': [1, 2, 'dhinesh'], 'a': [1, 2, 'dhinesh'], 'e': [1, 2, 'dhinesh'], 'i': [1, 2, 'dhinesh']}\n"
     ]
    }
   ],
   "source": [
    "# Create a dictionary from mutable object list\n",
    "keys = {'a', 'e', 'i', 'o', 'u'}\n",
    "value=[1,2]\n",
    "vowels = dict.fromkeys(keys, value)\n",
    "print(vowels)\n",
    "value.append('dhinesh')\n",
    "print(vowels)\n",
    "#If the provided value is a mutable object (whose value can be modified) like list, dictionary, etc., when the mutable object is modified, each element of the sequence also gets updated."
   ]
  },
  {
   "cell_type": "code",
   "execution_count": 23,
   "metadata": {},
   "outputs": [
    {
     "name": "stdout",
     "output_type": "stream",
     "text": [
      "{'o': [1], 'u': [1], 'a': [1], 'e': [1], 'i': [1]}\n",
      "{'o': [1], 'u': [1], 'a': [1], 'e': [1], 'i': [1]}\n"
     ]
    }
   ],
   "source": [
    "# use dictionary comprehension to avoid refernces\n",
    "keys = {'a', 'e', 'i', 'o', 'u'}\n",
    "value = [1]\n",
    "\n",
    "vowels = {key: list(value) for key in keys}\n",
    "print(vowels)\n",
    "\n",
    "#updating the value\n",
    "value.append(4)\n",
    "print(vowels)"
   ]
  },
  {
   "cell_type": "code",
   "execution_count": 24,
   "metadata": {},
   "outputs": [],
   "source": [
    "####################### BLANK ################################"
   ]
  },
  {
   "cell_type": "code",
   "execution_count": 25,
   "metadata": {},
   "outputs": [],
   "source": [
    "### get() method ### returns the value for the specified key if key is in dictionary\n",
    "#dict.get(key[, value])  => where value to be returned if no key is found. Default value is None"
   ]
  },
  {
   "cell_type": "code",
   "execution_count": 28,
   "metadata": {},
   "outputs": [
    {
     "name": "stdout",
     "output_type": "stream",
     "text": [
      "dhinesh\n",
      "No such key is available\n"
     ]
    }
   ],
   "source": [
    "person = {'name':'dhinesh', 'age': 22}\n",
    "\n",
    "print(person.get('name'))\n",
    "\n",
    "print(person.get('java', \"No such key is available\"))"
   ]
  },
  {
   "cell_type": "code",
   "execution_count": 30,
   "metadata": {},
   "outputs": [
    {
     "ename": "KeyError",
     "evalue": "'java'",
     "output_type": "error",
     "traceback": [
      "\u001b[1;31m---------------------------------------------------------------------------\u001b[0m",
      "\u001b[1;31mKeyError\u001b[0m                                  Traceback (most recent call last)",
      "\u001b[1;32m<ipython-input-30-a5e0a53bb7b6>\u001b[0m in \u001b[0;36m<module>\u001b[1;34m()\u001b[0m\n\u001b[0;32m      3\u001b[0m \u001b[1;31m#However, if the key is not found when you use dict[key], KeyError exception is raised.\u001b[0m\u001b[1;33m\u001b[0m\u001b[1;33m\u001b[0m\u001b[0m\n\u001b[0;32m      4\u001b[0m \u001b[1;33m\u001b[0m\u001b[0m\n\u001b[1;32m----> 5\u001b[1;33m \u001b[0mprint\u001b[0m\u001b[1;33m(\u001b[0m\u001b[0mperson\u001b[0m\u001b[1;33m[\u001b[0m\u001b[1;34m'java'\u001b[0m\u001b[1;33m]\u001b[0m\u001b[1;33m)\u001b[0m\u001b[1;33m\u001b[0m\u001b[0m\n\u001b[0m",
      "\u001b[1;31mKeyError\u001b[0m: 'java'"
     ]
    }
   ],
   "source": [
    "#Python get() method Vs dict[key] to Access Elements\n",
    "#The get() method returns a default value if the key is missing.\n",
    "#However, if the key is not found when you use dict[key], KeyError exception is raised.\n",
    "\n",
    "print(person['java'])"
   ]
  },
  {
   "cell_type": "code",
   "execution_count": 31,
   "metadata": {},
   "outputs": [],
   "source": [
    "####################### BLANK ################################"
   ]
  },
  {
   "cell_type": "code",
   "execution_count": 32,
   "metadata": {},
   "outputs": [],
   "source": [
    "### items() method ### returns a view object that displays a list of dictionary's (key, value) tuple pairs"
   ]
  },
  {
   "cell_type": "code",
   "execution_count": 33,
   "metadata": {},
   "outputs": [
    {
     "name": "stdout",
     "output_type": "stream",
     "text": [
      "dict_items([('apple', 10), ('orange', 30), ('grapes', 40)])\n"
     ]
    }
   ],
   "source": [
    "sales = {'apple': 10, 'orange': 30, 'grapes': 40}\n",
    "print(sales.items())"
   ]
  },
  {
   "cell_type": "code",
   "execution_count": 35,
   "metadata": {},
   "outputs": [
    {
     "name": "stdout",
     "output_type": "stream",
     "text": [
      "before change dict_items([('apple', 10), ('orange', 30), ('grapes', 40)])\n",
      "after change  dict_items([('orange', 30), ('grapes', 40)])\n"
     ]
    }
   ],
   "source": [
    "#The view object items doesn't itself return a list of sales items but it returns a view of sales's (key, value) pair.\n",
    "#If the list is updated at any time, the changes are reflected on to the view object itself, as shown in the above program.\n",
    "\n",
    "sample_dict = {'apple': 10, 'orange': 30, 'grapes': 40}\n",
    "\n",
    "items = sample_dict.items()\n",
    "print('before change', items)\n",
    "\n",
    "#deleting a value\n",
    "del[sample_dict['apple']]\n",
    "\n",
    "print('after change ', items)"
   ]
  },
  {
   "cell_type": "code",
   "execution_count": 36,
   "metadata": {},
   "outputs": [],
   "source": [
    "####################### BLANK ################################"
   ]
  },
  {
   "cell_type": "code",
   "execution_count": 37,
   "metadata": {},
   "outputs": [],
   "source": [
    "### keys() method ### returns a view object that displays a list of all the keys in the dictionary\n",
    "#When the dictionary is changed, the view object also reflect these changes."
   ]
  },
  {
   "cell_type": "code",
   "execution_count": 38,
   "metadata": {},
   "outputs": [
    {
     "name": "stdout",
     "output_type": "stream",
     "text": [
      "dict_keys(['apple', 'orange', 'grapes'])\n"
     ]
    }
   ],
   "source": [
    "sample_dict = {'apple': 10, 'orange': 30, 'grapes': 40}\n",
    "print(sample_dict.keys())"
   ]
  },
  {
   "cell_type": "code",
   "execution_count": 39,
   "metadata": {},
   "outputs": [],
   "source": [
    "####################### BLANK ################################"
   ]
  },
  {
   "cell_type": "code",
   "execution_count": 40,
   "metadata": {},
   "outputs": [],
   "source": [
    "### popitem() method ### returns and removes an arbitrary element(key, value) pair from the dictionary"
   ]
  },
  {
   "cell_type": "code",
   "execution_count": 43,
   "metadata": {},
   "outputs": [
    {
     "name": "stdout",
     "output_type": "stream",
     "text": [
      "('grapes', 40)\n"
     ]
    }
   ],
   "source": [
    "sample_dict = {'apple': 10, 'orange': 30, 'grapes': 40}\n",
    "removed_value = sample_dict.popitem()\n",
    "print(removed_value)"
   ]
  },
  {
   "cell_type": "code",
   "execution_count": 44,
   "metadata": {},
   "outputs": [],
   "source": [
    "####################### BLANK ################################"
   ]
  },
  {
   "cell_type": "code",
   "execution_count": 45,
   "metadata": {},
   "outputs": [],
   "source": [
    "### setdefault() method ### returns the value of a key (if key is available) else it inserts key with a value to the dictionary\n",
    "#if value is not provided it will be set to None"
   ]
  },
  {
   "cell_type": "code",
   "execution_count": 48,
   "metadata": {},
   "outputs": [
    {
     "name": "stdout",
     "output_type": "stream",
     "text": [
      "30\n"
     ]
    }
   ],
   "source": [
    "sample_dict = {'apple': 10, 'orange': 30, 'grapes': 40}\n",
    "apples = sample_dict.setdefault('orange')\n",
    "print(apples)"
   ]
  },
  {
   "cell_type": "code",
   "execution_count": 49,
   "metadata": {},
   "outputs": [
    {
     "name": "stdout",
     "output_type": "stream",
     "text": [
      "{'apple': 10, 'orange': 30, 'grapes': 40, 'banana': 50}\n"
     ]
    }
   ],
   "source": [
    "#inserting an unavailable item\n",
    "bananas = sample_dict.setdefault('banana', 50)\n",
    "print(sample_dict)"
   ]
  },
  {
   "cell_type": "code",
   "execution_count": 50,
   "metadata": {},
   "outputs": [],
   "source": [
    "####################### BLANK ################################"
   ]
  },
  {
   "cell_type": "code",
   "execution_count": 51,
   "metadata": {},
   "outputs": [],
   "source": [
    "### pop() method ### removes and returns an element from a dictionary having the given key\n",
    "\"\"\"\n",
    "If key is found - removed/popped element from the dictionary\n",
    "If key is not found - value specified as the second argument (default)\n",
    "If key is not found and default argument is not specified - KeyError exception is raised\n",
    "\"\"\""
   ]
  },
  {
   "cell_type": "code",
   "execution_count": 54,
   "metadata": {},
   "outputs": [
    {
     "name": "stdout",
     "output_type": "stream",
     "text": [
      "{'apple': 10, 'grapes': 40}\n",
      "Value of the removed item  30\n"
     ]
    }
   ],
   "source": [
    "fruits = {'apple': 10, 'orange': 30, 'grapes': 40}\n",
    "element = fruits.pop('orange')\n",
    "print(fruits)\n",
    "print('Value of the removed item ', element)"
   ]
  },
  {
   "cell_type": "code",
   "execution_count": 56,
   "metadata": {},
   "outputs": [
    {
     "ename": "KeyError",
     "evalue": "'guava'",
     "output_type": "error",
     "traceback": [
      "\u001b[1;31m---------------------------------------------------------------------------\u001b[0m",
      "\u001b[1;31mKeyError\u001b[0m                                  Traceback (most recent call last)",
      "\u001b[1;32m<ipython-input-56-5018f26004f5>\u001b[0m in \u001b[0;36m<module>\u001b[1;34m()\u001b[0m\n\u001b[1;32m----> 1\u001b[1;33m \u001b[0msales\u001b[0m\u001b[1;33m.\u001b[0m\u001b[0mpop\u001b[0m\u001b[1;33m(\u001b[0m\u001b[1;34m'guava'\u001b[0m\u001b[1;33m)\u001b[0m\u001b[1;33m\u001b[0m\u001b[0m\n\u001b[0m",
      "\u001b[1;31mKeyError\u001b[0m: 'guava'"
     ]
    }
   ],
   "source": [
    "sales.pop('guava')"
   ]
  },
  {
   "cell_type": "code",
   "execution_count": 60,
   "metadata": {},
   "outputs": [
    {
     "name": "stdout",
     "output_type": "stream",
     "text": [
      "This items is not available\n"
     ]
    }
   ],
   "source": [
    "#providing default value the item if the key is not available\n",
    "fruits = {'apple': 10, 'orange': 30, 'grapes': 40}\n",
    "element = fruits.pop('banana', 'This items is not available')\n",
    "print(element)"
   ]
  },
  {
   "cell_type": "code",
   "execution_count": 61,
   "metadata": {},
   "outputs": [],
   "source": [
    "####################### BLANK ################################"
   ]
  },
  {
   "cell_type": "code",
   "execution_count": 62,
   "metadata": {},
   "outputs": [],
   "source": [
    "### values() method ### returns a view object that displays a list of all the values in the dictionary"
   ]
  },
  {
   "cell_type": "code",
   "execution_count": 64,
   "metadata": {},
   "outputs": [
    {
     "name": "stdout",
     "output_type": "stream",
     "text": [
      "dict_values([10, 30, 40])\n"
     ]
    }
   ],
   "source": [
    "fruits = {'apple': 10, 'orange': 30, 'grapes': 40}\n",
    "print(fruits.values())"
   ]
  },
  {
   "cell_type": "code",
   "execution_count": 65,
   "metadata": {},
   "outputs": [
    {
     "name": "stdout",
     "output_type": "stream",
     "text": [
      "dict_values([10, 30, 40])\n",
      "dict_values([30, 40])\n"
     ]
    }
   ],
   "source": [
    "#how values() method works when dictionary is modified\n",
    "fruits = {'apple': 10, 'orange': 30, 'grapes': 40}\n",
    "value = fruits.values()\n",
    "print(value)\n",
    "\n",
    "#change the dicr\n",
    "del(fruits['apple'])\n",
    "print(value)"
   ]
  },
  {
   "cell_type": "code",
   "execution_count": 66,
   "metadata": {},
   "outputs": [],
   "source": [
    "####################### BLANK ################################"
   ]
  },
  {
   "cell_type": "code",
   "execution_count": 67,
   "metadata": {},
   "outputs": [],
   "source": [
    "### update() method ### updates the dictionary with elements from another dictionary or from an iterable of key value pairs\n",
    "#The update() method adds element(s) to the dictionary if the key is not in the dictionary. If the key is in the dictionary, it updates the key with the new value.\n"
   ]
  },
  {
   "cell_type": "code",
   "execution_count": 69,
   "metadata": {},
   "outputs": [
    {
     "name": "stdout",
     "output_type": "stream",
     "text": [
      "{'apple': 80, 'orange': 30, 'grapes': 40}\n",
      "{'apple': 80, 'orange': 30, 'grapes': 40, 'banana': 80}\n"
     ]
    }
   ],
   "source": [
    "fruits = {'apple': 10, 'orange': 30, 'grapes': 40}\n",
    "d = {'apple': 80 }\n",
    "#updating with another dictionary( Here 'd')\n",
    "fruits.update(d)\n",
    "print(fruits)\n",
    "\n",
    "d = {'banana': 80 }\n",
    "#adding to the dictionary if key is not available\n",
    "fruits.update(d)\n",
    "print(fruits)"
   ]
  },
  {
   "cell_type": "code",
   "execution_count": 70,
   "metadata": {},
   "outputs": [
    {
     "name": "stdout",
     "output_type": "stream",
     "text": [
      "{'name': 'Dhinesh Markets', 'apple': 1, 'banana': 10}\n"
     ]
    }
   ],
   "source": [
    "# updating a dictionary with an iterable\n",
    "d = {'name': 'Dhinesh Markets'}\n",
    "\n",
    "d.update(apple = 1, banana = 10)\n",
    "print(d)"
   ]
  },
  {
   "cell_type": "code",
   "execution_count": null,
   "metadata": {},
   "outputs": [],
   "source": []
  }
 ],
 "metadata": {
  "kernelspec": {
   "display_name": "Python 3",
   "language": "python",
   "name": "python3"
  },
  "language_info": {
   "codemirror_mode": {
    "name": "ipython",
    "version": 3
   },
   "file_extension": ".py",
   "mimetype": "text/x-python",
   "name": "python",
   "nbconvert_exporter": "python",
   "pygments_lexer": "ipython3",
   "version": "3.6.1"
  }
 },
 "nbformat": 4,
 "nbformat_minor": 2
}
