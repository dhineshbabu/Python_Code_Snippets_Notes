{
 "cells": [
  {
   "cell_type": "markdown",
   "source": [
    "### Classes"
   ],
   "metadata": {}
  },
  {
   "cell_type": "code",
   "execution_count": 2,
   "source": [
    " class Cat:\r\n",
    "    name = ''\r\n",
    "    age = 0\r\n",
    "    color = ''\r\n",
    "\r\n",
    "    def __init__(self, name, age = 0, color = 'white') -> None:\r\n",
    "        self.name = name\r\n",
    "        self.age = age\r\n",
    "        self.color = color\r\n",
    "        print(f'Constructor for {self.name}')\r\n",
    "\r\n",
    "    def meow(self):\r\n",
    "        print(f'{self.name} meow')\r\n",
    "\r\n",
    "    def sleep(self):\r\n",
    "        print(f'{self.name} zzz')\r\n",
    "\r\n",
    "    def hungry(self):\r\n",
    "        for x in range(5):\r\n",
    "            self.meow()\r\n",
    "\r\n",
    "    def eat(self):\r\n",
    "        print(f'{self.name} nom nom nom')\r\n",
    "\r\n",
    "    def description(self):\r\n",
    "        print(f'{self.name} is a {self.color} cat, who is {self.age} years old')\r\n",
    "\r\n"
   ],
   "outputs": [],
   "metadata": {}
  },
  {
   "cell_type": "code",
   "execution_count": 3,
   "source": [
    "# using the Cat class\r\n",
    "def test():\r\n",
    "    b = Cat('Kitakt', 2, 'tabby')\r\n",
    "    c = Cat('Othello', 6, 'black')\r\n",
    "    c.description()\r\n",
    "    b.description()\r\n",
    "\r\n",
    "    c.meow()\r\n",
    "    b.sleep()\r\n",
    "    c.hungry()\r\n",
    "    b.eat()\r\n",
    "\r\n",
    "test()"
   ],
   "outputs": [
    {
     "output_type": "stream",
     "name": "stdout",
     "text": [
      "Constructor for Kitakt\n",
      "Constructor for Othello\n",
      "Othello is a black cat, who is 6 years old\n",
      "Kitakt is a tabby cat, who is 2 years old\n",
      "Othello meow\n",
      "Kitakt zzz\n",
      "Othello meow\n",
      "Othello meow\n",
      "Othello meow\n",
      "Othello meow\n",
      "Othello meow\n",
      "Kitakt nom nom nom\n"
     ]
    }
   ],
   "metadata": {}
  },
  {
   "cell_type": "code",
   "execution_count": 11,
   "source": [
    "# Class Inheritance\r\n",
    "\r\n",
    "# Feline class\r\n",
    "class Feline:\r\n",
    "    def __init__(self, name) -> None:\r\n",
    "        self.name = name\r\n",
    "        print('Creating Feline')\r\n",
    "\r\n",
    "    def meow(self):\r\n",
    "        print(f'{self.name} : Meow')\r\n",
    "\r\n",
    "    def setName(self, name):\r\n",
    "        print(f'{self} setting name: {name}')\r\n",
    "        self.name = name\r\n",
    "\r\n",
    "\r\n",
    "# Lion Class\r\n",
    "class Lion(Feline):\r\n",
    "    def roar(self):\r\n",
    "        print(f'{self.name}: roar')\r\n",
    "\r\n",
    "# Tiger Class\r\n",
    "class Tiger(Feline):\r\n",
    "    def __init__(self) -> None:\r\n",
    "        # Calling super class constructor to initiate the name variable\r\n",
    "        # Try to call the super class constructor. Donot override constructor in child class if not required\r\n",
    "        super().__init__('no name')\r\n",
    "        print('Creating Tiger')\r\n",
    "\r\n",
    "    def stalk(self):\r\n",
    "        print(f'{self.name}: Stalking')\r\n",
    "\r\n",
    "    def rename(self, name):\r\n",
    "        super().setName(name)\r\n",
    "        \r\n",
    "\r\n",
    "c = Feline('kitty')\r\n",
    "print(c)\r\n",
    "c.meow()\r\n",
    "\r\n",
    "l = Lion('Leo')\r\n",
    "print(l)\r\n",
    "l.meow() # inheriting this class from the super class\r\n",
    "l.roar() # this is lion class own function\r\n",
    "\r\n",
    "# Creating tiger class object\r\n",
    "t = Tiger()\r\n",
    "print(t)\r\n",
    "t.stalk()\r\n",
    "t.rename('Tony')\r\n",
    "t.meow()\r\n",
    "t.stalk()"
   ],
   "outputs": [
    {
     "output_type": "stream",
     "name": "stdout",
     "text": [
      "Creating Feline\n",
      "<__main__.Feline object at 0x0000029D3AA42640>\n",
      "kitty : Meow\n",
      "Creating Feline\n",
      "<__main__.Lion object at 0x0000029D3AA42430>\n",
      "Leo : Meow\n",
      "Leo: roar\n",
      "Creating Feline\n",
      "Creating Tiger\n",
      "<__main__.Tiger object at 0x0000029D3AA44280>\n",
      "no name: Stalking\n",
      "<__main__.Tiger object at 0x0000029D3AA44280> setting name: Tony\n",
      "Tony : Meow\n",
      "Tony: Stalking\n"
     ]
    }
   ],
   "metadata": {}
  },
  {
   "cell_type": "code",
   "execution_count": 20,
   "source": [
    "#### Multiple inheritance #### \r\n",
    "\r\n",
    "# Vehicle class\r\n",
    "class Vehicle:\r\n",
    "    speed = 0\r\n",
    "    def drive(self, speed):\r\n",
    "        self.speed = speed\r\n",
    "        print('Driving')\r\n",
    "\r\n",
    "    def stop(self):\r\n",
    "        self.speed = 0\r\n",
    "        print('Stopped')\r\n",
    "\r\n",
    "    def display(self):\r\n",
    "        print(f'Driving at {self.speed} speed')\r\n",
    "\r\n",
    "# Freezer class\r\n",
    "class Freezer:\r\n",
    "    temp = 0\r\n",
    "    \r\n",
    "    def freeze(self, temp):\r\n",
    "        self.temp = temp\r\n",
    "        print('Freezing')\r\n",
    "\r\n",
    "    def display(self):\r\n",
    "        print(f'Freezing at {self.temp} temp')\r\n",
    "\r\n",
    "\r\n",
    "# Inherting from both the classes\r\n",
    "class FreezerTruck(Vehicle, Freezer):\r\n",
    "    def display(self):\r\n",
    "        print(f'Is a freezzer: {issubclass(FreezerTruck, Freezer)}')\r\n",
    "        print(f'Is a freezzer: {issubclass(FreezerTruck, Vehicle)}')\r\n",
    "\r\n",
    "        # super(Vehicle, self).display()\r\n",
    "        # super(Freezer, self).display()\r\n",
    "\r\n",
    "        Freezer.display(self)\r\n",
    "        Vehicle.display(self)\r\n",
    "\r\n",
    "t = FreezerTruck()\r\n",
    "t.drive(50)\r\n",
    "t.freeze(-30)\r\n",
    "print('-'*20)\r\n",
    "t.display()"
   ],
   "outputs": [
    {
     "output_type": "stream",
     "name": "stdout",
     "text": [
      "Driving\n",
      "Freezing\n",
      "--------------------\n",
      "Is a freezzer: True\n",
      "Is a freezzer: True\n",
      "Freezing at -30 temp\n",
      "Driving at 50 speed\n"
     ]
    }
   ],
   "metadata": {}
  },
  {
   "cell_type": "code",
   "execution_count": null,
   "source": [],
   "outputs": [],
   "metadata": {}
  }
 ],
 "metadata": {
  "orig_nbformat": 4,
  "language_info": {
   "name": "python",
   "version": "3.9.6",
   "mimetype": "text/x-python",
   "codemirror_mode": {
    "name": "ipython",
    "version": 3
   },
   "pygments_lexer": "ipython3",
   "nbconvert_exporter": "python",
   "file_extension": ".py"
  },
  "kernelspec": {
   "name": "python3",
   "display_name": "Python 3.9.6 64-bit"
  },
  "interpreter": {
   "hash": "38740d3277777e2cd7c6c2cc9d8addf5118fdf3f82b1b39231fd12aeac8aee8b"
  }
 },
 "nbformat": 4,
 "nbformat_minor": 2
}