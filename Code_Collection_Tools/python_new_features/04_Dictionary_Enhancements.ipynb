{
 "cells": [
  {
   "cell_type": "code",
   "execution_count": 2,
   "source": [
    "############# Dictionary version enhancements ############"
   ],
   "outputs": [],
   "metadata": {}
  },
  {
   "cell_type": "code",
   "execution_count": 8,
   "source": [
    "# How to preserve insertion order in dictionary?\n",
    "# By using OrderedDict present in collections module until 3.6 version\n",
    "from collections import OrderedDict\n",
    "\n",
    "my_dict = OrderedDict()\n",
    "my_dict[1] = 'Dhinesh'\n",
    "my_dict[2] = 'Python'\n",
    "my_dict[3] = 'Programming'\n",
    "\n",
    "for k,v in my_dict.items():\n",
    "    print(k,'------->', v)"
   ],
   "outputs": [
    {
     "output_type": "stream",
     "name": "stdout",
     "text": [
      "1 -------> Dhinesh\n",
      "2 -------> Python\n",
      "3 -------> Programming\n"
     ]
    }
   ],
   "metadata": {}
  },
  {
   "cell_type": "code",
   "execution_count": null,
   "source": [
    "############# 3.7 version enhancements ############\n",
    "# Normal dict functionality is replaced with OrderDict. So insertion order will be preserved by default"
   ],
   "outputs": [],
   "metadata": {}
  },
  {
   "cell_type": "code",
   "execution_count": 6,
   "source": [
    "names_dict = {1: 'dhinesh', 2: 'Python', 3: 'Programming'}\n",
    "names_dict[2] = 'Golang'\n",
    "print(names_dict)"
   ],
   "outputs": [
    {
     "output_type": "stream",
     "name": "stdout",
     "text": [
      "{1: 'dhinesh', 2: 'Golang', 3: 'Programming'}\n"
     ]
    }
   ],
   "metadata": {}
  },
  {
   "cell_type": "code",
   "execution_count": 13,
   "source": [
    "############# 3.8 version enhancements ############\n",
    "# Until 3.7, we can not reverse a dictionary. We ill get type error\n",
    " \n",
    "# old method used\n",
    "source_dict = {1: 'dhinesh', 2: 'Python', 3: 'Programming'}\n",
    "keys = list(source_dict.keys())\n",
    "print('keys = ', keys)\n",
    "for key in reversed(keys):\n",
    "    print(key, \"----> \", source_dict[key])\n",
    "\n",
    "\n",
    "# From 3.8, we can apply reversed() function can be applied to dictionary also\n",
    "source_dict1 = {1: 'dhinesh', 2: 'Python', 3: 'Programming'}\n",
    "print(\"New reversec dictionary in python 3.8 \", reversed(source_dict1))\n",
    "for key, value in reversed(source_dict1.items()):\n",
    "    print(key,'-------->',value)"
   ],
   "outputs": [
    {
     "output_type": "stream",
     "name": "stdout",
     "text": [
      "keys =  [1, 2, 3]\n",
      "3 ---->  Programming\n",
      "2 ---->  Python\n",
      "1 ---->  dhinesh\n",
      "New reversec dictionary in python 3.8  <dict_reversekeyiterator object at 0x7fabd41ed310>\n",
      "3 --------> Programming\n",
      "2 --------> Python\n",
      "1 --------> dhinesh\n"
     ]
    }
   ],
   "metadata": {}
  },
  {
   "cell_type": "code",
   "execution_count": null,
   "source": [
    "############# 3.9 enhancements #############"
   ],
   "outputs": [],
   "metadata": {}
  },
  {
   "cell_type": "code",
   "execution_count": 16,
   "source": [
    "#### Merging 2 dictionary into single dictionary\n",
    "dict1 = {1: 'dhinesh', 2: 'Python', 3: 'Programming'}\n",
    "dict2 = {3: 'Coding', 4: 'Golang'} # keys from this dict wil be replaced in dict1 if there are duplicates\n",
    "\n",
    "# 1st way for merging\n",
    "merged_dict = {**dict1, **dict2}\n",
    "print(merged_dict)\n",
    "\n",
    "# 2nd method. Using cloned copy\n",
    "merged_dict = dict1.copy()\n",
    "for key, value in dict2.items():\n",
    "    merged_dict[key] = value\n",
    "print(merged_dict)\n",
    "\n",
    "# Python 3.9 version enhancement to Merge (also called union operation)\n",
    "merged_dict_new = dict1 | dict2\n",
    "print('This is from 3.9 enhancements: ', merged_dict_new)"
   ],
   "outputs": [
    {
     "output_type": "stream",
     "name": "stdout",
     "text": [
      "{1: 'dhinesh', 2: 'Python', 3: 'Coding', 4: 'Golang'}\n",
      "{1: 'dhinesh', 2: 'Python', 3: 'Coding', 4: 'Golang'}\n",
      "This is from 3.9 enhancements:  {1: 'dhinesh', 2: 'Python', 3: 'Coding', 4: 'Golang'}\n"
     ]
    }
   ],
   "metadata": {}
  },
  {
   "cell_type": "code",
   "execution_count": 18,
   "source": [
    "### How to update a dictionary with items of another dictionary (also called inline merge)\n",
    "\n",
    "dict1 = {1: 'dhinesh', 2: 'Python', 3: 'Programming'}\n",
    "dict2 = {3: 'Coding', 4: 'Golang'} \n",
    "\n",
    "# 1st method - old method\n",
    "dict1.update(dict2)\n",
    "print(dict1)\n",
    "\n",
    "# 3.9 version enhancement for inline merge\n",
    "\n",
    "dict1 |= dict2\n",
    "print(\"Inline merged --> \", dict1)"
   ],
   "outputs": [
    {
     "output_type": "stream",
     "name": "stdout",
     "text": [
      "{1: 'dhinesh', 2: 'Python', 3: 'Coding', 4: 'Golang'}\n",
      "Inline merged -->  {1: 'dhinesh', 2: 'Python', 3: 'Coding', 4: 'Golang'}\n"
     ]
    }
   ],
   "metadata": {}
  },
  {
   "cell_type": "code",
   "execution_count": null,
   "source": [],
   "outputs": [],
   "metadata": {}
  }
 ],
 "metadata": {
  "orig_nbformat": 4,
  "language_info": {
   "name": "python",
   "version": "3.9.6",
   "mimetype": "text/x-python",
   "codemirror_mode": {
    "name": "ipython",
    "version": 3
   },
   "pygments_lexer": "ipython3",
   "nbconvert_exporter": "python",
   "file_extension": ".py"
  },
  "kernelspec": {
   "name": "python3",
   "display_name": "Python 3.9"
  },
  "interpreter": {
   "hash": "36cf16204b8548560b1c020c4e8fb5b57f0e4c58016f52f2d4be01e192833930"
  }
 },
 "nbformat": 4,
 "nbformat_minor": 2
}