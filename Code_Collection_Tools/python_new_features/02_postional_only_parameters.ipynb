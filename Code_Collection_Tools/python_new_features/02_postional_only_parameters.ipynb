{
 "cells": [
  {
   "cell_type": "markdown",
   "source": [
    "## notes\n",
    "* Normal function parameters: (Existing features)\n",
    "    1. Positional arguments\n",
    "        * number of arguments and position must be matched\n",
    "    2. keyword arguments\n",
    "        * testfunc(a=10, b=20)\n",
    "        * Order is not important, but number of arguments must be matched\n",
    "        * We can use both positional and keyword arguments together, but postional arguments should come before keyword arguments\n",
    "    3. default arguments\n",
    "        * def testfun(a=0, b=0)\n",
    "        * default arguments must come after non-default arguments\n",
    "    4. Variable length arguments\n",
    "        * *args - will be collected as tuple\n",
    "        * **kwargs - will be collected as dictionary\n",
    "    5. KEYWORD ONLY PARAMTERS: After * , everything will be keyword only parameters\n",
    "        def testfunc(*,a,b):\n",
    "            print(a,b)\n",
    "\n",
    "* Enhancements:\n",
    "POSITIONAL ONLY ARGUMENTS:\n",
    "    * We should pass values only by positional only arguments\n",
    "    * symbol / will be used. All the parameters before / will become positional only parameters\n",
    "    * Introduced in python 3.8\n",
    "    * Advantages: \n",
    "        * Without affecting clients, it will allow us to change the parameter names in the functions\n",
    "        * While overriding in child class, names not required to be used if the child class does not have the methods and if it has to look for super class for the method\n",
    "        * While parsing and handling keyword arguments are slower than positional arguments so performance will be improved by using postional only parameters\n",
    "        * Some of the C functions being used by python inbuilt functions will take some time to convert keyword arguments to positional arguments"
   ],
   "metadata": {}
  },
  {
   "cell_type": "code",
   "execution_count": 4,
   "source": [
    "# KEYWORD ONLY PARAMTERS - Available from python 3.0 version\n",
    "def test_kwonlyparameters(*,a,b):\n",
    "    print(a,b)\n",
    "\n",
    "# testf_kwonlyparameters(10, 20) # This will give TypeError\n",
    "test_kwonlyparameters(a=10, b=20)"
   ],
   "outputs": [
    {
     "output_type": "stream",
     "name": "stdout",
     "text": [
      "10 20\n"
     ]
    }
   ],
   "metadata": {}
  },
  {
   "cell_type": "code",
   "execution_count": 6,
   "source": [
    "# another example for keyword only parameters\n",
    "def test_kwonlyparameters(a,*,c,d):\n",
    "    print(a,c,d)\n",
    "\n",
    "# Here a can be positional but c and d must be keyword arguments\n",
    "test_kwonlyparameters(10, c=20, d=20)"
   ],
   "outputs": [
    {
     "output_type": "stream",
     "name": "stdout",
     "text": [
      "10 20 20\n"
     ]
    }
   ],
   "metadata": {}
  },
  {
   "cell_type": "code",
   "execution_count": 8,
   "source": [
    "# keyword only parameters with default arguments\n",
    "def test2_kwonlyarguments(*, a=10, b= 20):\n",
    "    print(a, b)\n",
    "\n",
    "test2_kwonlyarguments(a=5)"
   ],
   "outputs": [
    {
     "output_type": "stream",
     "name": "stdout",
     "text": [
      "5 20\n"
     ]
    }
   ],
   "metadata": {}
  },
  {
   "cell_type": "code",
   "execution_count": 12,
   "source": [
    "# keyword only arguments can come after defaut arguments\n",
    "def test3_kwonlyarguments(*, a=10, b, c):\n",
    "    print(a, b, c)\n",
    "\n",
    "test3_kwonlyarguments(a=5, b=10, c=15)"
   ],
   "outputs": [
    {
     "output_type": "stream",
     "name": "stdout",
     "text": [
      "5 10 15\n"
     ]
    }
   ],
   "metadata": {}
  },
  {
   "cell_type": "code",
   "execution_count": 17,
   "source": [
    "# POSITIONAL ONLY PARAMETERS - we can not use keyword arguments only positional arguments can be used\n",
    "\n",
    "def test_positionalargs(a, b, /):\n",
    "    print(a, b)\n",
    "\n",
    "# test_positionalargs(a=10, b=10) # test_positionalargs() got some positional-only arguments passed as keyword arguments: 'a, b'\n",
    "\n",
    "test_positionalargs(10, 20)"
   ],
   "outputs": [
    {
     "output_type": "stream",
     "name": "stdout",
     "text": [
      "10 20\n"
     ]
    }
   ],
   "metadata": {}
  },
  {
   "cell_type": "code",
   "execution_count": 19,
   "source": [
    "# another variant of positional only paramters\n",
    "def test_positionalargs(a, b, /, c, d, *, e, f):\n",
    "    print(a, b, c, d, e, f)\n",
    "\n",
    "\n",
    "# a and b must be positional only parameters\n",
    "# c and d can be passed as either positional or keyword paramters\n",
    "# e and f must be keyword only parameters\n",
    "test_positionalargs(10, 20, 30 , d=40, e=50, f=60)"
   ],
   "outputs": [
    {
     "output_type": "stream",
     "name": "stdout",
     "text": [
      "10 20 30 40 50 60\n"
     ]
    }
   ],
   "metadata": {}
  },
  {
   "cell_type": "code",
   "execution_count": 20,
   "source": [
    "# tricky one\n",
    "def error_function(*, a, b, c, /): # This will give Syntax error\n",
    "    print(a,b,c)"
   ],
   "outputs": [
    {
     "output_type": "error",
     "ename": "SyntaxError",
     "evalue": "invalid syntax (163134620.py, line 2)",
     "traceback": [
      "\u001b[0;36m  File \u001b[0;32m\"/tmp/ipykernel_47460/163134620.py\"\u001b[0;36m, line \u001b[0;32m2\u001b[0m\n\u001b[0;31m    def error_function(*, a, b, c, /):\u001b[0m\n\u001b[0m                                   ^\u001b[0m\n\u001b[0;31mSyntaxError\u001b[0m\u001b[0;31m:\u001b[0m invalid syntax\n"
     ]
    }
   ],
   "metadata": {}
  },
  {
   "cell_type": "code",
   "execution_count": null,
   "source": [],
   "outputs": [],
   "metadata": {}
  }
 ],
 "metadata": {
  "orig_nbformat": 4,
  "language_info": {
   "name": "python",
   "version": "3.9.6",
   "mimetype": "text/x-python",
   "codemirror_mode": {
    "name": "ipython",
    "version": 3
   },
   "pygments_lexer": "ipython3",
   "nbconvert_exporter": "python",
   "file_extension": ".py"
  },
  "kernelspec": {
   "name": "python3",
   "display_name": "Python 3.9"
  },
  "interpreter": {
   "hash": "36cf16204b8548560b1c020c4e8fb5b57f0e4c58016f52f2d4be01e192833930"
  }
 },
 "nbformat": 4,
 "nbformat_minor": 2
}