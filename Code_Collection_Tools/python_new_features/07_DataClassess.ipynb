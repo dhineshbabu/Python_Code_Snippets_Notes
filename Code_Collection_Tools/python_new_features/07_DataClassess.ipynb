{
 "metadata": {
  "language_info": {
   "codemirror_mode": {
    "name": "ipython",
    "version": 3
   },
   "file_extension": ".py",
   "mimetype": "text/x-python",
   "name": "python",
   "nbconvert_exporter": "python",
   "pygments_lexer": "ipython3",
   "version": "3.9.6"
  },
  "orig_nbformat": 4,
  "kernelspec": {
   "name": "python3",
   "display_name": "Python 3.9.6 64-bit"
  },
  "interpreter": {
   "hash": "38740d3277777e2cd7c6c2cc9d8addf5118fdf3f82b1b39231fd12aeac8aee8b"
  }
 },
 "nbformat": 4,
 "nbformat_minor": 2,
 "cells": [
  {
   "source": [
    "## Data Classess\n",
    "\n",
    "#### Introduced in Python 3.7 (PEP 557)"
   ],
   "cell_type": "markdown",
   "metadata": {}
  },
  {
   "source": [
    "# Normal class\n",
    "\n",
    "class Employee:\n",
    "\n",
    "    def __init__(self, eno, ename, esal, eaddr):\n",
    "        self.eno = eno\n",
    "        self.ename = ename\n",
    "        self.esal = esal\n",
    "        self.eaddr = eaddr\n",
    "\n",
    "    def __repr__(self):\n",
    "        return f'Employee details: {self.eno} {self.ename}'\n",
    "\n",
    "E1 = Employee(100, 'Pythonista', 10000, 'INDIA')\n",
    "E2 = Employee(200, 'Programmer', 5000, 'USA')\n",
    "E3 = Employee(200, 'Programmer', 5000, 'USA')\n",
    "print(E1.eno, E1.ename, E1.esal, E1.eaddr)\n",
    "print(E1.__dict__)\n",
    "print(E2.__dict__)\n",
    "\n",
    "print(E1.__repr__())\n",
    "print(E2.__repr__())\n",
    "print(E3.__repr__())\n",
    "\n",
    "print(E2 is E3)\n",
    "print(E2 == E3) # We did not override == operator for Employee objects. So == will simply follow 'is' operator behavior which is reference comparison. We need to implement __eq__() method for overriding == for custom objects\n"
   ],
   "cell_type": "code",
   "metadata": {},
   "execution_count": null,
   "outputs": []
  },
  {
   "cell_type": "code",
   "execution_count": 10,
   "metadata": {},
   "outputs": [
    {
     "output_type": "stream",
     "name": "stdout",
     "text": [
      "100 Pythonista 10000 INDIA\n{'eno': 100, 'ename': 'Pythonista', 'esal': 10000, 'eaddr': 'INDIA'}\n{'eno': 200, 'ename': 'Programmer', 'esal': 5000, 'eaddr': 'USA'}\nEmployee details: 100 Pythonista\nEmployee details: 200 Programmer\nEmployee details: 200 Programmer\nFalse\nTrue\n"
     ]
    }
   ],
   "source": [
    "# same class with __eq__ for == operator override\n",
    "# Normal class\n",
    "\n",
    "class Employee:\n",
    "\n",
    "    def __init__(self, eno, ename, esal, eaddr):\n",
    "        self.eno = eno\n",
    "        self.ename = ename\n",
    "        self.esal = esal\n",
    "        self.eaddr = eaddr\n",
    "\n",
    "    def __repr__(self):\n",
    "        return f'Employee details: {self.eno} {self.ename}'\n",
    "\n",
    "    def __eq__(self, other):\n",
    "        if self.eno == other.eno and self.ename == other.ename and self.esal == other.esal and self.eaddr == other.eaddr:\n",
    "            return True\n",
    "        else:\n",
    "            return False\n",
    "\n",
    "E1 = Employee(100, 'Pythonista', 10000, 'INDIA')\n",
    "E2 = Employee(200, 'Programmer', 5000, 'USA')\n",
    "E3 = Employee(200, 'Programmer', 5000, 'USA')\n",
    "print(E1.eno, E1.ename, E1.esal, E1.eaddr)\n",
    "print(E1.__dict__)\n",
    "print(E2.__dict__)\n",
    "\n",
    "print(E1.__repr__())\n",
    "print(E2.__repr__())\n",
    "print(E3.__repr__())\n",
    "\n",
    "print(E2 is E3)\n",
    "print(E2 == E3) # Now this will return True based on our custom comparison __eq__ method in the class\n"
   ]
  },
  {
   "cell_type": "code",
   "execution_count": 12,
   "metadata": {},
   "outputs": [
    {
     "output_type": "stream",
     "name": "stdout",
     "text": [
      "100 Pythonista 10000 INDIA\n{'eno': 100, 'ename': 'Pythonista', 'esal': 10000, 'eaddr': 'INDIA'}\n{'eno': 200, 'ename': 'Programmer', 'esal': 5000, 'eaddr': 'USA'}\nEmployee details: 100 Pythonista\nEmployee details: 200 Programmer\nEmployee details: 200 Programmer\nFalse\nTrue\n"
     ]
    }
   ],
   "source": [
    "## another methodology for implementing __eq__() method with Tuple comparison for simple shortcut\n",
    "\n",
    "# same class with __eq__ for == operator override\n",
    "# Normal class\n",
    "\n",
    "class Employee:\n",
    "\n",
    "    def __init__(self, eno, ename, esal, eaddr):\n",
    "        self.eno = eno\n",
    "        self.ename = ename\n",
    "        self.esal = esal\n",
    "        self.eaddr = eaddr\n",
    "\n",
    "    def __repr__(self):\n",
    "        return f'Employee details: {self.eno} {self.ename}'\n",
    "\n",
    "    def __eq__(self, other):\n",
    "        return (self.eno, self.ename, self.esal,  self.eaddr) == (other.eno, other.ename, other.esal,  other.eaddr)\n",
    "        \n",
    "\n",
    "E1 = Employee(100, 'Pythonista', 10000, 'INDIA')\n",
    "E2 = Employee(200, 'Programmer', 5000, 'USA')\n",
    "E3 = Employee(200, 'Programmer', 5000, 'USA')\n",
    "print(E1.eno, E1.ename, E1.esal, E1.eaddr)\n",
    "print(E1.__dict__)\n",
    "print(E2.__dict__)\n",
    "\n",
    "print(E1.__repr__())\n",
    "print(E2.__repr__())\n",
    "print(E3.__repr__())\n",
    "\n",
    "print(E2 is E3)\n",
    "print(E2 == E3) # Now this will return True based on our custom comparison __eq__ method in the class\n"
   ]
  },
  {
   "source": [
    "### DataClasses\n",
    "#### To generate commonly used boilderplate code for classes , we can use Data Classes\n",
    "#### We should use @dataclass decorator from dataclasses module\n",
    "#### constructor will be created, __repr__ willbe generated, __eq__() will be created for comparison by dataclass\n"
   ],
   "cell_type": "markdown",
   "metadata": {}
  },
  {
   "cell_type": "code",
   "execution_count": 15,
   "metadata": {},
   "outputs": [
    {
     "output_type": "stream",
     "name": "stdout",
     "text": [
      "100 Pythonista 10000 INDIA\nEmployee(eno=100, ename='Pythonista', esal=10000, eaddr='INDIA')\nEmployee(eno=200, ename='Programmer', esal=5000, eaddr='USA')\nTrue\n"
     ]
    }
   ],
   "source": [
    "from dataclasses import dataclass\n",
    "\n",
    "# constructor will be created, __repr__ willbe generated, __eq__() will be created for comparison by dataclass\n",
    "\n",
    "@dataclass\n",
    "class Employee:\n",
    "    eno: int\n",
    "    ename: str\n",
    "    esal: int\n",
    "    eaddr: str\n",
    "\n",
    "E4 = Employee(100, 'Pythonista', 10000, 'INDIA')\n",
    "E5 = Employee(200, 'Programmer', 5000, 'USA')\n",
    "E6 = Employee(200, 'Programmer', 5000, 'USA')\n",
    "\n",
    "print(E4.eno, E4.ename, E4.esal, E4.eaddr)\n",
    "\n",
    "print(E4)\n",
    "print(E5)\n",
    "\n",
    "print(E5 == E6)"
   ]
  },
  {
   "cell_type": "code",
   "execution_count": 16,
   "metadata": {},
   "outputs": [
    {
     "output_type": "stream",
     "name": "stdout",
     "text": [
      "100 Pythonista 10000 INDIA\nEmployee(eno=100, ename='Pythonista', esal=10000, eaddr='INDIA')\nEmployee(eno=200, ename='Programmer', esal=5000, eaddr='USA')\nTrue\n"
     ]
    }
   ],
   "source": [
    "##W We can add () sysmbol with dataclass() decorator - no difference\n",
    "\n",
    "from dataclasses import dataclass\n",
    "\n",
    "# constructor will be created, __repr__ willbe generated, __eq__() will be created for comparison by dataclass\n",
    "\n",
    "@dataclass()\n",
    "class Employee:\n",
    "    eno: int\n",
    "    ename: str\n",
    "    esal: int\n",
    "    eaddr: str\n",
    "\n",
    "E4 = Employee(100, 'Pythonista', 10000, 'INDIA')\n",
    "E5 = Employee(200, 'Programmer', 5000, 'USA')\n",
    "E6 = Employee(200, 'Programmer', 5000, 'USA')\n",
    "\n",
    "print(E4.eno, E4.ename, E4.esal, E4.eaddr)\n",
    "\n",
    "print(E4)\n",
    "print(E5)\n",
    "\n",
    "print(E5 == E6)"
   ]
  },
  {
   "cell_type": "code",
   "execution_count": 18,
   "metadata": {},
   "outputs": [
    {
     "output_type": "stream",
     "name": "stdout",
     "text": [
      "100 Pythonista 10000 INDIA\n<__main__.Employee object at 0x000001E63A6C2F70>\n<__main__.Employee object at 0x000001E63A6C20A0>\nTrue\n"
     ]
    }
   ],
   "source": [
    "## Providing custom values \n",
    "\n",
    "from dataclasses import dataclass\n",
    "\n",
    "# constructor will be created, __repr__ willbe generated, __eq__() will be created for comparison by dataclass\n",
    "\n",
    "@dataclass(init = True, repr = False, eq = True)\n",
    "class Employee:\n",
    "    eno: int\n",
    "    ename: str\n",
    "    esal: int\n",
    "    eaddr: str\n",
    "\n",
    "E4 = Employee(100, 'Pythonista', 10000, 'INDIA')\n",
    "E5 = Employee(200, 'Programmer', 5000, 'USA')\n",
    "E6 = Employee(200, 'Programmer', 5000, 'USA')\n",
    "\n",
    "print(E4.eno, E4.ename, E4.esal, E4.eaddr)\n",
    "\n",
    "print(E4) # Since we give repr = False with the dataclass decorator, this will print genral object representation\n",
    "print(E5) # Since we give repr = False with the dataclass decorator, this will print genral object representation\n",
    "\n",
    "print(E5 == E6)"
   ]
  },
  {
   "cell_type": "code",
   "execution_count": 20,
   "metadata": {},
   "outputs": [
    {
     "output_type": "stream",
     "name": "stdout",
     "text": [
      "100 Pythonista 10000 INDIA\n<__main__.Employee object at 0x000001E63A595B50>\n<__main__.Employee object at 0x000001E63A168340>\nTrue\nFalse\n"
     ]
    }
   ],
   "source": [
    "## Providing custom values \n",
    "\n",
    "from dataclasses import dataclass\n",
    "\n",
    "# constructor will be created, __repr__ willbe generated, __eq__() will be created for comparison by dataclass\n",
    "# In the below dataclass decorator, \"Order=True\" will generate __lt__, _-le__, __gt__, __ge__ methods automatically and default is False\n",
    "# eq must be true if order is true\n",
    "\n",
    "@dataclass(init = True, repr = False, eq = True, order=True)\n",
    "class Employee:\n",
    "    eno: int\n",
    "    ename: str\n",
    "    esal: int\n",
    "    eaddr: str\n",
    "\n",
    "E4 = Employee(100, 'Pythonista', 10000, 'INDIA')\n",
    "E5 = Employee(200, 'Programmer', 5000, 'USA')\n",
    "E6 = Employee(200, 'Programmer', 5000, 'USA')\n",
    "\n",
    "print(E4.eno, E4.ename, E4.esal, E4.eaddr)\n",
    "\n",
    "print(E4) # Since we give repr = False with the dataclass decorator, this will print genral object representation\n",
    "print(E5) # Since we give repr = False with the dataclass decorator, this will print genral object representation\n",
    "\n",
    "print(E5 == E6)\n",
    "print(E5 > E6)"
   ]
  },
  {
   "cell_type": "code",
   "execution_count": 21,
   "metadata": {},
   "outputs": [
    {
     "output_type": "error",
     "ename": "FrozenInstanceError",
     "evalue": "cannot assign to field 'ename'",
     "traceback": [
      "\u001b[1;31m---------------------------------------------------------------------------\u001b[0m",
      "\u001b[1;31mFrozenInstanceError\u001b[0m                       Traceback (most recent call last)",
      "\u001b[1;32m~\\AppData\\Local\\Temp/ipykernel_15532/2118006277.py\u001b[0m in \u001b[0;36m<module>\u001b[1;34m\u001b[0m\n\u001b[0;32m     10\u001b[0m \u001b[1;33m\u001b[0m\u001b[0m\n\u001b[0;32m     11\u001b[0m \u001b[0mE1\u001b[0m \u001b[1;33m=\u001b[0m \u001b[0mEmployee\u001b[0m\u001b[1;33m(\u001b[0m\u001b[1;36m100\u001b[0m\u001b[1;33m,\u001b[0m \u001b[1;34m'Pythonista'\u001b[0m\u001b[1;33m,\u001b[0m \u001b[1;36m10000\u001b[0m\u001b[1;33m,\u001b[0m \u001b[1;34m'INDIA'\u001b[0m\u001b[1;33m)\u001b[0m\u001b[1;33m\u001b[0m\u001b[1;33m\u001b[0m\u001b[0m\n\u001b[1;32m---> 12\u001b[1;33m \u001b[0mE1\u001b[0m\u001b[1;33m.\u001b[0m\u001b[0mename\u001b[0m \u001b[1;33m=\u001b[0m \u001b[1;34m\"Java Developer\"\u001b[0m\u001b[1;33m\u001b[0m\u001b[1;33m\u001b[0m\u001b[0m\n\u001b[0m",
      "\u001b[1;32m<string>\u001b[0m in \u001b[0;36m__setattr__\u001b[1;34m(self, name, value)\u001b[0m\n",
      "\u001b[1;31mFrozenInstanceError\u001b[0m: cannot assign to field 'ename'"
     ]
    }
   ],
   "source": [
    "# dataclass with frozen parameter. Default value is False\n",
    "\n",
    "from dataclasses import dataclass\n",
    "@dataclass(init = True, repr = False, eq = True, order=True, frozen=True)\n",
    "class Employee:\n",
    "    eno: int\n",
    "    ename: str\n",
    "    esal: int\n",
    "    eaddr: str\n",
    "\n",
    "E1 = Employee(100, 'Pythonista', 10000, 'INDIA')\n",
    "E1.ename = \"Java Developer\" # We will get FrozenInstanceError since the frozen keyword is True. We can not change the value"
   ]
  },
  {
   "source": [
    "### dataclass parameters with default values\n",
    "\n",
    "#### @dataclass(init=True, repr=True, eq=True, order=False, unsafe_hash = false, frozen=True)\n",
    "#### unsafe_hash - will create __hash__() method if we assign True to it "
   ],
   "cell_type": "markdown",
   "metadata": {}
  },
  {
   "cell_type": "code",
   "execution_count": 22,
   "metadata": {},
   "outputs": [
    {
     "output_type": "stream",
     "name": "stdout",
     "text": [
      "Student(rollno=101, name='Pythonista', s1marks=0, s2marks=0, s3marks=0)\n"
     ]
    }
   ],
   "source": [
    "## Defaull values for the class fields\n",
    "\n",
    "from dataclasses import dataclass\n",
    "\n",
    "@dataclass\n",
    "class Student:\n",
    "    rollno: int\n",
    "    name: str\n",
    "    s1marks: int = 0\n",
    "    s2marks: int = 0\n",
    "    s3marks: int = 0\n",
    "    # But once default argument started, non-default argument can not come after it. All the remainning fields should have the default value . else we will get TypeError\n",
    "\n",
    "s1 = Student(101, \"Pythonista\") # values will be assigned to the rest of the fields\n",
    "print(s1)"
   ]
  },
  {
   "cell_type": "code",
   "execution_count": 24,
   "metadata": {},
   "outputs": [
    {
     "output_type": "stream",
     "name": "stdout",
     "text": [
      "Student(name='Pythonista', s1marks=0, s2marks=0, s3marks=0)\n"
     ]
    }
   ],
   "source": [
    "# Restricting the behavior of fileds in dataclasses using field() function\n",
    "\n",
    "from dataclasses import dataclass, field\n",
    "\n",
    "@dataclass\n",
    "class Student:\n",
    "    rollno: int = field(repr = False)\n",
    "    name: str\n",
    "    s1marks: int = 0\n",
    "    s2marks: int = 0\n",
    "    s3marks: int = 0\n",
    "\n",
    "s1 = Student(101, \"Pythonista\") \n",
    "print(s1) # This will include roll no field in the output since we have used the field function for rollno with repr set to False\n"
   ]
  },
  {
   "source": [
    "###  Parameters for field() method\n",
    "* init: if this field is True , then the field will be included in the __init__() method\n",
    "* repr: if this field is True , then the field will be included in the __repr__() method\n",
    "* compare: if this field is True , then the field will be included in the __lt__(), __le__(), __gt__(), __ge__(), __eq__()\n",
    "* hash: if this field is True , then __hash__() method will be included\n",
    "* default: to provide default value to the member\n",
    "* default_factory: to create empty list as default value\n",
    "    * Example: marks: List[int] = field(default_factory=list)\n",
    "* metadata: it is a dictionary to provide some extra information about the field\n",
    "    * Example: distance: float = field(default=0.0, metadata={'unit': 'kilometers'})\n",
    "***"
   ],
   "cell_type": "markdown",
   "metadata": {}
  },
  {
   "cell_type": "code",
   "execution_count": null,
   "metadata": {},
   "outputs": [],
   "source": []
  }
 ]
}