{
 "cells": [
  {
   "cell_type": "markdown",
   "source": [
    "## notes\n",
    "* Released in python version 3.6\n",
    "* String formatting means inserting values and expressions in string literal\n",
    "* 3 Types of techniques\n",
    "    1. % formatting\n",
    "    2. str.format() method\n",
    "    3. f-strings"
   ],
   "metadata": {}
  },
  {
   "cell_type": "code",
   "execution_count": null,
   "source": [
    "# Type 1: % formatting\n",
    "# Oldest way of string formatting. Available since beginning of python\n",
    "\n",
    "''''\n",
    "%i - integer \n",
    "%d - integer\n",
    "%f - float\n",
    "%s - string\n",
    "'''\n",
    "\n",
    "# Problems with this technique\n",
    "# 1. if multiple variables are there, readability will be reduced\n",
    "# 2. To process data from dictionary it is complex\n",
    "# 3. Performance also not good with this parsing"
   ],
   "outputs": [],
   "metadata": {}
  },
  {
   "cell_type": "code",
   "execution_count": 8,
   "source": [
    "name = 'dhinesh'\n",
    "salary = 10\n",
    "modified_string = 'Hello %s , Good day' % name\n",
    "print(modified_string)\n",
    "#with multiple placeholders\n",
    "another_string = 'Hello %s , Good Day!!!. You Salary is %d'%(name, salary) # () is mandatory\n",
    "print(another_string)\n",
    "another_string = 'Hello %s , Good Day!!!. You Salary is %.2f'%(name, salary) # () is mandatory\n",
    "print(another_string)"
   ],
   "outputs": [
    {
     "output_type": "stream",
     "name": "stdout",
     "text": [
      "Hello dhinesh , Good day\n",
      "Hello dhinesh , Good Day!!!. You Salary is 10\n",
      "Hello dhinesh , Good Day!!!. You Salary is 10.00\n"
     ]
    }
   ],
   "metadata": {}
  },
  {
   "cell_type": "code",
   "execution_count": null,
   "source": [
    "# Type 2: str.format() method\n",
    "# Introduced in 2.6 version\n",
    "# It is advanced version of % formatting with some more options\n",
    "\n",
    "#Problems:\n",
    "# 1. Still it is verbose if the number of variables are more\n",
    "# 2. Performance degradation will be there, even worser than % formatting method"
   ],
   "outputs": [],
   "metadata": {}
  },
  {
   "cell_type": "code",
   "execution_count": 10,
   "source": [
    "name = 'Dhinesh'\n",
    "print('Hello {} , Good Day'.format(name))"
   ],
   "outputs": [
    {
     "output_type": "stream",
     "name": "stdout",
     "text": [
      "Hello Dhinesh , Good Day\n"
     ]
    }
   ],
   "metadata": {}
  },
  {
   "cell_type": "code",
   "execution_count": 11,
   "source": [
    "# str.format() for muliple variables\n",
    "name = 'dhinesh'\n",
    "salary = 10\n",
    "location = 'Italy'\n",
    "\n",
    "print('Hello {}, Your Salary is {} and Your location is {}'.format(name, salary, location))"
   ],
   "outputs": [
    {
     "output_type": "stream",
     "name": "stdout",
     "text": [
      "Hello dhinesh, Your Salary is 10 and Your location is Italy\n"
     ]
    }
   ],
   "metadata": {}
  },
  {
   "cell_type": "code",
   "execution_count": 12,
   "source": [
    "# str.format() with numbers (orders can be changed and everything will be identified by index)\n",
    "name = 'dhinesh'\n",
    "salary = 10\n",
    "location = 'Italy'\n",
    "\n",
    "print('Hello {2}, Your Salary is {0} and Your location is {1}'.format(name, salary, location))"
   ],
   "outputs": [
    {
     "output_type": "stream",
     "name": "stdout",
     "text": [
      "Hello Italy, Your Salary is dhinesh and Your location is 10\n"
     ]
    }
   ],
   "metadata": {}
  },
  {
   "cell_type": "code",
   "execution_count": 16,
   "source": [
    "# str.format() with variables \n",
    "name = 'dhinesh'\n",
    "salary = 10\n",
    "location = 'Italy'\n",
    "\n",
    "print('Hello {a}, Your Salary is {b} and Your location is {c}'.format(a = name, b = salary, c = location))"
   ],
   "outputs": [
    {
     "output_type": "stream",
     "name": "stdout",
     "text": [
      "Hello dhinesh, Your Salary is 10 and Your location is Italy\n"
     ]
    }
   ],
   "metadata": {}
  },
  {
   "cell_type": "code",
   "execution_count": 14,
   "source": [
    "# processing dictionary data with str.format() method\n",
    "intput_params = {\n",
    "    'Name': 'Dhinesh', \n",
    "    'Salary': 200,\n",
    "    'Location': 'Italy'\n",
    "}\n",
    "\n",
    "print(('Hello {Name}, Your Salary is {Salary} and Your location is {Location}'.format(**intput_params)))"
   ],
   "outputs": [
    {
     "output_type": "stream",
     "name": "stdout",
     "text": [
      "Hello Dhinesh, Your Salary is 200 and Your location is Italy\n"
     ]
    }
   ],
   "metadata": {}
  },
  {
   "cell_type": "code",
   "execution_count": 15,
   "source": [
    "################## f-strings ###################\n",
    "# Introduced in python 3.6 version\n",
    "# It is more concise than the first 2 methods and more readable\n",
    "# Performance is better that other 2 techniques\n",
    "# We can use either 'f' or 'F\n",
    "# applicable for strings with ', \", \"\"\". '''"
   ],
   "outputs": [],
   "metadata": {}
  },
  {
   "cell_type": "code",
   "execution_count": 17,
   "source": [
    "name = 'dhinesh'\n",
    "salary = 10\n",
    "location = 'Italy'\n",
    "\n",
    "print(f'Hello {name} , Good Day!!!. Your salary is {salary} , your location is {location}')"
   ],
   "outputs": [
    {
     "output_type": "stream",
     "name": "stdout",
     "text": [
      "Hello dhinesh , Good Day!!!. Your salary is 10 , your location is Italy\n"
     ]
    }
   ],
   "metadata": {}
  },
  {
   "cell_type": "code",
   "execution_count": null,
   "source": [
    "################# Comapring the performance of the string formatting techniques ##############\n",
    "# using timeit module"
   ],
   "outputs": [],
   "metadata": {}
  },
  {
   "cell_type": "code",
   "execution_count": 18,
   "source": [
    "import timeit\n",
    "\n",
    "execution_time = timeit.timeit(\"print('hello')\", number=5)\n",
    "print(f'The time taken {execution_time}')"
   ],
   "outputs": [
    {
     "output_type": "stream",
     "name": "stdout",
     "text": [
      "hello\n",
      "hello\n",
      "hello\n",
      "hello\n",
      "hello\n",
      "The time taken 0.010374338999099564\n"
     ]
    }
   ],
   "metadata": {}
  },
  {
   "cell_type": "code",
   "execution_count": 29,
   "source": [
    "import timeit\n",
    "execution_time = timeit.timeit('''\n",
    "name = 'dhinesh'\n",
    "salary = 10\n",
    "output_string = 'Hello %s , Good Day!!!. You Salary is %d'%(name, salary)\n",
    "''', number=10000)\n",
    "print(f'Time taken for the first method {execution_time}')\n",
    "\n",
    "execution_time = timeit.timeit('''\n",
    "name = 'dhinesh'\n",
    "salary = 10\n",
    "output_string = 'Hello {} , Good Day!!!. You Salary is {}'.format(name, salary) \n",
    "''', number=10000)\n",
    "print(f'Time taken for the second method {execution_time}')\n",
    "\n",
    "execution_time = timeit.timeit('''\n",
    "name = 'dhinesh'\n",
    "salary = 10\n",
    "output_string = f'Hello {name} , Good Day!!!. You Salary is {salary}'\n",
    "''', number=10000)\n",
    "print(f'Time taken for the third method {execution_time}')"
   ],
   "outputs": [
    {
     "output_type": "stream",
     "name": "stdout",
     "text": [
      "Time taken for the first method 0.023322491004364565\n",
      "Time taken for the second method 0.006244861004233826\n",
      "Time taken for the third method 0.00473603999853367\n"
     ]
    }
   ],
   "metadata": {}
  },
  {
   "cell_type": "code",
   "execution_count": 33,
   "source": [
    "## processing dictionary data with f-strings. Use \" with f strings\n",
    "\n",
    "input_params = {\n",
    "    'Name': 'Dhinesh', \n",
    "    'Salary': 200,\n",
    "    'Location': 'Italy',\n",
    "    'Language': 'Python'\n",
    "}\n",
    "\n",
    "s = f\"Hello {input_params['Name']} and you learn the language {input_params['Language']}\"\n",
    "print(s)"
   ],
   "outputs": [
    {
     "output_type": "stream",
     "name": "stdout",
     "text": [
      "Hello Dhinesh and you learn the language Python\n"
     ]
    }
   ],
   "metadata": {}
  },
  {
   "cell_type": "code",
   "execution_count": 37,
   "source": [
    "## f-strings calling a function\n",
    "\n",
    "def test_function(name):\n",
    "    return f'\\nThis is from f-string callng and the name is {name}'\n",
    "\n",
    "\n",
    "print(f\"Calling a function from f-string {test_function('dhinesh'.upper())}\")"
   ],
   "outputs": [
    {
     "output_type": "stream",
     "name": "stdout",
     "text": [
      "Calling a function from f-string \n",
      "This is from f-string callng and the name is DHINESH\n"
     ]
    }
   ],
   "metadata": {}
  },
  {
   "cell_type": "code",
   "execution_count": 39,
   "source": [
    "# using f-string with classes and objects in str and repr methods\n",
    "\n",
    "class Student:\n",
    "    def __init__(self, name, roll) -> None:\n",
    "        self.name = name\n",
    "        self.roll = roll\n",
    "\n",
    "    def __str__(self) -> str:\n",
    "        return f'Name is : {self.name}, Rollno: {self.roll}. This is from __str__ method'\n",
    "\n",
    "    def __repr__(self) -> str:\n",
    "        return f'Name is : {self.name}, Rollno: {self.roll}. This is from __repr__ method'\n",
    "\n",
    "dhinesh = Student('Dhinesh', \"46484\")\n",
    "print('Information --> {}'.format(s))\n",
    "print(f'Information --> {dhinesh}') # this will call __str__ method\n",
    "print(f'Information --> {dhinesh!r}') # this will call __repr__ Note that !r after the string"
   ],
   "outputs": [
    {
     "output_type": "stream",
     "name": "stdout",
     "text": [
      "Information --> Hello Dhinesh and you learn the language Python\n",
      "Information --> Name is : Dhinesh, Rollno: 46484. This is from __str__ method\n",
      "Information --> Name is : Dhinesh, Rollno: 46484. This is from __repr__ method\n"
     ]
    }
   ],
   "metadata": {}
  },
  {
   "cell_type": "code",
   "execution_count": 43,
   "source": [
    "## Passing expressions inside f-string\n",
    "a = b = c = 30\n",
    "\n",
    "print(f'The sum of 3 numbers is {a+b+c}')\n",
    "#with decimal point formatting\n",
    "print(f'The sum of 3 numbers is {a+b+c:.2f}')"
   ],
   "outputs": [
    {
     "output_type": "stream",
     "name": "stdout",
     "text": [
      "The sum of 3 numbers is 90\n",
      "The sum of 3 numbers is 90.00\n"
     ]
    }
   ],
   "metadata": {}
  },
  {
   "cell_type": "code",
   "execution_count": 46,
   "source": [
    "## printing { symbol using f-string\n",
    "#  print(f'Using escape character wont work \\{') - This will give syntax error\n",
    "print(f'Printing curly braces {chr(123)}')\n",
    "# printing  curly braces using {{ \n",
    "print(f'Printing curly braces {{ }}')  # This issue is with only curly braces"
   ],
   "outputs": [
    {
     "output_type": "stream",
     "name": "stdout",
     "text": [
      "Printing curly braces {\n",
      "Printing curly braces { }\n"
     ]
    }
   ],
   "metadata": {}
  },
  {
   "cell_type": "code",
   "execution_count": 50,
   "source": [
    "# special case with f-strings\n",
    "my_name = 'Dhinesh'\n",
    "print(f'Name : {{my_name}}')\n",
    "print(f'Name : {{{my_name}}}')\n",
    "print(f'Name : {{{{my_name}}}}')"
   ],
   "outputs": [
    {
     "output_type": "stream",
     "name": "stdout",
     "text": [
      "Name : {my_name}\n",
      "Name : {Dhinesh}\n",
      "Name : {{my_name}}\n"
     ]
    }
   ],
   "metadata": {}
  },
  {
   "cell_type": "code",
   "execution_count": 51,
   "source": [
    "############# 3.8 version enhancements with f-strings ###########\n",
    "# We can use = symbol inside f-strings for self documenting expressions and for debugging purposes\n",
    "x = 10\n",
    "y = 20\n",
    "# output will be printed with 'variablename = variablevalue'\n",
    "print(f'{x=}')\n",
    "print(f'{y=}')"
   ],
   "outputs": [
    {
     "output_type": "stream",
     "name": "stdout",
     "text": [
      "x=10\n",
      "y=20\n"
     ]
    }
   ],
   "metadata": {}
  },
  {
   "cell_type": "code",
   "execution_count": 55,
   "source": [
    "# We can also use walrun operator inside f-strings from python version 3.8\n",
    "###### MUst be encloed with paranthesis\n",
    "import math\n",
    "half_radius = 10\n",
    "print(f'The area of Circle with Radius {(r := 2*half_radius)} is {math.pi*r*r:.2f}')"
   ],
   "outputs": [
    {
     "output_type": "stream",
     "name": "stdout",
     "text": [
      "The area of Circle with Radius 20 is 1256.64\n"
     ]
    }
   ],
   "metadata": {}
  },
  {
   "cell_type": "code",
   "execution_count": null,
   "source": [],
   "outputs": [],
   "metadata": {}
  },
  {
   "cell_type": "code",
   "execution_count": null,
   "source": [],
   "outputs": [],
   "metadata": {}
  }
 ],
 "metadata": {
  "orig_nbformat": 4,
  "language_info": {
   "name": "python",
   "version": "3.9.6",
   "mimetype": "text/x-python",
   "codemirror_mode": {
    "name": "ipython",
    "version": 3
   },
   "pygments_lexer": "ipython3",
   "nbconvert_exporter": "python",
   "file_extension": ".py"
  },
  "kernelspec": {
   "name": "python3",
   "display_name": "Python 3.9"
  },
  "interpreter": {
   "hash": "36cf16204b8548560b1c020c4e8fb5b57f0e4c58016f52f2d4be01e192833930"
  }
 },
 "nbformat": 4,
 "nbformat_minor": 2
}