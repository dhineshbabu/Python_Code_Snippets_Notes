{
 "cells": [
  {
   "cell_type": "markdown",
   "source": [
    "## notes\n",
    "* := is the walrus operator\n",
    "* introduced in python 3.8 version (PEP 572)\n",
    "* Used to reduce the number of code and improving the readability"
   ],
   "metadata": {}
  },
  {
   "cell_type": "code",
   "execution_count": 2,
   "source": [
    "l = [10,20,30,40,50]\n",
    "n = len(l)\n",
    "\n",
    "if n > 3:\n",
    "    print('list contains more than 3 elements')\n",
    "    print('The lenght of the list is : ', n)"
   ],
   "outputs": [
    {
     "output_type": "stream",
     "name": "stdout",
     "text": [
      "list contains more than 3 elements\n",
      "The lenght of the list is :  5\n"
     ]
    }
   ],
   "metadata": {}
  },
  {
   "cell_type": "code",
   "execution_count": 4,
   "source": [
    "# we can reduce the lines of the above code without walrus \n",
    "l = [10,20,30,40,50]\n",
    "\n",
    "if len(l) > 3:\n",
    "    print('list contains more than 3 elements')\n",
    "    print('The lenght of the list is : ', len(l))"
   ],
   "outputs": [
    {
     "output_type": "stream",
     "name": "stdout",
     "text": [
      "list contains more than 3 elements\n",
      "The lenght of the list is :  5\n"
     ]
    }
   ],
   "metadata": {}
  },
  {
   "cell_type": "code",
   "execution_count": 6,
   "source": [
    "# But we are using len(l) multiple times increase the computation complexity\n",
    "# So , below is using walrus operator\n",
    "\n",
    "l = [10,20,30,40,50]\n",
    "\n",
    "if(n := len(l)) > 3: # assigning and performing comparison at the same line of the code\n",
    "    print('list contains more than 3 elements')\n",
    "    print('The lenght of the list is : ', n)\n",
    "\n",
    "print(n) # n is available outside of the block also"
   ],
   "outputs": [
    {
     "output_type": "stream",
     "name": "stdout",
     "text": [
      "list contains more than 3 elements\n",
      "The lenght of the list is :  5\n",
      "5\n"
     ]
    }
   ],
   "metadata": {}
  },
  {
   "cell_type": "code",
   "execution_count": 7,
   "source": [
    "# another example\n",
    "names = []\n",
    "\n",
    "while (name := input('Enter another name')) != 'done':\n",
    "    names.append(name)\n",
    "\n",
    "print(names)"
   ],
   "outputs": [
    {
     "output_type": "stream",
     "name": "stdout",
     "text": [
      "['dhinesh', 'test']\n"
     ]
    }
   ],
   "metadata": {}
  },
  {
   "cell_type": "code",
   "execution_count": 10,
   "source": [
    "# another example. Reading from 01_testdata.txt file using walrus operator\n",
    "\n",
    "source_file = open('01_testdata.txt')\n",
    "while (line := source_file.readline()) != '':\n",
    "    print(\"Current line is\", line, end=\"\")\n",
    "\n",
    "source_file.close()"
   ],
   "outputs": [
    {
     "output_type": "stream",
     "name": "stdout",
     "text": [
      "Current line is this\n",
      "Current line is is \n",
      "Current line is from \n",
      "Current line is test \n",
      "Current line is programming\n",
      "Current line is data"
     ]
    }
   ],
   "metadata": {}
  },
  {
   "cell_type": "code",
   "execution_count": null,
   "source": [],
   "outputs": [],
   "metadata": {}
  }
 ],
 "metadata": {
  "orig_nbformat": 4,
  "language_info": {
   "name": "python",
   "version": "3.9.6",
   "mimetype": "text/x-python",
   "codemirror_mode": {
    "name": "ipython",
    "version": 3
   },
   "pygments_lexer": "ipython3",
   "nbconvert_exporter": "python",
   "file_extension": ".py"
  },
  "kernelspec": {
   "name": "python3",
   "display_name": "Python 3.9"
  },
  "interpreter": {
   "hash": "36cf16204b8548560b1c020c4e8fb5b57f0e4c58016f52f2d4be01e192833930"
  }
 },
 "nbformat": 4,
 "nbformat_minor": 2
}