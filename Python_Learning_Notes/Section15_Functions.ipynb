{
 "cells": [
  {
   "cell_type": "code",
   "execution_count": 2,
   "metadata": {},
   "outputs": [
    {
     "name": "stdout",
     "output_type": "stream",
     "text": [
      "30\n"
     ]
    }
   ],
   "source": [
    "def calculate(a,b):\n",
    "    return a+b\n",
    "\n",
    "print(calculate(10, 20))"
   ]
  },
  {
   "cell_type": "markdown",
   "metadata": {},
   "source": [
    "### Types of Functions ###\n",
    "* 1. Builtin Functions / Predefined Functions: id(), type(), print(), eval(), ...\n",
    "* 2. User Defined Functions"
   ]
  },
  {
   "cell_type": "code",
   "execution_count": null,
   "metadata": {},
   "outputs": [],
   "source": [
    "# user defined functions syntax\n",
    "\"\"\"\n",
    "def function_name(parameters):\n",
    "    \"\"\" docstring \"\"\"\n",
    "    body\n",
    "    return value\n",
    "\"\"\""
   ]
  },
  {
   "cell_type": "code",
   "execution_count": 4,
   "metadata": {},
   "outputs": [
    {
     "name": "stdout",
     "output_type": "stream",
     "text": [
      "This is not returnning anything explicitly\n",
      "THis is the return value:  None\n"
     ]
    }
   ],
   "source": [
    "# Function return values\n",
    "# Python will return \"None\" as default return type\n",
    "def x():\n",
    "    print(\"This is not returnning anything explicitly\")\n",
    "\n",
    "ret = x()\n",
    "print(\"THis is the return value: \", ret)"
   ]
  },
  {
   "cell_type": "code",
   "execution_count": 6,
   "metadata": {},
   "outputs": [
    {
     "name": "stdout",
     "output_type": "stream",
     "text": [
      "factorial of the 5 is:  120\n"
     ]
    }
   ],
   "source": [
    "# Find factorial of given value\n",
    "def factorial(num):\n",
    "    result = 1\n",
    "    while num >= 1:\n",
    "        result = result * num\n",
    "        num = num - 1\n",
    "    return result\n",
    "\n",
    "print(\"factorial of the 5 is: \", factorial(5))"
   ]
  },
  {
   "cell_type": "code",
   "execution_count": 9,
   "metadata": {},
   "outputs": [
    {
     "name": "stdout",
     "output_type": "stream",
     "text": [
      "Sum is:  30\n",
      "Subtraction is :  -10\n"
     ]
    }
   ],
   "source": [
    "# python functions can return multiple values\n",
    "def sum_sub(a,b):\n",
    "    sum = a+b\n",
    "    sub = a-b\n",
    "    return sum, sub # internally this will be returned as tuple and need to do unpacking\n",
    "\n",
    "summ, subb = sum_sub(10,20)\n",
    "print(\"Sum is: \", summ)\n",
    "print(\"Subtraction is : \", subb)"
   ]
  },
  {
   "cell_type": "markdown",
   "metadata": {},
   "source": [
    "***\n",
    "### Types of arguments\n",
    "* Positional arguments\n",
    "* keyword arguments\n",
    "* default arguments\n",
    "* variable length arguments\n",
    "***"
   ]
  },
  {
   "cell_type": "code",
   "execution_count": 2,
   "metadata": {},
   "outputs": [
    {
     "name": "stdout",
     "output_type": "stream",
     "text": "-100\n-100\n"
    },
    {
     "ename": "TypeError",
     "evalue": "sub() got multiple values for argument 'a'",
     "output_type": "error",
     "traceback": [
      "\u001b[0;31m---------------------------------------------------------------------------\u001b[0m",
      "\u001b[0;31mTypeError\u001b[0m                                 Traceback (most recent call last)",
      "\u001b[0;32m<ipython-input-2-cec3f9144c12>\u001b[0m in \u001b[0;36m<module>\u001b[0;34m\u001b[0m\n\u001b[1;32m      7\u001b[0m \u001b[0msub\u001b[0m\u001b[0;34m(\u001b[0m\u001b[0ma\u001b[0m\u001b[0;34m=\u001b[0m\u001b[0;36m100\u001b[0m\u001b[0;34m,\u001b[0m \u001b[0mb\u001b[0m\u001b[0;34m=\u001b[0m\u001b[0;36m200\u001b[0m\u001b[0;34m)\u001b[0m \u001b[0;31m# This is valid.\u001b[0m\u001b[0;34m\u001b[0m\u001b[0;34m\u001b[0m\u001b[0m\n\u001b[1;32m      8\u001b[0m \u001b[0msub\u001b[0m\u001b[0;34m(\u001b[0m\u001b[0mb\u001b[0m\u001b[0;34m=\u001b[0m\u001b[0;36m200\u001b[0m\u001b[0;34m,\u001b[0m \u001b[0ma\u001b[0m\u001b[0;34m=\u001b[0m\u001b[0;36m100\u001b[0m\u001b[0;34m)\u001b[0m \u001b[0;31m# This is valid.\u001b[0m\u001b[0;34m\u001b[0m\u001b[0;34m\u001b[0m\u001b[0m\n\u001b[0;32m----> 9\u001b[0;31m \u001b[0msub\u001b[0m\u001b[0;34m(\u001b[0m\u001b[0;36m200\u001b[0m\u001b[0;34m,\u001b[0m \u001b[0ma\u001b[0m\u001b[0;34m=\u001b[0m\u001b[0;36m100\u001b[0m\u001b[0;34m)\u001b[0m \u001b[0;31m# This is valid.\u001b[0m\u001b[0;34m\u001b[0m\u001b[0;34m\u001b[0m\u001b[0m\n\u001b[0m\u001b[1;32m     10\u001b[0m \u001b[0;31m#sub(a=200, 100) # This is invalid. Positional arguments should come before keyword arguments\u001b[0m\u001b[0;34m\u001b[0m\u001b[0;34m\u001b[0m\u001b[0;34m\u001b[0m\u001b[0m\n",
      "\u001b[0;31mTypeError\u001b[0m: sub() got multiple values for argument 'a'"
     ]
    }
   ],
   "source": [
    "### Keyword Arguments ###\n",
    "# order is not mandatory. we can supply arguments in any order\n",
    "\n",
    "def sub(a,b):\n",
    "    print(a-b)\n",
    "    \n",
    "sub(a=100, b=200) # This is valid. \n",
    "sub(b=200, a=100) # This is valid. \n",
    "sub(200, a=100) # This is valid. \n",
    "#sub(a=200, 100) # This is invalid. Positional arguments should come before keyword arguments\n"
   ]
  },
  {
   "cell_type": "code",
   "execution_count": 15,
   "metadata": {},
   "outputs": [
    {
     "name": "stdout",
     "output_type": "stream",
     "text": [
      "Hello  Dhinesh . Good Evening\n",
      "Hello  Anonymous . Good Evening\n"
     ]
    }
   ],
   "source": [
    "### Default Arguments ###\n",
    "\n",
    "def wish(name = \"Anonymous\"):\n",
    "    print(\"Hello \", name, \". Good Evening\")\n",
    "    \n",
    "wish(\"Dhinesh\")\n",
    "wish() # call for the default arguments"
   ]
  },
  {
   "cell_type": "code",
   "execution_count": 17,
   "metadata": {},
   "outputs": [
    {
     "ename": "SyntaxError",
     "evalue": "non-default argument follows default argument (<ipython-input-17-95dd7d85d938>, line 2)",
     "output_type": "error",
     "traceback": [
      "\u001b[1;36m  File \u001b[1;32m\"<ipython-input-17-95dd7d85d938>\"\u001b[1;36m, line \u001b[1;32m2\u001b[0m\n\u001b[1;33m    def wish(name=\"Guest\", msg): # This will fail. Default arguments should come after the non-default arguments\u001b[0m\n\u001b[1;37m             ^\u001b[0m\n\u001b[1;31mSyntaxError\u001b[0m\u001b[1;31m:\u001b[0m non-default argument follows default argument\n"
     ]
    }
   ],
   "source": [
    "# another case\n",
    "def wish(name=\"Guest\", msg): # This will fail. Default arguments should come after the non-default arguments\n",
    "    print()\n",
    "    \n",
    "wish(\"Good Day\")"
   ]
  },
  {
   "cell_type": "code",
   "execution_count": 18,
   "metadata": {},
   "outputs": [
    {
     "name": "stdout",
     "output_type": "stream",
     "text": [
      "Variable length Argument\n",
      "Variable length Argument\n",
      "Variable length Argument\n"
     ]
    }
   ],
   "source": [
    "### Variable length Argument ### fn(*n) -> * used for variable length argument\n",
    "# Internally, variable length argument will be implemented as tuple\n",
    "\n",
    "def f1(*n):\n",
    "    print(\"Variable length Argument\")\n",
    "    \n",
    "f1()\n",
    "f1(10)\n",
    "f1(10,20)\n"
   ]
  },
  {
   "cell_type": "code",
   "execution_count": 19,
   "metadata": {},
   "outputs": [
    {
     "name": "stdout",
     "output_type": "stream",
     "text": [
      "<class 'tuple'>\n",
      "()\n",
      "<class 'tuple'>\n",
      "(10,)\n",
      "<class 'tuple'>\n",
      "(10, 20)\n"
     ]
    }
   ],
   "source": [
    "# Internally, variable length argument will be implemented as tuple\n",
    "def f1(*n):\n",
    "    print(type(n))\n",
    "    print(n)\n",
    "    \n",
    "f1()\n",
    "f1(10)\n",
    "f1(10,20)"
   ]
  },
  {
   "cell_type": "code",
   "execution_count": 22,
   "metadata": {},
   "outputs": [
    {
     "name": "stdout",
     "output_type": "stream",
     "text": [
      "Sum is:  0\n",
      "Sum is:  10\n",
      "Sum is:  30\n"
     ]
    }
   ],
   "source": [
    "#Example\n",
    "def sum(*n):\n",
    "    total = 0\n",
    "    for x in n:\n",
    "        total = total + x\n",
    "    print(\"Sum is: \", total)\n",
    "\n",
    "sum()\n",
    "sum(10)\n",
    "sum(10,20)"
   ]
  },
  {
   "cell_type": "code",
   "execution_count": 24,
   "metadata": {},
   "outputs": [
    {
     "name": "stdout",
     "output_type": "stream",
     "text": [
      "10\n",
      "20\n",
      "30\n",
      "40\n"
     ]
    }
   ],
   "source": [
    "# Conclusion about variable length argument #\n",
    "# variable length argument should come after positional argument\n",
    "def f1(x, *y):\n",
    "    print(x)\n",
    "    for y1 in y:\n",
    "        print(y1)\n",
    "        \n",
    "        \n",
    "f1(10, 20, 30, 40)"
   ]
  },
  {
   "cell_type": "code",
   "execution_count": 25,
   "metadata": {},
   "outputs": [
    {
     "ename": "TypeError",
     "evalue": "f1() missing 1 required keyword-only argument: 'y'",
     "output_type": "error",
     "traceback": [
      "\u001b[1;31m---------------------------------------------------------------------------\u001b[0m",
      "\u001b[1;31mTypeError\u001b[0m                                 Traceback (most recent call last)",
      "\u001b[1;32m<ipython-input-25-5d641e89098c>\u001b[0m in \u001b[0;36m<module>\u001b[1;34m\u001b[0m\n\u001b[0;32m      6\u001b[0m \u001b[1;33m\u001b[0m\u001b[0m\n\u001b[0;32m      7\u001b[0m \u001b[1;33m\u001b[0m\u001b[0m\n\u001b[1;32m----> 8\u001b[1;33m \u001b[0mf1\u001b[0m\u001b[1;33m(\u001b[0m\u001b[1;36m10\u001b[0m\u001b[1;33m,\u001b[0m \u001b[1;36m20\u001b[0m\u001b[1;33m,\u001b[0m \u001b[1;36m30\u001b[0m\u001b[1;33m,\u001b[0m \u001b[1;36m40\u001b[0m\u001b[1;33m)\u001b[0m\u001b[1;33m\u001b[0m\u001b[1;33m\u001b[0m\u001b[0m\n\u001b[0m",
      "\u001b[1;31mTypeError\u001b[0m: f1() missing 1 required keyword-only argument: 'y'"
     ]
    }
   ],
   "source": [
    "# variable length argument should come after positional argument\n",
    "def f1(*x, y):\n",
    "    print(x)\n",
    "    for y1 in y:\n",
    "        print(y1)\n",
    "        \n",
    "        \n",
    "f1(10, 20, 30, 40)"
   ]
  },
  {
   "cell_type": "code",
   "execution_count": 27,
   "metadata": {},
   "outputs": [
    {
     "name": "stdout",
     "output_type": "stream",
     "text": [
      "40\n",
      "10\n",
      "20\n",
      "30\n"
     ]
    }
   ],
   "source": [
    "# keyword argument can be used to call the function if positional arg. come after variable length argument\n",
    "def f1(*y, x):\n",
    "    print(x)\n",
    "    for y1 in y:\n",
    "        print(y1)\n",
    "        \n",
    "        \n",
    "f1(10, 20, 30, x=40)"
   ]
  },
  {
   "cell_type": "code",
   "execution_count": 28,
   "metadata": {},
   "outputs": [
    {
     "ename": "SyntaxError",
     "evalue": "invalid syntax (<ipython-input-28-076d81cf2273>, line 2)",
     "output_type": "error",
     "traceback": [
      "\u001b[1;36m  File \u001b[1;32m\"<ipython-input-28-076d81cf2273>\"\u001b[1;36m, line \u001b[1;32m2\u001b[0m\n\u001b[1;33m    def sample(*x, *y):\u001b[0m\n\u001b[1;37m                   ^\u001b[0m\n\u001b[1;31mSyntaxError\u001b[0m\u001b[1;31m:\u001b[0m invalid syntax\n"
     ]
    }
   ],
   "source": [
    "# another case - we can not take more than one variable length argument in a function\n",
    "def sample(*x, *y):\n",
    "    pass\n",
    "\n",
    "sample(10, 30)"
   ]
  },
  {
   "cell_type": "code",
   "execution_count": null,
   "metadata": {},
   "outputs": [],
   "source": [
    "### Difference between *args and **kwargs ###\n",
    "# *args\n",
    "    \"\"\"\n",
    "    variable length arguments\n",
    "    tuple will be created for *args values\n",
    "    \"\"\"\n",
    "    \n",
    "# **kwargs\n",
    "    \"\"\"\n",
    "    variable length keyword arguments\n",
    "    dictionary will be created for **kwargs\n",
    "    \"\"\""
   ]
  },
  {
   "cell_type": "code",
   "execution_count": 32,
   "metadata": {},
   "outputs": [
    {
     "name": "stdout",
     "output_type": "stream",
     "text": [
      "{}\n",
      "{'name': 'dhinesh', 'rollno': 10}\n"
     ]
    }
   ],
   "source": [
    "#kwargs example\n",
    "def m1(**kwargs):\n",
    "    print(kwargs)\n",
    "    \n",
    "m1() # empty dictionary\n",
    "m1(name=\"dhinesh\", rollno=10) # dictionary with the given values"
   ]
  },
  {
   "cell_type": "code",
   "execution_count": 33,
   "metadata": {},
   "outputs": [
    {
     "name": "stdout",
     "output_type": "stream",
     "text": [
      "(10, 20)\n",
      "{'name': 'dhinesh', 'marks': 19}\n"
     ]
    }
   ],
   "source": [
    "# adding variable length argument and variable lenth keyword argument together in a function\n",
    "# After keyword arguments , positional arguments can not be added (i.e) ** cannot come before *\n",
    "\n",
    "def f1(*args, **kwargs):\n",
    "    print(args)\n",
    "    print(kwargs)\n",
    "    \n",
    "f1(10,20,name=\"dhinesh\", marks=19)"
   ]
  },
  {
   "cell_type": "code",
   "execution_count": 37,
   "metadata": {},
   "outputs": [
    {
     "name": "stdout",
     "output_type": "stream",
     "text": [
      "3 2 4 8\n",
      "10 20 30 40\n",
      "25 50 4 100\n",
      "3 4 4 2\n"
     ]
    }
   ],
   "source": [
    "### Types of arguments - case study ###\n",
    "# Function Definition: variable length argument first then default arguments(keyword)\n",
    "# Function calling: positional arguments and then keyword arguments\n",
    "\n",
    "def f(arg1, arg2, arg3=4, arg4=8):\n",
    "    print(arg1, arg2, arg3, arg4)\n",
    "    \n",
    "#case 1\n",
    "f(3,2) # output: 3 2 4 8\n",
    "\n",
    "#case 2\n",
    "f(10,20,30,40) # output: 10 20 30 40\n",
    "\n",
    "#case 3:\n",
    "f(25,50,arg4=100) #25 50 4 100\n",
    "\n",
    "#case 4:\n",
    "f(arg4=2, arg1=3, arg2=4) #3 4 4 2\n",
    "\n",
    "#case 5:\n",
    "# f() -> Error: Missing 2 positional arguments\n",
    "\n",
    "#case 6:\n",
    "# f(arg3=10, arg4=20, 30, 40) -> positioanl arguments can not come after keyword argument\n",
    "\n",
    "#case 7:\n",
    "# f(4,5,arg2=3,6) -> Error: assigining multiple values for arg2\n",
    "\n"
   ]
  },
  {
   "cell_type": "markdown",
   "metadata": {},
   "source": [
    "***\n",
    "### Types of Variables ###\n",
    "* global - declared outside of any function. The variable is available to all the functions in the module\n",
    "* local - declared inside a function. This is available only within the function\n",
    "***"
   ]
  },
  {
   "cell_type": "code",
   "execution_count": 38,
   "metadata": {},
   "outputs": [
    {
     "name": "stdout",
     "output_type": "stream",
     "text": [
      "10\n"
     ]
    }
   ],
   "source": [
    "\n",
    "# global variable\n",
    "a = 10 #global variable\n",
    "def f1():\n",
    "    print(a)\n",
    "    \n",
    "f1()"
   ]
  },
  {
   "cell_type": "code",
   "execution_count": 42,
   "metadata": {},
   "outputs": [
    {
     "ename": "NameError",
     "evalue": "name 'aa' is not defined",
     "output_type": "error",
     "traceback": [
      "\u001b[1;31m---------------------------------------------------------------------------\u001b[0m",
      "\u001b[1;31mNameError\u001b[0m                                 Traceback (most recent call last)",
      "\u001b[1;32m<ipython-input-42-18016c8e7cc8>\u001b[0m in \u001b[0;36m<module>\u001b[1;34m\u001b[0m\n\u001b[0;32m      3\u001b[0m     \u001b[0maa\u001b[0m \u001b[1;33m=\u001b[0m \u001b[1;36m10\u001b[0m\u001b[1;33m\u001b[0m\u001b[1;33m\u001b[0m\u001b[0m\n\u001b[0;32m      4\u001b[0m \u001b[1;33m\u001b[0m\u001b[0m\n\u001b[1;32m----> 5\u001b[1;33m \u001b[0mprint\u001b[0m\u001b[1;33m(\u001b[0m\u001b[0maa\u001b[0m\u001b[1;33m)\u001b[0m\u001b[1;33m\u001b[0m\u001b[1;33m\u001b[0m\u001b[0m\n\u001b[0m",
      "\u001b[1;31mNameError\u001b[0m: name 'aa' is not defined"
     ]
    }
   ],
   "source": [
    "# local variable\n",
    "def f2():\n",
    "    aa = 10\n",
    "    \n",
    "print(aa) # Error: name 'aa' is not defined"
   ]
  },
  {
   "cell_type": "code",
   "execution_count": 43,
   "metadata": {},
   "outputs": [
    {
     "name": "stdout",
     "output_type": "stream",
     "text": [
      "20\n",
      "10\n"
     ]
    }
   ],
   "source": [
    "### Using global keyword ###\n",
    "a = 10\n",
    "\n",
    "def f1():\n",
    "    \n",
    "    a= 20 # This is local to f1()\n",
    "    print(a)\n",
    "    \n",
    "def f2():\n",
    "    print(a)\n",
    "    \n",
    "f1()\n",
    "f2()"
   ]
  },
  {
   "cell_type": "code",
   "execution_count": 45,
   "metadata": {},
   "outputs": [
    {
     "name": "stdout",
     "output_type": "stream",
     "text": [
      "20\n",
      "20\n"
     ]
    }
   ],
   "source": [
    "# using global keyword #\n",
    "a = 10\n",
    "\n",
    "def f1():\n",
    "    global a # to instruct f1() to use global version of a\n",
    "    a= 20 # This is global a variable\n",
    "    print(a)\n",
    "    \n",
    "def f2():\n",
    "    print(a) # Change on the global variable will be reflected to f2 also \n",
    "    \n",
    "f1()\n",
    "f2()"
   ]
  },
  {
   "cell_type": "code",
   "execution_count": 48,
   "metadata": {},
   "outputs": [
    {
     "name": "stdout",
     "output_type": "stream",
     "text": [
      "10\n",
      "10\n"
     ]
    }
   ],
   "source": [
    "# another use of global keyword #\n",
    "\n",
    "def f1():\n",
    "    global ab # ab will become global keyword. We can not initialize in the same line\n",
    "    ab = 10\n",
    "    print(ab)\n",
    "    \n",
    "def f2():\n",
    "    print(ab)\n",
    "\n",
    "f1()\n",
    "f2()"
   ]
  },
  {
   "cell_type": "code",
   "execution_count": 50,
   "metadata": {},
   "outputs": [
    {
     "ename": "SyntaxError",
     "evalue": "name 'a' is used prior to global declaration (<ipython-input-50-8ebef9e25461>, line 7)",
     "output_type": "error",
     "traceback": [
      "\u001b[1;36m  File \u001b[1;32m\"<ipython-input-50-8ebef9e25461>\"\u001b[1;36m, line \u001b[1;32m7\u001b[0m\n\u001b[1;33m    global a\u001b[0m\n\u001b[1;37m    ^\u001b[0m\n\u001b[1;31mSyntaxError\u001b[0m\u001b[1;31m:\u001b[0m name 'a' is used prior to global declaration\n"
     ]
    }
   ],
   "source": [
    "### Important conclusions about global keyword ###\n",
    "# We can not use a variable before global keyword in a function\n",
    "\n",
    "a = 777\n",
    "\n",
    "def f1():\n",
    "    print(a)\n",
    "    global a\n",
    "    a = 999\n",
    "    print(a)\n",
    "    \n",
    "f1()"
   ]
  },
  {
   "cell_type": "code",
   "execution_count": 2,
   "metadata": {},
   "outputs": [
    {
     "name": "stdout",
     "output_type": "stream",
     "text": "999\n888\nBelow are the globals dictionary content\n{'__name__': '__main__', '__doc__': 'Automatically created module for IPython interactive environment', '__package__': None, '__loader__': None, '__spec__': None, '__builtin__': <module 'builtins' (built-in)>, '__builtins__': <module 'builtins' (built-in)>, '_ih': ['', \"# all global varialble in a module is maintained by python in a dictionary tyhat will be returned by call to globals() method\\nac = 888\\n\\ndef f1():\\n    ac = 999\\n    print(ac)\\n    print(globals().get('ac')) # this will access the global ac copy from the dictioanlry\\n    \\nf1()\", '# all global varialble in a module is maintained by python in a dictionary tyhat will be returned by call to globals() method\\nac = 888\\n\\ndef f1():\\n    ac = 999\\n    print(ac)\\n    print(globals().get(\\'ac\\')) # this will access the global ac copy from the dictioanlry\\n    print(\"Below are the globals dictionary content\")\\n    print(globals())\\n    \\nf1()'], '_oh': {}, '_dh': ['/tmp/b60aa2e1-ae52-48b0-9dc2-a29e50e4bf64', '/home/dhinesh/Desktop/Dhinesh_Folders/Python_DurgaSoft'], 'In': ['', \"# all global varialble in a module is maintained by python in a dictionary tyhat will be returned by call to globals() method\\nac = 888\\n\\ndef f1():\\n    ac = 999\\n    print(ac)\\n    print(globals().get('ac')) # this will access the global ac copy from the dictioanlry\\n    \\nf1()\", '# all global varialble in a module is maintained by python in a dictionary tyhat will be returned by call to globals() method\\nac = 888\\n\\ndef f1():\\n    ac = 999\\n    print(ac)\\n    print(globals().get(\\'ac\\')) # this will access the global ac copy from the dictioanlry\\n    print(\"Below are the globals dictionary content\")\\n    print(globals())\\n    \\nf1()'], 'Out': {}, 'get_ipython': <bound method InteractiveShell.get_ipython of <ipykernel.zmqshell.ZMQInteractiveShell object at 0x7f27e5472be0>>, 'exit': <IPython.core.autocall.ZMQExitAutocall object at 0x7f27e5472128>, 'quit': <IPython.core.autocall.ZMQExitAutocall object at 0x7f27e5472128>, '_': '', '__': '', '___': '', '_i': \"# all global varialble in a module is maintained by python in a dictionary tyhat will be returned by call to globals() method\\nac = 888\\n\\ndef f1():\\n    ac = 999\\n    print(ac)\\n    print(globals().get('ac')) # this will access the global ac copy from the dictioanlry\\n    \\nf1()\", '_ii': '', '_iii': '', '_i1': \"# all global varialble in a module is maintained by python in a dictionary tyhat will be returned by call to globals() method\\nac = 888\\n\\ndef f1():\\n    ac = 999\\n    print(ac)\\n    print(globals().get('ac')) # this will access the global ac copy from the dictioanlry\\n    \\nf1()\", 'ac': 888, 'f1': <function f1 at 0x7f27cbebad08>, '_i2': '# all global varialble in a module is maintained by python in a dictionary tyhat will be returned by call to globals() method\\nac = 888\\n\\ndef f1():\\n    ac = 999\\n    print(ac)\\n    print(globals().get(\\'ac\\')) # this will access the global ac copy from the dictioanlry\\n    print(\"Below are the globals dictionary content\")\\n    print(globals())\\n    \\nf1()'}\n"
    }
   ],
   "source": [
    "# all global varialble in a module is maintained by python in a dictionary tyhat will be returned by call to globals() method\n",
    "ac = 888\n",
    "\n",
    "def f1():\n",
    "    ac = 999\n",
    "    print(ac)\n",
    "    print(globals().get('ac')) # this will access the global ac copy from the dictioanlry\n",
    "    print(\"Below are the globals dictionary content\")\n",
    "    print(globals())\n",
    "    \n",
    "f1()"
   ]
  },
  {
   "cell_type": "code",
   "execution_count": null,
   "metadata": {},
   "outputs": [],
   "source": []
  },
  {
   "cell_type": "code",
   "execution_count": 57,
   "metadata": {},
   "outputs": [
    {
     "name": "stdout",
     "output_type": "stream",
     "text": [
      "120\n"
     ]
    }
   ],
   "source": [
    "#### Recursive Functions Introduction and Demo ####\n",
    "# Factorial without recursion\n",
    "\n",
    "def factorial(n):\n",
    "    result = 1\n",
    "    \n",
    "    while n >=1:\n",
    "        result = result * n\n",
    "        n = n-1\n",
    "    return result\n",
    "\n",
    "print(factorial(5))"
   ]
  },
  {
   "cell_type": "code",
   "execution_count": 62,
   "metadata": {},
   "outputs": [
    {
     "name": "stdout",
     "output_type": "stream",
     "text": [
      "24\n",
      "120\n",
      "The factorial of 0 is 1\n",
      "The factorial of 1 is 1\n",
      "The factorial of 2 is 2\n",
      "The factorial of 3 is 6\n",
      "The factorial of 4 is 24\n",
      "The factorial of 5 is 120\n",
      "The factorial of 6 is 720\n",
      "The factorial of 7 is 5040\n",
      "The factorial of 8 is 40320\n",
      "The factorial of 9 is 362880\n",
      "The factorial of 10 is 3628800\n",
      "The factorial of 11 is 39916800\n"
     ]
    }
   ],
   "source": [
    "# Factorial with recursion\n",
    "\n",
    "def factorial(n):\n",
    "    if n==0:\n",
    "        result = 1\n",
    "    else:\n",
    "        result = n* factorial(n-1)\n",
    "    return result\n",
    "\n",
    "print(factorial(4))\n",
    "print(factorial(5))\n",
    "\n",
    "for i in range(12):\n",
    "    print(\"The factorial of {} is {}\".format(i, factorial(i)))"
   ]
  },
  {
   "cell_type": "code",
   "execution_count": 65,
   "metadata": {},
   "outputs": [
    {
     "name": "stdout",
     "output_type": "stream",
     "text": [
      "Execution of factorial function for n:  3\n",
      "Execution of factorial function for n:  2\n",
      "Execution of factorial function for n:  1\n",
      "Execution of factorial function for n:  0\n",
      "Returning factorial of (0) : 1\n",
      "Returning factorial of (1) : 1\n",
      "Returning factorial of (2) : 2\n",
      "Returning factorial of (3) : 6\n",
      "6\n"
     ]
    }
   ],
   "source": [
    "### Internal Tracing in Recursion ###\n",
    "\n",
    "def factorial(n):\n",
    "    print(\"Execution of factorial function for n: \", n)\n",
    "    if n==0:\n",
    "        result = 1\n",
    "    else:\n",
    "        result = n* factorial(n-1)\n",
    "    print(\"Returning factorial of ({}) : {}\".format(n, result))\n",
    "    return result\n",
    "\n",
    "print(factorial(3))"
   ]
  },
  {
   "cell_type": "code",
   "execution_count": 68,
   "metadata": {},
   "outputs": [
    {
     "name": "stdout",
     "output_type": "stream",
     "text": [
      "Execution of factorial function for n:  3\n",
      "Execution of factorial function for n:  2\n",
      "Execution of factorial function for n:  1\n",
      "Execution of factorial function for n:  0\n",
      "6\n",
      "Count  4\n"
     ]
    }
   ],
   "source": [
    "### Maximum Recursion Depth In Python ###\n",
    "# 995 is the recursion depth in python. If we cross, it will throw Recursion Error: maximum recursion depth exceeded\n",
    "count = 0\n",
    "\n",
    "def factorial(n):\n",
    "    global count\n",
    "    count = count + 1\n",
    "    print(\"Execution of factorial function for n: \", n)\n",
    "    print\n",
    "    if n==0:\n",
    "        result = 1\n",
    "    else:\n",
    "        result = n* factorial(n-1)\n",
    "    return result\n",
    "\n",
    "print(factorial(3))\n",
    "print(\"Count \", count)"
   ]
  },
  {
   "cell_type": "markdown",
   "metadata": {},
   "source": [
    "***\n",
    "### ANONYMOUS FUNCTIONS - LAMBDA #########\n",
    "* syntax ==> lambda input-arg: expression\n",
    "***"
   ]
  },
  {
   "cell_type": "code",
   "execution_count": 4,
   "metadata": {},
   "outputs": [
    {
     "name": "stdout",
     "output_type": "stream",
     "text": "<class 'function'>\n25\n"
    }
   ],
   "source": [
    "s = lambda n: n*n\n",
    "print(type(s))\n",
    "print(s(5))"
   ]
  },
  {
   "cell_type": "code",
   "execution_count": 71,
   "metadata": {},
   "outputs": [
    {
     "name": "stdout",
     "output_type": "stream",
     "text": [
      "9\n"
     ]
    }
   ],
   "source": [
    "# another example\n",
    "s = lambda a,b : a+b\n",
    "print(s(4,5))"
   ]
  },
  {
   "cell_type": "code",
   "execution_count": 73,
   "metadata": {},
   "outputs": [
    {
     "name": "stdout",
     "output_type": "stream",
     "text": [
      "458\n"
     ]
    }
   ],
   "source": [
    "# Lambda function to find the biggest number\n",
    "s = lambda a, b: a if a>b else b\n",
    "print(s(45,458))"
   ]
  },
  {
   "cell_type": "code",
   "execution_count": 75,
   "metadata": {},
   "outputs": [
    {
     "name": "stdout",
     "output_type": "stream",
     "text": [
      "584\n"
     ]
    }
   ],
   "source": [
    "# Bigger of 3 input values\n",
    "s = lambda a,b,c: a if a>b and a>c else b if b>c else c\n",
    "print(s(524,584,574))"
   ]
  },
  {
   "cell_type": "markdown",
   "metadata": {},
   "source": [
    "### Functions as arguments to another functions ###\n",
    "\"\"\"\n",
    "filter(function, sequence)\n",
    "map(function, sequence)\n",
    "reduce(function, sequence)\n",
    "\"\"\""
   ]
  },
  {
   "cell_type": "code",
   "execution_count": 76,
   "metadata": {},
   "outputs": [
    {
     "name": "stdout",
     "output_type": "stream",
     "text": [
      "[0, 2, 4, 6, 8, 10]\n"
     ]
    }
   ],
   "source": [
    "### filter() function ### to filter object from the given sequence based on a condition\n",
    "# Syntax: filter(function, sequence)\n",
    "\n",
    "l = [0,1,2,3,4,5,6,7,8,9,10]\n",
    "\n",
    "#without filter function - filtering even number from a list\n",
    "\n",
    "def iseven(n):\n",
    "    if n%2 == 0:\n",
    "        return True\n",
    "    else:\n",
    "        return False\n",
    "l1 = []\n",
    "for x in l:\n",
    "    if iseven(x) == True:\n",
    "        l1.append(x)\n",
    "        \n",
    "print(l1)"
   ]
  },
  {
   "cell_type": "code",
   "execution_count": 78,
   "metadata": {},
   "outputs": [
    {
     "name": "stdout",
     "output_type": "stream",
     "text": [
      "[0, 2, 4, 6, 8, 10]\n"
     ]
    }
   ],
   "source": [
    "#using filter function - filtering even number from a list\n",
    "l = [0,1,2,3,4,5,6,7,8,9,10]\n",
    "\n",
    "def iseven(n):\n",
    "    if n%2 == 0:\n",
    "        return True\n",
    "    else:\n",
    "        return False\n",
    "    \n",
    "l1 = list(filter(iseven, l))\n",
    "print(l1)"
   ]
  },
  {
   "cell_type": "code",
   "execution_count": 79,
   "metadata": {},
   "outputs": [
    {
     "name": "stdout",
     "output_type": "stream",
     "text": [
      "[0, 2, 4, 6, 8, 10]\n"
     ]
    }
   ],
   "source": [
    "# above code with lambda\n",
    "l = [0,1,2,3,4,5,6,7,8,9,10]\n",
    "l1 = list(filter(lambda n: n%2==0, l))\n",
    "print(l1)"
   ]
  },
  {
   "cell_type": "code",
   "execution_count": 81,
   "metadata": {},
   "outputs": [
    {
     "name": "stdout",
     "output_type": "stream",
     "text": [
      "[1, 3, 5, 7, 9]\n"
     ]
    }
   ],
   "source": [
    "# Filter Function Demo Program\n",
    "# To filter odd numbers from a list\n",
    "l = [0,1,2,3,4,5,6,7,8,9,10]\n",
    "l1 = list(filter(lambda n: n%2==1, l))\n",
    "print(l1)"
   ]
  },
  {
   "cell_type": "code",
   "execution_count": 82,
   "metadata": {},
   "outputs": [
    {
     "name": "stdout",
     "output_type": "stream",
     "text": [
      "[3, 9]\n"
     ]
    }
   ],
   "source": [
    "# filter number divisible by 3 and odd numbers\n",
    "l = [0,1,2,3,4,5,6,7,8,9,10]\n",
    "l1 = list(filter(lambda n: n%3 ==0 and n%2==1, l))\n",
    "print(l1)"
   ]
  },
  {
   "cell_type": "code",
   "execution_count": 83,
   "metadata": {},
   "outputs": [
    {
     "name": "stdout",
     "output_type": "stream",
     "text": [
      "['kanu', 'kumar', 'kuma_tekken']\n"
     ]
    }
   ],
   "source": [
    "# to filter names that start with letter 'K'\n",
    "names = ['dhinesh', 'babu', 'kanu', 'kumar', 'kuma_tekken']\n",
    "startswith = list(filter(lambda name: name[0]=='k', names))\n",
    "print(startswith)"
   ]
  },
  {
   "cell_type": "code",
   "execution_count": 84,
   "metadata": {},
   "outputs": [
    {
     "name": "stdout",
     "output_type": "stream",
     "text": [
      "['kumar']\n"
     ]
    }
   ],
   "source": [
    "# to filter names with length divisible by 5\n",
    "names = ['dhinesh', 'babu', 'kanu', 'kumar', 'kuma_tekken']\n",
    "startswith = list(filter(lambda name: len(name)%5 == 0, names))\n",
    "print(startswith)"
   ]
  },
  {
   "cell_type": "code",
   "execution_count": 85,
   "metadata": {},
   "outputs": [
    {
     "name": "stdout",
     "output_type": "stream",
     "text": [
      "[1, 4, 9, 16, 25]\n"
     ]
    }
   ],
   "source": [
    "##### map() Function ##### for every input element, there will be a mapped  value\n",
    "# square the numbers\n",
    "l = [1,2,3,4,5]\n",
    "\n",
    "def square(n):\n",
    "    return n*n\n",
    "\n",
    "l1 = list(map(square, l))\n",
    "print(l1)"
   ]
  },
  {
   "cell_type": "code",
   "execution_count": 87,
   "metadata": {},
   "outputs": [
    {
     "name": "stdout",
     "output_type": "stream",
     "text": [
      "[1, 4, 9, 16, 25, 36]\n"
     ]
    }
   ],
   "source": [
    "# map() method using lambda\n",
    "l = [1,2,3,4,5,6]\n",
    "\n",
    "l1 = list(map(lambda n: n*n, l))\n",
    "print(l1)"
   ]
  },
  {
   "cell_type": "code",
   "execution_count": 88,
   "metadata": {},
   "outputs": [
    {
     "name": "stdout",
     "output_type": "stream",
     "text": [
      "[5, 20, 45, 80, 125]\n"
     ]
    }
   ],
   "source": [
    "# adding 2 lists using map\n",
    "l1 = [1,2,3,4,5]\n",
    "l2 = [5,10,15,20,25]\n",
    "l3 = list(map(lambda x,y: x*y, l1, l2))\n",
    "print(l3)"
   ]
  },
  {
   "cell_type": "code",
   "execution_count": 90,
   "metadata": {},
   "outputs": [
    {
     "name": "stdout",
     "output_type": "stream",
     "text": [
      "15\n"
     ]
    }
   ],
   "source": [
    "### reduce() function ### reduces all elements from the given sequence into a single value\n",
    "# reduce is from functools package. need to import \n",
    "from functools import reduce\n",
    "\n",
    "l = [1,2,3,4,5]\n",
    "\n",
    "l1 = reduce(lambda x,y: x+y, l)\n",
    "print(l1)\n"
   ]
  },
  {
   "cell_type": "code",
   "execution_count": 92,
   "metadata": {},
   "outputs": [
    {
     "name": "stdout",
     "output_type": "stream",
     "text": [
      "5050\n"
     ]
    }
   ],
   "source": [
    "# find the sum of first 100 numbers using reduce() function\n",
    "from functools import reduce\n",
    "l1 = reduce(lambda x,y: x+y, range(1,101))\n",
    "print(l1)"
   ]
  },
  {
   "cell_type": "code",
   "execution_count": null,
   "metadata": {},
   "outputs": [],
   "source": []
  }
 ],
 "metadata": {
  "kernelspec": {
   "display_name": "Python 3",
   "language": "python",
   "name": "python3"
  },
  "language_info": {
   "codemirror_mode": {
    "name": "ipython",
    "version": 3
   },
   "file_extension": ".py",
   "mimetype": "text/x-python",
   "name": "python",
   "nbconvert_exporter": "python",
   "pygments_lexer": "ipython3",
   "version": "3.6.9-final"
  }
 },
 "nbformat": 4,
 "nbformat_minor": 4
}