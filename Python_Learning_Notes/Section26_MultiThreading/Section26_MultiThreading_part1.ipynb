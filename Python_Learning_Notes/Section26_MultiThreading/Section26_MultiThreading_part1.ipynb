{
 "cells": [
  {
   "cell_type": "markdown",
   "metadata": {},
   "source": [
    "### Types of Multi-tasking\n",
    "    1. Process based multi tasking\n",
    "    2. Thread based multi tasking\n",
    "\n",
    "* Every program runs on thread called Main\n",
    "* \"threading\" module we need to use"
   ]
  },
  {
   "cell_type": "code",
   "execution_count": 1,
   "metadata": {},
   "outputs": [
    {
     "name": "stdout",
     "output_type": "stream",
     "text": "Current executing thread:  MainThread\n"
    }
   ],
   "source": [
    "import threading\n",
    "print('Current executing thread: ', threading.current_thread().getName())"
   ]
  },
  {
   "cell_type": "markdown",
   "metadata": {},
   "source": [
    "### Ways to create thread in python ( 3 ways)\n",
    "* Creating a thread without using any class\n",
    "* Creating a thread by extending Thread class\n",
    "* Creating a thread without extending Thread class"
   ]
  },
  {
   "cell_type": "code",
   "execution_count": 9,
   "metadata": {},
   "outputs": [
    {
     "name": "stdout",
     "output_type": "stream",
     "text": "Display function code is being executed by:  Thread-11\n\nThis code is being executed by:  MainThread\n"
    }
   ],
   "source": [
    "# Creating a thread without using any class\n",
    "from threading import *\n",
    "\n",
    "def display():\n",
    "    print(\"Display function code is being executed by: \", current_thread().getName())\n",
    "    print()\n",
    "\n",
    "t = Thread(target=display) # MainThread creates ChildThread object\n",
    "t.start() # MainThread starts ChildThread\n",
    "print(\"This code is being executed by: \", current_thread().getName())"
   ]
  },
  {
   "cell_type": "code",
   "execution_count": 15,
   "metadata": {},
   "outputs": [
    {
     "name": "stdout",
     "output_type": "stream",
     "text": "Child ThreadMain Thread\n\nMain Thread\nMain Thread\nMain Thread\nMain Thread\nMain Thread\nMain Thread\nMain Thread\nMain Thread\nMain Thread\nChild Thread\nChild Thread\nChild Thread\nChild Thread\nChild Thread\nChild Thread\nChild Thread\nChild Thread\nChild Thread\n"
    }
   ],
   "source": [
    "# another demo program\n",
    "from threading import *\n",
    "\n",
    "def display():\n",
    "    for i in range(10):\n",
    "        print('Child Thread')\n",
    "\n",
    "t = Thread(target=display)\n",
    "t.start()\n",
    "\n",
    "for i in range(10):\n",
    "    print('Main Thread')"
   ]
  },
  {
   "cell_type": "markdown",
   "metadata": {},
   "source": [
    "### Method 2: Creating a thread by extending \"Thread\" class"
   ]
  },
  {
   "cell_type": "code",
   "execution_count": 17,
   "metadata": {},
   "outputs": [
    {
     "name": "stdout",
     "output_type": "stream",
     "text": "Child Thread1Main Thread1\nMain Thread1\n\nMain Thread1Child Thread1\nChild Thread1\n\nMain Thread1\nMain Thread1\nMain Thread1\nMain Thread1\nMain Thread1\nMain Thread1\nMain Thread1\nChild Thread1\nChild Thread1\nChild Thread1\nChild Thread1\nChild Thread1\nChild Thread1\nChild Thread1\n"
    }
   ],
   "source": [
    "from threading import *\n",
    "\n",
    "class MyThread(Thread):\n",
    "    def run(self):\n",
    "        for i in range(10):\n",
    "            print('Child Thread1')\n",
    "             \n",
    "t = MyThread()\n",
    "t.start()\n",
    "\n",
    "for i in range(10):\n",
    "    print('Main Thread1')"
   ]
  },
  {
   "cell_type": "markdown",
   "metadata": {},
   "source": [
    "***\n",
    "### Method 3: Creating a thread without extending \"Thread\" class\n",
    "***"
   ]
  },
  {
   "cell_type": "code",
   "execution_count": 29,
   "metadata": {},
   "outputs": [
    {
     "name": "stdout",
     "output_type": "stream",
     "text": "Child Thread0\n\n1\n2\n3\n4Child Thread\n\n5\nChild Thread\nChild Thread\nChild Thread\nChild Thread\nChild Thread\nChild Thread\nChild Thread\nChild Thread\n6\n7\n8\n9\n"
    }
   ],
   "source": [
    "\n",
    "from threading import *\n",
    "\n",
    "class Test:\n",
    "    def display(self):\n",
    "        for i in range(10):\n",
    "            print('Child Thread')\n",
    "\n",
    "obj = Test()\n",
    "t = Thread(target=obj.display)\n",
    "t.start()\n",
    "  \n",
    "for i in range(10):\n",
    "    print(i)"
   ]
  },
  {
   "cell_type": "code",
   "execution_count": 32,
   "metadata": {},
   "outputs": [
    {
     "name": "stdout",
     "output_type": "stream",
     "text": "Double:  2\nDouble:  4\nDouble:  6\nDouble:  8\nDouble:  10\nDouble:  12\nSquare:  1\nSquare:  4\nSquare:  9\nSquare:  16\nSquare:  25\nSquare:  36\nThe total time taken:  12.019608736038208\n"
    }
   ],
   "source": [
    "# Demo program - without multithreading\n",
    "\n",
    "import time\n",
    "\n",
    "def double(numbers):\n",
    "    for n in numbers:\n",
    "        time.sleep(1)\n",
    "        print('Double: ', 2*n)\n",
    "\n",
    "def square(numbers):\n",
    "    for n in numbers:\n",
    "        time.sleep(1)\n",
    "        print('Square: ', n*n)\n",
    "\n",
    "numbers = [1,2,3,4,5,6]\n",
    "begin_time = time.time()\n",
    "double(numbers)\n",
    "square(numbers)\n",
    "end_time = time.time()\n",
    "print('The total time taken: ', end_time - begin_time)\n"
   ]
  },
  {
   "cell_type": "code",
   "execution_count": 33,
   "metadata": {},
   "outputs": [
    {
     "name": "stdout",
     "output_type": "stream",
     "text": "Double:  2\nSquare:  1\nDouble:  4\nSquare:  4\nDouble:  6\nSquare:  9\nDouble:  8\nSquare:  16\nDouble:  10\nSquare:  25\nDouble:  12\nSquare:  36\nThe total time taken:  6.0389697551727295\n"
    }
   ],
   "source": [
    "# Demo program - with multithreading\n",
    "from threading import *\n",
    "import time\n",
    "\n",
    "def double(numbers):\n",
    "    for n in numbers:\n",
    "        time.sleep(1)\n",
    "        print('Double: ', 2*n)\n",
    "\n",
    "def square(numbers):\n",
    "    for n in numbers:\n",
    "        time.sleep(1)\n",
    "        print('Square: ', n*n)\n",
    "\n",
    "numbers = [1,2,3,4,5,6]\n",
    "begin_time = time.time()\n",
    "#double(numbers)\n",
    "t1 = Thread(target=double, args=(numbers,))\n",
    "t2 = Thread(target=square, args=(numbers,))\n",
    "t1.start()\n",
    "t2.start()\n",
    "t1.join() # MainThread will be waiting until the completion of childthreads\n",
    "t2.join()\n",
    "end_time = time.time()\n",
    "print('The total time taken: ', end_time - begin_time)\n"
   ]
  },
  {
   "cell_type": "code",
   "execution_count": 34,
   "metadata": {},
   "outputs": [
    {
     "name": "stdout",
     "output_type": "stream",
     "text": "MainThread\nKani\n"
    }
   ],
   "source": [
    "### Changing the name of the default name of a thread\n",
    "\n",
    "from threading import *\n",
    "print(current_thread().getName())\n",
    "current_thread().setName(\"Kani\")\n",
    "print(current_thread().name)"
   ]
  },
  {
   "cell_type": "markdown",
   "metadata": {},
   "source": [
    "***\n",
    "### Thread Identification Number (ident)\n",
    "*** "
   ]
  },
  {
   "cell_type": "code",
   "execution_count": 5,
   "metadata": {},
   "outputs": [
    {
     "name": "stdout",
     "output_type": "stream",
     "text": "Child Thread\nMain thread Identification Number:  139888160302912\nChild thread Identification Number:  139887712392960\n"
    }
   ],
   "source": [
    "from threading import *\n",
    "\n",
    "def test():\n",
    "    print('Child Thread')\n",
    "\n",
    "t = Thread(target=test)\n",
    "t.start()\n",
    "t.join()\n",
    "print('Main thread Identification Number: ', current_thread().ident)\n",
    "print('Child thread Identification Number: ', t.ident)"
   ]
  },
  {
   "cell_type": "markdown",
   "metadata": {},
   "source": [
    "***\n",
    "### active_count() - to get the number of active threads\n",
    "***"
   ]
  },
  {
   "cell_type": "code",
   "execution_count": 13,
   "metadata": {},
   "outputs": [
    {
     "name": "stdout",
     "output_type": "stream",
     "text": "The number of active threads:  5\nMy Thread1  Started\nMy Thread2My Thread3  Started\nThe number of active threads:  8\n  Started\nMy Thread1  ended\nMy Thread3  ended\nMy Thread2  ended\nThe number of active threads:  5\n"
    }
   ],
   "source": [
    "from threading import *\n",
    "import time\n",
    "\n",
    "def display():\n",
    "    print(current_thread().name, ' Started')\n",
    "    time.sleep(3)\n",
    "    print(current_thread().name, ' ended')\n",
    "\n",
    "\n",
    "print('The number of active threads: ', active_count())\n",
    "t1 = Thread(target=display, name='My Thread1')\n",
    "t2 = Thread(target=display, name='My Thread2')\n",
    "t3 = Thread(target=display, name='My Thread3')\n",
    "t1.start()\n",
    "t2.start()\n",
    "t3.start()\n",
    "print('The number of active threads: ', active_count())\n",
    "time.sleep(10) # This will make MainThread sleep for 10 seconds\n",
    "print('The number of active threads: ', active_count())"
   ]
  },
  {
   "cell_type": "markdown",
   "metadata": {},
   "source": [
    "***\n",
    "### enumerate() - to list information all active threads\n",
    "***"
   ]
  },
  {
   "cell_type": "code",
   "execution_count": 15,
   "metadata": {},
   "outputs": [
    {
     "name": "stdout",
     "output_type": "stream",
     "text": "The number of active threads:  5\nMy Thread1  Started\nMy Thread2  Started\nMy Thread3Name:  MainThread\nName:  Thread-2\nName:  Thread-3\nName:  IPythonHistorySavingThread\nName:  Thread-1\nName:  My Thread1\nName:  My Thread2\nName:  My Thread3\nThe number of active threads:  8\n  Started\nMy Thread1  ended\nMy Thread2  ended\nMy Thread3  ended\nThe number of active threads:  5\nName:  MainThread\nName:  Thread-2\nName:  Thread-3\nName:  IPythonHistorySavingThread\nName:  Thread-1\n"
    }
   ],
   "source": [
    "from threading import *\n",
    "import time\n",
    "\n",
    "def display():\n",
    "    print(current_thread().name, ' Started')\n",
    "    time.sleep(3)\n",
    "    print(current_thread().name, ' ended')\n",
    "\n",
    "\n",
    "print('The number of active threads: ', active_count())\n",
    "t1 = Thread(target=display, name='My Thread1')\n",
    "t2 = Thread(target=display, name='My Thread2')\n",
    "t3 = Thread(target=display, name='My Thread3')\n",
    "t1.start()\n",
    "t2.start()\n",
    "t3.start()\n",
    "l = enumerate()\n",
    "for t in l:\n",
    "    print('Name: ', t.name)\n",
    "print('The number of active threads: ', active_count())\n",
    "time.sleep(10) # This will make MainThread sleep for 10 seconds\n",
    "print('The number of active threads: ', active_count())\n",
    "l = enumerate()\n",
    "for t in l:\n",
    "    print('Name: ', t.name)"
   ]
  },
  {
   "cell_type": "markdown",
   "metadata": {},
   "source": [
    "***\n",
    "### isAlive() - to check if the thread is alive or not\n",
    "***"
   ]
  },
  {
   "cell_type": "code",
   "execution_count": 17,
   "metadata": {},
   "outputs": [
    {
     "name": "stdout",
     "output_type": "stream",
     "text": "The number of active threads:  5\nMy Thread1My Thread2  Started\n  Started\nMy Thread3My Thread1  status  True\nThe number of active threads:  8\n  Started\nMy Thread2  ended\nMy Thread1  ended\nMy Thread3  ended\nThe number of active threads:  5\nMy Thread1  status  False\n"
    }
   ],
   "source": [
    "from threading import *\n",
    "import time\n",
    "\n",
    "def display():\n",
    "    print(current_thread().name, ' Started')\n",
    "    time.sleep(3)\n",
    "    print(current_thread().name, ' ended')\n",
    "\n",
    "\n",
    "print('The number of active threads: ', active_count())\n",
    "t1 = Thread(target=display, name='My Thread1')\n",
    "t2 = Thread(target=display, name='My Thread2')\n",
    "t3 = Thread(target=display, name='My Thread3')\n",
    "t1.start()\n",
    "t2.start()\n",
    "t3.start()\n",
    "print(t1.name, ' status (is alive?) ', t1.isAlive())\n",
    "print('The number of active threads: ', active_count())\n",
    "time.sleep(10) # This will make MainThread sleep for 10 seconds\n",
    "print('The number of active threads: ', active_count())\n",
    "print(t1.name, ' status (is alive?) ', t1.isAlive())"
   ]
  },
  {
   "cell_type": "markdown",
   "metadata": {},
   "source": [
    "***\n",
    "### join() method - if a thread wants to wait untill the completion of another thread. we have to use join() method\n",
    "***"
   ]
  },
  {
   "cell_type": "code",
   "execution_count": 21,
   "metadata": {},
   "outputs": [
    {
     "name": "stdout",
     "output_type": "stream",
     "text": "Some Thread\nSome Thread\nSome Thread\nSome Thread\nSome Thread\nSome Thread\nSome Thread\nSome Thread\nSome Thread\nSome Thread\nAny thread\nAny thread\nAny thread\nAny thread\nAny thread\nAny thread\nAny thread\nAny thread\nAny thread\nAny thread\n"
    }
   ],
   "source": [
    "from threading import *\n",
    "import time\n",
    "\n",
    "def display():\n",
    "    for i in range(10):\n",
    "        print('Some Thread')\n",
    "        time.sleep(1)\n",
    "\n",
    "\n",
    "t = Thread(target=display)\n",
    "t.start()\n",
    "t.join() # Since this line is executed by MainThread, MainThread will wait until the completion of thread t\n",
    "# we can specify the econds also to wait => join(seconds)\n",
    "for i in range(10):\n",
    "    print('Any thread')\n",
    "    "
   ]
  },
  {
   "cell_type": "markdown",
   "metadata": {},
   "source": [
    "***\n",
    "## Daemon Threads\n",
    " - Threads running in the background\n",
    " - To provide support for the main Threads\n",
    " - Example. Garbage Collection\n",
    "***"
   ]
  },
  {
   "cell_type": "code",
   "execution_count": 2,
   "metadata": {},
   "outputs": [
    {
     "name": "stdout",
     "output_type": "stream",
     "text": "False\nFalse\n"
    }
   ],
   "source": [
    "# isDeamon() method used to check whether the thread is Daemon or not\n",
    "# .deamon property can also be used\n",
    "\n",
    "from threading import *\n",
    "print(current_thread().daemon)\n",
    "print(current_thread().isDaemon())"
   ]
  },
  {
   "cell_type": "markdown",
   "metadata": {},
   "source": [
    "***\n",
    "* we can use setDaemon() method to change normal thread to Deamon thread\n",
    "* But once the thread is started we cannot change the daemon nature, if so we will get run time exception\n",
    "* So we can never change the Deamon nature of MainThread because that will start when the program starts\n",
    "* MainThread is always Non-Deamon\n",
    "* For all reamining threads daemon nature will be inherited from parent thread\n",
    "* We can change only for other threads\n",
    "***"
   ]
  },
  {
   "cell_type": "code",
   "execution_count": 6,
   "metadata": {},
   "outputs": [
    {
     "name": "stdout",
     "output_type": "stream",
     "text": "False\n"
    },
    {
     "ename": "RuntimeError",
     "evalue": "cannot set daemon status of active thread",
     "output_type": "error",
     "traceback": [
      "\u001b[0;31m---------------------------------------------------------------------------\u001b[0m",
      "\u001b[0;31mRuntimeError\u001b[0m                              Traceback (most recent call last)",
      "\u001b[0;32m<ipython-input-6-2ba9af031a33>\u001b[0m in \u001b[0;36m<module>\u001b[0;34m\u001b[0m\n\u001b[1;32m      6\u001b[0m \u001b[0;32mfrom\u001b[0m \u001b[0mthreading\u001b[0m \u001b[0;32mimport\u001b[0m \u001b[0;34m*\u001b[0m\u001b[0;34m\u001b[0m\u001b[0;34m\u001b[0m\u001b[0m\n\u001b[1;32m      7\u001b[0m \u001b[0mprint\u001b[0m\u001b[0;34m(\u001b[0m\u001b[0mcurrent_thread\u001b[0m\u001b[0;34m(\u001b[0m\u001b[0;34m)\u001b[0m\u001b[0;34m.\u001b[0m\u001b[0mdaemon\u001b[0m\u001b[0;34m)\u001b[0m\u001b[0;34m\u001b[0m\u001b[0;34m\u001b[0m\u001b[0m\n\u001b[0;32m----> 8\u001b[0;31m \u001b[0mcurrent_thread\u001b[0m\u001b[0;34m(\u001b[0m\u001b[0;34m)\u001b[0m\u001b[0;34m.\u001b[0m\u001b[0msetDaemon\u001b[0m\u001b[0;34m(\u001b[0m\u001b[0;32mTrue\u001b[0m\u001b[0;34m)\u001b[0m\u001b[0;34m\u001b[0m\u001b[0;34m\u001b[0m\u001b[0m\n\u001b[0m",
      "\u001b[0;32m/usr/lib/python3.6/threading.py\u001b[0m in \u001b[0;36msetDaemon\u001b[0;34m(self, daemonic)\u001b[0m\n\u001b[1;32m   1146\u001b[0m \u001b[0;34m\u001b[0m\u001b[0m\n\u001b[1;32m   1147\u001b[0m     \u001b[0;32mdef\u001b[0m \u001b[0msetDaemon\u001b[0m\u001b[0;34m(\u001b[0m\u001b[0mself\u001b[0m\u001b[0;34m,\u001b[0m \u001b[0mdaemonic\u001b[0m\u001b[0;34m)\u001b[0m\u001b[0;34m:\u001b[0m\u001b[0;34m\u001b[0m\u001b[0;34m\u001b[0m\u001b[0m\n\u001b[0;32m-> 1148\u001b[0;31m         \u001b[0mself\u001b[0m\u001b[0;34m.\u001b[0m\u001b[0mdaemon\u001b[0m \u001b[0;34m=\u001b[0m \u001b[0mdaemonic\u001b[0m\u001b[0;34m\u001b[0m\u001b[0;34m\u001b[0m\u001b[0m\n\u001b[0m\u001b[1;32m   1149\u001b[0m \u001b[0;34m\u001b[0m\u001b[0m\n\u001b[1;32m   1150\u001b[0m     \u001b[0;32mdef\u001b[0m \u001b[0mgetName\u001b[0m\u001b[0;34m(\u001b[0m\u001b[0mself\u001b[0m\u001b[0;34m)\u001b[0m\u001b[0;34m:\u001b[0m\u001b[0;34m\u001b[0m\u001b[0;34m\u001b[0m\u001b[0m\n",
      "\u001b[0;32m/usr/lib/python3.6/threading.py\u001b[0m in \u001b[0;36mdaemon\u001b[0;34m(self, daemonic)\u001b[0m\n\u001b[1;32m   1139\u001b[0m             \u001b[0;32mraise\u001b[0m \u001b[0mRuntimeError\u001b[0m\u001b[0;34m(\u001b[0m\u001b[0;34m\"Thread.__init__() not called\"\u001b[0m\u001b[0;34m)\u001b[0m\u001b[0;34m\u001b[0m\u001b[0;34m\u001b[0m\u001b[0m\n\u001b[1;32m   1140\u001b[0m         \u001b[0;32mif\u001b[0m \u001b[0mself\u001b[0m\u001b[0;34m.\u001b[0m\u001b[0m_started\u001b[0m\u001b[0;34m.\u001b[0m\u001b[0mis_set\u001b[0m\u001b[0;34m(\u001b[0m\u001b[0;34m)\u001b[0m\u001b[0;34m:\u001b[0m\u001b[0;34m\u001b[0m\u001b[0;34m\u001b[0m\u001b[0m\n\u001b[0;32m-> 1141\u001b[0;31m             \u001b[0;32mraise\u001b[0m \u001b[0mRuntimeError\u001b[0m\u001b[0;34m(\u001b[0m\u001b[0;34m\"cannot set daemon status of active thread\"\u001b[0m\u001b[0;34m)\u001b[0m\u001b[0;34m\u001b[0m\u001b[0;34m\u001b[0m\u001b[0m\n\u001b[0m\u001b[1;32m   1142\u001b[0m         \u001b[0mself\u001b[0m\u001b[0;34m.\u001b[0m\u001b[0m_daemonic\u001b[0m \u001b[0;34m=\u001b[0m \u001b[0mdaemonic\u001b[0m\u001b[0;34m\u001b[0m\u001b[0;34m\u001b[0m\u001b[0m\n\u001b[1;32m   1143\u001b[0m \u001b[0;34m\u001b[0m\u001b[0m\n",
      "\u001b[0;31mRuntimeError\u001b[0m: cannot set daemon status of active thread"
     ]
    }
   ],
   "source": [
    "from threading import *\n",
    "print(current_thread().daemon)\n",
    "# The below code will RuntimeError\n",
    "current_thread().setDaemon(True)"
   ]
  },
  {
   "cell_type": "code",
   "execution_count": 10,
   "metadata": {},
   "outputs": [
    {
     "name": "stdout",
     "output_type": "stream",
     "text": "False\nTrue\n"
    }
   ],
   "source": [
    "# Demo \n",
    "# MainThread is always Non-Deamon\n",
    "# For all reamining threads daemon nature will be inherited from parent thread\n",
    "\n",
    "from threading import *\n",
    "\n",
    "def job():\n",
    "    print('child thread')\n",
    "\n",
    "t = Thread(target = job) \n",
    "print(t.daemon) # since MainTHread is non-daemon this is also non-daemon by default. but we can change\n",
    "t.setDaemon(True)\n",
    "print(t.daemon)"
   ]
  },
  {
   "cell_type": "code",
   "execution_count": 13,
   "metadata": {},
   "outputs": [
    {
     "name": "stdout",
     "output_type": "stream",
     "text": "Lazy Thread\nLazy Thread\nEnd of Main Thread\n"
    }
   ],
   "source": [
    "# if the last non-daemon thread is terminated all the daemon threads will be terminated\n",
    "from threading import *\n",
    "import time\n",
    "\n",
    "def job():\n",
    "    for i in range(10):\n",
    "        print('Lazy Thread')\n",
    "        time.sleep(3)\n",
    "\n",
    "t = Thread(target = job)\n",
    "t.setDaemon(True)\n",
    "t.start()\n",
    "time.sleep(5)\n",
    "print('End of Main Thread') # child thread will not run once the MainThread is completed"
   ]
  },
  {
   "cell_type": "code",
   "execution_count": null,
   "metadata": {},
   "outputs": [],
   "source": []
  },
  {
   "cell_type": "code",
   "execution_count": null,
   "metadata": {},
   "outputs": [],
   "source": []
  },
  {
   "cell_type": "code",
   "execution_count": null,
   "metadata": {},
   "outputs": [],
   "source": []
  },
  {
   "cell_type": "code",
   "execution_count": null,
   "metadata": {},
   "outputs": [],
   "source": []
  },
  {
   "cell_type": "code",
   "execution_count": null,
   "metadata": {},
   "outputs": [],
   "source": []
  },
  {
   "cell_type": "code",
   "execution_count": null,
   "metadata": {},
   "outputs": [],
   "source": []
  },
  {
   "cell_type": "code",
   "execution_count": null,
   "metadata": {},
   "outputs": [],
   "source": []
  },
  {
   "cell_type": "code",
   "execution_count": null,
   "metadata": {},
   "outputs": [],
   "source": []
  },
  {
   "cell_type": "code",
   "execution_count": null,
   "metadata": {},
   "outputs": [],
   "source": []
  },
  {
   "cell_type": "code",
   "execution_count": null,
   "metadata": {},
   "outputs": [],
   "source": []
  },
  {
   "cell_type": "code",
   "execution_count": null,
   "metadata": {},
   "outputs": [],
   "source": []
  },
  {
   "cell_type": "code",
   "execution_count": null,
   "metadata": {},
   "outputs": [],
   "source": []
  }
 ],
 "metadata": {
  "kernelspec": {
   "display_name": "Python 3",
   "language": "python",
   "name": "python3"
  },
  "language_info": {
   "codemirror_mode": {
    "name": "ipython",
    "version": 3
   },
   "file_extension": ".py",
   "mimetype": "text/x-python",
   "name": "python",
   "nbconvert_exporter": "python",
   "pygments_lexer": "ipython3",
   "version": "3.6.9-final"
  }
 },
 "nbformat": 4,
 "nbformat_minor": 4
}