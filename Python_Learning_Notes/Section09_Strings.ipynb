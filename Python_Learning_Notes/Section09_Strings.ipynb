{
 "cells": [
  {
   "cell_type": "markdown",
   "metadata": {},
   "source": [
    "***\n",
    "## Strings\n",
    "***"
   ]
  },
  {
   "cell_type": "code",
   "execution_count": 1,
   "metadata": {},
   "outputs": [
    {
     "name": "stdout",
     "output_type": "stream",
     "text": "Hello this is ' and this is \" \n"
    }
   ],
   "source": [
    "# use \"\"\" to add ' or \" in your string\n",
    "sample = \"\"\" Hello this is ' and this is \" \"\"\"\n",
    "print(sample)\n"
   ]
  },
  {
   "cell_type": "markdown",
   "metadata": {},
   "source": [
    "***\n",
    "### accessing characters of the string either by using indexing or by slicing\n",
    "***"
   ]
  },
  {
   "cell_type": "code",
   "execution_count": 3,
   "metadata": {},
   "outputs": [
    {
     "name": "stdin",
     "output_type": "stream",
     "text": [
      "Enter Some String:  Kanu Hasini\n"
     ]
    },
    {
     "name": "stdout",
     "output_type": "stream",
     "text": [
      "The character present at +ve index : 0 and at -ve index: -11 is K\n",
      "The character present at +ve index : 1 and at -ve index: -10 is a\n",
      "The character present at +ve index : 2 and at -ve index: -9 is n\n",
      "The character present at +ve index : 3 and at -ve index: -8 is u\n",
      "The character present at +ve index : 4 and at -ve index: -7 is  \n",
      "The character present at +ve index : 5 and at -ve index: -6 is H\n",
      "The character present at +ve index : 6 and at -ve index: -5 is a\n",
      "The character present at +ve index : 7 and at -ve index: -4 is s\n",
      "The character present at +ve index : 8 and at -ve index: -3 is i\n",
      "The character present at +ve index : 9 and at -ve index: -2 is n\n",
      "The character present at +ve index : 10 and at -ve index: -1 is i\n"
     ]
    }
   ],
   "source": [
    "# program to display characters of givn string wise (both positive and negative)\n",
    "\n",
    "s = input('Enter Some String: ')\n",
    "\n",
    "i = 0\n",
    "\n",
    "for x in s:\n",
    "    print(\"The character present at +ve index : {} and at -ve index: {} is {}\".format(i, i-len(s), x))\n",
    "    i += 1"
   ]
  },
  {
   "cell_type": "code",
   "execution_count": 4,
   "metadata": {},
   "outputs": [
    {
     "name": "stdout",
     "output_type": "stream",
     "text": [
      "nu Ha\n"
     ]
    }
   ],
   "source": [
    "#slicing - we can extract a sub string from a python string\n",
    "# syntax s[begin: end: step]\n",
    "\n",
    "s = \"Kanu Hasini\"\n",
    "print(s[2:7])"
   ]
  },
  {
   "cell_type": "code",
   "execution_count": 5,
   "metadata": {},
   "outputs": [
    {
     "data": {
      "text/plain": [
       "'Kanu Hasini'"
      ]
     },
     "execution_count": 5,
     "metadata": {},
     "output_type": "execute_result"
    }
   ],
   "source": [
    "s[:]"
   ]
  },
  {
   "cell_type": "code",
   "execution_count": 6,
   "metadata": {},
   "outputs": [
    {
     "data": {
      "text/plain": [
       "'n a'"
      ]
     },
     "execution_count": 6,
     "metadata": {},
     "output_type": "execute_result"
    }
   ],
   "source": [
    "#with step parameter\n",
    "s[2:7:2]"
   ]
  },
  {
   "cell_type": "code",
   "execution_count": 7,
   "metadata": {},
   "outputs": [
    {
     "data": {
      "text/plain": [
       "'Kuan'"
      ]
     },
     "execution_count": 7,
     "metadata": {},
     "output_type": "execute_result"
    }
   ],
   "source": [
    "s[::3]"
   ]
  },
  {
   "cell_type": "code",
   "execution_count": 12,
   "metadata": {},
   "outputs": [
    {
     "data": {
      "text/plain": [
       "'inisaH unaK'"
      ]
     },
     "execution_count": 12,
     "metadata": {},
     "output_type": "execute_result"
    }
   ],
   "source": [
    "# slice operator rules\n",
    "# step value can either be positive or negative\n",
    "# if + ve, forward direction from begin to end-1\n",
    "# if - ve, Right to left [Backward direction] from begin to end+1\n",
    "# step value can not be 0, that will throw Value Error\n",
    "# in forward direction, end value is 0 then the result is always empty\n",
    "# in backward direction, end value is -1 then the result is always empty\n",
    "# in forward direction, default begin is 0, default end len(s)\n",
    "# in backward direction, default begin is -1, default end -(len(s)+1)\n",
    "s[-1::-1]"
   ]
  },
  {
   "cell_type": "code",
   "execution_count": 13,
   "metadata": {},
   "outputs": [
    {
     "data": {
      "text/plain": [
       "'saH u'"
      ]
     },
     "execution_count": 13,
     "metadata": {},
     "output_type": "execute_result"
    }
   ],
   "source": [
    "s[7:2:-1]"
   ]
  },
  {
   "cell_type": "markdown",
   "metadata": {},
   "source": [
    "***\n",
    "### Slice operator case study ###\n",
    "***"
   ]
  },
  {
   "cell_type": "code",
   "execution_count": 32,
   "metadata": {},
   "outputs": [
    {
     "name": "stdout",
     "output_type": "stream",
     "text": [
      "bdf\n",
      "jihgfedcba\n",
      "abcdefghij\n",
      "\n",
      "hgf\n",
      "abcdefghij\n",
      "gfedc\n",
      "gec\n",
      "\n",
      "\n",
      "a\n",
      "\n",
      "\n",
      "fd\n",
      "\n",
      "jihgfed\n"
     ]
    }
   ],
   "source": [
    "s = 'abcdefghij'\n",
    "print(s[1:6:2]) #bdf\n",
    "print(s[::-1]) # string reverse\n",
    "print(s[::1]) # complete string in forward direction\n",
    "print(s[3:7:-1]) # empty string. can not move from 3 to 8 in backward direction\n",
    "print(s[7:4:-1]) # hgf ( index 7 to index 5 (end+1))\n",
    "print(s[0:10000:1]) # complete string in forward direction. Slice operator never raises IndexError\n",
    "print(s[-4:1:-1]) # gfedc\n",
    "print(s[-4:1:-2]) # gfd. 2 steps in reverse direction\n",
    "print(s[5:0:1]) # empty string. can not move from 5 to 0 in forward\n",
    "#print(s[9:0:0]) # valueError. Slice step can not be zero\n",
    "print(s[0:-10:-1]) #empty string can not move backward from 0\n",
    "print(s[0:-11:-1]) # a. first character\n",
    "print(s[0:0:1]) # empty. in forward end can not be 0\n",
    "print(s[0:-9:-2]) # empty can not move from 0 to -8 (end+1) in reverse\n",
    "print(s[-5:-9:-2]) # fd\n",
    "print(s[10:-1:-1]) # empty. in backward end can not be -1\n",
    "print(s[10000:2:-1]) #jihgfed"
   ]
  },
  {
   "cell_type": "markdown",
   "metadata": {},
   "source": [
    "***\n",
    "### Mathematical operators for String ####\n",
    "* '+' operator for concatenation\n",
    "* '*' operator for string repetition\n",
    "***"
   ]
  },
  {
   "cell_type": "code",
   "execution_count": 37,
   "metadata": {},
   "outputs": [
    {
     "name": "stdout",
     "output_type": "stream",
     "text": [
      "string concatenation\n",
      "stringstringstringstringstring\n"
     ]
    }
   ],
   "source": [
    "\n",
    "print(\"string\" + \" concatenation\") # both arguments must be string type\n",
    "print(\"string\" * 5) # number should be integral only can not be float or any other type"
   ]
  },
  {
   "cell_type": "code",
   "execution_count": 1,
   "metadata": {},
   "outputs": [
    {
     "ename": "TypeError",
     "evalue": "unsupported operand type(s) for +: 'int' and 'str'",
     "output_type": "error",
     "traceback": [
      "\u001b[0;31m---------------------------------------------------------------------------\u001b[0m",
      "\u001b[0;31mTypeError\u001b[0m                                 Traceback (most recent call last)",
      "\u001b[0;32m<ipython-input-1-4c623fda394c>\u001b[0m in \u001b[0;36m<module>\u001b[0;34m\u001b[0m\n\u001b[1;32m      1\u001b[0m \u001b[0;31m# can not add string and int\u001b[0m\u001b[0;34m\u001b[0m\u001b[0;34m\u001b[0m\u001b[0;34m\u001b[0m\u001b[0m\n\u001b[0;32m----> 2\u001b[0;31m \u001b[0;36m5\u001b[0m \u001b[0;34m+\u001b[0m \u001b[0;34m\"dhinesh\"\u001b[0m\u001b[0;34m\u001b[0m\u001b[0;34m\u001b[0m\u001b[0m\n\u001b[0m",
      "\u001b[0;31mTypeError\u001b[0m: unsupported operand type(s) for +: 'int' and 'str'"
     ]
    }
   ],
   "source": [
    "# can not add string and int \n",
    "5 + \"dhinesh\""
   ]
  },
  {
   "cell_type": "markdown",
   "metadata": {},
   "source": [
    "***\n",
    "### Membership operator for string ####\n",
    "* in , not in \n",
    "***"
   ]
  },
  {
   "cell_type": "code",
   "execution_count": 39,
   "metadata": {},
   "outputs": [
    {
     "name": "stdout",
     "output_type": "stream",
     "text": [
      "True\n",
      "True\n"
     ]
    }
   ],
   "source": [
    "s = \"kanu hasini\"\n",
    "print('k' in s)\n",
    "print('z' not in s)"
   ]
  },
  {
   "cell_type": "code",
   "execution_count": 40,
   "metadata": {},
   "outputs": [
    {
     "name": "stdin",
     "output_type": "stream",
     "text": [
      "Enter any string:  kanu hasini is good\n",
      "Enter substring to identify:  hasini\n"
     ]
    },
    {
     "name": "stdout",
     "output_type": "stream",
     "text": [
      "Sub string is available\n"
     ]
    }
   ],
   "source": [
    "# checking the substring in a string using membership operator\n",
    "s = input(\"Enter any string: \")\n",
    "subs = input(\"Enter substring to identify: \")\n",
    "\n",
    "if subs in s:\n",
    "    print(\"Sub string is available\")\n",
    "else:\n",
    "    print(\"Sub string is not there try again later\")"
   ]
  },
  {
   "cell_type": "markdown",
   "metadata": {},
   "source": [
    "***\n",
    "### Comparison operator for string ####\n",
    "* <, <=, >, >=, ==, !=    comparison will be based on unicode\n",
    "* we can use ord() function to get the unicode\n",
    "* comaprison will be happening character by character\n",
    "***"
   ]
  },
  {
   "cell_type": "code",
   "execution_count": 42,
   "metadata": {},
   "outputs": [
    {
     "name": "stdout",
     "output_type": "stream",
     "text": [
      "True\n",
      "100\n",
      "107\n"
     ]
    }
   ],
   "source": [
    "print(\"dhinesh\" < \"kumar\")\n",
    "print(ord('d'))\n",
    "print(ord('k'))"
   ]
  },
  {
   "cell_type": "markdown",
   "metadata": {},
   "source": [
    "***\n",
    "### Removing spaces from strings ####\n",
    "* lstrip() - left trim (at start of the string)\n",
    "* rstrip() - right trim (at end of the string)\n",
    "* strip() - remove spaces from both the end\n",
    "***"
   ]
  },
  {
   "cell_type": "code",
   "execution_count": 46,
   "metadata": {},
   "outputs": [
    {
     "name": "stdin",
     "output_type": "stream",
     "text": [
      "Enter your city name:     Chennai   \n"
     ]
    },
    {
     "name": "stdout",
     "output_type": "stream",
     "text": [
      "Hello Madarasi... Vanakkam\n"
     ]
    }
   ],
   "source": [
    "city = input(\"Enter your city name: \").strip()\n",
    "\n",
    "if city == 'Hyderabad':\n",
    "    print(\"Hello Hyderabadi... Aadab\")\n",
    "elif city == 'Chennai':\n",
    "    print(\"Hello Madarasi... Vanakkam\")\n",
    "elif city == 'Bangalore':\n",
    "    print(\"Hello Kannadiga... Namaskara\")\n",
    "else:\n",
    "    print(\"Your entered city is invalid\")"
   ]
  },
  {
   "cell_type": "markdown",
   "metadata": {},
   "source": [
    "***\n",
    "### find() , rfind(), index(), rindex() \n",
    "* if you want to find the occurence and index of the substring, we have to use the below methods\n",
    "***"
   ]
  },
  {
   "cell_type": "code",
   "execution_count": 56,
   "metadata": {},
   "outputs": [
    {
     "name": "stdout",
     "output_type": "stream",
     "text": [
      "1\n",
      "-1\n",
      "3\n",
      "-1\n",
      "5\n",
      "1\n",
      "3\n"
     ]
    },
    {
     "ename": "ValueError",
     "evalue": "substring not found",
     "output_type": "error",
     "traceback": [
      "\u001b[1;31m---------------------------------------------------------------------------\u001b[0m",
      "\u001b[1;31mValueError\u001b[0m                                Traceback (most recent call last)",
      "\u001b[1;32m<ipython-input-56-a51541218925>\u001b[0m in \u001b[0;36m<module>\u001b[1;34m\u001b[0m\n\u001b[0;32m     15\u001b[0m \u001b[1;31m#print(s.index(\"Z\")) # This will raise \"ValueError: substring not found\"\u001b[0m\u001b[1;33m\u001b[0m\u001b[1;33m\u001b[0m\u001b[1;33m\u001b[0m\u001b[0m\n\u001b[0;32m     16\u001b[0m \u001b[0mprint\u001b[0m\u001b[1;33m(\u001b[0m\u001b[0ms\u001b[0m\u001b[1;33m.\u001b[0m\u001b[0mrindex\u001b[0m\u001b[1;33m(\u001b[0m\u001b[1;34m\"B\"\u001b[0m\u001b[1;33m)\u001b[0m\u001b[1;33m)\u001b[0m \u001b[1;31m#3\u001b[0m\u001b[1;33m\u001b[0m\u001b[1;33m\u001b[0m\u001b[0m\n\u001b[1;32m---> 17\u001b[1;33m \u001b[0mprint\u001b[0m\u001b[1;33m(\u001b[0m\u001b[0ms\u001b[0m\u001b[1;33m.\u001b[0m\u001b[0mrindex\u001b[0m\u001b[1;33m(\u001b[0m\u001b[1;34m\"Z\"\u001b[0m\u001b[1;33m)\u001b[0m\u001b[1;33m)\u001b[0m \u001b[1;31m#1 This will also raise \"ValueError: substring not found\"\u001b[0m\u001b[1;33m\u001b[0m\u001b[1;33m\u001b[0m\u001b[0m\n\u001b[0m",
      "\u001b[1;31mValueError\u001b[0m: substring not found"
     ]
    }
   ],
   "source": [
    "# find() --> search from left to right and will return the index of the first occurence of the substring else -1\n",
    "s = \"ABCBA\"\n",
    "print(s.find(\"B\")) #1\n",
    "print(s.find(\"Z\")) # -1\n",
    "#rfind() --> search from right to left and will return the positive index of the string else -1\n",
    "print(s.rfind(\"B\")) #3\n",
    "# searching with in the given boundary in the string\n",
    "s1 = \"ABCDEFGHIJBK\"\n",
    "print(s1.find(\"B\", 3, 8)) # -1. because B os not availble between 3 and 7 index\n",
    "print(s1.rfind(\"F\", 3, 8)) # 5 searchinb in reverse within the boundary\n",
    "# index() method --> if substring is not available, index() method will return ValueError\n",
    "print(s.index(\"B\")) #1\n",
    "#print(s.index(\"Z\")) # This will raise \"ValueError: substring not found\"\n",
    "print(s.rindex(\"B\")) #3\n",
    "print(s.rindex(\"Z\")) #1 This will also raise \"ValueError: substring not found\""
   ]
  },
  {
   "cell_type": "code",
   "execution_count": 58,
   "metadata": {},
   "outputs": [
    {
     "name": "stdin",
     "output_type": "stream",
     "text": [
      "Enter your email id:  dhinesh.com\n"
     ]
    },
    {
     "name": "stdout",
     "output_type": "stream",
     "text": [
      "Mail ID deos not contains @ symbol which is mandatory\n"
     ]
    }
   ],
   "source": [
    "# sample program\n",
    "mail = input(\"Enter your email id: \")\n",
    "\n",
    "try:\n",
    "    i = mail.index(\"@\")\n",
    "    print(\"Mail ID contains @ symbol which is mandatory\")\n",
    "except ValueError:\n",
    "    print(\"Mail ID deos not contains @ symbol which is mandatory\")"
   ]
  },
  {
   "cell_type": "code",
   "execution_count": 59,
   "metadata": {},
   "outputs": [
    {
     "name": "stdout",
     "output_type": "stream",
     "text": [
      "1\n"
     ]
    },
    {
     "ename": "ValueError",
     "evalue": "substring not found",
     "output_type": "error",
     "traceback": [
      "\u001b[1;31m---------------------------------------------------------------------------\u001b[0m",
      "\u001b[1;31mValueError\u001b[0m                                Traceback (most recent call last)",
      "\u001b[1;32m<ipython-input-59-4e900037ad7a>\u001b[0m in \u001b[0;36m<module>\u001b[1;34m\u001b[0m\n\u001b[0;32m      3\u001b[0m \u001b[0ms\u001b[0m \u001b[1;33m=\u001b[0m \u001b[1;34m\"ABCDEFGHIJKLMN\"\u001b[0m\u001b[1;33m\u001b[0m\u001b[1;33m\u001b[0m\u001b[0m\n\u001b[0;32m      4\u001b[0m \u001b[0mprint\u001b[0m\u001b[1;33m(\u001b[0m\u001b[0ms\u001b[0m\u001b[1;33m.\u001b[0m\u001b[0mindex\u001b[0m\u001b[1;33m(\u001b[0m\u001b[1;34m\"B\"\u001b[0m\u001b[1;33m)\u001b[0m\u001b[1;33m)\u001b[0m\u001b[1;33m\u001b[0m\u001b[1;33m\u001b[0m\u001b[0m\n\u001b[1;32m----> 5\u001b[1;33m \u001b[0mprint\u001b[0m\u001b[1;33m(\u001b[0m\u001b[0ms\u001b[0m\u001b[1;33m.\u001b[0m\u001b[0mindex\u001b[0m\u001b[1;33m(\u001b[0m\u001b[1;34m\"B\"\u001b[0m\u001b[1;33m,\u001b[0m \u001b[1;36m3\u001b[0m\u001b[1;33m,\u001b[0m \u001b[1;36m8\u001b[0m\u001b[1;33m)\u001b[0m\u001b[1;33m)\u001b[0m\u001b[1;33m\u001b[0m\u001b[1;33m\u001b[0m\u001b[0m\n\u001b[0m",
      "\u001b[1;31mValueError\u001b[0m: substring not found"
     ]
    }
   ],
   "source": [
    "# searching substring using index() with in the given boundary\n",
    "\n",
    "s = \"ABCDEFGHIJKLMN\"\n",
    "print(s.index(\"B\"))\n",
    "print(s.index(\"B\", 3, 8))"
   ]
  },
  {
   "cell_type": "code",
   "execution_count": 61,
   "metadata": {},
   "outputs": [
    {
     "name": "stdout",
     "output_type": "stream",
     "text": [
      "1\n"
     ]
    }
   ],
   "source": [
    "# index() methoda will not raise index error\n",
    "print(s.index(\"B\", 1, 5400000))"
   ]
  },
  {
   "cell_type": "markdown",
   "metadata": {},
   "source": [
    "***\n",
    "### count() method to find the number of occurrences of substring ###\n",
    " * Returns 0 if the substring is not available in the given string\n",
    "***"
   ]
  },
  {
   "cell_type": "code",
   "execution_count": 63,
   "metadata": {},
   "outputs": [
    {
     "name": "stdout",
     "output_type": "stream",
     "text": [
      "8\n",
      "3\n",
      "0\n"
     ]
    }
   ],
   "source": [
    "s = \"ABBABBABABABBA\"\n",
    "print(s.count(\"B\"))\n",
    "print(s.count(\"BB\"))\n",
    "print(s.count(\"Z\")) #0. since Z is not available in s"
   ]
  },
  {
   "cell_type": "code",
   "execution_count": 65,
   "metadata": {},
   "outputs": [
    {
     "name": "stdout",
     "output_type": "stream",
     "text": [
      "6\n"
     ]
    }
   ],
   "source": [
    "# counting with in the boundary\n",
    "print(s.count(\"B\", 4, 100)) # searching from 4th index"
   ]
  },
  {
   "cell_type": "code",
   "execution_count": 66,
   "metadata": {},
   "outputs": [
    {
     "name": "stdout",
     "output_type": "stream",
     "text": [
      "2\n"
     ]
    }
   ],
   "source": [
    "# challenging scenario\n",
    "# how many BB's available\n",
    "s = \"BBBBB\" \n",
    "print(s.count(\"BB\")) # 2. because once the first match then those indices will be ignored"
   ]
  },
  {
   "cell_type": "code",
   "execution_count": 72,
   "metadata": {},
   "outputs": [
    {
     "name": "stdin",
     "output_type": "stream",
     "text": [
      "Enter sub string to search:  BCA\n"
     ]
    },
    {
     "name": "stdout",
     "output_type": "stream",
     "text": [
      "BCA present at index:1\n",
      "BCA present at index:4\n",
      "BCA present at index:7\n",
      "Total occurrences of the sub string:  3\n"
     ]
    }
   ],
   "source": [
    "##Application to print index of all occurrences of the given substring##\n",
    "\n",
    "s = \"ABCABCABCA\"\n",
    "sub = input(\"Enter sub string to search: \")\n",
    "\n",
    "i = s.find(sub)\n",
    "\n",
    "if i == -1:\n",
    "    print(\"Substring not found.\")\n",
    "\n",
    "count = 0\n",
    "while i != -1:\n",
    "    count = count + 1\n",
    "    print('{} present at index:{}'.format(sub, i))\n",
    "    i = s.find(sub, i+len(sub), len(s))\n",
    "    \n",
    "print(\"Total occurrences of the sub string: \", count)    "
   ]
  },
  {
   "cell_type": "markdown",
   "metadata": {},
   "source": [
    "***\n",
    "### replace() method ### replacing a string with another string. case sensitive\n",
    "* string objects are immutable, new object will be created when we perform replace operation\n",
    "* s.replace(oldstring, newstring)\n",
    "***"
   ]
  },
  {
   "cell_type": "code",
   "execution_count": 74,
   "metadata": {},
   "outputs": [
    {
     "name": "stdout",
     "output_type": "stream",
     "text": [
      "BBBBBBBBC\n"
     ]
    }
   ],
   "source": [
    "s = \"ABABABAAC\"\n",
    "s1 = s.replace(\"A\", \"B\")\n",
    "print(s1)"
   ]
  },
  {
   "cell_type": "code",
   "execution_count": 76,
   "metadata": {},
   "outputs": [
    {
     "name": "stdout",
     "output_type": "stream",
     "text": [
      "DhineshSoftwareSolutions\n"
     ]
    }
   ],
   "source": [
    "#another example\n",
    "s = \"Dhinesh Software Solutions\"\n",
    "s1 = s.replace(\" \",\"\") #removing space\n",
    "print(s1)"
   ]
  },
  {
   "cell_type": "code",
   "execution_count": 77,
   "metadata": {},
   "outputs": [
    {
     "name": "stdout",
     "output_type": "stream",
     "text": [
      "2\n"
     ]
    }
   ],
   "source": [
    "# prting the number of spaces in a string. Alternate way for count method\n",
    "print(len(s) - len(s1))"
   ]
  },
  {
   "cell_type": "code",
   "execution_count": 78,
   "metadata": {},
   "outputs": [
    {
     "name": "stdout",
     "output_type": "stream",
     "text": [
      "2022360597744\n",
      "2022360026800\n"
     ]
    }
   ],
   "source": [
    "# string objects are immutable, new object will be created when we perform replace operation\n",
    "s = \"ABABABAAC\"\n",
    "print(id(s))\n",
    "s = s.replace(\"A\", \"B\")\n",
    "print(id(s)) # observe that the new object id will be created"
   ]
  },
  {
   "cell_type": "markdown",
   "metadata": {},
   "source": [
    "***\n",
    "### split() and join() methods \n",
    "***"
   ]
  },
  {
   "cell_type": "code",
   "execution_count": 81,
   "metadata": {},
   "outputs": [
    {
     "name": "stdout",
     "output_type": "stream",
     "text": [
      "['Dhinesh', 'Software', 'Solutions']\n"
     ]
    }
   ],
   "source": [
    "s = \"Dhinesh Software Solutions\"\n",
    "s1 = s.split() # will return list of tokens. Deault seperator is space\n",
    "print(s1)"
   ]
  },
  {
   "cell_type": "code",
   "execution_count": 82,
   "metadata": {},
   "outputs": [
    {
     "name": "stdout",
     "output_type": "stream",
     "text": [
      "['08', '01', '1897']\n"
     ]
    }
   ],
   "source": [
    "#another example\n",
    "date = '08-01-1897'\n",
    "d = date.split('-')\n",
    "print(d)"
   ]
  },
  {
   "cell_type": "code",
   "execution_count": 3,
   "metadata": {},
   "outputs": [
    {
     "name": "stdout",
     "output_type": "stream",
     "text": "dhinesh software solution\ndhineshsoftwaresolution\n"
    }
   ],
   "source": [
    "#join() method\n",
    "l = [\"dhinesh\", \"software\", \"solution\"]\n",
    "s = (\" \").join(l)\n",
    "s1 = ('').join(l) # joining with no space\n",
    "print(s)\n",
    "print(s1)"
   ]
  },
  {
   "cell_type": "code",
   "execution_count": 11,
   "metadata": {},
   "outputs": [
    {
     "name": "stdout",
     "output_type": "stream",
     "text": "[1, 2, 3, 4, 5, 6]\n[#1#,# #2#,# #3#,# #4#,# #5#,# #6#]\n"
    }
   ],
   "source": [
    "# list with integer values. Need to convert them into strings before joining\n",
    "l = [1, 2, 3, 4, 5, 6]\n",
    "# s1 = ('#').join(l) -> This will throw type error\n",
    "s = \"#\".join(str(l))\n",
    "print(l)\n",
    "print(s)"
   ]
  },
  {
   "cell_type": "markdown",
   "metadata": {},
   "source": [
    "***\n",
    "### character case changing mathods\n",
    "* upper() - to change to upper case\n",
    "* lower() - to change to lower case\n",
    "* swapcase() - interchange cases\n",
    "* title() - Capitalize first letter in every word\n",
    "* capitalize() - Capitalize Only very first letter of very first word\n",
    "***"
   ]
  },
  {
   "cell_type": "code",
   "execution_count": 88,
   "metadata": {},
   "outputs": [
    {
     "name": "stdout",
     "output_type": "stream",
     "text": [
      "DHINESH SOFTWARE SOLUTIONS\n",
      "dhinesh software solutions\n",
      "DHINESH sOFTWARE SOLUTIONS\n",
      "Dhinesh Software Solutions\n",
      "Dhinesh software solutions\n"
     ]
    }
   ],
   "source": [
    "s = \"dhinesh Software solutions\"\n",
    "print(s.upper())\n",
    "print(s.lower())\n",
    "print(s.swapcase())\n",
    "print(s.title())\n",
    "print(s.capitalize())"
   ]
  },
  {
   "cell_type": "code",
   "execution_count": 89,
   "metadata": {},
   "outputs": [
    {
     "name": "stdin",
     "output_type": "stream",
     "text": [
      "Enter first name:  dhinesh\n",
      "Enter second name:  Dhinesh\n"
     ]
    },
    {
     "name": "stdout",
     "output_type": "stream",
     "text": [
      "Strings are equal\n"
     ]
    },
    {
     "name": "stdin",
     "output_type": "stream",
     "text": [
      "Enter first name:  dhinesh\n",
      "Enter second name:  dhinhes\n"
     ]
    },
    {
     "name": "stdout",
     "output_type": "stream",
     "text": [
      "Strings are not equal\n"
     ]
    }
   ],
   "source": [
    "# example program. Case insensitive string comparison using above methods\n",
    "\n",
    "for x in range(2):\n",
    "    s1 = input(\"Enter first name: \").lower()\n",
    "    s2 = input(\"Enter second name: \").lower()\n",
    "    if s1 == s2:\n",
    "        print(\"Strings are equal\")\n",
    "    else:\n",
    "        print(\"Strings are not equal\")\n"
   ]
  },
  {
   "cell_type": "code",
   "execution_count": 94,
   "metadata": {},
   "outputs": [
    {
     "name": "stdout",
     "output_type": "stream",
     "text": [
      "True\n",
      "True\n",
      "False\n"
     ]
    }
   ],
   "source": [
    "# program to check the starting and ending part of the string. Case sensitive\n",
    "# startswith(substring)\n",
    "# endswith(substring)\n",
    "\n",
    "s = \"kanu hasini\"\n",
    "print(s.startswith(\"kanu\"))\n",
    "print(s.endswith(\"hasini\"))\n",
    "print(s.endswith(\"babu\"))"
   ]
  },
  {
   "cell_type": "markdown",
   "metadata": {},
   "source": []
  },
  {
   "cell_type": "code",
   "execution_count": 95,
   "metadata": {},
   "outputs": [],
   "source": [
    "### Checking Type of characters present in the given String ###\n",
    "# isalnum() --> [a-z, A-Z, 0-9]\n",
    "# isalpha() --> only alphabets\n",
    "# islower()  -> are all the characters are lowercase?\n",
    "# isupper()  -> are all the characters are uppercase?\n",
    "# isdigit()  -> only numbres?\n",
    "# istitle() --> is it titlecase\n",
    "# isspace()  -> returns True is the string contains only spaces"
   ]
  },
  {
   "cell_type": "code",
   "execution_count": 96,
   "metadata": {},
   "outputs": [
    {
     "name": "stdout",
     "output_type": "stream",
     "text": [
      "True\n"
     ]
    }
   ],
   "source": [
    "print(\"dhinesh789\".isalnum())"
   ]
  },
  {
   "cell_type": "code",
   "execution_count": 97,
   "metadata": {},
   "outputs": [
    {
     "name": "stdout",
     "output_type": "stream",
     "text": [
      "True\n"
     ]
    }
   ],
   "source": [
    "print(\"dhinesh\".isalpha())"
   ]
  },
  {
   "cell_type": "code",
   "execution_count": 98,
   "metadata": {},
   "outputs": [
    {
     "name": "stdout",
     "output_type": "stream",
     "text": [
      "False\n"
     ]
    }
   ],
   "source": [
    "print(\"dhinA\".islower())"
   ]
  },
  {
   "cell_type": "code",
   "execution_count": 99,
   "metadata": {},
   "outputs": [
    {
     "name": "stdout",
     "output_type": "stream",
     "text": [
      "True\n"
     ]
    }
   ],
   "source": [
    "print(\"ADSDDS\".isupper())"
   ]
  },
  {
   "cell_type": "code",
   "execution_count": 100,
   "metadata": {},
   "outputs": [
    {
     "name": "stdout",
     "output_type": "stream",
     "text": [
      "True\n"
     ]
    }
   ],
   "source": [
    "print(\"dhin4564\".islower()) # checks only the alphabets and will skip the digits if any"
   ]
  },
  {
   "cell_type": "code",
   "execution_count": 101,
   "metadata": {},
   "outputs": [
    {
     "name": "stdout",
     "output_type": "stream",
     "text": [
      "True\n"
     ]
    }
   ],
   "source": [
    "print(\"Dhinesh Software Solutions\".istitle())"
   ]
  },
  {
   "cell_type": "code",
   "execution_count": 102,
   "metadata": {},
   "outputs": [
    {
     "name": "stdout",
     "output_type": "stream",
     "text": [
      "True\n"
     ]
    }
   ],
   "source": [
    "print(\"   \".isspace())"
   ]
  },
  {
   "cell_type": "code",
   "execution_count": 105,
   "metadata": {},
   "outputs": [
    {
     "name": "stdin",
     "output_type": "stream",
     "text": [
      "Enter any character:  S\n"
     ]
    },
    {
     "name": "stdout",
     "output_type": "stream",
     "text": [
      "It is alpha numeric character\n",
      "it is alphabet sysmbol\n",
      "It is upper case alphabet symbol\n"
     ]
    }
   ],
   "source": [
    "# program to check the type of character entered by keyboard\n",
    "s = input(\"Enter any character: \")\n",
    "if s.isalnum():\n",
    "    print(\"It is alpha numeric character\")\n",
    "    if s.isalpha():\n",
    "        print(\"it is alphabet sysmbol\")\n",
    "        if s.islower():\n",
    "            print(\"It is lower case alphabet symbol\")\n",
    "        else:\n",
    "            print(\"It is upper case alphabet symbol\")\n",
    "    else:\n",
    "        print(\"it is a digit\")\n",
    "elif s.isspace():\n",
    "    print(\"It is space character\")\n",
    "else:\n",
    "    print(\"It is non space special character\")"
   ]
  },
  {
   "cell_type": "code",
   "execution_count": null,
   "metadata": {},
   "outputs": [],
   "source": []
  }
 ],
 "metadata": {
  "kernelspec": {
   "display_name": "Python 3",
   "language": "python",
   "name": "python3"
  },
  "language_info": {
   "codemirror_mode": {
    "name": "ipython",
    "version": 3
   },
   "file_extension": ".py",
   "mimetype": "text/x-python",
   "name": "python",
   "nbconvert_exporter": "python",
   "pygments_lexer": "ipython3",
   "version": "3.6.9-final"
  }
 },
 "nbformat": 4,
 "nbformat_minor": 4
}