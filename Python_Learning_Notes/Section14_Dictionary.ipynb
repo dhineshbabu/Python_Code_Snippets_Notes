{
 "cells": [
  {
   "cell_type": "markdown",
   "metadata": {},
   "source": [
    "### Dict types ###\n",
    "* key value pairs\n",
    "* Duplicate keys not allowed but values can have duplicates\n",
    "* Insertion order is not preserved, it is based on hash code of the keys\n",
    "* Indexing and slicing are not allowed\n",
    "* Heterogeneous objects allowed for both keys and values\n",
    "* Mutable and dynamic in nature\n",
    "* {k:v, k1:v1, ...}"
   ]
  },
  {
   "cell_type": "code",
   "execution_count": 2,
   "metadata": {},
   "outputs": [
    {
     "name": "stdout",
     "output_type": "stream",
     "text": [
      "{100: 'dhinesh', 'A': 200, 'Dhinesh': 'Hello Dhinesh'}\n",
      "After updating d[100]:  {100: 'babu', 'A': 200, 'Dhinesh': 'Hello Dhinesh'}\n"
     ]
    }
   ],
   "source": [
    "d = {100: 'dhinesh', 'A': 200, \"Dhinesh\": \"Hello Dhinesh\"}\n",
    "print(d)\n",
    "d[100] = \"babu\" # old value will be replaced with the new value for existing keys\n",
    "print(\"After updating d[100]: \", d)"
   ]
  },
  {
   "cell_type": "code",
   "execution_count": 5,
   "metadata": {},
   "outputs": [
    {
     "name": "stdout",
     "output_type": "stream",
     "text": [
      "{100: 'A', 200: 'B', 300: 'C'}\n",
      "{100: 'A', 300: 'C', 200: 'B'}\n"
     ]
    },
    {
     "ename": "ValueError",
     "evalue": "dictionary update sequence element #2 has length 3; 2 is required",
     "output_type": "error",
     "traceback": [
      "\u001b[1;31m---------------------------------------------------------------------------\u001b[0m",
      "\u001b[1;31mValueError\u001b[0m                                Traceback (most recent call last)",
      "\u001b[1;32m<ipython-input-5-10dd680ff66f>\u001b[0m in \u001b[0;36m<module>\u001b[1;34m\u001b[0m\n\u001b[0;32m     15\u001b[0m \u001b[1;31m# tuple with mroe than 2 elements\u001b[0m\u001b[1;33m\u001b[0m\u001b[1;33m\u001b[0m\u001b[1;33m\u001b[0m\u001b[0m\n\u001b[0;32m     16\u001b[0m \u001b[0ms1\u001b[0m \u001b[1;33m=\u001b[0m \u001b[1;33m{\u001b[0m\u001b[1;33m(\u001b[0m\u001b[1;36m100\u001b[0m\u001b[1;33m,\u001b[0m \u001b[1;34m'A'\u001b[0m\u001b[1;33m,\u001b[0m \u001b[1;34m\"Dhinesh\"\u001b[0m\u001b[1;33m)\u001b[0m\u001b[1;33m,\u001b[0m \u001b[1;33m(\u001b[0m\u001b[1;36m200\u001b[0m\u001b[1;33m,\u001b[0m \u001b[1;34m'B'\u001b[0m\u001b[1;33m)\u001b[0m\u001b[1;33m,\u001b[0m \u001b[1;33m(\u001b[0m\u001b[1;36m300\u001b[0m\u001b[1;33m,\u001b[0m \u001b[1;34m'C'\u001b[0m\u001b[1;33m)\u001b[0m\u001b[1;33m}\u001b[0m\u001b[1;33m\u001b[0m\u001b[1;33m\u001b[0m\u001b[0m\n\u001b[1;32m---> 17\u001b[1;33m \u001b[0md4\u001b[0m \u001b[1;33m=\u001b[0m \u001b[0mdict\u001b[0m\u001b[1;33m(\u001b[0m\u001b[0ms1\u001b[0m\u001b[1;33m)\u001b[0m\u001b[1;33m\u001b[0m\u001b[1;33m\u001b[0m\u001b[0m\n\u001b[0m\u001b[0;32m     18\u001b[0m \u001b[0mprint\u001b[0m\u001b[1;33m(\u001b[0m\u001b[0md4\u001b[0m\u001b[1;33m)\u001b[0m\u001b[1;33m\u001b[0m\u001b[1;33m\u001b[0m\u001b[0m\n",
      "\u001b[1;31mValueError\u001b[0m: dictionary update sequence element #2 has length 3; 2 is required"
     ]
    }
   ],
   "source": [
    "# creation of dictionary object\n",
    "# empty dictionary\n",
    "d = {} # or dict() can be used\n",
    "#creating with data\n",
    "d1 = {100: \"Dhinesh\", 200: \"babu\"}\n",
    "# creating from other sequqnce\n",
    "l = [(100, 'A'), (200, 'B'), (300, 'C')] # list of tuples\n",
    "d2 = dict(l) # each tuple will be considered as key, value\n",
    "print(d2)\n",
    "# can also be created from tuple of tuples, set of tuples, list of tuples, list of sets, List of lists\n",
    "# internal elements must only contain pair (2 elements)\n",
    "s = {(100, 'A'), (200, 'B'), (300, 'C')}\n",
    "d3 = dict(s)\n",
    "print(d3)\n",
    "# tuple with mroe than 2 elements\n",
    "s1 = {(100, 'A', \"Dhinesh\"), (200, 'B'), (300, 'C')}\n",
    "d4 = dict(s1) #ValueError: dictionary update sequence element #2 has length 3; 2 is required\n",
    "print(d4) "
   ]
  },
  {
   "cell_type": "code",
   "execution_count": 6,
   "metadata": {},
   "outputs": [
    {
     "name": "stdin",
     "output_type": "stream",
     "text": [
      "Enter any dictionary:  {100:\"Dhinesh\", 200:\"babu\"}\n"
     ]
    },
    {
     "name": "stdout",
     "output_type": "stream",
     "text": [
      "{100: 'Dhinesh', 200: 'babu'}\n",
      "<class 'dict'>\n"
     ]
    }
   ],
   "source": [
    "# creating dictionary from user input\n",
    "d = eval(input(\"Enter any dictionary: \"))\n",
    "print(d)\n",
    "print(type(d))"
   ]
  },
  {
   "cell_type": "code",
   "execution_count": 8,
   "metadata": {},
   "outputs": [
    {
     "name": "stdout",
     "output_type": "stream",
     "text": [
      "Dhinesh\n"
     ]
    },
    {
     "ename": "KeyError",
     "evalue": "400",
     "output_type": "error",
     "traceback": [
      "\u001b[1;31m---------------------------------------------------------------------------\u001b[0m",
      "\u001b[1;31mKeyError\u001b[0m                                  Traceback (most recent call last)",
      "\u001b[1;32m<ipython-input-8-81093c05c659>\u001b[0m in \u001b[0;36m<module>\u001b[1;34m\u001b[0m\n\u001b[0;32m      3\u001b[0m \u001b[0mprint\u001b[0m\u001b[1;33m(\u001b[0m\u001b[0md\u001b[0m\u001b[1;33m[\u001b[0m\u001b[1;36m100\u001b[0m\u001b[1;33m]\u001b[0m\u001b[1;33m)\u001b[0m\u001b[1;33m\u001b[0m\u001b[1;33m\u001b[0m\u001b[0m\n\u001b[0;32m      4\u001b[0m \u001b[1;31m# if the key is not available, the we will get key error\u001b[0m\u001b[1;33m\u001b[0m\u001b[1;33m\u001b[0m\u001b[1;33m\u001b[0m\u001b[0m\n\u001b[1;32m----> 5\u001b[1;33m \u001b[0mprint\u001b[0m\u001b[1;33m(\u001b[0m\u001b[0md\u001b[0m\u001b[1;33m[\u001b[0m\u001b[1;36m400\u001b[0m\u001b[1;33m]\u001b[0m\u001b[1;33m)\u001b[0m\u001b[1;33m\u001b[0m\u001b[1;33m\u001b[0m\u001b[0m\n\u001b[0m",
      "\u001b[1;31mKeyError\u001b[0m: 400"
     ]
    }
   ],
   "source": [
    "## Modifying dictionary data ##\n",
    "d = {100: \"Dhinesh\", 200: \"babu\", 300:\"cognizant\"}\n",
    "print(d[100])\n",
    "# if the key is not available, the we will get key error\n",
    "print(d[400])"
   ]
  },
  {
   "cell_type": "code",
   "execution_count": 9,
   "metadata": {},
   "outputs": [
    {
     "name": "stdin",
     "output_type": "stream",
     "text": [
      "Enter key to find value:  500\n"
     ]
    },
    {
     "name": "stdout",
     "output_type": "stream",
     "text": [
      "The key is not found. Please try again later\n"
     ]
    }
   ],
   "source": [
    "# sample program\n",
    "d = {100: \"Dhinesh\", 200: \"babu\", 300:\"cognizant\"}\n",
    "\n",
    "key = int(input('Enter key to find value: '))\n",
    "\n",
    "if key in d:\n",
    "    print('The value of the given key is: ', d[key])\n",
    "else:\n",
    "    print(\"The key is not found. Please try again later\")\n"
   ]
  },
  {
   "cell_type": "code",
   "execution_count": 10,
   "metadata": {},
   "outputs": [
    {
     "name": "stdout",
     "output_type": "stream",
     "text": [
      "{100: 'Dhinesh', 200: 'babu', 300: 'cognizant', 400: 'Python'}\n"
     ]
    }
   ],
   "source": [
    "# adding and updating data in dictionary\n",
    "d = {100: \"Dhinesh\", 200: \"babu\", 300:\"cognizant\"}\n",
    "d[400] = \"Python\"\n",
    "print(d)"
   ]
  },
  {
   "cell_type": "markdown",
   "metadata": {},
   "source": [
    "***\n",
    "### Deleting an entry from dictionary\n",
    "***"
   ]
  },
  {
   "cell_type": "code",
   "execution_count": 11,
   "metadata": {},
   "outputs": [
    {
     "name": "stdout",
     "output_type": "stream",
     "text": [
      "{100: 'Dhinesh', 200: 'babu'}\n"
     ]
    }
   ],
   "source": [
    "# deleting data from dict using del keyword -> if the key is not available then will get KeyError\n",
    "d = {100: \"Dhinesh\", 200: \"babu\", 300:\"cognizant\"}\n",
    "del d[300]\n",
    "print(d)"
   ]
  },
  {
   "cell_type": "code",
   "execution_count": 12,
   "metadata": {},
   "outputs": [
    {
     "name": "stdout",
     "output_type": "stream",
     "text": [
      "{100: 'Dhinesh'}\n"
     ]
    }
   ],
   "source": [
    "# deleting multiple entries\n",
    "d = {100: \"Dhinesh\", 200: \"babu\", 300:\"cognizant\"}\n",
    "del d[200], d[300]\n",
    "print(d)"
   ]
  },
  {
   "cell_type": "code",
   "execution_count": 18,
   "metadata": {},
   "outputs": [
    {
     "name": "stdin",
     "output_type": "stream",
     "text": [
      "Enter number of students:  2\n",
      "Enter name of student 1:  dhin\n",
      "Enter marks of student 1:  1\n",
      "Enter name of student 2:  kan\n",
      "Enter marks of student 2:  30\n"
     ]
    },
    {
     "name": "stdout",
     "output_type": "stream",
     "text": [
      "******************************\n",
      "Name \t\t Marks\n",
      "******************************\n",
      "dhin \t\t 1\n",
      "kan \t\t 30\n"
     ]
    }
   ],
   "source": [
    "# sample program\n",
    "n = int(input(\"Enter number of students: \"))\n",
    "d = {}\n",
    "for i in range(1,n+1):\n",
    "    name = input(\"Enter name of student {}: \".format(i))\n",
    "    marks = int(input(\"Enter marks of student {}: \".format(i)))\n",
    "    d[name] = marks\n",
    "                \n",
    "print('*'*30)\n",
    "print('Name', '\\t\\t', 'Marks')\n",
    "print('*'*30)\n",
    "for k in d:\n",
    "    print(k, '\\t\\t', d[k])"
   ]
  },
  {
   "cell_type": "markdown",
   "metadata": {},
   "source": [
    "***\n",
    "### Mathematical operators\n",
    "***"
   ]
  },
  {
   "cell_type": "code",
   "execution_count": 19,
   "metadata": {},
   "outputs": [
    {
     "ename": "TypeError",
     "evalue": "unsupported operand type(s) for +: 'dict' and 'dict'",
     "output_type": "error",
     "traceback": [
      "\u001b[1;31m---------------------------------------------------------------------------\u001b[0m",
      "\u001b[1;31mTypeError\u001b[0m                                 Traceback (most recent call last)",
      "\u001b[1;32m<ipython-input-19-d9fb8a7ac4e2>\u001b[0m in \u001b[0;36m<module>\u001b[1;34m\u001b[0m\n\u001b[0;32m      2\u001b[0m \u001b[0md1\u001b[0m \u001b[1;33m=\u001b[0m \u001b[1;33m{\u001b[0m\u001b[1;36m100\u001b[0m\u001b[1;33m:\u001b[0m \u001b[1;34m\"A\"\u001b[0m\u001b[1;33m,\u001b[0m \u001b[1;36m200\u001b[0m\u001b[1;33m:\u001b[0m \u001b[1;34m\"B\"\u001b[0m\u001b[1;33m,\u001b[0m \u001b[1;36m300\u001b[0m\u001b[1;33m:\u001b[0m\u001b[1;34m\"C\"\u001b[0m\u001b[1;33m}\u001b[0m\u001b[1;33m\u001b[0m\u001b[1;33m\u001b[0m\u001b[0m\n\u001b[0;32m      3\u001b[0m \u001b[0md2\u001b[0m \u001b[1;33m=\u001b[0m \u001b[1;33m{\u001b[0m\u001b[1;36m400\u001b[0m\u001b[1;33m:\u001b[0m \u001b[1;34m\"D\"\u001b[0m\u001b[1;33m,\u001b[0m \u001b[1;36m500\u001b[0m\u001b[1;33m:\u001b[0m \u001b[1;34m\"E\"\u001b[0m\u001b[1;33m,\u001b[0m \u001b[1;36m600\u001b[0m\u001b[1;33m:\u001b[0m\u001b[1;34m\"F\"\u001b[0m\u001b[1;33m}\u001b[0m\u001b[1;33m\u001b[0m\u001b[1;33m\u001b[0m\u001b[0m\n\u001b[1;32m----> 4\u001b[1;33m \u001b[0md3\u001b[0m \u001b[1;33m=\u001b[0m \u001b[0md1\u001b[0m \u001b[1;33m+\u001b[0m \u001b[0md2\u001b[0m \u001b[1;31m# We will get TypeError\u001b[0m\u001b[1;33m\u001b[0m\u001b[1;33m\u001b[0m\u001b[0m\n\u001b[0m\u001b[0;32m      5\u001b[0m \u001b[0md4\u001b[0m \u001b[1;33m=\u001b[0m \u001b[0md1\u001b[0m\u001b[1;33m*\u001b[0m\u001b[1;36m2\u001b[0m \u001b[1;31m# Type Error\u001b[0m\u001b[1;33m\u001b[0m\u001b[1;33m\u001b[0m\u001b[0m\n",
      "\u001b[1;31mTypeError\u001b[0m: unsupported operand type(s) for +: 'dict' and 'dict'"
     ]
    }
   ],
   "source": [
    "# Mathematical operators\n",
    "d1 = {100: \"A\", 200: \"B\", 300:\"C\"}\n",
    "d2 = {400: \"D\", 500: \"E\", 600:\"F\"}\n",
    "d3 = d1 + d2 # We will get TypeError\n",
    "d4 = d1*2 # Type Error"
   ]
  },
  {
   "cell_type": "markdown",
   "metadata": {},
   "source": [
    "***\n",
    "### equality operator. Returns true if both the dicts contain same name value pair. order is not important\n",
    "***"
   ]
  },
  {
   "cell_type": "code",
   "execution_count": 20,
   "metadata": {},
   "outputs": [
    {
     "name": "stdout",
     "output_type": "stream",
     "text": [
      "True\n"
     ]
    }
   ],
   "source": [
    "#equality opereator. Returns true if both the dicts contain same name value pair. order is not important\n",
    "d1 = {100: \"A\", 200: \"B\", 300:\"C\"}\n",
    "d2 = {100: \"A\", 200: \"B\", 300:\"C\"}\n",
    "print(d1==d2)"
   ]
  },
  {
   "cell_type": "markdown",
   "metadata": {},
   "source": [
    "***\n",
    "### [Relational operators not applicable for dictionaries]\n",
    "***"
   ]
  },
  {
   "cell_type": "code",
   "execution_count": 22,
   "metadata": {},
   "outputs": [
    {
     "ename": "TypeError",
     "evalue": "'>' not supported between instances of 'dict' and 'dict'",
     "output_type": "error",
     "traceback": [
      "\u001b[1;31m---------------------------------------------------------------------------\u001b[0m",
      "\u001b[1;31mTypeError\u001b[0m                                 Traceback (most recent call last)",
      "\u001b[1;32m<ipython-input-22-499e57210740>\u001b[0m in \u001b[0;36m<module>\u001b[1;34m\u001b[0m\n\u001b[0;32m      2\u001b[0m \u001b[0md1\u001b[0m \u001b[1;33m=\u001b[0m \u001b[1;33m{\u001b[0m\u001b[1;36m100\u001b[0m\u001b[1;33m:\u001b[0m \u001b[1;34m\"A\"\u001b[0m\u001b[1;33m,\u001b[0m \u001b[1;36m200\u001b[0m\u001b[1;33m:\u001b[0m \u001b[1;34m\"B\"\u001b[0m\u001b[1;33m,\u001b[0m \u001b[1;36m300\u001b[0m\u001b[1;33m:\u001b[0m\u001b[1;34m\"C\"\u001b[0m\u001b[1;33m}\u001b[0m\u001b[1;33m\u001b[0m\u001b[1;33m\u001b[0m\u001b[0m\n\u001b[0;32m      3\u001b[0m \u001b[0md2\u001b[0m \u001b[1;33m=\u001b[0m \u001b[1;33m{\u001b[0m\u001b[1;36m100\u001b[0m\u001b[1;33m:\u001b[0m \u001b[1;34m\"A\"\u001b[0m\u001b[1;33m,\u001b[0m \u001b[1;36m200\u001b[0m\u001b[1;33m:\u001b[0m \u001b[1;34m\"B\"\u001b[0m\u001b[1;33m,\u001b[0m \u001b[1;36m300\u001b[0m\u001b[1;33m:\u001b[0m\u001b[1;34m\"C\"\u001b[0m\u001b[1;33m}\u001b[0m\u001b[1;33m\u001b[0m\u001b[1;33m\u001b[0m\u001b[0m\n\u001b[1;32m----> 4\u001b[1;33m \u001b[0mprint\u001b[0m\u001b[1;33m(\u001b[0m\u001b[0md1\u001b[0m\u001b[1;33m>\u001b[0m\u001b[0md2\u001b[0m\u001b[1;33m)\u001b[0m\u001b[1;33m\u001b[0m\u001b[1;33m\u001b[0m\u001b[0m\n\u001b[0m",
      "\u001b[1;31mTypeError\u001b[0m: '>' not supported between instances of 'dict' and 'dict'"
     ]
    }
   ],
   "source": [
    "# relatioanl operator ## not applicable for dictionaries+\n",
    "d1 = {100: \"A\", 200: \"B\", 300:\"C\"}\n",
    "d2 = {100: \"A\", 200: \"B\", 300:\"C\"}\n",
    "print(d1>d2) # TypeError"
   ]
  },
  {
   "cell_type": "markdown",
   "metadata": {},
   "source": [
    "***\n",
    "### Membership operator. [[this will check only the keys]]\n",
    "***"
   ]
  },
  {
   "cell_type": "code",
   "execution_count": 24,
   "metadata": {},
   "outputs": [
    {
     "name": "stdout",
     "output_type": "stream",
     "text": [
      "True\n",
      "False\n"
     ]
    }
   ],
   "source": [
    "#membership operator. this will check only the keys\n",
    "\n",
    "d1 = {100: \"A\", 200: \"B\", 300:\"C\"}\n",
    "print(100 in d1)\n",
    "print(800 in d1)"
   ]
  },
  {
   "cell_type": "markdown",
   "metadata": {},
   "source": [
    "***\n",
    "### Important methods and functions for dict\n",
    "***"
   ]
  },
  {
   "cell_type": "code",
   "execution_count": 1,
   "metadata": {},
   "outputs": [
    {
     "name": "stdout",
     "output_type": "stream",
     "text": [
      "3\n"
     ]
    }
   ],
   "source": [
    "d = {100: \"A\", 200: \"B\", 300:\"C\"}\n",
    "print(len(d))"
   ]
  },
  {
   "cell_type": "code",
   "execution_count": 3,
   "metadata": {},
   "outputs": [
    {
     "name": "stdout",
     "output_type": "stream",
     "text": [
      "A\n",
      "None\n",
      "A\n",
      "guest\n"
     ]
    }
   ],
   "source": [
    "# accessing elements # d.get()\n",
    "print(d.get(100))\n",
    "print(d.get(700))\n",
    "#another syntax d.get (key, default value)\n",
    "print(d.get(100, \"guest\"))\n",
    "print(d.get(700, \"guest\"))"
   ]
  },
  {
   "cell_type": "code",
   "execution_count": 4,
   "metadata": {},
   "outputs": [
    {
     "name": "stdout",
     "output_type": "stream",
     "text": [
      "{100: 'A', 200: 'B', 300: 'C', 400: 'D', 500: 'E', 600: 'F'}\n"
     ]
    }
   ],
   "source": [
    "#update() method -> d1.update(d2)\n",
    "d1 = {100: \"A\", 200: \"B\", 300:\"C\"}\n",
    "d2 = {400: \"D\", 500: \"E\", 600:\"F\"}\n",
    "d1.update(d2)# all the keys of d2 will be copied to d2/ in case of duplicate keys, values from d2 will be replaced in d1\n",
    "print(d1)"
   ]
  },
  {
   "cell_type": "code",
   "execution_count": 5,
   "metadata": {},
   "outputs": [
    {
     "name": "stdout",
     "output_type": "stream",
     "text": [
      "dict_keys([100, 200, 300])\n",
      "100\n",
      "200\n",
      "300\n"
     ]
    }
   ],
   "source": [
    "# keys() method -  it will return only the keys \n",
    "d = {100: \"A\", 200: \"B\", 300:\"C\"}\n",
    "k = d.keys()\n",
    "print(k)\n",
    "\n",
    "for key in d.keys():\n",
    "    print(key)"
   ]
  },
  {
   "cell_type": "code",
   "execution_count": 7,
   "metadata": {},
   "outputs": [
    {
     "name": "stdout",
     "output_type": "stream",
     "text": [
      "dict_values(['A', 'B', 'C'])\n",
      "A\n",
      "B\n",
      "C\n"
     ]
    }
   ],
   "source": [
    "# values()  - to get only the values from dict\n",
    "v = d.values()\n",
    "print(v)\n",
    "\n",
    "for value in d.values():\n",
    "    print(value)"
   ]
  },
  {
   "cell_type": "code",
   "execution_count": 9,
   "metadata": {},
   "outputs": [
    {
     "name": "stdout",
     "output_type": "stream",
     "text": [
      "dict_items([(100, 'A'), (200, 'B'), (300, 'C')])\n",
      "(100, 'A')\n",
      "(200, 'B')\n",
      "(300, 'C')\n"
     ]
    }
   ],
   "source": [
    "# items() method - to get each key value pair.  Each item will be in tuples \n",
    "d = {100: \"A\", 200: \"B\", 300:\"C\"}\n",
    "i = d.items()\n",
    "print(i)\n",
    "\n",
    "for item in d.items():\n",
    "    print(item)"
   ]
  },
  {
   "cell_type": "code",
   "execution_count": 10,
   "metadata": {},
   "outputs": [
    {
     "name": "stdout",
     "output_type": "stream",
     "text": [
      "100 .... A\n",
      "200 .... B\n",
      "300 .... C\n"
     ]
    }
   ],
   "source": [
    "# get the key and values using items() method\n",
    "d = {100: \"A\", 200: \"B\", 300:\"C\"}\n",
    "\n",
    "for k,v in d.items():\n",
    "    print(k,\"....\",v)"
   ]
  },
  {
   "cell_type": "code",
   "execution_count": 11,
   "metadata": {},
   "outputs": [
    {
     "name": "stdin",
     "output_type": "stream",
     "text": [
      "Enter key:  200\n"
     ]
    },
    {
     "name": "stdout",
     "output_type": "stream",
     "text": [
      "The corresponding value is:  B\n"
     ]
    }
   ],
   "source": [
    "# program to find value based on key\n",
    "d = {100: \"A\", 200: \"B\", 300:\"C\"}\n",
    "key = int(input(\"Enter key: \"))\n",
    "\n",
    "if key in d:\n",
    "    print(\"The corresponding value is: \", d.get(key))\n",
    "else:\n",
    "    print(\"The key is not available\")"
   ]
  },
  {
   "cell_type": "code",
   "execution_count": 15,
   "metadata": {},
   "outputs": [
    {
     "name": "stdin",
     "output_type": "stream",
     "text": [
      "Enter value to find key:  C\n"
     ]
    },
    {
     "name": "stdout",
     "output_type": "stream",
     "text": [
      "The corresponding key:  300\n",
      "The corresponding key:  400\n"
     ]
    }
   ],
   "source": [
    "# program to find key based on value\n",
    "d = {100: \"A\", 200: \"B\", 300:\"C\", 400:\"C\"}\n",
    "value = input(\"Enter value to find key: \")\n",
    "available = False\n",
    "\n",
    "for k,v in d.items():\n",
    "    if v == value:\n",
    "        print(\"The corresponding key: \", k)\n",
    "        available = True    \n",
    "if available == False:\n",
    "    print(\"The value is not associated with any of the keys\")"
   ]
  },
  {
   "cell_type": "code",
   "execution_count": 17,
   "metadata": {},
   "outputs": [
    {
     "name": "stdout",
     "output_type": "stream",
     "text": [
      "C\n",
      "{100: 'A', 200: 'B', 400: 'C'}\n"
     ]
    }
   ],
   "source": [
    "# Removing data from dictionary\n",
    "# pop(key) - removes item with the specified key and will return the value.if the key is not available, KeyError\n",
    "d = {100: \"A\", 200: \"B\", 300:\"C\", 400:\"C\"}\n",
    "print(d.pop(300))\n",
    "print(d)"
   ]
  },
  {
   "cell_type": "code",
   "execution_count": 18,
   "metadata": {},
   "outputs": [
    {
     "name": "stdout",
     "output_type": "stream",
     "text": [
      "Guest User\n",
      "{100: 'A', 200: 'B', 300: 'C', 400: 'C'}\n"
     ]
    }
   ],
   "source": [
    "#pop(key,defaultvalue) - removes the item. if the key is not available \n",
    "d = {100: \"A\", 200: \"B\", 300:\"C\", 400:\"C\"}\n",
    "print(d.pop(700, \"Guest User\"))\n",
    "print(d)"
   ]
  },
  {
   "cell_type": "code",
   "execution_count": 24,
   "metadata": {},
   "outputs": [
    {
     "name": "stdout",
     "output_type": "stream",
     "text": [
      "(400, 'C')\n",
      "{100: 'A', 200: 'B', 300: 'C'}\n",
      "(300, 'C')\n",
      "{100: 'A', 200: 'B'}\n",
      "(200, 'B')\n",
      "{100: 'A'}\n",
      "(100, 'A')\n",
      "{}\n"
     ]
    }
   ],
   "source": [
    "#popitem() method - removes a random item from the dict and will return the item in tuple form. if dictionary is empty, we will get Key Error\n",
    "d = {100: \"A\", 200: \"B\", 300:\"C\", 400:\"C\"}\n",
    "print(d.popitem())\n",
    "print(d)\n",
    "print(d.popitem())\n",
    "print(d)\n",
    "print(d.popitem())\n",
    "print(d)\n",
    "print(d.popitem())\n",
    "print(d)"
   ]
  },
  {
   "cell_type": "code",
   "execution_count": 25,
   "metadata": {},
   "outputs": [
    {
     "name": "stdout",
     "output_type": "stream",
     "text": [
      "{}\n"
     ]
    }
   ],
   "source": [
    "# clear() method - to remove all the items from the dict\n",
    "d = {100: \"A\", 200: \"B\", 300:\"C\", 400:\"C\"}\n",
    "d.clear()\n",
    "print(d)"
   ]
  },
  {
   "cell_type": "code",
   "execution_count": 26,
   "metadata": {},
   "outputs": [
    {
     "name": "stdout",
     "output_type": "stream",
     "text": [
      "{100: 'A', 200: 'B', 300: 'C', 400: 'C', 500: 'D'}\n"
     ]
    }
   ],
   "source": [
    "#setdefault(k, v) method - if the key is not available add the item. if the key is available dont do anything\n",
    "d = {100: \"A\", 200: \"B\", 300:\"C\", 400:\"C\"}\n",
    "d.setdefault(500, \"D\")\n",
    "d.setdefault(500, \"This will be ignored\") # this will not be added since key 500 is already available\n",
    "print(d)"
   ]
  },
  {
   "cell_type": "markdown",
   "metadata": {},
   "source": [
    "***\n",
    "### Aliasing and Cloning ###\n",
    "***"
   ]
  },
  {
   "cell_type": "code",
   "execution_count": 27,
   "metadata": {},
   "outputs": [
    {
     "name": "stdout",
     "output_type": "stream",
     "text": [
      "{100: 'A', 200: 'B', 300: 'Changed from d1', 400: 'C'}\n"
     ]
    }
   ],
   "source": [
    "# Aliasing - creating duplicate reference variable\n",
    "d = {100: \"A\", 200: \"B\", 300:\"C\", 400:\"C\"}\n",
    "d1 = d\n",
    "d1[300] = \"Changed from d1\" # this will be reflected to d as well\n",
    "print(d)"
   ]
  },
  {
   "cell_type": "code",
   "execution_count": 28,
   "metadata": {},
   "outputs": [
    {
     "name": "stdout",
     "output_type": "stream",
     "text": [
      "{100: 'A', 200: 'B', 300: 'C', 400: 'C'}\n",
      "{100: 'A', 200: 'B', 300: 'Changed from d1', 400: 'C'}\n"
     ]
    }
   ],
   "source": [
    "# cloning - using copy() method\n",
    "d = {100: \"A\", 200: \"B\", 300:\"C\", 400:\"C\"}\n",
    "d2 = d.copy()\n",
    "d2[300] = \"Changed from d1\" # this will not be reflected to d as well\n",
    "print(d)\n",
    "print(d2)"
   ]
  },
  {
   "cell_type": "code",
   "execution_count": 29,
   "metadata": {},
   "outputs": [
    {
     "name": "stdin",
     "output_type": "stream",
     "text": [
      "Enter Dictionary:  {\"A\":100, \"B\":200}\n"
     ]
    },
    {
     "name": "stdout",
     "output_type": "stream",
     "text": [
      "300\n"
     ]
    }
   ],
   "source": [
    "#Program to take dictionary from the keyboard and print sum of values\n",
    "d = eval(input(\"Enter Dictionary: \"))\n",
    "sum = 0\n",
    "for item in d.items():\n",
    "    sum = sum + item[1] # item is a tuple of all the key, value\n",
    "print(sum)"
   ]
  },
  {
   "cell_type": "code",
   "execution_count": 2,
   "metadata": {},
   "outputs": [
    {
     "name": "stdout",
     "output_type": "stream",
     "text": "The sum of values 5\n"
    }
   ],
   "source": [
    "# using sum() inbuilt function - input dictionary as {'A':2, 'B':3}\n",
    "d = eval(input(\"Enter Dictionary: \"))\n",
    "print(\"The sum of values\", sum(d.values()))"
   ]
  },
  {
   "cell_type": "code",
   "execution_count": 41,
   "metadata": {},
   "outputs": [
    {
     "name": "stdin",
     "output_type": "stream",
     "text": [
      "Enter any string:  DHINESHHS\n"
     ]
    },
    {
     "name": "stdout",
     "output_type": "stream",
     "text": [
      "D  occurs  1  times\n",
      "H  occurs  3  times\n",
      "I  occurs  1  times\n",
      "N  occurs  1  times\n",
      "E  occurs  1  times\n",
      "S  occurs  2  times\n"
     ]
    }
   ],
   "source": [
    "#Program to find number of occurrences of each letter present in the given string\n",
    "word = input(\"Enter any string: \")\n",
    "\n",
    "d = {}\n",
    "\n",
    "for ch in word:\n",
    "    d[ch] = d.get(ch, 0) + 1 \n",
    "    \n",
    "for k,v in d.items():\n",
    "    print(k, \" occurs \", v, \" times\")"
   ]
  },
  {
   "cell_type": "code",
   "execution_count": 45,
   "metadata": {},
   "outputs": [
    {
     "name": "stdin",
     "output_type": "stream",
     "text": [
      "Enter any string:  DHINEUUSUuuu\n"
     ]
    },
    {
     "name": "stdout",
     "output_type": "stream",
     "text": [
      "e  occurs  1  times\n",
      "i  occurs  1  times\n",
      "u  occurs  6  times\n"
     ]
    }
   ],
   "source": [
    "# Program to find number of occurrences of each vowel present in the given string\n",
    "word = input(\"Enter any string: \").lower()\n",
    "vowels = {'a', 'e', 'i', 'o', 'u'}\n",
    "d = {}\n",
    "for ch in word:\n",
    "    if ch in vowels:\n",
    "        d[ch] = d.get(ch, 0)+1\n",
    "        \n",
    "for k,v in sorted(d.items()):\n",
    "    print(k, \" occurs \", v, \" times\")"
   ]
  },
  {
   "cell_type": "code",
   "execution_count": 51,
   "metadata": {},
   "outputs": [
    {
     "name": "stdin",
     "output_type": "stream",
     "text": [
      "Enter number of srudents:  2\n",
      "Enter Student Name:  dhine\n",
      "Enter Student Marks:  54\n",
      "Enter Student Name:  kua\n",
      "Enter Student Marks:  23\n"
     ]
    },
    {
     "name": "stdout",
     "output_type": "stream",
     "text": [
      "student data insertion completed\n",
      "******************************\n",
      "NAME \t\t MARKS\n",
      "******************************\n",
      "dhine \t\t 54\n",
      "kua \t\t 23\n",
      "Search operation started\n"
     ]
    },
    {
     "name": "stdin",
     "output_type": "stream",
     "text": [
      "Enter student name to get marks:  dhine\n"
     ]
    },
    {
     "name": "stdout",
     "output_type": "stream",
     "text": [
      "MMarks of  dhine  are : 54\n"
     ]
    },
    {
     "name": "stdin",
     "output_type": "stream",
     "text": [
      "Do you want to find another student marks (yes/no): yes\n",
      "Enter student name to get marks:  kua\n"
     ]
    },
    {
     "name": "stdout",
     "output_type": "stream",
     "text": [
      "MMarks of  kua  are : 23\n"
     ]
    },
    {
     "name": "stdin",
     "output_type": "stream",
     "text": [
      "Do you want to find another student marks (yes/no): no\n"
     ]
    },
    {
     "name": "stdout",
     "output_type": "stream",
     "text": [
      "Thanks for using our application.\n"
     ]
    }
   ],
   "source": [
    "#Student Management Application By using dict\n",
    "n = int(input(\"Enter number of srudents: \"))\n",
    "d = {}\n",
    "for i in range(n):\n",
    "    name = input(\"Enter Student Name: \")\n",
    "    marks = int(input(\"Enter Student Marks: \"))\n",
    "    d[name] = marks\n",
    "\n",
    "print(\"student data insertion completed\")\n",
    "\n",
    "print(\"*\"*30)\n",
    "print(\"NAME\", \"\\t\\t\", \"MARKS\")\n",
    "print(\"*\"*30)\n",
    "\n",
    "for k,v in d.items():\n",
    "    print(k, \"\\t\\t\", v)\n",
    "    \n",
    "print(\"Search operation started\")\n",
    "\n",
    "while True:\n",
    "    name = input(\"Enter student name to get marks: \")\n",
    "    marks = d.get(name, -1)\n",
    "    \n",
    "    if marks == -1:\n",
    "        print(\"Student not found\")\n",
    "        \n",
    "        \n",
    "    else: \n",
    "        print(\"MMarks of \", name, \" are :\", marks)\n",
    "    \n",
    "    option = input(\"Do you want to find another student marks (yes/no):\")\n",
    "    \n",
    "    if option.lower() == 'no':\n",
    "        break\n",
    "        \n",
    "print(\"Thanks for using our application.\")\n",
    "    "
   ]
  },
  {
   "cell_type": "markdown",
   "metadata": {},
   "source": [
    "***\n",
    "### Dictionary Comprehension\n",
    "***"
   ]
  },
  {
   "cell_type": "code",
   "execution_count": 52,
   "metadata": {},
   "outputs": [
    {
     "name": "stdout",
     "output_type": "stream",
     "text": [
      "{1: 1, 2: 4, 3: 9, 4: 16, 5: 25}\n"
     ]
    }
   ],
   "source": [
    "#### Dictionary Comprehension ####\n",
    "d = {x:x*x for x in range(1,6)}\n",
    "print(d)"
   ]
  },
  {
   "cell_type": "markdown",
   "metadata": {},
   "source": [
    "***\n",
    "### Merging collections\n",
    "***"
   ]
  },
  {
   "cell_type": "code",
   "execution_count": 54,
   "metadata": {},
   "outputs": [
    {
     "name": "stdout",
     "output_type": "stream",
     "text": [
      "[10, 20, 30, 40]\n",
      "[10, 20, 30, 40]\n"
     ]
    }
   ],
   "source": [
    "### Merging Collections ###\n",
    "# List Merging\n",
    "l1 = [10, 20]\n",
    "l2 = [30, 40]\n",
    "\n",
    "#method 1\n",
    "l4 = l1 + l2\n",
    "print(l4)\n",
    "\n",
    "#method 2\n",
    "l3 = [*l1, *l2]\n",
    "print(l3)"
   ]
  },
  {
   "cell_type": "code",
   "execution_count": 56,
   "metadata": {},
   "outputs": [
    {
     "name": "stdout",
     "output_type": "stream",
     "text": [
      "(10, 20, 30, 40)\n",
      "(10, 20, 30, 40)\n"
     ]
    }
   ],
   "source": [
    "# tuple merging\n",
    "t1 = (10, 20)\n",
    "t2 = (30, 40)\n",
    "\n",
    "t3 = t1+t2\n",
    "print(t3)\n",
    "\n",
    "#method 2\n",
    "t4 = (*t1, *t2)\n",
    "print(t4)"
   ]
  },
  {
   "cell_type": "code",
   "execution_count": 57,
   "metadata": {},
   "outputs": [
    {
     "name": "stdout",
     "output_type": "stream",
     "text": [
      "{40, 10, 20, 30}\n"
     ]
    }
   ],
   "source": [
    "# Set Merging\n",
    "s1 = {10, 20}\n",
    "s2 = {30, 40}\n",
    "\n",
    "# + , * can not be used for sets\n",
    "\n",
    "s3 = {*s1, *s2}\n",
    "print(s3)"
   ]
  },
  {
   "cell_type": "code",
   "execution_count": 58,
   "metadata": {},
   "outputs": [
    {
     "name": "stdout",
     "output_type": "stream",
     "text": [
      "{100: 'A', 200: 'B', 300: 'C', 400: 'D'}\n"
     ]
    }
   ],
   "source": [
    "# Dict Merging\n",
    "d1 = {100:\"A\", 200:\"B\"}\n",
    "d2 = {300:\"C\", 400:\"D\"}\n",
    "# + , * can not be used for dicts. \n",
    "\n",
    "# ** we need to use\n",
    "d3 = {**d1, **d2}\n",
    "print(d3)"
   ]
  },
  {
   "cell_type": "markdown",
   "metadata": {},
   "source": []
  },
  {
   "cell_type": "code",
   "execution_count": 63,
   "metadata": {},
   "outputs": [
    {
     "name": "stdout",
     "output_type": "stream",
     "text": [
      "20\n",
      "60\n",
      "Maruti\n",
      "Nokia\n",
      "Samsung\n",
      "iphone\n",
      "Nokia\n"
     ]
    }
   ],
   "source": [
    "####Nested Collections Introduction and Examples####\n",
    "l1 = [(10,20,30), (40,50,60)] # list of tuples\n",
    "print(l1[0][1])\n",
    "print(l1[1][2])\n",
    "d = {'cars':(\"Innova\", \"Maruti\"), 'mobiles': (\"Samsung\", \"iphone\", \"Nokia\")} # dict with tuples as values\n",
    "print(d['cars'][1])\n",
    "print(d['mobiles'][2])\n",
    "#all mobile names\n",
    "for x in d['mobiles']:\n",
    "    print(x)"
   ]
  },
  {
   "cell_type": "code",
   "execution_count": 69,
   "metadata": {},
   "outputs": [
    {
     "name": "stdout",
     "output_type": "stream",
     "text": [
      "Name of the store 1:  Dhinesh Solutions\n",
      "Name of the store 1:  Dhinesh Solutions\n",
      "All the items in store 1\n",
      "soap\n",
      "brush\n",
      "pen\n",
      "Quantity of django books:\n",
      "200\n"
     ]
    }
   ],
   "source": [
    "### Demo Example: Implementation of Supermarket by using dict ###\n",
    "supermarket = {\n",
    "    \"store1\": {\n",
    "    'name': \"Dhinesh Solutions\",\n",
    "    'items': [\n",
    "        {\n",
    "            'name': 'soap', 'quantity': 20\n",
    "        }, \n",
    "        {\n",
    "            'name': 'brush', 'quantity': 30\n",
    "        },\n",
    "        {\n",
    "            'name': 'pen', 'quantity': 40\n",
    "        }\n",
    "    ]\n",
    "},\n",
    "\"store2\": {\n",
    "    'name': \"Kanu Book Store\",\n",
    "    'items': [\n",
    "        {\n",
    "            'name': 'python', 'quantity': 100\n",
    "        }, \n",
    "        {\n",
    "            'name': 'django', 'quantity': 200\n",
    "        },\n",
    "        {\n",
    "            'name': 'java', 'quantity': 300\n",
    "        }\n",
    "    ]\n",
    "}\n",
    "}\n",
    "\n",
    "print('Name of the store 1: ', supermarket['store1']['name'])\n",
    "#another method\n",
    "print('Name of the store 1: ', supermarket.get(\"store1\").get('name'))\n",
    "\n",
    "# names of all items in store1\n",
    "print(\"All the items in store 1\")\n",
    "for d in supermarket['store1']['items']:\n",
    "    print(d['name'])\n",
    "    \n",
    "# Print the quantity of django books from store2\n",
    "print(\"Quantity of django books:\")\n",
    "for d in supermarket['store2']['items']:\n",
    "    if d['name'] == 'django':\n",
    "        print(d['quantity'])"
   ]
  },
  {
   "cell_type": "code",
   "execution_count": 70,
   "metadata": {},
   "outputs": [
    {
     "ename": "TypeError",
     "evalue": "unhashable type: 'list'",
     "output_type": "error",
     "traceback": [
      "\u001b[1;31m---------------------------------------------------------------------------\u001b[0m",
      "\u001b[1;31mTypeError\u001b[0m                                 Traceback (most recent call last)",
      "\u001b[1;32m<ipython-input-70-d84ea2d3276e>\u001b[0m in \u001b[0;36m<module>\u001b[1;34m\u001b[0m\n\u001b[0;32m      1\u001b[0m \u001b[1;31m### List inside Set and Dictionary ###\u001b[0m\u001b[1;33m\u001b[0m\u001b[1;33m\u001b[0m\u001b[1;33m\u001b[0m\u001b[0m\n\u001b[0;32m      2\u001b[0m \u001b[1;31m# List is unhashable so List can not be added for sets and as key for dictionary\u001b[0m\u001b[1;33m\u001b[0m\u001b[1;33m\u001b[0m\u001b[1;33m\u001b[0m\u001b[0m\n\u001b[1;32m----> 3\u001b[1;33m \u001b[0ms\u001b[0m \u001b[1;33m=\u001b[0m \u001b[1;33m{\u001b[0m\u001b[1;33m[\u001b[0m\u001b[1;36m1\u001b[0m\u001b[1;33m]\u001b[0m\u001b[1;33m}\u001b[0m\u001b[1;33m\u001b[0m\u001b[1;33m\u001b[0m\u001b[0m\n\u001b[0m",
      "\u001b[1;31mTypeError\u001b[0m: unhashable type: 'list'"
     ]
    }
   ],
   "source": [
    "### List inside Set and Dictionary ### \n",
    "# List is unhashable so List can not be added for sets and as key for dictionary\n",
    "s = {[1]}"
   ]
  },
  {
   "cell_type": "code",
   "execution_count": 71,
   "metadata": {},
   "outputs": [
    {
     "ename": "TypeError",
     "evalue": "unhashable type: 'list'",
     "output_type": "error",
     "traceback": [
      "\u001b[1;31m---------------------------------------------------------------------------\u001b[0m",
      "\u001b[1;31mTypeError\u001b[0m                                 Traceback (most recent call last)",
      "\u001b[1;32m<ipython-input-71-13f3cc9aec06>\u001b[0m in \u001b[0;36m<module>\u001b[1;34m\u001b[0m\n\u001b[1;32m----> 1\u001b[1;33m \u001b[0md\u001b[0m \u001b[1;33m=\u001b[0m \u001b[1;33m{\u001b[0m\u001b[1;33m[\u001b[0m\u001b[1;36m10\u001b[0m\u001b[1;33m]\u001b[0m\u001b[1;33m:\u001b[0m\u001b[1;34m\"This can not be added as a key\"\u001b[0m\u001b[1;33m}\u001b[0m\u001b[1;33m\u001b[0m\u001b[1;33m\u001b[0m\u001b[0m\n\u001b[0m\u001b[0;32m      2\u001b[0m \u001b[0mprint\u001b[0m\u001b[1;33m(\u001b[0m\u001b[0md\u001b[0m\u001b[1;33m)\u001b[0m\u001b[1;33m\u001b[0m\u001b[1;33m\u001b[0m\u001b[0m\n",
      "\u001b[1;31mTypeError\u001b[0m: unhashable type: 'list'"
     ]
    }
   ],
   "source": [
    "d = {[10]:\"This can not be added as a key\"}\n",
    "print(d)"
   ]
  },
  {
   "cell_type": "code",
   "execution_count": null,
   "metadata": {},
   "outputs": [],
   "source": []
  }
 ],
 "metadata": {
  "kernelspec": {
   "display_name": "Python 3",
   "language": "python",
   "name": "python3"
  },
  "language_info": {
   "codemirror_mode": {
    "name": "ipython",
    "version": 3
   },
   "file_extension": ".py",
   "mimetype": "text/x-python",
   "name": "python",
   "nbconvert_exporter": "python",
   "pygments_lexer": "ipython3",
   "version": "3.6.9-final"
  }
 },
 "nbformat": 4,
 "nbformat_minor": 4
}