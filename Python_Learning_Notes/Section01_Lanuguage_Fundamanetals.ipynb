{

"cells": [

  {

   "cell_type": "markdown",

   "metadata": {},

   "source": [

    "# Float Type"

   ]

  },

  {

   "cell_type": "code",

   "execution_count": 1,

   "metadata": {

    "tags": []

   },

   "outputs": [

    {

     "output_type": "stream",

     "name": "stdout",

     "text": "<class 'float'>\n"

    }

   ],

   "source": [

    "### Float Data Type ###\n",

    "f = 12.34\n",

    "print(type(f))"

   ]

  },

  {

   "cell_type": "code",

   "execution_count": 2,

   "metadata": {},

   "outputs": [

    {

     "output_type": "error",

     "ename": "SyntaxError",

     "evalue": "invalid syntax (<ipython-input-2-f7a917a1187a>, line 2)",

     "traceback": [

      "\u001b[1;36m  File \u001b[1;32m\"<ipython-input-2-f7a917a1187a>\"\u001b[1;36m, line \u001b[1;32m2\u001b[0m\n\u001b[1;33m    f1 = 0b111.01\u001b[0m\n\u001b[1;37m              ^\u001b[0m\n\u001b[1;31mSyntaxError\u001b[0m\u001b[1;31m:\u001b[0m invalid syntax\n"

     ]

    }

   ],

   "source": [

    "# No binary , Octal or Hexa decimal are not allowed for floating point operations\n",

    "f1 = 0b111.01"

   ]

  },

  {

   "cell_type": "code",

   "execution_count": 3,

   "metadata": {

    "tags": []

   },

   "outputs": [

    {

     "output_type": "stream",

     "name": "stdout",

     "text": "1200.0\n"

    }

   ],

   "source": [

    "# but we can use exponential form also (e or E allowed)\n",

    "f3 = 1.2e3\n",

    "print(f3)"

   ]

  },

  {

   "cell_type": "markdown",

   "metadata": {},

   "source": [

    "# Complex Data Type\n",

    "## For advanced Mathematical calculations\n",

    "a+bj -> only j can be used for complex types "

   ]

  },

  {

   "cell_type": "code",

   "execution_count": 10,

   "metadata": {

    "tags": []

   },

   "outputs": [

    {

     "output_type": "stream",

     "name": "stdout",

     "text": "<class 'complex'>\n10.0\n20.0\n"

    }

   ],

   "source": [

    "x = 10+20j\n",

    "print(type(x))\n",

    "print(x.real)\n",

    "print(x.imag) #"

   ]

  },

  {

   "cell_type": "code",

   "execution_count": 13,

   "metadata": {

    "tags": []

   },

   "outputs": [

    {

     "output_type": "error",

     "ename": "SyntaxError",

     "evalue": "invalid syntax (<ipython-input-13-33c2195af759>, line 5)",

     "traceback": [

      "\u001b[1;36m  File \u001b[1;32m\"<ipython-input-13-33c2195af759>\"\u001b[1;36m, line \u001b[1;32m5\u001b[0m\n\u001b[1;33m    x2 = 15+0b111j\u001b[0m\n\u001b[1;37m                 ^\u001b[0m\n\u001b[1;31mSyntaxError\u001b[0m\u001b[1;31m:\u001b[0m invalid syntax\n"

     ]

    }

   ],

   "source": [

    "# We can use real and imaginary part with both int or float\n",

    "# real form can be hex, binary or octal but in imaginary only decimal can be used\n",

    "x1 = 0b0011+20.6j # This is valid\n",

    "print(x1) \n",

    "x2 = 15+0b111j # THis is invalid\n",

    "print(x2)"

   ]

  },

  {

   "cell_type": "code",

   "execution_count": 14,

   "metadata": {

    "tags": []

   },

   "outputs": [

    {

     "output_type": "stream",

     "name": "stdout",

     "text": "(30+50j)\n(-10-10j)\n(0.6153846153846154+0.0769230769230769j)\n(-400+700j)\n"

    }

   ],

   "source": [

    "# we can use any arithmetic operations on complex numbers\n",

    "x3 = 10+20j\n",

    "y3 = 20+30j\n",

    "print(x3+y3)\n",

    "print(x3-y3)\n",

    "print(x3/y3)\n",

    "print(x3*y3)"

   ]

  },

  {

   "cell_type": "markdown",

   "metadata": {},

   "source": [

    "# Boolean Type\n",

    "## True  / False"

   ]

  },

  {

   "cell_type": "code",

   "execution_count": 17,

   "metadata": {

    "tags": []

   },

   "outputs": [

    {

     "output_type": "stream",

     "name": "stdout",

     "text": "<class 'bool'>\n"

    }

   ],

   "source": [

    "b1 = True\n",

    "print(type(b1))"

   ]

  },

  {

   "cell_type": "code",

   "execution_count": 21,

   "metadata": {

    "tags": []

   },

   "outputs": [

    {

     "output_type": "stream",

     "name": "stdout",

     "text": "2\n1\n0\n"

    }

   ],

   "source": [

    "# Arithmetic between 2 boolean values - True will become 1 nd False becomes 0\n",

    "print(True + True)\n",

    "print(True - False)\n",

    "print(True * False)"

   ]

  },

  {

   "cell_type": "markdown",

   "metadata": {},

   "source": [

    "# Multiple variable assignment"

   ]

  },

  {

   "cell_type": "code",

   "execution_count": 1,

   "metadata": {},

   "outputs": [

    {

     "name": "stdout",

     "output_type": "stream",

     "text": [

      "10 20\n"

     ]

    }

   ],

   "source": [

    "#multiple assignment at a line\n",

    "a,b = 10, 20\n",

    "print(a, b)"

   ]

  },

  {

   "cell_type": "code",

   "execution_count": 2,

   "metadata": {},

   "outputs": [

    {

     "name": "stdout",

     "output_type": "stream",

     "text": [

      "<class 'int'>\n",

      "<class 'float'>\n",

      "<class 'str'>\n"

     ]

    }

   ],

   "source": [

    "# same variable can be used for different types\n",

    "a = 10\n",

    "print(type(a))\n",

    "a = 10.5\n",

    "print(type(a))\n",

    "a = \"str\"\n",

    "print(type(a))"

   ]

  },

  {

   "cell_type": "markdown",

   "metadata": {},

   "source": [

    "# Strings\n",

    "We can use either single or double quotes"

   ]

  },

  {

   "cell_type": "code",

   "execution_count": 25,

   "metadata": {

    "tags": []

   },

   "outputs": [

    {

     "output_type": "stream",

     "name": "stdout",

     "text": "<class 'str'>\n"

    }

   ],

   "source": [

    "s = \"dhinesh\"\n",

    "print(type(s))"

   ]

  },

  {

   "cell_type": "code",

   "execution_count": 26,

   "metadata": {

    "tags": []

   },

   "outputs": [

    {

     "output_type": "stream",

     "name": "stdout",

     "text": "<class 'str'>\n"

    }

   ],

   "source": [

    "# There is no char data type in python\n",

    "s1 = 'a'\n",

    "print(type(s1))"

   ]

  },

  {

   "cell_type": "code",

   "execution_count": 28,

   "metadata": {

    "tags": []

   },

   "outputs": [

    {

     "output_type": "stream",

     "name": "stdout",

     "text": "\nThis is\na multiline\nString. We can also use ''' instead of double quotes\n\n"

    }

   ],

   "source": [

    "# triple quotes - also can be used for doc string\n",

    "s2 = \"\"\"\n",

    "This is\n",

    "a multiline\n",

    "String. We can also use ''' instead of double quotes\n",

    "\"\"\"\n",

    "print(s2)"

   ]

  },

  {

   "cell_type": "code",

   "execution_count": 29,

   "metadata": {

    "tags": []

   },

   "outputs": [

    {

     "output_type": "stream",

     "name": "stdout",

     "text": "This is sample string with'  single 'quote\n"

    }

   ],

   "source": [

    "# adding single quote as a character inside string then use \"\"\n",

    "s4 = \"This is sample string with'  single 'quote\"\n",

    "print(s4)"

   ]

  },

  {

   "cell_type": "code",

   "execution_count": 30,

   "metadata": {

    "tags": []

   },

   "outputs": [

    {

     "output_type": "stream",

     "name": "stdout",

     "text": "Using double \" quotes and and using ' quotes inside triple quotes \n"

    }

   ],

   "source": [

    "# Mixing both ' and \" inside a string \n",

    "s5 = \"\"\" Using double \" quotes and and using ' quotes inside triple quotes \"\"\"\n",

    "print(s5)"

   ]

  },

  {

   "cell_type": "code",

   "execution_count": null,

   "metadata": {},

   "outputs": [],

   "source": []

  },

  {

   "cell_type": "code",

   "execution_count": 2,

   "metadata": {},

   "outputs": [

    {

     "ename": "TypeError",

     "evalue": "can only concatenate str (not \"int\") to str",

     "output_type": "error",

     "traceback": [

      "\u001b[1;31m---------------------------------------------------------------------------\u001b[0m",

      "\u001b[1;31mTypeError\u001b[0m                                 Traceback (most recent call last)",

      "\u001b[1;32m<ipython-input-2-ba9b8cb5e24f>\u001b[0m in \u001b[0;36m<module>\u001b[1;34m\u001b[0m\n\u001b[1;32m----> 1\u001b[1;33m \u001b[0msample\u001b[0m \u001b[1;33m=\u001b[0m \u001b[1;34m\"name\"\u001b[0m \u001b[1;33m+\u001b[0m \u001b[1;36m10\u001b[0m \u001b[1;31m# string can not be concated to non string variable\u001b[0m\u001b[1;33m\u001b[0m\u001b[1;33m\u001b[0m\u001b[0m\n\u001b[0m",

      "\u001b[1;31mTypeError\u001b[0m: can only concatenate str (not \"int\") to str"

     ]

    }

   ],

   "source": [

    "sample = \"name\" + 10 # string can not be concated to non string variable"

   ]

  },

  {

   "cell_type": "code",

   "execution_count": 3,

   "metadata": {},

   "outputs": [

    {

     "data": {

      "text/plain": [

       "'strstrstrstrstr'"

      ]

     },

     "execution_count": 3,

     "metadata": {},

     "output_type": "execute_result"

    }

   ],

   "source": [

    "#  * operator can be used with strings to repeat the \n",

    "\"str\" * 5"

   ]

  },

  {

   "cell_type": "code",

   "execution_count": 4,

   "metadata": {},

   "outputs": [

    {

     "data": {

      "text/plain": [

       "2"

      ]

     },

     "execution_count": 4,

     "metadata": {},

     "output_type": "execute_result"

    }

   ],

   "source": [

    "# Adding boolean will convert them to 1 for True and 0 for False\n",

    "True + True"

   ]

  },

  {

   "cell_type": "code",

   "execution_count": 5,

   "metadata": {},

   "outputs": [

    {

     "ename": "TypeError",

     "evalue": "can't multiply sequence by non-int of type 'str'",

     "output_type": "error",

     "traceback": [

      "\u001b[1;31m---------------------------------------------------------------------------\u001b[0m",

      "\u001b[1;31mTypeError\u001b[0m                                 Traceback (most recent call last)",

      "\u001b[1;32m<ipython-input-5-6111b2c8db05>\u001b[0m in \u001b[0;36m<module>\u001b[1;34m\u001b[0m\n\u001b[0;32m      1\u001b[0m \u001b[1;31m# * operator can not be applied to 2 string\u001b[0m\u001b[1;33m\u001b[0m\u001b[1;33m\u001b[0m\u001b[1;33m\u001b[0m\u001b[0m\n\u001b[1;32m----> 2\u001b[1;33m \u001b[1;34m'str'\u001b[0m \u001b[1;33m*\u001b[0m \u001b[1;34m\"dhinesh\"\u001b[0m\u001b[1;33m\u001b[0m\u001b[1;33m\u001b[0m\u001b[0m\n\u001b[0m",

      "\u001b[1;31mTypeError\u001b[0m: can't multiply sequence by non-int of type 'str'"

     ]

    }

   ],

   "source": [

    "# * operator can not be applied to 2 string\n",

    "'str' * \"dhinesh\""

   ]

  },

  {

   "cell_type": "code",

   "execution_count": 6,

   "metadata": {},

   "outputs": [],

   "source": [

    "# with complex types only 'j' can be used\n",

    "# No char data types in python. Even a single character can be used as string type in python\n",

    "# fundamental types: int, str, complex, bool, float"

   ]

  },

  {

   "cell_type": "code",

   "execution_count": 7,

   "metadata": {},

   "outputs": [],

   "source": [

    "############### Type Casting / Type Conversion #################\n",

    "\"\"\"\n",

    "5 inbuilt functions for type casting\n",

    "int()\n",

    "float()\n",

    "complex()\n",

    "bool()\n",

    "str()\n",

    "\"\"\""

   ]

  },

  {

   "cell_type": "code",

   "execution_count": 8,

   "metadata": {},

   "outputs": [

    {

     "data": {

      "text/plain": [

       "10"

      ]

     },

     "execution_count": 8,

     "metadata": {},

     "output_type": "execute_result"

    }

   ],

   "source": [

    "int(10.989) # decimal places will be gone"

   ]

  },

  {

   "cell_type": "code",

   "execution_count": 9,

   "metadata": {},

   "outputs": [

    {

     "data": {

      "text/plain": [

       "-10"

      ]

     },

     "execution_count": 9,

     "metadata": {},

     "output_type": "execute_result"

    }

   ],

   "source": [

    "int(-10.989)"

   ]

  },

  {

   "cell_type": "code",

   "execution_count": 10,

   "metadata": {},

   "outputs": [

    {

     "ename": "TypeError",

     "evalue": "can't convert complex to int",

     "output_type": "error",

     "traceback": [

      "\u001b[1;31m---------------------------------------------------------------------------\u001b[0m",

      "\u001b[1;31mTypeError\u001b[0m                                 Traceback (most recent call last)",

      "\u001b[1;32m<ipython-input-10-8ce7448599b2>\u001b[0m in \u001b[0;36m<module>\u001b[1;34m\u001b[0m\n\u001b[0;32m      1\u001b[0m \u001b[1;31m#complex to int conversion\u001b[0m\u001b[1;33m\u001b[0m\u001b[1;33m\u001b[0m\u001b[1;33m\u001b[0m\u001b[0m\n\u001b[1;32m----> 2\u001b[1;33m \u001b[0mint\u001b[0m\u001b[1;33m(\u001b[0m\u001b[1;36m10\u001b[0m\u001b[1;33m+\u001b[0m\u001b[1;36m20j\u001b[0m\u001b[1;33m)\u001b[0m\u001b[1;33m\u001b[0m\u001b[1;33m\u001b[0m\u001b[0m\n\u001b[0m",

      "\u001b[1;31mTypeError\u001b[0m: can't convert complex to int"

     ]

    }

   ],

   "source": [

    "#complex to int conversion. can not be converted\n",

    "int(10+20j)"

   ]

  },

  {

   "cell_type": "code",

   "execution_count": 11,

   "metadata": {},

   "outputs": [

    {

     "data": {

      "text/plain": [

       "1"

      ]

     },

     "execution_count": 11,

     "metadata": {},

     "output_type": "execute_result"

    }

   ],

   "source": [

    "#bool to int\n",

    "int(True)"

   ]

  },

  {

   "cell_type": "code",

   "execution_count": 12,

   "metadata": {},

   "outputs": [

    {

     "data": {

      "text/plain": [

       "0"

      ]

     },

     "execution_count": 12,

     "metadata": {},

     "output_type": "execute_result"

    }

   ],

   "source": [

    "int(False)"

   ]

  },

  {

   "cell_type": "code",

   "execution_count": 13,

   "metadata": {},

   "outputs": [

    {

     "data": {

      "text/plain": [

       "10"

      ]

     },

     "execution_count": 13,

     "metadata": {},

     "output_type": "execute_result"

    }

   ],

   "source": [

    "#string to int. String should contain only integral value ans sholuld be available in base 10\n",

    "int(\"10\")"

   ]

  },

  {

   "cell_type": "code",

   "execution_count": 14,

   "metadata": {},

   "outputs": [

    {

     "ename": "ValueError",

     "evalue": "invalid literal for int() with base 10: '0B1011'",

     "output_type": "error",

     "traceback": [

      "\u001b[1;31m---------------------------------------------------------------------------\u001b[0m",

      "\u001b[1;31mValueError\u001b[0m                                Traceback (most recent call last)",

      "\u001b[1;32m<ipython-input-14-b71c236c331c>\u001b[0m in \u001b[0;36m<module>\u001b[1;34m\u001b[0m\n\u001b[1;32m----> 1\u001b[1;33m \u001b[0mint\u001b[0m\u001b[1;33m(\u001b[0m\u001b[1;34m\"0B1011\"\u001b[0m\u001b[1;33m)\u001b[0m\u001b[1;33m\u001b[0m\u001b[1;33m\u001b[0m\u001b[0m\n\u001b[0m",

      "\u001b[1;31mValueError\u001b[0m: invalid literal for int() with base 10: '0B1011'"

     ]

    }

   ],

   "source": [

    "int(\"0B1011\") # this will throw error"

   ]

  },

  {

   "cell_type": "code",

   "execution_count": 15,

   "metadata": {},

   "outputs": [

    {

     "ename": "ValueError",

     "evalue": "invalid literal for int() with base 10: '11.12'",

     "output_type": "error",

     "traceback": [

      "\u001b[1;31m---------------------------------------------------------------------------\u001b[0m",

      "\u001b[1;31mValueError\u001b[0m                                Traceback (most recent call last)",

      "\u001b[1;32m<ipython-input-15-aa357a6f5efc>\u001b[0m in \u001b[0;36m<module>\u001b[1;34m\u001b[0m\n\u001b[1;32m----> 1\u001b[1;33m \u001b[0mint\u001b[0m\u001b[1;33m(\u001b[0m\u001b[1;34m\"11.12\"\u001b[0m\u001b[1;33m)\u001b[0m\u001b[1;33m\u001b[0m\u001b[1;33m\u001b[0m\u001b[0m\n\u001b[0m",

      "\u001b[1;31mValueError\u001b[0m: invalid literal for int() with base 10: '11.12'"

     ]

    }

   ],

   "source": [

    "int(\"11.12\") # this will throw error"

   ]

  },

  {

   "cell_type": "code",

   "execution_count": 16,

   "metadata": {},

   "outputs": [],

   "source": [

    "### float() conversion ####"

   ]

  },

  {

   "cell_type": "code",

   "execution_count": 17,

   "metadata": {},

   "outputs": [

    {

     "data": {

      "text/plain": [

       "15.0"

      ]

     },

     "execution_count": 17,

     "metadata": {},

     "output_type": "execute_result"

    }

   ],

   "source": [

    "#int to float conversion\n",

    "float(15)"

   ]

  },

  {

   "cell_type": "code",

   "execution_count": 18,

   "metadata": {},

   "outputs": [

    {

     "data": {

      "text/plain": [

       "7.0"

      ]

     },

     "execution_count": 18,

     "metadata": {},

     "output_type": "execute_result"

    }

   ],

   "source": [

    "#any integral type with any base can be used\n",

    "float(0B111)"

   ]

  },

  {

   "cell_type": "code",

   "execution_count": 19,

   "metadata": {},

   "outputs": [

    {

     "ename": "TypeError",

     "evalue": "can't convert complex to float",

     "output_type": "error",

     "traceback": [

      "\u001b[1;31m---------------------------------------------------------------------------\u001b[0m",

      "\u001b[1;31mTypeError\u001b[0m                                 Traceback (most recent call last)",

      "\u001b[1;32m<ipython-input-19-0fff618f2afc>\u001b[0m in \u001b[0;36m<module>\u001b[1;34m\u001b[0m\n\u001b[0;32m      1\u001b[0m \u001b[1;31m#complex to floot\u001b[0m\u001b[1;33m\u001b[0m\u001b[1;33m\u001b[0m\u001b[1;33m\u001b[0m\u001b[0m\n\u001b[1;32m----> 2\u001b[1;33m \u001b[0mfloat\u001b[0m\u001b[1;33m(\u001b[0m\u001b[1;36m10\u001b[0m\u001b[1;33m+\u001b[0m\u001b[1;36m6j\u001b[0m\u001b[1;33m)\u001b[0m\u001b[1;33m\u001b[0m\u001b[1;33m\u001b[0m\u001b[0m\n\u001b[0m",

      "\u001b[1;31mTypeError\u001b[0m: can't convert complex to float"

     ]

    }

   ],

   "source": [

    "#complex to float => can not be converted\n",

    "float(10+6j)"

   ]

  },

  {

   "cell_type": "code",

   "execution_count": 20,

   "metadata": {},

   "outputs": [

    {

     "data": {

      "text/plain": [

       "1.0"

      ]

     },

     "execution_count": 20,

     "metadata": {},

     "output_type": "execute_result"

    }

   ],

   "source": [

    "#boolean to float()\n",

    "float(True)"

   ]

  },

  {

   "cell_type": "code",

   "execution_count": 21,

   "metadata": {},

   "outputs": [

    {

     "data": {

      "text/plain": [

       "0.0"

      ]

     },

     "execution_count": 21,

     "metadata": {},

     "output_type": "execute_result"

    }

   ],

   "source": [

    "float(False)"

   ]

  },

  {

   "cell_type": "code",

   "execution_count": 22,

   "metadata": {},

   "outputs": [

    {

     "data": {

      "text/plain": [

       "10.0"

      ]

     },

     "execution_count": 22,

     "metadata": {},

     "output_type": "execute_result"

    }

   ],

   "source": [

    "#Str to float type. # String should contain either int or float but should be in base10\n",

    "float(\"10\")"

   ]

  },

  {

   "cell_type": "code",

   "execution_count": 23,

   "metadata": {},

   "outputs": [

    {

     "data": {

      "text/plain": [

       "2154.0"

      ]

     },

     "execution_count": 23,

     "metadata": {},

     "output_type": "execute_result"

    }

   ],

   "source": [

    "float(\"2154\")"

   ]

  },

  {

   "cell_type": "code",

   "execution_count": 24,

   "metadata": {},

   "outputs": [

    {

     "ename": "ValueError",

     "evalue": "could not convert string to float: '0B1111'",

     "output_type": "error",

     "traceback": [

      "\u001b[1;31m---------------------------------------------------------------------------\u001b[0m",

      "\u001b[1;31mValueError\u001b[0m                                Traceback (most recent call last)",

      "\u001b[1;32m<ipython-input-24-62ed3c7df456>\u001b[0m in \u001b[0;36m<module>\u001b[1;34m\u001b[0m\n\u001b[1;32m----> 1\u001b[1;33m \u001b[0mfloat\u001b[0m\u001b[1;33m(\u001b[0m\u001b[1;34m\"0B1111\"\u001b[0m\u001b[1;33m)\u001b[0m\u001b[1;33m\u001b[0m\u001b[1;33m\u001b[0m\u001b[0m\n\u001b[0m",

      "\u001b[1;31mValueError\u001b[0m: could not convert string to float: '0B1111'"

     ]

    }

   ],

   "source": [

    "float(\"0B1111\")"

   ]

  },

  {

   "cell_type": "code",

   "execution_count": 26,

   "metadata": {},

   "outputs": [

    {

     "data": {

      "text/plain": [

       "(10+0j)"

      ]

     },

     "execution_count": 26,

     "metadata": {},

     "output_type": "execute_result"

    }

   ],

   "source": [

    "############## complex() conversion #################\n",

    "#Form1 -> complex (x). x will become the real value\n",

    "complex(10)"

   ]

  },

  {

   "cell_type": "code",

   "execution_count": 27,

   "metadata": {},

   "outputs": [

    {

     "data": {

      "text/plain": [

       "(15+0j)"

      ]

     },

     "execution_count": 27,

     "metadata": {},

     "output_type": "execute_result"

    }

   ],

   "source": [

    "complex(0B1111)"

   ]

  },

  {

   "cell_type": "code",

   "execution_count": 28,

   "metadata": {},

   "outputs": [

    {

     "data": {

     "text/plain": [

       "(10.5+0j)"

      ]

     },

     "execution_count": 28,

     "metadata": {},

     "output_type": "execute_result"

    }

   ],

   "source": [

    "complex(10.5)"

   ]

  },

  {

   "cell_type": "code",

   "execution_count": 29,

   "metadata": {},

   "outputs": [

    {

     "data": {

      "text/plain": [

       "(1+0j)"

      ]

     },

     "execution_count": 29,

     "metadata": {},

     "output_type": "execute_result"

    }

   ],

   "source": [

    "complex(True)"

   ]

  },

  {

   "cell_type": "code",

   "execution_count": 31,

   "metadata": {},

   "outputs": [

    {

     "data": {

      "text/plain": [

       "0j"

      ]

     },

     "execution_count": 31,

     "metadata": {},

     "output_type": "execute_result"

    }

   ],

   "source": [

    "complex(False)"

   ]

  },

  {

   "cell_type": "code",

   "execution_count": 32,

   "metadata": {},

   "outputs": [

    {

     "data": {

      "text/plain": [

       "(10+0j)"

      ]

     },

     "execution_count": 32,

     "metadata": {},

     "output_type": "execute_result"

    }

   ],

   "source": [

    "complex(\"10\") "

   ]

  },

  {

   "cell_type": "code",

   "execution_count": 33,

   "metadata": {},

   "outputs": [

    {

     "data": {

      "text/plain": [

       "(10.5+0j)"

      ]

     },

     "execution_count": 33,

     "metadata": {},

     "output_type": "execute_result"

    }

   ],

   "source": [

    "complex(\"10.5\")"

   ]

  },

  {

   "cell_type": "code",

   "execution_count": null,

   "metadata": {},

   "outputs": [],

   "source": []

  },

  {

   "cell_type": "code",

   "execution_count": 34,

   "metadata": {},

   "outputs": [

    {

     "data": {

      "text/plain": [

       "(10+20j)"

      ]

     },

     "execution_count": 34,

     "metadata": {},

     "output_type": "execute_result"

    }

   ],

   "source": [

    "#form2 -> complex(x, y). x will become real and y will become imaginary part\n",

    "complex(10, 20)"

   ]

  },

  {

   "cell_type": "code",

   "execution_count": 35,

   "metadata": {},

   "outputs": [

    {

     "data": {

      "text/plain": [

       "(10.5+20.6j)"

      ]

     },

     "execution_count": 35,

     "metadata": {},

     "output_type": "execute_result"

    }

   ],

   "source": [

    "complex(10.5, 20.6)"

   ]

  },

  {

   "cell_type": "code",

   "execution_count": 36,

   "metadata": {},

   "outputs": [

    {

     "ename": "TypeError",

     "evalue": "complex() can't take second arg if first is a string",

     "output_type": "error",

     "traceback": [

      "\u001b[1;31m---------------------------------------------------------------------------\u001b[0m",

      "\u001b[1;31mTypeError\u001b[0m                                 Traceback (most recent call last)",

      "\u001b[1;32m<ipython-input-36-3177c8570a42>\u001b[0m in \u001b[0;36m<module>\u001b[1;34m\u001b[0m\n\u001b[1;32m----> 1\u001b[1;33m \u001b[0mcomplex\u001b[0m\u001b[1;33m(\u001b[0m\u001b[1;34m\"10\"\u001b[0m\u001b[1;33m,\u001b[0m \u001b[1;34m\"20\"\u001b[0m\u001b[1;33m)\u001b[0m\u001b[1;33m\u001b[0m\u001b[1;33m\u001b[0m\u001b[0m\n\u001b[0m",

      "\u001b[1;31mTypeError\u001b[0m: complex() can't take second arg if first is a string"

     ]

    }

   ],

   "source": [

    "complex(\"10\", \"20\") # can't take second arg if first is a string"

   ]

  },

  {

   "cell_type": "code",

   "execution_count": 37,

   "metadata": {},

   "outputs": [

    {

     "ename": "TypeError",

     "evalue": "complex() second arg can't be a string",

     "output_type": "error",

     "traceback": [

      "\u001b[1;31m---------------------------------------------------------------------------\u001b[0m",

      "\u001b[1;31mTypeError\u001b[0m                                 Traceback (most recent call last)",

      "\u001b[1;32m<ipython-input-37-010a4c91c085>\u001b[0m in \u001b[0;36m<module>\u001b[1;34m\u001b[0m\n\u001b[1;32m----> 1\u001b[1;33m \u001b[0mcomplex\u001b[0m\u001b[1;33m(\u001b[0m\u001b[1;36m10\u001b[0m\u001b[1;33m,\u001b[0m \u001b[1;34m\"20\"\u001b[0m\u001b[1;33m)\u001b[0m\u001b[1;33m\u001b[0m\u001b[1;33m\u001b[0m\u001b[0m\n\u001b[0m",

      "\u001b[1;31mTypeError\u001b[0m: complex() second arg can't be a string"

     ]

    }

   ],

   "source": [

    "complex(10, \"20\") # second arg can't be a string"

   ]

  },

  {

   "cell_type": "code",

   "execution_count": 38,

   "metadata": {},

   "outputs": [],

   "source": [

    "############## bool() conversion #################"

   ]

  },

  {

   "cell_type": "code",

   "execution_count": 39,

   "metadata": {},

   "outputs": [

    {

     "data": {

      "text/plain": [

       "True"

      ]

     },

     "execution_count": 39,

     "metadata": {},

     "output_type": "execute_result"

    }

   ],

   "source": [

    "#int to bool  -> if o then false and True for non-zero values\n",

    "bool(10)"

   ]

  },

  {

   "cell_type": "code",

   "execution_count": 40,

   "metadata": {},

   "outputs": [

    {

     "data": {

      "text/plain": [

       "False"

      ]

     },

     "execution_count": 40,

     "metadata": {},

     "output_type": "execute_result"

    }

   ],

   "source": [

    "bool(0)"

   ]

  },

  {

   "cell_type": "code",

   "execution_count": 1,

   "metadata": {},

   "outputs": [

    {

     "data": {

      "text/plain": [

       "True"

      ]

     },

     "execution_count": 1,

     "metadata": {},

     "output_type": "execute_result"

    }

   ],

   "source": [

    "bool(0.1) # beacuse 0.1 is a non-zero value"

   ]

  },

  {

   "cell_type": "code",

   "execution_count": 2,

   "metadata": {},

   "outputs": [

    {

     "data": {

      "text/plain": [

       "False"

      ]

     },

     "execution_count": 2,

     "metadata": {},

     "output_type": "execute_result"

    }

   ],

   "source": [

    "bool(0+0j)"

   ]

  },

  {

   "cell_type": "code",

   "execution_count": 4,

   "metadata": {},

   "outputs": [

    {

     "data": {

      "text/plain": [

       "True"

      ]

     },

     "execution_count": 4,

     "metadata": {},

     "output_type": "execute_result"

    }

   ],

   "source": [

    "bool(1+1j)"

   ]

  },

  {

   "cell_type": "code",

   "execution_count": 5,

   "metadata": {},

   "outputs": [

    {

     "data": {

      "text/plain": [

       "True"

      ]

     },

     "execution_count": 5,

     "metadata": {},

     "output_type": "execute_result"

    }

   ],

   "source": [

    "bool(1j)"

   ]

  },

  {

   "cell_type": "code",

   "execution_count": null,

   "metadata": {},

   "outputs": [],

   "source": [

    "#str to bool conversion. if the argument is empty string then only it is False else True for all other cases"

   ]

  },

  {

   "cell_type": "code",

   "execution_count": 7,

   "metadata": {},

   "outputs": [

    {

     "data": {

      "text/plain": [

       "True"

      ]

     },

     "execution_count": 7,

     "metadata": {},

     "output_type": "execute_result"

    }

   ],

   "source": [

    "bool(\"True\")"

   ]

  },

  {

   "cell_type": "code",

   "execution_count": 8,

   "metadata": {},

   "outputs": [

    {

     "data": {

      "text/plain": [

       "True"

      ]

     },

     "execution_count": 8,

     "metadata": {},

     "output_type": "execute_result"

    }

   ],

   "source": [

    "bool(\"False\")"

   ]

  },

  {

   "cell_type": "code",

   "execution_count": 9,

   "metadata": {},

   "outputs": [

    {

     "data": {

      "text/plain": [

       "True"

      ]

     },

     "execution_count": 9,

     "metadata": {},

     "output_type": "execute_result"

    }

   ],

   "source": [

    "bool('anystring')"

   ]

  },

  {

   "cell_type": "code",

   "execution_count": 10,

   "metadata": {},

   "outputs": [

    {

     "data": {

      "text/plain": [

       "False"

      ]

     },

     "execution_count": 10,

     "metadata": {},

     "output_type": "execute_result"

    }

   ],

   "source": [

    "bool() # thiis is the onluy case for False"

   ]

  },

  {

   "cell_type": "code",

   "execution_count": null,

   "metadata": {},

   "outputs": [],

   "source": [

    "################### str() conversion ####################"

   ]

  },

  {

   "cell_type": "code",

   "execution_count": 11,

   "metadata": {},

   "outputs": [

    {

     "data": {

      "text/plain": [

       "'10'"

      ]

     },

     "execution_count": 11,

     "metadata": {},

     "output_type": "execute_result"

    }

   ],

   "source": [

    "str(10)"

   ]

  },

  {

   "cell_type": "code",

   "execution_count": 12,

   "metadata": {},

   "outputs": [

    {

     "data": {

      "text/plain": [

       "'15'"

      ]

     },

     "execution_count": 12,

     "metadata": {},

     "output_type": "execute_result"

    }

   ],

   "source": [

    "str(0B1111)"

   ]

  },

  {

   "cell_type": "code",

   "execution_count": 13,

   "metadata": {},

   "outputs": [

    {

     "data": {

      "text/plain": [

       "'10.1'"

      ]

     },

     "execution_count": 13,

     "metadata": {},

     "output_type": "execute_result"

    }

   ],

   "source": [

    "str(10.1)"

   ]

  },

  {

   "cell_type": "code",

   "execution_count": 14,

   "metadata": {},

   "outputs": [

    {

     "data": {

      "text/plain": [

       "'(10+20j)'"

      ]

     },

     "execution_count": 14,

     "metadata": {},

     "output_type": "execute_result"

    }

   ],

   "source": [

    "str(10+20j)"

   ]

  },

  {

   "cell_type": "code",

   "execution_count": 15,

   "metadata": {},

   "outputs": [

    {

     "data": {

      "text/plain": [

       "'True'"

      ]

     },

     "execution_count": 15,

     "metadata": {},

     "output_type": "execute_result"

    }

   ],

   "source": [

    "str(True)"

   ]

  },

  {

   "cell_type": "code",

   "execution_count": 16,

   "metadata": {},

   "outputs": [

    {

     "data": {

      "text/plain": [

       "'False'"

      ]

     },

     "execution_count": 16,

     "metadata": {},

     "output_type": "execute_result"

    }

   ],

   "source": [

    "str(False )"

   ]

  },

  {

   "cell_type": "code",

   "execution_count": 17,

   "metadata": {},

   "outputs": [],

   "source": [

    "######################## Data types vs Immutability #############################"

   ]

  },

  {

   "cell_type": "code",

   "execution_count": 19,

   "metadata": {},

   "outputs": [

    {

     "name": "stdout",

     "output_type": "stream",

     "text": [

      "140729482135488\n"

     ]

    }

   ],

   "source": [

    "#id() function will give the object id of an object\n",

    "x = 10\n",

    "print(id(x))"

   ]

  },

  {

   "cell_type": "code",

   "execution_count": 20,

   "metadata": {},

   "outputs": [

    {

     "name": "stdout",

     "output_type": "stream",

     "text": [

      "140729482135520\n"

     ]

    }

   ],

   "source": [

    "# if we make any change, new object with new id will be created and old id will be garbage collected\n",

    "x = x + 1\n",

    "print(id(x))"

   ]

  },

  {

   "cell_type": "code",

   "execution_count": 21,

   "metadata": {},

   "outputs": [

    {

     "name": "stdout",

     "output_type": "stream",

     "text": [

      "140729482135488\n",

      "140729482135488\n"

     ]

    }

   ],

   "source": [

    "# another example. We can observe both y and z points to the same object but whene ever any change happens, a new object will be created for that variable\n",

    "y = 10\n",

    "z = y\n",

    "print(id(y))\n",

    "print(id(z))"

   ]

  },

  {

   "cell_type": "code",

   "execution_count": 22,

   "metadata": {},

   "outputs": [

    {

     "name": "stdout",

     "output_type": "stream",

     "text": [

      "140729482135488\n",

      "140729482135520\n"

     ]

    }

   ],

   "source": [

    "# change is happenign and new object will be created here\n",

    "z = z + 1\n",

    "print(id(y)) # points to the same old object location\n",

    "print(id(z)) # new object id"

   ]

  },

  {

   "cell_type": "code",

   "execution_count": 23,

   "metadata": {},

   "outputs": [

    {

     "name": "stdout",

     "output_type": "stream",

     "text": [

      "140729482135488\n",

      "140729482135488\n",

      "140729482135488\n"

     ]

    }

   ],

   "source": [

    "# another example\n",

    "\"\"\"\n",

    "if multiple variables uses same value like 10, python virtual machine will try use reuse the same object until there is no change for the variable value\n",

    "This will improve the memory utilization\n",

    "This is applicable for bool , float and str also. But not applicable for complex types\n",

    "\"\"\"\n",

    "a = 10\n",

    "b = 10\n",

    "c = 10\n",

    "\n",

    "#below all the variables will print the same object id\n",

    "\n",

    "print(id(a))\n",

    "print(id(b))\n",

    "print(id(c))"

   ]

  },

  {

   "cell_type": "code",

   "execution_count": 24,

   "metadata": {},

   "outputs": [

    {

     "name": "stdout",

     "output_type": "stream",

     "text": [

      "True\n"

     ]

    }

   ],

   "source": [

    "# we can also use \"is\" opereator for comparison \n",

    "print(a is b)"

   ]

  },

  {

   "cell_type": "code",

   "execution_count": 25,

   "metadata": {},

   "outputs": [

    {

     "name": "stdout",

     "output_type": "stream",

     "text": [

      "True\n"

     ]

    }

   ],

   "source": [

    "print(b is c)"

   ]

  },

  {

   "cell_type": "code",

   "execution_count": 27,

   "metadata": {},

   "outputs": [

    {

     "name": "stdout",

     "output_type": "stream",

     "text": [

      "2205519095664\n",

      "2205519095504\n"

     ]

    }

   ],

   "source": [

    "# object resuability not applicable for Complex types, we could observer 2 different \n",

    "aa = 10+20j\n",

    "bb = 10+20j\n",

    "print(id(aa))\n",

    "print(id(bb))"

   ]

  },

  {

   "cell_type": "code",

   "execution_count": 28,

   "metadata": {},

   "outputs": [],

   "source": [

    "### List data type is mutable object ##### All the changes wil be happening on the original object itself and it is a reference type"

   ]

  },

  {

   "cell_type": "code",

  "execution_count": 29,

   "metadata": {},

   "outputs": [

    {

     "name": "stdout",

     "output_type": "stream",

     "text": [

      "2205518282112\n",

      "2205518282112\n"

     ]

    }

   ],

   "source": [

    "l = [10, 20]\n",

    "print(id(l))\n",

    "l[1] = [30]\n",

    "print(id(l))\n",

    "# we could observe there is no change in the adddress of the list object"

   ]

  },

  {

   "cell_type": "code",

   "execution_count": 31,

   "metadata": {},

   "outputs": [

    {

     "name": "stdout",

     "output_type": "stream",

     "text": [

      "[10, 20, 30]\n",

      "[10, 20, 30]\n",

      "[7777, 20, 30]\n",

      "[7777, 20, 30]\n"

     ]

    }

   ],

   "source": [

    "# if 2 list references are pointing to the same object, a change will reflect for both the list referecnces\n",

    "l1 = [10, 20, 30]\n",

    "l2 = l1 # pointing to the same object\n",

    "print(l1)\n",

    "print(l2)\n",

    "#changing in l1\n",

    "l1[0] = 7777\n",

    "#will be reflected to l2 a well\n",

    "print(l1)\n",

    "print(l2)"

   ]

  },

  {

   "cell_type": "code",

   "execution_count": 32,

   "metadata": {},

   "outputs": [

    {

     "data": {

      "text/plain": [

       "'\\nlist\\ntuple\\nset\\nfrozen set\\ndict\\nrange\\nbytes\\nbytearray\\n'"

      ]

     },

     "execution_count": 32,

     "metadata": {},

     "output_type": "execute_result"

    }

   ],

   "source": [

    "############# COllection Related Data Types #################\n",

    "\"\"\"\n",

    "list []\n",

    "tuple ()\n",

    "set {}\n",

    "frozen set\n",

    "dict {key:value}\n",

    "range\n",

    "bytes\n",

    "bytearray\n",

    "\"\"\""

   ]

  },

  {

   "cell_type": "code",

   "execution_count": 33,

   "metadata": {},

   "outputs": [],

   "source": [

    "####### List Type ##########\n",

    "# Duplicates are allowed and order will be preserved\n",

    "# Heterogeneous objects are allowed"

   ]

  },

  {

   "cell_type": "code",

   "execution_count": 34,

   "metadata": {},

   "outputs": [

    {

     "name": "stdout",

     "output_type": "stream",

     "text": [

      "<class 'list'>\n"

     ]

    }

   ],

   "source": [

    "l = [10, 'dhinesh', 10, 20]\n",

    "print(type(l))"

   ]

  },

  {

   "cell_type": "code",

   "execution_count": 35,

   "metadata": {},

   "outputs": [

    {

     "data": {

      "text/plain": [

       "['dhinesh', 10, 20]"

      ]

     },

     "execution_count": 35,

     "metadata": {},

     "output_type": "execute_result"

    }

   ],

   "source": [

    "#slicing\n",

    "l[1:4]"

   ]

  },

  {

   "cell_type": "code",

   "execution_count": 38,

   "metadata": {},

   "outputs": [

    {

     "name": "stdout",

     "output_type": "stream",

     "text": [

      "[10, 20, 30]\n",

      "[10, 30]\n"

     ]

    }

   ],

   "source": [

    "#appdend() method to add an element\n",

    "l1=[]\n",

    "l1.append(10)\n",

    "l1.append(20)\n",

    "l1.append(30)\n",

    "print(l1)\n",

    "l1.remove(20)\n",

    "print(l1)"

   ]

  },

  {

   "cell_type": "code",

   "execution_count": null,

   "metadata": {},

   "outputs": [],

   "source": [

    "########## Tuple Type ############\n",

    "# Tuple is immutable. Used for read only areas\n",

    "# orders will be preserved and heterogenous objects allowed\n",

    "# slicing and indexing allowed"

   ]

  },

  {

   "cell_type": "code",

   "execution_count": 39,

   "metadata": {},

   "outputs": [

    {

     "name": "stdout",

     "output_type": "stream",

     "text": [

      "<class 'tuple'>\n"

     ]

    }

   ],

   "source": [

    "t = (10, 20, 30, 'dhinesh')\n",

    "print(type(t))"

   ]

  },

  {

   "cell_type": "code",

   "execution_count": 40,

   "metadata": {},

   "outputs": [

    {

     "data": {

      "text/plain": [

       "(20, 30)"

      ]

     },

     "execution_count": 40,

     "metadata": {},

     "output_type": "execute_result"

    }

   ],

   "source": [

    "t[1:3]"

   ]

  },

  {

   "cell_type": "code",

   "execution_count": 41,

   "metadata": {},

   "outputs": [

    {

     "data": {

      "text/plain": [

       "30"

      ]

     },

     "execution_count": 41,

     "metadata": {},

     "output_type": "execute_result"

    }

   ],

   "source": [

    "t[2]"

   ]

  },

  {

   "cell_type": "code",

   "execution_count": 42,

   "metadata": {},

   "outputs": [

    {

     "ename": "TypeError",

     "evalue": "'tuple' object does not support item assignment",

     "output_type": "error",

     "traceback": [

      "\u001b[1;31m---------------------------------------------------------------------------\u001b[0m",

      "\u001b[1;31mTypeError\u001b[0m                                 Traceback (most recent call last)",

      "\u001b[1;32m<ipython-input-42-d707ae1c8aab>\u001b[0m in \u001b[0;36m<module>\u001b[1;34m\u001b[0m\n\u001b[1;32m----> 1\u001b[1;33m \u001b[0mt\u001b[0m\u001b[1;33m[\u001b[0m\u001b[1;36m3\u001b[0m\u001b[1;33m]\u001b[0m \u001b[1;33m=\u001b[0m \u001b[1;34m'dhine'\u001b[0m\u001b[1;33m\u001b[0m\u001b[1;33m\u001b[0m\u001b[0m\n\u001b[0m",

      "\u001b[1;31mTypeError\u001b[0m: 'tuple' object does not support item assignment"

     ]

    }

   ],

   "source": [

    "t[3] = 'dhine'"

   ]

  },

  {

   "cell_type": "code",

   "execution_count": 46,

   "metadata": {},

   "outputs": [

    {

     "name": "stdout",

     "output_type": "stream",

     "text": [

      "<class 'int'>\n",

      "<class 'tuple'>\n"

     ]

    }

   ],

   "source": [

    "# tuple assignment with one element is a special case. We need to add a comma at the end\n",

    "t1 = (10) # this is not tuple, this will be a int\n",

    "print(type(t1)) \n",

    "t2 = (10 ,)\n",

    "print(type(t2))"

   ]

  },

  {

   "cell_type": "code",

   "execution_count": 47,

   "metadata": {},

   "outputs": [],

   "source": [

    "############## set type ####################\n",

    "# duplicates are not allowed, mutable\n",

    "# order will not be preserved\n",

    "# can not be indexed or sliced\n",

    "# heterogeneous objects allowed"

   ]

  },

  {

   "cell_type": "code",

   "execution_count": 50,

   "metadata": {},

   "outputs": [

    {

     "name": "stdout",

     "output_type": "stream",

     "text": [

      "<class 'set'>\n",

      "{'dhinesh', 40, 10, 20, 30}\n"

     ]

    }

   ],

   "source": [

    "s = {10, 20, 30, 40, 40, 30, \"dhinesh\"}\n",

    "print(type(s))\n",

    "print(s)"

   ]

  },

  {

   "cell_type": "code",

   "execution_count": 51,

   "metadata": {},

   "outputs": [

    {

     "ename": "TypeError",

     "evalue": "'set' object is not subscriptable",

     "output_type": "error",

     "traceback": [

      "\u001b[1;31m---------------------------------------------------------------------------\u001b[0m",

      "\u001b[1;31mTypeError\u001b[0m                                 Traceback (most recent call last)",

      "\u001b[1;32m<ipython-input-51-354d6d7fa2e4>\u001b[0m in \u001b[0;36m<module>\u001b[1;34m\u001b[0m\n\u001b[1;32m----> 1\u001b[1;33m \u001b[0ms\u001b[0m\u001b[1;33m[\u001b[0m\u001b[1;36m3\u001b[0m\u001b[1;33m]\u001b[0m\u001b[1;33m\u001b[0m\u001b[1;33m\u001b[0m\u001b[0m\n\u001b[0m",

      "\u001b[1;31mTypeError\u001b[0m: 'set' object is not subscriptable"

     ]

    }

   ],

   "source": [

    "s[3]"

   ]

  },

  {

   "cell_type": "code",

   "execution_count": 52,

   "metadata": {},

   "outputs": [

    {

     "name": "stdout",

     "output_type": "stream",

     "text": [

      "{'dhinesh', 40, 10, 80, 20, 30}\n",

      "{40, 10, 80, 20, 30}\n"

     ]

    }

   ],

   "source": [

    "s.add(80)\n",

    "print(s)\n",

    "s.remove('dhinesh')\n",

    "print(s)"

   ]

  },

  {

   "cell_type": "code",

   "execution_count": 55,

   "metadata": {},

   "outputs": [

    {

     "name": "stdout",

     "output_type": "stream",

     "text": [

      "<class 'dict'>\n",

      "<class 'set'>\n"

     ]

    }

   ],

   "source": [

    "# empty set will beecome a dictionary. So we have to be careful\n",

    "s1 = {}\n",

    "print(type(s1))\n",

    "# we need to use set() method to create empty set\n",

    "s2 = set()\n",

    "print(type(s2))"

   ]

  },

  {

   "cell_type": "code",

   "execution_count": 3,

   "metadata": {},

   "outputs": [

    {

     "name": "stdout",

     "output_type": "stream",

     "text": [

      "<class 'frozenset'>\n",

      "frozenset({1, 2, 3, 4})\n"

     ]

    }

   ],

   "source": [

    "########### Frozen Set Type ################  \n",

    "# It is an immutable set . forzenset() can be used to create\n",

    "# can not be modified\n",

    "# Duplicated are not allowed\n",

    "# order is nto preserved\n",

    "# indexing and slicing are not allowed\n",

    "s = {1,2,3,4,4}\n",

    "fs = frozenset(s)\n",

    "print(type(fs))\n",

    "print(fs)"

   ]

  },

  {

   "cell_type": "code",

   "execution_count": 5,

   "metadata": {},

   "outputs": [

    {

     "name": "stdout",

     "output_type": "stream",

     "text": [

      "<class 'dict'>\n",

      "{100: 'dhinesh', 200: 'kanu', 300: 'Bru'}\n"

     ]

    }

   ],

   "source": [

    "########## Dictionary Data Types ###########\n",

    "# key value combinations\n",

    "# order of the dictionary will be added based on hash values\n",

    "# duplicate keys are not allowed\n",

    "# heterogeneous objects are allowed for both keys and values\n",

    "# indexing and slicing are not allowed\n",

    "\n",

    "d = {100: \"dhinesh\", 200: \"kanu\", 300: \"Bru\"}\n",

    "print(type(d))\n",

    "print(d)"

   ]

  },

  {

   "cell_type": "code",

   "execution_count": 7,

   "metadata": {},

   "outputs": [

    {

     "name": "stdout",

     "output_type": "stream",

     "text": [

      "{100: 'dhinesh', 200: 'kanu', 300: 'Bru', 400: 'newvalue'}\n"

     ]

    }

   ],

   "source": [

    "# adding new value to the dictionary\n",

    "d[400] = \"newvalue\"\n",

    "print(d)"

   ]

  },

  {

   "cell_type": "code",

   "execution_count": 9,

   "metadata": {},

   "outputs": [

    {

     "data": {

      "text/plain": [

       "4"

      ]

     },

     "execution_count": 9,

     "metadata": {},

     "output_type": "execute_result"

    }

   ],

   "source": [

    "len(d)"

   ]

  },

  {

   "cell_type": "code",

   "execution_count": 10,

   "metadata": {},

   "outputs": [

    {

     "name": "stdout",

     "output_type": "stream",

     "text": [

      "<class 'range'>\n",

      "range(0, 10)\n"

     ]

    }

   ],

   "source": [

    "############# range() type ################\n",

    "# Range object is immutable \n",

    "\n",

    "r = range(10)\n",

    "print(type(r))\n",

    "print(r)"

   ]

  },

  {

   "cell_type": "code",

   "execution_count": 11,

   "metadata": {},

   "outputs": [

    {

     "name": "stdout",

     "output_type": "stream",

     "text": [

      "0\n",

      "1\n",

      "2\n",

      "3\n",

      "4\n",

      "5\n",

      "6\n",

      "7\n",

      "8\n",

      "9\n"

     ]

    }

   ],

   "source": [

    "for x in r:\n",

    "    print(x)"

   ]

  },

  {

   "cell_type": "code",

   "execution_count": 14,

   "metadata": {},

   "outputs": [

    {

     "name": "stdout",

     "output_type": "stream",

     "text": [

      "10\n",

      "11\n",

      "12\n",

      "13\n",

      "14\n",

      "15\n",

      "16\n",

      "17\n",

      "18\n",

      "19\n"

     ]

   }

   ],

   "source": [

    "# another format of range. Between 2 numbers\n",

    "r1 = range(10,20)\n",

    "for x in r1:\n",

    "    print(x)"

   ]

  },

  {

   "cell_type": "code",

   "execution_count": 15,

   "metadata": {},

   "outputs": [

    {

     "name": "stdout",

     "output_type": "stream",

     "text": [

      "1\n",

      "3\n",

      "5\n",

      "7\n",

      "9\n",

      "11\n",

      "13\n",

      "15\n",

      "17\n",

      "19\n"

     ]

    }

   ],

   "source": [

    "# another format of range. with increment / decrement\n",

    "r2 = range(1, 21, 2)\n",

    "for x in r2:\n",

    "    print(x)"

   ]

  },

  {

   "cell_type": "code",

   "execution_count": 16,

   "metadata": {},

   "outputs": [

    {

     "name": "stdout",

     "output_type": "stream",

     "text": [

      "20\n",

      "15\n",

      "10\n",

      "5\n"

     ]

    }

   ],

   "source": [

    "# reverse\n",

    "r3 = range(20,1,-5)\n",

    "for x in r3:\n",

    "    print(x)"

   ]

  },

  {

   "cell_type": "code",

   "execution_count": 17,

   "metadata": {},

   "outputs": [

    {

     "name": "stdout",

     "output_type": "stream",

     "text": [

      "12\n",

      "range(12, 16)\n"

     ]

    }

   ],

   "source": [

    "# indexing and slicing\n",

    "r4 = range(10, 21)\n",

    "\n",

    "print(r4[2])\n",

    "print(r4[2:6])"

   ]

  },

  {

   "cell_type": "code",

   "execution_count": 18,

   "metadata": {},

   "outputs": [

    {

     "ename": "TypeError",

     "evalue": "'range' object does not support item assignment",

     "output_type": "error",

     "traceback": [

      "\u001b[1;31m---------------------------------------------------------------------------\u001b[0m",

      "\u001b[1;31mTypeError\u001b[0m                                 Traceback (most recent call last)",

      "\u001b[1;32m<ipython-input-18-8367afb3c468>\u001b[0m in \u001b[0;36m<module>\u001b[1;34m\u001b[0m\n\u001b[0;32m      1\u001b[0m \u001b[1;31m# range is immutable\u001b[0m\u001b[1;33m\u001b[0m\u001b[1;33m\u001b[0m\u001b[1;33m\u001b[0m\u001b[0m\n\u001b[1;32m----> 2\u001b[1;33m \u001b[0mr4\u001b[0m\u001b[1;33m[\u001b[0m\u001b[1;36m2\u001b[0m\u001b[1;33m]\u001b[0m \u001b[1;33m=\u001b[0m \u001b[1;36m5\u001b[0m\u001b[1;33m\u001b[0m\u001b[1;33m\u001b[0m\u001b[0m\n\u001b[0m",

      "\u001b[1;31mTypeError\u001b[0m: 'range' object does not support item assignment"

     ]

    }

   ],

   "source": [

    "# range is immutable. We will get an error\n",

    "r4[2] = 5"

   ]

  },

  {

   "cell_type": "code",

   "execution_count": 19,

   "metadata": {},

   "outputs": [

    {

     "name": "stdout",

     "output_type": "stream",

     "text": [

      "<class 'bytes'>\n",

      "10\n",

      "20\n",

      "30\n",

      "40\n"

     ]

    }

   ],

   "source": [

    "############### bytes data type ##################\n",

    "# we need to use bytes() function\n",

    "# This can be used for binary data such as video streaming and etc.\n",

    "# values can only be from 0 to 255\n",

    "# bytes data type is immutable\n",

    "l = [10, 20, 30, 40]\n",

    "b = bytes(l)\n",

    "print(type(b))\n",

    "for x in b:\n",

    "    print(x)"

   ]

  },

  {

   "cell_type": "code",

   "execution_count": 20,

   "metadata": {},

   "outputs": [

    {

     "ename": "ValueError",

     "evalue": "bytes must be in range(0, 256)",

     "output_type": "error",

     "traceback": [

      "\u001b[1;31m---------------------------------------------------------------------------\u001b[0m",

      "\u001b[1;31mValueError\u001b[0m                                Traceback (most recent call last)",

      "\u001b[1;32m<ipython-input-20-81a0408f0c50>\u001b[0m in \u001b[0;36m<module>\u001b[1;34m\u001b[0m\n\u001b[0;32m      1\u001b[0m \u001b[1;31m# only allowed values are from 0 to 255\u001b[0m\u001b[1;33m\u001b[0m\u001b[1;33m\u001b[0m\u001b[1;33m\u001b[0m\u001b[0m\n\u001b[0;32m      2\u001b[0m \u001b[0ml1\u001b[0m \u001b[1;33m=\u001b[0m \u001b[1;33m[\u001b[0m\u001b[1;36m10\u001b[0m\u001b[1;33m,\u001b[0m \u001b[1;36m20\u001b[0m\u001b[1;33m,\u001b[0m \u001b[1;36m30\u001b[0m\u001b[1;33m,\u001b[0m \u001b[1;36m40\u001b[0m\u001b[1;33m,\u001b[0m \u001b[1;36m256\u001b[0m\u001b[1;33m]\u001b[0m\u001b[1;33m\u001b[0m\u001b[1;33m\u001b[0m\u001b[0m\n\u001b[1;32m----> 3\u001b[1;33m \u001b[0mb\u001b[0m \u001b[1;33m=\u001b[0m \u001b[0mbytes\u001b[0m\u001b[1;33m(\u001b[0m\u001b[0ml1\u001b[0m\u001b[1;33m)\u001b[0m\u001b[1;33m\u001b[0m\u001b[1;33m\u001b[0m\u001b[0m\n\u001b[0m",

      "\u001b[1;31mValueError\u001b[0m: bytes must be in range(0, 256)"

     ]

    }

   ],

   "source": [

    "# only allowed values are from 0 to 255\n",

    "l1 = [10, 20, 30, 40, 256]\n",

    "b = bytes(l1)"

   ]

  },

  {

   "cell_type": "code",

   "execution_count": 21,

   "metadata": {},

   "outputs": [

    {

     "ename": "TypeError",

     "evalue": "'bytes' object does not support item assignment",

     "output_type": "error",

     "traceback": [

      "\u001b[1;31m---------------------------------------------------------------------------\u001b[0m",

      "\u001b[1;31mTypeError\u001b[0m                                 Traceback (most recent call last)",

      "\u001b[1;32m<ipython-input-21-79dd6f5a7a4f>\u001b[0m in \u001b[0;36m<module>\u001b[1;34m\u001b[0m\n\u001b[0;32m      1\u001b[0m \u001b[1;31m# bytes data type is immutable\u001b[0m\u001b[1;33m\u001b[0m\u001b[1;33m\u001b[0m\u001b[1;33m\u001b[0m\u001b[0m\n\u001b[1;32m----> 2\u001b[1;33m \u001b[0mb\u001b[0m\u001b[1;33m[\u001b[0m\u001b[1;36m0\u001b[0m\u001b[1;33m]\u001b[0m \u001b[1;33m=\u001b[0m \u001b[1;36m4\u001b[0m\u001b[1;33m\u001b[0m\u001b[1;33m\u001b[0m\u001b[0m\n\u001b[0m",

      "\u001b[1;31mTypeError\u001b[0m: 'bytes' object does not support item assignment"

     ]

    }

   ],

   "source": [

    "# bytes data type is immutable\n",

    "b[0] = 4"

   ]

  },

  {

   "cell_type": "code",

   "execution_count": 30,

   "metadata": {},

   "outputs": [

    {

     "name": "stdout",

     "output_type": "stream",

     "text": [

      "bytearray(b'\\n\\x14\\x1e(')\n",

      "<class 'bytearray'>\n"

     ]

    }

   ],

   "source": [

    "################# bytearray data type ###################\n",

    "# bytearray() function can be used\n",

    "# value should be between 0 and 255\n",

    "# byte array is mutable and value can be changed\n",

    "l = [10, 20, 30, 40]\n",

    "b2 = bytearray(l)\n",

    "print(b2)\n",

    "print(type(b2))"

   ]

  },

  {

   "cell_type": "code",

   "execution_count": 31,

   "metadata": {},

   "outputs": [

    {

     "name": "stdout",

     "output_type": "stream",

     "text": [

      "10\n",

      "20\n",

      "30\n",

      "40\n"

     ]

    }

   ],

   "source": [

    "for x in b2:\n",

    "    print(x)"

   ]

  },

  {

   "cell_type": "code",

   "execution_count": 32,

   "metadata": {},

   "outputs": [

    {

     "name": "stdout",

     "output_type": "stream",

     "text": [

      "50\n",

      "20\n",

      "30\n",

      "40\n"

     ]

    }

   ],

   "source": [

    "b2[0] = 50\n",

    "for x in b2:\n",

    "    print(x)"

   ]

  },

  {

   "cell_type": "code",

   "execution_count": 34,

   "metadata": {},

   "outputs": [

    {

     "name": "stdout",

     "output_type": "stream",

     "text": [

      "hello\n",

      "None\n"

     ]

    }

   ],

   "source": [

    "##################### None Type #########################\n",

    "# it means nothing. Similar to null in javascript\n",

    "# if no external return is there, all the functions in python will return None internaly\n",

    "def function():\n",

    "    print(\"hello\")\n",

    "\n",

    "print(function())"

   ]

  },

  {

   "cell_type": "code",

   "execution_count": 35,

   "metadata": {},

   "outputs": [

    {

     "data": {

      "text/plain": [

       "NoneType"

      ]

     },

     "execution_count": 35,

     "metadata": {},

     "output_type": "execute_result"

    }

   ],

   "source": [

    "type(None)"

   ]

  },

  {

   "cell_type": "code",

   "execution_count": 36,

   "metadata": {},

   "outputs": [

    {

     "name": "stdout",

     "output_type": "stream",

     "text": [

      "140705239681152\n"

     ]

    }

   ],

   "source": [

    "a = None\n",

    "print(id(a))"

   ]

  },

  {

   "cell_type": "code",

   "execution_count": 38,

   "metadata": {},

   "outputs": [

    {

     "name": "stdout",

     "output_type": "stream",

     "text": [

      "140705239681152\n",

      "140705239681152\n"

     ]

    }

   ],

   "source": [

    "# all the None objects will point to only one None object in PVM\n",

    "# Oberve both a and b are pointing to the same address\n",

    "a = None\n",

    "b = None\n",

    "print(id(a))\n",

    "print(id(b))"

   ]

  },

  {

   "cell_type": "code",

   "execution_count": null,

   "metadata": {},

   "outputs": [],

   "source": [

    "################ Escape Characters ########################\n",

    "\"\"\"\n",

    "\\n new line\n",

    "\\t horizontal tab\n",

    "\\r carriage return\n",

    "\\b backspace\n",

    "\\f form feed\n",

    "\\' single quote\n",

    "\\\" double quote\n",

    "\\\\ back slash\n",

    "\"\"\""

   ]

  },

  {

   "cell_type": "code",

   "execution_count": 39,

   "metadata": {},

   "outputs": [

    {

     "name": "stdout",

     "output_type": "stream",

     "text": [

      "Dhinesbabu\n"

     ]

    }

   ],

   "source": [

    "print(\"Dhinesh\\bbabu\")"

   ]

  },

  {

   "cell_type": "code",

   "execution_count": 40,

   "metadata": {},

   "outputs": [

    {

     "name": "stdout",

     "output_type": "stream",

     "text": [

      "Dhinesh\tbabu\n"

     ]

    }

   ],

   "source": [

    "print(\"Dhinesh\\tbabu\")"

   ]

  },

  {

   "cell_type": "code",

   "execution_count": 41,

   "metadata": {},

   "outputs": [],

   "source": [

    "############## Constants in python ################\n",

    "# By convention all the characters should be in upper case in python \n",

    "# but there is no contant concept in python like final in java\n",

    "# below is a development convention\n",

    "MAX_LENGTH = 10 # this will be considered as constants"

   ]

  },

  {

   "cell_type": "code",

   "execution_count": 1,

   "metadata": {},

   "outputs": [

    {

     "name": "stdout",

     "output_type": "stream",

     "text": "Hello  dhinesh\nHello  kanu\n"

    }

   ],

   "source": [

    "names = ['dhinesh', 'kanu']\n",

    "\n",

    "for i in names:\n",

    "    print(\"Hello \", i)"

   ]

  },

  {

   "cell_type": "code",

   "execution_count": null,

   "metadata": {},

   "outputs": [],

   "source": []

  }

],

"metadata": {

  "kernelspec": {

   "display_name": "Python 3.8.1 64-bit",

   "language": "python",

   "name": "python38164bit5ba943521a674eb786c2b16c08b73d82"

  },

  "language_info": {

   "codemirror_mode": {

    "name": "ipython",

    "version": 3

   },

   "file_extension": ".py",

   "mimetype": "text/x-python",

   "name": "python",

   "nbconvert_exporter": "python",

   "pygments_lexer": "ipython3",

   "version": "3.8.1-final"

  }

},

"nbformat": 4,

"nbformat_minor": 4

}