{
 "nbformat": 4,
 "nbformat_minor": 2,
 "metadata": {
  "language_info": {
   "name": "python",
   "codemirror_mode": {
    "name": "ipython",
    "version": 3
   },
   "version": "3.6.9-final"
  },
  "orig_nbformat": 2,
  "file_extension": ".py",
  "mimetype": "text/x-python",
  "name": "python",
  "npconvert_exporter": "python",
  "pygments_lexer": "ipython3",
  "version": 3,
  "kernelspec": {
   "name": "python36964bit03c1c1cb19cd4cb28bc7f205768c28f6",
   "display_name": "Python 3.6.9 64-bit"
  }
 },
 "cells": [
  {
   "cell_type": "markdown",
   "metadata": {},
   "source": [
    "***\n",
    "### Regular Expressions\n",
    "* re module is used for regular expressions in python\n",
    "***"
   ]
  },
  {
   "cell_type": "markdown",
   "metadata": {},
   "source": [
    "### compile() function \n",
    "    * to return SRE object for search pattern\n",
    "### finditer() function \n",
    "    * Returns an iterator object to check for the matches\n",
    "### start() function \n",
    "    * Returns start index of the match\n",
    "### end() function \n",
    "    * Returns end+1 index of the match\n",
    "### group() function \n",
    "    * Returns matched string"
   ]
  },
  {
   "cell_type": "code",
   "execution_count": 2,
   "metadata": {},
   "outputs": [
    {
     "name": "stdout",
     "output_type": "stream",
     "text": "<class '_sre.SRE_Pattern'>\n<class 'callable_iterator'>\n"
    }
   ],
   "source": [
    "import re\n",
    "pattern = re.compile('Python')\n",
    "print(type(pattern))\n",
    "matcher = pattern.finditer(\"Learning Python is very easy\")\n",
    "print(type(matcher))"
   ]
  },
  {
   "cell_type": "code",
   "execution_count": 5,
   "metadata": {},
   "outputs": [
    {
     "name": "stdout",
     "output_type": "stream",
     "text": "Match is available at:  0\nMatch is available at:  3\nMatch is available at:  5\nTotal number of occurrences:  3\n"
    }
   ],
   "source": [
    "# demo program\n",
    "import re\n",
    "pattern = re.compile('ab')\n",
    "matcher = pattern.finditer('abaababa')\n",
    "count = 0\n",
    "for match in matcher:\n",
    "    count += 1\n",
    "    print('Match is available at: ', match.start())\n",
    "\n",
    "print('Total number of occurrences: ', count)\n"
   ]
  },
  {
   "cell_type": "code",
   "execution_count": 1,
   "metadata": {},
   "outputs": [
    {
     "name": "stdout",
     "output_type": "stream",
     "text": "Match is available at:  1\nMatch is available at:  7\nMatch is available at:  9\nTotal number of matches:  3\n"
    }
   ],
   "source": [
    "import re\n",
    "pattern = re.compile('ab')\n",
    "matcher = pattern.finditer('aabbadbabab')\n",
    "count = 0\n",
    "for match in matcher:\n",
    "    count += 1\n",
    "    print(\"Match is available at: \", match.start())\n",
    "\n",
    "print(\"Total number of matches: \", count)"
   ]
  },
  {
   "cell_type": "code",
   "execution_count": 7,
   "metadata": {},
   "outputs": [
    {
     "name": "stdout",
     "output_type": "stream",
     "text": "start 0, end 2, group: ab\nstart 3, end 5, group: ab\nstart 5, end 7, group: ab\nTotal number of occurrences:  3\n"
    }
   ],
   "source": [
    "# Demo program 2 - for start(), end() and group() functions - using together\n",
    "# demo program\n",
    "import re\n",
    "pattern = re.compile('ab')\n",
    "matcher = pattern.finditer('abaababa')\n",
    "count = 0\n",
    "for match in matcher:\n",
    "    count += 1\n",
    "    print('start {}, end {}, group: {}'.format(match.start(), match.end(), match.group()))\n",
    "\n",
    "print('Total number of occurrences: ', count)"
   ]
  },
  {
   "cell_type": "markdown",
   "metadata": {},
   "source": [
    "***\n",
    "### Character classes\n",
    "    * [abc] ==> either a or b or c\n",
    "    * [^abc] ==> except a and b and c\n",
    "    * [a-z] ==> Any lower case alphabet symbols\n",
    "    * [A-Z] ==> Any upper case alphabet symbols\n",
    "    * [a-zA-Z] ==> Any alphabet \n",
    "    * [0-9] => Numeric digits\n",
    "    * [a-zA-Z0-9] ==> Any alphanumeric \n",
    "    * [^a-zA-Z0-9] ==> Except alphanumeric\n",
    "    \n",
    "***"
   ]
  },
  {
   "cell_type": "code",
   "execution_count": 8,
   "metadata": {},
   "outputs": [
    {
     "name": "stdout",
     "output_type": "stream",
     "text": "0 .... a\n2 .... b\n"
    }
   ],
   "source": [
    "import re\n",
    "matcher = re.finditer('[abc]', 'a7b@k9z')\n",
    "for m in matcher:\n",
    "    print(m.start(), \"....\", m.group())"
   ]
  },
  {
   "cell_type": "code",
   "execution_count": 10,
   "metadata": {},
   "outputs": [
    {
     "name": "stdout",
     "output_type": "stream",
     "text": "1 .... 7\n3 .... @\n4 .... k\n5 .... 9\n6 .... z\n"
    }
   ],
   "source": [
    "# searching except a,b,c\n",
    "import re\n",
    "matcher = re.finditer('[^abc]', 'a7b@k9z')\n",
    "for m in matcher:\n",
    "    print(m.start(), \"....\", m.group())"
   ]
  },
  {
   "cell_type": "code",
   "execution_count": 11,
   "metadata": {},
   "outputs": [
    {
     "name": "stdout",
     "output_type": "stream",
     "text": "1 .... 7\n5 .... 9\n"
    }
   ],
   "source": [
    "# searching for numbers\n",
    "import re\n",
    "matcher = re.finditer('[0-9]', 'a7b@k9z')\n",
    "for m in matcher:\n",
    "    print(m.start(), \"....\", m.group())"
   ]
  },
  {
   "cell_type": "code",
   "execution_count": 13,
   "metadata": {},
   "outputs": [
    {
     "name": "stdout",
     "output_type": "stream",
     "text": "0 .... a\n1 .... 7\n2 .... b\n4 .... k\n5 .... 9\n6 .... z\n"
    }
   ],
   "source": [
    "# searching for alphanumeric\n",
    "import re\n",
    "matcher = re.finditer('[a-zA-Z0-9]', 'a7b@k9z')\n",
    "for m in matcher:\n",
    "    print(m.start(), \"....\", m.group())"
   ]
  },
  {
   "cell_type": "code",
   "execution_count": 14,
   "metadata": {},
   "outputs": [
    {
     "name": "stdout",
     "output_type": "stream",
     "text": "3 .... @\n"
    }
   ],
   "source": [
    "# searching for symbols (except alphanumeric)\n",
    "import re\n",
    "matcher = re.finditer('[^a-zA-Z0-9]', 'a7b@k9z')\n",
    "for m in matcher:\n",
    "    print(m.start(), \"....\", m.group())"
   ]
  },
  {
   "cell_type": "markdown",
   "metadata": {},
   "source": [
    "***\n",
    "### Predefined characeter classes\n",
    "     \\s => space characeter\n",
    "     \\S => Except space characeter\n",
    "     \\d => digits\n",
    "     \\D => Except digits\n",
    "     \\w => any alpha numeric word\n",
    "     \\W => Anything except alpha numeric word\n",
    "     . => Anything (every character)\n",
    "***"
   ]
  },
  {
   "cell_type": "code",
   "execution_count": 15,
   "metadata": {},
   "outputs": [
    {
     "name": "stdout",
     "output_type": "stream",
     "text": "6 ....  \n"
    }
   ],
   "source": [
    "# using predefined characeter classes\n",
    "\n",
    "import re\n",
    "matcher = re.finditer('\\s', 'search space')\n",
    "for m in matcher:\n",
    "    print(m.start(), \"....\", m.group())"
   ]
  },
  {
   "cell_type": "code",
   "execution_count": 17,
   "metadata": {},
   "outputs": [
    {
     "name": "stdout",
     "output_type": "stream",
     "text": "0 .... k\n1 .... a\n2 .... n\n3 .... u\n5 .... h\n6 .... a\n7 .... s\n8 .... i\n9 .... n\n10 .... i\n"
    }
   ],
   "source": [
    "# search for words\n",
    "\n",
    "import re\n",
    "matcher = re.finditer('\\w', 'kanu hasini') # sppace will not be included since it is not word character in RE\n",
    "for m in matcher:\n",
    "    print(m.start(), \"....\", m.group())"
   ]
  },
  {
   "cell_type": "markdown",
   "metadata": {},
   "source": [
    "***\n",
    "### Quantifers\n",
    "     a => exactly one a\n",
    "     a+ => Atleast one a\n",
    "     a* => any number of a (including 0)\n",
    "     a? => Atmost one a (0 or 1)\n",
    "     a{n} => Exactly n number of a's\n",
    "     a{m, n} => Minimum m and Maximum n number of a's\n",
    "***"
   ]
  },
  {
   "cell_type": "code",
   "execution_count": 18,
   "metadata": {},
   "outputs": [
    {
     "name": "stdout",
     "output_type": "stream",
     "text": "0 .... a\n2 .... a\n3 .... a\n5 .... a\n6 .... a\n7 .... a\n"
    }
   ],
   "source": [
    "import re\n",
    "matcher = re.finditer('a', 'abaabaaab') \n",
    "for m in matcher:\n",
    "    print(m.start(), \"....\", m.group())"
   ]
  },
  {
   "cell_type": "code",
   "execution_count": 20,
   "metadata": {},
   "outputs": [
    {
     "name": "stdout",
     "output_type": "stream",
     "text": "0 .... a\n2 .... aa\n5 .... aaa\n"
    }
   ],
   "source": [
    "import re\n",
    "matcher = re.finditer('a+', 'abaabaaab') \n",
    "for m in matcher:\n",
    "    print(m.start(), \"....\", m.group())"
   ]
  },
  {
   "cell_type": "code",
   "execution_count": 21,
   "metadata": {},
   "outputs": [
    {
     "name": "stdout",
     "output_type": "stream",
     "text": "0 .... a\n1 .... \n2 .... aa\n4 .... \n5 .... aaa\n8 .... \n9 .... \n"
    }
   ],
   "source": [
    "import re\n",
    "matcher = re.finditer('a*', 'abaabaaab') # 9th index is for the empty end of string\n",
    "for m in matcher:\n",
    "    print(m.start(), \"....\", m.group())"
   ]
  },
  {
   "cell_type": "code",
   "execution_count": 22,
   "metadata": {},
   "outputs": [
    {
     "name": "stdout",
     "output_type": "stream",
     "text": "0 .... a\n1 .... \n2 .... a\n3 .... a\n4 .... \n5 .... a\n6 .... a\n7 .... a\n8 .... \n9 .... \n"
    }
   ],
   "source": [
    "import re\n",
    "matcher = re.finditer('a?', 'abaabaaab') # 9th index is for the empty end of string\n",
    "for m in matcher:\n",
    "    print(m.start(), \"....\", m.group())"
   ]
  },
  {
   "cell_type": "code",
   "execution_count": 23,
   "metadata": {},
   "outputs": [
    {
     "name": "stdout",
     "output_type": "stream",
     "text": "2 .... aa\n5 .... aa\n"
    }
   ],
   "source": [
    "import re\n",
    "matcher = re.finditer('a{2}', 'abaabaaab') # 9th index is for the empty end of string\n",
    "for m in matcher:\n",
    "    print(m.start(), \"....\", m.group())"
   ]
  },
  {
   "cell_type": "code",
   "execution_count": 25,
   "metadata": {},
   "outputs": [
    {
     "name": "stdout",
     "output_type": "stream",
     "text": "0 .... a\n2 .... a\n3 .... a\n5 .... a\n6 .... a\n7 .... a\n"
    }
   ],
   "source": [
    "# Demo to check starts with and ends with ( ^ and $ symbols are used)\n",
    "import re\n",
    "matcher = re.finditer('[a$]', 'abaabaaab') \n",
    "for m in matcher:\n",
    "    print(m.start(), \"....\", m.group())"
   ]
  },
  {
   "cell_type": "markdown",
   "metadata": {},
   "source": [
    "***\n",
    "### Other important functions of re module\n",
    "    match() - To check the given pattern at beginning of the target string. If then returns Match object otherwise None\n",
    "    fullmatch()\n",
    "    search()\n",
    "    findall()\n",
    "    finditer()\n",
    "    sub()\n",
    "    subn()\n",
    "    split()\n",
    "    compile()\n",
    "***"
   ]
  },
  {
   "cell_type": "code",
   "execution_count": 37,
   "metadata": {},
   "outputs": [
    {
     "name": "stdout",
     "output_type": "stream",
     "text": "Match is available at the beginning of the string\nStart index: 0 and End Index: 2\n"
    }
   ],
   "source": [
    "# match() => To check the given pattern at beginning of the target string. If then returns Match object otherwise None\n",
    "import re\n",
    "s = input(\"Enter pattern to check: \")\n",
    "m = re.match(s, \"abcdefgh\")\n",
    "\n",
    "if m != None:\n",
    "    print('Match is available at the beginning of the string')\n",
    "    print('Start index: {} and End Index: {}'.format(m.start(), m.end()))\n",
    "else:\n",
    "    print('Match is not available at the beginning of the string')\n"
   ]
  },
  {
   "cell_type": "code",
   "execution_count": 39,
   "metadata": {},
   "outputs": [
    {
     "name": "stdout",
     "output_type": "stream",
     "text": "Full string match found\n"
    }
   ],
   "source": [
    "# fullmatch() => To check the for the complete string match else None\n",
    "import re\n",
    "s = input(\"Enter pattern to check: \")\n",
    "m1 = re.fullmatch(s, 'abcd')\n",
    "\n",
    "if m1 != None:\n",
    "    print('Full string match found')\n",
    "else:\n",
    "    print('Full string match not found')"
   ]
  },
  {
   "cell_type": "code",
   "execution_count": 41,
   "metadata": {},
   "outputs": [
    {
     "name": "stdout",
     "output_type": "stream",
     "text": "Match is available\nFirst occurrence start index: 0 and end index: 2\n"
    }
   ],
   "source": [
    "# search() => to searh the given pattern in the target string, ig available returns Match object of first occurrnce\n",
    "import re\n",
    "s = input(\"Enter pattern to check: \")\n",
    "m1 = re.search(s, 'abaabaaab')\n",
    "\n",
    "if m1 != None:\n",
    "    print('Match is available')\n",
    "    print(\"First occurrence start index: {} and end index: {}\".format(m.start(), m.end()))\n",
    "else:\n",
    "    print('Match is not available')"
   ]
  },
  {
   "cell_type": "code",
   "execution_count": 43,
   "metadata": {},
   "outputs": [
    {
     "name": "stdout",
     "output_type": "stream",
     "text": "['7', '7', '5', '9']\n"
    }
   ],
   "source": [
    "# findall() => to find all occurrneces and returns the match objects into a llist\n",
    "import re\n",
    "m = re.findall('[0-9]', 'a7hd7ad5dad9')\n",
    "print(m)"
   ]
  },
  {
   "cell_type": "code",
   "execution_count": 44,
   "metadata": {},
   "outputs": [
    {
     "name": "stdout",
     "output_type": "stream",
     "text": "#j#jh#lhjh##h#\n"
    }
   ],
   "source": [
    "# sub() => substitution or replacement\n",
    "# => re.sub(regex, replacement, targetstring)\n",
    "import re\n",
    "s = re.sub('\\d', '#', '3j3jh6lhjh67h7') # replace all digits with #\n",
    "print(s)"
   ]
  },
  {
   "cell_type": "code",
   "execution_count": 45,
   "metadata": {},
   "outputs": [
    {
     "name": "stdout",
     "output_type": "stream",
     "text": "('#j#jh#lhjh##h#', 6)\nThe result string, #j#jh#lhjh##h#\nThe number of replacements  6\n"
    }
   ],
   "source": [
    "# subn() => also gives how many replacements happened. This will return  a tuple of (result string, no of replacements)\n",
    "import re\n",
    "t = re.subn('\\d', '#', '3j3jh6lhjh67h7')\n",
    "print(t)\n",
    "print('The result string,',t[0])\n",
    "print('The number of replacements ', t[1])"
   ]
  },
  {
   "cell_type": "code",
   "execution_count": 46,
   "metadata": {},
   "outputs": [
    {
     "name": "stdout",
     "output_type": "stream",
     "text": "['10', '20', '30', '40', '50']\n"
    }
   ],
   "source": [
    "# split() => to split imput based on the given string. THis will return a list\n",
    "import re\n",
    "l = re.split('-', '10-20-30-40-50')\n",
    "print(l)"
   ]
  },
  {
   "cell_type": "code",
   "execution_count": 49,
   "metadata": {},
   "outputs": [
    {
     "name": "stdout",
     "output_type": "stream",
     "text": "['', '', '', '', '', '', '', '', '', '', '', '', '', '', '', '']\n"
    }
   ],
   "source": [
    "# special case - using . symbol for split() method\n",
    "import re\n",
    "l = re.split('.', 'www.dhinesh.com')\n",
    "print(l)"
   ]
  },
  {
   "cell_type": "code",
   "execution_count": 50,
   "metadata": {},
   "outputs": [
    {
     "name": "stdout",
     "output_type": "stream",
     "text": "['www', 'dhinesh', 'com']\n"
    }
   ],
   "source": [
    "# we need to use \\. if we want to use . as splitter or we can use '[.]'\n",
    "import re\n",
    "l = re.split('\\.', 'www.dhinesh.com')\n",
    "print(l)"
   ]
  },
  {
   "cell_type": "code",
   "execution_count": 51,
   "metadata": {},
   "outputs": [
    {
     "name": "stdout",
     "output_type": "stream",
     "text": "Target string starts with Learn\n"
    }
   ],
   "source": [
    "# ^ symbol and $ symbol\n",
    "import re\n",
    "m = re.search('^Learn', \"Learning python\") # ^ symbol check whether it starts with the given string or not\n",
    "if m != None:\n",
    "    print(\"Target string starts with Learn\")\n",
    "else:\n",
    "    print('It is not starting with Learn')"
   ]
  },
  {
   "cell_type": "code",
   "execution_count": 53,
   "metadata": {},
   "outputs": [
    {
     "name": "stdout",
     "output_type": "stream",
     "text": "Target string ends with python\n"
    }
   ],
   "source": [
    "# ^ symbol and $ symbol\n",
    "import re\n",
    "m = re.search('Python$', \"Learning Python\") # $ symbol check whether it ends  with the given string or not\n",
    "if m != None:\n",
    "    print(\"Target string ends with python\")\n",
    "else:\n",
    "    print('It is not ending with Python')"
   ]
  },
  {
   "cell_type": "code",
   "execution_count": 55,
   "metadata": {},
   "outputs": [
    {
     "name": "stdout",
     "output_type": "stream",
     "text": "Target string starts with Learn\n"
    }
   ],
   "source": [
    "# ignoring case\n",
    "# ^ symbol and $ symbol\n",
    "import re\n",
    "m = re.search('^Learn', \"learning python\", re.IGNORECASE) # ^ symbol check whether it starts with ^ or not\n",
    "if m != No ne:\n",
    "    print(\"Target string starts with Learn\")\n",
    "else:\n",
    "    print('It is not starting with Learn')"
   ]
  },
  {
   "cell_type": "code",
   "execution_count": 59,
   "metadata": {},
   "outputs": [
    {
     "name": "stdout",
     "output_type": "stream",
     "text": "Valid identifier\n"
    }
   ],
   "source": [
    "# Demo Program - Identify all the Yava language identifiers\n",
    "\"\"\"\n",
    "1. The allowed chracters are: alphabets, digits and #\n",
    "2. First characeter should be lowercase alphabet symbol ( a to k )\n",
    "3. The second character should be any digit divisibe by 3\n",
    "4. The length of identifier should be atleast 2\n",
    "\"\"\"\n",
    "\n",
    "import re\n",
    "s = input(\"Enter identifier to validate: \")\n",
    "m = re.fullmatch('[a-k][0369][a-zA-Z0-9#]*',s )\n",
    "if m != None:\n",
    "    print('Valid identifier')\n",
    "else:\n",
    "    print(\"Not a valid identifier\")\n"
   ]
  },
  {
   "cell_type": "code",
   "execution_count": 61,
   "metadata": {},
   "outputs": [
    {
     "name": "stdout",
     "output_type": "stream",
     "text": "Invalid mobile number\n"
    }
   ],
   "source": [
    "# Demo program - to match 10 digits mobile number\n",
    "import re\n",
    "\n",
    "s = input('Enter a mobile number')\n",
    "m = re.fullmatch('[6-9]\\d{9}',s)\n",
    "if m != None:\n",
    "    print( \"valid mobile number\")\n",
    "else:\n",
    "    print(\"Invalid mobile number\")"
   ]
  },
  {
   "cell_type": "markdown",
   "metadata": {},
   "source": [
    "***\n",
    "### Web scraping with regular expressions\n",
    "***"
   ]
  },
  {
   "cell_type": "code",
   "execution_count": 1,
   "metadata": {},
   "outputs": [
    {
     "name": "stdout",
     "output_type": "stream",
     "text": "Searching... http://google.com\nGoogle\nSearching... http://rediff.com\nRediff.com: News | Rediffmail | Stock Quotes | Shopping\n"
    }
   ],
   "source": [
    "import re, urllib\n",
    "import urllib.request\n",
    "\n",
    "sites = ['http://google.com', 'http://rediff.com']\n",
    "\n",
    "for site in sites:\n",
    "    print('Searching...', site)\n",
    "    u = urllib.request.urlopen(site)\n",
    "    text = u.read()\n",
    "    title = re.findall(\"<title>(.*)</title>\", str(text), re.IGNORECASE)\n",
    "    print(title[0])"
   ]
  },
  {
   "cell_type": "code",
   "execution_count": null,
   "metadata": {},
   "outputs": [],
   "source": []
  },
  {
   "cell_type": "code",
   "execution_count": 79,
   "metadata": {},
   "outputs": [
    {
     "name": "stdout",
     "output_type": "stream",
     "text": "Program started to get the numbers\n+919945600000\n+919945600000\n+919945600000\n+919945600000\n+919945600000\n+919945600000\n+919945600000\nProgram Ended\n"
    }
   ],
   "source": [
    "# Demo program to get the phone numbers from redbus\n",
    "\n",
    "import re, urllib\n",
    "import urllib.request\n",
    "\n",
    "print('Program started to get the numbers')\n",
    "\n",
    "u = urllib.request.urlopen(\"https://www.redbus.in/info/contactus\")\n",
    "text = u.read()\n",
    "#numbers = re.findall('[0-9-]{7}[0-9-]+', str(text), re.I)\n",
    "numbers = re.findall('\\+91\\d+', str(text))\n",
    "for number in numbers:\n",
    "    print(number)\n",
    "\n",
    "pin_codes = \n",
    "\n",
    "print(\"Program Ended\")\n"
   ]
  },
  {
   "cell_type": "code",
   "execution_count": 81,
   "metadata": {},
   "outputs": [
    {
     "name": "stdout",
     "output_type": "stream",
     "text": "fhinr0_@gmail.com\nValid Mail ID\n"
    }
   ],
   "source": [
    "# Demo - Checking email id is a valid gmail id or not\n",
    "import re\n",
    "s = input('Enter Email ID: ')\n",
    "m = re.fullmatch('\\w[a-zA-Z0-9_.]*@gmail.com', s)\n",
    "if m!= None:\n",
    "    print(m.group())\n",
    "    print('Valid Mail ID')\n",
    "else:\n",
    "    print(m.group())\n",
    "    print('Invalid Mail ID')"
   ]
  },
  {
   "cell_type": "code",
   "execution_count": null,
   "metadata": {},
   "outputs": [],
   "source": []
  },
  {
   "cell_type": "code",
   "execution_count": null,
   "metadata": {},
   "outputs": [],
   "source": []
  },
  {
   "cell_type": "code",
   "execution_count": null,
   "metadata": {},
   "outputs": [],
   "source": []
  },
  {
   "cell_type": "code",
   "execution_count": null,
   "metadata": {},
   "outputs": [],
   "source": []
  },
  {
   "cell_type": "code",
   "execution_count": null,
   "metadata": {},
   "outputs": [],
   "source": []
  },
  {
   "cell_type": "code",
   "execution_count": null,
   "metadata": {},
   "outputs": [],
   "source": []
  },
  {
   "cell_type": "code",
   "execution_count": null,
   "metadata": {},
   "outputs": [],
   "source": []
  },
  {
   "cell_type": "code",
   "execution_count": null,
   "metadata": {},
   "outputs": [],
   "source": []
  },
  {
   "cell_type": "code",
   "execution_count": null,
   "metadata": {},
   "outputs": [],
   "source": []
  },
  {
   "cell_type": "code",
   "execution_count": null,
   "metadata": {},
   "outputs": [],
   "source": []
  },
  {
   "cell_type": "code",
   "execution_count": null,
   "metadata": {},
   "outputs": [],
   "source": []
  },
  {
   "cell_type": "code",
   "execution_count": null,
   "metadata": {},
   "outputs": [],
   "source": []
  },
  {
   "cell_type": "code",
   "execution_count": null,
   "metadata": {},
   "outputs": [],
   "source": []
  }
 ]
}