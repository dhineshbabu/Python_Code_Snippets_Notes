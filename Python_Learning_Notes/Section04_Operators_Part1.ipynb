{
   "cells": [
      {
         "cell_type": "markdown",
         "metadata": {},
         "source": [
            "***\n",
            "## Arithmetic Operators ##############\n",
            "\n",
            "* \"+\" \"-\" \"*\" \"/\" \"%\" Basic operators\n",
            "* // - Floor Division Operator\n",
            "* ** - Exponential operator\n",
            "***"
         ]
      },
      {
         "cell_type": "code",
         "execution_count": 2,
         "metadata": {},
         "outputs": [
            {
               "name": "stdout",
               "output_type": "stream",
               "text": [
                  "1\n",
                  "3\n"
               ]
            }
         ],
         "source": [
            "a=10\n",
            "b=3\n",
            "print(a%b)\n",
            "print(b%a)"
         ]
      },
      {
         "cell_type": "code",
         "execution_count": 3,
         "metadata": {},
         "outputs": [
            {
               "name": "stdout",
               "output_type": "stream",
               "text": [
                  "5.0\n"
               ]
            }
         ],
         "source": [
            "# division will always return float result\n",
            "print(10/2)"
         ]
      },
      {
         "cell_type": "code",
         "execution_count": 5,
         "metadata": {},
         "outputs": [
            {
               "name": "stdout",
               "output_type": "stream",
               "text": [
                  "5\n",
                  "5.0\n"
               ]
            }
         ],
         "source": [
            "# floor division operator is for both integral and float based on the arguments\n",
            "# if both arguments are int then flor division will give int only\n",
            "# Also it will consider only floor value\n",
            "print(10//2) # 5\n",
            "# if either of the arguments is float then floor division will give float value\n",
            "print(10.0//2) # 5.0"
         ]
      },
      {
         "cell_type": "code",
         "execution_count": 6,
         "metadata": {},
         "outputs": [
            {
               "name": "stdout",
               "output_type": "stream",
               "text": [
                  "100\n"
               ]
            }
         ],
         "source": [
            "# ** - power or exponential operator\n",
            "print(10**2) # 10*10"
         ]
      },
      {
         "cell_type": "code",
         "execution_count": 7,
         "metadata": {},
         "outputs": [
            {
               "name": "stdout",
               "output_type": "stream",
               "text": [
                  "1000\n"
               ]
            }
         ],
         "source": [
            "print(10**3) # 10*10*10"
         ]
      },
      {
         "cell_type": "code",
         "execution_count": 12,
         "metadata": {},
         "outputs": [
            {
               "name": "stdout",
               "output_type": "stream",
               "text": [
                  "30\n",
                  "dhineshbabu\n"
               ]
            }
         ],
         "source": [
            "# + operator\n",
            "# we can apply '+' to both numbers and string\n",
            "# both should be either strings or numbers\n",
            "print(10+20)\n",
            "print('dhinesh'+'babu')"
         ]
      },
      {
         "cell_type": "code",
         "execution_count": 13,
         "metadata": {},
         "outputs": [
            {
               "ename": "TypeError",
               "evalue": "unsupported operand type(s) for +: 'int' and 'str'",
               "output_type": "error",
               "traceback": [
                  "\u001b[1;31m---------------------------------------------------------------------------\u001b[0m",
                  "\u001b[1;31mTypeError\u001b[0m                                 Traceback (most recent call last)",
                  "\u001b[1;32m<ipython-input-13-a0c398246532>\u001b[0m in \u001b[0;36m<module>\u001b[1;34m\u001b[0m\n\u001b[0;32m      1\u001b[0m \u001b[1;31m# if we try to add string with numbers directly, we will get TypeError\u001b[0m\u001b[1;33m\u001b[0m\u001b[1;33m\u001b[0m\u001b[1;33m\u001b[0m\u001b[0m\n\u001b[1;32m----> 2\u001b[1;33m \u001b[0mprint\u001b[0m\u001b[1;33m(\u001b[0m\u001b[1;36m10\u001b[0m\u001b[1;33m+\u001b[0m\u001b[1;34m'string'\u001b[0m\u001b[1;33m)\u001b[0m\u001b[1;33m\u001b[0m\u001b[1;33m\u001b[0m\u001b[0m\n\u001b[0m",
                  "\u001b[1;31mTypeError\u001b[0m: unsupported operand type(s) for +: 'int' and 'str'"
               ]
            }
         ],
         "source": [
            "# if we try to add string with numbers directly, we will get TypeError\n",
            "print(10+'string')"
         ]
      },
      {
         "cell_type": "code",
         "execution_count": 14,
         "metadata": {},
         "outputs": [
            {
               "name": "stdout",
               "output_type": "stream",
               "text": [
                  "dhinesh10\n"
               ]
            }
         ],
         "source": [
            "# we can convert the number before + operation\n",
            "print('dhinesh'+str(10))"
         ]
      },
      {
         "cell_type": "code",
         "execution_count": 16,
         "metadata": {},
         "outputs": [
            {
               "name": "stdout",
               "output_type": "stream",
               "text": [
                  "dhineshdhineshdhineshdhineshdhineshdhinesh\n"
               ]
            }
         ],
         "source": [
            "# * operator can be used with int for string objects to repeat the string\n",
            "print(\"dhinesh\"*6) # order can be anything. (6 * 'dhinesh') will also work"
         ]
      },
      {
         "cell_type": "code",
         "execution_count": 17,
         "metadata": {},
         "outputs": [
            {
               "ename": "TypeError",
               "evalue": "can't multiply sequence by non-int of type 'str'",
               "output_type": "error",
               "traceback": [
                  "\u001b[1;31m---------------------------------------------------------------------------\u001b[0m",
                  "\u001b[1;31mTypeError\u001b[0m                                 Traceback (most recent call last)",
                  "\u001b[1;32m<ipython-input-17-9c874482bb6a>\u001b[0m in \u001b[0;36m<module>\u001b[1;34m\u001b[0m\n\u001b[0;32m      1\u001b[0m \u001b[1;31m# we can not multiple 2 strings\u001b[0m\u001b[1;33m\u001b[0m\u001b[1;33m\u001b[0m\u001b[1;33m\u001b[0m\u001b[0m\n\u001b[1;32m----> 2\u001b[1;33m \u001b[0mprint\u001b[0m\u001b[1;33m(\u001b[0m\u001b[1;34m\"dhinesh\"\u001b[0m\u001b[1;33m*\u001b[0m\u001b[1;34m\"babu\"\u001b[0m\u001b[1;33m)\u001b[0m\u001b[1;33m\u001b[0m\u001b[1;33m\u001b[0m\u001b[0m\n\u001b[0m",
                  "\u001b[1;31mTypeError\u001b[0m: can't multiply sequence by non-int of type 'str'"
               ]
            }
         ],
         "source": [
            "# we can not multiple 2 strings\n",
            "print(\"dhinesh\"*\"babu\")"
         ]
      },
      {
         "cell_type": "code",
         "execution_count": 19,
         "metadata": {},
         "outputs": [
            {
               "ename": "ZeroDivisionError",
               "evalue": "integer division or modulo by zero",
               "output_type": "error",
               "traceback": [
                  "\u001b[1;31m---------------------------------------------------------------------------\u001b[0m",
                  "\u001b[1;31mZeroDivisionError\u001b[0m                         Traceback (most recent call last)",
                  "\u001b[1;32m<ipython-input-19-370d4ba209e8>\u001b[0m in \u001b[0;36m<module>\u001b[1;34m\u001b[0m\n\u001b[0;32m      1\u001b[0m \u001b[1;31m# apply the value 0 for any operator such as / % // will give zero division error\u001b[0m\u001b[1;33m\u001b[0m\u001b[1;33m\u001b[0m\u001b[1;33m\u001b[0m\u001b[0m\n\u001b[1;32m----> 2\u001b[1;33m \u001b[0mprint\u001b[0m\u001b[1;33m(\u001b[0m\u001b[1;36m10\u001b[0m\u001b[1;33m//\u001b[0m\u001b[1;36m0\u001b[0m\u001b[1;33m)\u001b[0m\u001b[1;33m\u001b[0m\u001b[1;33m\u001b[0m\u001b[0m\n\u001b[0m",
                  "\u001b[1;31mZeroDivisionError\u001b[0m: integer division or modulo by zero"
               ]
            }
         ],
         "source": [
            "# apply the value 0 for any operator such as / % // will give zero division error\n",
            "print(10//0)"
         ]
      },
      {
         "cell_type": "code",
         "execution_count": 22,
         "metadata": {},
         "outputs": [
            {
               "ename": "ZeroDivisionError",
               "evalue": "integer division or modulo by zero",
               "output_type": "error",
               "traceback": [
                  "\u001b[1;31m---------------------------------------------------------------------------\u001b[0m",
                  "\u001b[1;31mZeroDivisionError\u001b[0m                         Traceback (most recent call last)",
                  "\u001b[1;32m<ipython-input-22-ccfa89b7b50f>\u001b[0m in \u001b[0;36m<module>\u001b[1;34m\u001b[0m\n\u001b[1;32m----> 1\u001b[1;33m \u001b[0mprint\u001b[0m\u001b[1;33m(\u001b[0m\u001b[1;36m10\u001b[0m\u001b[1;33m%\u001b[0m\u001b[1;36m0\u001b[0m\u001b[1;33m)\u001b[0m\u001b[1;33m\u001b[0m\u001b[1;33m\u001b[0m\u001b[0m\n\u001b[0m",
                  "\u001b[1;31mZeroDivisionError\u001b[0m: integer division or modulo by zero"
               ]
            }
         ],
         "source": [
            "print(10%0)"
         ]
      },
      {
         "cell_type": "code",
         "execution_count": 23,
         "metadata": {},
         "outputs": [
            {
               "name": "stdout",
               "output_type": "stream",
               "text": [
                  "dhinesh\n"
               ]
            }
         ],
         "source": [
            "# multiplying string with boolean\n",
            "print(\"dhinesh\"*True)"
         ]
      },
      {
         "cell_type": "code",
         "execution_count": 25,
         "metadata": {},
         "outputs": [
            {
               "name": "stdout",
               "output_type": "stream",
               "text": [
                  "\n"
               ]
            }
         ],
         "source": [
            "print(\"DHinesh\"*False) # will give empty string"
         ]
      },
      {
         "cell_type": "markdown",
         "metadata": {},
         "source": [
            "***\n",
            "## Relational Operators \n",
            "***"
         ]
      },
      {
         "cell_type": "code",
         "execution_count": 27,
         "metadata": {},
         "outputs": [
            {
               "name": "stdout",
               "output_type": "stream",
               "text": [
                  "False\n"
               ]
            }
         ],
         "source": [
            "# For characters / string , this will compare the unicode values\n",
            "print('A' > 'a')"
         ]
      },
      {
         "cell_type": "code",
         "execution_count": 28,
         "metadata": {},
         "outputs": [
            {
               "name": "stdout",
               "output_type": "stream",
               "text": [
                  "97\n",
                  "65\n"
               ]
            }
         ],
         "source": [
            "print(ord('a'))\n",
            "print(ord('A'))"
         ]
      },
      {
         "cell_type": "code",
         "execution_count": 29,
         "metadata": {},
         "outputs": [
            {
               "name": "stdout",
               "output_type": "stream",
               "text": [
                  "False\n",
                  "True\n",
                  "False\n",
                  "True\n"
               ]
            }
         ],
         "source": [
            "# string comparison. it will compare from starting character\n",
            "s1 = \"dhinesh\"\n",
            "s2 = \"babu\"\n",
            "print(s1 < s2)\n",
            "print(s1 > s2)\n",
            "print(s1 <= s2)\n",
            "print(s1 >= s2)"
         ]
      },
      {
         "cell_type": "code",
         "execution_count": 30,
         "metadata": {},
         "outputs": [
            {
               "name": "stdout",
               "output_type": "stream",
               "text": [
                  "False\n",
                  "False\n",
                  "True\n",
                  "True\n"
               ]
            }
         ],
         "source": [
            "#comparing equal strings\n",
            "s1 = \"dhinesh\"\n",
            "s2 = \"dhinesh\"\n",
            "print(s1 < s2)\n",
            "print(s1 > s2)\n",
            "print(s1 <= s2)\n",
            "print(s1 >= s2)"
         ]
      },
      {
         "cell_type": "code",
         "execution_count": 32,
         "metadata": {},
         "outputs": [
            {
               "name": "stdout",
               "output_type": "stream",
               "text": [
                  "True\n",
                  "False\n"
               ]
            }
         ],
         "source": [
            "# small and capital letter\n",
            "s1 = 'dhinesh'\n",
            "s2 = \"Dhinesh\"\n",
            "print(s1 > s2)\n",
            "print(s1 < s2)"
         ]
      },
      {
         "cell_type": "code",
         "execution_count": 33,
         "metadata": {},
         "outputs": [
            {
               "name": "stdout",
               "output_type": "stream",
               "text": [
                  "True\n",
                  "True\n",
                  "False\n",
                  "False\n"
               ]
            }
         ],
         "source": [
            "# Relational operators for Booleans. Corresponding int value will be compared\n",
            "print(True > False)\n",
            "print(True >= False)\n",
            "print(True < False)\n",
            "print(True <= False)"
         ]
      },
      {
         "cell_type": "code",
         "execution_count": 34,
         "metadata": {},
         "outputs": [
            {
               "ename": "TypeError",
               "evalue": "'<' not supported between instances of 'int' and 'str'",
               "output_type": "error",
               "traceback": [
                  "\u001b[1;31m---------------------------------------------------------------------------\u001b[0m",
                  "\u001b[1;31mTypeError\u001b[0m                                 Traceback (most recent call last)",
                  "\u001b[1;32m<ipython-input-34-04a0d9116883>\u001b[0m in \u001b[0;36m<module>\u001b[1;34m\u001b[0m\n\u001b[0;32m      1\u001b[0m \u001b[1;31m#can not compare number and string. Type Error\u001b[0m\u001b[1;33m\u001b[0m\u001b[1;33m\u001b[0m\u001b[1;33m\u001b[0m\u001b[0m\n\u001b[1;32m----> 2\u001b[1;33m \u001b[0mprint\u001b[0m\u001b[1;33m(\u001b[0m\u001b[1;36m10\u001b[0m \u001b[1;33m<\u001b[0m \u001b[1;34m\"dhinesh\"\u001b[0m\u001b[1;33m)\u001b[0m\u001b[1;33m\u001b[0m\u001b[1;33m\u001b[0m\u001b[0m\n\u001b[0m",
                  "\u001b[1;31mTypeError\u001b[0m: '<' not supported between instances of 'int' and 'str'"
               ]
            }
         ],
         "source": [
            "#can not compare number and string. Type Error\n",
            "print(10 < \"dhinesh\")"
         ]
      },
      {
         "cell_type": "code",
         "execution_count": 35,
         "metadata": {},
         "outputs": [
            {
               "name": "stdout",
               "output_type": "stream",
               "text": [
                  "True\n",
                  "True\n",
                  "True\n",
                  "False\n"
               ]
            }
         ],
         "source": [
            "# using more than one comparison - Relational operator chaining\n",
            "# if all comaprison returns True, then the result is True\n",
            "# if any comparison return False, then the result is False\n",
            "print(10<20)\n",
            "print(10<20<30)\n",
            "print(10<20<30<40)\n",
            "print(10<20<30<40>50)"
         ]
      },
      {
         "cell_type": "markdown",
         "metadata": {},
         "source": [
            "***\n",
            "## Equality Operator\n",
            "* == and !=\n",
            "***"
         ]
      },
      {
         "cell_type": "code",
         "execution_count": 37,
         "metadata": {},
         "outputs": [
            {
               "name": "stdout",
               "output_type": "stream",
               "text": [
                  "False\n"
               ]
            }
         ],
         "source": [
            "print(10==20)"
         ]
      },
      {
         "cell_type": "code",
         "execution_count": 38,
         "metadata": {},
         "outputs": [
            {
               "name": "stdout",
               "output_type": "stream",
               "text": [
                  "True\n"
               ]
            }
         ],
         "source": [
            "print(10 != 20)"
         ]
      },
      {
         "cell_type": "code",
         "execution_count": 39,
         "metadata": {},
         "outputs": [
            {
               "name": "stdout",
               "output_type": "stream",
               "text": [
                  "True\n",
                  "True\n",
                  "True\n"
               ]
            }
         ],
         "source": [
            "# differnet combinations\n",
            "print(1 == True)\n",
            "print(10 == 10.0)\n",
            "print(\"dhinesh\" == 'dhinesh')"
         ]
      },
      {
         "cell_type": "code",
         "execution_count": 40,
         "metadata": {},
         "outputs": [
            {
               "name": "stdout",
               "output_type": "stream",
               "text": [
                  "False\n"
               ]
            }
         ],
         "source": [
            "# string and number comparison\n",
            "print(10 == \"durga\")"
         ]
      },
      {
         "cell_type": "code",
         "execution_count": 41,
         "metadata": {},
         "outputs": [
            {
               "name": "stdout",
               "output_type": "stream",
               "text": [
                  "False\n"
               ]
            }
         ],
         "source": [
            "print(10 == '10')"
         ]
      },
      {
         "cell_type": "code",
         "execution_count": 42,
         "metadata": {},
         "outputs": [
            {
               "name": "stdout",
               "output_type": "stream",
               "text": [
                  "False\n",
                  "True\n"
               ]
            }
         ],
         "source": [
            "# Chaining of equality operator\n",
            "# if all comaprison returns True, then the result is True\n",
            "# if any comparison return False, then the result is False\n",
            "print(10==20==30)\n",
            "print(10==10.0==10==10)"
         ]
      },
      {
         "cell_type": "code",
         "execution_count": 45,
         "metadata": {},
         "outputs": [
            {
               "name": "stdout",
               "output_type": "stream",
               "text": [
                  "False\n",
                  "True\n",
                  "True\n"
               ]
            }
         ],
         "source": [
            "# difference between == and 'is' operator\n",
            "# 'is' is for reference or address comparison\n",
            "# == is for content/value comparison\n",
            "l1 = [10, 20, 30]\n",
            "l2 = [10, 20, 30]\n",
            "l3 = l1 # now both pointing to the same object and 'is' comparison will pass through\n",
            "print(l1 is l2) # false. reference comparison\n",
            "print(l1 == l2) # True. Value comparison\n",
            "print(l1 is l3) # True"
         ]
      },
      {
         "cell_type": "code",
         "execution_count": 44,
         "metadata": {},
         "outputs": [
            {
               "name": "stdout",
               "output_type": "stream",
               "text": [
                  "140703411455936\n",
                  "140703411455936\n",
                  "True\n"
               ]
            }
         ],
         "source": [
            "# value types will do object reusability\n",
            "n1 = 10\n",
            "n2 = 10\n",
            "print(id(n1))\n",
            "print(id(n2))\n",
            "print(n1 is n2) # should return True since both the value types will use the same object"
         ]
      },
      {
         "cell_type": "markdown",
         "metadata": {},
         "source": [
            "***\n",
            "## Logical Operators \n",
            "* and or not\n",
            "* For Boolean types -> \n",
            "    * and operator -> returns True if both are True else False\n",
            "* For Boolean types -> \n",
            "    * or operator -> returns True if any of the arg is True else False\n",
            "***"
         ]
      },
      {
         "cell_type": "code",
         "execution_count": 48,
         "metadata": {},
         "outputs": [
            {
               "name": "stdout",
               "output_type": "stream",
               "text": [
                  "True\n",
                  "False\n"
               ]
            }
         ],
         "source": [
            "print(True and True)\n",
            "print(True and False)"
         ]
      },
      {
         "cell_type": "code",
         "execution_count": 49,
         "metadata": {},
         "outputs": [
            {
               "name": "stdout",
               "output_type": "stream",
               "text": [
                  "True\n",
                  "True\n",
                  "False\n"
               ]
            }
         ],
         "source": [
            "print(True or True)\n",
            "print(True or False)\n",
            "print(False or False)"
         ]
      },
      {
         "cell_type": "code",
         "execution_count": 50,
         "metadata": {},
         "outputs": [
            {
               "name": "stdout",
               "output_type": "stream",
               "text": [
                  "False\n",
                  "True\n"
               ]
            }
         ],
         "source": [
            "print(not True)\n",
            "print(not False)"
         ]
      },
      {
         "cell_type": "code",
         "execution_count": 53,
         "metadata": {},
         "outputs": [
            {
               "name": "stdout",
               "output_type": "stream",
               "text": [
                  "20\n",
                  "0\n"
               ]
            }
         ],
         "source": [
            "# Logical and operator for Non-boolean types\n",
            "# 1. x and y => result is x or y but not boolean type\n",
            "#  if x evaluates to False, then result is x\n",
            "#  if x evaluates to True, then result is y\n",
            "print(10 and 20) # since x  is evaluates to True so results is y taht is 20\n",
            "print(0 and 20) # since x  is evaluates to False so results is x taht is 0"
         ]
      },
      {
         "cell_type": "code",
         "execution_count": 1,
         "metadata": {},
         "outputs": [
            {
               "name": "stdout",
               "output_type": "stream",
               "text": "\n\n"
            }
         ],
         "source": [
            "print('kanu' and '') # empty string\n",
            "print('' and 'dhinesh') # empty string"
         ]
      },
      {
         "cell_type": "code",
         "execution_count": 56,
         "metadata": {},
         "outputs": [
            {
               "name": "stdout",
               "output_type": "stream",
               "text": [
                  "10\n",
                  "20\n"
               ]
            }
         ],
         "source": [
            "# Logical or operator for Non-boolean types\n",
            "# 1. x or y => result is x or y but not boolean type\n",
            "#  if x evaluates to False, then result is y\n",
            "#  if x evaluates to True, then result is x\n",
            "print(10 or 20) # since x  is evaluates to True so results is x taht is 10\n",
            "print(0 or 20) # since x  is evaluates to False so results is y taht is 20"
         ]
      },
      {
         "cell_type": "code",
         "execution_count": 2,
         "metadata": {},
         "outputs": [
            {
               "name": "stdout",
               "output_type": "stream",
               "text": "True\nFalse\nTrue\nTrue\nFalse\n"
            }
         ],
         "source": [
            "# Logical not operator for Non-boolean types\n",
            "# result is always boolean\n",
            "print(not [])\n",
            "print(not 'dhinesh')\n",
            "print(not 0)\n",
            "print(not \"\")\n",
            "print(not 10)"
         ]
      },
      {
         "cell_type": "markdown",
         "metadata": {},
         "source": [
            "***\n",
            "## Bitwise operators \n",
            "* & bitwise and\n",
            "* | bitwise OR\n",
            "* ^ bitwise XOR\n",
            "* ~ bitwise complement\n",
            "* \"<<\" bitwise left-shift\n",
            "* \">>\" bitwise right-shift\n",
            "\n",
            "* Bitwise oeprators can only be applied to int and bool types\n",
            "***"
         ]
      },
      {
         "cell_type": "code",
         "execution_count": 60,
         "metadata": {},
         "outputs": [
            {
               "name": "stdout",
               "output_type": "stream",
               "text": [
                  "0\n"
               ]
            },
            {
               "ename": "TypeError",
               "evalue": "unsupported operand type(s) for &: 'int' and 'float'",
               "output_type": "error",
               "traceback": [
                  "\u001b[1;31m---------------------------------------------------------------------------\u001b[0m",
                  "\u001b[1;31mTypeError\u001b[0m                                 Traceback (most recent call last)",
                  "\u001b[1;32m<ipython-input-60-cd3288c17035>\u001b[0m in \u001b[0;36m<module>\u001b[1;34m\u001b[0m\n\u001b[0;32m      1\u001b[0m \u001b[0mprint\u001b[0m\u001b[1;33m(\u001b[0m\u001b[1;36m10\u001b[0m \u001b[1;33m&\u001b[0m \u001b[1;36m20\u001b[0m\u001b[1;33m)\u001b[0m\u001b[1;33m\u001b[0m\u001b[1;33m\u001b[0m\u001b[0m\n\u001b[1;32m----> 2\u001b[1;33m \u001b[0mprint\u001b[0m\u001b[1;33m(\u001b[0m\u001b[1;36m10\u001b[0m \u001b[1;33m&\u001b[0m \u001b[1;36m20.0\u001b[0m\u001b[1;33m)\u001b[0m\u001b[1;33m\u001b[0m\u001b[1;33m\u001b[0m\u001b[0m\n\u001b[0m",
                  "\u001b[1;31mTypeError\u001b[0m: unsupported operand type(s) for &: 'int' and 'float'"
               ]
            }
         ],
         "source": [
            "print(10 & 20) # ok\n",
            "print(10 & 20.0) # not ok"
         ]
      },
      {
         "cell_type": "code",
         "execution_count": 61,
         "metadata": {},
         "outputs": [
            {
               "ename": "TypeError",
               "evalue": "unsupported operand type(s) for &: 'str' and 'str'",
               "output_type": "error",
               "traceback": [
                  "\u001b[1;31m---------------------------------------------------------------------------\u001b[0m",
                  "\u001b[1;31mTypeError\u001b[0m                                 Traceback (most recent call last)",
                  "\u001b[1;32m<ipython-input-61-43f3a1b556c0>\u001b[0m in \u001b[0;36m<module>\u001b[1;34m\u001b[0m\n\u001b[1;32m----> 1\u001b[1;33m \u001b[0mprint\u001b[0m\u001b[1;33m(\u001b[0m\u001b[1;34m'dhinesh'\u001b[0m \u001b[1;33m&\u001b[0m \u001b[1;34m'dhinesh'\u001b[0m\u001b[1;33m)\u001b[0m\u001b[1;33m\u001b[0m\u001b[1;33m\u001b[0m\u001b[0m\n\u001b[0m",
                  "\u001b[1;31mTypeError\u001b[0m: unsupported operand type(s) for &: 'str' and 'str'"
               ]
            }
         ],
         "source": [
            "print('dhinesh' & 'dhinesh')"
         ]
      },
      {
         "cell_type": "code",
         "execution_count": 3,
         "metadata": {},
         "outputs": [
            {
               "name": "stdout",
               "output_type": "stream",
               "text": "False\nFalse\nTrue\n"
            }
         ],
         "source": [
            "print(True & False)\n",
            "print(False & False)\n",
            "print(True & True)"
         ]
      },
      {
         "cell_type": "code",
         "execution_count": 62,
         "metadata": {},
         "outputs": [
            {
               "name": "stdout",
               "output_type": "stream",
               "text": [
                  "5\n"
               ]
            }
         ],
         "source": [
            "print(4|5)"
         ]
      },
      {
         "cell_type": "code",
         "execution_count": 63,
         "metadata": {},
         "outputs": [
            {
               "name": "stdout",
               "output_type": "stream",
               "text": [
                  "1\n"
               ]
            }
         ],
         "source": [
            "print(4^5)"
         ]
      },
      {
         "cell_type": "code",
         "execution_count": 64,
         "metadata": {},
         "outputs": [
            {
               "name": "stdout",
               "output_type": "stream",
               "text": [
                  "4\n"
               ]
            }
         ],
         "source": [
            "print(4&5)"
         ]
      },
      {
         "cell_type": "code",
         "execution_count": 65,
         "metadata": {},
         "outputs": [
            {
               "name": "stdout",
               "output_type": "stream",
               "text": [
                  "-5\n"
               ]
            }
         ],
         "source": [
            "# Bitwise complement operator -  it will invert all the bits ( means all the 32 bits in 32 bit system)\n",
            "# In the systems, the most signficant bit is a sign bit (0 for positive and 1 for negative)\n",
            "# +ve numbers are usually represented directly in the memory\n",
            "# -ve numbers are represented using 2's complement form in the memory ( 2's complement is ( 1's complement + 1))\n",
            "print(~4) # "
         ]
      },
      {
         "cell_type": "code",
         "execution_count": 66,
         "metadata": {},
         "outputs": [
            {
               "name": "stdout",
               "output_type": "stream",
               "text": [
                  "-6\n"
               ]
            }
         ],
         "source": [
            "# another example\n",
            "print(~5)"
         ]
      },
      {
         "cell_type": "code",
         "execution_count": 67,
         "metadata": {},
         "outputs": [
            {
               "name": "stdout",
               "output_type": "stream",
               "text": [
                  "3\n"
               ]
            }
         ],
         "source": [
            "#another example\n",
            "print(~ -4)"
         ]
      },
      {
         "cell_type": "code",
         "execution_count": null,
         "metadata": {},
         "outputs": [],
         "source": []
      }
   ],
   "metadata": {
      "kernelspec": {
         "display_name": "Python 3",
         "language": "python",
         "name": "python3"
      },
      "language_info": {
         "codemirror_mode": {
            "name": "ipython",
            "version": 3
         },
         "file_extension": ".py",
         "mimetype": "text/x-python",
         "name": "python",
         "nbconvert_exporter": "python",
         "pygments_lexer": "ipython3",
         "version": "3.6.9-final"
      }
   },
   "nbformat": 4,
   "nbformat_minor": 4
}