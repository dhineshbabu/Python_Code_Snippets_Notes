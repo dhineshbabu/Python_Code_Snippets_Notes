{
 "cells": [
  {
   "cell_type": "code",
   "execution_count": 1,
   "metadata": {},
   "outputs": [],
   "source": [
    "### Object Serialization ###"
   ]
  },
  {
   "cell_type": "code",
   "execution_count": null,
   "metadata": {},
   "outputs": [],
   "source": [
    "# Serialization - convert python object to another form (using json / yaml)\n",
    "# deserialization - convert from another form (using json / yaml) to python object\n",
    "# Serialization also called as Marshalling or pickling\n",
    "# DeSerialization also called as UnMarshalling or Unpickling"
   ]
  },
  {
   "cell_type": "code",
   "execution_count": null,
   "metadata": {},
   "outputs": [],
   "source": [
    "# pickle module\n",
    "# json module\n",
    "# pyaml module"
   ]
  },
  {
   "cell_type": "code",
   "execution_count": 2,
   "metadata": {},
   "outputs": [],
   "source": [
    "### Object Serialization using pickle module ###\n",
    "# dump() - for serialization\n",
    "# load() - for deserialization"
   ]
  },
  {
   "cell_type": "code",
   "execution_count": 5,
   "metadata": {},
   "outputs": [
    {
     "name": "stdout",
     "output_type": "stream",
     "text": [
      "ENO: 100, ENAME: Dhinesh, ESAL: 1000, EADDR: Mars\n"
     ]
    }
   ],
   "source": [
    "# Demo to pickle and unpickle an object using pickle module\n",
    "import pickle\n",
    "\n",
    "class Employee:\n",
    "    def __init__(self, eno, ename, esal, eaddr):\n",
    "        self.eno = eno\n",
    "        self.ename = ename\n",
    "        self.esal = esal\n",
    "        self.eaddr = eaddr\n",
    "        \n",
    "    def display(self):\n",
    "        print('ENO: {}, ENAME: {}, ESAL: {}, EADDR: {}'.format(self.eno, self.ename, self.esal, self.eaddr))\n",
    "\n",
    "e = Employee(100, \"Dhinesh\", 1000, \"Mars\")\n",
    "\n",
    "# serialization\n",
    "with open('emp1.ser', 'wb') as f:\n",
    "    pickle.dump(e,f) #serialization. .It will be in binary form and is not readable\n",
    "    \n",
    "# deserialization\n",
    "\n",
    "with open('emp1.ser', 'rb') as f:\n",
    "    newobj = pickle.load(f)\n",
    "    \n",
    "newobj.display()"
   ]
  },
  {
   "cell_type": "code",
   "execution_count": 6,
   "metadata": {},
   "outputs": [],
   "source": [
    "### Serializing multiple employee objects using pickle ###\n",
    "# refer pickling_mulitple_objects directory"
   ]
  },
  {
   "cell_type": "markdown",
   "metadata": {},
   "source": [
    "## Object serialization using json ## "
   ]
  },
  {
   "cell_type": "code",
   "execution_count": 7,
   "metadata": {},
   "outputs": [],
   "source": [
    "# using python json module\n",
    "# serialization (from python dict to json string): dumps() - to json string, dump() - to file \n",
    "# deserialization (from json string to python dict): loads() from json string, load() - from json file"
   ]
  },
  {
   "cell_type": "code",
   "execution_count": 14,
   "metadata": {},
   "outputs": [
    {
     "name": "stdout",
     "output_type": "stream",
     "text": [
      "{\n",
      "    \"age\": 20,\n",
      "    \"isgood\": null,\n",
      "    \"ismarried\": true,\n",
      "    \"name\": \"dhinesh\",\n",
      "    \"salary\": 1000.0\n",
      "}\n"
     ]
    }
   ],
   "source": [
    "# demo program for serialization to json string\n",
    "import json\n",
    "employee = {'name': 'dhinesh', 'age': 20, 'salary': 1000.0, 'ismarried': True, \"isgood\": None}\n",
    "json_string = json.dumps(employee, indent=4,sort_keys=True)\n",
    "print(json_string)"
   ]
  },
  {
   "cell_type": "code",
   "execution_count": 12,
   "metadata": {},
   "outputs": [],
   "source": [
    "# seralizing to a file\n",
    "import json\n",
    "employee = {'name': 'dhinesh', 'age': 20, 'salary': 1000.0, 'ismarried': True, \"isgood\": None}\n",
    "#json_string = json.dumps(employee, indent=4, sort_keys=True)\n",
    "with open('emp3.json', 'w') as f:\n",
    "       json.dump(employee,f)\n",
    "        \n",
    "print('Object is now written to the json file after serialization')"
   ]
  },
  {
   "cell_type": "code",
   "execution_count": 18,
   "metadata": {},
   "outputs": [
    {
     "name": "stdout",
     "output_type": "stream",
     "text": [
      "<class 'dict'>\n",
      "{'name': 'dhinesh', 'age': 20, 'salary': 1000.0, 'ismarried': True, 'isgood': None}\n",
      "Emp name:  dhinesh\n",
      "Emp age:  20\n",
      "Emp salary:  1000.0\n",
      "Emp Married:  True\n",
      "Emp is good:  None\n",
      "*********** Another Method ************\n",
      "name :  dhinesh\n",
      "age :  20\n",
      "salary :  1000.0\n",
      "ismarried :  True\n",
      "isgood :  None\n"
     ]
    }
   ],
   "source": [
    "# demo program for serialization from json string\n",
    "import json\n",
    "\n",
    "json_string = \"\"\"{\n",
    "    \"name\": \"dhinesh\",\n",
    "    \"age\": 20,\n",
    "    \"salary\": 1000.0,\n",
    "    \"ismarried\": true,\n",
    "    \"isgood\": null\n",
    "}\"\"\"\n",
    "\n",
    "employee = json.loads(json_string)\n",
    "print(type(employee))\n",
    "print(employee)\n",
    "print(\"Emp name: \", employee['name'])\n",
    "print(\"Emp age: \", employee['age'])\n",
    "print(\"Emp salary: \", employee['salary'])\n",
    "print(\"Emp Married: \", employee['ismarried'])\n",
    "print(\"Emp is good: \", employee['isgood'])\n",
    "\n",
    "# else we can use loop\n",
    "\n",
    "print('*********** Another Method ************')\n",
    "\n",
    "for k,v in employee.items():\n",
    "    print(k, \": \", v)"
   ]
  },
  {
   "cell_type": "code",
   "execution_count": 22,
   "metadata": {},
   "outputs": [
    {
     "name": "stdout",
     "output_type": "stream",
     "text": [
      "<class 'dict'>\n",
      "name :  dhinesh\n",
      "age :  20\n",
      "salary :  1000.0\n",
      "ismarried :  True\n",
      "isgood :  None\n"
     ]
    }
   ],
   "source": [
    "### deserialization from json file ###\n",
    "import json\n",
    "\n",
    "with open('emp3.json', 'r') as f:\n",
    "    employee = json.load(f)\n",
    "    \n",
    "print(type(employee))\n",
    "for k,v in employee.items():\n",
    "    print(k, \": \", v)"
   ]
  },
  {
   "cell_type": "markdown",
   "metadata": {},
   "source": [
    "## Communication with CoinDesk app to ger bitcoin price ##"
   ]
  },
  {
   "cell_type": "code",
   "execution_count": null,
   "metadata": {},
   "outputs": [],
   "source": [
    "## https://api.coindesk.com/v1/bpi/currentprice.json"
   ]
  },
  {
   "cell_type": "code",
   "execution_count": 23,
   "metadata": {},
   "outputs": [
    {
     "name": "stdout",
     "output_type": "stream",
     "text": [
      "<class 'dict'>\n",
      "{'time': {'updated': 'Feb 9, 2020 07:53:00 UTC', 'updatedISO': '2020-02-09T07:53:00+00:00', 'updateduk': 'Feb 9, 2020 at 07:53 GMT'}, 'disclaimer': 'This data was produced from the CoinDesk Bitcoin Price Index (USD). Non-USD currency data converted using hourly conversion rate from openexchangerates.org', 'chartName': 'Bitcoin', 'bpi': {'USD': {'code': 'USD', 'symbol': '&#36;', 'rate': '10,129.1150', 'description': 'United States Dollar', 'rate_float': 10129.115}, 'GBP': {'code': 'GBP', 'symbol': '&pound;', 'rate': '7,859.9501', 'description': 'British Pound Sterling', 'rate_float': 7859.9501}, 'EUR': {'code': 'EUR', 'symbol': '&euro;', 'rate': '9,253.4631', 'description': 'Euro', 'rate_float': 9253.4631}}}\n"
     ]
    }
   ],
   "source": [
    "import requests\n",
    "\n",
    "url = \"https://api.coindesk.com/v1/bpi/currentprice.json\"\n",
    "response  = requests.get(url)\n",
    "binfo = response.json()\n",
    "print(type(binfo))\n",
    "print(binfo)"
   ]
  },
  {
   "cell_type": "code",
   "execution_count": 30,
   "metadata": {},
   "outputs": [
    {
     "name": "stdout",
     "output_type": "stream",
     "text": [
      "Feb 9, 2020 07:55:00 UTC\n",
      "10,140.0233\n"
     ]
    }
   ],
   "source": [
    "import requests\n",
    "\n",
    "url = \"https://api.coindesk.com/v1/bpi/currentprice.json\"\n",
    "response  = requests.get(url)\n",
    "binfo = response.json()\n",
    "print(binfo['time']['updated'])\n",
    "print(binfo['bpi']['USD']['rate'])"
   ]
  },
  {
   "cell_type": "markdown",
   "metadata": {},
   "source": [
    "## Serialize and Deserialize custom objects ##"
   ]
  },
  {
   "cell_type": "code",
   "execution_count": 35,
   "metadata": {},
   "outputs": [
    {
     "name": "stdout",
     "output_type": "stream",
     "text": [
      "{'eno': 100, 'ename': 'Dhinesh', 'esal': 1000, 'eaddr': 'Mars'}\n",
      "{\n",
      "    \"eno\": 100,\n",
      "    \"ename\": \"Dhinesh\",\n",
      "    \"esal\": 1000,\n",
      "    \"eaddr\": \"Mars\"\n",
      "}\n",
      "Object serialized to emp4.json file\n"
     ]
    }
   ],
   "source": [
    "#example\n",
    "import json\n",
    "\n",
    "class Employee:\n",
    "    def __init__(self, eno, ename, esal, eaddr):\n",
    "        self.eno = eno\n",
    "        self.ename = ename\n",
    "        self.esal = esal\n",
    "        self.eaddr = eaddr\n",
    "        \n",
    "    def display(self):\n",
    "        print('ENO: {}, ENAME: {}, ESAL: {}, EADDR: {}'.format(self.eno, self.ename, self.esal, self.eaddr))\n",
    "\n",
    "e = Employee(100, \"Dhinesh\", 1000, \"Mars\")\n",
    "# Need to convert the object to dict type before json serialization\n",
    "#e_dict = {'eno':e.eno, 'ename': e.ename, 'esal': e.esal, 'eaddr': e.eaddr}\n",
    "#else we can use the below method\n",
    "e_dict = e.__dict__\n",
    "print(e_dict)\n",
    "#serializing to json string\n",
    "json_string = json.dumps(e_dict, indent=4)\n",
    "print(json_string)\n",
    "# serialization to json file\n",
    "with open('emp4.json', 'w') as f:\n",
    "    json.dump(e_dict, f, indent=4)\n",
    "\n",
    "print(\"Object serialized to emp4.json file\")"
   ]
  },
  {
   "cell_type": "code",
   "execution_count": 37,
   "metadata": {},
   "outputs": [
    {
     "name": "stdout",
     "output_type": "stream",
     "text": [
      "ENO: 100, ENAME: Dhinesh, ESAL: 1000, EADDR: Mars\n"
     ]
    }
   ],
   "source": [
    "# Deserialization of custom python objects\n",
    "\n",
    "# from json file\n",
    "with open('emp4.json', 'r') as f:\n",
    "    edict = json.load(f)\n",
    "\n",
    "e = Employee(edict['eno'], edict['ename'], edict['esal'], edict['eaddr'])\n",
    "e.display()"
   ]
  },
  {
   "cell_type": "code",
   "execution_count": 43,
   "metadata": {},
   "outputs": [
    {
     "name": "stdout",
     "output_type": "stream",
     "text": [
      "{\"eaddr\": \"Mars\", \"ename\": \"Dhinesh\", \"eno\": 100, \"esal\": 1000, \"ismarried\": true, \"py/object\": \"__main__.Employee\"}\n",
      "<class '__main__.Employee'>\n",
      "ENO: 100, ENAME: Dhinesh, ESAL: 1000, EADDR: Mars, Is Married: True\n",
      "*********** Desrialization from file ************\n",
      "ENO: 100, ENAME: Dhinesh, ESAL: 1000, EADDR: Mars, Is Married: True\n"
     ]
    }
   ],
   "source": [
    "### using jsonpickle module ### \n",
    "# json dump() or load() functions convert from or to only to dict types\n",
    "# we can use jsonpickle to direcly serialize custom objects to json conversion (by skipping dict conversion)\n",
    "# using encode() and decode() for serializattion and deserialization respectively\n",
    "\n",
    "import jsonpickle\n",
    "\n",
    "class Employee:\n",
    "    def __init__(self, eno, ename, esal, eaddr, ismarried):\n",
    "        self.eno = eno\n",
    "        self.ename = ename\n",
    "        self.esal = esal\n",
    "        self.eaddr = eaddr\n",
    "        self.ismarried = ismarried\n",
    "        \n",
    "    def display(self):\n",
    "        print('ENO: {}, ENAME: {}, ESAL: {}, EADDR: {}, Is Married: {}'.format(self.eno, self.ename, self.esal, self.eaddr, self.ismarried))\n",
    "\n",
    "e = Employee(100, \"Dhinesh\", 1000, \"Mars\", True)\n",
    "\n",
    "json_string = jsonpickle.encode(e)\n",
    "\n",
    "# serialization to a file\n",
    "with open('emp5.json', 'w') as f:\n",
    "    f.write(json_string)\n",
    "\n",
    "print(json_string)\n",
    "\n",
    "# deserialization from json string\n",
    "e2 = jsonpickle.decode(json_string)\n",
    "print(type(e2))\n",
    "e2.display()\n",
    "\n",
    "# deserialization from json file\n",
    "with open('emp5.json', 'r') as f:\n",
    "    json_string = f.readline()\n",
    "    \n",
    "e3 = jsonpickle.decode(json_string)\n",
    "print('*********** Desrialization from file ************')\n",
    "e3.display()"
   ]
  },
  {
   "cell_type": "markdown",
   "metadata": {},
   "source": [
    "## Serialization and Deserialization using YAML ###"
   ]
  },
  {
   "cell_type": "code",
   "execution_count": null,
   "metadata": {},
   "outputs": [],
   "source": [
    "# YAML is another alternative to json\n",
    "# lighter than json\n",
    "# need to use pyaml module\n",
    "# dump() -> to convert python dict to yaml string or yaml file\n",
    "# load() -> to conver yaml string or yaml file to python dict (load() is deprecated)\n",
    "# safeload() -> latest version of load"
   ]
  },
  {
   "cell_type": "code",
   "execution_count": 48,
   "metadata": {},
   "outputs": [
    {
     "name": "stdout",
     "output_type": "stream",
     "text": [
      "age: 20\n",
      "ismarried: true\n",
      "name: dhinesh\n",
      "salary: 1000.0\n",
      "\n",
      "********* Deserialization from yaml string ***********\n",
      "<class 'dict'>\n",
      "{'age': 20, 'ismarried': True, 'name': 'dhinesh', 'salary': 1000.0}\n",
      "age :  20\n",
      "ismarried :  True\n",
      "name :  dhinesh\n",
      "salary :  1000.0\n"
     ]
    }
   ],
   "source": [
    "from pyaml import yaml\n",
    "\n",
    "emp_dict = {\n",
    "    \"name\": \"dhinesh\",\n",
    "    \"age\": 20,\n",
    "    \"salary\": 1000.0,\n",
    "    \"ismarried\": True,\n",
    "}\n",
    "\n",
    "# serialization to yaml string\n",
    "yaml_string = yaml.dump(emp_dict)\n",
    "print(yaml_string)\n",
    "\n",
    "# deserialization from yaml string\n",
    "print('********* Deserialization from yaml string ***********')\n",
    "new_dict = yaml.safe_load(yaml_string)\n",
    "print(type(new_dict))\n",
    "print(new_dict)\n",
    "for k,v in new_dict.items():\n",
    "    print(k,\": \", v)"
   ]
  },
  {
   "cell_type": "code",
   "execution_count": null,
   "metadata": {},
   "outputs": [],
   "source": []
  },
  {
   "cell_type": "code",
   "execution_count": 50,
   "metadata": {},
   "outputs": [
    {
     "name": "stdout",
     "output_type": "stream",
     "text": [
      "Written to yaml file\n",
      "********* Deserialization from yaml file ***********\n",
      "<class 'dict'>\n",
      "{'age': 20, 'ismarried': True, 'name': 'dhinesh', 'salary': 1000.0}\n",
      "age :  20\n",
      "ismarried :  True\n",
      "name :  dhinesh\n",
      "salary :  1000.0\n"
     ]
    }
   ],
   "source": [
    "from pyaml import yaml\n",
    "\n",
    "emp_dict = {\n",
    "    \"name\": \"dhinesh\",\n",
    "    \"age\": 20,\n",
    "    \"salary\": 1000.0,\n",
    "    \"ismarried\": True,\n",
    "}\n",
    "\n",
    "# serialization to yaml file\n",
    "with open('emp6.yaml', 'w') as f:\n",
    "    yaml.dump(emp_dict, f)\n",
    "    \n",
    "print(\"Written to yaml file\")\n",
    "\n",
    "# deserialization from yaml string\n",
    "print('********* Deserialization from yaml file ***********')\n",
    "with open('emp6.yaml', 'r') as f:\n",
    "    new_dict = yaml.safe_load(f)\n",
    "print(type(new_dict))\n",
    "print(new_dict)\n",
    "for k,v in new_dict.items():\n",
    "    print(k,\": \", v)"
   ]
  },
  {
   "cell_type": "code",
   "execution_count": null,
   "metadata": {},
   "outputs": [],
   "source": []
  }
 ],
 "metadata": {
  "kernelspec": {
   "display_name": "Python 3",
   "language": "python",
   "name": "python3"
  },
  "language_info": {
   "codemirror_mode": {
    "name": "ipython",
    "version": 3
   },
   "file_extension": ".py",
   "mimetype": "text/x-python",
   "name": "python",
   "nbconvert_exporter": "python",
   "pygments_lexer": "ipython3",
   "version": "3.8.1"
  }
 },
 "nbformat": 4,
 "nbformat_minor": 4
}
