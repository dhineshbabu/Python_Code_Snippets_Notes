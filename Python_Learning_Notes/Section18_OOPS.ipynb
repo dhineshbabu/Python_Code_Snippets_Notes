{
 "cells": [
  {
   "cell_type": "markdown",
   "metadata": {},
   "source": [
    "***\n",
    "### Class -  Syntax ###\n",
    "***"
   ]
  },
  {
   "cell_type": "code",
   "execution_count": null,
   "metadata": {},
   "outputs": [],
   "source": [
    "# class syntax\n",
    "\"\"\"\n",
    "class classname:\n",
    "    \"\"\" Documentation String \"\"\"\n",
    "    variables (properties)\n",
    "    methods (behaviors)\n",
    "\"\"\""
   ]
  },
  {
   "cell_type": "code",
   "execution_count": 2,
   "metadata": {},
   "outputs": [
    {
     "name": "stdout",
     "output_type": "stream",
     "text": [
      "THis is docstring\n"
     ]
    }
   ],
   "source": [
    "# class Example\n",
    "class Student:\n",
    "    \"\"\"THis is docstring\"\"\"\n",
    "\n",
    "print(Student.__doc__)"
   ]
  },
  {
   "cell_type": "code",
   "execution_count": 4,
   "metadata": {},
   "outputs": [
    {
     "name": "stdout",
     "output_type": "stream",
     "text": [
      "Help on class Student in module __main__:\n",
      "\n",
      "class Student(builtins.object)\n",
      " |  THis is docstring\n",
      " |  \n",
      " |  Data descriptors defined here:\n",
      " |  \n",
      " |  __dict__\n",
      " |      dictionary for instance variables (if defined)\n",
      " |  \n",
      " |  __weakref__\n",
      " |      list of weak references to the object (if defined)\n",
      "\n"
     ]
    }
   ],
   "source": [
    "help(Student) #here also we can see doc string"
   ]
  },
  {
   "cell_type": "code",
   "execution_count": null,
   "metadata": {},
   "outputs": [],
   "source": [
    "### 3 types of variables are allowed inside python class###\n",
    "\"\"\"\n",
    "instance variables - object variables\n",
    "static variables - class level variables\n",
    "local variables - method level variables\n",
    "\"\"\""
   ]
  },
  {
   "cell_type": "code",
   "execution_count": null,
   "metadata": {},
   "outputs": [],
   "source": [
    "# 3 types of mnethods are allowed in python class ###\n",
    "\"\"\"\n",
    "instance methods\n",
    "class methods\n",
    "static methods\n",
    "\"\"\""
   ]
  },
  {
   "cell_type": "code",
   "execution_count": 8,
   "metadata": {},
   "outputs": [
    {
     "name": "stdout",
     "output_type": "stream",
     "text": [
      "Hello i am  Dhinesh\n",
      "Hello my roll no  101\n",
      "Hello my marks  90\n",
      "Dhinesh\n",
      "101\n",
      "90\n"
     ]
    }
   ],
   "source": [
    "# sample demo program for defining classes\n",
    "\n",
    "class Student:\n",
    "    \"\"\" Class developed by dhinesh\"\"\"\n",
    "    def __init__(self):\n",
    "        self.name = \"Dhinesh\"\n",
    "        self.rollno = 101\n",
    "        self.marks = 90\n",
    "        \n",
    "    def talk(self):\n",
    "        print(\"Hello i am \", self.name)\n",
    "        print(\"Hello my roll no \", self.rollno)\n",
    "        print(\"Hello my marks \", self.marks)\n",
    "        \n",
    "s = Student()\n",
    "s.talk()\n",
    "print(s.name)\n",
    "print(s.rollno)\n",
    "print(s.marks)"
   ]
  },
  {
   "cell_type": "code",
   "execution_count": 1,
   "metadata": {},
   "outputs": [
    {
     "name": "stdout",
     "output_type": "stream",
     "text": "Hello i am  Babu\nHello my roll no  1202\nHello my marks  89\nBabu\n1202\n89\n"
    }
   ],
   "source": [
    "# another example\n",
    "class Student:\n",
    "    \"\"\" Class developed by dhinesh\"\"\"\n",
    "    def __init__(self, name,rollno, marks):\n",
    "        self.name = name\n",
    "        self.rollno = rollno\n",
    "        self.marks = marks\n",
    "        \n",
    "    def talk(self):\n",
    "        print(\"Hello i am \", self.name)\n",
    "        print(\"Hello my roll no \", self.rollno)\n",
    "        print(\"Hello my marks \", self.marks)\n",
    "        \n",
    "s = Student(\"Babu\", 1202, 89)\n",
    "s.talk()\n",
    "print(s.name)\n",
    "print(s.rollno)\n",
    "print(s.marks)"
   ]
  },
  {
   "cell_type": "code",
   "execution_count": 2,
   "metadata": {},
   "outputs": [
    {
     "data": {
      "text/plain": "True"
     },
     "execution_count": 2,
     "metadata": {},
     "output_type": "execute_result"
    }
   ],
   "source": [
    "isinstance(Student, object)"
   ]
  },
  {
   "cell_type": "code",
   "execution_count": 12,
   "metadata": {},
   "outputs": [
    {
     "name": "stdout",
     "output_type": "stream",
     "text": [
      "The address of object by self  1717985869296\n",
      "The address of object by t reference  1717985869296\n"
     ]
    }
   ],
   "source": [
    "#id() method can be used to get the id/address of an object\n",
    "class Test:\n",
    "    def __init__(self):\n",
    "        print(\"The address of object by self \", id(self))\n",
    "        \n",
    "t = Test()\n",
    "print(\"The address of object by t reference \", id(t) )"
   ]
  },
  {
   "cell_type": "markdown",
   "metadata": {},
   "source": [
    "***\n",
    "### self variable and python constructors - indepth analysis \n",
    "* we can use any word instead of the word self #\n",
    "* within python class constructor is optional, python VM will create a default constructor\n",
    "* We can call construtor explicitly but no new object will be created\n",
    "***"
   ]
  },
  {
   "cell_type": "code",
   "execution_count": 14,
   "metadata": {},
   "outputs": [
    {
     "name": "stdout",
     "output_type": "stream",
     "text": [
      "The address of object by self  1717985744112\n",
      "The address of object by self  1717985744112\n"
     ]
    }
   ],
   "source": [
    "     \n",
    "class Test:\n",
    "    def __init__(self):\n",
    "        print(\"The address of object by self \", id(self))\n",
    "        \n",
    "t = Test()\n",
    "t.__init__()"
   ]
  },
  {
   "cell_type": "markdown",
   "metadata": {},
   "source": [
    "***\n",
    "* Having multiple constructors\n",
    "* constructor overloading is not available in python, if we provide more than one constructor the recent one will be considered\n",
    "***\n"
   ]
  },
  {
   "cell_type": "code",
   "execution_count": 3,
   "metadata": {},
   "outputs": [
    {
     "ename": "TypeError",
     "evalue": "__init__() missing 1 required positional argument: 'x'",
     "output_type": "error",
     "traceback": [
      "\u001b[0;31m---------------------------------------------------------------------------\u001b[0m",
      "\u001b[0;31mTypeError\u001b[0m                                 Traceback (most recent call last)",
      "\u001b[0;32m<ipython-input-3-75efad37ada1>\u001b[0m in \u001b[0;36m<module>\u001b[0;34m\u001b[0m\n\u001b[1;32m      9\u001b[0m         \u001b[0mprint\u001b[0m\u001b[0;34m(\u001b[0m\u001b[0;34m\"One arg constructor\"\u001b[0m\u001b[0;34m)\u001b[0m\u001b[0;34m\u001b[0m\u001b[0;34m\u001b[0m\u001b[0m\n\u001b[1;32m     10\u001b[0m \u001b[0;34m\u001b[0m\u001b[0m\n\u001b[0;32m---> 11\u001b[0;31m \u001b[0mt\u001b[0m \u001b[0;34m=\u001b[0m \u001b[0mTest\u001b[0m\u001b[0;34m(\u001b[0m\u001b[0;34m)\u001b[0m\u001b[0;34m\u001b[0m\u001b[0;34m\u001b[0m\u001b[0m\n\u001b[0m\u001b[1;32m     12\u001b[0m \u001b[0mt1\u001b[0m \u001b[0;34m=\u001b[0m \u001b[0mTest\u001b[0m\u001b[0;34m(\u001b[0m\u001b[0;36m10\u001b[0m\u001b[0;34m)\u001b[0m\u001b[0;34m\u001b[0m\u001b[0;34m\u001b[0m\u001b[0m\n",
      "\u001b[0;31mTypeError\u001b[0m: __init__() missing 1 required positional argument: 'x'"
     ]
    }
   ],
   "source": [
    "# Having multiple constructors\n",
    "# constructor overloading is not available in python, if we provide more than one constructor the recent one will be considered\n",
    "\n",
    "class Test:\n",
    "    def __init__(self):\n",
    "        print(\"No arg constructor\")\n",
    "        \n",
    "    def __init__(self,x):\n",
    "        print(\"One arg constructor\")\n",
    "        \n",
    "t = Test()\n",
    "t1 = Test(10)"
   ]
  },
  {
   "cell_type": "code",
   "execution_count": null,
   "metadata": {},
   "outputs": [],
   "source": [
    "# Types of variables in python class\n",
    "\"\"\"\n",
    "1. Instance variables - object level variables\n",
    "2. Static variables - class level variables\n",
    "3. Local variables - Method level variable\n",
    "\"\"\""
   ]
  },
  {
   "cell_type": "code",
   "execution_count": 19,
   "metadata": {},
   "outputs": [
    {
     "name": "stdout",
     "output_type": "stream",
     "text": [
      "0 1 2 3 4 5 6 7 8 9 "
     ]
    }
   ],
   "source": [
    "class Student:\n",
    "    school_name = \"AB School\" # static variable\n",
    "    \n",
    "    def __init__(self, name):\n",
    "        self.name = name  # instance variable\n",
    "        \n",
    "    def info(self):\n",
    "        x = 10 # Local variable\n",
    "        for i in range(x):\n",
    "            print(i, end=\" \")\n",
    "            \n",
    "s = Student(\"Dhinesh\")\n",
    "s.info()"
   ]
  },
  {
   "cell_type": "code",
   "execution_count": null,
   "metadata": {},
   "outputs": [],
   "source": [
    "# Types of methods in python class\n",
    "\n",
    "\"\"\"\n",
    "1. Instance methods - if we use instance variables inside a method. firs arg is self\n",
    "2. Class methods - with @classmethod decorator. For every class, PVM will create class level object . Refer (id(cls) in the below code)\n",
    "3. Static methods - General utility methods with no reference to self or cls. Uses @staticmethod decorator\n",
    "\"\"\""
   ]
  },
  {
   "cell_type": "code",
   "execution_count": 20,
   "metadata": {},
   "outputs": [
    {
     "name": "stdout",
     "output_type": "stream",
     "text": [
      "Student name :  Dhinesh\n",
      "1715840915248\n",
      "School name:  AB School\n",
      "1717957406288\n"
     ]
    }
   ],
   "source": [
    "class Student:\n",
    "    school_name = \"AB School\" # static variable\n",
    "    \n",
    "    def __init__(self, name):\n",
    "        self.name = name  # instance variable\n",
    "        \n",
    "    def info(self): #instance method\n",
    "        print(\"Student name : \", self.name)\n",
    "        print(id(self)) # instance\n",
    "    \n",
    "    @classmethod   \n",
    "    def school_info(cls): #class method\n",
    "        print(\"School name: \", cls.school_name)\n",
    "        print(id(cls)) # class level object\n",
    "        \n",
    "    @staticmethod:\n",
    "    def get_values(a,b): #static method\n",
    "        return a+b\n",
    "            \n",
    "s = Student(\"Dhinesh\")\n",
    "s.info()\n",
    "Student.school_info()"
   ]
  },
  {
   "cell_type": "markdown",
   "metadata": {},
   "source": [
    "### various places to declare instance variables\n",
    "* 1. Inside constructor by using self\n",
    "* 2. Inside instance method using self\n",
    "* 3. Outside of the class using object reference variables"
   ]
  },
  {
   "cell_type": "code",
   "execution_count": 22,
   "metadata": {},
   "outputs": [
    {
     "name": "stdout",
     "output_type": "stream",
     "text": [
      "Dhinesh 2323 ABC School\n",
      "{'name': 'Dhinesh', 'rollno': 2323, 'school': 'ABC School'}\n"
     ]
    }
   ],
   "source": [
    "\n",
    "class Student:\n",
    "    \n",
    "    def __init__(self, name):\n",
    "        self.name = name  # inside constructor\n",
    "    \n",
    "    def m1(self):\n",
    "        self.rollno = 2323 # inside instance method\n",
    "        \n",
    "    def display(self):\n",
    "        print(self.name, self.rollno, self.school)\n",
    "        \n",
    "s = Student(\"Dhinesh\")\n",
    "s.m1() # This method must be called to add the instance variable to the object, else it wont be added and will not be available in __dict__\n",
    "s.school = \"ABC School\" # outside class using reference variables\n",
    "s.display()\n",
    "print(s.__dict__) #to get all the variables of an object/instance"
   ]
  },
  {
   "cell_type": "code",
   "execution_count": 25,
   "metadata": {},
   "outputs": [
    {
     "name": "stdout",
     "output_type": "stream",
     "text": [
      "{'a': 10, 'b': 20, 'c': 30, 'd': 40}\n",
      "After Deleting c\n",
      "{'a': 10, 'b': 20, 'd': 40}\n",
      "After Deleting b and d from t2\n",
      "{'a': 10, 'c': 30}\n"
     ]
    }
   ],
   "source": [
    "# How to delete instanace variable\n",
    "# 1. within the class -=> del self.variablename\n",
    "# 2. Outside the class => del referencevariable.variablename \n",
    "# we can delete multiple variables in a single line\n",
    "\n",
    "class Test:\n",
    "    \n",
    "    def __init__(self):\n",
    "        self.a = 10\n",
    "        self.b = 20\n",
    "        self.c = 30\n",
    "        self.d = 40\n",
    "        \n",
    "    def m1(self):\n",
    "        del self.c\n",
    "        \n",
    "t = Test()\n",
    "print(t.__dict__)\n",
    "t.m1()\n",
    "print(\"After Deleting c\")\n",
    "print(t.__dict__)\n",
    "# Another object\n",
    "t2 = Test()\n",
    "del t2.b, t2.d\n",
    "print(\"After Deleting b and d from t2\")\n",
    "print(t2.__dict__)"
   ]
  },
  {
   "cell_type": "markdown",
   "metadata": {},
   "source": [
    "***\n",
    "### STATIC VARIABLES - Various places to declare static variables #\n",
    "* 1. Within the class outside of any method\n",
    "* 2. Inside constructor using class name\n",
    "* 3. Inside instance method using class name\n",
    "* 4. Inside class method using either cls or classname\n",
    "* 5. Inside static method using class name\n",
    "***"
   ]
  },
  {
   "cell_type": "code",
   "execution_count": 30,
   "metadata": {},
   "outputs": [
    {
     "name": "stdout",
     "output_type": "stream",
     "text": [
      "Dhinesh Solutions\n",
      "45411\n",
      "India\n",
      "Address1 Address2\n",
      "Address3\n",
      "{'__module__': '__main__', 'school_name': 'Dhinesh Solutions', '__init__': <function Student.__init__ at 0x0000018F806AE0D0>, 'm1': <function Student.m1 at 0x0000018F806AE160>, 'm2': <classmethod object at 0x0000018F806C3970>, 'm3': <staticmethod object at 0x0000018F806C3880>, '__dict__': <attribute '__dict__' of 'Student' objects>, '__weakref__': <attribute '__weakref__' of 'Student' objects>, '__doc__': None, 'schoolID': 45411, 'location': 'India', 'address1': 'Address1', 'address2': 'Address2', 'address3': 'Address3'}\n"
     ]
    }
   ],
   "source": [
    "# STATIC VARIABLES - Various places to declare static variables #\n",
    "# 1. Within the class outside of any method\n",
    "# 2. Inside constructor using class name\n",
    "# 3. Inside instance method using class name\n",
    "# 4. Inside class method using either cls or classname\n",
    "# 5. Inside static method using class name\n",
    "class Student:\n",
    "    \n",
    "    school_name = \"Dhinesh Solutions\" # static variable\n",
    "    \n",
    "    def __init__(self, name, rollno):\n",
    "        self.name = name\n",
    "        self.rollno = rollno\n",
    "        Student.schoolID = 45411 # static variable inside constructor\n",
    "        \n",
    "    def m1(self):\n",
    "        Student.location = \"India\"\n",
    "        \n",
    "    @classmethod\n",
    "    def m2(cls):\n",
    "        Student.address1 = \"Address1\"\n",
    "        cls.address2 = \"Address2\"\n",
    "        \n",
    "    @staticmethod\n",
    "    def m3():\n",
    "        Student.address3 = \"Address3\"\n",
    "\n",
    "s = Student(\"Dhinesh\", 5454)\n",
    "print(Student.school_name)\n",
    "print(Student.schoolID)\n",
    "s.m1() # creating location\n",
    "print(Student.location)\n",
    "Student.m2() # calling classmethod\n",
    "Student.m3() # calling static method\n",
    "print(Student.address1, Student.address2)\n",
    "print(Student.address3)\n",
    "print(Student.__dict__) # class level variables in the classname.__dict__"
   ]
  },
  {
   "cell_type": "code",
   "execution_count": 33,
   "metadata": {},
   "outputs": [
    {
     "name": "stdout",
     "output_type": "stream",
     "text": [
      "Dhinesh Solutions\n",
      "Dhinesh Solutions\n",
      "Dhinesh Solutions\n",
      "Dhinesh Solutions\n",
      "Dhinesh Solutions\n",
      "Dhinesh Solutions\n",
      "Dhinesh Solutions\n",
      "Dhinesh Solutions\n"
     ]
    }
   ],
   "source": [
    "## Accessing static variables ##\n",
    "# 1. Inside constructor using self or classname\n",
    "# 2. Inside instance method using self or classname\n",
    "# 3. Inside class method using class name or cls\n",
    "# 4. Inside static method using class name\n",
    "# 5. Outside of class using either object reference or classname\n",
    "\n",
    "class Student:\n",
    "    \n",
    "    school_name = \"Dhinesh Solutions\" # static variable\n",
    "    \n",
    "    def __init__(self):\n",
    "        print(self.school_name) # inside constructor using self\n",
    "        \n",
    "    def m1(self):\n",
    "        print(self.school_name)\n",
    "        print(Student.school_name)\n",
    "        \n",
    "    @classmethod\n",
    "    def m2(cls):\n",
    "        print(cls.school_name)\n",
    "        print(Student.school_name)\n",
    "        \n",
    "    @staticmethod\n",
    "    def m3():\n",
    "        print(Student.school_name)\n",
    "        \n",
    "s = Student()\n",
    "s.m1()\n",
    "Student.m2()\n",
    "Student.m3()\n",
    "print(Student.school_name)\n",
    "print(s.school_name)"
   ]
  },
  {
   "cell_type": "code",
   "execution_count": 40,
   "metadata": {},
   "outputs": [
    {
     "name": "stdout",
     "output_type": "stream",
     "text": [
      "20\n",
      "30\n",
      "40\n",
      "60\n",
      "80\n"
     ]
    }
   ],
   "source": [
    "# Modifying static variables from different places #\n",
    "# We can modify the static variable value only using class name or using cls\n",
    "# We can not use self or object reference variable\n",
    "\n",
    "class Test:\n",
    "    a = 10\n",
    "    \n",
    "    def __init__(self):\n",
    "        Test.a = 20\n",
    "        \n",
    "    def m1(self):\n",
    "        Test.a = 30\n",
    "        \n",
    "    @classmethod\n",
    "    def m2(cls):\n",
    "        cls.a = 40\n",
    "        Test.a = 40\n",
    "        \n",
    "    @staticmethod\n",
    "    def m3():\n",
    "        Test.a = 60\n",
    "        \n",
    "t = Test()\n",
    "print(Test.a)\n",
    "t.m1()\n",
    "print(Test.a)\n",
    "Test.m2()\n",
    "print(Test.a)\n",
    "t.m3()\n",
    "print(Test.a)\n",
    "Test.a = 80 # outside class\n",
    "print(Test.a)"
   ]
  },
  {
   "cell_type": "code",
   "execution_count": 42,
   "metadata": {},
   "outputs": [
    {
     "name": "stdout",
     "output_type": "stream",
     "text": [
      "10\n",
      "888\n"
     ]
    }
   ],
   "source": [
    "# case 1\n",
    "class Test:\n",
    "    a=10 # This is static variable\n",
    "    \n",
    "    def m1(self):\n",
    "        self.a = 888 # This is instance variable\n",
    "        \n",
    "t1 = Test()\n",
    "t1.m1()\n",
    "print(Test.a)\n",
    "print(t1.a) # of instance variable is available with the same name then that gets priority\n"
   ]
  },
  {
   "cell_type": "code",
   "execution_count": 43,
   "metadata": {},
   "outputs": [
    {
     "name": "stdout",
     "output_type": "stream",
     "text": [
      "t1:  10 20\n",
      "t2:  10 20\n",
      "t1:  888 999\n",
      "t2:  10 20\n"
     ]
    }
   ],
   "source": [
    "# case 2\n",
    "class Test:\n",
    "    a=10\n",
    "    def __init__(self):\n",
    "        self.b = 20\n",
    "        \n",
    "t1 = Test()\n",
    "t2 = Test()\n",
    "print('t1: ', t1.a,t1.b)\n",
    "print('t2: ', t2.a,t2.b)\n",
    "t1.a = 888\n",
    "t1.b = 999\n",
    "print('t1: ', t1.a,t1.b)\n",
    "print('t2: ', t2.a,t2.b)"
   ]
  },
  {
   "cell_type": "code",
   "execution_count": 44,
   "metadata": {},
   "outputs": [
    {
     "name": "stdout",
     "output_type": "stream",
     "text": [
      "t1:  10 20\n",
      "t2:  10 20\n",
      "t1:  888 20\n",
      "t2:  888 20\n",
      "Test:  888 999\n"
     ]
    }
   ],
   "source": [
    "# case 3\n",
    "class Test:\n",
    "    a=10\n",
    "    def __init__(self):\n",
    "        self.b = 20\n",
    "        \n",
    "t1 = Test()\n",
    "t2 = Test()\n",
    "print('t1: ', t1.a,t1.b)\n",
    "print('t2: ', t2.a,t2.b)\n",
    "Test.a = 888\n",
    "Test.b = 999\n",
    "print('t1: ', t1.a,t1.b)\n",
    "print('t2: ', t2.a,t2.b)\n",
    "print(\"Test: \", Test.a, Test.b)"
   ]
  },
  {
   "cell_type": "code",
   "execution_count": 46,
   "metadata": {},
   "outputs": [
    {
     "name": "stdout",
     "output_type": "stream",
     "text": [
      "t1:  888 999\n",
      "t2:  888 20\n"
     ]
    }
   ],
   "source": [
    "# case 4\n",
    "class Test:\n",
    "    a=10\n",
    "    def __init__(self):\n",
    "        self.b = 20\n",
    "        \n",
    "t1 = Test()\n",
    "t2 = Test()\n",
    "Test.a = 888\n",
    "t1.b = 999\n",
    "print('t1: ', t1.a,t1.b)\n",
    "print('t2: ', t2.a,t2.b)\n"
   ]
  },
  {
   "cell_type": "code",
   "execution_count": 47,
   "metadata": {},
   "outputs": [
    {
     "name": "stdout",
     "output_type": "stream",
     "text": [
      "t1:  888 999\n",
      "t2:  10 20\n"
     ]
    }
   ],
   "source": [
    "# case 5\n",
    "class Test:\n",
    "    a=10\n",
    "    def __init__(self):\n",
    "        self.b = 20\n",
    "        \n",
    "    def m1(self):\n",
    "        self.a = 888\n",
    "        self.b = 999\n",
    "        \n",
    "t1 = Test()\n",
    "t2 = Test()\n",
    "t1.m1()\n",
    "print('t1: ', t1.a,t1.b)\n",
    "print('t2: ', t2.a,t2.b)"
   ]
  },
  {
   "cell_type": "code",
   "execution_count": 49,
   "metadata": {},
   "outputs": [
    {
     "name": "stdout",
     "output_type": "stream",
     "text": [
      "t1:  888 999\n",
      "t2:  888 999\n"
     ]
    }
   ],
   "source": [
    "# case 6\n",
    "class Test:\n",
    "    a=10\n",
    "    def __init__(self):\n",
    "        self.b = 20\n",
    "        \n",
    "    def m1(self):\n",
    "        self.a = 888\n",
    "        self.b = 999\n",
    "        \n",
    "t1 = Test()\n",
    "t2 = Test()\n",
    "t1.m1()\n",
    "t2.m1()\n",
    "print('t1: ', t1.a,t1.b)\n",
    "print('t2: ', t2.a,t2.b)"
   ]
  },
  {
   "cell_type": "code",
   "execution_count": 50,
   "metadata": {},
   "outputs": [
    {
     "name": "stdout",
     "output_type": "stream",
     "text": [
      "t1:  888 20\n",
      "t2:  888 20\n",
      "Test:  888 999\n"
     ]
    }
   ],
   "source": [
    "# case 7\n",
    "class Test:\n",
    "    a=10\n",
    "    def __init__(self):\n",
    "        self.b = 20\n",
    "    @classmethod    \n",
    "    def m1(cls):\n",
    "        cls.a = 888\n",
    "        cls.b = 999\n",
    "        \n",
    "t1 = Test()\n",
    "t2 = Test()\n",
    "t1.m1() # we can call classmethod using instance name but not recommended\n",
    "print('t1: ', t1.a,t1.b)\n",
    "print('t2: ', t2.a,t2.b)\n",
    "print(\"Test: \", Test.a, Test.b)"
   ]
  },
  {
   "cell_type": "code",
   "execution_count": 53,
   "metadata": {},
   "outputs": [
    {
     "name": "stdout",
     "output_type": "stream",
     "text": [
      "10\n",
      "Variable A deleted\n"
     ]
    },
    {
     "ename": "AttributeError",
     "evalue": "type object 'Test' has no attribute 'a'",
     "output_type": "error",
     "traceback": [
      "\u001b[1;31m---------------------------------------------------------------------------\u001b[0m",
      "\u001b[1;31mAttributeError\u001b[0m                            Traceback (most recent call last)",
      "\u001b[1;32m<ipython-input-53-5c472f91a257>\u001b[0m in \u001b[0;36m<module>\u001b[1;34m\u001b[0m\n\u001b[0;32m     13\u001b[0m \u001b[0mt\u001b[0m\u001b[1;33m.\u001b[0m\u001b[0mm1\u001b[0m\u001b[1;33m(\u001b[0m\u001b[1;33m)\u001b[0m\u001b[1;33m\u001b[0m\u001b[1;33m\u001b[0m\u001b[0m\n\u001b[0;32m     14\u001b[0m \u001b[0mprint\u001b[0m\u001b[1;33m(\u001b[0m\u001b[1;34m\"Variable A deleted\"\u001b[0m\u001b[1;33m)\u001b[0m\u001b[1;33m\u001b[0m\u001b[1;33m\u001b[0m\u001b[0m\n\u001b[1;32m---> 15\u001b[1;33m \u001b[0mprint\u001b[0m\u001b[1;33m(\u001b[0m\u001b[0mTest\u001b[0m\u001b[1;33m.\u001b[0m\u001b[0ma\u001b[0m\u001b[1;33m)\u001b[0m\u001b[1;33m\u001b[0m\u001b[1;33m\u001b[0m\u001b[0m\n\u001b[0m",
      "\u001b[1;31mAttributeError\u001b[0m: type object 'Test' has no attribute 'a'"
     ]
    }
   ],
   "source": [
    "## Deleting static variables ##\n",
    "# We should use classname or cls variable\n",
    "\n",
    "class Test:\n",
    "    a=10\n",
    "    \n",
    "    @classmethod\n",
    "    def m1(cls):\n",
    "        del cls.a # or del Test.a\n",
    "        \n",
    "t = Test()\n",
    "print(Test.a)\n",
    "t.m1()\n",
    "print(\"Variable A deleted\")\n",
    "print(Test.a)"
   ]
  },
  {
   "cell_type": "markdown",
   "metadata": {},
   "source": []
  },
  {
   "cell_type": "markdown",
   "metadata": {},
   "source": [
    "***\n",
    "###  Local Variables ## To hold temporary results and only available to the method where it is defined\n",
    "***"
   ]
  },
  {
   "cell_type": "code",
   "execution_count": 55,
   "metadata": {},
   "outputs": [
    {
     "name": "stdout",
     "output_type": "stream",
     "text": [
      "25.0\n"
     ]
    }
   ],
   "source": [
    "##  Local Variables ## To hold temporary results and onluy available to the method where it is defined\n",
    "class Test:\n",
    "    \n",
    "    @staticmethod\n",
    "    def average(list1):\n",
    "        avg = sum(list1) / len(list1) # avg is local variable\n",
    "        print(avg)\n",
    "        \n",
    "l1 = [10,20,30,40]\n",
    "t = Test()\n",
    "t.average(l1) # or by Test.average(l1)"
   ]
  },
  {
   "cell_type": "code",
   "execution_count": 57,
   "metadata": {},
   "outputs": [
    {
     "name": "stdout",
     "output_type": "stream",
     "text": [
      "Welcome to  Dhinesh Bank\n"
     ]
    },
    {
     "name": "stdin",
     "output_type": "stream",
     "text": [
      "Enter your name:  Dhinesh\n"
     ]
    },
    {
     "name": "stdout",
     "output_type": "stream",
     "text": [
      "d - Deposit\n",
      "w - Withdraw\n",
      "e - Exit\n"
     ]
    },
    {
     "name": "stdin",
     "output_type": "stream",
     "text": [
      "Choose your option:  d\n",
      "Enter amount to deposit:  10000\n"
     ]
    },
    {
     "name": "stdout",
     "output_type": "stream",
     "text": [
      "After deposit, balance is:  10000.0\n",
      "d - Deposit\n",
      "w - Withdraw\n",
      "e - Exit\n"
     ]
    },
    {
     "name": "stdin",
     "output_type": "stream",
     "text": [
      "Choose your option:  w\n",
      "Enter amount to withdraw:  5000\n"
     ]
    },
    {
     "name": "stdout",
     "output_type": "stream",
     "text": [
      "After withdraw, balance:  5000.0\n",
      "d - Deposit\n",
      "w - Withdraw\n",
      "e - Exit\n"
     ]
    },
    {
     "name": "stdin",
     "output_type": "stream",
     "text": [
      "Choose your option:  g\n"
     ]
    },
    {
     "name": "stdout",
     "output_type": "stream",
     "text": [
      "Your option is invalid. Please choose valid option\n",
      "d - Deposit\n",
      "w - Withdraw\n",
      "e - Exit\n"
     ]
    },
    {
     "name": "stdin",
     "output_type": "stream",
     "text": [
      "Choose your option:  e\n"
     ]
    },
    {
     "name": "stdout",
     "output_type": "stream",
     "text": [
      "Thank you for banking with us\n"
     ]
    }
   ],
   "source": [
    "# Mini bank application\n",
    "\n",
    "class Customer:\n",
    "    \"This class developed by Dhinesh and describes bank operation\"\n",
    "    bankname = \"Dhinesh Bank\"\n",
    "    \n",
    "    def __init__(self, name, balance=0.0):\n",
    "        self.name = name\n",
    "        self.balance = balance\n",
    "        \n",
    "    def deposit(self, amount):\n",
    "        self.balance = self.balance + amount\n",
    "        print(\"After deposit, balance is: \", self.balance)\n",
    "    \n",
    "    def withdraw(self, amount):\n",
    "        if amount > self.balance:\n",
    "            print(\"Insufficient Fund. Can't perform this operation\")\n",
    "        else:\n",
    "            self.balance  = self.balance - amount\n",
    "            print(\"After withdraw, balance: \", self.balance)\n",
    "            \n",
    "\n",
    "print(\"Welcome to \", Customer.bankname)\n",
    "name = input(\"Enter your name: \")\n",
    "c = Customer(name)\n",
    "\n",
    "while True:\n",
    "    print(\"d - Deposit\\nw - Withdraw\\ne - Exit\")\n",
    "    option = input(\"Choose your option: \")\n",
    "    if option.lower() == 'd':\n",
    "        amount = float(input(\"Enter amount to deposit: \"))\n",
    "        c.deposit(amount)\n",
    "    elif option.lower() == 'w':\n",
    "        amount = float(input(\"Enter amount to withdraw: \"))\n",
    "        c.withdraw(amount)\n",
    "    elif option.lower() == 'e':\n",
    "        print(\"Thank you for banking with us\")\n",
    "        break\n",
    "    else:\n",
    "        print(\"Your option is invalid. Please choose valid option\")"
   ]
  },
  {
   "cell_type": "markdown",
   "metadata": {},
   "source": [
    "***\n",
    "### Instance Methods ### - In a class, if a method uses any instance variable that is called instance method\n",
    "***"
   ]
  },
  {
   "cell_type": "code",
   "execution_count": null,
   "metadata": {},
   "outputs": [],
   "source": [
    "### Instance Methods ### - In a class, if a method uses any instance variable that is called instance method\n",
    "\n",
    "class Student:\n",
    "    def __init__(self, name, marks):\n",
    "        self.name = name\n",
    "        self.marks = marks\n",
    "        \n",
    "    def display(self): # instance method\n",
    "        print('Hi ', self.name)"
   ]
  },
  {
   "cell_type": "markdown",
   "metadata": {},
   "source": [
    "***\n",
    "### Getter and Setter methods ###\n",
    "* To get and set values of instance variables\n",
    "* setter method (or) mutator method\n",
    "***"
   ]
  },
  {
   "cell_type": "code",
   "execution_count": null,
   "metadata": {},
   "outputs": [],
   "source": [
    "### Getter and Setter methods ###\n",
    "# To get and set values of instance variables\n",
    "# setter method (or) mutator method\n",
    "def setMarks(self, marks):\n",
    "    self.marks = marks\n",
    "    \n",
    "#getter method (or) accessor method\n",
    "def getMarks(self):\n",
    "    return self.marks"
   ]
  },
  {
   "cell_type": "code",
   "execution_count": 60,
   "metadata": {},
   "outputs": [
    {
     "name": "stdin",
     "output_type": "stream",
     "text": [
      "Enter number of students:  2\n",
      "Enter Student name:  Dhinesh\n",
      "Enter Marks:  50\n",
      "Enter Student name:  Babu\n",
      "Enter Marks:  80\n"
     ]
    },
    {
     "name": "stdout",
     "output_type": "stream",
     "text": [
      "\n",
      "Hello  Dhinesh\n",
      "Your Marks:  50\n",
      "\n",
      "Hello  Babu\n",
      "Your Marks:  80\n"
     ]
    }
   ],
   "source": [
    "# Example for getter and setter methods\n",
    "class Student:\n",
    "    def setName(self, name):\n",
    "        self.name = name\n",
    "        \n",
    "    def getName(self):\n",
    "        return self.name\n",
    "    \n",
    "    def setMarks(self, marks):\n",
    "        self.marks = marks\n",
    "        \n",
    "    def getMarks(self):\n",
    "        return self.marks\n",
    "    \n",
    "n = int(input(\"Enter number of students: \"))\n",
    "\n",
    "students = []\n",
    "\n",
    "for i in range(n):\n",
    "    s = Student()\n",
    "    name = input(\"Enter Student name: \")\n",
    "    marks = int(input(\"Enter Marks: \"))\n",
    "    s.setName(name)\n",
    "    s.setMarks(marks)\n",
    "    students.append(s)\n",
    "    \n",
    "for s in students:\n",
    "    print()\n",
    "    print(\"Hello \", s.getName())\n",
    "    print(\"Your Marks: \",s.getMarks())\n",
    "    "
   ]
  },
  {
   "cell_type": "markdown",
   "metadata": {},
   "source": [
    "***\n",
    "### Class methods ## If only static variables in a method, we can use class methods\n",
    "* need to use @classmethod decorator\n",
    "* PVM will create class level object\n",
    "***"
   ]
  },
  {
   "cell_type": "code",
   "execution_count": 62,
   "metadata": {},
   "outputs": [
    {
     "name": "stdout",
     "output_type": "stream",
     "text": [
      "Parrot flying with 2 wings\n",
      "Eagle flying with 2 wings\n"
     ]
    }
   ],
   "source": [
    "## Class methods ## If only static variables in a method, we can use class methods\n",
    "# need to use @classmethod decorator\n",
    "# PVM will create class level object\n",
    "\n",
    "class Bird:\n",
    "    wings = 2\n",
    "    \n",
    "    @classmethod\n",
    "    def fly(cls, name):\n",
    "        print(\"{} flying with {} wings\".format(name, cls.wings))\n",
    "        \n",
    "Bird.fly('Parrot')\n",
    "Bird.fly(\"Eagle\")\n",
    "    "
   ]
  },
  {
   "cell_type": "code",
   "execution_count": 63,
   "metadata": {},
   "outputs": [
    {
     "name": "stdout",
     "output_type": "stream",
     "text": [
      "The number of objects created:  0\n",
      "The number of objects created:  4\n"
     ]
    }
   ],
   "source": [
    "# Demo program to track number of object created for a class\n",
    "\n",
    "class Test:\n",
    "    count = 0\n",
    "    \n",
    "    def __init__(self):\n",
    "        Test.count = Test.count + 1\n",
    "        \n",
    "    @classmethod\n",
    "    def getNoOfObjects(cls):\n",
    "        print(\"The number of objects created: \", cls.count)\n",
    "        \n",
    "Test.getNoOfObjects()\n",
    "t1 = Test()\n",
    "t2 = Test()\n",
    "t3 = Test()\n",
    "t4 = Test()\n",
    "Test.getNoOfObjects()"
   ]
  },
  {
   "cell_type": "code",
   "execution_count": null,
   "metadata": {},
   "outputs": [],
   "source": [
    "## Differences between Instance Method and Class Method ##\n",
    "# if one instance variable is used then that is instance method\n",
    "# if only static variable is used, then we can use classmethod\n",
    "# inside classmethod, we cannot use instance variables\n",
    "# classmethod should be added @classmethod decorator\n",
    "# self is used in instance method and cls is used in classmethod\n",
    "# classmethod can be called using instance refernce or class name (but recommended is classname.classmethod)"
   ]
  },
  {
   "cell_type": "markdown",
   "metadata": {},
   "source": [
    "***\n",
    "### STATIC Methods ## General utility methods with no refernce to self or cls\n",
    "* static method can be called using object reference or class name\n",
    "* @staticmethod decorator is used but optional. But if not decorator and  if we call using instance variable then it will become instance method\n",
    "* static variables also can be used inside static methods\n",
    "***"
   ]
  },
  {
   "cell_type": "code",
   "execution_count": 67,
   "metadata": {},
   "outputs": [
    {
     "name": "stdout",
     "output_type": "stream",
     "text": [
      "Inside static method. The sum is \n",
      "10\n"
     ]
    }
   ],
   "source": [
    "## STATIC Methods ## General utility methods with no refernce to self or cls\n",
    "# static method can be called using object reference or class name\n",
    "# @staticmethod decorator is used but optional. But if not decorator and  if we call using instance variable then it will become instance method\n",
    "# static variables also can be used inside static methods\n",
    "\n",
    "class Test:\n",
    "    aa = 10\n",
    "    @staticmethod\n",
    "    def m1(a, b):\n",
    "        print(\"Inside static method. The sum is \")\n",
    "        print(Test.aa)\n",
    "    \n",
    "Test.m1(10, 20)\n",
    "        "
   ]
  },
  {
   "cell_type": "markdown",
   "metadata": {},
   "source": [
    "***\n",
    "### Accessing one class member inside another class ##\n",
    "***"
   ]
  },
  {
   "cell_type": "code",
   "execution_count": 68,
   "metadata": {},
   "outputs": [
    {
     "name": "stdout",
     "output_type": "stream",
     "text": [
      "Employee Number:  101\n",
      "Employee Name:  Dhinesh\n",
      "Employee Salary:  55000\n"
     ]
    }
   ],
   "source": [
    "## Accessing one class member inside another class ##\n",
    "class Employee:\n",
    "    def __init__(self, eno, ename, esal):\n",
    "        self.eno = eno\n",
    "        self.ename = ename\n",
    "        self.esal = esal\n",
    "    \n",
    "    def display(self):\n",
    "        print('Employee Number: ', self.eno)\n",
    "        print('Employee Name: ', self.ename)\n",
    "        print('Employee Salary: ', self.esal)\n",
    "        \n",
    "class Manager:\n",
    "    \n",
    "    def updateempsal(emp): # static method\n",
    "        emp.esal = emp.esal + 10000\n",
    "        emp.display()\n",
    "        \n",
    "emp = Employee(101, \"Dhinesh\", 45000)\n",
    "Manager.updateempsal(emp)"
   ]
  },
  {
   "cell_type": "markdown",
   "metadata": {},
   "source": [
    "***\n",
    "### Inner classes ###\n",
    "* without existence of one type of object, if there is no existence of another object then we should prefer inner classes\n",
    "***"
   ]
  },
  {
   "cell_type": "code",
   "execution_count": 70,
   "metadata": {},
   "outputs": [],
   "source": [
    "### Inner classes ###\n",
    "# without existence of one type of object, if there is no existence of another object then we should prefer inner classes\n",
    "# Also it imrpoves the security of the application\n",
    "\n",
    "class University:\n",
    "    class Department:\n",
    "        pass"
   ]
  },
  {
   "cell_type": "code",
   "execution_count": 77,
   "metadata": {},
   "outputs": [
    {
     "name": "stdout",
     "output_type": "stream",
     "text": [
      "Outer object creation\n",
      "Inner class object creation\n",
      "Inner class method\n",
      "Outer object creation\n",
      "Inner class object creation\n",
      "Inner class method\n",
      "Outer object creation\n",
      "Inner class object creation\n",
      "Inner class method\n"
     ]
    }
   ],
   "source": [
    "# Demo class\n",
    "\n",
    "class Outer:\n",
    "    def __init__(self):\n",
    "        print(\"Outer object creation\")\n",
    "        \n",
    "    class Inner:\n",
    "        def __init__(self):\n",
    "            print(\"Inner class object creation\")\n",
    "        \n",
    "        def m1(self):\n",
    "            print('Inner class method')\n",
    "            \n",
    "o = Outer()\n",
    "i = o.Inner() # creating inner class object\n",
    "i.m1()\n",
    "\n",
    "# we can combine the above lines\n",
    "i = Outer().Inner()\n",
    "i.m1()\n",
    "\n",
    "# another level\n",
    "Outer().Inner().m1()"
   ]
  },
  {
   "cell_type": "markdown",
   "metadata": {},
   "source": [
    "***\n",
    "### Nesting of classes ###\n",
    "***"
   ]
  },
  {
   "cell_type": "code",
   "execution_count": 79,
   "metadata": {},
   "outputs": [
    {
     "name": "stdout",
     "output_type": "stream",
     "text": [
      "Outer object creation\n",
      "Inner class object creation\n",
      "InnerInner class object creation\n",
      "Nested Inner class method\n",
      "Outer object creation\n",
      "Inner class object creation\n",
      "Inside static method\n"
     ]
    }
   ],
   "source": [
    "### Nesting of classes ###\n",
    "\n",
    "class Outer: #Level1\n",
    "    def __init__(self):\n",
    "        print(\"Outer object creation\")\n",
    "        \n",
    "    class Inner: #Level2\n",
    "        def __init__(self):\n",
    "            print(\"Inner class object creation\")\n",
    "            \n",
    "        class InnerInner: #Level3\n",
    "            def __init__(self):\n",
    "                print(\"InnerInner class object creation\")\n",
    "\n",
    "            def m1(self):\n",
    "                print(\"Nested Inner class method\")\n",
    "                \n",
    "            @staticmethod\n",
    "            def m2():\n",
    "                print(\"Inside static method\")\n",
    "                    \n",
    "i = Outer().Inner().InnerInner()\n",
    "i.m1()\n",
    "\n",
    "# Accessing the staticmethod\n",
    "Outer().Inner().InnerInner.m2() # note: object of InnerInner is not required"
   ]
  },
  {
   "cell_type": "code",
   "execution_count": 84,
   "metadata": {},
   "outputs": [
    {
     "name": "stdout",
     "output_type": "stream",
     "text": [
      "person object creation\n",
      "dob object creation\n",
      "Name:  dhinesh\n",
      "DOB = 9-10-1947\n"
     ]
    }
   ],
   "source": [
    "#another example\n",
    "class Person:\n",
    "    def __init__(self, name, dd, mm, yyyy):\n",
    "        print(\"person object creation\")\n",
    "        self.name = name\n",
    "        self.dob = self.DOB(dd, mm, yyyy)\n",
    "        \n",
    "    def info(self):\n",
    "        print(\"Name: \", self.name)\n",
    "        self.dob.display()\n",
    "        \n",
    "    class DOB:\n",
    "        def __init__(self, dd, mm, yyyy):\n",
    "            print(\"dob object creation\")\n",
    "            self.dd = dd\n",
    "            self.mm = mm\n",
    "            self.yyyy = yyyy\n",
    "            \n",
    "        def display(self):\n",
    "            print(\"DOB = {}-{}-{}\".format(self.dd, self.mm, self.yyyy))\n",
    "            \n",
    "p = Person(\"dhinesh\", 9,10,1947)\n",
    "p.info()"
   ]
  },
  {
   "cell_type": "markdown",
   "metadata": {},
   "source": [
    "*** \n",
    "### Nested Methods\n",
    "***"
   ]
  },
  {
   "cell_type": "code",
   "execution_count": 86,
   "metadata": {},
   "outputs": [
    {
     "name": "stdout",
     "output_type": "stream",
     "text": [
      "The sum  30\n",
      "The sub  -10\n",
      "The sum  40\n",
      "The sub  -20\n"
     ]
    }
   ],
   "source": [
    "## Nested Methods ##\n",
    "\n",
    "class Test:\n",
    "    \n",
    "    def m1(self):\n",
    "        \n",
    "       def calc(a,b):\n",
    "        \n",
    "           print(\"The sum \", a+b)\n",
    "           print(\"The sub \", a-b)\n",
    "       \n",
    "       calc(10,20) \n",
    "       calc(10,30) \n",
    "\n",
    "t = Test()\n",
    "t.m1()"
   ]
  },
  {
   "cell_type": "markdown",
   "metadata": {},
   "source": [
    "***\n",
    "### Garbage Collection ###\n",
    "* Removing unused objects -> when an object does not have any reference\n",
    "* import gc module to interact with Garbage Collector in python\n",
    "***"
   ]
  },
  {
   "cell_type": "code",
   "execution_count": null,
   "metadata": {},
   "outputs": [],
   "source": [
    "# How to enable garbage collector # By default GC is enabled\n",
    "# use \"gc\" module\n",
    "# gc.isenabled() -> to check the GC availability\n",
    "# gc.disable() -> to disable gc\n",
    "# gc.enable() -> to enable gc\n",
    "\n",
    "# if in our application memory is not a crucial problem or we create very less objets then we can disable gc to improve performance"
   ]
  },
  {
   "cell_type": "code",
   "execution_count": 90,
   "metadata": {},
   "outputs": [
    {
     "name": "stdout",
     "output_type": "stream",
     "text": [
      "True\n",
      "False\n",
      "True\n"
     ]
    }
   ],
   "source": [
    "import gc\n",
    "print(gc.isenabled())\n",
    "gc.disable()\n",
    "print(gc.isenabled())\n",
    "gc.enable()\n",
    "print(gc.isenabled())"
   ]
  },
  {
   "cell_type": "markdown",
   "metadata": {},
   "source": [
    "***\n",
    "### Destructor ###\n",
    "* will be executed just before destroying objects to perform cleanup activities\n",
    "* __del__() is the destructor function\n",
    "***"
   ]
  },
  {
   "cell_type": "code",
   "execution_count": 92,
   "metadata": {},
   "outputs": [
    {
     "name": "stdout",
     "output_type": "stream",
     "text": [
      "Object initialization activities\n",
      "Fulfilling last wish and performing cleanup activities\n",
      "End of application\n"
     ]
    }
   ],
   "source": [
    "### Destructor ###\n",
    "## will be executed just before destroying objects to perform cleanup activities\n",
    "# __del__() is the destructor function\n",
    "\n",
    "import time\n",
    "\n",
    "class Test:\n",
    "    def __init__(self):\n",
    "        print(\"Object initialization activities\")\n",
    "        \n",
    "    def __del__(self):\n",
    "        print(\"Fulfilling last wish and performing cleanup activities\")\n",
    "        \n",
    "t = Test()\n",
    "t = None # deferencing an object and it is eligible for garbage collection. __del__() will be called\n",
    "time.sleep(4)\n",
    "print(\"End of application\")"
   ]
  },
  {
   "cell_type": "code",
   "execution_count": 93,
   "metadata": {},
   "outputs": [
    {
     "name": "stdout",
     "output_type": "stream",
     "text": [
      "Constructor Execution\n",
      "Removing last reference\n",
      "Destructor Execution\n",
      "End of program\n"
     ]
    }
   ],
   "source": [
    "# Destructor demo program\n",
    "class Test:\n",
    "    def __init__(self):\n",
    "        print(\"Constructor Execution\")\n",
    "        \n",
    "    def __del__(self):\n",
    "        print(\"Destructor Execution\")\n",
    "        \n",
    "t1 = Test()\n",
    "t2 = t1\n",
    "t3 = t1 # now 3 reference variable for 1 object\n",
    "\n",
    "del t1 # destructor will not be called since t2 and t3 are there\n",
    "del t2 # destructor will not be called since t3 is there\n",
    "print(\"Removing last reference\")\n",
    "del t3 # __del__() will be called here\n",
    "print(\"End of program\")"
   ]
  },
  {
   "cell_type": "code",
   "execution_count": 94,
   "metadata": {},
   "outputs": [
    {
     "name": "stdout",
     "output_type": "stream",
     "text": [
      "Constructor Execution\n",
      "Constructor Execution\n",
      "Constructor Execution\n",
      "Destructor Execution\n",
      "Destructor Execution\n",
      "Destructor Execution\n"
     ]
    }
   ],
   "source": [
    "# another demo program\n",
    "class Test:\n",
    "    def __init__(self):\n",
    "        print(\"Constructor Execution\")\n",
    "        \n",
    "    def __del__(self):\n",
    "        print(\"Destructor Execution\")\n",
    "        \n",
    "l = [Test(), Test(), Test()]\n",
    "\n",
    "del l # it will call __del__() for all the 3 objects individually "
   ]
  },
  {
   "cell_type": "code",
   "execution_count": 97,
   "metadata": {},
   "outputs": [
    {
     "name": "stdout",
     "output_type": "stream",
     "text": [
      "3\n"
     ]
    }
   ],
   "source": [
    "### Important Interview Questions ###\n",
    "# 1. difference between \"del t1\" and \"t1 = None\"\n",
    "    # del t1 -> both object and variable will be removed\n",
    "    # t1 = None -> only the object will be removed and t1 is still accessible\n",
    "    \n",
    "# 2. How to find the number of references of an object?\n",
    "    # using sys module\n",
    "    \n",
    "import sys\n",
    "\n",
    "class Test:\n",
    "    pass\n",
    "\n",
    "t1 = Test()\n",
    "t2 = t1\n",
    "\n",
    "print(sys.getrefcount(t1)) # 2 references + 1 self reference created by python VM\n"
   ]
  },
  {
   "cell_type": "code",
   "execution_count": null,
   "metadata": {},
   "outputs": [],
   "source": []
  }
 ],
 "metadata": {
  "kernelspec": {
   "display_name": "Python 3",
   "language": "python",
   "name": "python3"
  },
  "language_info": {
   "codemirror_mode": {
    "name": "ipython",
    "version": 3
   },
   "file_extension": ".py",
   "mimetype": "text/x-python",
   "name": "python",
   "nbconvert_exporter": "python",
   "pygments_lexer": "ipython3",
   "version": "3.6.9-final"
  }
 },
 "nbformat": 4,
 "nbformat_minor": 4
}