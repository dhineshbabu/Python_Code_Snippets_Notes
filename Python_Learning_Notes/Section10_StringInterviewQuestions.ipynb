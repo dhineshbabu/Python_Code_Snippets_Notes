{
 "cells": [
  {
   "cell_type": "code",
   "execution_count": 6,
   "metadata": {},
   "outputs": [
    {
     "name": "stdin",
     "output_type": "stream",
     "text": [
      "Enter input string to reverse:  dhinesh\n"
     ]
    },
    {
     "name": "stdout",
     "output_type": "stream",
     "text": [
      "hsenihd\n"
     ]
    }
   ],
   "source": [
    "##Write a Program To REVERSE content of the given String by using slice operator\n",
    "s = input(\"Enter input string to reverse: \")\n",
    "print(s[::-1])"
   ]
  },
  {
   "cell_type": "code",
   "execution_count": 8,
   "metadata": {},
   "outputs": [
    {
     "name": "stdout",
     "output_type": "stream",
     "text": [
      "hsenihd\n"
     ]
    }
   ],
   "source": [
    "## using reversed() function ##\n",
    "r = reversed(s) # it will created <reversed object>\n",
    "output = \"\".join(r)\n",
    "print(output)"
   ]
  },
  {
   "cell_type": "code",
   "execution_count": 9,
   "metadata": {},
   "outputs": [
    {
     "name": "stdin",
     "output_type": "stream",
     "text": [
      "Enter input string to reverse:  dhinesh\n"
     ]
    },
    {
     "name": "stdout",
     "output_type": "stream",
     "text": [
      "reversed string is :  hsenihd\n"
     ]
    }
   ],
   "source": [
    "## reverse the content of the string using while loop\n",
    "s = input(\"Enter input string to reverse: \")\n",
    "output = \"\"\n",
    "i = len(s)-1\n",
    "while i >= 0:\n",
    "    output = output + s[i]\n",
    "    i = i-1\n",
    "print(\"reversed string is : \", output)\n",
    "    "
   ]
  },
  {
   "cell_type": "code",
   "execution_count": 13,
   "metadata": {},
   "outputs": [
    {
     "name": "stdin",
     "output_type": "stream",
     "text": [
      "Enter input string to change the order of words:  python is very good\n"
     ]
    },
    {
     "name": "stdout",
     "output_type": "stream",
     "text": [
      "good very is python\n"
     ]
    }
   ],
   "source": [
    "# program to reverse order of words in content\n",
    "s = input(\"Enter input string to change the order of words: \")\n",
    "l = s.split()\n",
    "l1 = l[::-1]\n",
    "print(\" \".join(l1))"
   ]
  },
  {
   "cell_type": "code",
   "execution_count": 16,
   "metadata": {},
   "outputs": [
    {
     "name": "stdin",
     "output_type": "stream",
     "text": [
      "Enter input string to change the internal content:   python is easy\n"
     ]
    },
    {
     "name": "stdout",
     "output_type": "stream",
     "text": [
      "nohtyp si ysae\n"
     ]
    }
   ],
   "source": [
    "# program to reverse internal content of each word in a string\n",
    "s = input(\"Enter input string to change the internal content:  \")\n",
    "l = s.split()\n",
    "l1 = []\n",
    "\n",
    "for word in l:\n",
    "    l1.append(word[::-1])\n",
    "print((\" \").join(l1))"
   ]
  },
  {
   "cell_type": "code",
   "execution_count": 18,
   "metadata": {},
   "outputs": [
    {
     "name": "stdout",
     "output_type": "stream",
     "text": [
      "one owt three ruof five xis\n"
     ]
    }
   ],
   "source": [
    "# program to rever the content of every second (2nd word, 4th word and etc.) word in the string\n",
    "s = \"one two three four five six\"\n",
    "l = s.split()\n",
    "i = 0\n",
    "l1 = []\n",
    "\n",
    "while i < len(l):\n",
    "    if i%2 == 0:\n",
    "        l1.append(l[i])\n",
    "    else:\n",
    "        l1.append(l[i][::-1])\n",
    "    i += 1\n",
    "    \n",
    "print((\" \").join(l1))\n"
   ]
  },
  {
   "cell_type": "code",
   "execution_count": 20,
   "metadata": {},
   "outputs": [
    {
     "name": "stdout",
     "output_type": "stream",
     "text": [
      "Characters at even index: \n",
      "d\n",
      "i\n",
      "e\n",
      "h\n",
      "a\n",
      "u\n",
      "Characters at odd index: \n",
      "h\n",
      "n\n",
      "s\n",
      "b\n",
      "b\n"
     ]
    }
   ],
   "source": [
    "# print characters present at even index and odd index seperately for the given string\n",
    "s = 'dhineshbabu'\n",
    "i=0\n",
    "print(\"Characters at even index: \")\n",
    "while i < len(s):\n",
    "    print(s[i])\n",
    "    i = i+2\n",
    "    \n",
    "i=1\n",
    "print(\"Characters at odd index: \")\n",
    "while i < len(s):\n",
    "    print(s[i])\n",
    "    i = i+2"
   ]
  },
  {
   "cell_type": "code",
   "execution_count": 21,
   "metadata": {},
   "outputs": [
    {
     "name": "stdout",
     "output_type": "stream",
     "text": [
      "Characters at even index: \n",
      "diehau\n",
      "Characters at odd index: \n",
      "hnsbb\n"
     ]
    }
   ],
   "source": [
    "# print characters present at even index and odd index seperately for the given string using slice opereator\n",
    "\n",
    "s = 'dhineshbabu'\n",
    "print(\"Characters at even index: \")\n",
    "print(s[0::2])\n",
    "print(\"Characters at odd index: \")\n",
    "print(s[1::2])"
   ]
  },
  {
   "cell_type": "code",
   "execution_count": 24,
   "metadata": {},
   "outputs": [
    {
     "name": "stdout",
     "output_type": "stream",
     "text": [
      "Dbhaibnuesh\n"
     ]
    }
   ],
   "source": [
    "#Program to merge characters of 2 strings by taking characters alternatively\n",
    "s1 = \"Dhinesh\"\n",
    "s2 = \"babu\"\n",
    "\n",
    "i, j = 0, 0\n",
    "output=\"\"\n",
    "\n",
    "while i<len(s1) or j<len(s2):\n",
    "    if i<len(s1):\n",
    "        output = output + s1[i]\n",
    "        i = i+1\n",
    "    if j<len(s2):\n",
    "        output = output + s2[j]\n",
    "        j = j+1\n",
    "print(output)"
   ]
  },
  {
   "cell_type": "code",
   "execution_count": 25,
   "metadata": {},
   "outputs": [
    {
     "name": "stdout",
     "output_type": "stream",
     "text": [
      "['1', '3', '4', 'A', 'B', 'D']\n"
     ]
    }
   ],
   "source": [
    "# Program:Sort characters of the string, first alphabet symbols followed by digits\n",
    "s = \"B4A1D3\"\n",
    "print(sorted(s))"
   ]
  },
  {
   "cell_type": "code",
   "execution_count": 31,
   "metadata": {},
   "outputs": [
    {
     "name": "stdout",
     "output_type": "stream",
     "text": [
      "ABD134\n"
     ]
    }
   ],
   "source": [
    "#another methods\n",
    "s = \"B4A1D3\"\n",
    "alphabets = []\n",
    "digits = []\n",
    "\n",
    "for ch in s:\n",
    "    if ch.isalpha():\n",
    "        alphabets.append(ch)\n",
    "    else:\n",
    "        digits.append(ch)\n",
    "print(\"\".join(sorted(alphabets)+sorted(digits)))\n"
   ]
  },
  {
   "cell_type": "code",
   "execution_count": 33,
   "metadata": {},
   "outputs": [
    {
     "name": "stdout",
     "output_type": "stream",
     "text": [
      "aaaacccdd\n"
     ]
    }
   ],
   "source": [
    "# Program for the requirement,input a4b3c2 and expected output aaaabbbcc\n",
    "s = \"a4c3d2\"\n",
    "output = \"\"\n",
    "\n",
    "for ch in s:\n",
    "    if ch.isalpha():\n",
    "        x = ch\n",
    "    else:\n",
    "        output = output + x*int(ch)\n",
    "print(output)"
   ]
  },
  {
   "cell_type": "code",
   "execution_count": 36,
   "metadata": {},
   "outputs": [
    {
     "name": "stdout",
     "output_type": "stream",
     "text": [
      "aaaaddzzz\n"
     ]
    }
   ],
   "source": [
    "#Program for the requirement,input a3z2b4 and expected output aaabbbbzz\n",
    "s = \"a4z3d2\"\n",
    "output = \"\"\n",
    "\n",
    "for ch in s:\n",
    "    if ch.isalpha():\n",
    "        x = ch\n",
    "    else:\n",
    "        output = output + x*int(ch)\n",
    "print(\"\".join(sorted(output)))"
   ]
  },
  {
   "cell_type": "code",
   "execution_count": 39,
   "metadata": {},
   "outputs": [
    {
     "name": "stdout",
     "output_type": "stream",
     "text": [
      "4a3b2c1z\n"
     ]
    }
   ],
   "source": [
    "# Program for the requirement,input aaaabbbccz and expected output 4a3b2c1z\n",
    "s = 'aaaabbbccz'\n",
    "previous = s[0]\n",
    "output = \"\"\n",
    "c = 1\n",
    "i = 1\n",
    "\n",
    "while i < len(s):\n",
    "    if s[i] == previous:\n",
    "        c = c+1\n",
    "    else:\n",
    "        output = output + str(c) + previous\n",
    "        previous = s[i]\n",
    "        c = 1\n",
    "        \n",
    "    if i == len(s) -1:\n",
    "        output = output + str(c) + previous\n",
    "    i = i+1\n",
    "\n",
    "print(output)"
   ]
  },
  {
   "cell_type": "code",
   "execution_count": 2,
   "metadata": {},
   "outputs": [
    {
     "name": "stdout",
     "output_type": "stream",
     "text": "aeknbd\n"
    }
   ],
   "source": [
    "# Program for the requirement,input a4k3b2 and expected output aeknbd\n",
    "# we have to use ord() and chr() functions\n",
    "\n",
    "s = 'a4k3b2'\n",
    "output = \"\"\n",
    "\n",
    "for ch in s:\n",
    "    if ch.isalpha():\n",
    "        output = output + ch\n",
    "        x = ch\n",
    "    else:\n",
    "        output = output + (chr(ord(x) + int(ch)))\n",
    "print(output)"
   ]
  },
  {
   "cell_type": "code",
   "execution_count": 41,
   "metadata": {},
   "outputs": [
    {
     "name": "stdout",
     "output_type": "stream",
     "text": [
      "ABDC\n"
     ]
    }
   ],
   "source": [
    "# Program to remove duplicate characters from the given input String\n",
    "s = \"ABBDDDC\"\n",
    "output = \"\"\n",
    "\n",
    "for ch in s:\n",
    "    if ch not in output:\n",
    "        output = output + ch\n",
    "print(output)"
   ]
  },
  {
   "cell_type": "code",
   "execution_count": 42,
   "metadata": {},
   "outputs": [
    {
     "name": "stdout",
     "output_type": "stream",
     "text": [
      "ABDC\n"
     ]
    }
   ],
   "source": [
    "# another method to remove the duplicates\n",
    "s = \"ABBDDDC\"\n",
    "l = []\n",
    "\n",
    "for ch in s:\n",
    "    if ch not in l:\n",
    "        l.append(ch)\n",
    "print(\"\".join(l))"
   ]
  },
  {
   "cell_type": "code",
   "execution_count": 44,
   "metadata": {},
   "outputs": [
    {
     "name": "stdout",
     "output_type": "stream",
     "text": [
      "BADC\n"
     ]
    }
   ],
   "source": [
    "# another method to remove duplicated - using sets. But order can not be guranteed\n",
    "s = \"ABBDDDC\"\n",
    "s1 = set(s)\n",
    "output = \"\".join(s1)\n",
    "print(output)"
   ]
  },
  {
   "cell_type": "code",
   "execution_count": 46,
   "metadata": {},
   "outputs": [
    {
     "name": "stdout",
     "output_type": "stream",
     "text": [
      "A occurs 1 times\n",
      "B occurs 2 times\n",
      "C occurs 1 times\n",
      "D occurs 3 times\n"
     ]
    }
   ],
   "source": [
    "# Find no of occurrences of each character present in given string with count( )\n",
    "s = \"ABBDDDC\"\n",
    "l = []\n",
    "\n",
    "for ch in s:\n",
    "    if ch not in l:\n",
    "        l.append(ch)\n",
    "for ch in sorted(l):\n",
    "    print(\"{} occurs {} times\".format(ch, s.count(ch)))"
   ]
  },
  {
   "cell_type": "code",
   "execution_count": 47,
   "metadata": {
    "collapsed": true,
    "jupyter": {
     "outputs_hidden": true
    }
   },
   "outputs": [
    {
     "name": "stdout",
     "output_type": "stream",
     "text": [
      "A occurs 1 times\n",
      "B occurs 2 times\n",
      "C occurs 1 times\n",
      "D occurs 3 times\n"
     ]
    }
   ],
   "source": [
    "# using set in the above methods\n",
    "s = \"ABBDDDC\"\n",
    "s1 = set(s)\n",
    "\n",
    "for ch in sorted(s1):\n",
    "    print(\"{} occurs {} times\".format(ch, s.count(ch)))"
   ]
  },
  {
   "cell_type": "code",
   "execution_count": 48,
   "metadata": {},
   "outputs": [
    {
     "name": "stdout",
     "output_type": "stream",
     "text": [
      "100\n",
      "None\n"
     ]
    }
   ],
   "source": [
    "# Important Conclusions about dictionary \n",
    "d = {\"A\": 100, \"B\":200}\n",
    "print(d.get(\"A\"))\n",
    "print(d.get(\"C\")) #None will be returned"
   ]
  },
  {
   "cell_type": "code",
   "execution_count": 49,
   "metadata": {},
   "outputs": [
    {
     "name": "stdout",
     "output_type": "stream",
     "text": [
      "{'A': 101, 'B': 200}\n"
     ]
    }
   ],
   "source": [
    "d['A'] = d.get('A', 0) + 1 # if a is not avialbel then assign 0\n",
    "print(d)"
   ]
  },
  {
   "cell_type": "code",
   "execution_count": 50,
   "metadata": {},
   "outputs": [
    {
     "name": "stdout",
     "output_type": "stream",
     "text": [
      "A 101\n",
      "B 200\n"
     ]
    }
   ],
   "source": [
    "for k, v in sorted(d.items()): # will be sorted based on keys\n",
    "    print(k, v)"
   ]
  },
  {
   "cell_type": "code",
   "execution_count": 53,
   "metadata": {},
   "outputs": [
    {
     "name": "stdout",
     "output_type": "stream",
     "text": [
      "A occurs 1 times\n",
      "B occurs 2 times\n",
      "C occurs 1 times\n",
      "D occurs 3 times\n"
     ]
    }
   ],
   "source": [
    "# No of occurrences of each character present in given string without count() but using dictionary\n",
    "s = \"ABBDDDC\"\n",
    "d = {}\n",
    "for ch in s:\n",
    "    d[ch] = d.get(ch, 0) + 1\n",
    "    \n",
    "for k,v in sorted(d.items()):\n",
    "    print(\"{} occurs {} times\".format(k,v))"
   ]
  },
  {
   "cell_type": "code",
   "execution_count": 55,
   "metadata": {},
   "outputs": [
    {
     "name": "stdout",
     "output_type": "stream",
     "text": [
      "1A2B1C3D\n"
     ]
    }
   ],
   "source": [
    "# Program for the requirement,input: ABAABBCA and expected output: 4A3B1C\n",
    "s = \"ABBDDDC\"\n",
    "d = {}\n",
    "\n",
    "for ch in s:\n",
    "    d[ch] = d.get(ch, 0) + 1\n",
    "output = \"\"\n",
    "\n",
    "for k,v in sorted(d.items()):\n",
    "    output = output + str(v) + k\n",
    "    \n",
    "print(output)"
   ]
  },
  {
   "cell_type": "code",
   "execution_count": 56,
   "metadata": {},
   "outputs": [
    {
     "name": "stdout",
     "output_type": "stream",
     "text": [
      "A4B3C1\n"
     ]
    }
   ],
   "source": [
    "# Program for the requirement,input: ABAABBCA and expected output: A4B3C1 using dictionary\n",
    "s = \"ABAABBCA\"\n",
    "d = {}\n",
    "for ch in s:\n",
    "    d[ch] = d.get(ch, 0) + 1\n",
    "    \n",
    "output = \"\"\n",
    "\n",
    "for k,v in sorted(d.items()):\n",
    "    output = output + k + str(v)\n",
    "    \n",
    "print(output)"
   ]
  },
  {
   "cell_type": "code",
   "execution_count": 61,
   "metadata": {},
   "outputs": [
    {
     "name": "stdout",
     "output_type": "stream",
     "text": [
      "{'I': 2, 'E': 2, 'O': 3, 'A': 1, 'U': 1, 'a': 3, 'e': 1, 'u': 1, 'i': 1}\n",
      "A occurs at 1 times\n",
      "E occurs at 2 times\n",
      "I occurs at 2 times\n",
      "O occurs at 3 times\n",
      "U occurs at 1 times\n",
      "a occurs at 3 times\n",
      "e occurs at 1 times\n",
      "i occurs at 1 times\n",
      "u occurs at 1 times\n"
     ]
    }
   ],
   "source": [
    "# Program to find the number of occurrences of each vowel present in given string\n",
    "s = \"DHINESH SOFTWARE SOLUTIONS and an apple fruit\"\n",
    "v = {'a', 'e', 'i', 'o', 'u', 'A', 'E', 'I', \"O\", \"U\"}\n",
    "d = {}\n",
    "\n",
    "for ch in s:\n",
    "    if ch in v:\n",
    "        d[ch] = d.get(ch, 0) + 1\n",
    "        \n",
    "print(d)\n",
    "\n",
    "for k,v in sorted(d.items()):\n",
    "    print(\"{} occurs at {} times\".format(k, v))"
   ]
  },
  {
   "cell_type": "code",
   "execution_count": 62,
   "metadata": {},
   "outputs": [
    {
     "name": "stdout",
     "output_type": "stream",
     "text": [
      "Both the strings are anagrams\n"
     ]
    }
   ],
   "source": [
    "# Program to check whether the given two strings are anagrams or not?\n",
    "#Anagrams - both the string will have the same characters but order not important lick \"listen\" and \"silent\"\n",
    "\n",
    "s1 = \"listen\"\n",
    "s2 = \"slient\"\n",
    "\n",
    "if sorted(s1) ==  sorted(s2):\n",
    "    print(\"Both the strings are anagrams\")\n",
    "else:\n",
    "    print(\"Both the strings are not anagrams\")"
   ]
  },
  {
   "cell_type": "code",
   "execution_count": 65,
   "metadata": {},
   "outputs": [
    {
     "name": "stdout",
     "output_type": "stream",
     "text": [
      "The given string is palindrome\n"
     ]
    }
   ],
   "source": [
    "# Program to check whether the given string is palindrome or not?\n",
    "s = \"level\"\n",
    "\n",
    "if s == s[::-1]:\n",
    "    print(\"The given string is palindrome\")\n",
    "else:\n",
    "    print(\"The given string is not palindrome\")\n"
   ]
  },
  {
   "cell_type": "code",
   "execution_count": 68,
   "metadata": {},
   "outputs": [
    {
     "name": "stdout",
     "output_type": "stream",
     "text": [
      "ax1\n",
      "by2\n",
      "cz3\n",
      "d4\n",
      "e5\n",
      "fd\n",
      "gf\n",
      "s\n",
      "d\n",
      "f\n"
     ]
    }
   ],
   "source": [
    "# To generate words from given input strings by taking characters alternatively\n",
    "s1 = 'abcdefg'\n",
    "s2 = 'xyz'\n",
    "s3 = '12345dfsdf'\n",
    "i=j=k=0\n",
    "\n",
    "while i<len(s1) or j<len(s2) or k<len(s3):\n",
    "    output = \"\"\n",
    "    if i<len(s1):\n",
    "        output = output + s1[i]\n",
    "        i = i+1\n",
    "    if j<len(s2):\n",
    "        output = output + s2[j]\n",
    "        j = j+1\n",
    "    if k<len(s3):\n",
    "        output = output + s3[k]\n",
    "        k = k+1\n",
    "    print(output)\n",
    "        \n"
   ]
  },
  {
   "cell_type": "code",
   "execution_count": null,
   "metadata": {},
   "outputs": [],
   "source": []
  }
 ],
 "metadata": {
  "kernelspec": {
   "display_name": "Python 3",
   "language": "python",
   "name": "python3"
  },
  "language_info": {
   "codemirror_mode": {
    "name": "ipython",
    "version": 3
   },
   "file_extension": ".py",
   "mimetype": "text/x-python",
   "name": "python",
   "nbconvert_exporter": "python",
   "pygments_lexer": "ipython3",
   "version": "3.6.9-final"
  }
 },
 "nbformat": 4,
 "nbformat_minor": 4
}