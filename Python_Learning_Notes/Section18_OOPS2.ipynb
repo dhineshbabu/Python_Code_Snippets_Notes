{
 "cells": [
  {
   "cell_type": "markdown",
   "metadata": {},
   "source": [
    "***\n",
    "### Options to use members of one class inside another class #\n",
    "* 1. By has-a relationship (composition)\n",
    "* 2. By Is-a relationship (Inheritance)\n",
    "***"
   ]
  },
  {
   "cell_type": "code",
   "execution_count": 1,
   "metadata": {},
   "outputs": [
    {
     "name": "stdout",
     "output_type": "stream",
     "text": [
      "car required engine functionality\n",
      "Engine specific functionality\n"
     ]
    }
   ],
   "source": [
    "## Composition - Has A relationship ##\n",
    "# relationship between Car and Engine\n",
    "# Reusing functionality wherever required\n",
    "\n",
    "class Engine:\n",
    "    \n",
    "    def m1(self):\n",
    "        print(\"Engine specific functionality\")\n",
    "        \n",
    "class Car:\n",
    "    \n",
    "    def __init__(self):\n",
    "        self.engine = Engine() # using engine object inside Car -> Composition\n",
    "        \n",
    "    def m2(self):\n",
    "        print(\"car required engine functionality\")\n",
    "        self.engine.m1() \n",
    "        \n",
    "c = Car()\n",
    "c.m2()"
   ]
  },
  {
   "cell_type": "code",
   "execution_count": 3,
   "metadata": {},
   "outputs": [
    {
     "name": "stdout",
     "output_type": "stream",
     "text": [
      "Employee name:  Dhinesh\n",
      "Employee Number:  500454\n",
      "car Name Innova, car model 2.5v, Car color Gray\n",
      "Employee Car Info:  None\n"
     ]
    }
   ],
   "source": [
    "## Another example - has a relationship\n",
    "\n",
    "class Car:\n",
    "    \n",
    "    def __init__(self, name, model,color):\n",
    "        self.name = name\n",
    "        self.model = model\n",
    "        self.color = color\n",
    "    \n",
    "    def getInfo(self):\n",
    "        print(\"car Name {}, car model {}, Car color {}\".format(self.name, self.model, self.color))\n",
    "\n",
    "class Employee:\n",
    "    \n",
    "    def __init__(self, ename, eno, car):\n",
    "        self.ename = ename\n",
    "        self.eno = eno\n",
    "        self.car = car\n",
    "        \n",
    "    def empInfo(self):\n",
    "        print(\"Employee name: \", self.ename)\n",
    "        print(\"Employee Number: \", self.eno)\n",
    "        print(\"Employee Car Info: \", self.car.getInfo())\n",
    "        \n",
    "car = Car(\"Innova\", \"2.5v\", \"Gray\")\n",
    "emp = Employee(\"Dhinesh\", 500454, car )\n",
    "emp.empInfo()"
   ]
  },
  {
   "cell_type": "markdown",
   "metadata": {},
   "source": [
    "*** \n",
    "### Is-A Relationship - Inheritance\n",
    "***"
   ]
  },
  {
   "cell_type": "code",
   "execution_count": 6,
   "metadata": {},
   "outputs": [
    {
     "name": "stdout",
     "output_type": "stream",
     "text": [
      "Parent Constructor\n",
      "Parent Instance method\n",
      "Parent class method\n",
      "Parent static method\n",
      "10\n",
      "20\n"
     ]
    }
   ],
   "source": [
    "### Is-A Relationship ### Inheritance\n",
    "\n",
    "class P:\n",
    "    a = 10\n",
    "    \n",
    "    def __init__(self):\n",
    "        print('Parent Constructor')\n",
    "        self.b = 20\n",
    "    \n",
    "    def m1(self):\n",
    "        print(\"Parent Instance method\")\n",
    "        \n",
    "    @classmethod\n",
    "    def m2(cls):\n",
    "        print(\"Parent class method\")\n",
    "        \n",
    "    @staticmethod\n",
    "    def m3():\n",
    "        print(\"Parent static method\")\n",
    "        \n",
    "class C(P):\n",
    "    pass\n",
    "        \n",
    "c = C() #parent constructor will be executed\n",
    "c.m1()\n",
    "C.m2()\n",
    "C.m3()\n",
    "print(c.a) #parent class static variable\n",
    "print(c.b) # parent class instance variable"
   ]
  },
  {
   "cell_type": "code",
   "execution_count": 9,
   "metadata": {},
   "outputs": [
    {
     "name": "stdout",
     "output_type": "stream",
     "text": [
      "Eat and Drink...\n",
      "Coding python program\n",
      "Dhinesh\n",
      "50\n",
      "5454\n",
      "5000\n"
     ]
    }
   ],
   "source": [
    "# Demo program for inheritance\n",
    "class Person:\n",
    "    def __init__(self, name, age):\n",
    "        self.name = name\n",
    "        self.age = age\n",
    "        \n",
    "    def eatdrink(self):\n",
    "        print(\"Eat and Drink...\")\n",
    "        \n",
    "class Employee(Person):\n",
    "    def __init__(self, name, age, eno, esal):\n",
    "        super().__init__(name, age) # calling super class constructor\n",
    "        self.eno = eno\n",
    "        self.esal = esal\n",
    "        \n",
    "    def work(self):\n",
    "        print(\"Coding python program\")\n",
    "        \n",
    "    def empinfo(self):\n",
    "        print(self.name)\n",
    "        print(self.age)\n",
    "        print(self.eno)\n",
    "        print(self.esal)\n",
    "        \n",
    "e = Employee(\"Dhinesh\", 50,5454,5000)\n",
    "e.eatdrink()\n",
    "e.work()\n",
    "e.empinfo()"
   ]
  },
  {
   "cell_type": "markdown",
   "metadata": {},
   "source": [
    "***\n",
    "### Composition vs Aggregation ###\n",
    "* both are has-a relationship\n",
    "* composition - Strong association (University and Department) (Initiating objects within contained objects)\n",
    "* Aggretation - Weak association (Department and Professors) (Initiating objects outside contained objects)\n",
    "***"
   ]
  },
  {
   "cell_type": "markdown",
   "metadata": {},
   "source": [
    "## Types of Inheritance ##\n",
    "\n",
    "* Single inheritance\n",
    "* Multilevel\n",
    "* Hierarchical\n",
    "* Multiple\n",
    "* Hybrid\n",
    "* Cyclic\n"
   ]
  },
  {
   "cell_type": "code",
   "execution_count": 10,
   "metadata": {},
   "outputs": [
    {
     "name": "stdout",
     "output_type": "stream",
     "text": [
      "Parent Method\n",
      "child Method\n"
     ]
    }
   ],
   "source": [
    "# single inheritance # single parent -> single child\n",
    "class P:\n",
    "    def m1(self):\n",
    "        print(\"Parent Method\")\n",
    "        \n",
    "class C(P):\n",
    "    def m2(self):\n",
    "        print(\"child Method\")\n",
    "\n",
    "c = C()\n",
    "c.m1()\n",
    "c.m2()"
   ]
  },
  {
   "cell_type": "code",
   "execution_count": 12,
   "metadata": {},
   "outputs": [
    {
     "name": "stdout",
     "output_type": "stream",
     "text": [
      "Grand Parent Method\n",
      "Parent Method\n",
      "child Method\n"
     ]
    }
   ],
   "source": [
    "# Multi level inheritance # grandparent -> parent -> child\n",
    "# Both parent and grandparent members available to the child class\n",
    "class P1:\n",
    "    def m1(self):\n",
    "        print(\"Grand Parent Method\")\n",
    "        \n",
    "class P(P1):\n",
    "    def m2(self):\n",
    "        print(\"Parent Method\")\n",
    "        \n",
    "class C(P):\n",
    "    def m3(self):\n",
    "        print(\"child Method\")\n",
    "        \n",
    "c = C()\n",
    "c.m1()\n",
    "c.m2()\n",
    "c.m3()"
   ]
  },
  {
   "cell_type": "code",
   "execution_count": 15,
   "metadata": {},
   "outputs": [
    {
     "name": "stdout",
     "output_type": "stream",
     "text": [
      "Parent Method\n",
      "child1 c2 Method\n",
      "Parent Method\n",
      "child2 c2 Method\n"
     ]
    }
   ],
   "source": [
    "# Hierarchical inheritance #  parent -> multiple child classes at the same level\n",
    "class P:\n",
    "    def m1(self):\n",
    "        print(\"Parent Method\")\n",
    "        \n",
    "class C1(P):\n",
    "    def m2(self):\n",
    "        print(\"child1 c2 Method\")\n",
    "        \n",
    "class C2(P):\n",
    "    def m2(self):\n",
    "        print(\"child2 c2 Method\")\n",
    "\n",
    "c1 = C1()\n",
    "c2 = C2()\n",
    "c1.m1()\n",
    "c1.m2()\n",
    "c2.m1()\n",
    "c2.m2()"
   ]
  },
  {
   "cell_type": "code",
   "execution_count": 17,
   "metadata": {},
   "outputs": [
    {
     "name": "stdout",
     "output_type": "stream",
     "text": [
      "Parent1 Method\n",
      "Parent1 Method\n",
      "child Method\n"
     ]
    }
   ],
   "source": [
    "# Multiple inheritance # multiple parent -> single child\n",
    "\n",
    "class P1:\n",
    "    def m1(self):\n",
    "        print(\"Parent1 Method\")\n",
    "        \n",
    "class P2:\n",
    "    def m2(self):\n",
    "        print(\"Parent2 Method\")\n",
    "        \n",
    "class C(P1,P2):\n",
    "    def m3(self):\n",
    "        print(\"child Method\")\n",
    "        \n",
    "c = C()\n",
    "\n",
    "c.m1()\n",
    "c.m2()\n",
    "c.m3()"
   ]
  },
  {
   "cell_type": "code",
   "execution_count": 18,
   "metadata": {},
   "outputs": [
    {
     "name": "stdout",
     "output_type": "stream",
     "text": [
      "Parent1 Method\n",
      "child Method\n"
     ]
    }
   ],
   "source": [
    "# Diamond access problem in python is resolved by Method Resolution Order\n",
    "class P1:\n",
    "    def m1(self):\n",
    "        print(\"Parent1 Method\")\n",
    "        \n",
    "class P2:\n",
    "    def m1(self): # both parents contain m1() method\n",
    "        print(\"Parent2 Method\")\n",
    "        \n",
    "class C(P1,P2): # MRO is applied here. Python will search in P1 first and then in P2\n",
    "    def m3(self):\n",
    "        print(\"child Method\")\n",
    "        \n",
    "c = C()\n",
    "c.m1() # found in P1 so that will be considered\n",
    "c.m3()"
   ]
  },
  {
   "cell_type": "code",
   "execution_count": 19,
   "metadata": {},
   "outputs": [
    {
     "ename": "NameError",
     "evalue": "name 'A' is not defined",
     "output_type": "error",
     "traceback": [
      "\u001b[1;31m---------------------------------------------------------------------------\u001b[0m",
      "\u001b[1;31mNameError\u001b[0m                                 Traceback (most recent call last)",
      "\u001b[1;32m<ipython-input-19-a4f26630b4b6>\u001b[0m in \u001b[0;36m<module>\u001b[1;34m\u001b[0m\n\u001b[0;32m      1\u001b[0m \u001b[1;31m# Hybrid Inheritance # Mix of all inheritances\u001b[0m\u001b[1;33m\u001b[0m\u001b[1;33m\u001b[0m\u001b[1;33m\u001b[0m\u001b[0m\n\u001b[0;32m      2\u001b[0m \u001b[1;31m# Cyclic inheritance # Parent is the child of itself or Parent <-> Child. There is no support for cyclic inheritance in python (even in Java)\u001b[0m\u001b[1;33m\u001b[0m\u001b[1;33m\u001b[0m\u001b[1;33m\u001b[0m\u001b[0m\n\u001b[1;32m----> 3\u001b[1;33m \u001b[1;32mclass\u001b[0m \u001b[0mA\u001b[0m\u001b[1;33m(\u001b[0m\u001b[0mA\u001b[0m\u001b[1;33m)\u001b[0m\u001b[1;33m:\u001b[0m\u001b[1;33m\u001b[0m\u001b[1;33m\u001b[0m\u001b[0m\n\u001b[0m\u001b[0;32m      4\u001b[0m     \u001b[1;32mpass\u001b[0m\u001b[1;33m\u001b[0m\u001b[1;33m\u001b[0m\u001b[0m\n",
      "\u001b[1;31mNameError\u001b[0m: name 'A' is not defined"
     ]
    }
   ],
   "source": [
    "# Hybrid Inheritance # Mix of all inheritances\n",
    "# Cyclic inheritance # Parent is the child of itself or Parent <-> Child. There is no support for cyclic inheritance in python (even in Java)\n",
    "class A(A):\n",
    "    pass"
   ]
  },
  {
   "cell_type": "markdown",
   "metadata": {},
   "source": [
    "***\n",
    "### MRO ALGORITHM ### in hybrid inheritance\n",
    "* we can usr classname.mro() method to identify the method resolution order of a class\n",
    "* it the member is not found, will get AttributeError\n",
    "***"
   ]
  },
  {
   "cell_type": "code",
   "execution_count": 20,
   "metadata": {},
   "outputs": [
    {
     "name": "stdout",
     "output_type": "stream",
     "text": [
      "[<class '__main__.A'>, <class 'object'>]\n",
      "[<class '__main__.B'>, <class '__main__.A'>, <class 'object'>]\n",
      "[<class '__main__.C'>, <class '__main__.A'>, <class 'object'>]\n",
      "[<class '__main__.D'>, <class '__main__.B'>, <class '__main__.C'>, <class '__main__.A'>, <class 'object'>]\n"
     ]
    }
   ],
   "source": [
    "### MRO ALGORITHM ### in hybrid inheritance\n",
    "# we can usr classname.mro() method to identify the method resolution order of a class\n",
    "# it the member is not found, will get AttributeError\n",
    "class A: pass\n",
    "class B(A): pass\n",
    "class C(A): pass\n",
    "class D(B,C): pass\n",
    "\n",
    "print(A.mro())\n",
    "print(B.mro())\n",
    "print(C.mro())\n",
    "print(D.mro())"
   ]
  },
  {
   "cell_type": "markdown",
   "metadata": {},
   "source": [
    "# MRO algorithm for complex inheritance structure\n",
    "![title](img/section18_OOPS1.png)"
   ]
  },
  {
   "cell_type": "code",
   "execution_count": 25,
   "metadata": {},
   "outputs": [
    {
     "name": "stdout",
     "output_type": "stream",
     "text": [
      "[<class '__main__.A'>, <class 'object'>]\n",
      "[<class '__main__.B'>, <class 'object'>]\n",
      "[<class '__main__.C'>, <class 'object'>]\n",
      "[<class '__main__.D'>, <class '__main__.A'>, <class '__main__.B'>, <class 'object'>]\n",
      "[<class '__main__.E'>, <class '__main__.B'>, <class '__main__.C'>, <class 'object'>]\n",
      "[<class '__main__.F'>, <class '__main__.D'>, <class '__main__.A'>, <class '__main__.E'>, <class '__main__.B'>, <class '__main__.C'>, <class 'object'>]\n"
     ]
    }
   ],
   "source": [
    "class A: pass\n",
    "class B: pass\n",
    "class C: pass\n",
    "class D(A,B): pass\n",
    "class E(B,C): pass\n",
    "class F(D,E,C): pass\n",
    "\n",
    "#Level1\n",
    "print(A.mro())\n",
    "print(B.mro())\n",
    "print(C.mro())\n",
    "# Level2\n",
    "print(D.mro())\n",
    "print(E.mro())\n",
    "# Level3\n",
    "print(F.mro())"
   ]
  },
  {
   "cell_type": "code",
   "execution_count": null,
   "metadata": {},
   "outputs": [],
   "source": [
    "## MRO follows C3 Algorithm\n",
    "# it follows Depth First Left to Right (DLR) method\n",
    "    # child will get more priority than parent\n",
    "    # Left parent will get more priority than right parent\n",
    "# MRO(X) = x + Merge(MRO(p1), MRO(p2), MRO(p3),.., parentlist)\n",
    "# Head Element vs Tail: C1 C2 C3 C4 (here C1 is head and other classes are tail (C2 C3 C4))\n",
    "# How merge works\n",
    "    # if head is not present in tail part of any other list, add thhis add elemtn to the list and remove the element from everywhere in the list\n",
    "    # if head present in tail part of the list then consider the head element of the next list and continue the same process\n",
    "        (ABC, BCD, DEF)\n",
    "\n",
    "# for the above structure\n",
    "step1: mro(F) = F + Merge(mro(D),mro(E),mro(C),DEC)\n",
    "step2: mro(F) = F + Merge(DABO,EBCO,CO,DEC)\n",
    "stpe3: mro(F) = F + D + Merge(ABO, EBCO, CO, EC)\n",
    "stpe4: mro(F) = F + D + A + Merge(BO, EBCO, CO, EC)\n",
    "stpe5: mro(F) = F + D + A + E + Merge(BO, BCO, CO, EC)\n",
    "stpe6: mro(F) = F + D + A + E + B + Merge(O, CO, CO, C)\n",
    "stpe7: mro(F) = F + D + A + E + B + C + Merge(O, O, O)\n",
    "stpe8: mro(F) = F + D + A + E + B + C + O\n",
    "Result: [<class '__main__.F'>, <class '__main__.D'>, <class '__main__.A'>, <class '__main__.E'>, <class '__main__.B'>, <class '__main__.C'>, <class 'object'>]\n",
    "    "
   ]
  },
  {
   "cell_type": "markdown",
   "metadata": {},
   "source": [
    "***\n",
    "### super() function \n",
    "* if parent and child are having the same name members, we need to use super to access parent method\n",
    "* immeidate super class will get the priority\n",
    "***"
   ]
  },
  {
   "cell_type": "code",
   "execution_count": 29,
   "metadata": {},
   "outputs": [
    {
     "name": "stdout",
     "output_type": "stream",
     "text": [
      "Parent Method\n",
      "child Method\n"
     ]
    }
   ],
   "source": [
    "### super() function ### if parent and child is having the same name members, we need to use super to access parent method\n",
    "# immeidate super class will get the priority\n",
    "class P:\n",
    "    def m1(self):\n",
    "        print(\"Parent Method\")\n",
    "        \n",
    "class C(P):\n",
    "    def m1(self):\n",
    "        super().m1() # calling parent class m1() within child class\n",
    "        print(\"child Method\")\n",
    "\n",
    "c = C()\n",
    "c.m1()"
   ]
  },
  {
   "cell_type": "code",
   "execution_count": 32,
   "metadata": {},
   "outputs": [
    {
     "name": "stdout",
     "output_type": "stream",
     "text": [
      "Child constructor\n",
      "10\n",
      "Parent instance method\n",
      "Parent class method\n",
      "Parent static method\n",
      "Parent constructor\n"
     ]
    }
   ],
   "source": [
    "# demo program using super() method\n",
    "\n",
    "class P:\n",
    "    a = 10\n",
    "    \n",
    "    def __init__(self):\n",
    "        print(\"Parent constructor\")\n",
    "        \n",
    "    def m1(self):\n",
    "        print(\"Parent instance method\")\n",
    "        \n",
    "    @classmethod\n",
    "    def m2(cls):\n",
    "        print(\"Parent class method\")\n",
    "        \n",
    "    @staticmethod\n",
    "    def m3():\n",
    "        print(\"Parent static method\")\n",
    "        \n",
    "class C(P):\n",
    "    \n",
    "    def __init__(self):\n",
    "        print(\"Child constructor\")\n",
    "        \n",
    "    def method1(self):\n",
    "        print(super().a) # THis is only for static variables\n",
    "        super().m1()\n",
    "        super().m2()\n",
    "        super().m3()\n",
    "        super().__init__()\n",
    "        \n",
    "\n",
    "c = C()\n",
    "c.method1()"
   ]
  },
  {
   "cell_type": "code",
   "execution_count": null,
   "metadata": {},
   "outputs": [],
   "source": [
    "# to call a specific superclass method\n",
    "# 1. Use classname.methodname(self)  -> P.m1(self)\n",
    "# 2. super(classname, self).methodname()  -> super(P's super class, self).m1() # Note P's super class and not P"
   ]
  },
  {
   "cell_type": "code",
   "execution_count": 35,
   "metadata": {},
   "outputs": [
    {
     "name": "stdout",
     "output_type": "stream",
     "text": [
      "888\n",
      "999\n",
      "888\n",
      "999\n"
     ]
    }
   ],
   "source": [
    "## super() vs Parent class instance variables\n",
    "# if parent and child has instance variable with same name, we can not access parent class variable from child class\n",
    "# but for static variables, we can access using super().static variablename\n",
    "class P:\n",
    "    a = 888\n",
    "    \n",
    "    def __init__(self):\n",
    "        self.b = 999\n",
    "        \n",
    "class C(P):\n",
    "    def m1(self):\n",
    "        print(self.a)\n",
    "        print(self.b)\n",
    "        print(super().a)\n",
    "        #print(super().b)# we cant use super() for parent class instance variable. we should use self\n",
    "        print(self.b)\n",
    "        \n",
    "c = C()\n",
    "c.m1()"
   ]
  },
  {
   "cell_type": "code",
   "execution_count": 41,
   "metadata": {},
   "outputs": [
    {
     "name": "stdout",
     "output_type": "stream",
     "text": [
      "Parent constructor\n",
      "Parent instance method\n",
      "Parent class method\n",
      "Parent static method\n",
      "Parent constructor\n",
      "Parent instance method\n",
      "Parent class method\n",
      "Parent static method\n",
      "Parent class method\n",
      "Parent static method\n"
     ]
    },
    {
     "ename": "RuntimeError",
     "evalue": "super(): no arguments",
     "output_type": "error",
     "traceback": [
      "\u001b[1;31m---------------------------------------------------------------------------\u001b[0m",
      "\u001b[1;31mRuntimeError\u001b[0m                              Traceback (most recent call last)",
      "\u001b[1;32m<ipython-input-41-aeb25e5f091c>\u001b[0m in \u001b[0;36m<module>\u001b[1;34m\u001b[0m\n\u001b[0;32m     46\u001b[0m \u001b[0mc\u001b[0m\u001b[1;33m.\u001b[0m\u001b[0mm1\u001b[0m\u001b[1;33m(\u001b[0m\u001b[1;33m)\u001b[0m\u001b[1;33m\u001b[0m\u001b[1;33m\u001b[0m\u001b[0m\n\u001b[0;32m     47\u001b[0m \u001b[0mC\u001b[0m\u001b[1;33m.\u001b[0m\u001b[0mm2\u001b[0m\u001b[1;33m(\u001b[0m\u001b[1;33m)\u001b[0m\u001b[1;33m\u001b[0m\u001b[1;33m\u001b[0m\u001b[0m\n\u001b[1;32m---> 48\u001b[1;33m \u001b[0mc\u001b[0m\u001b[1;33m.\u001b[0m\u001b[0mm3\u001b[0m\u001b[1;33m(\u001b[0m\u001b[1;33m)\u001b[0m\u001b[1;33m\u001b[0m\u001b[1;33m\u001b[0m\u001b[0m\n\u001b[0m",
      "\u001b[1;32m<ipython-input-41-aeb25e5f091c>\u001b[0m in \u001b[0;36mm3\u001b[1;34m()\u001b[0m\n\u001b[0;32m     38\u001b[0m     \u001b[1;33m@\u001b[0m\u001b[0mstaticmethod\u001b[0m\u001b[1;33m\u001b[0m\u001b[1;33m\u001b[0m\u001b[0m\n\u001b[0;32m     39\u001b[0m     \u001b[1;32mdef\u001b[0m \u001b[0mm3\u001b[0m\u001b[1;33m(\u001b[0m\u001b[1;33m)\u001b[0m\u001b[1;33m:\u001b[0m\u001b[1;33m\u001b[0m\u001b[1;33m\u001b[0m\u001b[0m\n\u001b[1;32m---> 40\u001b[1;33m         \u001b[0msuper\u001b[0m\u001b[1;33m(\u001b[0m\u001b[1;33m)\u001b[0m\u001b[1;33m.\u001b[0m\u001b[0m__init__\u001b[0m\u001b[1;33m(\u001b[0m\u001b[1;33m)\u001b[0m\u001b[1;33m\u001b[0m\u001b[1;33m\u001b[0m\u001b[0m\n\u001b[0m\u001b[0;32m     41\u001b[0m         \u001b[0msuper\u001b[0m\u001b[1;33m(\u001b[0m\u001b[1;33m)\u001b[0m\u001b[1;33m.\u001b[0m\u001b[0mm1\u001b[0m\u001b[1;33m(\u001b[0m\u001b[1;33m)\u001b[0m\u001b[1;33m\u001b[0m\u001b[1;33m\u001b[0m\u001b[0m\n\u001b[0;32m     42\u001b[0m         \u001b[0msuper\u001b[0m\u001b[1;33m(\u001b[0m\u001b[1;33m)\u001b[0m\u001b[1;33m.\u001b[0m\u001b[0mm2\u001b[0m\u001b[1;33m(\u001b[0m\u001b[1;33m)\u001b[0m\u001b[1;33m\u001b[0m\u001b[1;33m\u001b[0m\u001b[0m\n",
      "\u001b[1;31mRuntimeError\u001b[0m: super(): no arguments"
     ]
    }
   ],
   "source": [
    "## another case\n",
    "class P:\n",
    "     \n",
    "    def __init__(self):\n",
    "        print(\"Parent constructor\")\n",
    "        \n",
    "    def m1(self):\n",
    "        print(\"Parent instance method\")\n",
    "        \n",
    "    @classmethod\n",
    "    def m2(cls):\n",
    "        print(\"Parent class method\")\n",
    "        \n",
    "    @staticmethod\n",
    "    def m3():\n",
    "        print(\"Parent static method\")\n",
    "        \n",
    "class C(P):\n",
    "    def __init__(self):\n",
    "        super().__init__()  # will work\n",
    "        super().m1() # will work\n",
    "        super().m2()# will work\n",
    "        super().m3()# will work\n",
    "        \n",
    "    def m1(self):\n",
    "        super().__init__()# will work\n",
    "        super().m1()# will work\n",
    "        super().m2()# will work\n",
    "        super().m3()# will work\n",
    "        \n",
    "    @classmethod\n",
    "    def m2(cls):\n",
    "        #super().__init__() # Error. We need to use \"super(C, cls).__init__(cls)\"\n",
    "        #super().m1() # Error .  We need to use \"super(C, cls).m1(cls)\"\n",
    "        super().m2() # will work\n",
    "        super().m3() # will work\n",
    "        \n",
    "    @staticmethod\n",
    "    def m3():\n",
    "        # super().__init__() # Error.  \n",
    "        # super().m1() # Error\n",
    "        # super().m2() # Error We need to use \"super(C, C).m2()\"\n",
    "        # super().m3() # Error We need to use \"super(C, C).m3()\n",
    "        \n",
    "c = C()\n",
    "c.m1()\n",
    "C.m2()\n",
    "c.m3()"
   ]
  },
  {
   "cell_type": "markdown",
   "metadata": {},
   "source": [
    "***\n",
    "### Polymorphism ###\n",
    "* Overloading (method, operator, Constructor)\n",
    "* overrding (method, constructor)\n",
    "* pythonic behavior (Duck typing, easier to ask forgiveness than permission, Monkey patching)\n",
    "***"
   ]
  },
  {
   "cell_type": "code",
   "execution_count": 43,
   "metadata": {},
   "outputs": [
    {
     "name": "stdout",
     "output_type": "stream",
     "text": [
      "Child class hiding super class\n"
     ]
    }
   ],
   "source": [
    "# method overriding  - child class members hiding super class members\n",
    "class P:\n",
    "    def m1(self):\n",
    "        print(\"Superclass m1 method\")\n",
    "        \n",
    "class C(P):\n",
    "    def m1(self):\n",
    "        print(\"Child class hiding super class\")\n",
    "        \n",
    "c = C()\n",
    "c.m1()"
   ]
  },
  {
   "cell_type": "code",
   "execution_count": 44,
   "metadata": {},
   "outputs": [
    {
     "name": "stdout",
     "output_type": "stream",
     "text": [
      "300\n"
     ]
    }
   ],
   "source": [
    "### Operator Overloading ### \n",
    "# changing operator behavior to work on custom objects\n",
    "# self should have the magic method implementation\n",
    "class Book:\n",
    "    \n",
    "    def __init__(self, pages):\n",
    "        self.pages = pages\n",
    "        \n",
    "    def __add__(self, other):\n",
    "        total_pages = self.pages + other.pages\n",
    "        return total_pages\n",
    "        \n",
    "b1 = Book(100)\n",
    "b2 = Book(200)\n",
    "\n",
    "print(b1 + b2)\n"
   ]
  },
  {
   "cell_type": "code",
   "execution_count": null,
   "metadata": {},
   "outputs": [],
   "source": [
    "#operator overloading - magic methods # only take 2 arguments\n",
    "+  __add__()\n",
    "- __sub__()\n",
    "* __mul__()\n",
    "/ __div__()\n",
    "//  __floordiv__()\n",
    "% __mod__()\n",
    "** __pow__()\n",
    "+=  __iadd__()\n",
    "-=  __isub__() # for others also add i before\n",
    "<  __lt__()\n",
    "<=  __le__()\n",
    "> __gt__()\n",
    ">=  __ge__()\n",
    "== __eq__()\n",
    "!= __ne__()"
   ]
  },
  {
   "cell_type": "code",
   "execution_count": 45,
   "metadata": {},
   "outputs": [
    {
     "name": "stdout",
     "output_type": "stream",
     "text": [
      "True\n",
      "False\n"
     ]
    }
   ],
   "source": [
    "# another example for __gt__\n",
    "\n",
    "class Student:\n",
    "    \n",
    "    def __init__(self, name, marks):\n",
    "        self.name = name\n",
    "        self.marks = marks\n",
    "    \n",
    "    def __gt__(self, other):\n",
    "        return self.marks > other.marks\n",
    "    \n",
    "s1 = Student('Dhinesh', 400)\n",
    "s2 = Student('Babu', 200) \n",
    "\n",
    "print(s1 > s2)\n",
    "print(s1 < s2) # for one implementation python will reverse and use for both gt and lt. similar for le and ge"
   ]
  },
  {
   "cell_type": "code",
   "execution_count": 48,
   "metadata": {},
   "outputs": [
    {
     "name": "stdout",
     "output_type": "stream",
     "text": [
      "Name Dhinesh. Rollno 101. Marks 400\n",
      "Name Babu. Rollno 102. Marks 200\n"
     ]
    }
   ],
   "source": [
    "### __str__() method ### to provide string representation of an object\n",
    "\n",
    "class Student:\n",
    "    \n",
    "    def __init__(self, name, rollno, marks):\n",
    "        self.name = name\n",
    "        self.rollno = rollno\n",
    "        self.marks = marks\n",
    "        \n",
    "    def __str__(self):\n",
    "        return 'Name {}. Rollno {}. Marks {}'.format(self.name, self.rollno, self.marks)\n",
    "        \n",
    "s1 = Student('Dhinesh', 101, 400)\n",
    "s2 = Student('Babu', 102, 200) \n",
    "print(s1) # this will call s1.__str__()\n",
    "print(s2) # this will call s2.__str__()"
   ]
  },
  {
   "cell_type": "code",
   "execution_count": 53,
   "metadata": {},
   "outputs": [
    {
     "name": "stdout",
     "output_type": "stream",
     "text": [
      "Total number of pages of all books 600\n",
      "Total number of pages of all books 1000\n",
      "Total number of pages of all books 60500\n"
     ]
    }
   ],
   "source": [
    "### Overloading + operator for nesting requirements such as obj1 + obj2 + obj 3 ###\n",
    "\n",
    "class Book:\n",
    "    \n",
    "    def __init__(self, pages):\n",
    "        self.pages = pages\n",
    "        \n",
    "    def __add__(self, other):\n",
    "        return Book(self.pages + other.pages)\n",
    "    \n",
    "    def __mul__(self, other):\n",
    "        return Book(self.pages * other.pages)\n",
    "    \n",
    "    \n",
    "    def __str__(self):\n",
    "        return \"Total number of pages of all books {}\".format(self.pages)\n",
    "    \n",
    "        \n",
    "b1 = Book(100)\n",
    "b2 = Book(200)\n",
    "b3 = Book(300)\n",
    "b4 = Book(400)\n",
    "\n",
    "print(b1 + b2 + b3)\n",
    "print(b1 + b2 + b3 + b4)\n",
    "print(b1 + b2 * b3 + b4) # with multiplication overloaded method. * will be executed first and then +"
   ]
  },
  {
   "cell_type": "markdown",
   "metadata": {},
   "source": [
    "***\n",
    "### Method Overloading\n",
    "***"
   ]
  },
  {
   "cell_type": "code",
   "execution_count": 59,
   "metadata": {},
   "outputs": [
    {
     "name": "stdout",
     "output_type": "stream",
     "text": [
      "Two org method\n"
     ]
    }
   ],
   "source": [
    "### Method Overloading ###\n",
    "# Method and constructor overloading is not applicable in python\n",
    "# Only last method will be considered by interpreter\n",
    "\n",
    "class Test:\n",
    "    \n",
    "    def m1(self):\n",
    "        print(\"No org method\")\n",
    "        \n",
    "    def m1(self):\n",
    "        print(\"One org method\")\n",
    "        \n",
    "    def m1(self):\n",
    "        print(\"Two org method\")\n",
    "        \n",
    "t = Test()     \n",
    "t.m1() # This will cosider the last method (3rd m1() in the above case)"
   ]
  },
  {
   "cell_type": "code",
   "execution_count": 62,
   "metadata": {},
   "outputs": [
    {
     "name": "stdout",
     "output_type": "stream",
     "text": [
      "int - argument method\n",
      "str - argument method\n"
     ]
    }
   ],
   "source": [
    "# printing the type of variable\n",
    "class Test:\n",
    "    def m1(self,x):\n",
    "        print(\"{} - argument method\".format(x.__class__.__name__))\n",
    "        \n",
    "t = Test()\n",
    "t.m1(10)\n",
    "t.m1(\"Dhinesh\")"
   ]
  },
  {
   "cell_type": "code",
   "execution_count": 64,
   "metadata": {},
   "outputs": [
    {
     "name": "stdout",
     "output_type": "stream",
     "text": [
      "No org method\n",
      "One argument method\n",
      "Two argument method\n",
      "Three argument method\n"
     ]
    }
   ],
   "source": [
    "#### How to define a method with variable length argument ###\n",
    "\n",
    "#method one\n",
    "\n",
    "class Test:\n",
    "    def m1(self, a=None, b=None, c=None):\n",
    "        if a is not None and b is not None and c is not None:\n",
    "            print(\"Three argument method\")\n",
    "        elif a is not None and b is not None:\n",
    "            print(\"Two argument method\")\n",
    "        elif a is not None:\n",
    "            print(\"One argument method\")\n",
    "        else:\n",
    "            print(\"No org method\")\n",
    "            \n",
    "t = Test()\n",
    "t.m1()\n",
    "t.m1(20)\n",
    "t.m1(10,20)\n",
    "t.m1(10,20,30)"
   ]
  },
  {
   "cell_type": "code",
   "execution_count": 1,
   "metadata": {},
   "outputs": [
    {
     "name": "stdout",
     "output_type": "stream",
     "text": "Variable length argument method\nTotal for () is 0\nLength of the arguments 0\nVariable length argument method\nTotal for (20,) is 20\nLength of the arguments 1\nVariable length argument method\nTotal for (10, 20) is 30\nLength of the arguments 2\nVariable length argument method\nTotal for (10, 20, 30) is 60\nLength of the arguments 3\n"
    }
   ],
   "source": [
    "# method two - with variable length argument\n",
    "class Test:\n",
    "    def m1(self, *args):\n",
    "        print('Variable length argument method')\n",
    "        total = 0\n",
    "        for x in args:\n",
    "            total = total + x\n",
    "        print('Total for {} is {}'.format(args, total))\n",
    "        print('Length of the arguments {}'.format(len(args)))\n",
    "        \n",
    "t = Test()\n",
    "t.m1()\n",
    "t.m1(20)\n",
    "t.m1(10,20)\n",
    "t.m1(10,20,30)\n"
   ]
  },
  {
   "cell_type": "markdown",
   "metadata": {},
   "source": [
    "***\n",
    "### Constructor overloading\n",
    "***"
   ]
  },
  {
   "cell_type": "code",
   "execution_count": 71,
   "metadata": {},
   "outputs": [
    {
     "name": "stdout",
     "output_type": "stream",
     "text": [
      "Constructor with 0|1|2|3 argument\n",
      "Constructor with 0|1|2|3 argument\n",
      "Constructor with 0|1|2|3 argument\n",
      "Constructor with 0|1|2|3 argument\n"
     ]
    }
   ],
   "source": [
    "### Constructor overloading ####\n",
    "# not applicable for python\n",
    "# similar to methods, python will consider the final constructor if there are multiple constructor\n",
    "# we can define constructor with either default or variable length arguments\n",
    "\n",
    "class Test:\n",
    "    \n",
    "    def __init__(self, a=None, b= None, c=None):\n",
    "        print(\"Constructor with 0|1|2|3 argument\")\n",
    "        \n",
    "t = Test()\n",
    "t = Test(10)\n",
    "t = Test(10,20)\n",
    "t = Test(10,20,30)\n"
   ]
  },
  {
   "cell_type": "code",
   "execution_count": 72,
   "metadata": {},
   "outputs": [
    {
     "name": "stdout",
     "output_type": "stream",
     "text": [
      "Constructor with 0|1|2|3 argument\n",
      "Constructor with 0|1|2|3 argument\n",
      "Constructor with 0|1|2|3 argument\n",
      "Constructor with 0|1|2|3 argument\n"
     ]
    }
   ],
   "source": [
    "# using veriable length arguments\n",
    "class Test:\n",
    "    \n",
    "    def __init__(self, *args):\n",
    "        print(\"Constructor with 0|1|2|3 argument\")\n",
    "        \n",
    "t = Test()\n",
    "t = Test(10)\n",
    "t = Test(10,20)\n",
    "t = Test(10,20,30)"
   ]
  },
  {
   "cell_type": "markdown",
   "metadata": {},
   "source": [
    "***\n",
    "### Method overriding and Constructor overriding ###\n",
    "* child class redfines parent implmentation and this process is called overriding\n",
    "* This is applicable for methods and constructors\n",
    "***"
   ]
  },
  {
   "cell_type": "code",
   "execution_count": 74,
   "metadata": {},
   "outputs": [
    {
     "name": "stdout",
     "output_type": "stream",
     "text": [
      "Land + Gold + Cash + Power\n",
      "liked one\n"
     ]
    }
   ],
   "source": [
    "# method overriding\n",
    "\n",
    "class P:\n",
    "    def property(self):\n",
    "        print(\"Land + Gold + Cash + Power\")\n",
    "        \n",
    "    def marry(self): #overridden method\n",
    "        print(\"someone\")\n",
    "        \n",
    "class C(P):\n",
    "    \n",
    "    def marry(self): # overriding method\n",
    "        print('liked one') \n",
    "        # we can use super().marry() to call the parent class marry method\n",
    "        \n",
    "c = C()\n",
    "c.property()\n",
    "c.marry()  # will print the child specific method   "
   ]
  },
  {
   "cell_type": "code",
   "execution_count": 76,
   "metadata": {},
   "outputs": [
    {
     "name": "stdout",
     "output_type": "stream",
     "text": [
      "child constructor\n"
     ]
    }
   ],
   "source": [
    "# constructor overriding\n",
    "class P:\n",
    "    def __init__(self):\n",
    "        print(\"Parent constructor\")\n",
    "        \n",
    "class C(P):\n",
    "    def __init__(self):\n",
    "        print(\"child constructor\")\n",
    "        # we can call super().__init__() to call super class constructor\n",
    "        \n",
    "c = C() # calling child class constructor"
   ]
  },
  {
   "cell_type": "markdown",
   "metadata": {},
   "source": [
    "***\n",
    "### abstract methods and abstract classes #\n",
    "* child class should provide implementation of every abstract method in the parent class else child class can't be instantiated\n",
    "* abstract class can contain non-abstract method also\n",
    "***"
   ]
  },
  {
   "cell_type": "code",
   "execution_count": 3,
   "metadata": {},
   "outputs": [
    {
     "name": "stdout",
     "output_type": "stream",
     "text": "6\n3\n4\n"
    }
   ],
   "source": [
    "# abstract methods and abstract classes #\n",
    "# child class should provide implementation of every abstract method in the parent class else child class can't be instantiated\n",
    "# abstract class can contain non-abstract method also\n",
    "from abc import abstractmethod,ABC\n",
    "\n",
    "class Vehicle(ABC):\n",
    "    \n",
    "    @abstractmethod\n",
    "    def getNoOfWheels(self):\n",
    "        pass\n",
    "    \n",
    "class Bus(Vehicle):\n",
    "    \n",
    "    def getNoOfWheels(self):\n",
    "        return 6\n",
    "    \n",
    "class Auto(Vehicle):\n",
    "    \n",
    "    def getNoOfWheels(self):\n",
    "        return 3\n",
    "\n",
    "class Car(Vehicle):\n",
    "    def getNoOfWheels(self):\n",
    "        return 4\n",
    "    \n",
    "b = Bus()\n",
    "print(b.getNoOfWheels())\n",
    "a = Auto()\n",
    "print(a.getNoOfWheels())\n",
    "c = Car()\n",
    "print(c.getNoOfWheels())"
   ]
  },
  {
   "cell_type": "code",
   "execution_count": null,
   "metadata": {},
   "outputs": [],
   "source": [
    "# Interfaces in python #\n",
    "# we can implement using abstract class with only abstract method\n",
    "# It should not contain any concrete methods but only abstract methods\n",
    "# THis is naming convention\n",
    "\n",
    "\n",
    "from abc import abstractmethod,ABC\n",
    "\n",
    "class Vehicle(ABC):\n",
    "    \n",
    "    @abstractmethod\n",
    "    def getNoOfWheels(self):\n",
    "        pass\n",
    "    \n",
    "# Now vehicle class is an abstract method\n"
   ]
  },
  {
   "cell_type": "markdown",
   "metadata": {},
   "source": [
    "### Public Members ###\n",
    "* by default all the variable and methods are public in python class"
   ]
  },
  {
   "cell_type": "markdown",
   "metadata": {},
   "source": [
    "***\n",
    "### Private Members\n",
    "***"
   ]
  },
  {
   "cell_type": "code",
   "execution_count": 79,
   "metadata": {},
   "outputs": [
    {
     "name": "stdout",
     "output_type": "stream",
     "text": [
      "10\n",
      "It is private method\n"
     ]
    },
    {
     "ename": "AttributeError",
     "evalue": "'Test' object has no attribute '__x'",
     "output_type": "error",
     "traceback": [
      "\u001b[1;31m---------------------------------------------------------------------------\u001b[0m",
      "\u001b[1;31mAttributeError\u001b[0m                            Traceback (most recent call last)",
      "\u001b[1;32m<ipython-input-79-81f3c79d1923>\u001b[0m in \u001b[0;36m<module>\u001b[1;34m\u001b[0m\n\u001b[0;32m     17\u001b[0m \u001b[0mt\u001b[0m \u001b[1;33m=\u001b[0m \u001b[0mTest\u001b[0m\u001b[1;33m(\u001b[0m\u001b[1;33m)\u001b[0m\u001b[1;33m\u001b[0m\u001b[1;33m\u001b[0m\u001b[0m\n\u001b[0;32m     18\u001b[0m \u001b[0mt\u001b[0m\u001b[1;33m.\u001b[0m\u001b[0mm2\u001b[0m\u001b[1;33m(\u001b[0m\u001b[1;33m)\u001b[0m\u001b[1;33m\u001b[0m\u001b[1;33m\u001b[0m\u001b[0m\n\u001b[1;32m---> 19\u001b[1;33m \u001b[0mprint\u001b[0m\u001b[1;33m(\u001b[0m\u001b[0mt\u001b[0m\u001b[1;33m.\u001b[0m\u001b[0m__x\u001b[0m\u001b[1;33m)\u001b[0m\u001b[1;33m\u001b[0m\u001b[1;33m\u001b[0m\u001b[0m\n\u001b[0m",
      "\u001b[1;31mAttributeError\u001b[0m: 'Test' object has no attribute '__x'"
     ]
    }
   ],
   "source": [
    "# WE can access only within the class\n",
    "## we need to prefix with __ then it is private member\n",
    "# Internally name mangling happening by python for python variables (new names allocated to the private variable)\n",
    "\n",
    "class Test:\n",
    "    \n",
    "    def __init__(self):\n",
    "        self.__x = 10  # private variable\n",
    "        \n",
    "    def __m1(self): #private method\n",
    "        print(\"It is private method\")\n",
    "        \n",
    "    def m2(self):\n",
    "        print(self.__x)\n",
    "        self.__m1()\n",
    "        \n",
    "t = Test()\n",
    "t.m2()\n",
    "print(t.__x) # AttributeError: 'Test' object has no attribute '__x'"
   ]
  },
  {
   "cell_type": "markdown",
   "metadata": {},
   "source": [
    "***\n",
    "### ame Mangling\n",
    "***"
   ]
  },
  {
   "cell_type": "code",
   "execution_count": 83,
   "metadata": {},
   "outputs": [
    {
     "name": "stdout",
     "output_type": "stream",
     "text": [
      "Accessing name mangled private variable(not recommended) :  10\n",
      "It is private method\n",
      "Accessing name mangled private method(not recommended) :  None\n"
     ]
    }
   ],
   "source": [
    "# Name mangling #\n",
    "# __x name changed to _Test__x inside by python for private members\n",
    "class Test:\n",
    "    \n",
    "    def __init__(self):\n",
    "        self.__x = 10  # private variable\n",
    "        \n",
    "    def __m1(self): #private method\n",
    "        print(\"It is private method\")\n",
    "        \n",
    "    def m2(self):\n",
    "        print(self.__x)\n",
    "        self.__m1()\n",
    "        \n",
    "t = Test()\n",
    "print(\"Accessing name mangled private variable(not recommended) : \", t._Test__x)\n",
    "print(\"Accessing name mangled private method(not recommended) : \", t._Test__m1())"
   ]
  },
  {
   "cell_type": "code",
   "execution_count": 86,
   "metadata": {},
   "outputs": [
    {
     "name": "stdout",
     "output_type": "stream",
     "text": [
      "10\n",
      "10\n",
      "10\n"
     ]
    }
   ],
   "source": [
    "## Protected Members ##\n",
    "## Access only in child classes ##\n",
    "# _ can be used to mention protected variable or method ( This is just a naming convension)\n",
    "\n",
    "class Test:\n",
    "    \n",
    "    def __init__(self):\n",
    "        self._x = 10  # protected variable\n",
    "        \n",
    "    def m1(self): \n",
    "        print(self._x)\n",
    "        \n",
    "class SubTest(Test):\n",
    "    def m2(self):\n",
    "        print(self._x)\n",
    "        \n",
    "t = SubTest()\n",
    "t.m1()\n",
    "t.m2()\n",
    "print(t._x) # just naming convension. but can be accessed from anywhere technically"
   ]
  },
  {
   "cell_type": "code",
   "execution_count": null,
   "metadata": {},
   "outputs": [],
   "source": [
    "## Data Hiding ##\n",
    "# use private variables to hide data\n",
    "# use getters and setters to access the private data"
   ]
  },
  {
   "cell_type": "code",
   "execution_count": null,
   "metadata": {},
   "outputs": [],
   "source": []
  }
 ],
 "metadata": {
  "kernelspec": {
   "display_name": "Python 3",
   "language": "python",
   "name": "python3"
  },
  "language_info": {
   "codemirror_mode": {
    "name": "ipython",
    "version": 3
   },
   "file_extension": ".py",
   "mimetype": "text/x-python",
   "name": "python",
   "nbconvert_exporter": "python",
   "pygments_lexer": "ipython3",
   "version": "3.6.9-final"
  }
 },
 "nbformat": 4,
 "nbformat_minor": 4
}