{
 "cells": [
  {
   "cell_type": "markdown",
   "metadata": {},
   "source": [
    "### Types of files\n",
    "\n",
    "* ``` text files (txt, log and etc) ```\n",
    "* ``` binary files (images, audio, video and etc.)```\n"
   ]
  },
  {
   "cell_type": "markdown",
   "metadata": {},
   "source": [
    "## opening a file and file modes #"
   ]
  },
  {
   "cell_type": "code",
   "execution_count": null,
   "metadata": {},
   "outputs": [],
   "source": [
    "# opening a file using open() method\n",
    "# syntax => open(filename, filemode)\n",
    "\n",
    "f = open('abc.txt', 'r')\n",
    "\n",
    "#File modes\n",
    "\"\"\"\n",
    "These seven modes are applicable for only for text files\n",
    "r -  read (default mode) (Filepointer at the beginning of the file, if no file, FileNotFound Error)\n",
    "w - write (Old data will be overwritten, if no file then the file will be created)\n",
    "a - append (Data will be added to existing data, if no file then the file will be created)\n",
    "r+ - read and write ( Will overwrite existing data and if no file, FileNotFound Error )\n",
    "w+ - write and read (data will be overwritten and can be read, if no file then the file will be created)\n",
    "a+ - append and read (it will add to existing data, if no file then the file will be created)\n",
    "x - exclusive (For write operation, if file is available, it will throw FileExist Error)\n",
    "\n",
    "if the above mode suffixed with 'b' then it is for binary files\n",
    "rb\n",
    "wb\n",
    "ab\n",
    "r+b\n",
    "w+b\n",
    "a+b\n",
    "xb\n",
    "\"\"\""
   ]
  },
  {
   "cell_type": "markdown",
   "metadata": {},
   "source": [
    "***\n",
    "* close() method is used to close the file\n",
    "* various properties of file object\n",
    "    * 1.f.name => file name\n",
    "    * 2.f.mode => mode of file\n",
    "    * 3.f.closed => True if file is closed\n",
    "***"
   ]
  },
  {
   "cell_type": "code",
   "execution_count": 3,
   "metadata": {},
   "outputs": [
    {
     "name": "stdout",
     "output_type": "stream",
     "text": [
      "File name:  abc.txt\n",
      "File mode:  r\n",
      "Is File Closed:  False\n",
      "Is File Readable:  True\n",
      "Is File Writable:  False\n",
      "Is File Closed:  True\n"
     ]
    }
   ],
   "source": [
    "# close() method is used to close the file\n",
    "\n",
    "# various properties of file object\n",
    "\n",
    "# f.name => file name\n",
    "# f.mode => mode of file\n",
    "# f.closed => True if file is closed\n",
    "\n",
    "# f.readable()\n",
    "# f.writable()\n",
    "\n",
    "f = open('abc.txt', 'r') # r is default mode\n",
    "\n",
    "print('File name: ', f.name)\n",
    "print('File mode: ', f.mode)\n",
    "print('Is File Closed: ', f.closed)\n",
    "print('Is File Readable: ', f.readable())\n",
    "print('Is File Writable: ', f.writable())\n",
    "\n",
    "f.close()\n",
    "print(\"Is File Closed: \", f.closed)"
   ]
  },
  {
   "cell_type": "markdown",
   "metadata": {},
   "source": [
    "***\n",
    "## methods for Writing character date to text files ###\n",
    "* 1. f.write(str) - will not insert new line\n",
    "* 2. f.writelines(list of strings)\n",
    "***"
   ]
  },
  {
   "cell_type": "code",
   "execution_count": 7,
   "metadata": {},
   "outputs": [
    {
     "name": "stdout",
     "output_type": "stream",
     "text": [
      "Data written to the files successfully\n"
     ]
    }
   ],
   "source": [
    "f = open('demo1.txt', 'w')\n",
    "f.write(\"Dhinesh\\n\")\n",
    "f.write(\"babu\\n\")\n",
    "f.write(\"Dhinesh\\n\")\n",
    "f.write(\"software\\n\")\n",
    "f.write(\"solutions\\n\")\n",
    "f.close()\n",
    "print('Data written to the files successfully')"
   ]
  },
  {
   "cell_type": "code",
   "execution_count": 9,
   "metadata": {},
   "outputs": [
    {
     "name": "stdout",
     "output_type": "stream",
     "text": [
      "Data written to the files successfully\n"
     ]
    }
   ],
   "source": [
    "## Append mode\n",
    "f = open('demo2.txt', 'a')\n",
    "f.write(\"Dhinesh\\n\")\n",
    "f.write(\"babu\\n\")\n",
    "f.write(\"Dhinesh\\n\")\n",
    "f.write(\"software\\n\")\n",
    "f.write(\"solutions\\n\")\n",
    "f.close()\n",
    "print('Data written to the files successfully')"
   ]
  },
  {
   "cell_type": "code",
   "execution_count": 11,
   "metadata": {},
   "outputs": [],
   "source": [
    "# writelines() method => we can pass list, set, tuple \n",
    "# if we write a dictionary then only keys will be added\n",
    "f = open(\"demo3.txt\", 'w')\n",
    "l = ['dhinesh', 'babu', 'software', 'solutions'] # all the date will be there on single line\n",
    "f.writelines(l)\n",
    "f.close()"
   ]
  },
  {
   "cell_type": "code",
   "execution_count": 13,
   "metadata": {},
   "outputs": [],
   "source": [
    "# if we write a dictionary then only keys will be added\n",
    "# and the keys must be string type otherwise TypeError\n",
    "# we can use f.writelines(d.values()) to write the values\n",
    "f = open(\"demo4.txt\", 'w')\n",
    "d = {'dhinesh':100, 'babu':200} # all the date will be there on single line\n",
    "f.writelines(d)\n",
    "f.close()"
   ]
  },
  {
   "cell_type": "markdown",
   "metadata": {},
   "source": [
    "***\n",
    "### Reading characters from a file using read methods ##\n",
    "* 1. f.read() -> read all the characters from a file\n",
    "* 2. f.read(n) -> To read n characters from line\n",
    "* 3. f.readline() -> To read one line at a time\n",
    "* 4. f.readlines() -> To read all the lines into a list\n",
    "***"
   ]
  },
  {
   "cell_type": "code",
   "execution_count": 14,
   "metadata": {},
   "outputs": [
    {
     "name": "stdout",
     "output_type": "stream",
     "text": [
      "contents of the file\n",
      "dhineshbabu\n",
      "software\n",
      "solutions\n"
     ]
    }
   ],
   "source": [
    "## read() method ##\n",
    "f = open(\"demo5.txt\", 'r')\n",
    "data = f.read()\n",
    "print(\"contents of the file\")\n",
    "print(data)\n",
    "f.close()"
   ]
  },
  {
   "cell_type": "code",
   "execution_count": 15,
   "metadata": {},
   "outputs": [
    {
     "name": "stdout",
     "output_type": "stream",
     "text": [
      "First 10 characters of the file\n",
      "dhineshbab\n"
     ]
    }
   ],
   "source": [
    "# reading specific characters\n",
    "f = open(\"demo5.txt\", 'r')\n",
    "data = f.read(10)\n",
    "print(\"First 10 characters of the file\")\n",
    "print(data)\n",
    "f.close()\n",
    "# if f.read(1000) -> only available data from the file will be read"
   ]
  },
  {
   "cell_type": "code",
   "execution_count": 16,
   "metadata": {},
   "outputs": [
    {
     "name": "stdout",
     "output_type": "stream",
     "text": [
      "First 10 characters of the file\n",
      "dhineshbabu\n",
      "software\n",
      "solutions\n"
     ]
    }
   ],
   "source": [
    "# reading negative characters (any numbers) -> total data will be returned\n",
    "f = open(\"demo5.txt\", 'r')\n",
    "data = f.read(-1)\n",
    "print(\"First 10 characters of the file\")\n",
    "print(data)\n",
    "f.close()"
   ]
  },
  {
   "cell_type": "markdown",
   "metadata": {},
   "source": [
    "***\n",
    "### Reading date line by line using readline() and readlines() method #\n",
    "***"
   ]
  },
  {
   "cell_type": "code",
   "execution_count": 21,
   "metadata": {},
   "outputs": [
    {
     "name": "stdout",
     "output_type": "stream",
     "text": [
      "First line:  dhineshbabu\n",
      "Second:  software\n",
      "First line:  solutions"
     ]
    }
   ],
   "source": [
    "f = open(\"demo5.txt\", 'r')\n",
    "line1 = f.readline()\n",
    "print(\"First line: \", line1,end=\"\") #file data will have a \\n so we need to add end=\"\"\n",
    "line2 = f.readline()\n",
    "print(\"Second: \", line2,end=\"\")\n",
    "line3 = f.readline()\n",
    "print(\"First line: \", line3,end=\"\")\n",
    "f.close()"
   ]
  },
  {
   "cell_type": "code",
   "execution_count": 22,
   "metadata": {},
   "outputs": [
    {
     "name": "stdout",
     "output_type": "stream",
     "text": [
      "dhineshbabu\n",
      "software\n",
      "solutions"
     ]
    }
   ],
   "source": [
    "# using loops\n",
    "f = open(\"demo5.txt\", 'r')\n",
    "line = f.readline() # will return empty if no more line to read\n",
    "while line != \"\":\n",
    "    print(line, end=\"\")\n",
    "    line = f.readline()\n",
    "f.close()"
   ]
  },
  {
   "cell_type": "code",
   "execution_count": 25,
   "metadata": {},
   "outputs": [
    {
     "name": "stdout",
     "output_type": "stream",
     "text": [
      "['dhineshbabu\\n', 'software\\n', 'solutions']\n",
      "dhineshbabu\n",
      "software\n",
      "solutions"
     ]
    }
   ],
   "source": [
    "## readlines() method ##\n",
    "f = open(\"demo5.txt\", 'r')\n",
    "lines = f.readlines() # data will be read as a list\n",
    "print(lines)\n",
    "for line in lines:\n",
    "    print(line, end=\"\")\n",
    "f.close()"
   ]
  },
  {
   "cell_type": "code",
   "execution_count": 26,
   "metadata": {},
   "outputs": [
    {
     "name": "stdout",
     "output_type": "stream",
     "text": [
      "dhi\n",
      "neshbabu\n",
      "\n",
      "software\n",
      "\n",
      "solu\n",
      "Remaining Data: \n",
      "tions\n",
      "finalline\n"
     ]
    }
   ],
   "source": [
    "# using all the methods together - not recommended #\n",
    "f = open(\"demo5.txt\", 'r')\n",
    "print(f.read(3))\n",
    "print(f.readline())\n",
    "print(f.readline())\n",
    "print(f.read(4))\n",
    "print(\"Remaining Data: \")\n",
    "print(f.read())\n",
    "f.close()"
   ]
  },
  {
   "cell_type": "code",
   "execution_count": 27,
   "metadata": {},
   "outputs": [],
   "source": [
    "### Reading from onefile and writing to another file ###\n",
    "f1 = open(\"demo5.txt\", 'r')\n",
    "f2 = open(\"demo6.txt\", \"w\")\n",
    "data = f1.read()\n",
    "f2.write(data)\n",
    "f1.close()\n",
    "f2.close()"
   ]
  },
  {
   "cell_type": "markdown",
   "metadata": {},
   "source": [
    "***\n",
    "## with statment ##\n",
    "***"
   ]
  },
  {
   "cell_type": "code",
   "execution_count": null,
   "metadata": {},
   "outputs": [],
   "source": [
    "### to close the files automatically, use with statement ###"
   ]
  },
  {
   "cell_type": "code",
   "execution_count": 28,
   "metadata": {},
   "outputs": [
    {
     "name": "stdout",
     "output_type": "stream",
     "text": [
      "Is File Closed? :  True\n"
     ]
    }
   ],
   "source": [
    "with open('demo7.txt', \"w\") as f:\n",
    "    f.write(\"Dhinesh\\n\")\n",
    "    f.write(\"babu\\n\")\n",
    "    f.write(\"Dhinesh\\n\")\n",
    "    f.write(\"software\\n\")\n",
    "    f.write(\"solutions\\n\")\n",
    "\n",
    "print('Is File Closed? : ', f.closed)"
   ]
  },
  {
   "cell_type": "code",
   "execution_count": 31,
   "metadata": {},
   "outputs": [
    {
     "name": "stdout",
     "output_type": "stream",
     "text": [
      "0\n",
      "dh\n",
      "2\n",
      "ine\n",
      "5\n"
     ]
    }
   ],
   "source": [
    "## tell() method - to get the current cursor position ##\n",
    "# index of first character is always 0\n",
    "f = open('demo7.txt', \"r\")\n",
    "print(f.tell())\n",
    "print(f.read(2))\n",
    "print(f.tell())\n",
    "print(f.read(3))\n",
    "print(f.tell())\n",
    "f.close()"
   ]
  },
  {
   "cell_type": "code",
   "execution_count": null,
   "metadata": {},
   "outputs": [],
   "source": [
    "## seek() method - to move cursor to a particular position ##\n",
    "# syntax (python 2.x): f.seek(offset, fromwhere)\n",
    "\"\"\"\n",
    "fromwhere values (in python 2.x)\n",
    "0 -> from beginning of file\n",
    "1 -> from current position\n",
    "2 -> from end of file\n",
    "\"\"\"\n",
    "# syntax (python 3.x): f.seek(offset) -> it will always move from beginning of the file"
   ]
  },
  {
   "cell_type": "code",
   "execution_count": 33,
   "metadata": {},
   "outputs": [
    {
     "name": "stdout",
     "output_type": "stream",
     "text": [
      "0\n",
      "3\n",
      "ne\n",
      "u\n",
      "software\n",
      "solutions\n",
      "finalline\n",
      "dhineshbabu\n",
      "software\n",
      "solutions\n",
      "finalline\n"
     ]
    }
   ],
   "source": [
    "# demo program for tell() and seek() methods #\n",
    "f = open(\"demo7.txt\", \"r\")\n",
    "print(f.tell())\n",
    "f.seek(3)\n",
    "print(f.tell())\n",
    "print(f.read(2))\n",
    "f.seek(10)\n",
    "print(f.read())\n",
    "f.seek(0)\n",
    "print(f.read())\n",
    "f.close()"
   ]
  },
  {
   "cell_type": "code",
   "execution_count": 3,
   "metadata": {},
   "outputs": [
    {
     "name": "stdout",
     "output_type": "stream",
     "text": [
      "Data Before Modification\n",
      "ALL STUDENTS ARE STUPIDS\n",
      "The current cursor position:  24\n",
      "Data After Modification\n",
      "ALL STUDENTS ARE GEMS!!!\n"
     ]
    }
   ],
   "source": [
    "# another demo\n",
    "f = open('demo8.txt', 'w')\n",
    "f.write(\"ALL STUDENTS ARE STUPIDS\")\n",
    "with open('demo8.txt', 'r+') as f:\n",
    "    text = f.read()\n",
    "    print(\"Data Before Modification\")\n",
    "    print(text)\n",
    "    print(\"The current cursor position: \", f.tell())\n",
    "    f.seek(17)\n",
    "    f.write(\"GEMS!!!\") #STUPIDS will be replaced with GEMS!!!\n",
    "    f.seek(0)\n",
    "    text = f.read()\n",
    "    print(\"Data After Modification\")\n",
    "    print(text)\n",
    "    \n",
    "f.close()"
   ]
  },
  {
   "cell_type": "markdown",
   "metadata": {},
   "source": [
    "***\n",
    "### Checking the file existence ###\n",
    "``` we need to use os module ```\n",
    "***"
   ]
  },
  {
   "cell_type": "code",
   "execution_count": 6,
   "metadata": {},
   "outputs": [
    {
     "name": "stdin",
     "output_type": "stream",
     "text": [
      "Enter file name:  demo8.txt\n"
     ]
    },
    {
     "name": "stdout",
     "output_type": "stream",
     "text": [
      "File Exists:  demo8.txt\n",
      "The content of the file is: \n",
      "****************************************\n",
      "ALL STUDENTS ARE GEMS!!!\n",
      "****************************************\n"
     ]
    }
   ],
   "source": [
    "# write a program to find a file and print the contents if the file is available\n",
    "import os\n",
    "fname = input(\"Enter file name: \")\n",
    "if os.path.isfile(fname):\n",
    "    print(\"File Exists: \", fname)\n",
    "    f = open(fname, 'r')\n",
    "    text = f.read()\n",
    "    print('The content of the file is: ')\n",
    "    print(\"*\"*40)\n",
    "    print(text)\n",
    "    print(\"*\"*40)\n",
    "    f.close()\n",
    "    \n",
    "else:\n",
    "    print(\"File does not exist: \", fname)"
   ]
  },
  {
   "cell_type": "markdown",
   "metadata": {},
   "source": [
    "### Print the number of words, lines and characters in file ##"
   ]
  },
  {
   "cell_type": "code",
   "execution_count": 10,
   "metadata": {},
   "outputs": [
    {
     "name": "stdin",
     "output_type": "stream",
     "text": [
      "Enter file name:  demo7.txt\n"
     ]
    },
    {
     "name": "stdout",
     "output_type": "stream",
     "text": [
      "File Exists:  demo7.txt\n",
      "The Number of lines:  4\n",
      "The Number of words:  5\n",
      "The Number of characters:  51\n"
     ]
    }
   ],
   "source": [
    "import os\n",
    "fname = input(\"Enter file name: \")\n",
    "if os.path.isfile(fname):\n",
    "    print('File Exists: ', fname)\n",
    "    lcount = wcount = ccount = 0\n",
    "    f = open(fname, 'r')\n",
    "    for line in f:\n",
    "        lcount = lcount + 1\n",
    "        wordcount = len(line.split())\n",
    "        wcount = wcount + wordcount\n",
    "        charcount = len(line)\n",
    "        ccount = ccount + charcount\n",
    "        \n",
    "print(\"The Number of lines: \", lcount)\n",
    "print(\"The Number of words: \", wcount)\n",
    "print(\"The Number of characters: \", ccount)"
   ]
  },
  {
   "cell_type": "markdown",
   "metadata": {},
   "source": [
    "## Handling Binary Data ##"
   ]
  },
  {
   "cell_type": "code",
   "execution_count": 15,
   "metadata": {},
   "outputs": [
    {
     "name": "stdout",
     "output_type": "stream",
     "text": [
      "<class 'bytes'>\n"
     ]
    }
   ],
   "source": [
    "f1 = open(\"pythonsource.jpg\", 'rb')\n",
    "data = f1.read()\n",
    "print(type(data))\n",
    "f2 = open('pythondest.jpg', 'wb')\n",
    "f2.write(data)\n",
    "f1.close()\n",
    "f2.close()"
   ]
  },
  {
   "cell_type": "markdown",
   "metadata": {},
   "source": [
    "## Writing Data to csv file using csv module ##"
   ]
  },
  {
   "cell_type": "code",
   "execution_count": 20,
   "metadata": {},
   "outputs": [
    {
     "name": "stdout",
     "output_type": "stream",
     "text": [
      "<class '_csv.writer'>\n"
     ]
    },
    {
     "name": "stdin",
     "output_type": "stream",
     "text": [
      "Enter Employee Number:  100\n",
      "Enter Employee Name:  dhinesh\n",
      "Enter Employee Salary:  1000\n",
      "Enter Employee Address:  address1\n",
      "Do you want to insert one more record (yes/no):  yes\n",
      "Enter Employee Number:  200\n",
      "Enter Employee Name:  babu\n",
      "Enter Employee Salary:  2000\n",
      "Enter Employee Address:  address2\n",
      "Do you want to insert one more record (yes/no):  no\n"
     ]
    },
    {
     "name": "stdout",
     "output_type": "stream",
     "text": [
      "Writing data to the file completed !!!\n"
     ]
    }
   ],
   "source": [
    "import csv\n",
    "\n",
    "with open('emp.csv', 'w', newline='') as f: # if we add \"newline=''\" then new line character will not be added automatically\n",
    "    w = csv.writer(f)\n",
    "    print(type(w)) # class '_csv.writer'>\n",
    "    w.writerow(['ENO', 'ENAME', \"ESAL\", \"EADDR\"])\n",
    "    while True:\n",
    "        eno = int(input(\"Enter Employee Number: \"))\n",
    "        ename = input(\"Enter Employee Name: \")\n",
    "        esal = float(input(\"Enter Employee Salary: \"))\n",
    "        eaddr = input(\"Enter Employee Address: \")\n",
    "        w.writerow([eno,ename,esal,eaddr])\n",
    "        option = input(\"Do you want to insert one more record (yes/no): \")\n",
    "        if option.lower() == 'no':\n",
    "            break\n",
    "print(\"Writing data to the file completed !!!\")"
   ]
  },
  {
   "cell_type": "markdown",
   "metadata": {},
   "source": [
    "## Reading data from csv file using csv module ##"
   ]
  },
  {
   "cell_type": "code",
   "execution_count": 31,
   "metadata": {},
   "outputs": [
    {
     "name": "stdout",
     "output_type": "stream",
     "text": [
      "<class '_csv.reader'>\n",
      "[['ENO', 'ENAME', 'ESAL', 'EADDR'], ['100', 'dhinesh', '1000.0', 'address1'], ['200', 'babu', '2000.0', 'address2']]\n",
      "****************** print method 1 ******************\n",
      "['ENO', 'ENAME', 'ESAL', 'EADDR']\n",
      "['100', 'dhinesh', '1000.0', 'address1']\n",
      "['200', 'babu', '2000.0', 'address2']\n",
      "****************** print method 2 ******************\n",
      "ENO \tENAME \tESAL \tEADDR \t\n",
      "100 \tdhinesh \t1000.0 \taddress1 \t\n",
      "200 \tbabu \t2000.0 \taddress2 \t\n"
     ]
    }
   ],
   "source": [
    "import csv\n",
    "with open('emp.csv', 'r') as f:\n",
    "    r = csv.reader(f)\n",
    "    print(type(r))\n",
    "    data = list(r) # each row is a element in the list (list of lists) first is header\n",
    "    print(data)\n",
    "    print(\"****************** print method 1 ******************\")\n",
    "    for row in data:\n",
    "        print(row)\n",
    "    print(\"****************** print method 2 ******************\")\n",
    "    for row in data:\n",
    "        for column in row:\n",
    "            print(column, '\\t', end=\"\")\n",
    "        print()"
   ]
  },
  {
   "cell_type": "markdown",
   "metadata": {},
   "source": [
    "## Zipping and Unzipping files ##\n",
    "* we need to use **zipfile** module and **ZipFile** class in the module"
   ]
  },
  {
   "cell_type": "code",
   "execution_count": 1,
   "metadata": {},
   "outputs": [
    {
     "name": "stdout",
     "output_type": "stream",
     "text": [
      "Zip file created successfully\n"
     ]
    }
   ],
   "source": [
    "## we need to use zipfile module ## and ZipFile class in the module\n",
    "from zipfile import *\n",
    "f = ZipFile(\"FileZipped.zip\", 'w', ZIP_DEFLATED)\n",
    "f.write('demo7.txt')\n",
    "f.write('demo8.txt')\n",
    "print(\"Zip file created successfully\")"
   ]
  },
  {
   "cell_type": "code",
   "execution_count": 2,
   "metadata": {},
   "outputs": [
    {
     "name": "stdout",
     "output_type": "stream",
     "text": [
      "['demo7.txt', 'demo8.txt']\n",
      "File name:  demo7.txt\n",
      "***************** Content of the file *****************\n",
      "dhineshbabu kanuhasini\n",
      "software\n",
      "solutions\n",
      "finalline\n",
      "\n",
      "File name:  demo8.txt\n",
      "***************** Content of the file *****************\n",
      "ALL STUDENTS ARE GEMS!!!\n",
      "\n"
     ]
    }
   ],
   "source": [
    "## unzipping files from zip file ##\n",
    "from zipfile import *\n",
    "f = ZipFile(\"FileZipped.zip\", 'r', ZIP_STORED)\n",
    "names = f.namelist()\n",
    "print(names)\n",
    "for name in names:\n",
    "    f1 = open(name, 'r')\n",
    "    text = f1.read()\n",
    "    print('File name: ', name)\n",
    "    print('***************** Content of the file *****************')\n",
    "    print(text)\n",
    "    f1.close()\n",
    "    print()"
   ]
  },
  {
   "cell_type": "markdown",
   "metadata": {},
   "source": [
    "***\n",
    "## Working with Directories ##\n",
    "***"
   ]
  },
  {
   "cell_type": "code",
   "execution_count": 3,
   "metadata": {},
   "outputs": [
    {
     "name": "stdout",
     "output_type": "stream",
     "text": [
      "Current working directory:  C:\\Users\\lenovo\\Desktop\\My Projects\\Code\\Python\\Python_DurgaSoft\\Section22_FileHandling\n"
     ]
    }
   ],
   "source": [
    "## we need to use os module to perform directory related operations ##\n",
    "# getcwd() - to get the current workign directory\n",
    "import os \n",
    "cwd = os.getcwd()\n",
    "print(\"Current working directory: \", cwd)"
   ]
  },
  {
   "cell_type": "code",
   "execution_count": 5,
   "metadata": {},
   "outputs": [
    {
     "ename": "FileExistsError",
     "evalue": "[WinError 183] Cannot create a file when that file already exists: 'Dhinesh_Test'",
     "output_type": "error",
     "traceback": [
      "\u001b[1;31m---------------------------------------------------------------------------\u001b[0m",
      "\u001b[1;31mFileExistsError\u001b[0m                           Traceback (most recent call last)",
      "\u001b[1;32m<ipython-input-5-b918c659461c>\u001b[0m in \u001b[0;36m<module>\u001b[1;34m\u001b[0m\n\u001b[0;32m      1\u001b[0m \u001b[1;31m# Creating a new directory inside current working directory\u001b[0m\u001b[1;33m\u001b[0m\u001b[1;33m\u001b[0m\u001b[1;33m\u001b[0m\u001b[0m\n\u001b[0;32m      2\u001b[0m \u001b[1;32mimport\u001b[0m \u001b[0mos\u001b[0m\u001b[1;33m\u001b[0m\u001b[1;33m\u001b[0m\u001b[0m\n\u001b[1;32m----> 3\u001b[1;33m \u001b[0mos\u001b[0m\u001b[1;33m.\u001b[0m\u001b[0mmkdir\u001b[0m\u001b[1;33m(\u001b[0m\u001b[1;34m\"Dhinesh_Test\"\u001b[0m\u001b[1;33m)\u001b[0m\u001b[1;33m\u001b[0m\u001b[1;33m\u001b[0m\u001b[0m\n\u001b[0m\u001b[0;32m      4\u001b[0m \u001b[0mprint\u001b[0m\u001b[1;33m(\u001b[0m\u001b[1;34m\"New Directory Created\"\u001b[0m\u001b[1;33m)\u001b[0m\u001b[1;33m\u001b[0m\u001b[1;33m\u001b[0m\u001b[0m\n",
      "\u001b[1;31mFileExistsError\u001b[0m: [WinError 183] Cannot create a file when that file already exists: 'Dhinesh_Test'"
     ]
    }
   ],
   "source": [
    "# Creating a new directory inside current working directory\n",
    "# if the directory is available, the we will get FileExistsError\n",
    "import os \n",
    "os.mkdir(\"Dhinesh_Test\")\n",
    "print(\"New Directory Created\")\n"
   ]
  },
  {
   "cell_type": "code",
   "execution_count": 7,
   "metadata": {},
   "outputs": [
    {
     "name": "stdout",
     "output_type": "stream",
     "text": [
      "Directories Created\n"
     ]
    }
   ],
   "source": [
    "# TO create a sub directory inside another directory\n",
    "import os \n",
    "os.mkdir(\"Dhinesh_Test1\")\n",
    "os.mkdir(\"Dhinesh_Test1/Babu_Test1\") # Dhinesh_Test1 must be available\n",
    "print(\"Directories Created\")"
   ]
  },
  {
   "cell_type": "code",
   "execution_count": 9,
   "metadata": {},
   "outputs": [
    {
     "name": "stdout",
     "output_type": "stream",
     "text": [
      "Directory created\n"
     ]
    }
   ],
   "source": [
    "# create a directory with full path\n",
    "import os \n",
    "os.mkdir(\"C:\\\\Users\\\\lenovo\\\\Desktop\\\\My Projects\\\\Code\\\\Python\\\\Python_DurgaSoft\\\\Section22_FileHandling\\\\Dhinesh_Test3\")\n",
    "print(\"Directory created\")"
   ]
  },
  {
   "cell_type": "code",
   "execution_count": 11,
   "metadata": {},
   "outputs": [
    {
     "name": "stdout",
     "output_type": "stream",
     "text": [
      "Nested directories created\n"
     ]
    }
   ],
   "source": [
    "## makedirs() method ## to create both parent and child directories\n",
    "import os\n",
    "os.makedirs(\"Dhinesh_Test4/Nested1/Nested2\")\n",
    "print(\"Nested directories created\")"
   ]
  },
  {
   "cell_type": "markdown",
   "metadata": {},
   "source": [
    "## Removing directories using python ##"
   ]
  },
  {
   "cell_type": "code",
   "execution_count": 12,
   "metadata": {},
   "outputs": [
    {
     "name": "stdout",
     "output_type": "stream",
     "text": [
      "Directory Deleted\n"
     ]
    }
   ],
   "source": [
    "## rmdir() ## the directory should be empty else we will get OS error\n",
    "import os\n",
    "os.rmdir('Dhinesh_Test5/tobedeleted')\n",
    "print(\"Directory Deleted\")\n"
   ]
  },
  {
   "cell_type": "code",
   "execution_count": 13,
   "metadata": {},
   "outputs": [
    {
     "ename": "FileNotFoundError",
     "evalue": "[WinError 2] The system cannot find the file specified: 'Dhinesh_Test5/tobedeleted'",
     "output_type": "error",
     "traceback": [
      "\u001b[1;31m---------------------------------------------------------------------------\u001b[0m",
      "\u001b[1;31mFileNotFoundError\u001b[0m                         Traceback (most recent call last)",
      "\u001b[1;32m<ipython-input-13-1296e546f42c>\u001b[0m in \u001b[0;36m<module>\u001b[1;34m\u001b[0m\n\u001b[0;32m      1\u001b[0m \u001b[1;31m# if the directory is not available then we will get error\u001b[0m\u001b[1;33m\u001b[0m\u001b[1;33m\u001b[0m\u001b[1;33m\u001b[0m\u001b[0m\n\u001b[0;32m      2\u001b[0m \u001b[1;32mimport\u001b[0m \u001b[0mos\u001b[0m\u001b[1;33m\u001b[0m\u001b[1;33m\u001b[0m\u001b[0m\n\u001b[1;32m----> 3\u001b[1;33m \u001b[0mos\u001b[0m\u001b[1;33m.\u001b[0m\u001b[0mrmdir\u001b[0m\u001b[1;33m(\u001b[0m\u001b[1;34m'Dhinesh_Test5/tobedeleted'\u001b[0m\u001b[1;33m)\u001b[0m\u001b[1;33m\u001b[0m\u001b[1;33m\u001b[0m\u001b[0m\n\u001b[0m\u001b[0;32m      4\u001b[0m \u001b[0mprint\u001b[0m\u001b[1;33m(\u001b[0m\u001b[1;34m\"Directory Deleted\"\u001b[0m\u001b[1;33m)\u001b[0m\u001b[1;33m\u001b[0m\u001b[1;33m\u001b[0m\u001b[0m\n",
      "\u001b[1;31mFileNotFoundError\u001b[0m: [WinError 2] The system cannot find the file specified: 'Dhinesh_Test5/tobedeleted'"
     ]
    }
   ],
   "source": [
    "# if the directory is not available then we will get error\n",
    "import os\n",
    "os.rmdir('Dhinesh_Test5/tobedeleted')\n",
    "print(\"Directory Deleted\")"
   ]
  },
  {
   "cell_type": "code",
   "execution_count": 2,
   "metadata": {},
   "outputs": [
    {
     "name": "stdout",
     "output_type": "stream",
     "text": [
      "Directories Deleted\n"
     ]
    }
   ],
   "source": [
    "## Deleting both parent and child directories ## removedirs() method\n",
    "import os\n",
    "os.removedirs('Dhinesh_Test6/Sample')\n",
    "print(\"Directories Deleted\")"
   ]
  },
  {
   "cell_type": "code",
   "execution_count": 3,
   "metadata": {},
   "outputs": [],
   "source": [
    "## To rename a directory ## rename(oldname, newname) method\n",
    "import os\n",
    "os.rename('Dhinesh_Test6', 'Dhinesh_Test6_Renamed')"
   ]
  },
  {
   "cell_type": "code",
   "execution_count": 9,
   "metadata": {},
   "outputs": [
    {
     "name": "stdout",
     "output_type": "stream",
     "text": [
      "['.ipynb_checkpoints', 'java', 'python', 'testing', 'untitled.txt']\n"
     ]
    }
   ],
   "source": [
    "## TO know the content of the directory ## listdir() and walk() methods\n",
    "# listdir() - only list the direct child content of a directory\n",
    "import os \n",
    "l = os.listdir('Dhinesh_Test7')\n",
    "print(l)"
   ]
  },
  {
   "cell_type": "code",
   "execution_count": 10,
   "metadata": {},
   "outputs": [
    {
     "name": "stdout",
     "output_type": "stream",
     "text": [
      "('Dhinesh_Test7', ['.ipynb_checkpoints', 'java', 'python', 'testing'], ['untitled.txt'])\n",
      "('Dhinesh_Test7\\\\.ipynb_checkpoints', [], ['untitled-checkpoint.txt'])\n",
      "('Dhinesh_Test7\\\\java', ['.ipynb_checkpoints'], ['java1.txt', 'java2.txt', 'java3.txt'])\n",
      "('Dhinesh_Test7\\\\java\\\\.ipynb_checkpoints', [], ['java1-checkpoint.txt'])\n",
      "('Dhinesh_Test7\\\\python', ['.ipynb_checkpoints'], ['python1.txt', 'python2.txt', 'python3.txt'])\n",
      "('Dhinesh_Test7\\\\python\\\\.ipynb_checkpoints', [], ['python1-checkpoint.txt'])\n",
      "('Dhinesh_Test7\\\\testing', ['.ipynb_checkpoints', 'functional', 'performance'], [])\n",
      "('Dhinesh_Test7\\\\testing\\\\.ipynb_checkpoints', [], [])\n",
      "('Dhinesh_Test7\\\\testing\\\\functional', [], [])\n",
      "('Dhinesh_Test7\\\\testing\\\\performance', [], [])\n"
     ]
    }
   ],
   "source": [
    "# walk() method -> to list the subdirectories as well in the directory\n",
    "# walk will return generator object (tuple) ->(directorypath, [direnames], [filenames])\n",
    "import os\n",
    "g = os.walk('Dhinesh_Test7')\n",
    "for x in g:\n",
    "    print(x)"
   ]
  },
  {
   "cell_type": "code",
   "execution_count": 11,
   "metadata": {},
   "outputs": [
    {
     "name": "stdout",
     "output_type": "stream",
     "text": [
      "Directory path:  Dhinesh_Test7\n",
      "Directory names:  ['.ipynb_checkpoints', 'java', 'python', 'testing']\n",
      "File names:  ['untitled.txt']\n",
      "Directory path:  Dhinesh_Test7\\.ipynb_checkpoints\n",
      "Directory names:  []\n",
      "File names:  ['untitled-checkpoint.txt']\n",
      "Directory path:  Dhinesh_Test7\\java\n",
      "Directory names:  ['.ipynb_checkpoints']\n",
      "File names:  ['java1.txt', 'java2.txt', 'java3.txt']\n",
      "Directory path:  Dhinesh_Test7\\java\\.ipynb_checkpoints\n",
      "Directory names:  []\n",
      "File names:  ['java1-checkpoint.txt']\n",
      "Directory path:  Dhinesh_Test7\\python\n",
      "Directory names:  ['.ipynb_checkpoints']\n",
      "File names:  ['python1.txt', 'python2.txt', 'python3.txt']\n",
      "Directory path:  Dhinesh_Test7\\python\\.ipynb_checkpoints\n",
      "Directory names:  []\n",
      "File names:  ['python1-checkpoint.txt']\n",
      "Directory path:  Dhinesh_Test7\\testing\n",
      "Directory names:  ['.ipynb_checkpoints', 'functional', 'performance']\n",
      "File names:  []\n",
      "Directory path:  Dhinesh_Test7\\testing\\.ipynb_checkpoints\n",
      "Directory names:  []\n",
      "File names:  []\n",
      "Directory path:  Dhinesh_Test7\\testing\\functional\n",
      "Directory names:  []\n",
      "File names:  []\n",
      "Directory path:  Dhinesh_Test7\\testing\\performance\n",
      "Directory names:  []\n",
      "File names:  []\n"
     ]
    }
   ],
   "source": [
    "#another example\n",
    "import os\n",
    "g = os.walk('Dhinesh_Test7')\n",
    "for dirpath, dirnames, filenames in g:\n",
    "    print('Directory path: ', dirpath)\n",
    "    print(\"Directory names: \", dirnames)\n",
    "    print(\"File names: \", filenames)"
   ]
  },
  {
   "cell_type": "code",
   "execution_count": 4,
   "metadata": {},
   "outputs": [
    {
     "name": "stdout",
     "output_type": "stream",
     "text": "os.stat_result(st_mode=33152, st_ino=2378954, st_dev=2055, st_nlink=1, st_uid=1000, st_gid=1000, st_size=11, st_atime=1597681252, st_mtime=1581228749, st_ctime=1596010701)\n<class 'os.stat_result'>\nFile Size:  11\nLast modified time:  2020-02-09 11:42:29.559256\n"
    }
   ],
   "source": [
    "### Getting the statistics of the file using stat() function ###\n",
    "# returns time in epoch timestamp\n",
    "import os\n",
    "from datetime import *\n",
    "\n",
    "statistics = os.stat('Dhinesh_Test7/untitled.txt')\n",
    "print(statistics)\n",
    "print(type(statistics))\n",
    "print(\"File Size: \", statistics.st_size)\n",
    "print(\"Last modified time: \", datetime.fromtimestamp(statistics.st_mtime))"
   ]
  },
  {
   "cell_type": "markdown",
   "metadata": {},
   "source": [
    "## Run other programs from python using system() function ##"
   ]
  },
  {
   "cell_type": "code",
   "execution_count": 3,
   "metadata": {},
   "outputs": [
    {
     "data": {
      "text/plain": "32512"
     },
     "execution_count": 3,
     "metadata": {},
     "output_type": "execute_result"
    }
   ],
   "source": [
    "# synatx: os.system('command string')\n",
    "\n",
    "import os\n",
    "os.system('notepad')"
   ]
  },
  {
   "cell_type": "code",
   "execution_count": 7,
   "metadata": {},
   "outputs": [
    {
     "data": {
      "text/plain": "0"
     },
     "execution_count": 7,
     "metadata": {},
     "output_type": "execute_result"
    }
   ],
   "source": [
    "#another example - running a external python file\n",
    "import os\n",
    "os.system('python3 demo9.py')"
   ]
  },
  {
   "cell_type": "code",
   "execution_count": null,
   "metadata": {},
   "outputs": [],
   "source": []
  }
 ],
 "metadata": {
  "kernelspec": {
   "display_name": "Python 3",
   "language": "python",
   "name": "python3"
  },
  "language_info": {
   "codemirror_mode": {
    "name": "ipython",
    "version": 3
   },
   "file_extension": ".py",
   "mimetype": "text/x-python",
   "name": "python",
   "nbconvert_exporter": "python",
   "pygments_lexer": "ipython3",
   "version": "3.6.9-final"
  }
 },
 "nbformat": 4,
 "nbformat_minor": 4
}