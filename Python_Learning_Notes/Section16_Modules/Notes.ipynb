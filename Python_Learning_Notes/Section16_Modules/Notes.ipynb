{
 "cells": [
  {
   "cell_type": "code",
   "execution_count": null,
   "metadata": {},
   "outputs": [],
   "source": [
    "# Every python file is a module\n",
    "\"\"\"\n",
    "module.functionname\n",
    "module.variablename\n",
    "\"\"\""
   ]
  },
  {
   "cell_type": "code",
   "execution_count": null,
   "metadata": {},
   "outputs": [],
   "source": [
    "\"\"\"\n",
    "For every module , there will be a compiled file generated\n",
    "e.g  demo1.cpython-38.pyc\n",
    "This will be stored in __pycache__ folder in the current directory of the module to improve performance\n",
    "\"\"\""
   ]
  },
  {
   "cell_type": "code",
   "execution_count": null,
   "metadata": {},
   "outputs": [],
   "source": [
    "# we can use alias to improve the readability of the code\n",
    "# import modulename as aliasname (once the aliasname is created then we can not use original name of module)"
   ]
  },
  {
   "cell_type": "code",
   "execution_count": null,
   "metadata": {},
   "outputs": [],
   "source": [
    "# Accessing the module members using . operator\n",
    "# syntax: from modulename import member1, member2"
   ]
  },
  {
   "cell_type": "code",
   "execution_count": null,
   "metadata": {},
   "outputs": [],
   "source": [
    "### Member Aliasing ### Various Combination\n",
    "# import demo1\n",
    "# import demo1, demo2\n",
    "# import demo1 as d\n",
    "# import demo1 as d1, demo2 as d2\n",
    "# from demo1 import add\n",
    "# from demo1 import add, sum\n",
    "# from demo1 import add as sum\n",
    "# from demo1 import *\n",
    "# from demo1 import add as sum, mul as prod"
   ]
  },
  {
   "cell_type": "code",
   "execution_count": null,
   "metadata": {},
   "outputs": [],
   "source": [
    "### Module Naming COnflict ###\n",
    "\"\"\"\n",
    "if 2 modules contains the same name as member\n",
    "\"\"\"\n",
    "\"\"\"\n",
    "from module1 import add\n",
    "from module2 import add\n",
    "\"\"\"\n",
    "# latest module will be considered. Here module2 will be considered since that will be interpreted after module 1. So module2 will be latest\n",
    "# Module name conflicts will be resolved based on the order of access (Most recently used)\n",
    "\n",
    "#Solution for these cases:\n",
    "# Soln. 1: use :import module1 instead of \"from module1\"\n",
    "# soln. 2: use alias (from module1 import add as a1)"
   ]
  },
  {
   "cell_type": "code",
   "execution_count": null,
   "metadata": {},
   "outputs": [],
   "source": [
    "### Module Reloading ###\n",
    "# Module will be loaded only once into the memory though we import multiple times\n",
    "# Refer demo2.py and demo2A.py for details.\n",
    "\n",
    "# for this we need to use reload() function from imp package"
   ]
  },
  {
   "cell_type": "code",
   "execution_count": 2,
   "metadata": {},
   "outputs": [
    {
     "data": {
      "text/plain": [
       "['In',\n",
       " 'Out',\n",
       " '_',\n",
       " '__',\n",
       " '___',\n",
       " '__builtin__',\n",
       " '__builtins__',\n",
       " '__doc__',\n",
       " '__loader__',\n",
       " '__name__',\n",
       " '__package__',\n",
       " '__spec__',\n",
       " '_dh',\n",
       " '_i',\n",
       " '_i1',\n",
       " '_i2',\n",
       " '_ih',\n",
       " '_ii',\n",
       " '_iii',\n",
       " '_oh',\n",
       " 'exit',\n",
       " 'get_ipython',\n",
       " 'quit']"
      ]
     },
     "execution_count": 2,
     "metadata": {},
     "output_type": "execute_result"
    }
   ],
   "source": [
    "### finding members of a module using dir() method ###\n",
    "# to list out all members of current module\n",
    "dir()"
   ]
  },
  {
   "cell_type": "code",
   "execution_count": 1,
   "metadata": {},
   "outputs": [
    {
     "output_type": "stream",
     "name": "stdout",
     "text": [
      "['__builtins__', '__cached__', '__doc__', '__file__', '__loader__', '__name__', '__package__', '__spec__', 'add', 'mul', 'x', 'y']\nNone\ndemo2\n/home/dhinesh/Desktop/Dhinesh_Folders/GitHub_Backup/Python_Code_Snippets_Notes/Python_Learning_Notes/Section16_Modules/demo2.py\n<_frozen_importlib_external.SourceFileLoader object at 0x7fb2fd8dd0b8>\n\nModuleSpec(name='demo2', loader=<_frozen_importlib_external.SourceFileLoader object at 0x7fb2fd8dd0b8>, origin='/home/dhinesh/Desktop/Dhinesh_Folders/GitHub_Backup/Python_Code_Snippets_Notes/Python_Learning_Notes/Section16_Modules/demo2.py')\n"
     ]
    }
   ],
   "source": [
    "# to list out all members of specified module -> dir(modulename)\n",
    "import demo2\n",
    "print(dir(demo2))\n",
    "print(demo2.__doc__)\n",
    "print(demo2.__name__)\n",
    "print(demo2.__file__)\n",
    "print(demo2.__loader__)\n",
    "print(demo2.__package__)\n",
    "print(demo2.__spec__)"
   ]
  },
  {
   "cell_type": "code",
   "execution_count": 6,
   "metadata": {},
   "outputs": [
    {
     "name": "stdout",
     "output_type": "stream",
     "text": [
      "['__doc__', '__loader__', '__name__', '__package__', '__spec__', 'acos', 'acosh', 'asin', 'asinh', 'atan', 'atan2', 'atanh', 'ceil', 'comb', 'copysign', 'cos', 'cosh', 'degrees', 'dist', 'e', 'erf', 'erfc', 'exp', 'expm1', 'fabs', 'factorial', 'floor', 'fmod', 'frexp', 'fsum', 'gamma', 'gcd', 'hypot', 'inf', 'isclose', 'isfinite', 'isinf', 'isnan', 'isqrt', 'ldexp', 'lgamma', 'log', 'log10', 'log1p', 'log2', 'modf', 'nan', 'perm', 'pi', 'pow', 'prod', 'radians', 'remainder', 'sin', 'sinh', 'sqrt', 'tan', 'tanh', 'tau', 'trunc']\n"
     ]
    }
   ],
   "source": [
    "import math\n",
    "print(dir(math))"
   ]
  },
  {
   "cell_type": "code",
   "execution_count": 7,
   "metadata": {},
   "outputs": [
    {
     "name": "stdout",
     "output_type": "stream",
     "text": "Help on built-in module math:\n\nNAME\n    math\n\nDESCRIPTION\n    This module is always available.  It provides access to the\n    mathematical functions defined by the C standard.\n\nFUNCTIONS\n    acos(...)\n        acos(x)\n        \n        Return the arc cosine (measured in radians) of x.\n    \n    acosh(...)\n        acosh(x)\n        \n        Return the inverse hyperbolic cosine of x.\n    \n    asin(...)\n        asin(x)\n        \n        Return the arc sine (measured in radians) of x.\n    \n    asinh(...)\n        asinh(x)\n        \n        Return the inverse hyperbolic sine of x.\n    \n    atan(...)\n        atan(x)\n        \n        Return the arc tangent (measured in radians) of x.\n    \n    atan2(...)\n        atan2(y, x)\n        \n        Return the arc tangent (measured in radians) of y/x.\n        Unlike atan(y/x), the signs of both x and y are considered.\n    \n    atanh(...)\n        atanh(x)\n        \n        Return the inverse hyperbolic tangent of x.\n    \n    ceil(...)\n        ceil(x)\n        \n        Return the ceiling of x as an Integral.\n        This is the smallest integer >= x.\n    \n    copysign(...)\n        copysign(x, y)\n        \n        Return a float with the magnitude (absolute value) of x but the sign \n        of y. On platforms that support signed zeros, copysign(1.0, -0.0) \n        returns -1.0.\n    \n    cos(...)\n        cos(x)\n        \n        Return the cosine of x (measured in radians).\n    \n    cosh(...)\n        cosh(x)\n        \n        Return the hyperbolic cosine of x.\n    \n    degrees(...)\n        degrees(x)\n        \n        Convert angle x from radians to degrees.\n    \n    erf(...)\n        erf(x)\n        \n        Error function at x.\n    \n    erfc(...)\n        erfc(x)\n        \n        Complementary error function at x.\n    \n    exp(...)\n        exp(x)\n        \n        Return e raised to the power of x.\n    \n    expm1(...)\n        expm1(x)\n        \n        Return exp(x)-1.\n        This function avoids the loss of precision involved in the direct evaluation of exp(x)-1 for small x.\n    \n    fabs(...)\n        fabs(x)\n        \n        Return the absolute value of the float x.\n    \n    factorial(...)\n        factorial(x) -> Integral\n        \n        Find x!. Raise a ValueError if x is negative or non-integral.\n    \n    floor(...)\n        floor(x)\n        \n        Return the floor of x as an Integral.\n        This is the largest integer <= x.\n    \n    fmod(...)\n        fmod(x, y)\n        \n        Return fmod(x, y), according to platform C.  x % y may differ.\n    \n    frexp(...)\n        frexp(x)\n        \n        Return the mantissa and exponent of x, as pair (m, e).\n        m is a float and e is an int, such that x = m * 2.**e.\n        If x is 0, m and e are both 0.  Else 0.5 <= abs(m) < 1.0.\n    \n    fsum(...)\n        fsum(iterable)\n        \n        Return an accurate floating point sum of values in the iterable.\n        Assumes IEEE-754 floating point arithmetic.\n    \n    gamma(...)\n        gamma(x)\n        \n        Gamma function at x.\n    \n    gcd(...)\n        gcd(x, y) -> int\n        greatest common divisor of x and y\n    \n    hypot(...)\n        hypot(x, y)\n        \n        Return the Euclidean distance, sqrt(x*x + y*y).\n    \n    isclose(...)\n        isclose(a, b, *, rel_tol=1e-09, abs_tol=0.0) -> bool\n        \n        Determine whether two floating point numbers are close in value.\n        \n           rel_tol\n               maximum difference for being considered \"close\", relative to the\n               magnitude of the input values\n            abs_tol\n               maximum difference for being considered \"close\", regardless of the\n               magnitude of the input values\n        \n        Return True if a is close in value to b, and False otherwise.\n        \n        For the values to be considered close, the difference between them\n        must be smaller than at least one of the tolerances.\n        \n        -inf, inf and NaN behave similarly to the IEEE 754 Standard.  That\n        is, NaN is not close to anything, even itself.  inf and -inf are\n        only close to themselves.\n    \n    isfinite(...)\n        isfinite(x) -> bool\n        \n        Return True if x is neither an infinity nor a NaN, and False otherwise.\n    \n    isinf(...)\n        isinf(x) -> bool\n        \n        Return True if x is a positive or negative infinity, and False otherwise.\n    \n    isnan(...)\n        isnan(x) -> bool\n        \n        Return True if x is a NaN (not a number), and False otherwise.\n    \n    ldexp(...)\n        ldexp(x, i)\n        \n        Return x * (2**i).\n    \n    lgamma(...)\n        lgamma(x)\n        \n        Natural logarithm of absolute value of Gamma function at x.\n    \n    log(...)\n        log(x[, base])\n        \n        Return the logarithm of x to the given base.\n        If the base not specified, returns the natural logarithm (base e) of x.\n    \n    log10(...)\n        log10(x)\n        \n        Return the base 10 logarithm of x.\n    \n    log1p(...)\n        log1p(x)\n        \n        Return the natural logarithm of 1+x (base e).\n        The result is computed in a way which is accurate for x near zero.\n    \n    log2(...)\n        log2(x)\n        \n        Return the base 2 logarithm of x.\n    \n    modf(...)\n        modf(x)\n        \n        Return the fractional and integer parts of x.  Both results carry the sign\n        of x and are floats.\n    \n    pow(...)\n        pow(x, y)\n        \n        Return x**y (x to the power of y).\n    \n    radians(...)\n        radians(x)\n        \n        Convert angle x from degrees to radians.\n    \n    sin(...)\n        sin(x)\n        \n        Return the sine of x (measured in radians).\n    \n    sinh(...)\n        sinh(x)\n        \n        Return the hyperbolic sine of x.\n    \n    sqrt(...)\n        sqrt(x)\n        \n        Return the square root of x.\n    \n    tan(...)\n        tan(x)\n        \n        Return the tangent of x (measured in radians).\n    \n    tanh(...)\n        tanh(x)\n        \n        Return the hyperbolic tangent of x.\n    \n    trunc(...)\n        trunc(x:Real) -> Integral\n        \n        Truncates x to the nearest Integral toward 0. Uses the __trunc__ magic method.\n\nDATA\n    e = 2.718281828459045\n    inf = inf\n    nan = nan\n    pi = 3.141592653589793\n    tau = 6.283185307179586\n\nFILE\n    (built-in)\n\n\n"
    },
    {
     "ename": "AttributeError",
     "evalue": "module 'math' has no attribute '__file__'",
     "output_type": "error",
     "traceback": [
      "\u001b[0;31m---------------------------------------------------------------------------\u001b[0m",
      "\u001b[0;31mAttributeError\u001b[0m                            Traceback (most recent call last)",
      "\u001b[0;32m<ipython-input-7-c2ec9845dac0>\u001b[0m in \u001b[0;36m<module>\u001b[0;34m\u001b[0m\n\u001b[1;32m      4\u001b[0m \u001b[0;32mimport\u001b[0m \u001b[0mmath\u001b[0m\u001b[0;34m\u001b[0m\u001b[0;34m\u001b[0m\u001b[0m\n\u001b[1;32m      5\u001b[0m \u001b[0mhelp\u001b[0m\u001b[0;34m(\u001b[0m\u001b[0mmath\u001b[0m\u001b[0;34m)\u001b[0m\u001b[0;34m\u001b[0m\u001b[0;34m\u001b[0m\u001b[0m\n\u001b[0;32m----> 6\u001b[0;31m \u001b[0mprint\u001b[0m\u001b[0;34m(\u001b[0m\u001b[0mmath\u001b[0m\u001b[0;34m.\u001b[0m\u001b[0m__file__\u001b[0m\u001b[0;34m)\u001b[0m\u001b[0;34m\u001b[0m\u001b[0;34m\u001b[0m\u001b[0m\n\u001b[0m",
      "\u001b[0;31mAttributeError\u001b[0m: module 'math' has no attribute '__file__'"
     ]
    }
   ],
   "source": [
    "## difference between dir() and help() methods ##\n",
    "# dir() -> to list out only the members\n",
    "# help() -> to view the documentation of a module or function\n",
    "import math\n",
    "help(math)"
   ]
  },
  {
   "cell_type": "code",
   "execution_count": null,
   "metadata": {},
   "outputs": [],
   "source": []
  },
  {
   "cell_type": "code",
   "execution_count": null,
   "metadata": {},
   "outputs": [],
   "source": [
    "### Extra members added by python interpreter for every module ###\n",
    "# __doc__  -> to hold docstring\n",
    "# __file__  -> file name\n",
    "# __name__  => name of module\n",
    "# __loader__ -> \n",
    "# __package__ -> package details of a module \n",
    "# __annotation__  ->\n",
    "# __builtins  ->\n",
    "# __cached__  ->\n",
    "# __spec__  ->\n",
    "# and etc.\n",
    "# Refer demo3.py for some examples"
   ]
  },
  {
   "cell_type": "code",
   "execution_count": 10,
   "metadata": {},
   "outputs": [
    {
     "name": "stdout",
     "output_type": "stream",
     "text": "math\n"
    }
   ],
   "source": [
    "import math\n",
    "import os\n",
    "print(math.__name__)"
   ]
  },
  {
   "cell_type": "code",
   "execution_count": null,
   "metadata": {},
   "outputs": [],
   "source": [
    "# __name__\n",
    "\n",
    "# direct execution\n",
    "$ py demo4.py\n",
    "Inside module file:  __main__\n",
    "\n",
    "#Indirect execution from imported file\n",
    "lenovo@intel MINGW64 ~/Desktop/My Projects/Code/Python/Python_DurgaSoft/Section16_Modules\n",
    "$ py demo4A.py\n",
    "Inside imported file:  demo4 "
   ]
  },
  {
   "cell_type": "code",
   "execution_count": null,
   "metadata": {},
   "outputs": [],
   "source": [
    "# more example about __name__\n",
    "# Refer demo5.py and demo5A.py"
   ]
  },
  {
   "cell_type": "code",
   "execution_count": null,
   "metadata": {},
   "outputs": [],
   "source": [
    "### Working with math module ###\n",
    "\"\"\"\n",
    "factorial()\n",
    "sqrt()\n",
    "ceil()\n",
    "floor() and etc.\n",
    "\"\"\""
   ]
  },
  {
   "cell_type": "code",
   "execution_count": 14,
   "metadata": {},
   "outputs": [
    {
     "data": {
      "text/plain": [
       "['__doc__',\n",
       " '__loader__',\n",
       " '__name__',\n",
       " '__package__',\n",
       " '__spec__',\n",
       " 'acos',\n",
       " 'acosh',\n",
       " 'asin',\n",
       " 'asinh',\n",
       " 'atan',\n",
       " 'atan2',\n",
       " 'atanh',\n",
       " 'ceil',\n",
       " 'comb',\n",
       " 'copysign',\n",
       " 'cos',\n",
       " 'cosh',\n",
       " 'degrees',\n",
       " 'dist',\n",
       " 'e',\n",
       " 'erf',\n",
       " 'erfc',\n",
       " 'exp',\n",
       " 'expm1',\n",
       " 'fabs',\n",
       " 'factorial',\n",
       " 'floor',\n",
       " 'fmod',\n",
       " 'frexp',\n",
       " 'fsum',\n",
       " 'gamma',\n",
       " 'gcd',\n",
       " 'hypot',\n",
       " 'inf',\n",
       " 'isclose',\n",
       " 'isfinite',\n",
       " 'isinf',\n",
       " 'isnan',\n",
       " 'isqrt',\n",
       " 'ldexp',\n",
       " 'lgamma',\n",
       " 'log',\n",
       " 'log10',\n",
       " 'log1p',\n",
       " 'log2',\n",
       " 'modf',\n",
       " 'nan',\n",
       " 'perm',\n",
       " 'pi',\n",
       " 'pow',\n",
       " 'prod',\n",
       " 'radians',\n",
       " 'remainder',\n",
       " 'sin',\n",
       " 'sinh',\n",
       " 'sqrt',\n",
       " 'tan',\n",
       " 'tanh',\n",
       " 'tau',\n",
       " 'trunc']"
      ]
     },
     "execution_count": 14,
     "metadata": {},
     "output_type": "execute_result"
    }
   ],
   "source": [
    "import math as a\n",
    "dir(a)"
   ]
  },
  {
   "cell_type": "code",
   "execution_count": 24,
   "metadata": {},
   "outputs": [
    {
     "name": "stdout",
     "output_type": "stream",
     "text": [
      "24\n",
      "5.0\n",
      "10.6\n",
      "10.6\n",
      "11\n",
      "10\n"
     ]
    }
   ],
   "source": [
    "#example\n",
    "from math import *\n",
    "print(factorial(4))\n",
    "print(sqrt(25))\n",
    "print(fabs(-10.6))\n",
    "print(fabs(10.6))\n",
    "print(ceil(10.5))\n",
    "print(floor(10.5))"
   ]
  },
  {
   "cell_type": "code",
   "execution_count": 21,
   "metadata": {},
   "outputs": [
    {
     "name": "stdin",
     "output_type": "stream",
     "text": [
      "Enter Radius:  5\n"
     ]
    },
    {
     "name": "stdout",
     "output_type": "stream",
     "text": [
      "Area of circle:  78.53981633974483\n"
     ]
    }
   ],
   "source": [
    "# area of circle\n",
    "from math import *\n",
    "r = int(input(\"Enter Radius: \"))\n",
    "area = pi * pow(r,2)\n",
    "print(\"Area of circle: \", area)"
   ]
  },
  {
   "cell_type": "code",
   "execution_count": null,
   "metadata": {},
   "outputs": [],
   "source": [
    "#Working with random Module: random() and uniform() functions\n",
    "\"\"\"\n",
    "random()\n",
    "uniform()\n",
    "randint()\n",
    "randrange()\n",
    "choice()\n",
    "\"\"\""
   ]
  },
  {
   "cell_type": "code",
   "execution_count": 28,
   "metadata": {},
   "outputs": [
    {
     "name": "stdout",
     "output_type": "stream",
     "text": [
      "0.48083981871518855\n",
      "0.29254629976873503\n",
      "0.07614698919270013\n",
      "0.8244631402081827\n",
      "0.24923253547648005\n",
      "0.5551819498201701\n",
      "0.8712358328062123\n",
      "0.25035823173961735\n",
      "0.746250510280289\n",
      "0.05744035524027291\n"
     ]
    }
   ],
   "source": [
    "# random() method -> to generate random float number between 0 and 1 (not inclusive of 0 and 1)\n",
    "from random import *\n",
    "for i in range(10):\n",
    "    print(random())"
   ]
  },
  {
   "cell_type": "code",
   "execution_count": 35,
   "metadata": {},
   "outputs": [
    {
     "name": "stdout",
     "output_type": "stream",
     "text": [
      "5.262622410841384\n",
      "9.709774640909405\n"
     ]
    }
   ],
   "source": [
    "# generate random float value between a range -> uniform(begin, end) (not inclusive of begin and end)\n",
    "from random import *\n",
    "print(uniform(5,10))\n",
    "print(uniform(5,10))"
   ]
  },
  {
   "cell_type": "code",
   "execution_count": 11,
   "metadata": {},
   "outputs": [
    {
     "name": "stdout",
     "output_type": "stream",
     "text": "4\n9\n9\n5\n9\n1\n10\n9\n1\n3\n"
    }
   ],
   "source": [
    "# randint(begin, end) - to generate random int value between begin and end (inclusive of begin and end)\n",
    "\n",
    "from random import randint\n",
    "for i in range(10):\n",
    "    print(randint(1,10))"
   ]
  },
  {
   "cell_type": "code",
   "execution_count": 10,
   "metadata": {},
   "outputs": [
    {
     "output_type": "stream",
     "name": "stdout",
     "text": [
      "3\n"
     ]
    }
   ],
   "source": [
    "# randrange(begin,end,step) - generate random int value from begin to end-1 with step value\n",
    "    # begin is optional and default value is 0\n",
    "    # step is optional and default value is 1\n",
    "# example code\n",
    "from random import randrange\n",
    "print(randrange(5))"
   ]
  },
  {
   "cell_type": "code",
   "execution_count": 25,
   "metadata": {},
   "outputs": [
    {
     "name": "stdout",
     "output_type": "stream",
     "text": "1\n4\n7\n7\n1\n4\n7\n7\n7\n1\n"
    }
   ],
   "source": [
    "# another example\n",
    "from random import randrange\n",
    "for i in range(10):\n",
    "    print(randrange(1,10,3))"
   ]
  },
  {
   "cell_type": "code",
   "execution_count": 46,
   "metadata": {},
   "outputs": [
    {
     "name": "stdout",
     "output_type": "stream",
     "text": [
      "banana\n",
      "apple\n",
      "orange\n",
      "apple\n",
      "apple\n"
     ]
    }
   ],
   "source": [
    "# choice() function -> to generate a random object from list, string, tuple etc\n",
    "# but the sequence should be indexable (string, list and tuple)\n",
    "\n",
    "from random import choice\n",
    "fruits = ['apple', 'banana', 'orange', 'grapes']\n",
    "for i in range(5):\n",
    "    print(choice(fruits))"
   ]
  },
  {
   "cell_type": "code",
   "execution_count": 47,
   "metadata": {},
   "outputs": [
    {
     "name": "stdout",
     "output_type": "stream",
     "text": [
      "W\n",
      "P\n",
      "Y\n",
      "A\n",
      "M\n"
     ]
    }
   ],
   "source": [
    "#selecting random alphabets\n",
    "from random import choice\n",
    "alphabets = \"ABCDEFGHIJKLMNOPQRSTVUWXYZ\"\n",
    "for i in range(5):\n",
    "    print(choice(alphabets))\n"
   ]
  },
  {
   "cell_type": "code",
   "execution_count": 54,
   "metadata": {},
   "outputs": [
    {
     "name": "stdout",
     "output_type": "stream",
     "text": [
      "466273\n",
      "355688\n",
      "605092\n",
      "181897\n",
      "110992\n",
      "844192\n",
      "856492\n",
      "554609\n",
      "517868\n",
      "390245\n"
     ]
    }
   ],
   "source": [
    "### Program to generate 6 digit random number to use as OTP ###\n",
    "from random import *\n",
    "for i in range(10):\n",
    "    print(randint(0,9),randint(0,9),randint(0,9),randint(0,9),randint(0,9),randint(0,9),sep=\"\")"
   ]
  },
  {
   "cell_type": "code",
   "execution_count": 55,
   "metadata": {},
   "outputs": [
    {
     "name": "stdout",
     "output_type": "stream",
     "text": [
      "146999\n"
     ]
    }
   ],
   "source": [
    "# another style\n",
    "from random import *\n",
    "otp = \"\"\n",
    "\n",
    "for i in range(6):\n",
    "    otp = otp + str(randint(0,9))\n",
    "    \n",
    "print(otp)"
   ]
  },
  {
   "cell_type": "code",
   "execution_count": 3,
   "metadata": {},
   "outputs": [
    {
     "name": "stdout",
     "output_type": "stream",
     "text": [
      "A6X6T1\n",
      "U4O3M8\n",
      "L8N9I2\n",
      "I0D1U7\n",
      "Z6L6R2\n",
      "A0Z5U0\n",
      "Q0U6C1\n",
      "N2Y1X3\n",
      "T9A2W3\n",
      "E5X6A5\n"
     ]
    }
   ],
   "source": [
    "# Example to generate random password of 6 length where\n",
    "# 1,3,5 characters are alphabet symbols and \n",
    "# 2,4,6 characters are digits\n",
    "# Example: A4G5T2\n",
    "\n",
    "from random import *\n",
    "alphabets = \"ABCDEFGHIJKLMNOPQRSTVUWXYZ\"\n",
    "digits = \"0123456789\"\n",
    "\n",
    "for i in range(10):\n",
    "    print(choice(alphabets), choice(digits),choice(alphabets), choice(digits),choice(alphabets), choice(digits),sep=\"\")\n"
   ]
  },
  {
   "cell_type": "code",
   "execution_count": null,
   "metadata": {},
   "outputs": [],
   "source": [
    "### Demo Program - Program To Generate Fake Employee Data For Database Testing ###\n",
    "# 6 fields to be generated\n",
    "\n",
    "\"\"\"\n",
    "Employee name (3-10 characters) (First should uppercase and remaining lowercase)\n",
    "Employee number (e-four digits)\n",
    "Employee salary (from 10000 to 50000)\n",
    "Employee city ['Hyderabad', \"Chennai\", \"Bangalore\", \"Pune\", \"Delhi\", \"Mumbai\"]\n",
    "Employee mobile number (should be exactly 10 digits, first digit should be7,8,9)\n",
    "Designation(['Software Engineer', \"Senior Software Engineer\", \"Team Lead\", \"Project Lead\", \"Project Manager\"])\n",
    "\"\"\""
   ]
  },
  {
   "cell_type": "code",
   "execution_count": 26,
   "metadata": {},
   "outputs": [
    {
     "name": "stdout",
     "output_type": "stream",
     "text": [
      "Employee name:  Edvzn\n",
      "Employee number:  e-2284\n",
      "Employee Salary: 49466.29\n",
      "Employee City:  Bangalore\n",
      "Employee Mobile Number:  9467886853\n",
      "Employee Designation:  Senior Software Engineer\n",
      "\n",
      "Employee name:  Szl\n",
      "Employee number:  e-3631\n",
      "Employee Salary: 37507.92\n",
      "Employee City:  Delhi\n",
      "Employee Mobile Number:  8663680328\n",
      "Employee Designation:  Software Engineer\n",
      "\n",
      "Employee name:  Ecdt\n",
      "Employee number:  e-8761\n",
      "Employee Salary: 14707.93\n",
      "Employee City:  Chennai\n",
      "Employee Mobile Number:  9457477920\n",
      "Employee Designation:  Project Manager\n",
      "\n"
     ]
    }
   ],
   "source": [
    "from random import *\n",
    "alphabets = \"abcdefghijklmnopqrstuvwxyz\"\n",
    "digits = \"0123456789\"\n",
    "cities = ['Hyderabad', \"Chennai\", \"Bangalore\", \"Pune\", \"Delhi\", \"Mumbai\"]\n",
    "designations = ['Software Engineer', \"Senior Software Engineer\", \"Team Lead\", \"Project Lead\", \"Project Manager\"]\n",
    "\n",
    "def get_fake_name():\n",
    "    name = choice(alphabets).upper()\n",
    "    n = randint(2,9)\n",
    "    for i in range(n):\n",
    "        name = name + choice(alphabets)\n",
    "    return name\n",
    "\n",
    "def get_fake_eno():\n",
    "    eno = 'e-'\n",
    "    for i in range(4):\n",
    "        eno = eno + choice(digits)\n",
    "    return eno\n",
    "\n",
    "def get_fake_salary():\n",
    "    esal = uniform(10000,50000)\n",
    "    return esal\n",
    "\n",
    "def get_fake_city():\n",
    "    city = choice(cities)\n",
    "    return city\n",
    "\n",
    "def get_fake_mno():\n",
    "    mno = choice('6789')\n",
    "    for i in range(9):\n",
    "        mno = mno + choice(digits)\n",
    "    return mno\n",
    "\n",
    "def get_fake_designation():\n",
    "    designation = choice(designations)\n",
    "    return designation\n",
    "\n",
    "def get_fake_emp_data():\n",
    "    print(\"Employee name: \", get_fake_name())\n",
    "    print(\"Employee number: \", get_fake_eno())\n",
    "    print(\"Employee Salary: {:.2f}\".format(get_fake_salary()))\n",
    "    print(\"Employee City: \", get_fake_city())\n",
    "    print(\"Employee Mobile Number: \", get_fake_mno())\n",
    "    print(\"Employee Designation: \", get_fake_designation())\n",
    "for i in range(3):\n",
    "    get_fake_emp_data()\n",
    "    print()"
   ]
  },
  {
   "cell_type": "code",
   "execution_count": null,
   "metadata": {},
   "outputs": [],
   "source": []
  }
 ],
 "metadata": {
  "kernelspec": {
   "display_name": "Python 3",
   "language": "python",
   "name": "python3"
  },
  "language_info": {
   "codemirror_mode": {
    "name": "ipython",
    "version": 3
   },
   "file_extension": ".py",
   "mimetype": "text/x-python",
   "name": "python",
   "nbconvert_exporter": "python",
   "pygments_lexer": "ipython3",
   "version": "3.6.9-final"
  }
 },
 "nbformat": 4,
 "nbformat_minor": 4
}