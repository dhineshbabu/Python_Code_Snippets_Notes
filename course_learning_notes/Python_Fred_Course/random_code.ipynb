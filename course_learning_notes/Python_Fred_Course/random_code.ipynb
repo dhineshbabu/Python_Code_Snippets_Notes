{
 "cells": [
  {
   "cell_type": "code",
   "execution_count": 4,
   "id": "948ad118d1f0e4e",
   "metadata": {
    "collapsed": false
   },
   "outputs": [
    {
     "name": "stdout",
     "output_type": "stream",
     "text": [
      "['First Name', 'Last Name', 'DOB', 'Sketches']\n",
      "['John', 'Cleese', '10/27/39', \"The Cheese Shop, Ministry of Silly Walks, It's the Arts\"]\n",
      "['Eric', 'Idle', '3/29/43', 'The Cheese Shop, Nudge Nudge, \"Spam\"']\n",
      "['Peter', \"O'Toole\", '8/2/32', 'Lawrence of Arabia']\n"
     ]
    }
   ],
   "source": [
    "import csv\n",
    "\n",
    "with open('actors.csv') as f:\n",
    "    reader = csv.reader(f, delimiter=',', quotechar='\"')\n",
    "    for row in reader:\n",
    "        print(row)"
   ]
  },
  {
   "cell_type": "code",
   "execution_count": 5,
   "id": "2120af0706126ad0",
   "metadata": {
    "collapsed": false
   },
   "outputs": [
    {
     "data": {
      "text/plain": [
       "['excel', 'excel-tab', 'unix']"
      ]
     },
     "execution_count": 5,
     "metadata": {},
     "output_type": "execute_result"
    }
   ],
   "source": [
    "csv.list_dialects()"
   ]
  },
  {
   "cell_type": "code",
   "execution_count": 6,
   "id": "58d1143a",
   "metadata": {},
   "outputs": [],
   "source": [
    "class Person:\n",
    "    language: str = 'python'\n",
    "    version: str = '3.6'"
   ]
  },
  {
   "cell_type": "code",
   "execution_count": 2,
   "id": "7b9130d7",
   "metadata": {},
   "outputs": [
    {
     "data": {
      "text/plain": [
       "type"
      ]
     },
     "execution_count": 2,
     "metadata": {},
     "output_type": "execute_result"
    }
   ],
   "source": [
    "type(Person)"
   ]
  },
  {
   "cell_type": "code",
   "execution_count": 3,
   "id": "34caa709",
   "metadata": {},
   "outputs": [
    {
     "data": {
      "text/plain": [
       "'Person'"
      ]
     },
     "execution_count": 3,
     "metadata": {},
     "output_type": "execute_result"
    }
   ],
   "source": [
    "Person.__name__"
   ]
  },
  {
   "cell_type": "code",
   "execution_count": 4,
   "id": "4a4efa06",
   "metadata": {},
   "outputs": [
    {
     "data": {
      "text/plain": [
       "__main__.Person"
      ]
     },
     "execution_count": 4,
     "metadata": {},
     "output_type": "execute_result"
    }
   ],
   "source": [
    "Person"
   ]
  },
  {
   "cell_type": "code",
   "execution_count": 7,
   "id": "31a056c9",
   "metadata": {},
   "outputs": [
    {
     "data": {
      "text/plain": [
       "mappingproxy({'__module__': '__main__',\n",
       "              '__annotations__': {'language': str, 'version': str},\n",
       "              'language': 'python',\n",
       "              'version': '3.6',\n",
       "              '__dict__': <attribute '__dict__' of 'Person' objects>,\n",
       "              '__weakref__': <attribute '__weakref__' of 'Person' objects>,\n",
       "              '__doc__': None})"
      ]
     },
     "execution_count": 7,
     "metadata": {},
     "output_type": "execute_result"
    }
   ],
   "source": [
    "Person.__dict__"
   ]
  },
  {
   "cell_type": "code",
   "execution_count": 9,
   "id": "05faec6c",
   "metadata": {},
   "outputs": [
    {
     "data": {
      "text/plain": [
       "'python'"
      ]
     },
     "execution_count": 9,
     "metadata": {},
     "output_type": "execute_result"
    }
   ],
   "source": [
    "Person.language"
   ]
  },
  {
   "cell_type": "code",
   "execution_count": 10,
   "id": "777defcd",
   "metadata": {},
   "outputs": [
    {
     "data": {
      "text/plain": [
       "'python'"
      ]
     },
     "execution_count": 10,
     "metadata": {},
     "output_type": "execute_result"
    }
   ],
   "source": [
    "getattr(Person, 'language')\n"
   ]
  },
  {
   "cell_type": "code",
   "execution_count": null,
   "id": "997c69ae",
   "metadata": {},
   "outputs": [],
   "source": []
  }
 ],
 "metadata": {
  "kernelspec": {
   "display_name": "Python 3",
   "language": "python",
   "name": "python3"
  },
  "language_info": {
   "codemirror_mode": {
    "name": "ipython",
    "version": 3
   },
   "file_extension": ".py",
   "mimetype": "text/x-python",
   "name": "python",
   "nbconvert_exporter": "python",
   "pygments_lexer": "ipython3",
   "version": "3.12.1"
  }
 },
 "nbformat": 4,
 "nbformat_minor": 5
}
