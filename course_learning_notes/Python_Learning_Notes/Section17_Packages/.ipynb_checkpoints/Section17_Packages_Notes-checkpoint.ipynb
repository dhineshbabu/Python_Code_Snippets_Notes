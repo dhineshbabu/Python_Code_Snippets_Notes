{
 "cells": [
  {
   "cell_type": "code",
   "execution_count": null,
   "metadata": {},
   "outputs": [],
   "source": [
    "# Functions -> Modules -> Package -> Library"
   ]
  },
  {
   "cell_type": "code",
   "execution_count": null,
   "metadata": {},
   "outputs": [],
   "source": [
    "# Package -> Group of related modules\n",
    "# package must contain __init__.py file in its directory\n",
    "# From python 3.3 version , __init_.py is not mandatory for a package folder"
   ]
  },
  {
   "cell_type": "code",
   "execution_count": null,
   "metadata": {},
   "outputs": [],
   "source": [
    "# Demo to create packages\n",
    "# refer test.py"
   ]
  },
  {
   "cell_type": "code",
   "execution_count": null,
   "metadata": {},
   "outputs": [],
   "source": [
    "# demo for subpackages\n",
    "# refer test2.py"
   ]
  },
  {
   "cell_type": "code",
   "execution_count": null,
   "metadata": {},
   "outputs": [],
   "source": [
    "# importance of __init__.py - this will be executed automatically when the module is loaded"
   ]
  },
  {
   "cell_type": "code",
   "execution_count": null,
   "metadata": {},
   "outputs": [],
   "source": [
    "## Need of installing a python package ##\n",
    "# if we need to access a package from anywhere in the system, we need to install it"
   ]
  },
  {
   "cell_type": "code",
   "execution_count": 2,
   "metadata": {},
   "outputs": [
    {
     "name": "stdout",
     "output_type": "stream",
     "text": [
      "From shape1 of patterns package\n"
     ]
    }
   ],
   "source": [
    "# How to install a python code #\n",
    "\"\"\"\n",
    "we need to wite setup.py that should have setup() function from setuptools module\n",
    "\"\"\"\n",
    "#refer mypatterns directory\n",
    "\"\"\"\n",
    "pip install .   -> to run from the directory where setup.py is available\n",
    "\"\"\"\n",
    "\n",
    "\"\"\"\n",
    "#contents of setup.py:\n",
    "from setuptools import setup\n",
    "setup(name='patterns', version='0.1', packages=['patterns'])\n",
    "\"\"\"\n",
    "\n",
    "# Now we can use the package anywhere from the system\n",
    "from patterns import shapes\n",
    "shapes.shape1()"
   ]
  },
  {
   "cell_type": "code",
   "execution_count": null,
   "metadata": {},
   "outputs": [],
   "source": [
    "#to uninstall a package\n",
    "pip uninstall patterns"
   ]
  }
 ],
 "metadata": {
  "kernelspec": {
   "display_name": "Python 3",
   "language": "python",
   "name": "python3"
  },
  "language_info": {
   "codemirror_mode": {
    "name": "ipython",
    "version": 3
   },
   "file_extension": ".py",
   "mimetype": "text/x-python",
   "name": "python",
   "nbconvert_exporter": "python",
   "pygments_lexer": "ipython3",
   "version": "3.8.1"
  }
 },
 "nbformat": 4,
 "nbformat_minor": 4
}
