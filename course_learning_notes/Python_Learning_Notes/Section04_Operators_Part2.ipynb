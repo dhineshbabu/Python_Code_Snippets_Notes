{
 "cells": [
  {
   "cell_type": "markdown",
   "source": [
    "***\n",
    "## Arithmetic Operators\n",
    "- Basic + - * / %\n",
    "- Floor division //\n",
    "- ** exponential Operator\n",
    "***"
   ],
   "metadata": {
    "collapsed": false
   }
  },
  {
   "cell_type": "code",
   "execution_count": null,
   "outputs": [],
   "source": [
    "a = 10\n",
    "b = 20\n",
    "print(a%b)"
   ],
   "metadata": {
    "collapsed": false,
    "pycharm": {
     "name": "#%%\n"
    }
   }
  },
  {
   "cell_type": "code",
   "execution_count": null,
   "outputs": [],
   "source": [
    "# Floor division (if result is 10.1 then it will become 10) (if both operands are int then the result is int. if any one operand is float, then the result is also float)\n",
    "print(5/2) # normal division will always give floating point result\n",
    "print(10/20) # Normal division\n",
    "print(10//20) # Floor division\n",
    "print(10//20.0) # one operand is flaoting"
   ],
   "metadata": {
    "collapsed": false,
    "pycharm": {
     "name": "#%%\n"
    }
   }
  },
  {
   "cell_type": "code",
   "execution_count": null,
   "outputs": [],
   "source": [
    "# Exponential operator (power operator)\n",
    "print(3**2)\n",
    "print(10**2)"
   ],
   "metadata": {
    "collapsed": false,
    "pycharm": {
     "name": "#%%\n"
    }
   }
  },
  {
   "cell_type": "code",
   "execution_count": null,
   "outputs": [],
   "source": [
    "# '+' operator - can be applied to strings and numbers\n",
    "print(10+10.2)\n",
    "print(\"dhinesh\" + \"babu\")"
   ],
   "metadata": {
    "collapsed": false,
    "pycharm": {
     "name": "#%%\n"
    }
   }
  },
  {
   "cell_type": "code",
   "execution_count": null,
   "outputs": [],
   "source": [
    "# '+' operator can not be used between string and int combinations\n",
    "print(\"dhinesh\"+9)"
   ],
   "metadata": {
    "collapsed": false,
    "pycharm": {
     "name": "#%%\n"
    }
   }
  },
  {
   "cell_type": "code",
   "execution_count": null,
   "outputs": [],
   "source": [
    "# '*' operator for string - string repetition operator. any order can work \n",
    "print(\"dhinesh \"* 4)"
   ],
   "metadata": {
    "collapsed": false,
    "pycharm": {
     "name": "#%%\n"
    }
   }
  },
  {
   "cell_type": "code",
   "execution_count": null,
   "outputs": [],
   "source": [
    "# but we cant use * operator between 2 strings\n",
    "print(\"dhinesh\" * \"Dhinesh\")"
   ],
   "metadata": {
    "collapsed": false,
    "pycharm": {
     "name": "#%%\n"
    }
   }
  },
  {
   "cell_type": "code",
   "execution_count": null,
   "outputs": [],
   "source": [
    "# ZeroDivisionError if we divide (floor divide, modulo) any number by zero\n",
    "print(10/0)"
   ],
   "metadata": {
    "collapsed": false,
    "pycharm": {
     "name": "#%%\n"
    }
   }
  },
  {
   "cell_type": "code",
   "execution_count": null,
   "outputs": [],
   "source": [
    "# Multiplying string with Bool\n",
    "print(\"dhinesh\"* True) # True will be converted into 1 internally\n",
    "print(\"dhinesh\" * 0) # Will become empty  string"
   ],
   "metadata": {
    "collapsed": false,
    "pycharm": {
     "name": "#%%\n"
    }
   }
  },
  {
   "cell_type": "markdown",
   "source": [
    "***\n",
    "## Relational Operators\n",
    "***"
   ],
   "metadata": {
    "collapsed": false
   }
  },
  {
   "cell_type": "code",
   "execution_count": null,
   "outputs": [],
   "source": [
    "print(10<20)\n",
    "print(10>20)\n",
    "print(10>=20)\n",
    "print(10<=20)\n",
    "print(10==20)\n",
    "print(10!=20)"
   ],
   "metadata": {
    "collapsed": false,
    "pycharm": {
     "name": "#%%\n"
    }
   }
  },
  {
   "cell_type": "code",
   "execution_count": null,
   "outputs": [],
   "source": [
    "# string comparison (based on unicode)\n",
    "s1 = 'a'\n",
    "s2 = 'b'\n",
    "print(ord(s1)) # to get the unicode value\n",
    "print(ord(s2))\n",
    "print(chr(97)) # to get the charracters from the unicode value\n",
    "print(s1 < s2)\n",
    "print(s1 <= s2)\n",
    "print(s1 > s2)"
   ],
   "metadata": {
    "collapsed": false,
    "pycharm": {
     "name": "#%%\n"
    }
   }
  },
  {
   "cell_type": "code",
   "execution_count": null,
   "outputs": [],
   "source": [
    "# Multiple comparisons (Chaining) - if all comparison returns True the result is True, if atleast one is False then ressult is False\n",
    "print(10<20)# True\n",
    "print(10<20<30) #True\n",
    "print(10<20<30>40) #False"
   ],
   "metadata": {
    "collapsed": false,
    "pycharm": {
     "name": "#%%\n"
    }
   }
  },
  {
   "cell_type": "markdown",
   "source": [
    "***\n",
    "## Equality Opereators\n",
    "- == and != Opereators\n",
    "***"
   ],
   "metadata": {
    "collapsed": false
   }
  },
  {
   "cell_type": "code",
   "execution_count": null,
   "outputs": [],
   "source": [
    "print(10 ==20)\n",
    "print(10 != 20)"
   ],
   "metadata": {
    "collapsed": false,
    "pycharm": {
     "name": "#%%\n"
    }
   }
  },
  {
   "cell_type": "code",
   "execution_count": null,
   "outputs": [],
   "source": [
    "print(1 == True) # True will become 1\n",
    "print(10 == 10.0)"
   ],
   "metadata": {
    "collapsed": false,
    "pycharm": {
     "name": "#%%\n"
    }
   }
  },
  {
   "cell_type": "code",
   "execution_count": null,
   "outputs": [],
   "source": [],
   "metadata": {
    "collapsed": false,
    "pycharm": {
     "name": "#%%\n"
    }
   }
  },
  {
   "cell_type": "code",
   "execution_count": null,
   "outputs": [],
   "source": [],
   "metadata": {
    "collapsed": false,
    "pycharm": {
     "name": "#%%\n"
    }
   }
  },
  {
   "cell_type": "code",
   "execution_count": null,
   "outputs": [],
   "source": [],
   "metadata": {
    "collapsed": false,
    "pycharm": {
     "name": "#%%\n"
    }
   }
  },
  {
   "cell_type": "markdown",
   "source": [
    "***\n",
    "## Shift Opereators\n",
    "***"
   ],
   "metadata": {
    "collapsed": false
   }
  },
  {
   "cell_type": "code",
   "execution_count": null,
   "outputs": [],
   "source": [
    "# << shift left operators -> vacant cells will be filled with zero\n",
    "# >> right shift operators -> vacant cells will be filled with signed bit (0 for positive and 1 for negative)"
   ],
   "metadata": {
    "collapsed": false,
    "pycharm": {
     "name": "#%%\n"
    }
   }
  },
  {
   "cell_type": "code",
   "execution_count": 1,
   "outputs": [
    {
     "output_type": "execute_result",
     "data": {
      "text/plain": [
       "40"
      ]
     },
     "metadata": {},
     "execution_count": 1
    }
   ],
   "source": [
    "10 << 2"
   ],
   "metadata": {
    "collapsed": false,
    "pycharm": {
     "name": "#%%\n"
    }
   }
  },
  {
   "cell_type": "code",
   "execution_count": 2,
   "outputs": [
    {
     "output_type": "execute_result",
     "data": {
      "text/plain": [
       "2"
      ]
     },
     "metadata": {},
     "execution_count": 2
    }
   ],
   "source": [
    "10 >> 2"
   ],
   "metadata": {
    "collapsed": false,
    "pycharm": {
     "name": "#%%\n"
    }
   }
  },
  {
   "cell_type": "code",
   "execution_count": 3,
   "outputs": [
    {
     "output_type": "execute_result",
     "data": {
      "text/plain": [
       "-3"
      ]
     },
     "metadata": {},
     "execution_count": 3
    }
   ],
   "source": [
    "-10 >> 2"
   ],
   "metadata": {
    "collapsed": false,
    "pycharm": {
     "name": "#%%\n"
    }
   }
  },
  {
   "cell_type": "code",
   "execution_count": null,
   "outputs": [],
   "source": [
    "# For Boolean. It will convert True to 1 and then perform the shift\n",
    "True << 2"
   ],
   "metadata": {
    "collapsed": false,
    "pycharm": {
     "name": "#%%\n"
    }
   }
  },
  {
   "cell_type": "code",
   "execution_count": null,
   "outputs": [],
   "source": [
    "True >> 2"
   ],
   "metadata": {
    "collapsed": false,
    "pycharm": {
     "name": "#%%\n"
    }
   }
  },
  {
   "cell_type": "markdown",
   "source": [
    "***\n",
    "## Assignment Operator\n",
    "***"
   ],
   "metadata": {
    "collapsed": false
   }
  },
  {
   "cell_type": "code",
   "execution_count": null,
   "outputs": [],
   "source": [
    "# few compound assignment\n",
    "\"\"\"\n",
    "+=\n",
    "-=\n",
    "/=\n",
    "%=\n",
    "//=\n",
    "**=\n",
    "&=\n",
    "|=\n",
    "^=\n",
    ">>=\n",
    "<<=\n",
    "\"\"\""
   ],
   "metadata": {
    "collapsed": false,
    "pycharm": {
     "name": "#%%\n"
    }
   }
  },
  {
   "cell_type": "code",
   "execution_count": 4,
   "outputs": [
    {
     "output_type": "stream",
     "name": "stdout",
     "text": [
      "0\n"
     ]
    }
   ],
   "source": [
    "#Example\n",
    "x = 10\n",
    "x &= 5\n",
    "print(x)"
   ],
   "metadata": {
    "collapsed": false,
    "pycharm": {
     "name": "#%%\n"
    }
   }
  },
  {
   "cell_type": "code",
   "execution_count": 5,
   "outputs": [
    {
     "output_type": "stream",
     "name": "stdout",
     "text": [
      "100\n"
     ]
    }
   ],
   "source": [
    "#another example\n",
    "x=10\n",
    "x **= 2\n",
    "print(x)"
   ],
   "metadata": {
    "collapsed": false,
    "pycharm": {
     "name": "#%%\n"
    }
   }
  },
  {
   "cell_type": "code",
   "execution_count": 6,
   "outputs": [
    {
     "output_type": "stream",
     "name": "stdout",
     "text": [
      "10\n10\n-10\n10\n"
     ]
    }
   ],
   "source": [
    "# in python ++ and -- operators are not there (only for post increment). Pre increment will be considered as sign\n",
    "x = 10\n",
    "print(++x)\n",
    "print(++++x)\n",
    "print(-x)\n",
    "print(--x)"
   ],
   "metadata": {
    "collapsed": false,
    "pycharm": {
     "name": "#%%\n"
    }
   }
  },
  {
   "cell_type": "markdown",
   "source": [
    "***\n",
    "## Ternary Operator\n",
    "* Syntax\n",
    "    *variable = first-value if condition else second-value\n",
    "***"
   ],
   "metadata": {
    "collapsed": false
   }
  },
  {
   "cell_type": "code",
   "execution_count": 7,
   "outputs": [
    {
     "output_type": "stream",
     "name": "stdout",
     "text": [
      "40\n"
     ]
    }
   ],
   "source": [
    "a = 10\n",
    "b = 20\n",
    "c = 30 if a>b else 40\n",
    "print(c)"
   ],
   "metadata": {
    "collapsed": false,
    "pycharm": {
     "name": "#%%\n"
    }
   }
  },
  {
   "cell_type": "code",
   "execution_count": 8,
   "outputs": [
    {
     "output_type": "stream",
     "name": "stdout",
     "text": [
      "20\n"
     ]
    }
   ],
   "source": [
    "#Example. Read 2 int values from keyboard and print min value. input() function always return str type\n",
    "a = int(input(\"Enter first number: \"))\n",
    "b = int(input(\"Enter second number: \"))\n",
    "c = a if a<b else b\n",
    "print(c)"
   ],
   "metadata": {
    "collapsed": false,
    "pycharm": {
     "name": "#%%\n"
    }
   }
  },
  {
   "cell_type": "code",
   "execution_count": null,
   "outputs": [],
   "source": [
    "# Nesting of ternary operator\n",
    "#Example: print the minimum of three inputs\n",
    "a = int(input(\"Enter first number: \"))\n",
    "b = int(input(\"Enter second number: \"))\n",
    "c = int(input(\"Enter third number: \"))\n",
    "d = a if a<b and a<c else b if b<c else c\n",
    "print(d)"
   ],
   "metadata": {
    "collapsed": false,
    "pycharm": {
     "name": "#%%\n"
    }
   }
  },
  {
   "cell_type": "code",
   "execution_count": null,
   "outputs": [],
   "source": [
    "#another example. Printing output based on conditions\n",
    "a = int(input(\"Enter first number: \"))\n",
    "b = int(input(\"Enter second number: \"))\n",
    "result = \"equal\" if a == b else \"smaller\" if a<b else \"Bigger\"\n",
    "\n",
    "print(\"First number is \" + result + \" than the second number\")"
   ],
   "metadata": {
    "collapsed": false,
    "pycharm": {
     "name": "#%%\n"
    }
   }
  },
  {
   "cell_type": "markdown",
   "source": [
    "***\n",
    "## Special operators identity and membership opereators\n",
    "***"
   ],
   "metadata": {
    "collapsed": false
   }
  },
  {
   "cell_type": "code",
   "execution_count": 1,
   "outputs": [
    {
     "output_type": "stream",
     "name": "stdout",
     "text": [
      "True\n10914784\n10914784\nFalse\n"
     ]
    }
   ],
   "source": [
    "# identity operators  => is , is not\n",
    "# r1 is r2 => return True if both the references pointing to the same object\n",
    "# r1 is not r2 => return True if both the references pointing to different objects\n",
    "a = 10\n",
    "b = 10\n",
    "print(a is b)\n",
    "print(id(a))\n",
    "print(id(b))\n",
    "print(a is not b)"
   ],
   "metadata": {
    "collapsed": false,
    "pycharm": {
     "name": "#%%\n"
    }
   }
  },
  {
   "cell_type": "code",
   "execution_count": 2,
   "outputs": [
    {
     "output_type": "stream",
     "name": "stdout",
     "text": [
      "False\n140516400518216\n140516400436808\nTrue\n"
     ]
    }
   ],
   "source": [
    "# another example. Always list type will not have object reusability\n",
    "l1 = [10, 20]\n",
    "l2 = [10, 20]\n",
    "print(l1 is l2)\n",
    "print(id(l1))\n",
    "print(id(l2))\n",
    "print(l1 is not l2)"
   ],
   "metadata": {
    "collapsed": false,
    "pycharm": {
     "name": "#%%\n"
    }
   }
  },
  {
   "cell_type": "code",
   "execution_count": 3,
   "outputs": [
    {
     "output_type": "stream",
     "name": "stdout",
     "text": [
      "True\n"
     ]
    }
   ],
   "source": [
    "# == operator will perform content comparison\n",
    "print(l1 == l2)"
   ],
   "metadata": {
    "collapsed": false,
    "pycharm": {
     "name": "#%%\n"
    }
   }
  },
  {
   "cell_type": "code",
   "execution_count": 4,
   "outputs": [
    {
     "output_type": "stream",
     "name": "stdout",
     "text": [
      "True\nTrue\nFalse\nTrue\n"
     ]
    }
   ],
   "source": [
    "### Membership operator ###\n",
    "# in and not in operators\n",
    "# \"a in sequqnce\" => returns True if a is a member of a sequence\n",
    "# \"a not in sequqnce\" => returns True if a is not a member of a sequence\n",
    "s = \"Hello This is Dhinesh\"\n",
    "print(\"Dhinesh\" in s)\n",
    "print(\"Kanu\" not in s)\n",
    "print(\"z\" in s)\n",
    "print(\"D\" in s)"
   ],
   "metadata": {
    "collapsed": false,
    "pycharm": {
     "name": "#%%\n"
    }
   }
  },
  {
   "cell_type": "code",
   "execution_count": 5,
   "outputs": [
    {
     "output_type": "stream",
     "name": "stdout",
     "text": [
      "True\n"
     ]
    }
   ],
   "source": [
    "# another example\n",
    "l = [\"Dhinesh\", \"kanu\", \"rabbit\"]\n",
    "print(\"rabbit\" in l)"
   ],
   "metadata": {
    "collapsed": false,
    "pycharm": {
     "name": "#%%\n"
    }
   }
  },
  {
   "cell_type": "markdown",
   "source": [
    "***\n",
    "## Operator Precedence\n",
    "***"
   ],
   "metadata": {
    "collapsed": false
   }
  },
  {
   "cell_type": "code",
   "execution_count": null,
   "outputs": [],
   "source": [
    "\"\"\"\n",
    "() \n",
    "**\n",
    "~ - (unary operator)\n",
    "* / % //\n",
    "+ - \n",
    "<< >>\n",
    "&\n",
    "^\n",
    "|\n",
    ">, >=, <, <=, ==, !=\n",
    "=, +=, -=, *=\n",
    "is, is not\n",
    "in, in not\n",
    "not\n",
    "and\n",
    "or\n",
    "\"\"\""
   ],
   "metadata": {
    "collapsed": false,
    "pycharm": {
     "name": "#%%\n"
    }
   }
  },
  {
   "cell_type": "code",
   "execution_count": null,
   "outputs": [],
   "source": [
    "# Example\n",
    "a = 30\n",
    "b = 20\n",
    "c = 10\n",
    "d = 5\n",
    "print((a+b) * c/d)\n",
    "print((a+b) * (c/d))\n",
    "print(a+(b*c)/d)"
   ],
   "metadata": {
    "collapsed": false,
    "pycharm": {
     "name": "#%%\n"
    }
   }
  },
  {
   "cell_type": "code",
   "execution_count": null,
   "outputs": [],
   "source": [
    "# another example\n",
    "3/2*4+3+(10/5)**3-2"
   ],
   "metadata": {
    "collapsed": false,
    "pycharm": {
     "name": "#%%\n"
    }
   }
  },
  {
   "cell_type": "markdown",
   "source": [
    "***\n",
    "## Basic Information about Modules in Python \n",
    "* any python file acts as a module.\n",
    "***"
   ],
   "metadata": {
    "collapsed": false
   }
  },
  {
   "cell_type": "code",
   "execution_count": null,
   "outputs": [],
   "source": [
    "# varios ways to import modules\n",
    "# from math import *  => all the functions from math\n",
    "# if 2 functions is having the same name from 2 imports then python VM will consider the latest import\n",
    "# from math1 import *\n",
    "# from math2 import *\n",
    "# in the above code if math1 and math2 is having the same function then function from math2 will be considered"
   ],
   "metadata": {
    "collapsed": false,
    "pycharm": {
     "name": "#%%\n"
    }
   }
  },
  {
   "cell_type": "code",
   "execution_count": 6,
   "outputs": [
    {
     "output_type": "stream",
     "name": "stdout",
     "text": [
      "new function\n"
     ]
    }
   ],
   "source": [
    "def f1():\n",
    "    print(\"old function\")\n",
    "    return\n",
    "\n",
    "def f1():\n",
    "    print(\"new function\")\n",
    "    return\n",
    "\n",
    "f1()"
   ],
   "metadata": {
    "collapsed": false,
    "pycharm": {
     "name": "#%%\n"
    }
   }
  },
  {
   "cell_type": "code",
   "execution_count": null,
   "outputs": [],
   "source": [
    "## important functions in math module (inbuilt module)\n",
    "\"\"\"\n",
    "sqrt(x)\n",
    "floor(x)\n",
    "ceil(x)\n",
    "pow(x)\n",
    "sin(x)\n",
    "cos(x)\n",
    "tan(x) and etc\n",
    "\"\"\""
   ],
   "metadata": {
    "collapsed": false,
    "pycharm": {
     "name": "#%%\n"
    }
   }
  },
  {
   "cell_type": "code",
   "execution_count": 7,
   "outputs": [
    {
     "output_type": "stream",
     "name": "stdout",
     "text": [
      "Area of circle:  78.53981633974483\n"
     ]
    }
   ],
   "source": [
    "# Find area of circle for the given radius\n",
    "from math import *\n",
    "\n",
    "r = int(input(\"Enter radius: \"))\n",
    "print(\"Area of circle: \", pi*pow(r, 2)) # pi is a constant from math module"
   ],
   "metadata": {
    "collapsed": false,
    "pycharm": {
     "name": "#%%\n"
    }
   }
  },
  {
   "cell_type": "code",
   "execution_count": 8,
   "outputs": [
    {
     "output_type": "stream",
     "name": "stdout",
     "text": [
      "Help on built-in module math:\n\nNAME\n    math\n\nDESCRIPTION\n    This module is always available.  It provides access to the\n    mathematical functions defined by the C standard.\n\nFUNCTIONS\n    acos(...)\n        acos(x)\n        \n        Return the arc cosine (measured in radians) of x.\n    \n    acosh(...)\n        acosh(x)\n        \n        Return the inverse hyperbolic cosine of x.\n    \n    asin(...)\n        asin(x)\n        \n        Return the arc sine (measured in radians) of x.\n    \n    asinh(...)\n        asinh(x)\n        \n        Return the inverse hyperbolic sine of x.\n    \n    atan(...)\n        atan(x)\n        \n        Return the arc tangent (measured in radians) of x.\n    \n    atan2(...)\n        atan2(y, x)\n        \n        Return the arc tangent (measured in radians) of y/x.\n        Unlike atan(y/x), the signs of both x and y are considered.\n    \n    atanh(...)\n        atanh(x)\n        \n        Return the inverse hyperbolic tangent of x.\n    \n    ceil(...)\n        ceil(x)\n        \n        Return the ceiling of x as an Integral.\n        This is the smallest integer >= x.\n    \n    copysign(...)\n        copysign(x, y)\n        \n        Return a float with the magnitude (absolute value) of x but the sign \n        of y. On platforms that support signed zeros, copysign(1.0, -0.0) \n        returns -1.0.\n    \n    cos(...)\n        cos(x)\n        \n        Return the cosine of x (measured in radians).\n    \n    cosh(...)\n        cosh(x)\n        \n        Return the hyperbolic cosine of x.\n    \n    degrees(...)\n        degrees(x)\n        \n        Convert angle x from radians to degrees.\n    \n    erf(...)\n        erf(x)\n        \n        Error function at x.\n    \n    erfc(...)\n        erfc(x)\n        \n        Complementary error function at x.\n    \n    exp(...)\n        exp(x)\n        \n        Return e raised to the power of x.\n    \n    expm1(...)\n        expm1(x)\n        \n        Return exp(x)-1.\n        This function avoids the loss of precision involved in the direct evaluation of exp(x)-1 for small x.\n    \n    fabs(...)\n        fabs(x)\n        \n        Return the absolute value of the float x.\n    \n    factorial(...)\n        factorial(x) -> Integral\n        \n        Find x!. Raise a ValueError if x is negative or non-integral.\n    \n    floor(...)\n        floor(x)\n        \n        Return the floor of x as an Integral.\n        This is the largest integer <= x.\n    \n    fmod(...)\n        fmod(x, y)\n        \n        Return fmod(x, y), according to platform C.  x % y may differ.\n    \n    frexp(...)\n        frexp(x)\n        \n        Return the mantissa and exponent of x, as pair (m, e).\n        m is a float and e is an int, such that x = m * 2.**e.\n        If x is 0, m and e are both 0.  Else 0.5 <= abs(m) < 1.0.\n    \n    fsum(...)\n        fsum(iterable)\n        \n        Return an accurate floating point sum of values in the iterable.\n        Assumes IEEE-754 floating point arithmetic.\n    \n    gamma(...)\n        gamma(x)\n        \n        Gamma function at x.\n    \n    gcd(...)\n        gcd(x, y) -> int\n        greatest common divisor of x and y\n    \n    hypot(...)\n        hypot(x, y)\n        \n        Return the Euclidean distance, sqrt(x*x + y*y).\n    \n    isclose(...)\n        isclose(a, b, *, rel_tol=1e-09, abs_tol=0.0) -> bool\n        \n        Determine whether two floating point numbers are close in value.\n        \n           rel_tol\n               maximum difference for being considered \"close\", relative to the\n               magnitude of the input values\n            abs_tol\n               maximum difference for being considered \"close\", regardless of the\n               magnitude of the input values\n        \n        Return True if a is close in value to b, and False otherwise.\n        \n        For the values to be considered close, the difference between them\n        must be smaller than at least one of the tolerances.\n        \n        -inf, inf and NaN behave similarly to the IEEE 754 Standard.  That\n        is, NaN is not close to anything, even itself.  inf and -inf are\n        only close to themselves.\n    \n    isfinite(...)\n        isfinite(x) -> bool\n        \n        Return True if x is neither an infinity nor a NaN, and False otherwise.\n    \n    isinf(...)\n        isinf(x) -> bool\n        \n        Return True if x is a positive or negative infinity, and False otherwise.\n    \n    isnan(...)\n        isnan(x) -> bool\n        \n        Return True if x is a NaN (not a number), and False otherwise.\n    \n    ldexp(...)\n        ldexp(x, i)\n        \n        Return x * (2**i).\n    \n    lgamma(...)\n        lgamma(x)\n        \n        Natural logarithm of absolute value of Gamma function at x.\n    \n    log(...)\n        log(x[, base])\n        \n        Return the logarithm of x to the given base.\n        If the base not specified, returns the natural logarithm (base e) of x.\n    \n    log10(...)\n        log10(x)\n        \n        Return the base 10 logarithm of x.\n    \n    log1p(...)\n        log1p(x)\n        \n        Return the natural logarithm of 1+x (base e).\n        The result is computed in a way which is accurate for x near zero.\n    \n    log2(...)\n        log2(x)\n        \n        Return the base 2 logarithm of x.\n    \n    modf(...)\n        modf(x)\n        \n        Return the fractional and integer parts of x.  Both results carry the sign\n        of x and are floats.\n    \n    pow(...)\n        pow(x, y)\n        \n        Return x**y (x to the power of y).\n    \n    radians(...)\n        radians(x)\n        \n        Convert angle x from degrees to radians.\n    \n    sin(...)\n        sin(x)\n        \n        Return the sine of x (measured in radians).\n    \n    sinh(...)\n        sinh(x)\n        \n        Return the hyperbolic sine of x.\n    \n    sqrt(...)\n        sqrt(x)\n        \n        Return the square root of x.\n    \n    tan(...)\n        tan(x)\n        \n        Return the tangent of x (measured in radians).\n    \n    tanh(...)\n        tanh(x)\n        \n        Return the hyperbolic tangent of x.\n    \n    trunc(...)\n        trunc(x:Real) -> Integral\n        \n        Truncates x to the nearest Integral toward 0. Uses the __trunc__ magic method.\n\nDATA\n    e = 2.718281828459045\n    inf = inf\n    nan = nan\n    pi = 3.141592653589793\n    tau = 6.283185307179586\n\nFILE\n    (built-in)\n\n\n"
     ]
    }
   ],
   "source": [
    "import math\n",
    "help(math)"
   ],
   "metadata": {
    "collapsed": false,
    "pycharm": {
     "name": "#%%\n"
    }
   }
  },
  {
   "cell_type": "code",
   "execution_count": 9,
   "outputs": [
    {
     "output_type": "stream",
     "name": "stdout",
     "text": [
      "4.0\n3.141592653589793\n2.718281828459045\n64.0\n3\n4\n"
     ]
    }
   ],
   "source": [
    "import math\n",
    "print(math.sqrt(16))\n",
    "print(math.pi)\n",
    "print(math.e)\n",
    "print(math.pow(4,3))\n",
    "print(math.floor(3.999))\n",
    "print(math.ceil(3.999))"
   ],
   "metadata": {
    "collapsed": false,
    "pycharm": {
     "name": "#%%\n"
    }
   }
  },
  {
   "cell_type": "code",
   "execution_count": 10,
   "outputs": [
    {
     "output_type": "stream",
     "name": "stdout",
     "text": [
      "4.0\n3.141592653589793\n2.718281828459045\n"
     ]
    }
   ],
   "source": [
    "#creating alias for module\n",
    "import math as m\n",
    "print(m.sqrt(16))\n",
    "print(m.pi)\n",
    "print(m.e)"
   ],
   "metadata": {
    "collapsed": false,
    "pycharm": {
     "name": "#%%\n"
    }
   }
  },
  {
   "cell_type": "code",
   "execution_count": null,
   "outputs": [],
   "source": [
    "#importing members directly without . operator\n",
    "from math import sqrt\n",
    "print(sqrt(16)) # dont need to use math. here But we can not use other functions , constants in the module"
   ],
   "metadata": {
    "collapsed": false,
    "pycharm": {
     "name": "#%%\n"
    }
   }
  },
  {
   "cell_type": "code",
   "execution_count": null,
   "outputs": [],
   "source": [
    "# importing more than 1 items from a module\n",
    "from math import sqrt, pi\n",
    "print(sqrt(16))\n",
    "print(pi)"
   ],
   "metadata": {
    "collapsed": false,
    "pycharm": {
     "name": "#%%\n"
    }
   }
  },
  {
   "cell_type": "code",
   "execution_count": null,
   "outputs": [],
   "source": [
    "# creating alias for functions or members in module\n",
    "from math import sqrt as s, pi as p\n",
    "print(s(49))\n",
    "print(p)"
   ],
   "metadata": {
    "collapsed": false,
    "pycharm": {
     "name": "#%%\n"
    }
   }
  },
  {
   "cell_type": "code",
   "execution_count": null,
   "outputs": [],
   "source": [
    "print(\"hello\")"
   ],
   "metadata": {
    "collapsed": false,
    "pycharm": {
     "name": "#%%\n"
    }
   }
  },
  {
   "cell_type": "code",
   "execution_count": null,
   "outputs": [],
   "source": [],
   "metadata": {
    "collapsed": false,
    "pycharm": {
     "name": "#%%\n"
    }
   }
  }
 ],
 "metadata": {
  "kernelspec": {
   "display_name": "Python 3",
   "language": "python",
   "name": "python3"
  },
  "language_info": {
   "codemirror_mode": {
    "name": "ipython",
    "version": 3
   },
   "file_extension": ".py",
   "mimetype": "text/x-python",
   "name": "python",
   "nbconvert_exporter": "python",
   "pygments_lexer": "ipython3",
   "version": "3.6.9-final"
  }
 },
 "nbformat": 4,
 "nbformat_minor": 4
}