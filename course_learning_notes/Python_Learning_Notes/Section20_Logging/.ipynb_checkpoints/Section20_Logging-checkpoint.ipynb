{
 "cells": [
  {
   "cell_type": "markdown",
   "metadata": {},
   "source": [
    "# Logging"
   ]
  },
  {
   "cell_type": "code",
   "execution_count": null,
   "metadata": {},
   "outputs": [],
   "source": [
    "# To implement logging, \"logging\" builtin module available\n",
    "## Logging Levels\n",
    "    1. CRITICAL (Value : 50)\n",
    "    2. ERROR (Value: 40)\n",
    "    3. WARNING (Value: 30)\n",
    "    4. INFO (Value: 20)\n",
    "    5. DEBUG (Value: 10)\n",
    "    6. NOTSET (Value: 0)"
   ]
  },
  {
   "cell_type": "code",
   "execution_count": null,
   "metadata": {},
   "outputs": [],
   "source": [
    "# Logging implmentation\n",
    "# basicConfig() function to set the file and logging level\n",
    "# if file is not available, it will be created\n",
    "# if we set level as WARNING, then WARNIGN or it's higher level logging will also be included such as ERROR and CRITICAL (applicable to all levels)\n",
    "# By default logs will be written in append mode\n",
    "\"\"\"\n",
    "logging.critical(message)\n",
    "logging.error(message)\n",
    "logging.warning(message)\n",
    "logging.info(message)\n",
    "logging.debug(message)\n",
    "\"\"\""
   ]
  },
  {
   "cell_type": "code",
   "execution_count": 2,
   "metadata": {},
   "outputs": [
    {
     "name": "stdout",
     "output_type": "stream",
     "text": [
      "Logging Demo\n"
     ]
    }
   ],
   "source": [
    "## Demo program ##\n",
    "\n",
    "import logging\n",
    "logging.basicConfig(filename='log.txt', level=logging.WARNING)\n",
    "print(\"Logging Demo\")\n",
    "logging.critical(\"This is critical message\")\n",
    "logging.error(\"This is error message\")\n",
    "logging.warning(\"This is warning message\")\n",
    "logging.info(\"This is info message\") # This will be skipped \n",
    "logging.debug(\"This is debug message\") # This will be skipped "
   ]
  },
  {
   "cell_type": "code",
   "execution_count": 3,
   "metadata": {},
   "outputs": [
    {
     "name": "stdout",
     "output_type": "stream",
     "text": [
      "Logging Demo\n"
     ]
    }
   ],
   "source": [
    "## Demo program ## Changing levels to DEBUG and log in \"write mode\"\n",
    "\n",
    "import logging\n",
    "logging.basicConfig(filename='log1.txt', level=logging.DEBUG, filemode=\"w\")\n",
    "print(\"Logging Demo\")\n",
    "logging.critical(\"This is critical message\")\n",
    "logging.error(\"This is error message\")\n",
    "logging.warning(\"This is warning message\")\n",
    "logging.info(\"This is info message\") \n",
    "logging.debug(\"This is debug message\") "
   ]
  },
  {
   "cell_type": "code",
   "execution_count": 1,
   "metadata": {},
   "outputs": [
    {
     "name": "stderr",
     "output_type": "stream",
     "text": [
      "CRITICAL:root:This is critical message\n",
      "ERROR:root:This is error message\n",
      "WARNING:root:This is warning message\n"
     ]
    }
   ],
   "source": [
    "# default values of logging\n",
    "    # File mode: append\n",
    "    # Level: warning (30)\n",
    "    # Filename: written to the console\n",
    "import logging\n",
    "logging.basicConfig()\n",
    "logging.critical(\"This is critical message\")\n",
    "logging.error(\"This is error message\")\n",
    "logging.warning(\"This is warning message\")\n",
    "logging.info(\"This is info message\") # This will be skipped \n",
    "logging.debug(\"This is debug message\") # This will be skipped "
   ]
  },
  {
   "cell_type": "code",
   "execution_count": 1,
   "metadata": {},
   "outputs": [
    {
     "name": "stderr",
     "output_type": "stream",
     "text": [
      "CRITICAL\n",
      "ERROR\n",
      "WARNING\n"
     ]
    }
   ],
   "source": [
    "### Formatting Log Messages ### use \"format=\" keyword argument\n",
    "# deafault format: \"LevelName: Logger name: message\"\n",
    "import logging\n",
    "logging.basicConfig(format=\"%(levelname)s\") # will displayonly level name\n",
    "logging.critical(\"This is critical message\")\n",
    "logging.error(\"This is error message\")\n",
    "logging.warning(\"This is warning message\")\n",
    "logging.info(\"This is info message\") # This will be skipped \n",
    "logging.debug(\"This is debug message\") # This will be skipped "
   ]
  },
  {
   "cell_type": "code",
   "execution_count": 1,
   "metadata": {},
   "outputs": [
    {
     "name": "stderr",
     "output_type": "stream",
     "text": [
      "CRITICAL: This is critical message\n",
      "ERROR: This is error message\n",
      "WARNING: This is warning message\n"
     ]
    }
   ],
   "source": [
    "# Printing only level name and message #\n",
    "import logging\n",
    "logging.basicConfig(format=\"%(levelname)s: %(message)s\") # will displayonly level name\n",
    "logging.critical(\"This is critical message\")\n",
    "logging.error(\"This is error message\")\n",
    "logging.warning(\"This is warning message\")\n",
    "logging.info(\"This is info message\") # This will be skipped \n",
    "logging.debug(\"This is debug message\") # This will be skipped "
   ]
  },
  {
   "cell_type": "code",
   "execution_count": 1,
   "metadata": {},
   "outputs": [
    {
     "name": "stderr",
     "output_type": "stream",
     "text": [
      "CRITICAL: root : This is critical message\n",
      "ERROR: root : This is error message\n",
      "WARNING: root : This is warning message\n"
     ]
    }
   ],
   "source": [
    "# Printing  level name, loggername and message #\n",
    "import logging\n",
    "logging.basicConfig(format=\"%(levelname)s: %(name)s : %(message)s\") # will displayonly level name\n",
    "logging.critical(\"This is critical message\")\n",
    "logging.error(\"This is error message\")\n",
    "logging.warning(\"This is warning message\")\n",
    "logging.info(\"This is info message\") # This will be skipped \n",
    "logging.debug(\"This is debug message\") # This will be skipped "
   ]
  },
  {
   "cell_type": "markdown",
   "metadata": {},
   "source": [
    "## Check the python documentation for different settings"
   ]
  },
  {
   "cell_type": "code",
   "execution_count": 1,
   "metadata": {},
   "outputs": [
    {
     "name": "stderr",
     "output_type": "stream",
     "text": [
      "CRITICAL: root : 6868 :This is critical message: <ipython-input-1-5164ab18e434>: 4\n",
      "ERROR: root : 6868 :This is error message: <ipython-input-1-5164ab18e434>: 5\n",
      "WARNING: root : 6868 :This is warning message: <ipython-input-1-5164ab18e434>: 6\n"
     ]
    }
   ],
   "source": [
    "# to print the process and module, line number\n",
    "import logging\n",
    "logging.basicConfig(format=\"%(levelname)s: %(name)s : %(process)s :%(message)s: %(module)s: %(lineno)d\") # will displayonly level name\n",
    "logging.critical(\"This is critical message\")\n",
    "logging.error(\"This is error message\")\n",
    "logging.warning(\"This is warning message\")\n",
    "logging.info(\"This is info message\") # This will be skipped \n",
    "logging.debug(\"This is debug message\") # This will be skipped "
   ]
  },
  {
   "cell_type": "code",
   "execution_count": 1,
   "metadata": {},
   "outputs": [
    {
     "name": "stderr",
     "output_type": "stream",
     "text": [
      "2020-02-06 23:10:54,274: CRITICAL: root  :This is critical message\n",
      "2020-02-06 23:10:54,279: ERROR: root  :This is error message\n",
      "2020-02-06 23:10:54,281: WARNING: root  :This is warning message\n"
     ]
    }
   ],
   "source": [
    "## Adding date and time to the log messages ##\n",
    "# using asctime parameter\n",
    "\n",
    "import logging\n",
    "logging.basicConfig(format=\"%(asctime)s: %(levelname)s: %(name)s  :%(message)s\") \n",
    "logging.critical(\"This is critical message\")\n",
    "logging.error(\"This is error message\")\n",
    "logging.warning(\"This is warning message\")\n",
    "logging.info(\"This is info message\") # This will be skipped \n",
    "logging.debug(\"This is debug message\") # This will be skipped "
   ]
  },
  {
   "cell_type": "code",
   "execution_count": 1,
   "metadata": {},
   "outputs": [
    {
     "name": "stderr",
     "output_type": "stream",
     "text": [
      "06/02/2020 11:15:13 PM: CRITICAL: root : This is critical message\n",
      "06/02/2020 11:15:13 PM: ERROR: root : This is error message\n",
      "06/02/2020 11:15:13 PM: WARNING: root : This is warning message\n"
     ]
    }
   ],
   "source": [
    "# modifying the date and time format\n",
    "import logging\n",
    "logging.basicConfig(format=\"%(asctime)s: %(levelname)s: %(name)s : %(message)s\", datefmt = \"%d/%m/%Y %I:%M:%S %p\") \n",
    "logging.critical(\"This is critical message\")\n",
    "logging.error(\"This is error message\")\n",
    "logging.warning(\"This is warning message\")\n",
    "logging.info(\"This is info message\") # This will be skipped \n",
    "logging.debug(\"This is debug message\") # This will be skipped \n",
    "\n",
    "# view the documentation for more format strings"
   ]
  },
  {
   "cell_type": "code",
   "execution_count": 1,
   "metadata": {},
   "outputs": [
    {
     "name": "stdin",
     "output_type": "stream",
     "text": [
      "Enter First Number:  10\n",
      "Enter Second Number:  20\n"
     ]
    },
    {
     "name": "stdout",
     "output_type": "stream",
     "text": [
      "The result:  0.5\n"
     ]
    }
   ],
   "source": [
    "## Adding exception information to the log file and demo program ##\n",
    "import logging\n",
    "\n",
    "logging.basicConfig(filename=\"log3.txt\", level=logging.INFO, \n",
    "                   format = '%(asctime)s: %(levelname)s: %(message)s',\n",
    "                   datefmt = '%d/%m/%Y %I:%M:%S %p')\n",
    "logging.info(\"A new request arrived\")\n",
    "try:\n",
    "    x = int(input(\"Enter First Number: \"))\n",
    "    y = int(input(\"Enter Second Number: \"))\n",
    "    print('The result: ', x/y)\n",
    "    \n",
    "except ZeroDivisionError as e:\n",
    "    print(\"cannot divide by zero\")\n",
    "    logging.exception(e)\n",
    "    \n",
    "    \n",
    "except ValueError as e:\n",
    "    print('Provide int values only')\n",
    "    logging.exception(e)\n",
    "    \n",
    "logging.info(\"A request processing completed\")"
   ]
  },
  {
   "cell_type": "code",
   "execution_count": 1,
   "metadata": {},
   "outputs": [],
   "source": [
    "## Problems with root logger ##\n",
    "# Once the configuration is set to root logger, that can not be modified during the run\n",
    "# Those settings are applicable to all the programs running\n",
    "# We need to use custom logger to avoid the above problems\n",
    "\n",
    "import logging\n",
    "logging.basicConfig(filename='log5.txt', level=logging.DEBUG, filemode=\"w\")\n",
    "# changing the basicConfig during the run\n",
    "logging.basicConfig(filename='log6.txt', level=logging.DEBUG, filemode=\"w\") # THis willnot get effect\n",
    "logging.critical(\"This is critical message\")\n",
    "logging.error(\"This is error message\")\n",
    "logging.warning(\"This is warning message\")\n",
    "logging.info(\"This is info message\") \n",
    "logging.debug(\"This is debug message\") "
   ]
  },
  {
   "cell_type": "code",
   "execution_count": 1,
   "metadata": {},
   "outputs": [
    {
     "name": "stderr",
     "output_type": "stream",
     "text": [
      "07/02/2020 06:13:49 PM:CRITICAL:demologger:This is critical message\n",
      "07/02/2020 06:13:49 PM:ERROR:demologger:This is error message\n"
     ]
    }
   ],
   "source": [
    "## Defining Customized Logger ##\n",
    "# Need to create 3 objects\n",
    "    # Logger objects\n",
    "    # Handler objects (stream handler, FileHandler, SMTPHandler, HTTPHandler and etc.)\n",
    "    # Formatter object\n",
    "\n",
    "\n",
    "import logging\n",
    "\n",
    "# Stpe1: Create logger and set level\n",
    "logger = logging.getLogger(\"demologger\") # default level is 'notset'\n",
    "logger.setLevel(logging.WARNING)\n",
    "# Step2: Create handler object and set Level (default, level is based on logger)\n",
    "consolehandler = logging.StreamHandler() # or FileHandler('abc.log', mode='w')\n",
    "consolehandler.setLevel(logging.ERROR) # FileHandler.setLevel(logging.ERROR)\n",
    "# Step3: Create Formatter objects\n",
    "formatter = logging.Formatter('%(asctime)s:%(levelname)s:%(name)s:%(message)s',\n",
    "                               datefmt='%d/%m/%Y %I:%M:%S %p')\n",
    "# Step4: Set Formatter to Handler:\n",
    "consolehandler.setFormatter(formatter)\n",
    "# Step5: Add Handler to Logger\n",
    "logger.addHandler(consolehandler)\n",
    "# Step6: Write Log messages by logger object\n",
    "logger.critical(\"This is critical message\")\n",
    "logger.error(\"This is error message\")\n",
    "logger.warning(\"This is warning message\")\n",
    "logger.info(\"This is info message\") \n",
    "logger.debug(\"This is debug message\") "
   ]
  },
  {
   "cell_type": "code",
   "execution_count": 1,
   "metadata": {},
   "outputs": [],
   "source": [
    "# using file hanler\n",
    "import logging\n",
    "\n",
    "logger = logging.getLogger(\"demologger1\") \n",
    "logger.setLevel(logging.DEBUG)\n",
    "filehandler = logging.FileHandler(\"custom1.log\", \"w\")\n",
    "#filehandler.setLevel(logging.ERROR)\n",
    "formatter = logging.Formatter('%(asctime)s:%(levelname)s:%(name)s:%(message)s',\n",
    "                               datefmt='%d/%m/%Y %I:%M:%S %p')\n",
    "filehandler.setFormatter(formatter)\n",
    "logger.addHandler(filehandler)\n",
    "logger.critical(\"This is critical message\")\n",
    "logger.error(\"This is error message\")\n",
    "logger.warning(\"This is warning message\")\n",
    "logger.info(\"This is info message\") \n",
    "logger.debug(\"This is debug message\") "
   ]
  },
  {
   "cell_type": "code",
   "execution_count": 3,
   "metadata": {},
   "outputs": [
    {
     "name": "stderr",
     "output_type": "stream",
     "text": [
      "CRITICAL:This is critical message\n",
      "ERROR:This is error message\n"
     ]
    }
   ],
   "source": [
    "## using both streamhandler and filehandler simultaneously ##\n",
    "# Now the logs will be displayed in console via streamhandler and will be writter to the files via filehandler\n",
    "import logging\n",
    "\n",
    "logger = logging.getLogger(\"demologger3\") \n",
    "logger.setLevel(logging.DEBUG)\n",
    "consolehandler = logging.StreamHandler()\n",
    "consolehandler.setLevel(logging.ERROR)\n",
    "filehandler = logging.FileHandler(\"custom2.log\", \"w\")\n",
    "#filehandler.setLevel(logging.ERROR)\n",
    "formatter1 = logging.Formatter('%(asctime)s:%(levelname)s:%(name)s:%(message)s',\n",
    "                               datefmt='%d/%m/%Y %I:%M:%S %p')\n",
    "formatter2 = logging.Formatter('%(levelname)s:%(message)s')\n",
    "filehandler.setFormatter(formatter1)\n",
    "consolehandler.setFormatter(formatter2)\n",
    "logger.addHandler(consolehandler)\n",
    "logger.addHandler(filehandler)\n",
    "logger.critical(\"This is critical message\")\n",
    "logger.error(\"This is error message\")\n",
    "logger.warning(\"This is warning message\")\n",
    "logger.info(\"This is info message\") \n",
    "logger.debug(\"This is debug message\") "
   ]
  },
  {
   "cell_type": "code",
   "execution_count": null,
   "metadata": {},
   "outputs": [],
   "source": [
    "## Using different log files ##\n",
    "# we can create 2 files and import the module1 into another py file. module1 can be written to log1.txt and moddule2  can be written to log2.txt"
   ]
  },
  {
   "cell_type": "markdown",
   "metadata": {},
   "source": [
    "## Importance of inspect module ##\n"
   ]
  },
  {
   "cell_type": "code",
   "execution_count": 4,
   "metadata": {},
   "outputs": [],
   "source": [
    "# To perform inspection from where is call is arrived (stack trace like) we need to use inspect module\n",
    "# check inspectdemo1.py, inspectdemo2.py"
   ]
  },
  {
   "cell_type": "code",
   "execution_count": 7,
   "metadata": {},
   "outputs": [],
   "source": [
    "# creating custom reusable logger #\n",
    "# refer custlogger.py\n",
    "from custlogger import get_custom_logger\n",
    "import logging\n",
    "\n",
    "def logtest():\n",
    "    logger = get_custom_logger(logging.DEBUG, \"custlog.log\")\n",
    "    logger.critical(\"This is critical message from test logger\")\n",
    "    logger.error(\"This is error message from test logger\")\n",
    "    logger.warning(\"This is warning message from test logger\")\n",
    "    logger.info(\"This is info message from test logger\") \n",
    "    logger.debug(\"This is debug message from test logger\")\n",
    "                \n",
    "logtest()"
   ]
  },
  {
   "cell_type": "code",
   "execution_count": null,
   "metadata": {},
   "outputs": [],
   "source": [
    "# Need of separating logger configuration into a file or dict or json or yaml #\n",
    "# Refer logging_config.init file"
   ]
  }
 ],
 "metadata": {
  "kernelspec": {
   "display_name": "Python 3",
   "language": "python",
   "name": "python3"
  },
  "language_info": {
   "codemirror_mode": {
    "name": "ipython",
    "version": 3
   },
   "file_extension": ".py",
   "mimetype": "text/x-python",
   "name": "python",
   "nbconvert_exporter": "python",
   "pygments_lexer": "ipython3",
   "version": "3.8.1"
  }
 },
 "nbformat": 4,
 "nbformat_minor": 4
}
