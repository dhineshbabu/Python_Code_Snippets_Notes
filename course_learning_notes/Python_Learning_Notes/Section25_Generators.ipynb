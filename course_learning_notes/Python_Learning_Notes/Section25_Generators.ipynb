{
 "cells": [
  {
   "cell_type": "code",
   "execution_count": null,
   "metadata": {},
   "outputs": [],
   "source": [
    "# To generate sequence of values\n",
    "# It will use yield keyword to return values of sequence\n",
    "# We can use next() method to get the values one by one\n",
    "# generator wont store any object and it will send the data on-demand\n",
    "# Performance issues will be eliminated while processing large data sets"
   ]
  },
  {
   "cell_type": "code",
   "execution_count": 6,
   "metadata": {},
   "outputs": [
    {
     "name": "stdout",
     "output_type": "stream",
     "text": [
      "<generator object <genexpr> at 0x00000271117A33C0>\n",
      "0\n",
      "1\n",
      "4\n",
      "9\n",
      "16\n",
      "25\n",
      "36\n",
      "49\n",
      "64\n",
      "81\n"
     ]
    }
   ],
   "source": [
    "# sample generator - tuple comprehension returns a generator\n",
    "g = (x*x for x in range(10))\n",
    "\n",
    "print(g)\n",
    "print(next(g)) # first value\n",
    "print(next(g)) # second value\n",
    "print(next(g)) # third value\n",
    "print(next(g)) # fourth value\n",
    "print(next(g)) # fifth value\n",
    "print(next(g)) # sixth value\n",
    "print(next(g)) # seventh value\n",
    "print(next(g)) # 8th value\n",
    "print(next(g)) # 9th value\n",
    "print(next(g)) # 10th value"
   ]
  },
  {
   "cell_type": "code",
   "execution_count": 10,
   "metadata": {},
   "outputs": [
    {
     "name": "stdout",
     "output_type": "stream",
     "text": [
      "<class 'generator'>\n",
      "A\n",
      "B\n",
      "C\n"
     ]
    },
    {
     "ename": "StopIteration",
     "evalue": "",
     "output_type": "error",
     "traceback": [
      "\u001b[1;31m---------------------------------------------------------------------------\u001b[0m",
      "\u001b[1;31mStopIteration\u001b[0m                             Traceback (most recent call last)",
      "\u001b[1;32m<ipython-input-10-54d7e1d256b0>\u001b[0m in \u001b[0;36m<module>\u001b[1;34m\u001b[0m\n\u001b[0;32m     11\u001b[0m \u001b[0mprint\u001b[0m\u001b[1;33m(\u001b[0m\u001b[0mnext\u001b[0m\u001b[1;33m(\u001b[0m\u001b[0mgen\u001b[0m\u001b[1;33m)\u001b[0m\u001b[1;33m)\u001b[0m \u001b[1;31m#B\u001b[0m\u001b[1;33m\u001b[0m\u001b[1;33m\u001b[0m\u001b[0m\n\u001b[0;32m     12\u001b[0m \u001b[0mprint\u001b[0m\u001b[1;33m(\u001b[0m\u001b[0mnext\u001b[0m\u001b[1;33m(\u001b[0m\u001b[0mgen\u001b[0m\u001b[1;33m)\u001b[0m\u001b[1;33m)\u001b[0m \u001b[1;31m#C\u001b[0m\u001b[1;33m\u001b[0m\u001b[1;33m\u001b[0m\u001b[0m\n\u001b[1;32m---> 13\u001b[1;33m \u001b[0mprint\u001b[0m\u001b[1;33m(\u001b[0m\u001b[0mnext\u001b[0m\u001b[1;33m(\u001b[0m\u001b[0mgen\u001b[0m\u001b[1;33m)\u001b[0m\u001b[1;33m)\u001b[0m\u001b[1;33m\u001b[0m\u001b[1;33m\u001b[0m\u001b[0m\n\u001b[0m",
      "\u001b[1;31mStopIteration\u001b[0m: "
     ]
    }
   ],
   "source": [
    "# Demo program to write a generator to generate 3 values 'A', 'B', 'C'\n",
    "\n",
    "def mygen():\n",
    "    yield 'A'\n",
    "    yield 'B'\n",
    "    yield 'C'\n",
    "    \n",
    "gen = mygen()\n",
    "print(type(gen))\n",
    "print(next(gen)) #A\n",
    "print(next(gen)) #B\n",
    "print(next(gen)) #C\n",
    "print(next(gen)) # StopIteration"
   ]
  },
  {
   "cell_type": "code",
   "execution_count": 11,
   "metadata": {},
   "outputs": [
    {
     "name": "stdout",
     "output_type": "stream",
     "text": [
      "A\n",
      "B\n",
      "C\n"
     ]
    }
   ],
   "source": [
    "# another method of generator function usage\n",
    "def mygen():\n",
    "    yield 'A'\n",
    "    yield 'B'\n",
    "    yield 'C'\n",
    "    \n",
    "gen = mygen()\n",
    "for x in gen:\n",
    "    print(x)"
   ]
  },
  {
   "cell_type": "code",
   "execution_count": 14,
   "metadata": {},
   "outputs": [
    {
     "name": "stdout",
     "output_type": "stream",
     "text": [
      "1\n",
      "2\n",
      "3\n",
      "4\n",
      "5\n",
      "6\n",
      "7\n",
      "8\n",
      "9\n",
      "10\n"
     ]
    }
   ],
   "source": [
    "# genertor function to generate first n values\n",
    "\n",
    "def first_n_values_generator(n):\n",
    "    i = 1\n",
    "    while i <= n:\n",
    "        yield i\n",
    "        i = i+1\n",
    "g =first_n_values_generator(10)\n",
    "\n",
    "for x in g:\n",
    "    print(x)"
   ]
  },
  {
   "cell_type": "code",
   "execution_count": 18,
   "metadata": {},
   "outputs": [
    {
     "name": "stdout",
     "output_type": "stream",
     "text": [
      "10\n",
      "9\n",
      "8\n",
      "7\n",
      "6\n",
      "5\n",
      "4\n",
      "3\n",
      "2\n",
      "1\n"
     ]
    }
   ],
   "source": [
    "## demo program - countdown generator\n",
    "\n",
    "def countdown_generator(num):\n",
    "    while num >= 1:\n",
    "        yield num\n",
    "        num = num -1\n",
    "        \n",
    "g = countdown_generator(10)\n",
    "\n",
    "for x in g:\n",
    "    print(x)"
   ]
  },
  {
   "cell_type": "code",
   "execution_count": 20,
   "metadata": {},
   "outputs": [
    {
     "name": "stdout",
     "output_type": "stream",
     "text": [
      "0\n",
      "1\n",
      "1\n",
      "2\n",
      "3\n",
      "5\n",
      "8\n"
     ]
    }
   ],
   "source": [
    "# generator to generate fibonacci numbers\n",
    "\n",
    "def fibonacci_sequence_generator(num):\n",
    "    a,b = 0,1\n",
    "    \n",
    "    while True:\n",
    "        yield a\n",
    "        a,b = b, a+b\n",
    "\n",
    "g = fibonacci_sequence_generator(10)\n",
    "\n",
    "for x in g:\n",
    "    if x <= 10:\n",
    "        print(x)\n",
    "    else:\n",
    "        break\n",
    "    "
   ]
  },
  {
   "cell_type": "code",
   "execution_count": 3,
   "metadata": {},
   "outputs": [
    {
     "output_type": "stream",
     "name": "stdout",
     "text": [
      "{'id': 0, 'name': 'kumar', 'subject': 'python'}\n{'id': 1, 'name': 'babu', 'subject': 'java'}\n{'id': 2, 'name': 'dhinesh', 'subject': 'data science'}\n{'id': 3, 'name': 'kanu', 'subject': 'java'}\nTime required to prepare students list (seconds):  0.05239252999308519\nTime required to prepare students generator (seconds):  0.0006596620078198612\n"
     ]
    }
   ],
   "source": [
    "# Performance comparison of collections and generators\n",
    "import random\n",
    "from time import perf_counter \n",
    "\n",
    "names = ['dhinesh', 'kumar', 'babu', 'kanu']\n",
    "subjects = ['python', 'java', 'data science']\n",
    "\n",
    "def student_list(num):\n",
    "    students = []\n",
    "    for i in range(num):\n",
    "        student = {'id': i, 'name': random.choice(names), 'subject': random.choice(subjects)}\n",
    "        students.append(student)\n",
    "    return students\n",
    "\n",
    "def student_generator(num):\n",
    "    for i in range(num):\n",
    "        student = {'id': i, 'name': random.choice(names), 'subject': random.choice(subjects)}\n",
    "        yield student\n",
    "    \n",
    "    \n",
    "# list\n",
    "t1_start = perf_counter() \n",
    "students = student_list(10000)\n",
    "t1_stop = perf_counter()\n",
    "\n",
    "#generator\n",
    "t2_start = perf_counter() \n",
    "g = student_generator(10000)\n",
    "t2_stop = perf_counter()\n",
    "\n",
    "\n",
    "print('Time required to prepare students list (seconds): ', (t1_stop-t1_start))\n",
    "print('Time required to prepare students generator (seconds): ', (t2_stop-t2_start))"
   ]
  },
  {
   "cell_type": "code",
   "execution_count": 26,
   "metadata": {},
   "outputs": [
    {
     "name": "stdout",
     "output_type": "stream",
     "text": [
      "[1, 2, 3, 4, 5]\n",
      "<class 'generator'>\n",
      "<class 'list'>\n"
     ]
    }
   ],
   "source": [
    "### How to convert generator into list\n",
    "# using list() function\n",
    "def first_n_values_gen(n):\n",
    "    i = 1\n",
    "    while i <= n:\n",
    "        yield i\n",
    "        i = i+1\n",
    "        \n",
    "g = first_n_values_gen(5)\n",
    "l = list(g)\n",
    "print(l)\n",
    "print(type(g))\n",
    "print(type(l))"
   ]
  },
  {
   "cell_type": "code",
   "execution_count": null,
   "metadata": {},
   "outputs": [],
   "source": []
  }
 ],
 "metadata": {
  "kernelspec": {
   "name": "python3",
   "display_name": "Python 3.6.9 64-bit",
   "metadata": {
    "interpreter": {
     "hash": "31f2aee4e71d21fbe5cf8b01ff0e069b9275f58929596ceb00d14d90e3e16cd6"
    }
   }
  },
  "language_info": {
   "codemirror_mode": {
    "name": "ipython",
    "version": 3
   },
   "file_extension": ".py",
   "mimetype": "text/x-python",
   "name": "python",
   "nbconvert_exporter": "python",
   "pygments_lexer": "ipython3",
   "version": "3.6.9-final"
  }
 },
 "nbformat": 4,
 "nbformat_minor": 4
}