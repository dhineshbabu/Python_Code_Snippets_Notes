{
 "cells": [
  {
   "cell_type": "code",
   "execution_count": 1,
   "metadata": {},
   "outputs": [
    {
     "name": "stdout",
     "output_type": "stream",
     "text": [
      "[10, 'dhinesh']\n"
     ]
    }
   ],
   "source": [
    "### List data structure ###\n",
    "#duplicates allowed\n",
    "#insertion order preserved\n",
    "#heterogenous objects\n",
    "# dynamic growth and mutable\n",
    "# indexing and slicing available\n",
    "l = []\n",
    "l.append(10)\n",
    "l.append('dhinesh')\n",
    "print(l)"
   ]
  },
  {
   "cell_type": "code",
   "execution_count": 3,
   "metadata": {},
   "outputs": [
    {
     "name": "stdin",
     "output_type": "stream",
     "text": [
      "Enter the list values:  [10, 20, 30, 40]\n"
     ]
    },
    {
     "name": "stdout",
     "output_type": "stream",
     "text": [
      "<class 'list'>\n",
      "[10, 20, 30, 40]\n"
     ]
    }
   ],
   "source": [
    "# using eval method to create list\n",
    "l = eval(input(\"Enter the list values: \"))\n",
    "print(type(l))\n",
    "print(l)"
   ]
  },
  {
   "cell_type": "code",
   "execution_count": 6,
   "metadata": {},
   "outputs": [
    {
     "name": "stdout",
     "output_type": "stream",
     "text": [
      "['d', 'h', 'i', 'n', 'e', 's', 'h']\n",
      "[0, 2, 4, 6, 8]\n"
     ]
    }
   ],
   "source": [
    "# creating list using list() function\n",
    "l = list(\"dhinesh\")\n",
    "print(l)\n",
    "l = list(range(0,10,2))\n",
    "print(l)"
   ]
  },
  {
   "cell_type": "code",
   "execution_count": 7,
   "metadata": {},
   "outputs": [
    {
     "name": "stdout",
     "output_type": "stream",
     "text": [
      "['Dhiensh', 'software', 'solution']\n"
     ]
    }
   ],
   "source": [
    "# creating list by split method\n",
    "s = \"Dhiensh software solution\"\n",
    "l = s.split()\n",
    "print(l)"
   ]
  },
  {
   "cell_type": "code",
   "execution_count": 8,
   "metadata": {},
   "outputs": [
    {
     "name": "stdout",
     "output_type": "stream",
     "text": [
      "[]\n"
     ]
    }
   ],
   "source": [
    "l = list()\n",
    "print(l)"
   ]
  },
  {
   "cell_type": "code",
   "execution_count": 9,
   "metadata": {},
   "outputs": [
    {
     "name": "stdout",
     "output_type": "stream",
     "text": [
      "[20, 30]\n"
     ]
    }
   ],
   "source": [
    "# accessing elements using indxing and slicing\n",
    "l = [10, 20, 30, 40]\n",
    "print(l[1:3:1])"
   ]
  },
  {
   "cell_type": "code",
   "execution_count": 11,
   "metadata": {},
   "outputs": [
    {
     "name": "stdout",
     "output_type": "stream",
     "text": [
      "[30, 40, 50, 60, 70]\n",
      "[30, 50, 70]\n",
      "[50]\n",
      "[90, 70, 50]\n",
      "[50, 60, 70, 80, 90, 100]\n",
      "[]\n"
     ]
    }
   ],
   "source": [
    "l = [10,20,30,40,50,60,70,80,90,100]\n",
    "print(l[2:7])\n",
    "print(l[2:7:2])\n",
    "print(l[4::7])\n",
    "print(l[8:2:-2]) # from 8 to 3 (end+1)\n",
    "print(l[4:100]) # this will never raise index error\n",
    "print(l[4:0:2])"
   ]
  },
  {
   "cell_type": "code",
   "execution_count": 12,
   "metadata": {},
   "outputs": [
    {
     "data": {
      "text/plain": [
       "[100, 90, 80, 70, 60, 50, 40, 30, 20, 10]"
      ]
     },
     "execution_count": 12,
     "metadata": {},
     "output_type": "execute_result"
    }
   ],
   "source": [
    "l[::-1]"
   ]
  },
  {
   "cell_type": "code",
   "execution_count": 15,
   "metadata": {},
   "outputs": [
    {
     "name": "stdout",
     "output_type": "stream",
     "text": [
      "10 20 30 40 50 60 70 80 90 100 "
     ]
    }
   ],
   "source": [
    "# traversing the elements of a list\n",
    "l = [10,20,30,40,50,60,70,80,90,100]\n",
    "i = 0\n",
    "\n",
    "while i< len(l):\n",
    "    print(l[i], end=\" \")\n",
    "    i = i+1"
   ]
  },
  {
   "cell_type": "code",
   "execution_count": 18,
   "metadata": {},
   "outputs": [
    {
     "name": "stdout",
     "output_type": "stream",
     "text": [
      "10 20 30 40 50 60 70 80 90 100 "
     ]
    }
   ],
   "source": [
    "#using for loop\n",
    "for i in l:\n",
    "    print(i, end=\" \")"
   ]
  },
  {
   "cell_type": "code",
   "execution_count": 20,
   "metadata": {},
   "outputs": [
    {
     "name": "stdout",
     "output_type": "stream",
     "text": [
      "The element at 0 is 10 and negative index is -10\n",
      "The element at 1 is 20 and negative index is -9\n",
      "The element at 2 is 30 and negative index is -8\n",
      "The element at 3 is 40 and negative index is -7\n",
      "The element at 4 is 50 and negative index is -6\n",
      "The element at 5 is 60 and negative index is -5\n",
      "The element at 6 is 70 and negative index is -4\n",
      "The element at 7 is 80 and negative index is -3\n",
      "The element at 8 is 90 and negative index is -2\n",
      "The element at 9 is 100 and negative index is -1\n"
     ]
    }
   ],
   "source": [
    "# printing the positive and negative index of elements in list\n",
    "l = [10,20,30,40,50,60,70,80,90,100]\n",
    "\n",
    "i = 0\n",
    "\n",
    "while i < len(l):\n",
    "    print(\"The element at {} is {} and negative index is {}\".format(i, l[i], i-len(l)))\n",
    "    i += 1\n",
    "        "
   ]
  },
  {
   "cell_type": "code",
   "execution_count": 21,
   "metadata": {},
   "outputs": [],
   "source": [
    "# mathematical operators for list\n",
    "# concatenation operator - + ( both the operators must be of list type only)\n",
    "# repitition operator - * (should be only list * int type)"
   ]
  },
  {
   "cell_type": "code",
   "execution_count": 22,
   "metadata": {},
   "outputs": [
    {
     "name": "stdout",
     "output_type": "stream",
     "text": [
      "[10, 20, 30, 40, 50, 60]\n"
     ]
    }
   ],
   "source": [
    "# concatenation\n",
    "l1 = [10, 20, 30]\n",
    "l2 = [40, 50, 60]\n",
    "\n",
    "l3 = l1 + l2\n",
    "print(l3)"
   ]
  },
  {
   "cell_type": "code",
   "execution_count": 23,
   "metadata": {},
   "outputs": [
    {
     "ename": "TypeError",
     "evalue": "can only concatenate list (not \"int\") to list",
     "output_type": "error",
     "traceback": [
      "\u001b[1;31m---------------------------------------------------------------------------\u001b[0m",
      "\u001b[1;31mTypeError\u001b[0m                                 Traceback (most recent call last)",
      "\u001b[1;32m<ipython-input-23-3fe7fa3f9dfb>\u001b[0m in \u001b[0;36m<module>\u001b[1;34m\u001b[0m\n\u001b[0;32m      1\u001b[0m \u001b[1;31m# can not add other types with lists using +\u001b[0m\u001b[1;33m\u001b[0m\u001b[1;33m\u001b[0m\u001b[1;33m\u001b[0m\u001b[0m\n\u001b[1;32m----> 2\u001b[1;33m \u001b[0ml4\u001b[0m \u001b[1;33m=\u001b[0m \u001b[0ml3\u001b[0m \u001b[1;33m+\u001b[0m \u001b[1;36m10\u001b[0m\u001b[1;33m\u001b[0m\u001b[1;33m\u001b[0m\u001b[0m\n\u001b[0m",
      "\u001b[1;31mTypeError\u001b[0m: can only concatenate list (not \"int\") to list"
     ]
    }
   ],
   "source": [
    "# can not add other types with lists using +\n",
    "l4 = l3 + 10"
   ]
  },
  {
   "cell_type": "code",
   "execution_count": 24,
   "metadata": {},
   "outputs": [
    {
     "name": "stdout",
     "output_type": "stream",
     "text": [
      "[10, 20, 30, 40, 50, 60, 40]\n"
     ]
    }
   ],
   "source": [
    "# we can use the below format to add\n",
    "l4 = l3 + [40]\n",
    "print(l4)"
   ]
  },
  {
   "cell_type": "code",
   "execution_count": 25,
   "metadata": {},
   "outputs": [
    {
     "name": "stdout",
     "output_type": "stream",
     "text": [
      "[10, 20, 30, 10, 20, 30]\n"
     ]
    }
   ],
   "source": [
    "# repitition\n",
    "l1 = [10, 20, 30]\n",
    "l2 = l1 * 2\n",
    "print(l2)"
   ]
  },
  {
   "cell_type": "code",
   "execution_count": 29,
   "metadata": {},
   "outputs": [
    {
     "name": "stdout",
     "output_type": "stream",
     "text": [
      "True\n",
      "False\n",
      "False\n",
      "True\n"
     ]
    }
   ],
   "source": [
    "### Equality opertors for list ###\n",
    "# ==  --> returns True if the number of elements must be same, order of elements must be same, content must be same including case\n",
    "# !=\n",
    "\n",
    "l1 = ['dog', 'cat', 'rat']\n",
    "l2 = ['dog', 'cat', 'rat']\n",
    "l3 = ['DOG', 'CAT', 'rat']\n",
    "l4 = ['cat', 'rat', 'dog']\n",
    "\n",
    "print(l1 == l2) # True\n",
    "print(l1 == l3) # False\n",
    "print(l1 == l4) # False\n",
    "print(l1 != l4) # True"
   ]
  },
  {
   "cell_type": "code",
   "execution_count": 30,
   "metadata": {},
   "outputs": [
    {
     "name": "stdout",
     "output_type": "stream",
     "text": [
      "True\n",
      "True\n",
      "False\n",
      "False\n"
     ]
    }
   ],
   "source": [
    "### Relational operators ###\n",
    "# check the contents one by one. if the first element comparison is True then it will return True\n",
    "# if first elements are equal then the second element will be used\n",
    "\n",
    "l1 = [10, 20, 30, 40]\n",
    "l2 = [50, 60]\n",
    "print(l1 < l2) # True\n",
    "print(l1 <= l2) # True\n",
    "print(l1 > l2) # False\n",
    "print(l1 >= l2) # False"
   ]
  },
  {
   "cell_type": "code",
   "execution_count": 31,
   "metadata": {},
   "outputs": [
    {
     "name": "stdout",
     "output_type": "stream",
     "text": [
      "True\n",
      "False\n"
     ]
    }
   ],
   "source": [
    "# if the contents are string, then alphabetical order will be used\n",
    "l1 = ['dhinesh', 'babu']\n",
    "l2 = ['dhinesh', 'kumar']\n",
    "print(l1 < l2)\n",
    "print(l1 > l2)"
   ]
  },
  {
   "cell_type": "code",
   "execution_count": 32,
   "metadata": {},
   "outputs": [
    {
     "name": "stdout",
     "output_type": "stream",
     "text": [
      "True\n",
      "True\n",
      "False\n"
     ]
    }
   ],
   "source": [
    "### membership operator ### in, not in\n",
    "l1 = [10, 20, 30, 40]\n",
    "\n",
    "print(10 in l1)\n",
    "print(20 in l1)\n",
    "print(70 in l1)"
   ]
  },
  {
   "cell_type": "code",
   "execution_count": 45,
   "metadata": {},
   "outputs": [
    {
     "name": "stdout",
     "output_type": "stream",
     "text": [
      "4\n",
      "[10, 20, 30, 40, 10]\n",
      "[10, 10, 20, 30, 40]\n",
      "2\n",
      "0\n",
      "2\n"
     ]
    }
   ],
   "source": [
    "### Important methods and functions ###\n",
    "l = [10, 20, 30, 40]\n",
    "print(len(l))\n",
    "l.append(10)\n",
    "print(l) # after appending 10\n",
    "print(sorted(l))\n",
    "print(l.count(10))\n",
    "print(l.count(\"invalid\")) # this will return 0\n",
    "print(l.index(30)) # returns the index of the first occurrnce of the element. This will give Value error if the element is not available\n"
   ]
  },
  {
   "cell_type": "code",
   "execution_count": 46,
   "metadata": {},
   "outputs": [
    {
     "name": "stdout",
     "output_type": "stream",
     "text": [
      "[10, 20, 30]\n"
     ]
    }
   ],
   "source": [
    "### Manipulating elements in the list ###\n",
    "# append()\n",
    "l = []\n",
    "l.append(10)\n",
    "l.append(20)\n",
    "l.append(30)\n",
    "print(l)"
   ]
  },
  {
   "cell_type": "code",
   "execution_count": 48,
   "metadata": {},
   "outputs": [
    {
     "name": "stdout",
     "output_type": "stream",
     "text": [
      "[10, 20, 30, 40, 50, 60, 70, 80, 90, 100]\n"
     ]
    }
   ],
   "source": [
    "# add number between 1 and 100 which are divisible by 100\n",
    "l = []\n",
    "\n",
    "for i in range(1, 101):\n",
    "    if i%10 == 0:\n",
    "        l.append(i)\n",
    "        \n",
    "print(l)"
   ]
  },
  {
   "cell_type": "code",
   "execution_count": 50,
   "metadata": {},
   "outputs": [
    {
     "name": "stdout",
     "output_type": "stream",
     "text": [
      "[10, 20, 'New element', 30]\n",
      "['reversenoindex', 10, 20, 'New element', 30, 'noindex']\n"
     ]
    }
   ],
   "source": [
    "# insert() method - adding element at specific position ==> insert(index, element)\n",
    "l = [10, 20, 30]\n",
    "l.insert(2, \"New element\")\n",
    "print(l)\n",
    "l.insert(10, \"noindex\") # element will be added at final index if the index is max than the length\n",
    "l.insert(-10, \"reversenoindex\") # element will be added at the initial position if the index is less than index 0\n",
    "print(l)"
   ]
  },
  {
   "cell_type": "code",
   "execution_count": 1,
   "metadata": {},
   "outputs": [
    {
     "name": "stdout",
     "output_type": "stream",
     "text": [
      "[10, 20, 30, 40, 50, 60]\n"
     ]
    }
   ],
   "source": [
    "### extend() method -  to add all elements of given sequqnce to the list\n",
    "l1 = [10, 20, 30, 40]\n",
    "l2 = [50, 60]\n",
    "l1.extend(l2)\n",
    "print(l1)"
   ]
  },
  {
   "cell_type": "code",
   "execution_count": 2,
   "metadata": {},
   "outputs": [
    {
     "name": "stdout",
     "output_type": "stream",
     "text": [
      "[10, 20, 30, 'ABC']\n",
      "[10, 20, 30, 'ABC', 'A', 'B', 'C']\n"
     ]
    }
   ],
   "source": [
    "l1 = [10, 20, 30]\n",
    "l1.append(\"ABC\") # this will add ABC as a single object to the list\n",
    "print(l1)\n",
    "l1.extend('ABC')\n",
    "print(l1) # this will add each element a member os list\n"
   ]
  },
  {
   "cell_type": "code",
   "execution_count": 3,
   "metadata": {},
   "outputs": [
    {
     "name": "stdout",
     "output_type": "stream",
     "text": [
      "[10, 30]\n"
     ]
    },
    {
     "ename": "ValueError",
     "evalue": "list.remove(x): x not in list",
     "output_type": "error",
     "traceback": [
      "\u001b[1;31m---------------------------------------------------------------------------\u001b[0m",
      "\u001b[1;31mValueError\u001b[0m                                Traceback (most recent call last)",
      "\u001b[1;32m<ipython-input-3-3dce4c60ef5e>\u001b[0m in \u001b[0;36m<module>\u001b[1;34m\u001b[0m\n\u001b[0;32m      4\u001b[0m \u001b[0ml1\u001b[0m\u001b[1;33m.\u001b[0m\u001b[0mremove\u001b[0m\u001b[1;33m(\u001b[0m\u001b[1;36m20\u001b[0m\u001b[1;33m)\u001b[0m\u001b[1;33m\u001b[0m\u001b[1;33m\u001b[0m\u001b[0m\n\u001b[0;32m      5\u001b[0m \u001b[0mprint\u001b[0m\u001b[1;33m(\u001b[0m\u001b[0ml1\u001b[0m\u001b[1;33m)\u001b[0m\u001b[1;33m\u001b[0m\u001b[1;33m\u001b[0m\u001b[0m\n\u001b[1;32m----> 6\u001b[1;33m \u001b[0ml1\u001b[0m\u001b[1;33m.\u001b[0m\u001b[0mremove\u001b[0m\u001b[1;33m(\u001b[0m\u001b[1;36m40\u001b[0m\u001b[1;33m)\u001b[0m\u001b[1;33m\u001b[0m\u001b[1;33m\u001b[0m\u001b[0m\n\u001b[0m\u001b[0;32m      7\u001b[0m \u001b[0mprint\u001b[0m\u001b[1;33m(\u001b[0m\u001b[0ml1\u001b[0m\u001b[1;33m)\u001b[0m\u001b[1;33m\u001b[0m\u001b[1;33m\u001b[0m\u001b[0m\n",
      "\u001b[1;31mValueError\u001b[0m: list.remove(x): x not in list"
     ]
    }
   ],
   "source": [
    "#### removing element from the list ###\n",
    "#remove() method - l.remove(x) --> only first occurrnece of the element will be removed, if not available it will throw value error\n",
    "l1 = [10, 20, 30]\n",
    "l1.remove(20)\n",
    "print(l1)\n",
    "l1.remove(40) # this will throw value error\n",
    "print(l1)"
   ]
  },
  {
   "cell_type": "code",
   "execution_count": 4,
   "metadata": {},
   "outputs": [
    {
     "name": "stdin",
     "output_type": "stream",
     "text": [
      "Enter element to be removed:  2\n"
     ]
    },
    {
     "name": "stdout",
     "output_type": "stream",
     "text": [
      "After removing 2\n",
      "[1, 1, 1, 1, 3, 3]\n"
     ]
    }
   ],
   "source": [
    "# program to remove all occurrences of an elememtn\n",
    "l = [1,1,1,1,2,2,2,3,3]\n",
    "x = int(input(\"Enter element to be removed: \"))\n",
    "\n",
    "while True:\n",
    "    if x in l:\n",
    "        l.remove(x)\n",
    "    else:\n",
    "        break\n",
    "print(\"After removing {}\".format(x))\n",
    "print(l)"
   ]
  },
  {
   "cell_type": "code",
   "execution_count": 8,
   "metadata": {},
   "outputs": [
    {
     "name": "stdout",
     "output_type": "stream",
     "text": [
      "40\n",
      "After removal:  [10, 20, 30]\n",
      "30\n",
      "20\n",
      "10\n"
     ]
    },
    {
     "ename": "IndexError",
     "evalue": "pop from empty list",
     "output_type": "error",
     "traceback": [
      "\u001b[1;31m---------------------------------------------------------------------------\u001b[0m",
      "\u001b[1;31mIndexError\u001b[0m                                Traceback (most recent call last)",
      "\u001b[1;32m<ipython-input-8-8e2827d2e37f>\u001b[0m in \u001b[0;36m<module>\u001b[1;34m\u001b[0m\n\u001b[0;32m      6\u001b[0m \u001b[0mprint\u001b[0m\u001b[1;33m(\u001b[0m\u001b[0ml\u001b[0m\u001b[1;33m.\u001b[0m\u001b[0mpop\u001b[0m\u001b[1;33m(\u001b[0m\u001b[1;33m)\u001b[0m\u001b[1;33m)\u001b[0m\u001b[1;33m\u001b[0m\u001b[1;33m\u001b[0m\u001b[0m\n\u001b[0;32m      7\u001b[0m \u001b[0mprint\u001b[0m\u001b[1;33m(\u001b[0m\u001b[0ml\u001b[0m\u001b[1;33m.\u001b[0m\u001b[0mpop\u001b[0m\u001b[1;33m(\u001b[0m\u001b[1;33m)\u001b[0m\u001b[1;33m)\u001b[0m\u001b[1;33m\u001b[0m\u001b[1;33m\u001b[0m\u001b[0m\n\u001b[1;32m----> 8\u001b[1;33m \u001b[0mprint\u001b[0m\u001b[1;33m(\u001b[0m\u001b[0ml\u001b[0m\u001b[1;33m.\u001b[0m\u001b[0mpop\u001b[0m\u001b[1;33m(\u001b[0m\u001b[1;33m)\u001b[0m\u001b[1;33m)\u001b[0m\u001b[1;33m\u001b[0m\u001b[1;33m\u001b[0m\u001b[0m\n\u001b[0m",
      "\u001b[1;31mIndexError\u001b[0m: pop from empty list"
     ]
    }
   ],
   "source": [
    "### pop() method -> to remove the element at the final index (last element) and returns the element\n",
    "l = [10, 20, 30, 40]\n",
    "print(l.pop())\n",
    "print(\"After removal: \", l)\n",
    "print(l.pop())\n",
    "print(l.pop())\n",
    "print(l.pop())\n",
    "print(l.pop()) # if the list is empty, it we use pop() method then it will throw IndexError"
   ]
  },
  {
   "cell_type": "code",
   "execution_count": 10,
   "metadata": {},
   "outputs": [
    {
     "name": "stdout",
     "output_type": "stream",
     "text": [
      "30\n",
      "After removal:  [10, 20, 40]\n"
     ]
    },
    {
     "ename": "IndexError",
     "evalue": "pop index out of range",
     "output_type": "error",
     "traceback": [
      "\u001b[1;31m---------------------------------------------------------------------------\u001b[0m",
      "\u001b[1;31mIndexError\u001b[0m                                Traceback (most recent call last)",
      "\u001b[1;32m<ipython-input-10-673bc7225a9c>\u001b[0m in \u001b[0;36m<module>\u001b[1;34m\u001b[0m\n\u001b[0;32m      3\u001b[0m \u001b[0mprint\u001b[0m\u001b[1;33m(\u001b[0m\u001b[0ml\u001b[0m\u001b[1;33m.\u001b[0m\u001b[0mpop\u001b[0m\u001b[1;33m(\u001b[0m\u001b[1;36m2\u001b[0m\u001b[1;33m)\u001b[0m\u001b[1;33m)\u001b[0m\u001b[1;33m\u001b[0m\u001b[1;33m\u001b[0m\u001b[0m\n\u001b[0;32m      4\u001b[0m \u001b[0mprint\u001b[0m\u001b[1;33m(\u001b[0m\u001b[1;34m\"After removal: \"\u001b[0m\u001b[1;33m,\u001b[0m \u001b[0ml\u001b[0m\u001b[1;33m)\u001b[0m\u001b[1;33m\u001b[0m\u001b[1;33m\u001b[0m\u001b[0m\n\u001b[1;32m----> 5\u001b[1;33m \u001b[0mprint\u001b[0m\u001b[1;33m(\u001b[0m\u001b[0ml\u001b[0m\u001b[1;33m.\u001b[0m\u001b[0mpop\u001b[0m\u001b[1;33m(\u001b[0m\u001b[1;36m100\u001b[0m\u001b[1;33m)\u001b[0m\u001b[1;33m)\u001b[0m\u001b[1;33m\u001b[0m\u001b[1;33m\u001b[0m\u001b[0m\n\u001b[0m",
      "\u001b[1;31mIndexError\u001b[0m: pop index out of range"
     ]
    }
   ],
   "source": [
    "# pop() with index number: to remove element at specific index --> pop(index)   if the specified index not available, then we will get indexerror\n",
    "l = [10, 20, 30, 40]\n",
    "print(l.pop(2))\n",
    "print(\"After removal: \", l)\n",
    "print(l.pop(100)) #IndexError: pop index out of range"
   ]
  },
  {
   "cell_type": "code",
   "execution_count": null,
   "metadata": {},
   "outputs": [],
   "source": [
    "### clear() method --> to remove all the elments"
   ]
  },
  {
   "cell_type": "code",
   "execution_count": 11,
   "metadata": {},
   "outputs": [
    {
     "name": "stdout",
     "output_type": "stream",
     "text": [
      "[]\n"
     ]
    }
   ],
   "source": [
    "l = [10, 20, 30, 40]\n",
    "l.clear()\n",
    "print(l)"
   ]
  },
  {
   "cell_type": "code",
   "execution_count": 12,
   "metadata": {},
   "outputs": [
    {
     "name": "stdout",
     "output_type": "stream",
     "text": [
      "[10, 20, 30, 40]\n",
      "[40, 30, 20, 10]\n"
     ]
    }
   ],
   "source": [
    "### ordering elements of list\n",
    "# reversing order usign reverse() method. it will modify the elements in place\n",
    "l = [10, 20, 30, 40]\n",
    "print(l)\n",
    "l.reverse()\n",
    "print(l)"
   ]
  },
  {
   "cell_type": "code",
   "execution_count": 15,
   "metadata": {},
   "outputs": [
    {
     "name": "stdout",
     "output_type": "stream",
     "text": [
      "<class 'list_reverseiterator'>\n",
      "Original list will nto get changed:  [10, 20, 30, 40]\n",
      "40\n",
      "30\n",
      "20\n",
      "10\n"
     ]
    }
   ],
   "source": [
    "# l.reverse() (vs) reversed(l) -> this wll not change the actual list instead it will give reversed iterator object\n",
    "l = [10, 20, 30, 40]\n",
    "r  = reversed(l)\n",
    "print(type(r))\n",
    "print(\"Original list will nto get changed: \", l)\n",
    "for x in r:\n",
    "    print(x)"
   ]
  },
  {
   "cell_type": "code",
   "execution_count": 18,
   "metadata": {},
   "outputs": [
    {
     "name": "stdout",
     "output_type": "stream",
     "text": [
      "[10, 30, 40, 80, 90]\n",
      "['Apple', 'apple', 'dhinesh', 'hello', 'program']\n"
     ]
    }
   ],
   "source": [
    "# sorting elements of the list\n",
    "# using sort() method - will be sorted based on default natural sorting order (Numbers -> Ascending order, String -> Alphabets)\n",
    "l = [80, 90, 10, 40 , 30]\n",
    "l.sort()\n",
    "print(l)\n",
    "l1 = [\"dhinesh\", \"hello\", \"program\", \"Apple\", \"apple\"]\n",
    "l1.sort()\n",
    "print(l1)"
   ]
  },
  {
   "cell_type": "code",
   "execution_count": 20,
   "metadata": {},
   "outputs": [
    {
     "name": "stdout",
     "output_type": "stream",
     "text": [
      "[90, 80, 40, 30, 10]\n",
      "['program', 'hello', 'dhinesh', 'apple', 'Apple']\n"
     ]
    }
   ],
   "source": [
    "# for desceding order. To reverse, we need to submit the keyword argument reverse=True\n",
    "l = [80, 90, 10, 40, 30]\n",
    "l.sort(reverse = True)\n",
    "print(l)\n",
    "l1 = [\"dhinesh\", \"hello\", \"program\", \"Apple\", \"apple\"]\n",
    "l1.sort(reverse = True)\n",
    "print(l1)"
   ]
  },
  {
   "cell_type": "code",
   "execution_count": 21,
   "metadata": {},
   "outputs": [
    {
     "ename": "TypeError",
     "evalue": "'<' not supported between instances of 'str' and 'int'",
     "output_type": "error",
     "traceback": [
      "\u001b[1;31m---------------------------------------------------------------------------\u001b[0m",
      "\u001b[1;31mTypeError\u001b[0m                                 Traceback (most recent call last)",
      "\u001b[1;32m<ipython-input-21-520d373be95f>\u001b[0m in \u001b[0;36m<module>\u001b[1;34m\u001b[0m\n\u001b[0;32m      1\u001b[0m \u001b[1;31m# we can not sort lists with heterogeneous objects else will get error\u001b[0m\u001b[1;33m\u001b[0m\u001b[1;33m\u001b[0m\u001b[1;33m\u001b[0m\u001b[0m\n\u001b[0;32m      2\u001b[0m \u001b[0ml\u001b[0m \u001b[1;33m=\u001b[0m \u001b[1;33m[\u001b[0m\u001b[1;36m80\u001b[0m\u001b[1;33m,\u001b[0m \u001b[1;36m90\u001b[0m\u001b[1;33m,\u001b[0m \u001b[1;36m10\u001b[0m\u001b[1;33m,\u001b[0m \u001b[1;34m\"dhinesh\"\u001b[0m\u001b[1;33m]\u001b[0m\u001b[1;33m\u001b[0m\u001b[1;33m\u001b[0m\u001b[0m\n\u001b[1;32m----> 3\u001b[1;33m \u001b[0ml\u001b[0m\u001b[1;33m.\u001b[0m\u001b[0msort\u001b[0m\u001b[1;33m(\u001b[0m\u001b[1;33m)\u001b[0m\u001b[1;33m\u001b[0m\u001b[1;33m\u001b[0m\u001b[0m\n\u001b[0m\u001b[0;32m      4\u001b[0m \u001b[0mprint\u001b[0m\u001b[1;33m(\u001b[0m\u001b[0ml\u001b[0m\u001b[1;33m)\u001b[0m\u001b[1;33m\u001b[0m\u001b[1;33m\u001b[0m\u001b[0m\n",
      "\u001b[1;31mTypeError\u001b[0m: '<' not supported between instances of 'str' and 'int'"
     ]
    }
   ],
   "source": [
    "# we can not sort lists with heterogeneous objects else will get error\n",
    "l = [80, 90, 10, \"dhinesh\"]\n",
    "l.sort()\n",
    "print(l)"
   ]
  },
  {
   "cell_type": "code",
   "execution_count": 22,
   "metadata": {},
   "outputs": [
    {
     "name": "stdout",
     "output_type": "stream",
     "text": [
      "[80, 90, 10]\n",
      "[10, 80, 90]\n"
     ]
    }
   ],
   "source": [
    "### l.sort() (vs) sorted(l)  --> new object will be created in sorted(l) method and original list will be not modified in place\n",
    "l = [80, 90, 10]\n",
    "l1 = sorted(l)\n",
    "print(l) # original\n",
    "print(l1) # new object"
   ]
  },
  {
   "cell_type": "code",
   "execution_count": 24,
   "metadata": {},
   "outputs": [
    {
     "name": "stdout",
     "output_type": "stream",
     "text": [
      "[80, 'new element', 10, 40, 30]\n",
      "[80, 'new element', 10, 40, 30]\n",
      "2578614406528 2578614406528\n"
     ]
    }
   ],
   "source": [
    "### Aliasing and Clonign of list objects ###\n",
    "#Aliasling -> process of creating duplicate object reference variables\n",
    "l1 = [80, 90, 10, 40, 30]\n",
    "l2 = l1 # alias created\n",
    "l1 [1] = \"new element\" # change will be reflected to both the reference variables\n",
    "print(l1)\n",
    "print(l2)\n",
    "print(id(l1), id(l2)) # both will print the same id"
   ]
  },
  {
   "cell_type": "code",
   "execution_count": 25,
   "metadata": {},
   "outputs": [
    {
     "name": "stdout",
     "output_type": "stream",
     "text": [
      "2578613347584\n",
      "2578615270080\n"
     ]
    }
   ],
   "source": [
    "# cloning - process of creating duplicate objects\n",
    "l1 = [80, 90, 10, 40, 30]\n",
    "l2 = l1[::] # clone created. New object\n",
    "print(id(l1))\n",
    "print(id(l2))"
   ]
  },
  {
   "cell_type": "code",
   "execution_count": 26,
   "metadata": {},
   "outputs": [
    {
     "name": "stdout",
     "output_type": "stream",
     "text": [
      "2578614387840\n",
      "2578614387968\n",
      "[80, 90, 10, 40, 30]\n",
      "[80, 90, 10, 40, 30]\n"
     ]
    }
   ],
   "source": [
    "# using copy() method to create a clone\n",
    "l1 = [80, 90, 10, 40, 30]\n",
    "l2 = l1.copy()\n",
    "print(id(l1))\n",
    "print(id(l2))\n",
    "print(l1)\n",
    "print(l2)"
   ]
  },
  {
   "cell_type": "code",
   "execution_count": 27,
   "metadata": {},
   "outputs": [
    {
     "name": "stdout",
     "output_type": "stream",
     "text": [
      "10\n",
      "40\n"
     ]
    }
   ],
   "source": [
    "### Nested Lists ###\n",
    "l = [10, 20, [30, 40]]\n",
    "print(l[0])\n",
    "print(l[2][1]) # accessing nested list elements"
   ]
  },
  {
   "cell_type": "markdown",
   "metadata": {},
   "source": [
    "# Nested list as matrix\n",
    "l = [[10,20,30], [40,50,60], [70,80,90]]\n",
    "print(l)\n",
    "print(\"Elements row wise: \")\n",
    "for x in l:\n",
    "    print(x)\n"
   ]
  },
  {
   "cell_type": "code",
   "execution_count": null,
   "metadata": {},
   "outputs": [],
   "source": []
  }
 ],
 "metadata": {
  "kernelspec": {
   "display_name": "Python 3",
   "language": "python",
   "name": "python3"
  },
  "language_info": {
   "codemirror_mode": {
    "name": "ipython",
    "version": 3
   },
   "file_extension": ".py",
   "mimetype": "text/x-python",
   "name": "python",
   "nbconvert_exporter": "python",
   "pygments_lexer": "ipython3",
   "version": "3.8.1"
  }
 },
 "nbformat": 4,
 "nbformat_minor": 4
}
