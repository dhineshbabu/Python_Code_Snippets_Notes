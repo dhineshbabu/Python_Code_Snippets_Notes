{
 "cells": [
  {
   "cell_type": "code",
   "execution_count": null,
   "metadata": {},
   "outputs": [],
   "source": [
    "\"\"\"\n",
    "Syntax Error: Due to invalid syntax\n",
    "Run time Error: Due to invlaid inputs, logical mistakes and etc. This also called as Exceptions\n",
    "\"\"\""
   ]
  },
  {
   "cell_type": "code",
   "execution_count": 1,
   "metadata": {},
   "outputs": [
    {
     "ename": "FileNotFoundError",
     "evalue": "[Errno 2] No such file or directory: 'abc.txt'",
     "output_type": "error",
     "traceback": [
      "\u001b[1;31m---------------------------------------------------------------------------\u001b[0m",
      "\u001b[1;31mFileNotFoundError\u001b[0m                         Traceback (most recent call last)",
      "\u001b[1;32m<ipython-input-1-69775b407012>\u001b[0m in \u001b[0;36m<module>\u001b[1;34m\u001b[0m\n\u001b[0;32m      1\u001b[0m \u001b[1;31m# sample exception\u001b[0m\u001b[1;33m\u001b[0m\u001b[1;33m\u001b[0m\u001b[1;33m\u001b[0m\u001b[0m\n\u001b[1;32m----> 2\u001b[1;33m \u001b[0mf\u001b[0m \u001b[1;33m=\u001b[0m \u001b[0mopen\u001b[0m\u001b[1;33m(\u001b[0m\u001b[1;34m\"abc.txt\"\u001b[0m\u001b[1;33m)\u001b[0m\u001b[1;33m\u001b[0m\u001b[1;33m\u001b[0m\u001b[0m\n\u001b[0m\u001b[0;32m      3\u001b[0m \u001b[0mprint\u001b[0m\u001b[1;33m(\u001b[0m\u001b[0mf\u001b[0m\u001b[1;33m.\u001b[0m\u001b[0mread\u001b[0m\u001b[1;33m(\u001b[0m\u001b[1;33m)\u001b[0m\u001b[1;33m)\u001b[0m\u001b[1;33m\u001b[0m\u001b[1;33m\u001b[0m\u001b[0m\n",
      "\u001b[1;31mFileNotFoundError\u001b[0m: [Errno 2] No such file or directory: 'abc.txt'"
     ]
    }
   ],
   "source": [
    "# sample exception\n",
    "f = open(\"abc.txt\")\n",
    "print(f.read()) #FileNotFoundError: [Errno 2] No such file or directory: 'abc.txt'"
   ]
  },
  {
   "cell_type": "code",
   "execution_count": null,
   "metadata": {},
   "outputs": [],
   "source": [
    "# Exception Handling #\n",
    "# When an exception occurs, PVM will create the corresponding exception object and will check for handling code\n",
    "# if the exception is handled then the rest of code execution will go normally\n",
    "# else, the PVM prints the message and terminates the program abnormally"
   ]
  },
  {
   "cell_type": "code",
   "execution_count": null,
   "metadata": {},
   "outputs": [],
   "source": [
    "# Exception Handling Hierarchy#"
   ]
  },
  {
   "cell_type": "markdown",
   "metadata": {},
   "source": [
    "![title](img/section19_exception1.png)"
   ]
  },
  {
   "cell_type": "code",
   "execution_count": 3,
   "metadata": {},
   "outputs": [
    {
     "name": "stdout",
     "output_type": "stream",
     "text": [
      "Statement-1\n",
      "5.0\n",
      "Statement-2\n"
     ]
    }
   ],
   "source": [
    "# sample program\n",
    "print(\"Statement-1\")\n",
    "\n",
    "try:\n",
    "    print(10/0)\n",
    "    print(\"This will not be printed\")\n",
    "    \n",
    "except ZeroDivisionError:\n",
    "    print(10/2)\n",
    "    \n",
    "print('Statement-2')"
   ]
  },
  {
   "cell_type": "code",
   "execution_count": null,
   "metadata": {},
   "outputs": [],
   "source": [
    "# Control flow in try-except #\n",
    "# Inside try if exception occurred, then the rest of the code in the try block will not be executed\n",
    "# so take only risky code inside try block\n",
    "# Exception can occur inside try, except or finally or anywhere\n",
    "# except block can only handle the exceptions from try block and not from other places"
   ]
  },
  {
   "cell_type": "markdown",
   "metadata": {},
   "source": [
    "## Printing Exception information to the console ##"
   ]
  },
  {
   "cell_type": "code",
   "execution_count": 9,
   "metadata": {},
   "outputs": [
    {
     "name": "stdout",
     "output_type": "stream",
     "text": [
      "Exception occurred is:  division by zero\n",
      "Type of exception:  <class 'ZeroDivisionError'>\n",
      "Type of exception:  <class 'ZeroDivisionError'>\n",
      "Name of the exception class:  ZeroDivisionError\n"
     ]
    }
   ],
   "source": [
    "try:\n",
    "    print(10/0)\n",
    "    print(\"This will not be printed\")\n",
    "    \n",
    "except ZeroDivisionError as e: # e will be the reference variable for exception object created by PVM\n",
    "    print(\"Exception occurred is: \", e)\n",
    "    print(\"Type of exception: \", type(e))\n",
    "    print(\"Type of exception: \", e.__class__)\n",
    "    print(\"Name of the exception class: \", e.__class__.__name__)"
   ]
  },
  {
   "cell_type": "code",
   "execution_count": 11,
   "metadata": {},
   "outputs": [
    {
     "name": "stdin",
     "output_type": "stream",
     "text": [
      "Enter First Number:  10\n",
      "Enter Second Number:  dfdd\n"
     ]
    },
    {
     "name": "stdout",
     "output_type": "stream",
     "text": [
      "Exception occurred is:  invalid literal for int() with base 10: 'dfdd'\n",
      "Type of exception:  <class 'ValueError'>\n",
      "Type of exception:  <class 'ValueError'>\n",
      "Name of the exception class:  ValueError\n"
     ]
    }
   ],
   "source": [
    "# another example\n",
    "try:\n",
    "    x = int(input(\"Enter First Number: \"))\n",
    "    y = int(input(\"Enter Second Number: \"))\n",
    "    print(\"The result is : \", x/y) # zero division or value error can happen\n",
    "    \n",
    "except BaseException as e:\n",
    "    print(\"Exception occurred is: \", e)\n",
    "    print(\"Type of exception: \", type(e))\n",
    "    print(\"Type of exception: \", e.__class__)\n",
    "    print(\"Name of the exception class: \", e.__class__.__name__)"
   ]
  },
  {
   "cell_type": "code",
   "execution_count": 13,
   "metadata": {},
   "outputs": [
    {
     "name": "stdin",
     "output_type": "stream",
     "text": [
      "Enter First Number:  10\n",
      "Enter Second Number:  0\n"
     ]
    },
    {
     "name": "stdout",
     "output_type": "stream",
     "text": [
      "Cannot divide with zero\n"
     ]
    }
   ],
   "source": [
    "## try with multiple except blocks ##\n",
    "# PVM will search from top to bottom and will match first best fit exception\n",
    "\n",
    "try:\n",
    "    x = int(input(\"Enter First Number: \"))\n",
    "    y = int(input(\"Enter Second Number: \"))\n",
    "    print(\"The result is : \", x/y)\n",
    "    \n",
    "except ZeroDivisionError:\n",
    "    print('Cannot divide with zero')\n",
    "    \n",
    "except ValueError:\n",
    "    print('Value Error Occurred')"
   ]
  },
  {
   "cell_type": "code",
   "execution_count": 14,
   "metadata": {},
   "outputs": [
    {
     "name": "stdin",
     "output_type": "stream",
     "text": [
      "Enter First Number:  10\n",
      "Enter Second Number:  0\n"
     ]
    },
    {
     "name": "stdout",
     "output_type": "stream",
     "text": [
      "This will be executed\n"
     ]
    }
   ],
   "source": [
    "# note: we have to place specific exception blocks before generic errors else generic errors will be selected\n",
    "\n",
    "try:\n",
    "    x = int(input(\"Enter First Number: \"))\n",
    "    y = int(input(\"Enter Second Number: \"))\n",
    "    print(\"The result is : \", x/y)\n",
    "    \n",
    "except ArithmeticError:\n",
    "    print('This will be executed')\n",
    "    \n",
    "except ZeroDivisionError:\n",
    "    print('This will be skipped')"
   ]
  },
  {
   "cell_type": "code",
   "execution_count": 17,
   "metadata": {},
   "outputs": [
    {
     "name": "stdin",
     "output_type": "stream",
     "text": [
      "Enter First Number:  10\n",
      "Enter Second Number:  0\n"
     ]
    },
    {
     "name": "stdout",
     "output_type": "stream",
     "text": [
      "This will be executed for both Zero division or Value Error\n",
      "Exception occurred is:  division by zero\n",
      "Type of exception:  <class 'ZeroDivisionError'>\n",
      "Type of exception:  <class 'ZeroDivisionError'>\n",
      "Name of the exception class:  ZeroDivisionError\n"
     ]
    }
   ],
   "source": [
    "# single except block to handle multiple different exceptions #\n",
    "try:\n",
    "    x = int(input(\"Enter First Number: \"))\n",
    "    y = int(input(\"Enter Second Number: \"))\n",
    "    print(\"The result is : \", x/y)\n",
    "    \n",
    "except (ZeroDivisionError, ValueError) as e:\n",
    "    print('This will be executed for both Zero division or Value Error')\n",
    "    print(\"Exception occurred is: \", e)\n",
    "    print(\"Type of exception: \", type(e))\n",
    "    print(\"Type of exception: \", e.__class__)\n",
    "    print(\"Name of the exception class: \", e.__class__.__name__)"
   ]
  },
  {
   "cell_type": "code",
   "execution_count": 18,
   "metadata": {},
   "outputs": [
    {
     "name": "stdin",
     "output_type": "stream",
     "text": [
      "Enter First Number:  10\n",
      "Enter Second Number:  dsdf\n"
     ]
    },
    {
     "name": "stdout",
     "output_type": "stream",
     "text": [
      "Please provide int values only\n"
     ]
    }
   ],
   "source": [
    "## Default Except Block ##\n",
    "# this will be executed if no other except block matched\n",
    "# syntax \"except:\" -> This should be after specific error and should be the last except block\n",
    "try:\n",
    "    x = int(input(\"Enter First Number: \"))\n",
    "    y = int(input(\"Enter Second Number: \"))\n",
    "    print(\"The result is : \", x/y)\n",
    "    \n",
    "except ZeroDivisionError:\n",
    "    print(\"Zero division error\")\n",
    "    \n",
    "except: # other than ZeroDiviZeroDivisionError this block will handle all other errors\n",
    "    print(\"Please provide int values only\")"
   ]
  },
  {
   "cell_type": "code",
   "execution_count": null,
   "metadata": {},
   "outputs": [],
   "source": [
    "#few syntax options\n",
    "except ZeroDivisionError:\n",
    "except (ZeroDivisionError):\n",
    "except ZeroDivisionError as msg:\n",
    "except (ZeroDivisionError) as msg:\n",
    "except (ZeroDivisionError, ValueError):\n",
    "except (ZeroDivisionError, ValueError) as msg:\n",
    "except: # default except block"
   ]
  },
  {
   "cell_type": "code",
   "execution_count": 20,
   "metadata": {},
   "outputs": [
    {
     "name": "stdout",
     "output_type": "stream",
     "text": [
      "try\n",
      "except\n",
      "finally\n"
     ]
    }
   ],
   "source": [
    "### finally Block ### to maintain cleanup code. will be executed irrespective of error occurs or not\n",
    "# Even though the except is not handled, the finally block will be executed before abnormal termination\n",
    "try:\n",
    "    print('try')\n",
    "    raise ZeroDivisionError\n",
    "    \n",
    "except:\n",
    "    print('except')\n",
    "    \n",
    "finally:\n",
    "    print('finally')"
   ]
  },
  {
   "cell_type": "code",
   "execution_count": 21,
   "metadata": {},
   "outputs": [
    {
     "name": "stdout",
     "output_type": "stream",
     "text": [
      "try\n",
      "finally\n"
     ]
    }
   ],
   "source": [
    "# code with no error\n",
    "try:\n",
    "    print('try')\n",
    "    \n",
    "except:\n",
    "    print('except') # This code will not be executed\n",
    "    \n",
    "finally:\n",
    "    print('finally')"
   ]
  },
  {
   "cell_type": "code",
   "execution_count": null,
   "metadata": {},
   "outputs": [],
   "source": [
    "## finally block vs exit(0) ##\n",
    "# only situation where finally block can not be executed when the PVM exits abnormally (when os._exit(0) is executed) \n",
    "\n",
    "import os\n",
    "try:\n",
    "    print('try')\n",
    "    os._exit(0) # in this situation , finally will not be executed 0 means normal termination and 1 means abnormal termination. but PVM will be down in any case\n",
    "    \n",
    "except ValueError:\n",
    "    print('except')\n",
    "    \n",
    "finally:\n",
    "    print('finally')"
   ]
  },
  {
   "cell_type": "markdown",
   "metadata": {},
   "source": [
    "### Nested try-except-finally #"
   ]
  },
  {
   "cell_type": "code",
   "execution_count": 2,
   "metadata": {},
   "outputs": [
    {
     "name": "stdout",
     "output_type": "stream",
     "text": [
      "outer try block\n",
      "Inner try block\n",
      "Inner finally block\n",
      "outer finally block\n"
     ]
    }
   ],
   "source": [
    "# try-except-finally can be embedded into any try, excep, finally blocks\n",
    "# if inner except unable to handle the exception, outer except block can handle the exception\n",
    "\n",
    "# case -1: No exception\n",
    "try:\n",
    "    print('outer try block')\n",
    "    \n",
    "    try:\n",
    "        print('Inner try block')\n",
    "    except ZeroDivisionError:\n",
    "        print(\"Inner except block\") # This will not be executed\n",
    "    finally:\n",
    "        print(\"Inner finally block\")\n",
    "\n",
    "except:\n",
    "    print(\"outer try block\") # This will not be executed\n",
    "    \n",
    "finally:\n",
    "    print(\"outer finally block\")"
   ]
  },
  {
   "cell_type": "code",
   "execution_count": 3,
   "metadata": {},
   "outputs": [
    {
     "name": "stdout",
     "output_type": "stream",
     "text": [
      "outer try block\n",
      "Inner try block\n",
      "Inner except block\n",
      "Inner finally block\n",
      "outer finally block\n"
     ]
    }
   ],
   "source": [
    "# case 2 - ZerZeroDivisionError\n",
    "try:\n",
    "    print('outer try block')\n",
    "    \n",
    "    try:\n",
    "        print('Inner try block')\n",
    "        print(10/0)\n",
    "    except ZeroDivisionError:\n",
    "        print(\"Inner except block\") \n",
    "    finally:\n",
    "        print(\"Inner finally block\")\n",
    "\n",
    "except:\n",
    "    print(\"outer try block\") # This will not be executed\n",
    "    \n",
    "finally:\n",
    "    print(\"outer finally block\")"
   ]
  },
  {
   "cell_type": "code",
   "execution_count": 4,
   "metadata": {},
   "outputs": [
    {
     "name": "stdout",
     "output_type": "stream",
     "text": [
      "outer try block\n",
      "Inner try block\n",
      "Inner finally block\n",
      "outer try block\n",
      "outer finally block\n"
     ]
    }
   ],
   "source": [
    "# case 3 - ValueError\n",
    "# This will not be executed\n",
    "try:\n",
    "    print('outer try block')\n",
    "    \n",
    "    try:\n",
    "        print('Inner try block')\n",
    "        print(10/0)\n",
    "    except ValueError:\n",
    "        print(\"Inner except block\")  # This will not be executed\n",
    "    finally:\n",
    "        print(\"Inner finally block\") # This will be executed \n",
    "\n",
    "except:\n",
    "    print(\"outer try block\")\n",
    "    \n",
    "finally:\n",
    "    print(\"outer finally block\")"
   ]
  },
  {
   "cell_type": "code",
   "execution_count": 5,
   "metadata": {},
   "outputs": [
    {
     "name": "stdout",
     "output_type": "stream",
     "text": [
      "outer try block\n",
      "outer try block\n",
      "outer finally block\n"
     ]
    }
   ],
   "source": [
    "# case 4 - exception from outer try block\n",
    "try:\n",
    "    print('outer try block')\n",
    "    print(10/0)\n",
    "    \n",
    "    try:\n",
    "        print('Inner try block') # This will not be executed\n",
    "    except ValueError:\n",
    "        print(\"Inner except block\")  # This will not be executed\n",
    "    finally:\n",
    "        print(\"Inner finally block\") # This will not be executed\n",
    "\n",
    "except:\n",
    "    print(\"outer try block\")\n",
    "    \n",
    "finally:\n",
    "    print(\"outer finally block\")"
   ]
  },
  {
   "cell_type": "markdown",
   "metadata": {},
   "source": [
    "## else blocks try blocks ##"
   ]
  },
  {
   "cell_type": "code",
   "execution_count": 6,
   "metadata": {},
   "outputs": [
    {
     "name": "stdout",
     "output_type": "stream",
     "text": [
      "try\n",
      "else\n",
      "finally\n"
     ]
    }
   ],
   "source": [
    "# else block should come between except and finally\n",
    "# else block will be executed if there is no exception in try block\n",
    "\n",
    "# case 1 - no exception . else will be executed\n",
    "try:\n",
    "    print('try')\n",
    "    \n",
    "except:\n",
    "    print('except') # This will be skipped \n",
    "    \n",
    "else:\n",
    "    print('else')\n",
    "    \n",
    "finally:\n",
    "    print('finally')"
   ]
  },
  {
   "cell_type": "code",
   "execution_count": 7,
   "metadata": {},
   "outputs": [
    {
     "name": "stdout",
     "output_type": "stream",
     "text": [
      "try\n",
      "except\n",
      "finally\n"
     ]
    }
   ],
   "source": [
    "# case 2 -  exception . else will be skipped\n",
    "try:\n",
    "    print('try')\n",
    "    print(10/0)\n",
    "    \n",
    "except:\n",
    "    print('except') \n",
    "    \n",
    "else:\n",
    "    print('else') # This will be skipped \n",
    "    \n",
    "finally:\n",
    "    print('finally')"
   ]
  },
  {
   "cell_type": "code",
   "execution_count": 8,
   "metadata": {},
   "outputs": [
    {
     "ename": "SyntaxError",
     "evalue": "invalid syntax (<ipython-input-8-ec38f57cb4f4>, line 8)",
     "output_type": "error",
     "traceback": [
      "\u001b[1;36m  File \u001b[1;32m\"<ipython-input-8-ec38f57cb4f4>\"\u001b[1;36m, line \u001b[1;32m8\u001b[0m\n\u001b[1;33m    else:\u001b[0m\n\u001b[1;37m    ^\u001b[0m\n\u001b[1;31mSyntaxError\u001b[0m\u001b[1;31m:\u001b[0m invalid syntax\n"
     ]
    }
   ],
   "source": [
    "# case 3: no except block\n",
    "\n",
    "## if we use else block, we must have except block ## syntax error\n",
    "\n",
    "try:\n",
    "    print('try')\n",
    "        \n",
    "else:\n",
    "    print('else') \n",
    "    \n",
    "finally:\n",
    "    print('finally')"
   ]
  },
  {
   "cell_type": "code",
   "execution_count": 12,
   "metadata": {},
   "outputs": [
    {
     "name": "stdout",
     "output_type": "stream",
     "text": [
      "File opened successfully\n",
      "The content of the file\n",
      "##############################\n",
      "adsdad\n"
     ]
    }
   ],
   "source": [
    "# demo program\n",
    "f = None\n",
    "\n",
    "try:\n",
    "    f = open('section19_file.txt', 'r')\n",
    "    \n",
    "except:\n",
    "    print(\"Some problem while opening/ finding file\")\n",
    "    \n",
    "else:\n",
    "    print(\"File opened successfully\")\n",
    "    print(\"The content of the file\")\n",
    "    print(\"#\"*30)\n",
    "    print(f.read())\n",
    "finally:\n",
    "    if f is not None:\n",
    "        f.close()"
   ]
  },
  {
   "cell_type": "markdown",
   "metadata": {},
   "source": [
    "## Various possible combinations of try-except-else-finally"
   ]
  },
  {
   "cell_type": "code",
   "execution_count": null,
   "metadata": {},
   "outputs": [],
   "source": [
    "#invalid\n",
    "try:\n",
    "    print('invalid') # except or finally required"
   ]
  },
  {
   "cell_type": "code",
   "execution_count": null,
   "metadata": {},
   "outputs": [],
   "source": [
    "#invalid\n",
    "except:\n",
    "    print('invalid') # try shuld be there"
   ]
  },
  {
   "cell_type": "code",
   "execution_count": null,
   "metadata": {},
   "outputs": [],
   "source": [
    "#invalid\n",
    "else:\n",
    "    print('invalid')"
   ]
  },
  {
   "cell_type": "code",
   "execution_count": null,
   "metadata": {},
   "outputs": [],
   "source": [
    "#invalid\n",
    "finally:\n",
    "    print(\"invalid\")"
   ]
  },
  {
   "cell_type": "code",
   "execution_count": null,
   "metadata": {},
   "outputs": [],
   "source": [
    "#valid\n",
    "try:\n",
    "    print('try')\n",
    "except:\n",
    "    print('except')"
   ]
  },
  {
   "cell_type": "code",
   "execution_count": null,
   "metadata": {},
   "outputs": [],
   "source": [
    "#invalid\n",
    "try:\n",
    "    print('try')\n",
    "else:\n",
    "    print('else') # except must be there"
   ]
  },
  {
   "cell_type": "code",
   "execution_count": null,
   "metadata": {},
   "outputs": [],
   "source": [
    "#valid\n",
    "try:\n",
    "    print('try')\n",
    "finally:\n",
    "    print('finally')"
   ]
  },
  {
   "cell_type": "code",
   "execution_count": null,
   "metadata": {},
   "outputs": [],
   "source": [
    "#invalid\n",
    "try:\n",
    "    print('try')\n",
    "else:\n",
    "    print('else')\n",
    "except:\n",
    "    print('except') # should come before else"
   ]
  },
  {
   "cell_type": "code",
   "execution_count": null,
   "metadata": {},
   "outputs": [],
   "source": [
    "#invalid\n",
    "try:\n",
    "    print('try')\n",
    "else:\n",
    "    print('else') # if else is there, except must be there\n",
    "finally:\n",
    "    print('finally')"
   ]
  },
  {
   "cell_type": "code",
   "execution_count": null,
   "metadata": {},
   "outputs": [],
   "source": [
    "#valid\n",
    "try:\n",
    "    print('try')\n",
    "except:\n",
    "    print('except') \n",
    "else:\n",
    "    print('else')\n",
    "finally:\n",
    "    print('finally') "
   ]
  },
  {
   "cell_type": "code",
   "execution_count": 13,
   "metadata": {},
   "outputs": [
    {
     "name": "stdout",
     "output_type": "stream",
     "text": [
      "try\n",
      "try\n",
      "finally\n"
     ]
    }
   ],
   "source": [
    "#valid\n",
    "try:\n",
    "    print('try')\n",
    "except:\n",
    "    print('except') \n",
    "try:\n",
    "    print('try')\n",
    "finally:\n",
    "    print('finally') "
   ]
  },
  {
   "cell_type": "code",
   "execution_count": null,
   "metadata": {},
   "outputs": [],
   "source": [
    "#invalid\n",
    "try:\n",
    "    print('try')\n",
    "except:\n",
    "    print('except') \n",
    "try:\n",
    "    print('try')\n",
    "else:\n",
    "    print('else') # except must be there"
   ]
  },
  {
   "cell_type": "code",
   "execution_count": null,
   "metadata": {},
   "outputs": [],
   "source": [
    "#valid\n",
    "try:\n",
    "    print('try')\n",
    "except xxx:\n",
    "    print('except1') \n",
    "except yyy:\n",
    "    print('except1') "
   ]
  },
  {
   "cell_type": "code",
   "execution_count": null,
   "metadata": {},
   "outputs": [],
   "source": [
    "#invalid\n",
    "try:\n",
    "    print('try')\n",
    "except:\n",
    "    print('except') \n",
    "else:\n",
    "    print('else1') \n",
    "else:\n",
    "    print('else2') "
   ]
  },
  {
   "cell_type": "code",
   "execution_count": 14,
   "metadata": {},
   "outputs": [
    {
     "ename": "SyntaxError",
     "evalue": "invalid syntax (<ipython-input-14-ca73e67278b3>, line 8)",
     "output_type": "error",
     "traceback": [
      "\u001b[1;36m  File \u001b[1;32m\"<ipython-input-14-ca73e67278b3>\"\u001b[1;36m, line \u001b[1;32m8\u001b[0m\n\u001b[1;33m    finally:\u001b[0m\n\u001b[1;37m    ^\u001b[0m\n\u001b[1;31mSyntaxError\u001b[0m\u001b[1;31m:\u001b[0m invalid syntax\n"
     ]
    }
   ],
   "source": [
    "#invalid\n",
    "try:\n",
    "    print('try')\n",
    "except:\n",
    "    print('except') \n",
    "finally:\n",
    "    print('finally1') \n",
    "finally:\n",
    "    print('finally2') "
   ]
  },
  {
   "cell_type": "code",
   "execution_count": 15,
   "metadata": {},
   "outputs": [
    {
     "ename": "SyntaxError",
     "evalue": "invalid syntax (<ipython-input-15-58a48a503dca>, line 4)",
     "output_type": "error",
     "traceback": [
      "\u001b[1;36m  File \u001b[1;32m\"<ipython-input-15-58a48a503dca>\"\u001b[1;36m, line \u001b[1;32m4\u001b[0m\n\u001b[1;33m    print(\"hello\") # This is not allowed\u001b[0m\n\u001b[1;37m    ^\u001b[0m\n\u001b[1;31mSyntaxError\u001b[0m\u001b[1;31m:\u001b[0m invalid syntax\n"
     ]
    }
   ],
   "source": [
    "#invalid\n",
    "try:\n",
    "    print('try')\n",
    "print(\"hello\") # This is not allowed\n",
    "except:\n",
    "    print('except') "
   ]
  },
  {
   "cell_type": "code",
   "execution_count": null,
   "metadata": {},
   "outputs": [],
   "source": [
    "#invalid\n",
    "try:\n",
    "    print('try')\n",
    "except xxx:\n",
    "    print('except1')\n",
    "print(\"Error\") # This is not allowed\n",
    "except yyy:\n",
    "    print('except1') "
   ]
  },
  {
   "cell_type": "code",
   "execution_count": null,
   "metadata": {},
   "outputs": [],
   "source": [
    "#invalid\n",
    "try:\n",
    "    print('try')\n",
    "except:\n",
    "    print('except') \n",
    "print(\"Error\") # This is not allowed\n",
    "else:\n",
    "    print('else') "
   ]
  },
  {
   "cell_type": "code",
   "execution_count": 16,
   "metadata": {},
   "outputs": [
    {
     "ename": "SyntaxError",
     "evalue": "invalid syntax (<ipython-input-16-f1934b4f20d1>, line 7)",
     "output_type": "error",
     "traceback": [
      "\u001b[1;36m  File \u001b[1;32m\"<ipython-input-16-f1934b4f20d1>\"\u001b[1;36m, line \u001b[1;32m7\u001b[0m\n\u001b[1;33m    finally:\u001b[0m\n\u001b[1;37m    ^\u001b[0m\n\u001b[1;31mSyntaxError\u001b[0m\u001b[1;31m:\u001b[0m invalid syntax\n"
     ]
    }
   ],
   "source": [
    "#invalid\n",
    "try:\n",
    "    print('try')\n",
    "except:\n",
    "    print('except') \n",
    "print(10)\n",
    "finally:\n",
    "    print('finally')"
   ]
  },
  {
   "cell_type": "code",
   "execution_count": 17,
   "metadata": {},
   "outputs": [
    {
     "name": "stdout",
     "output_type": "stream",
     "text": [
      "inner try\n",
      "inner finally\n",
      "finally\n"
     ]
    }
   ],
   "source": [
    "#valid\n",
    "try:\n",
    "    try:\n",
    "        print('inner try')\n",
    "    except:\n",
    "        print('inner except') \n",
    "    finally:\n",
    "        print('inner finally')\n",
    "except:\n",
    "    print('except') \n",
    "finally:\n",
    "    print('finally')"
   ]
  },
  {
   "cell_type": "code",
   "execution_count": 18,
   "metadata": {},
   "outputs": [
    {
     "name": "stdout",
     "output_type": "stream",
     "text": [
      "try\n",
      "finally\n"
     ]
    }
   ],
   "source": [
    "#valid\n",
    "try:\n",
    "    print('try')\n",
    "except:\n",
    "    try:\n",
    "        print('inner try')\n",
    "    except:\n",
    "        print('inner except') \n",
    "    finally:\n",
    "        print('inner finally')\n",
    "finally:\n",
    "    print('finally')"
   ]
  },
  {
   "cell_type": "code",
   "execution_count": 19,
   "metadata": {},
   "outputs": [
    {
     "name": "stdout",
     "output_type": "stream",
     "text": [
      "try\n",
      "inner try\n",
      "inner finally\n"
     ]
    }
   ],
   "source": [
    "#valid\n",
    "try:\n",
    "    print('try')\n",
    "except:\n",
    "    print('except')\n",
    "finally:\n",
    "    try:\n",
    "        print('inner try')\n",
    "    except:\n",
    "        print('inner except') \n",
    "    finally:\n",
    "        print('inner finally')"
   ]
  },
  {
   "cell_type": "code",
   "execution_count": 20,
   "metadata": {},
   "outputs": [
    {
     "name": "stdout",
     "output_type": "stream",
     "text": [
      "try\n",
      "inner try\n",
      "inner finally\n",
      "finally\n"
     ]
    }
   ],
   "source": [
    "#valid\n",
    "try:\n",
    "    print('try')\n",
    "except:\n",
    "    print('except')\n",
    "    \n",
    "else:\n",
    "    try:\n",
    "        print('inner try')\n",
    "    except:\n",
    "        print('inner except') \n",
    "    finally:\n",
    "        print('inner finally')\n",
    "finally:\n",
    "    print('finally')"
   ]
  },
  {
   "cell_type": "markdown",
   "metadata": {},
   "source": [
    "## Types of Exceptions ##"
   ]
  },
  {
   "cell_type": "code",
   "execution_count": null,
   "metadata": {},
   "outputs": [],
   "source": [
    "# Predefined exceptions - Also known as inbuilt exceptions and automatically raised by PVM\n",
    "# user defined exceptions - Customized exceptions or programmatic exceptions"
   ]
  }
 ],
 "metadata": {
  "kernelspec": {
   "display_name": "Python 3",
   "language": "python",
   "name": "python3"
  },
  "language_info": {
   "codemirror_mode": {
    "name": "ipython",
    "version": 3
   },
   "file_extension": ".py",
   "mimetype": "text/x-python",
   "name": "python",
   "nbconvert_exporter": "python",
   "pygments_lexer": "ipython3",
   "version": "3.8.1"
  }
 },
 "nbformat": 4,
 "nbformat_minor": 4
}
