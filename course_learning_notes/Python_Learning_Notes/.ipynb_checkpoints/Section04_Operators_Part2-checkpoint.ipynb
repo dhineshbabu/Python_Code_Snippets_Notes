{
 "cells": [
  {
   "cell_type": "code",
   "execution_count": 1,
   "metadata": {},
   "outputs": [],
   "source": [
    "##########Shift Operators ###############"
   ]
  },
  {
   "cell_type": "code",
   "execution_count": 2,
   "metadata": {},
   "outputs": [],
   "source": [
    "# << shift left operators -> vacant cells will be filled with zero\n",
    "# >> right shift operators -> vacant cells will be filled with signed bit (0 for positive and 1 for negative)"
   ]
  },
  {
   "cell_type": "code",
   "execution_count": 3,
   "metadata": {},
   "outputs": [
    {
     "data": {
      "text/plain": [
       "40"
      ]
     },
     "execution_count": 3,
     "metadata": {},
     "output_type": "execute_result"
    }
   ],
   "source": [
    "10 << 2"
   ]
  },
  {
   "cell_type": "code",
   "execution_count": 4,
   "metadata": {},
   "outputs": [
    {
     "data": {
      "text/plain": [
       "2"
      ]
     },
     "execution_count": 4,
     "metadata": {},
     "output_type": "execute_result"
    }
   ],
   "source": [
    "10 >> 2"
   ]
  },
  {
   "cell_type": "code",
   "execution_count": 5,
   "metadata": {},
   "outputs": [
    {
     "data": {
      "text/plain": [
       "-3"
      ]
     },
     "execution_count": 5,
     "metadata": {},
     "output_type": "execute_result"
    }
   ],
   "source": [
    "-10 >> 2"
   ]
  },
  {
   "cell_type": "code",
   "execution_count": 6,
   "metadata": {},
   "outputs": [
    {
     "data": {
      "text/plain": [
       "4"
      ]
     },
     "execution_count": 6,
     "metadata": {},
     "output_type": "execute_result"
    }
   ],
   "source": [
    "# For Boolean. It will convert True to 1 and then perform the shift\n",
    "True << 2"
   ]
  },
  {
   "cell_type": "code",
   "execution_count": 7,
   "metadata": {},
   "outputs": [
    {
     "data": {
      "text/plain": [
       "0"
      ]
     },
     "execution_count": 7,
     "metadata": {},
     "output_type": "execute_result"
    }
   ],
   "source": [
    "True >> 2"
   ]
  },
  {
   "cell_type": "code",
   "execution_count": 8,
   "metadata": {},
   "outputs": [],
   "source": [
    "############ Assignment Operator ##############"
   ]
  },
  {
   "cell_type": "code",
   "execution_count": 9,
   "metadata": {},
   "outputs": [
    {
     "data": {
      "text/plain": [
       "'\\n+=\\n-=\\n/=\\n%=\\n//=\\n**=\\n&=\\n|=\\n^=\\n>>=\\n<<=\\n'"
      ]
     },
     "execution_count": 9,
     "metadata": {},
     "output_type": "execute_result"
    }
   ],
   "source": [
    "# few compound assignment\n",
    "\"\"\"\n",
    "+=\n",
    "-=\n",
    "/=\n",
    "%=\n",
    "//=\n",
    "**=\n",
    "&=\n",
    "|=\n",
    "^=\n",
    ">>=\n",
    "<<=\n",
    "\"\"\""
   ]
  },
  {
   "cell_type": "code",
   "execution_count": 10,
   "metadata": {},
   "outputs": [
    {
     "name": "stdout",
     "output_type": "stream",
     "text": [
      "0\n"
     ]
    }
   ],
   "source": [
    "#Example\n",
    "x = 10\n",
    "x &= 5\n",
    "print(x)"
   ]
  },
  {
   "cell_type": "code",
   "execution_count": 11,
   "metadata": {},
   "outputs": [
    {
     "name": "stdout",
     "output_type": "stream",
     "text": [
      "100\n"
     ]
    }
   ],
   "source": [
    "#another example\n",
    "x=10\n",
    "x **= 2\n",
    "print(x)"
   ]
  },
  {
   "cell_type": "code",
   "execution_count": 12,
   "metadata": {},
   "outputs": [
    {
     "name": "stdout",
     "output_type": "stream",
     "text": [
      "10\n",
      "10\n",
      "-10\n",
      "10\n"
     ]
    }
   ],
   "source": [
    "# in python ++ and -- operators are not there (only for post increment). Pre increment will be considered as sign\n",
    "x = 10\n",
    "print(++x)\n",
    "print(++++x)\n",
    "print(-x)\n",
    "print(--x)"
   ]
  },
  {
   "cell_type": "code",
   "execution_count": 13,
   "metadata": {},
   "outputs": [
    {
     "name": "stdout",
     "output_type": "stream",
     "text": [
      "40\n"
     ]
    }
   ],
   "source": [
    "############# Ternary Operator ###############\n",
    "# Syntax\n",
    "#variable = first-value if condition else second-value\n",
    "a = 10\n",
    "b = 20\n",
    "c = 30 if a>b else 40\n",
    "print(c)"
   ]
  },
  {
   "cell_type": "code",
   "execution_count": 14,
   "metadata": {},
   "outputs": [
    {
     "name": "stdin",
     "output_type": "stream",
     "text": [
      "Enter first number:  10\n",
      "Enter second number:  20\n"
     ]
    },
    {
     "name": "stdout",
     "output_type": "stream",
     "text": [
      "10\n"
     ]
    }
   ],
   "source": [
    "#Example. Read 2 int values from keyboard and print min value\n",
    "a = int(input(\"Enter first number: \"))\n",
    "b = int(input(\"Enter second number: \"))\n",
    "c = a if a<b else b\n",
    "print(c)"
   ]
  },
  {
   "cell_type": "code",
   "execution_count": 15,
   "metadata": {},
   "outputs": [
    {
     "name": "stdin",
     "output_type": "stream",
     "text": [
      "Enter first number:  20\n",
      "Enter second number:  15\n",
      "Enter third number:  30\n"
     ]
    },
    {
     "name": "stdout",
     "output_type": "stream",
     "text": [
      "15\n"
     ]
    }
   ],
   "source": [
    "# Nesting of ternary operator\n",
    "#Example: print the minimum of three inputs\n",
    "a = int(input(\"Enter first number: \"))\n",
    "b = int(input(\"Enter second number: \"))\n",
    "c = int(input(\"Enter third number: \"))\n",
    "d = a if a<b and a<c else b if b<c else c\n",
    "print(d)"
   ]
  },
  {
   "cell_type": "code",
   "execution_count": 16,
   "metadata": {},
   "outputs": [
    {
     "name": "stdin",
     "output_type": "stream",
     "text": [
      "Enter first number:  1\n",
      "Enter second number:  2\n"
     ]
    },
    {
     "name": "stdout",
     "output_type": "stream",
     "text": [
      "First number is smaller than the second number\n"
     ]
    }
   ],
   "source": [
    "#another example. Printing output based on conditions\n",
    "a = int(input(\"Enter first number: \"))\n",
    "b = int(input(\"Enter second number: \"))\n",
    "result = \"equal\" if a == b else \"smaller\" if a<b else \"Bigger\"\n",
    "print(\"First number is \" + result + \" than the second number\")"
   ]
  },
  {
   "cell_type": "code",
   "execution_count": 17,
   "metadata": {},
   "outputs": [],
   "source": [
    "############## Special operators identity and membership opereators #####################"
   ]
  },
  {
   "cell_type": "code",
   "execution_count": 19,
   "metadata": {},
   "outputs": [
    {
     "name": "stdout",
     "output_type": "stream",
     "text": [
      "True\n",
      "140709301962688\n",
      "140709301962688\n",
      "False\n"
     ]
    }
   ],
   "source": [
    "# identity operators  => is , is not\n",
    "# r1 is r2 => return True if both the references pointing to the same object\n",
    "# r1 is not r2 => return True if both the references pointing to different objects\n",
    "a = 10\n",
    "b = 10\n",
    "print(a is b)\n",
    "print(id(a))\n",
    "print(id(b))\n",
    "print(a is not b)"
   ]
  },
  {
   "cell_type": "code",
   "execution_count": 20,
   "metadata": {},
   "outputs": [
    {
     "name": "stdout",
     "output_type": "stream",
     "text": [
      "False\n",
      "2531003858752\n",
      "2531003857856\n",
      "True\n"
     ]
    }
   ],
   "source": [
    "# another example. Always list type will not have object reusability\n",
    "l1 = [10, 20]\n",
    "l2 = [10, 20]\n",
    "print(l1 is l2)\n",
    "print(id(l1))\n",
    "print(id(l2))\n",
    "print(l1 is not l2)"
   ]
  },
  {
   "cell_type": "code",
   "execution_count": 21,
   "metadata": {},
   "outputs": [
    {
     "name": "stdout",
     "output_type": "stream",
     "text": [
      "True\n"
     ]
    }
   ],
   "source": [
    "# == operator will perform content comparison\n",
    "print(l1 == l2)"
   ]
  },
  {
   "cell_type": "code",
   "execution_count": 23,
   "metadata": {},
   "outputs": [
    {
     "name": "stdout",
     "output_type": "stream",
     "text": [
      "True\n",
      "True\n",
      "False\n",
      "True\n"
     ]
    }
   ],
   "source": [
    "### Membership operator ###\n",
    "# in and not in operators\n",
    "# \"a in sequqnce\" => returns True if a is a member of a sequence\n",
    "# \"a not in sequqnce\" => returns True if a is not a member of a sequence\n",
    "s = \"Hello This is Dhinesh\"\n",
    "print(\"Dhinesh\" in s)\n",
    "print(\"Kanu\" not in s)\n",
    "print(\"z\" in s)\n",
    "print(\"D\" in s)"
   ]
  },
  {
   "cell_type": "code",
   "execution_count": 24,
   "metadata": {},
   "outputs": [
    {
     "name": "stdout",
     "output_type": "stream",
     "text": [
      "True\n"
     ]
    }
   ],
   "source": [
    "# another example\n",
    "l = [\"Dhinesh\", \"kanu\", \"rabbit\"]\n",
    "print(\"rabbit\" in l)"
   ]
  },
  {
   "cell_type": "code",
   "execution_count": 25,
   "metadata": {},
   "outputs": [],
   "source": [
    "############## Operator Precedence ###################"
   ]
  },
  {
   "cell_type": "code",
   "execution_count": null,
   "metadata": {},
   "outputs": [],
   "source": [
    "\"\"\"\n",
    "() \n",
    "**\n",
    "~ -\n",
    "* / % //\n",
    "+ - \n",
    "<< >>\n",
    "&\n",
    "^\n",
    "|\n",
    ">, >=, <, <=, ==, !=\n",
    "=, +=, -=, *=\n",
    "is, is not\n",
    "in, in not\n",
    "not\n",
    "and\n",
    "or\n",
    "\"\"\""
   ]
  },
  {
   "cell_type": "code",
   "execution_count": 27,
   "metadata": {},
   "outputs": [
    {
     "name": "stdout",
     "output_type": "stream",
     "text": [
      "100.0\n",
      "100.0\n",
      "70.0\n"
     ]
    }
   ],
   "source": [
    "# Example\n",
    "a = 30\n",
    "b = 20\n",
    "c = 10\n",
    "d = 5\n",
    "print((a+b) * c/d)\n",
    "print((a+b) * (c/d))\n",
    "print(a+(b*c)/d)"
   ]
  },
  {
   "cell_type": "code",
   "execution_count": 28,
   "metadata": {},
   "outputs": [
    {
     "data": {
      "text/plain": [
       "15.0"
      ]
     },
     "execution_count": 28,
     "metadata": {},
     "output_type": "execute_result"
    }
   ],
   "source": [
    "# another example\n",
    "3/2*4+3+(10/5)**3-2"
   ]
  },
  {
   "cell_type": "code",
   "execution_count": 29,
   "metadata": {},
   "outputs": [],
   "source": [
    "###################### Basic Information about Modules in Python ###############################\n",
    "# any python file acts as a module."
   ]
  },
  {
   "cell_type": "code",
   "execution_count": null,
   "metadata": {},
   "outputs": [],
   "source": [
    "# varios ways to import modules\n",
    "# from math import *  => all the functions from math\n",
    "# if 2 functions is having the same name from 2 imports then python VM will consider the latest import\n",
    "# from math1 import *\n",
    "# from math2 import *\n",
    "# in the above code if math1 and math2 is having the same function then function from math2 will be considered"
   ]
  },
  {
   "cell_type": "code",
   "execution_count": 30,
   "metadata": {},
   "outputs": [
    {
     "data": {
      "text/plain": [
       "'\\nsqrt(x)\\nfloor(x)\\nceil(x)\\npow(x)\\nsin(x)\\ncos(x)\\ntan(x) and etc\\n'"
      ]
     },
     "execution_count": 30,
     "metadata": {},
     "output_type": "execute_result"
    }
   ],
   "source": [
    "## important functions in math module (inbuilt module)\n",
    "\"\"\"\n",
    "sqrt(x)\n",
    "floor(x)\n",
    "ceil(x)\n",
    "pow(x)\n",
    "sin(x)\n",
    "cos(x)\n",
    "tan(x) and etc\n",
    "\"\"\""
   ]
  },
  {
   "cell_type": "code",
   "execution_count": 31,
   "metadata": {},
   "outputs": [
    {
     "name": "stdin",
     "output_type": "stream",
     "text": [
      "Enter radius:  5\n"
     ]
    },
    {
     "name": "stdout",
     "output_type": "stream",
     "text": [
      "Area of circle:  78.53981633974483\n"
     ]
    }
   ],
   "source": [
    "# Find area of circle for the given radius\n",
    "from math import *\n",
    "\n",
    "r = int(input(\"Enter radius: \"))\n",
    "print(\"Area of circle: \", pi*pow(r, 2)) # pi is a constant from math module"
   ]
  },
  {
   "cell_type": "code",
   "execution_count": null,
   "metadata": {},
   "outputs": [],
   "source": []
  }
 ],
 "metadata": {
  "kernelspec": {
   "display_name": "Python 3",
   "language": "python",
   "name": "python3"
  },
  "language_info": {
   "codemirror_mode": {
    "name": "ipython",
    "version": 3
   },
   "file_extension": ".py",
   "mimetype": "text/x-python",
   "name": "python",
   "nbconvert_exporter": "python",
   "pygments_lexer": "ipython3",
   "version": "3.8.1"
  }
 },
 "nbformat": 4,
 "nbformat_minor": 4
}
