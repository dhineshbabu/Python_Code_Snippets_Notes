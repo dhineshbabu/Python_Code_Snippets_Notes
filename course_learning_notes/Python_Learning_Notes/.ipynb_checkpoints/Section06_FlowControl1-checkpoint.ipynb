{
 "cells": [
  {
   "cell_type": "code",
   "execution_count": 1,
   "metadata": {},
   "outputs": [
    {
     "name": "stdout",
     "output_type": "stream",
     "text": [
      "10 is less than 20\n"
     ]
    }
   ],
   "source": [
    "# In python , parantheses in if or any conditions is not mandatory\n",
    "if 10<20:\n",
    "    print(\"10 is less than 20\")"
   ]
  },
  {
   "cell_type": "code",
   "execution_count": 2,
   "metadata": {},
   "outputs": [
    {
     "name": "stdin",
     "output_type": "stream",
     "text": [
      "Enter your name:  kanu\n"
     ]
    },
    {
     "name": "stdout",
     "output_type": "stream",
     "text": [
      "Yes, she is Kanu\n",
      "End of program\n"
     ]
    }
   ],
   "source": [
    "#another example\n",
    "name = input(\"Enter your name: \")\n",
    "if name == 'kanu':\n",
    "    print(\"Yes, she is Kanu\")\n",
    "else:\n",
    "    print(\"Hello, she is not kanu\")\n",
    "    \n",
    "print(\"End of program\")"
   ]
  },
  {
   "cell_type": "code",
   "execution_count": 3,
   "metadata": {},
   "outputs": [
    {
     "name": "stdin",
     "output_type": "stream",
     "text": [
      "Enter your name:  Kanu\n"
     ]
    },
    {
     "name": "stdout",
     "output_type": "stream",
     "text": [
      "Hello Kanu\n"
     ]
    }
   ],
   "source": [
    "#Elif\n",
    "name = input(\"Enter your name: \")\n",
    "\n",
    "if name == \"Dhinesh\":\n",
    "    print(\"Hello Dhinesh\")\n",
    "elif name == \"Kanu\":\n",
    "    print(\"Hello Kanu\")\n",
    "else:\n",
    "    print(\"Hello Bru\")"
   ]
  },
  {
   "cell_type": "code",
   "execution_count": 4,
   "metadata": {},
   "outputs": [
    {
     "name": "stdin",
     "output_type": "stream",
     "text": [
      "Enter first number:  5\n",
      "Enter second number:  1\n",
      "Enter third number:  4\n"
     ]
    },
    {
     "name": "stdout",
     "output_type": "stream",
     "text": [
      "Biggest number is :  5\n"
     ]
    }
   ],
   "source": [
    "#Maximum of 3 numbers\n",
    "a = int(input(\"Enter first number: \"))\n",
    "b = int(input(\"Enter second number: \"))\n",
    "c = int(input(\"Enter third number: \"))\n",
    "\n",
    "if a>b and a>c:\n",
    "    print(\"Biggest number is : \", a)\n",
    "elif b>c:\n",
    "    print(\"Biggest number is : \", b)\n",
    "else:\n",
    "    print(\"Biggest number is : \", c)"
   ]
  },
  {
   "cell_type": "code",
   "execution_count": 6,
   "metadata": {},
   "outputs": [
    {
     "name": "stdin",
     "output_type": "stream",
     "text": [
      "Enter a number:  52\n"
     ]
    },
    {
     "name": "stdout",
     "output_type": "stream",
     "text": [
      "The number 52 is between 1 and 100\n"
     ]
    }
   ],
   "source": [
    "#another example\n",
    "a = int(input(\"Enter a number: \"))\n",
    "\n",
    "if a>=1 and a<=100:\n",
    "    print(\"The number {} is between 1 and 100\".format(a))"
   ]
  },
  {
   "cell_type": "code",
   "execution_count": 12,
   "metadata": {},
   "outputs": [
    {
     "name": "stdin",
     "output_type": "stream",
     "text": [
      "Enter a number between 0 and 99:  85\n"
     ]
    },
    {
     "name": "stdout",
     "output_type": "stream",
     "text": [
      "EIGHTY FIVE\n"
     ]
    }
   ],
   "source": [
    "#Digit to text conversion code\n",
    "numbers = [\"\", \"ONE\", \"TWO\", \"THREE\", \"FOUR\", \"FIVE\", \"SIX\", \"SEVEN\", \"EIGHT\", \"NINE\", \"TEN\", \"ELEVEN\", \"TWLEVE\", \"THIRTEEN\", \"FOURTEEN\", \"FIFTEEN\", \"SIXTEEN\", \"SEVENTEEN\", \"EIGHTEEN\", \"NINETEEN\"]\n",
    "words_for_tens = [\"\",\"\", \"TWENTY\", \"THIRTY\", \"FOURTY\", \"FIFTY\", \"SIXTY\", \"SEVENTY\", \"EIGHTY\", \"NINETY\"]\n",
    "n = int(input(\"Enter a number between 0 and 99: \"))\n",
    "output = \"\"\n",
    "if n == 0:\n",
    "    output = \"ZERO\"\n",
    "elif n <= 19:\n",
    "    output = numbers[n]\n",
    "elif n <= 99:\n",
    "    output = words_for_tens[n // 10] + \" \" + numbers[n%10]\n",
    "else:\n",
    "    output = \"Please enter a number between 0 and 99\"\n",
    "\n",
    "print(output)\n",
    "    "
   ]
  },
  {
   "cell_type": "code",
   "execution_count": null,
   "metadata": {},
   "outputs": [],
   "source": [
    "### Iterative Statements ###\n",
    "# for loop\n",
    "# while loop"
   ]
  },
  {
   "cell_type": "code",
   "execution_count": 17,
   "metadata": {},
   "outputs": [
    {
     "name": "stdout",
     "output_type": "stream",
     "text": [
      "0 1 2 3 4 "
     ]
    }
   ],
   "source": [
    "# for loop\n",
    "for i in range(5):\n",
    "    print(i, end=\" \")"
   ]
  },
  {
   "cell_type": "code",
   "execution_count": 19,
   "metadata": {},
   "outputs": [
    {
     "name": "stdout",
     "output_type": "stream",
     "text": [
      "D H I N E S H   K A N U "
     ]
    }
   ],
   "source": [
    "#example 2 \n",
    "name = \"DHINESH KANU\"\n",
    "for x in name:\n",
    "    print(x, end=\" \")"
   ]
  },
  {
   "cell_type": "code",
   "execution_count": 20,
   "metadata": {},
   "outputs": [
    {
     "name": "stdout",
     "output_type": "stream",
     "text": [
      "3\n",
      "4\n",
      "5\n",
      "6\n",
      "7\n"
     ]
    }
   ],
   "source": [
    " #example 3\n",
    "for x in range(3, 8):\n",
    "    print(x)"
   ]
  },
  {
   "cell_type": "code",
   "execution_count": 21,
   "metadata": {},
   "outputs": [
    {
     "name": "stdout",
     "output_type": "stream",
     "text": [
      "1\n",
      "3\n",
      "5\n",
      "7\n",
      "9\n",
      "11\n",
      "13\n",
      "15\n",
      "17\n",
      "19\n"
     ]
    }
   ],
   "source": [
    "#printing odd numbers\n",
    "for x in range(21):\n",
    "    if x%2 != 0:\n",
    "        print(x)"
   ]
  },
  {
   "cell_type": "code",
   "execution_count": 23,
   "metadata": {},
   "outputs": [],
   "source": [
    "# to display numbers from 1 to 10 in descending order\n",
    "for x in range(10, 10 -1):\n",
    "    print(x, end=\" \")"
   ]
  },
  {
   "cell_type": "code",
   "execution_count": 25,
   "metadata": {},
   "outputs": [
    {
     "name": "stdout",
     "output_type": "stream",
     "text": [
      "Hello, you are running 1 iteration\n",
      "Hello, you are running 2 iteration\n",
      "Hello, you are running 3 iteration\n",
      "Hello, you are running 4 iteration\n",
      "Hello, you are running 5 iteration\n",
      "Hello, you are running 6 iteration\n",
      "Hello, you are running 7 iteration\n",
      "Hello, you are running 8 iteration\n",
      "Hello, you are running 9 iteration\n",
      "Hello, you are running 10 iteration\n",
      "End of Program....\n"
     ]
    }
   ],
   "source": [
    "### while loop ### while loop needs boolean condition but for loop needs a sequence\n",
    "i = 1\n",
    "\n",
    "while i <= 10:\n",
    "    print(\"Hello, you are running {} iteration\".format(i))\n",
    "    i = i + 1\n",
    "    \n",
    "print(\"End of Program....\")"
   ]
  },
  {
   "cell_type": "code",
   "execution_count": 26,
   "metadata": {},
   "outputs": [
    {
     "name": "stdin",
     "output_type": "stream",
     "text": [
      "Please enter a good name dhinesh\n",
      "Please enter a good name bru\n",
      "Please enter a good name jothi\n",
      "Please enter a good name kanu\n"
     ]
    },
    {
     "name": "stdout",
     "output_type": "stream",
     "text": [
      "The system condition is satisfied..\n"
     ]
    }
   ],
   "source": [
    "#another example\n",
    "\n",
    "name = \"\"\n",
    "\n",
    "while name != \"kanu\":\n",
    "    name = input(\"Please enter a good name\")\n",
    "    \n",
    "print(\"The system condition is satisfied..\")"
   ]
  },
  {
   "cell_type": "code",
   "execution_count": null,
   "metadata": {},
   "outputs": [],
   "source": [
    "# infinite loops. Do not execute the below code\n",
    "while True:\n",
    "    print(\"Hello\")"
   ]
  },
  {
   "cell_type": "code",
   "execution_count": 27,
   "metadata": {},
   "outputs": [
    {
     "name": "stdout",
     "output_type": "stream",
     "text": [
      "Hello, Kanu\n",
      "Hello, Kanu\n",
      "Hello, Kanu\n",
      "Hello, Kanu\n",
      "Hello, Kanu\n",
      "Hello, Kanu\n"
     ]
    }
   ],
   "source": [
    "### Nested loops ###\n",
    "\n",
    "for i in range(3):\n",
    "    for j in range(2):\n",
    "        print(\"Hello, Kanu\")"
   ]
  },
  {
   "cell_type": "code",
   "execution_count": 28,
   "metadata": {},
   "outputs": [
    {
     "name": "stdout",
     "output_type": "stream",
     "text": [
      "0\n",
      "1\n",
      "2\n",
      "3\n",
      "4\n",
      "5\n",
      "6\n",
      "Processing completed. Break the loop...\n",
      "Close the window.\n"
     ]
    }
   ],
   "source": [
    "# break statement. Must be used only within loops\n",
    "for i in range(10):\n",
    "    if i == 7:\n",
    "        print(\"Processing completed. Break the loop...\")\n",
    "        break\n",
    "    print(i)\n",
    "print(\"Close the window.\")"
   ]
  },
  {
   "cell_type": "code",
   "execution_count": 32,
   "metadata": {},
   "outputs": [
    {
     "name": "stdout",
     "output_type": "stream",
     "text": [
      "Order placed for 10\n",
      "Order placed for 20\n",
      "Order placed for 30\n",
      "To place this order, insurance is required. We are not procesing this item\n"
     ]
    }
   ],
   "source": [
    "#another example\n",
    "cart = [10, 20, 30, 600, 70, 80]\n",
    "\n",
    "for item in cart:\n",
    "    if item > 500:\n",
    "        print(\"To place this order, insurance is required. We are not procesing this item\")\n",
    "        break\n",
    "    print(\"Order placed for {}\".format(item))"
   ]
  },
  {
   "cell_type": "code",
   "execution_count": 35,
   "metadata": {},
   "outputs": [
    {
     "name": "stdout",
     "output_type": "stream",
     "text": [
      "1\n",
      "3\n",
      "5\n",
      "7\n",
      "9\n"
     ]
    }
   ],
   "source": [
    "# continue statement\n",
    "for i in range(10):\n",
    "    if i%2 == 0:\n",
    "        continue\n",
    "    print(i)"
   ]
  },
  {
   "cell_type": "code",
   "execution_count": 37,
   "metadata": {},
   "outputs": [
    {
     "name": "stdout",
     "output_type": "stream",
     "text": [
      "Order placed for 10\n",
      "Order placed for 20\n",
      "Order placed for 30\n",
      "To place this order for 600, insurance is required. We are not procesing this item\n",
      "Order placed for 70\n",
      "Order placed for 80\n"
     ]
    }
   ],
   "source": [
    "#another example\n",
    "cart = [10, 20, 30, 600, 70, 80]\n",
    "\n",
    "for item in cart:\n",
    "    if item > 500:\n",
    "        print(\"To place this order for {}, insurance is required. We are not procesing this item\".format(item))\n",
    "        continue\n",
    "    print(\"Order placed for {}\".format(item))"
   ]
  },
  {
   "cell_type": "code",
   "execution_count": 2,
   "metadata": {},
   "outputs": [
    {
     "name": "stdout",
     "output_type": "stream",
     "text": [
      "1 0\n",
      "2 0\n",
      "2 1\n"
     ]
    }
   ],
   "source": [
    "#another example. In nested loops break will close the most inner loop where it is placed\n",
    "\n",
    "for i in range(3):\n",
    "    for j in range(2):\n",
    "        if i == j:\n",
    "            break\n",
    "        print(i,j)"
   ]
  },
  {
   "cell_type": "code",
   "execution_count": 3,
   "metadata": {},
   "outputs": [
    {
     "name": "stdout",
     "output_type": "stream",
     "text": [
      "0 1\n",
      "1 0\n",
      "2 0\n",
      "2 1\n"
     ]
    }
   ],
   "source": [
    "# same example with continue statement\n",
    "for i in range(3):\n",
    "    for j in range(2):\n",
    "        if i == j:\n",
    "            continue\n",
    "        print(i,j)"
   ]
  },
  {
   "cell_type": "code",
   "execution_count": 4,
   "metadata": {},
   "outputs": [
    {
     "name": "stdout",
     "output_type": "stream",
     "text": [
      "Processing item:  10\n",
      "Processing item:  20\n",
      "Processing item:  30\n",
      "Processing item:  40\n",
      "Processing item:  50\n",
      "Congratulations, all the items process without errors\n"
     ]
    }
   ],
   "source": [
    "# Loop with else block - can be used with 'for' and 'while' loop\n",
    "# if the loop executed wihtout any break statement, then else part will be executed\n",
    "\n",
    "cart = [10,20,30,40,50]\n",
    "\n",
    "for item in cart:\n",
    "    if item > 500:\n",
    "        print(\"Insurance must be required. Can not process the item\")\n",
    "        break\n",
    "    print(\"Processing item: \", item)\n",
    "    \n",
    "else:\n",
    "    print(\"Congratulations, all the items process without errors\")"
   ]
  },
  {
   "cell_type": "code",
   "execution_count": 6,
   "metadata": {},
   "outputs": [],
   "source": [
    "# pass statement - acts as a placeholder for future implementation\n",
    "\n",
    "# for functions\n",
    "def sample():\n",
    "    pass"
   ]
  },
  {
   "cell_type": "code",
   "execution_count": 7,
   "metadata": {},
   "outputs": [],
   "source": [
    "# for classes\n",
    "\n",
    "class A:\n",
    "    pass\n",
    "\n",
    "class B:\n",
    "    pass\n",
    "\n",
    "class C:\n",
    "    pass"
   ]
  },
  {
   "cell_type": "code",
   "execution_count": 9,
   "metadata": {},
   "outputs": [
    {
     "name": "stdout",
     "output_type": "stream",
     "text": [
      "8\n"
     ]
    }
   ],
   "source": [
    "# will be useful to create abstarct methods\n",
    "from abc import *\n",
    "class Loan(ABC):\n",
    "    @abstractmethod\n",
    "    def getInterestRate(self):\n",
    "        pass\n",
    "\n",
    "class HomeLoan(Loan):\n",
    "    def getInterestRate(self):\n",
    "        return 8\n",
    "    \n",
    "class VehicleLoan(Loan):\n",
    "    def getInterestRate(self):\n",
    "        return 11\n",
    "    \n",
    "h = HomeLoan()\n",
    "print(h.getInterestRate())"
   ]
  },
  {
   "cell_type": "code",
   "execution_count": null,
   "metadata": {},
   "outputs": [],
   "source": [
    "# del statement\n",
    "\n"
   ]
  }
 ],
 "metadata": {
  "kernelspec": {
   "display_name": "Python 3",
   "language": "python",
   "name": "python3"
  },
  "language_info": {
   "codemirror_mode": {
    "name": "ipython",
    "version": 3
   },
   "file_extension": ".py",
   "mimetype": "text/x-python",
   "name": "python",
   "nbconvert_exporter": "python",
   "pygments_lexer": "ipython3",
   "version": "3.8.1"
  }
 },
 "nbformat": 4,
 "nbformat_minor": 4
}
