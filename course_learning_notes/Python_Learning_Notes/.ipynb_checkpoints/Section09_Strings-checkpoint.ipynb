{
 "cells": [
  {
   "cell_type": "code",
   "execution_count": 1,
   "metadata": {},
   "outputs": [
    {
     "name": "stdout",
     "output_type": "stream",
     "text": [
      " Hello this is ' and this is \" \n"
     ]
    }
   ],
   "source": [
    "# use \"\"\" to add ' or \" in your string\n",
    "sample = \"\"\" Hello this is ' and this is \" \"\"\"\n",
    "print(sample)\n"
   ]
  },
  {
   "cell_type": "code",
   "execution_count": 2,
   "metadata": {},
   "outputs": [],
   "source": [
    "#accessing characters of the string either by using indexing or by slicing"
   ]
  },
  {
   "cell_type": "code",
   "execution_count": 3,
   "metadata": {},
   "outputs": [
    {
     "name": "stdin",
     "output_type": "stream",
     "text": [
      "Enter Some String:  Kanu Hasini\n"
     ]
    },
    {
     "name": "stdout",
     "output_type": "stream",
     "text": [
      "The character present at +ve index : 0 and at -ve index: -11 is K\n",
      "The character present at +ve index : 1 and at -ve index: -10 is a\n",
      "The character present at +ve index : 2 and at -ve index: -9 is n\n",
      "The character present at +ve index : 3 and at -ve index: -8 is u\n",
      "The character present at +ve index : 4 and at -ve index: -7 is  \n",
      "The character present at +ve index : 5 and at -ve index: -6 is H\n",
      "The character present at +ve index : 6 and at -ve index: -5 is a\n",
      "The character present at +ve index : 7 and at -ve index: -4 is s\n",
      "The character present at +ve index : 8 and at -ve index: -3 is i\n",
      "The character present at +ve index : 9 and at -ve index: -2 is n\n",
      "The character present at +ve index : 10 and at -ve index: -1 is i\n"
     ]
    }
   ],
   "source": [
    "# program to display characters of givn string wise (both positive and negative)\n",
    "\n",
    "s = input('Enter Some String: ')\n",
    "\n",
    "i = 0\n",
    "\n",
    "for x in s:\n",
    "    print(\"The character present at +ve index : {} and at -ve index: {} is {}\".format(i, i-len(s), x))\n",
    "    i += 1"
   ]
  },
  {
   "cell_type": "code",
   "execution_count": 4,
   "metadata": {},
   "outputs": [
    {
     "name": "stdout",
     "output_type": "stream",
     "text": [
      "nu Ha\n"
     ]
    }
   ],
   "source": [
    "#slicing - we can extract a sub string from a python string\n",
    "# syntax s[begin: end: step]\n",
    "\n",
    "s = \"Kanu Hasini\"\n",
    "print(s[2:7])"
   ]
  },
  {
   "cell_type": "code",
   "execution_count": 5,
   "metadata": {},
   "outputs": [
    {
     "data": {
      "text/plain": [
       "'Kanu Hasini'"
      ]
     },
     "execution_count": 5,
     "metadata": {},
     "output_type": "execute_result"
    }
   ],
   "source": [
    "s[:]"
   ]
  },
  {
   "cell_type": "code",
   "execution_count": 6,
   "metadata": {},
   "outputs": [
    {
     "data": {
      "text/plain": [
       "'n a'"
      ]
     },
     "execution_count": 6,
     "metadata": {},
     "output_type": "execute_result"
    }
   ],
   "source": [
    "#with step parameter\n",
    "s[2:7:2]"
   ]
  },
  {
   "cell_type": "code",
   "execution_count": 7,
   "metadata": {},
   "outputs": [
    {
     "data": {
      "text/plain": [
       "'Kuan'"
      ]
     },
     "execution_count": 7,
     "metadata": {},
     "output_type": "execute_result"
    }
   ],
   "source": [
    "s[::3]"
   ]
  },
  {
   "cell_type": "code",
   "execution_count": 12,
   "metadata": {},
   "outputs": [
    {
     "data": {
      "text/plain": [
       "'inisaH unaK'"
      ]
     },
     "execution_count": 12,
     "metadata": {},
     "output_type": "execute_result"
    }
   ],
   "source": [
    "# slice operator rules\n",
    "# step value can either be positive or negative\n",
    "# if + ve, forward direction from begin to end-1\n",
    "# if - ve, Right to left [Backward direction] from begin to end+1\n",
    "# step value can not be 0, that will throw Value Error\n",
    "# in forward direction, end value is 0 then the result is always empty\n",
    "# in backward direction, end value is -1 then the result is always empty\n",
    "# in forward direction, default begin is 0, default end len(s)\n",
    "# in backward direction, default begin is -1, default end -(len(s)+1)\n",
    "s[-1::-1]"
   ]
  },
  {
   "cell_type": "code",
   "execution_count": 13,
   "metadata": {},
   "outputs": [
    {
     "data": {
      "text/plain": [
       "'saH u'"
      ]
     },
     "execution_count": 13,
     "metadata": {},
     "output_type": "execute_result"
    }
   ],
   "source": [
    "s[7:2:-1]"
   ]
  },
  {
   "cell_type": "code",
   "execution_count": 14,
   "metadata": {},
   "outputs": [],
   "source": [
    "### Slice operator case study ###"
   ]
  },
  {
   "cell_type": "code",
   "execution_count": 32,
   "metadata": {},
   "outputs": [
    {
     "name": "stdout",
     "output_type": "stream",
     "text": [
      "bdf\n",
      "jihgfedcba\n",
      "abcdefghij\n",
      "\n",
      "hgf\n",
      "abcdefghij\n",
      "gfedc\n",
      "gec\n",
      "\n",
      "\n",
      "a\n",
      "\n",
      "\n",
      "fd\n",
      "\n",
      "jihgfed\n"
     ]
    }
   ],
   "source": [
    "s = 'abcdefghij'\n",
    "print(s[1:6:2]) #bdf\n",
    "print(s[::-1]) # string reverse\n",
    "print(s[::1]) # complete string in forward direction\n",
    "print(s[3:7:-1]) # empty string. can not move from 3 to 8 in backward direction\n",
    "print(s[7:4:-1]) # hgf ( index 7 to index 5 (end+1))\n",
    "print(s[0:10000:1]) # complete string in forward direction. Slice operator never raises IndexError\n",
    "print(s[-4:1:-1]) # gfedc\n",
    "print(s[-4:1:-2]) # gfd. 2 steps in reverse direction\n",
    "print(s[5:0:1]) # empty string. can not move from 5 to 0 in forward\n",
    "#print(s[9:0:0]) # valueError. Slice step can not be zero\n",
    "print(s[0:-10:-1]) #empty string can not move backward from 0\n",
    "print(s[0:-11:-1]) # a. first character\n",
    "print(s[0:0:1]) # empty. in forward end can not be 0\n",
    "print(s[0:-9:-2]) # empty can not move from 0 to -8 (end+1) in reverse\n",
    "print(s[-5:-9:-2]) # fd\n",
    "print(s[10:-1:-1]) # empty. in backward end can not be -1\n",
    "print(s[10000:2:-1]) #jihgfed"
   ]
  },
  {
   "cell_type": "code",
   "execution_count": 37,
   "metadata": {},
   "outputs": [
    {
     "name": "stdout",
     "output_type": "stream",
     "text": [
      "string concatenation\n",
      "stringstringstringstringstring\n"
     ]
    }
   ],
   "source": [
    "### Methematical operators for String ####\n",
    "# + operator for concatenation\n",
    "# * operator for string repetition\n",
    "print(\"string\" + \" concatenation\") # both arguments should be string type\n",
    "print(\"string\" * 5) # number should be integral only can not be float or any other type"
   ]
  },
  {
   "cell_type": "code",
   "execution_count": 39,
   "metadata": {},
   "outputs": [
    {
     "name": "stdout",
     "output_type": "stream",
     "text": [
      "True\n",
      "True\n"
     ]
    }
   ],
   "source": [
    "# membership operator for string\n",
    "# in , not in \n",
    "s = \"kanu hasini\"\n",
    "print('k' in s)\n",
    "print('z' not in s)"
   ]
  },
  {
   "cell_type": "code",
   "execution_count": 40,
   "metadata": {},
   "outputs": [
    {
     "name": "stdin",
     "output_type": "stream",
     "text": [
      "Enter any string:  kanu hasini is good\n",
      "Enter substring to identify:  hasini\n"
     ]
    },
    {
     "name": "stdout",
     "output_type": "stream",
     "text": [
      "Sub string is available\n"
     ]
    }
   ],
   "source": [
    "# checking the substring in a string using membership operator\n",
    "s = input(\"Enter any string: \")\n",
    "subs = input(\"Enter substring to identify: \")\n",
    "\n",
    "if subs in s:\n",
    "    print(\"Sub string is available\")\n",
    "else:\n",
    "    print(\"Sub string is not there try again later\")"
   ]
  },
  {
   "cell_type": "code",
   "execution_count": 42,
   "metadata": {},
   "outputs": [
    {
     "name": "stdout",
     "output_type": "stream",
     "text": [
      "True\n",
      "100\n",
      "107\n"
     ]
    }
   ],
   "source": [
    "# comaprison operators for strings\n",
    "# <, <=, >, >=, ==, !=   ==> comparison will be based on unicode\n",
    "# we can use ord() function to get the unicode\n",
    "# comaprison will be happening character by character\n",
    "print(\"dhinesh\" < \"kumar\")\n",
    "print(ord('d'))\n",
    "print(ord('k'))"
   ]
  },
  {
   "cell_type": "code",
   "execution_count": 46,
   "metadata": {},
   "outputs": [
    {
     "name": "stdin",
     "output_type": "stream",
     "text": [
      "Enter your city name:     Chennai   \n"
     ]
    },
    {
     "name": "stdout",
     "output_type": "stream",
     "text": [
      "Hello Madarasi... Vanakkam\n"
     ]
    }
   ],
   "source": [
    "### Removing spaces from strings ###\n",
    "# lstrip() - left trim (at start of the string)\n",
    "# rstrip() - right trim (at end of the string)\n",
    "#strip() - remove spaces from both the ends\n",
    "\n",
    "city = input(\"Enter your city name: \").strip()\n",
    "\n",
    "if city == 'Hyderabad':\n",
    "    print(\"Hello Hyderabadi... Aadab\")\n",
    "elif city == 'Chennai':\n",
    "    print(\"Hello Madarasi... Vanakkam\")\n",
    "elif city == 'Bangalore':\n",
    "    print(\"Hello Kannadiga... Namaskara\")\n",
    "else:\n",
    "    print(\"Your entered city is invalid\")"
   ]
  },
  {
   "cell_type": "code",
   "execution_count": 56,
   "metadata": {},
   "outputs": [
    {
     "name": "stdout",
     "output_type": "stream",
     "text": [
      "1\n",
      "-1\n",
      "3\n",
      "-1\n",
      "5\n",
      "1\n",
      "3\n"
     ]
    },
    {
     "ename": "ValueError",
     "evalue": "substring not found",
     "output_type": "error",
     "traceback": [
      "\u001b[1;31m---------------------------------------------------------------------------\u001b[0m",
      "\u001b[1;31mValueError\u001b[0m                                Traceback (most recent call last)",
      "\u001b[1;32m<ipython-input-56-a51541218925>\u001b[0m in \u001b[0;36m<module>\u001b[1;34m\u001b[0m\n\u001b[0;32m     15\u001b[0m \u001b[1;31m#print(s.index(\"Z\")) # This will raise \"ValueError: substring not found\"\u001b[0m\u001b[1;33m\u001b[0m\u001b[1;33m\u001b[0m\u001b[1;33m\u001b[0m\u001b[0m\n\u001b[0;32m     16\u001b[0m \u001b[0mprint\u001b[0m\u001b[1;33m(\u001b[0m\u001b[0ms\u001b[0m\u001b[1;33m.\u001b[0m\u001b[0mrindex\u001b[0m\u001b[1;33m(\u001b[0m\u001b[1;34m\"B\"\u001b[0m\u001b[1;33m)\u001b[0m\u001b[1;33m)\u001b[0m \u001b[1;31m#3\u001b[0m\u001b[1;33m\u001b[0m\u001b[1;33m\u001b[0m\u001b[0m\n\u001b[1;32m---> 17\u001b[1;33m \u001b[0mprint\u001b[0m\u001b[1;33m(\u001b[0m\u001b[0ms\u001b[0m\u001b[1;33m.\u001b[0m\u001b[0mrindex\u001b[0m\u001b[1;33m(\u001b[0m\u001b[1;34m\"Z\"\u001b[0m\u001b[1;33m)\u001b[0m\u001b[1;33m)\u001b[0m \u001b[1;31m#1 This will also raise \"ValueError: substring not found\"\u001b[0m\u001b[1;33m\u001b[0m\u001b[1;33m\u001b[0m\u001b[0m\n\u001b[0m",
      "\u001b[1;31mValueError\u001b[0m: substring not found"
     ]
    }
   ],
   "source": [
    "## find() , rfind(), index(), rindex()  ##\n",
    "# if you want to find the occurence and indes of the substring, we have to use the below methods\n",
    "# find() --> search from left to right and will return the index of the first occurence of the substring else -1\n",
    "s = \"ABCBA\"\n",
    "print(s.find(\"B\")) #1\n",
    "print(s.find(\"Z\")) # -1\n",
    "#rfind() --> search from right to left and will return the positive index of the string else -1\n",
    "print(s.rfind(\"B\")) #3\n",
    "# searching with in the given boundary in the string\n",
    "s1 = \"ABCDEFGHIJBK\"\n",
    "print(s1.find(\"B\", 3, 8)) # -1. because B os not availble between 3 and 7 index\n",
    "print(s1.rfind(\"F\", 3, 8)) # 5 searchinb in reverse within the boundary\n",
    "# index() method --> if substring is not available, index() method will return ValueError\n",
    "print(s.index(\"B\")) #1\n",
    "#print(s.index(\"Z\")) # This will raise \"ValueError: substring not found\"\n",
    "print(s.rindex(\"B\")) #3\n",
    "print(s.rindex(\"Z\")) #1 This will also raise \"ValueError: substring not found\""
   ]
  },
  {
   "cell_type": "code",
   "execution_count": 58,
   "metadata": {},
   "outputs": [
    {
     "name": "stdin",
     "output_type": "stream",
     "text": [
      "Enter your email id:  dhinesh.com\n"
     ]
    },
    {
     "name": "stdout",
     "output_type": "stream",
     "text": [
      "Mail ID deos not contains @ symbol which is mandatory\n"
     ]
    }
   ],
   "source": [
    "# sample program\n",
    "mail = input(\"Enter your email id: \")\n",
    "\n",
    "try:\n",
    "    i = mail.index(\"@\")\n",
    "    print(\"Mail ID contains @ symbol which is mandatory\")\n",
    "except ValueError:\n",
    "    print(\"Mail ID deos not contains @ symbol which is mandatory\")"
   ]
  },
  {
   "cell_type": "code",
   "execution_count": 59,
   "metadata": {},
   "outputs": [
    {
     "name": "stdout",
     "output_type": "stream",
     "text": [
      "1\n"
     ]
    },
    {
     "ename": "ValueError",
     "evalue": "substring not found",
     "output_type": "error",
     "traceback": [
      "\u001b[1;31m---------------------------------------------------------------------------\u001b[0m",
      "\u001b[1;31mValueError\u001b[0m                                Traceback (most recent call last)",
      "\u001b[1;32m<ipython-input-59-4e900037ad7a>\u001b[0m in \u001b[0;36m<module>\u001b[1;34m\u001b[0m\n\u001b[0;32m      3\u001b[0m \u001b[0ms\u001b[0m \u001b[1;33m=\u001b[0m \u001b[1;34m\"ABCDEFGHIJKLMN\"\u001b[0m\u001b[1;33m\u001b[0m\u001b[1;33m\u001b[0m\u001b[0m\n\u001b[0;32m      4\u001b[0m \u001b[0mprint\u001b[0m\u001b[1;33m(\u001b[0m\u001b[0ms\u001b[0m\u001b[1;33m.\u001b[0m\u001b[0mindex\u001b[0m\u001b[1;33m(\u001b[0m\u001b[1;34m\"B\"\u001b[0m\u001b[1;33m)\u001b[0m\u001b[1;33m)\u001b[0m\u001b[1;33m\u001b[0m\u001b[1;33m\u001b[0m\u001b[0m\n\u001b[1;32m----> 5\u001b[1;33m \u001b[0mprint\u001b[0m\u001b[1;33m(\u001b[0m\u001b[0ms\u001b[0m\u001b[1;33m.\u001b[0m\u001b[0mindex\u001b[0m\u001b[1;33m(\u001b[0m\u001b[1;34m\"B\"\u001b[0m\u001b[1;33m,\u001b[0m \u001b[1;36m3\u001b[0m\u001b[1;33m,\u001b[0m \u001b[1;36m8\u001b[0m\u001b[1;33m)\u001b[0m\u001b[1;33m)\u001b[0m\u001b[1;33m\u001b[0m\u001b[1;33m\u001b[0m\u001b[0m\n\u001b[0m",
      "\u001b[1;31mValueError\u001b[0m: substring not found"
     ]
    }
   ],
   "source": [
    "# searching substring using index() with in the given boundary\n",
    "\n",
    "s = \"ABCDEFGHIJKLMN\"\n",
    "print(s.index(\"B\"))\n",
    "print(s.index(\"B\", 3, 8))"
   ]
  },
  {
   "cell_type": "code",
   "execution_count": 61,
   "metadata": {},
   "outputs": [
    {
     "name": "stdout",
     "output_type": "stream",
     "text": [
      "1\n"
     ]
    }
   ],
   "source": [
    "# index() methoda will not raise index error\n",
    "print(s.index(\"B\", 1, 5400000))"
   ]
  },
  {
   "cell_type": "code",
   "execution_count": 63,
   "metadata": {},
   "outputs": [
    {
     "name": "stdout",
     "output_type": "stream",
     "text": [
      "8\n",
      "3\n",
      "0\n"
     ]
    }
   ],
   "source": [
    "### count() method to find the number of occurrences of substring ###\n",
    "\n",
    "s = \"ABBABBABABABBA\"\n",
    "print(s.count(\"B\"))\n",
    "print(s.count(\"BB\"))\n",
    "print(s.count(\"Z\")) #0. since Z is not available in s"
   ]
  },
  {
   "cell_type": "code",
   "execution_count": 65,
   "metadata": {},
   "outputs": [
    {
     "name": "stdout",
     "output_type": "stream",
     "text": [
      "6\n"
     ]
    }
   ],
   "source": [
    "# counting with in the boundary\n",
    "print(s.count(\"B\", 4, 100)) # searching from 4th index"
   ]
  },
  {
   "cell_type": "code",
   "execution_count": null,
   "metadata": {},
   "outputs": [],
   "source": []
  }
 ],
 "metadata": {
  "kernelspec": {
   "display_name": "Python 3",
   "language": "python",
   "name": "python3"
  },
  "language_info": {
   "codemirror_mode": {
    "name": "ipython",
    "version": 3
   },
   "file_extension": ".py",
   "mimetype": "text/x-python",
   "name": "python",
   "nbconvert_exporter": "python",
   "pygments_lexer": "ipython3",
   "version": "3.8.1"
  }
 },
 "nbformat": 4,
 "nbformat_minor": 4
}
