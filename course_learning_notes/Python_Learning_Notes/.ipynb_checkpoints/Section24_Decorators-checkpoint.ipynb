{
 "cells": [
  {
   "cell_type": "code",
   "execution_count": 1,
   "metadata": {},
   "outputs": [],
   "source": [
    "### Function Aliasing ### Assigning another reference variable to a function"
   ]
  },
  {
   "cell_type": "code",
   "execution_count": 4,
   "metadata": {},
   "outputs": [
    {
     "name": "stdout",
     "output_type": "stream",
     "text": [
      "2314299287872\n",
      "2314299287872\n",
      "Good Morning:  Dhinesh\n",
      "Good Morning:  kanu\n"
     ]
    }
   ],
   "source": [
    "def wish(name):\n",
    "    print('Good Morning: ', name)\n",
    "    \n",
    "greeting = wish # aliasing\n",
    "\n",
    "print(id(wish))\n",
    "print(id(greeting))\n",
    "\n",
    "greeting(\"Dhinesh\")\n",
    "\n",
    "# Deleting one reference variable will not impact the other reference\n",
    "del wish\n",
    "greeting(\"kanu\")"
   ]
  },
  {
   "cell_type": "code",
   "execution_count": 5,
   "metadata": {},
   "outputs": [
    {
     "name": "stdout",
     "output_type": "stream",
     "text": [
      "outer function\n"
     ]
    },
    {
     "ename": "AttributeError",
     "evalue": "'NoneType' object has no attribute 'inner'",
     "output_type": "error",
     "traceback": [
      "\u001b[1;31m---------------------------------------------------------------------------\u001b[0m",
      "\u001b[1;31mAttributeError\u001b[0m                            Traceback (most recent call last)",
      "\u001b[1;32m<ipython-input-5-f143fff8025f>\u001b[0m in \u001b[0;36m<module>\u001b[1;34m\u001b[0m\n\u001b[0;32m      7\u001b[0m         \u001b[0mprint\u001b[0m\u001b[1;33m(\u001b[0m\u001b[1;34m'Inner function'\u001b[0m\u001b[1;33m)\u001b[0m\u001b[1;33m\u001b[0m\u001b[1;33m\u001b[0m\u001b[0m\n\u001b[0;32m      8\u001b[0m \u001b[1;33m\u001b[0m\u001b[0m\n\u001b[1;32m----> 9\u001b[1;33m \u001b[0mouter\u001b[0m\u001b[1;33m(\u001b[0m\u001b[1;33m)\u001b[0m\u001b[1;33m.\u001b[0m\u001b[0minner\u001b[0m\u001b[1;33m(\u001b[0m\u001b[1;33m)\u001b[0m\u001b[1;33m\u001b[0m\u001b[1;33m\u001b[0m\u001b[0m\n\u001b[0m",
      "\u001b[1;31mAttributeError\u001b[0m: 'NoneType' object has no attribute 'inner'"
     ]
    }
   ],
   "source": [
    "## Nested Functions ##\n",
    "\n",
    "def outer():\n",
    "    print(\"outer function\")\n",
    "    \n",
    "    def inner():\n",
    "        print('Inner function')\n",
    "        \n",
    "outer().inner() # can not call inner function directly inside outer"
   ]
  },
  {
   "cell_type": "code",
   "execution_count": 7,
   "metadata": {},
   "outputs": [
    {
     "name": "stdout",
     "output_type": "stream",
     "text": [
      "outer function\n",
      "Inner function\n"
     ]
    }
   ],
   "source": [
    "## Function can return another function as argument ##\n",
    "\n",
    "def outer():\n",
    "    print(\"outer function\")\n",
    "    \n",
    "    def inner():\n",
    "        print('Inner function')\n",
    "        \n",
    "    return inner\n",
    "\n",
    "# now we can call using below syntax\n",
    "f1 = outer()\n",
    "f1()"
   ]
  },
  {
   "cell_type": "code",
   "execution_count": 8,
   "metadata": {},
   "outputs": [
    {
     "name": "stdout",
     "output_type": "stream",
     "text": [
      "F2 function\n"
     ]
    }
   ],
   "source": [
    "## We can pass a function as argument to another function ##\n",
    "\n",
    "# e.g. filter, map and reduce functions\n",
    "\n",
    "def f1(func):\n",
    "    func()\n",
    "    \n",
    "def f2():\n",
    "    print(\"F2 function\")\n",
    "    \n",
    "f1(f2)"
   ]
  },
  {
   "cell_type": "markdown",
   "metadata": {},
   "source": [
    "## ************  Decorators  ************ "
   ]
  },
  {
   "cell_type": "code",
   "execution_count": null,
   "metadata": {},
   "outputs": [],
   "source": [
    "# Decorator is a function which will take an input function, will add some more functionality and create an output function\n",
    "# decorator should come before original function in python code\n",
    "\n",
    "def decorator_function(input_function):\n",
    "    def output_function():\n",
    "        add more functionality\n",
    "        \n",
    "    return output_function"
   ]
  },
  {
   "cell_type": "code",
   "execution_count": 9,
   "metadata": {},
   "outputs": [
    {
     "name": "stdout",
     "output_type": "stream",
     "text": [
      "send the person to somewhere\n",
      "Show the person with decoration\n"
     ]
    }
   ],
   "source": [
    "# demo code\n",
    "def decor(func): # decor is decorator function\n",
    "    def inner(): # this function should have the same numberof arguments as display function\n",
    "        print('Send the person to somewhere')\n",
    "        print(\"Show the person with decoration\")\n",
    "    return inner\n",
    "\n",
    "@decor  # linking decorator with a function. \n",
    "def display(): # this will be sent as an argument to decorator and decor will be executed\n",
    "    print(\"Not sending a person to anywhere\")\n",
    "    \n",
    "display()"
   ]
  },
  {
   "cell_type": "code",
   "execution_count": 10,
   "metadata": {},
   "outputs": [
    {
     "name": "stdout",
     "output_type": "stream",
     "text": [
      "##############################\n",
      "The sum: 30\n",
      "##############################\n"
     ]
    }
   ],
   "source": [
    "# another demo program\n",
    "\n",
    "\n",
    "def decor_for_add(func):\n",
    "    def inner(a,b):\n",
    "        print('#'*30)\n",
    "        print('The sum: ', end=\"\")\n",
    "        func(a,b) # this will call add(10, 20)\n",
    "        print('#'*30)\n",
    "    return inner\n",
    "\n",
    "@decor_for_add\n",
    "def add(a,b):\n",
    "    print(a+b)\n",
    "    \n",
    "add(10, 20)"
   ]
  },
  {
   "cell_type": "code",
   "execution_count": 12,
   "metadata": {},
   "outputs": [
    {
     "name": "stdout",
     "output_type": "stream",
     "text": [
      "Good Morning dhinesh\n",
      "########################################################\n",
      "\n",
      "******* Welcome to the system Kanu *******\n",
      "special options unlocked. !!!\n"
     ]
    }
   ],
   "source": [
    "## another demo program\n",
    "def decor(func):\n",
    "    def inner(name):\n",
    "        if name == \"kanu\":\n",
    "            print(\"******* Welcome to the system Kanu *******\")\n",
    "            print('special options unlocked. !!!')\n",
    "        else:\n",
    "            func(name)\n",
    "    return inner\n",
    "\n",
    "@decor\n",
    "def wish(name):\n",
    "    print('Good Morning', name)\n",
    "    \n",
    "wish('dhinesh')\n",
    "print('########################################################')\n",
    "print()\n",
    "wish('kanu')"
   ]
  },
  {
   "cell_type": "code",
   "execution_count": 14,
   "metadata": {},
   "outputs": [
    {
     "name": "stdout",
     "output_type": "stream",
     "text": [
      "0.5\n",
      "*******************************\n",
      "\n",
      "oh... Please check the numbers\n"
     ]
    }
   ],
   "source": [
    "## another demo program\n",
    "\n",
    "def smart_division(func):\n",
    "    def inner(a,b):\n",
    "        if b==0:\n",
    "            print(\"oh... Please check the numbers\")\n",
    "        else:\n",
    "            func(a,b)\n",
    "            \n",
    "    return inner\n",
    "\n",
    "@smart_division\n",
    "def div(a,b):\n",
    "    print(a/b)\n",
    "    \n",
    "div(10, 20)\n",
    "print(\"*******************************\")\n",
    "print()\n",
    "div(10,0)"
   ]
  },
  {
   "cell_type": "code",
   "execution_count": 15,
   "metadata": {},
   "outputs": [
    {
     "name": "stdout",
     "output_type": "stream",
     "text": [
      "Good Morning kanu\n",
      "******* Welcome to the system Kanu *******\n",
      "special options unlocked. !!!\n"
     ]
    }
   ],
   "source": [
    "### How to call the same function with and without decorators ###\n",
    "\n",
    "def decor(func):\n",
    "    def inner(name):\n",
    "        if name == \"kanu\":\n",
    "            print(\"******* Welcome to the system Kanu *******\")\n",
    "            print('special options unlocked. !!!')\n",
    "        else:\n",
    "            func(name)\n",
    "    return inner\n",
    "\n",
    "\n",
    "def wish(name):\n",
    "    print('Good Morning', name)\n",
    "    \n",
    "decorated_wish = decor(wish)\n",
    "\n",
    "wish(\"kanu\")\n",
    "decorated_wish(\"kanu\")"
   ]
  },
  {
   "cell_type": "markdown",
   "metadata": {},
   "source": [
    "## Decorator Chaining ###"
   ]
  },
  {
   "cell_type": "code",
   "execution_count": 23,
   "metadata": {},
   "outputs": [
    {
     "name": "stdout",
     "output_type": "stream",
     "text": [
      "Decorator2 execution\n",
      "Decorator1 execution\n",
      "Original Function\n"
     ]
    }
   ],
   "source": [
    "# Configuring multiple decorators for a function \n",
    "\n",
    "def decor1(func):\n",
    "    def inner1():\n",
    "        print(\"Decorator1 execution\")\n",
    "        func()\n",
    "        \n",
    "    return inner1\n",
    "\n",
    "def decor2(func):\n",
    "    def inner2():\n",
    "        print(\"Decorator2 execution\")\n",
    "        func()\n",
    "        \n",
    "    return inner2\n",
    "\n",
    "\n",
    "# decorator chaining - decor1 will be considered first and then decor2 in the chaining pipe\n",
    "@decor2\n",
    "@decor1\n",
    "def f():\n",
    "    print(\"Original Function\")\n",
    "    \n",
    "f()\n",
    "\n",
    "# we should not use original function calls inside decorators directly"
   ]
  },
  {
   "cell_type": "code",
   "execution_count": 26,
   "metadata": {},
   "outputs": [
    {
     "name": "stdout",
     "output_type": "stream",
     "text": [
      "40\n"
     ]
    }
   ],
   "source": [
    "# another example of decorator chaining\n",
    "\n",
    "def decor1(func):\n",
    "    def inner1():\n",
    "        x = func()\n",
    "        return x*x\n",
    "        \n",
    "    return inner1\n",
    "\n",
    "def decor2(func):\n",
    "    def inner2():\n",
    "        x = func()\n",
    "        return 2*x\n",
    "        \n",
    "    return inner2\n",
    "\n",
    "@decor2\n",
    "@decor1\n",
    "def num():\n",
    "    return 20\n",
    "\n",
    "print(num())"
   ]
  },
  {
   "cell_type": "code",
   "execution_count": null,
   "metadata": {},
   "outputs": [],
   "source": []
  }
 ],
 "metadata": {
  "kernelspec": {
   "display_name": "Python 3",
   "language": "python",
   "name": "python3"
  },
  "language_info": {
   "codemirror_mode": {
    "name": "ipython",
    "version": 3
   },
   "file_extension": ".py",
   "mimetype": "text/x-python",
   "name": "python",
   "nbconvert_exporter": "python",
   "pygments_lexer": "ipython3",
   "version": "3.8.1"
  }
 },
 "nbformat": 4,
 "nbformat_minor": 4
}
