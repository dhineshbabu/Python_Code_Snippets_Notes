{
 "cells": [
  {
   "cell_type": "markdown",
   "metadata": {},
   "source": [
    "***\n",
    "## raw_input() vs input() \n",
    "### In Python 2.x ####\n",
    "#raw_input() always provide str value\n",
    "* input() -> provide value based on the user input form keyboard\n",
    "### In Python 3.x ####\n",
    "#raw_input() => This function is not available in python 3.x\n",
    "* input() -> always provide str value\n",
    "***"
   ]
  },
  {
   "cell_type": "code",
   "execution_count": 2,
   "metadata": {},
   "outputs": [
    {
     "name": "stdin",
     "output_type": "stream",
     "text": [
      "Enter something:  55\n"
     ]
    },
    {
     "name": "stdout",
     "output_type": "stream",
     "text": [
      "<class 'str'>\n"
     ]
    }
   ],
   "source": [
    "x = input(\"Enter something: \")\n",
    "print(type(x))"
   ]
  },
  {
   "cell_type": "code",
   "execution_count": 5,
   "metadata": {},
   "outputs": [
    {
     "name": "stdin",
     "output_type": "stream",
     "text": [
      "Enter a number:  sdsd\n"
     ]
    },
    {
     "name": "stdout",
     "output_type": "stream",
     "text": [
      "Please enter a valid number\n"
     ]
    }
   ],
   "source": [
    "#Example program\n",
    "try:\n",
    "    x = int(input(\"Enter a number: \"))\n",
    "    print(\"You entered a valid number\")\n",
    "except:\n",
    "    print(\"Please enter a valid number\")"
   ]
  },
  {
   "cell_type": "raw",
   "metadata": {},
   "source": []
  },
  {
   "cell_type": "code",
   "execution_count": 2,
   "metadata": {},
   "outputs": [
    {
     "name": "stdout",
     "output_type": "stream",
     "text": "The sum  3\n"
    }
   ],
   "source": [
    "# Reading input in a single line of code\n",
    "print(\"The sum \", int(input(\"Enter first Number: \"))+int(input(\"Enter Second Number\")))"
   ]
  },
  {
   "cell_type": "code",
   "execution_count": 10,
   "metadata": {},
   "outputs": [
    {
     "name": "stdin",
     "output_type": "stream",
     "text": [
      "Enter Employee Number:  132232\n",
      "Enter Employee Name:  Someone\n",
      "Enter Employee Salary:  75000\n",
      "Enter Employee Address:  same address\n",
      "Is Employee Married [True | False]:  False\n"
     ]
    },
    {
     "name": "stdout",
     "output_type": "stream",
     "text": [
      "### User Entered Data ###\n",
      "132232\n",
      "Someone\n",
      "75000.0\n",
      "same address\n",
      "False\n"
     ]
    }
   ],
   "source": [
    "#Another Example\n",
    "eno = int(input(\"Enter Employee Number: \"))\n",
    "ename = input(\"Enter Employee Name: \")\n",
    "esal = float(input(\"Enter Employee Salary: \"))\n",
    "eadd = input(\"Enter Employee Address: \")\n",
    "married = eval(input(\"Is Employee Married [True | False]: \")) # because bool(\"False\") returns True so we use eval() function here\n",
    "print(\"### User Entered Data ###\")\n",
    "print(eno)\n",
    "print(ename)\n",
    "print(esal)\n",
    "print(eadd)\n",
    "print(married)"
   ]
  },
  {
   "cell_type": "code",
   "execution_count": 12,
   "metadata": {},
   "outputs": [
    {
     "name": "stdin",
     "output_type": "stream",
     "text": [
      "Eneter 2 numbers:  12 23\n"
     ]
    },
    {
     "name": "stdout",
     "output_type": "stream",
     "text": [
      "The sum:  35\n"
     ]
    }
   ],
   "source": [
    "# how to read multiple values from the keyboard in a single line using list comprehension\n",
    "a, b = [int(x) for x in input('Entered 2 numbers: ').split()] # assigning to a and b is called list unpacking\n",
    "print(\"The sum: \",a+b)"
   ]
  },
  {
   "cell_type": "code",
   "execution_count": 4,
   "metadata": {},
   "outputs": [
    {
     "name": "stdin",
     "output_type": "stream",
     "text": [
      "Enter 3 float values with , separation :  10.1,20.1,20.3\n"
     ]
    },
    {
     "name": "stdout",
     "output_type": "stream",
     "text": [
      "The sum is  50.5\n"
     ]
    }
   ],
   "source": [
    "#Write a program to read 3 float values from the keyboard with , separation and print the sum\n",
    "a,b,c = [float(x) for x in input(\"Enter 3 float values with , separation : \").split(\",\")]\n",
    "print(\"The sum is \", a+b+c)"
   ]
  },
  {
   "cell_type": "markdown",
   "metadata": {},
   "source": [
    "***\n",
    "## eval() function -> to evaluate a python expression\n",
    "***"
   ]
  },
  {
   "cell_type": "code",
   "execution_count": 6,
   "metadata": {},
   "outputs": [
    {
     "name": "stdin",
     "output_type": "stream",
     "text": [
      "Enter Something:  20.1\n"
     ]
    },
    {
     "name": "stdout",
     "output_type": "stream",
     "text": [
      "<class 'float'>\n"
     ]
    }
   ],
   "source": [
    "x = eval(input(\"Enter Something: \"))\n",
    "print(type(x))"
   ]
  },
  {
   "cell_type": "code",
   "execution_count": 7,
   "metadata": {},
   "outputs": [
    {
     "name": "stdout",
     "output_type": "stream",
     "text": [
      "60\n",
      "<class 'int'>\n"
     ]
    }
   ],
   "source": [
    "x = eval(\"10+20+30\")\n",
    "print(x)\n",
    "print(type(x))"
   ]
  },
  {
   "cell_type": "markdown",
   "metadata": {},
   "source": [
    "***\n",
    "## Command line arguments ### \n",
    "* argv from sys module (argv is list type)#\n",
    "***"
   ]
  },
  {
   "cell_type": "code",
   "execution_count": null,
   "metadata": {},
   "outputs": [],
   "source": [
    "# python sample.py 10 20 30 => in this \n",
    "# argv[0] => test.py\n",
    "# argv[1] => 10\n",
    "# argv[2] => 20\n",
    "# argv[3] => 30\n",
    "#Note: All commands we pass via command line arguments are strings"
   ]
  },
  {
   "cell_type": "code",
   "execution_count": 8,
   "metadata": {},
   "outputs": [
    {
     "name": "stdout",
     "output_type": "stream",
     "text": [
      "<class 'list'>\n"
     ]
    }
   ],
   "source": [
    "from sys import argv\n",
    "print(type(argv))"
   ]
  },
  {
   "cell_type": "code",
   "execution_count": 9,
   "metadata": {},
   "outputs": [],
   "source": [
    "# refer the folder section05A_cmdlinearguments for more programs\n",
    "# Useful  conclusions\n",
    "#   if command line argument contains space then it must be within double quotes\n",
    "#   all the command line arguments are string by default. we need to convert using type casting\n",
    "#   IndexError will be received if we try to use command line arguments out of index"
   ]
  },
  {
   "cell_type": "markdown",
   "metadata": {},
   "source": [
    "***\n",
    "## print() function \n",
    "***"
   ]
  },
  {
   "cell_type": "code",
   "execution_count": 3,
   "metadata": {},
   "outputs": [
    {
     "name": "stdout",
     "output_type": "stream",
     "text": [
      "Hello kanu , today is your birthday...\n"
     ]
    }
   ],
   "source": [
    "#with replacement operator {}\n",
    "name = \"kanu\"\n",
    "day = \"today\"\n",
    "print(\"Hello {} , {} is your birthday...\".format(name, day))"
   ]
  },
  {
   "cell_type": "code",
   "execution_count": 4,
   "metadata": {},
   "outputs": [
    {
     "name": "stdout",
     "output_type": "stream",
     "text": [
      "Hello kanu , today is your birthday...\n"
     ]
    }
   ],
   "source": [
    "#another format\n",
    "print(\"Hello {0} , {1} is your birthday...\".format(name, day))"
   ]
  },
  {
   "cell_type": "code",
   "execution_count": 5,
   "metadata": {},
   "outputs": [
    {
     "name": "stdout",
     "output_type": "stream",
     "text": [
      "Hello today , kanu is your birthday...\n"
     ]
    }
   ],
   "source": [
    "print(\"Hello {1} , {0} is your birthday...\".format(name, day))"
   ]
  },
  {
   "cell_type": "code",
   "execution_count": 6,
   "metadata": {},
   "outputs": [
    {
     "name": "stdout",
     "output_type": "stream",
     "text": [
      "Hello kanu , today is your birthday...\n"
     ]
    }
   ],
   "source": [
    "#another format - using keywords\n",
    "print(\"Hello {n} , {s} is your birthday...\".format(n=name, s=day))"
   ]
  },
  {
   "cell_type": "code",
   "execution_count": null,
   "metadata": {},
   "outputs": [],
   "source": [
    "# print with formatted string\n",
    "\"\"\"\n",
    "%i - signed decimal value\n",
    "%d - signed decimal value\n",
    "%f - float value\n",
    "%s - String , any other objects such as list, set and etc.\n",
    "\"\"\""
   ]
  },
  {
   "cell_type": "code",
   "execution_count": 7,
   "metadata": {},
   "outputs": [
    {
     "name": "stdout",
     "output_type": "stream",
     "text": [
      "a value is 10\n"
     ]
    }
   ],
   "source": [
    "a = 10\n",
    "print('a value is %i'%a)"
   ]
  },
  {
   "cell_type": "code",
   "execution_count": 8,
   "metadata": {},
   "outputs": [
    {
     "name": "stdout",
     "output_type": "stream",
     "text": [
      "a=10, b=20, c=30\n"
     ]
    }
   ],
   "source": [
    "a = 10\n",
    "b = 20\n",
    "c = 30\n",
    "print(\"a=%d, b=%d, c=%d\" %(a,b,c))"
   ]
  },
  {
   "cell_type": "code",
   "execution_count": 9,
   "metadata": {},
   "outputs": [
    {
     "name": "stdout",
     "output_type": "stream",
     "text": [
      "Hello Dhinesh, your marks [10, 20, 30, 40]\n"
     ]
    }
   ],
   "source": [
    "#another example\n",
    "name = \"Dhinesh\"\n",
    "marks = [10, 20, 30, 40]\n",
    "print(\"Hello %s, your marks %s\" %(name, marks))"
   ]
  },
  {
   "cell_type": "code",
   "execution_count": 10,
   "metadata": {},
   "outputs": [
    {
     "name": "stdout",
     "output_type": "stream",
     "text": [
      "Price value = 70.59\n"
     ]
    }
   ],
   "source": [
    "#another example - controlling the digits\n",
    "price = 70.5875\n",
    "print(\"Price value = %.2f\" %price)"
   ]
  },
  {
   "cell_type": "code",
   "execution_count": null,
   "metadata": {},
   "outputs": [],
   "source": []
  }
 ],
 "metadata": {
  "kernelspec": {
   "display_name": "Python 3",
   "language": "python",
   "name": "python3"
  },
  "language_info": {
   "codemirror_mode": {
    "name": "ipython",
    "version": 3
   },
   "file_extension": ".py",
   "mimetype": "text/x-python",
   "name": "python",
   "nbconvert_exporter": "python",
   "pygments_lexer": "ipython3",
   "version": "3.6.9-final"
  }
 },
 "nbformat": 4,
 "nbformat_minor": 4
}