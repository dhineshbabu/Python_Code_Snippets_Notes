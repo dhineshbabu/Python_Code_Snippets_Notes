{
 "cells": [
  {
   "cell_type": "code",
   "outputs": [],
   "source": [
    "ranges = {d['high'] - d['low']: d['open']}"
   ],
   "metadata": {
    "collapsed": false
   },
   "id": "e777907a1cafa0d2"
  },
  {
   "cell_type": "code",
   "outputs": [],
   "source": [
    "data = [1, 2, 3, 4, 5, 6, 7, 8, 10]"
   ],
   "metadata": {
    "collapsed": false,
    "ExecuteTime": {
     "end_time": "2024-02-23T20:54:38.815427Z",
     "start_time": "2024-02-23T20:54:38.811008Z"
    }
   },
   "id": "194508a457cc6ed2",
   "execution_count": 1
  },
  {
   "cell_type": "code",
   "outputs": [
    {
     "data": {
      "text/plain": "[2, 4, 6, 8, 10]"
     },
     "execution_count": 3,
     "metadata": {},
     "output_type": "execute_result"
    }
   ],
   "source": [
    "list(filter(lambda x: x%2 == 0, data))"
   ],
   "metadata": {
    "collapsed": false,
    "ExecuteTime": {
     "end_time": "2024-02-23T20:56:39.249587Z",
     "start_time": "2024-02-23T20:56:39.239535Z"
    }
   },
   "id": "8c8cb95f93075ff4",
   "execution_count": 3
  },
  {
   "cell_type": "code",
   "outputs": [],
   "source": [
    "quotes = [\n",
    "    ('AACC', 6.05, 6.07, 6.03, 6.05, 65800),\n",
    "    ('AAME', 1.7, 1.82, 1.7, 1.82, 4300),\n",
    "    ('AAON', 24.98, 25.07, 24.9, 24.94, 28200),\n",
    "    ('AAPL', 317.99, 319.57, 316.75, 317.13, 12901800),\n",
    "    ('AATI', 3.82, 3.82, 3.74, 3.79, 194600),\n",
    "    ('AAWW', 60.89, 61.44, 60.5, 61.19, 272800),\n",
    "    ('AAXJ', 65.4, 65.71, 65.28, 65.56, 390300),\n",
    "    ('ABAT', 4.01, 4.01, 3.95, 3.99, 656300),\n",
    "    ('ABAX', 25.26, 25.49, 25.04, 25.42, 73700),\n",
    "    ('ABBC', 11.75, 11.88, 11.48, 11.53, 29700),\n",
    "    ('ABCB', 9.3, 9.3, 9.06, 9.14, 42600),\n",
    "    ('ABCD', 3.25, 3.25, 3.11, 3.22, 122800),\n",
    "    ('ABCO', 48.75, 50.41, 46.9, 50.37, 66300),\n",
    "    ('ABCW', 0.52, 0.61, 0.52, 0.53, 83000),\n",
    "    ('ABFS', 25.98, 26.27, 25.41, 25.5, 384900),\n",
    "    ('ABIO', 3.96, 4, 3.88, 4, 38500),\n",
    "    ('ABMD', 11.94, 12, 11.69, 11.87, 122600),\n",
    "    ('ABTL', 0.82, 0.84, 0.82, 0.83, 28700),\n",
    "    ('ABVA', 3.09, 3.25, 3.09, 3.25, 6200),\n",
    "    ('ACAD', 0.76, 0.76, 0.7, 0.74, 341500),\n",
    "    ('ACAS', 7.52, 7.72, 7.52, 7.66, 5199800),\n",
    "    ('ACAT', 14.44, 14.44, 14.04, 14.2, 51700),\n",
    "    ('ACCL', 8.11, 8.21, 7.94, 8.1, 456100),\n",
    "    ('ACET', 8.01, 8.04, 7.13, 7.73, 575600),\n",
    "    ('ACFC', 1.69, 1.7, 1.5, 1.6, 12300),\n",
    "    ('ACFN', 3.82, 4, 3.82, 3.98, 53700),\n",
    "    ('ACGL', 89.76, 90.14, 89.39, 89.92, 240900),\n",
    "    ('ACGY', 22.41, 22.56, 22.25, 22.46, 86800),\n",
    "    ('ACHN', 3.12, 3.2, 3.07, 3.16, 113700),\n",
    "    ('ACIW', 26.96, 27.03, 26.63, 26.8, 157000),\n",
    "    ('ACLI', 33.65, 33.77, 33.45, 33.63, 28700),\n",
    "    ('ACLS', 2.47, 2.63, 2.46, 2.53, 1818800),\n",
    "    ('ACMR', 2.69, 2.84, 2.37, 2.71, 158600),\n",
    "    ('ACOM', 25.2, 26.6, 24.9, 26.56, 265300),\n",
    "    ('ACOR', 26.67, 27.07, 26.38, 27.04, 1415000),\n",
    "    ('ACPW', 1.84, 1.89, 1.77, 1.85, 565500),\n",
    "    ('ACTG', 27.2, 27.43, 26.86, 27.18, 228800),\n",
    "    ('ACTI', 3.25, 3.26, 3.25, 3.26, 148500),\n",
    "    ('ACTS', 2.08, 2.09, 2.07, 2.07, 130500),\n",
    "    ('ACUR', 2.6, 2.64, 2.51, 2.6, 16000),\n",
    "    ('ACWI', 46.53, 46.7, 46.32, 46.51, 286200),\n",
    "    ('ACWX', 44.49, 44.66, 44.36, 44.6, 55500),\n",
    "    ('ACXM', 18, 18.07, 17.81, 18.01, 289800),\n",
    "    ('ADAM', 7.34, 7.49, 7.33, 7.44, 81700),\n",
    "    ('ADAT', 0.6, 0.68, 0.59, 0.66, 86400),\n",
    "    ('ADBE', 29.43, 29.71, 29.07, 29.14, 7585300),\n",
    "    ('ADCT', 12.68, 12.69, 12.66, 12.68, 1660500),\n",
    "    ('ADEP', 6.14, 6.14, 4.95, 5.61, 71000),\n",
    "    ('ADES', 6.2, 6.22, 6, 6.19, 4800),\n",
    "    ('ADGF', 4.31, 4.55, 4.31, 4.54, 10200)\n",
    "]"
   ],
   "metadata": {
    "collapsed": false,
    "ExecuteTime": {
     "end_time": "2024-02-23T21:02:19.360079Z",
     "start_time": "2024-02-23T21:02:19.354370Z"
    }
   },
   "id": "afd3cdf765b27b8d",
   "execution_count": 4
  },
  {
   "cell_type": "code",
   "outputs": [
    {
     "data": {
      "text/plain": "[('AAME', 1.7, 1.82, 1.7, 1.82, 4300),\n ('AAWW', 60.89, 61.44, 60.5, 61.19, 272800),\n ('AAXJ', 65.4, 65.71, 65.28, 65.56, 390300),\n ('ABAX', 25.26, 25.49, 25.04, 25.42, 73700),\n ('ABCO', 48.75, 50.41, 46.9, 50.37, 66300),\n ('ABCW', 0.52, 0.61, 0.52, 0.53, 83000),\n ('ABIO', 3.96, 4, 3.88, 4, 38500),\n ('ABTL', 0.82, 0.84, 0.82, 0.83, 28700),\n ('ABVA', 3.09, 3.25, 3.09, 3.25, 6200),\n ('ACAS', 7.52, 7.72, 7.52, 7.66, 5199800),\n ('ACFN', 3.82, 4, 3.82, 3.98, 53700),\n ('ACGL', 89.76, 90.14, 89.39, 89.92, 240900),\n ('ACGY', 22.41, 22.56, 22.25, 22.46, 86800),\n ('ACHN', 3.12, 3.2, 3.07, 3.16, 113700),\n ('ACLS', 2.47, 2.63, 2.46, 2.53, 1818800),\n ('ACMR', 2.69, 2.84, 2.37, 2.71, 158600),\n ('ACOM', 25.2, 26.6, 24.9, 26.56, 265300),\n ('ACOR', 26.67, 27.07, 26.38, 27.04, 1415000),\n ('ACPW', 1.84, 1.89, 1.77, 1.85, 565500),\n ('ACTI', 3.25, 3.26, 3.25, 3.26, 148500),\n ('ACWX', 44.49, 44.66, 44.36, 44.6, 55500),\n ('ACXM', 18, 18.07, 17.81, 18.01, 289800),\n ('ADAM', 7.34, 7.49, 7.33, 7.44, 81700),\n ('ADAT', 0.6, 0.68, 0.59, 0.66, 86400),\n ('ADGF', 4.31, 4.55, 4.31, 4.54, 10200)]"
     },
     "execution_count": 5,
     "metadata": {},
     "output_type": "execute_result"
    }
   ],
   "source": [
    "list(filter(lambda x: x[4] > x[1], quotes))"
   ],
   "metadata": {
    "collapsed": false,
    "ExecuteTime": {
     "end_time": "2024-02-23T21:03:41.019338Z",
     "start_time": "2024-02-23T21:03:41.013228Z"
    }
   },
   "id": "f84866d7a17a52ea",
   "execution_count": 5
  },
  {
   "cell_type": "code",
   "outputs": [],
   "source": [
    "data = [\n",
    "    {'date': '2020-04-09', 'symbol': 'AAPL', 'open': 268.70, 'high': 270.04, 'low': 264.70, 'close': 267.99},\n",
    "    {'date': '2020-04-09', 'symbol': 'MSFT', 'open': 166.36, 'high': 167.37, 'low': 163.33, 'close': 165.14},\n",
    "    {'date': '2020-04-09', 'symbol': 'AMZN', 'open': 2_044.30, 'high': 2_053.00, 'low': 2_017.66, 'close': 2_042.76},\n",
    "    {'date': '2020-04-09', 'symbol': 'FB', 'open': 175.90, 'high': 177.08, 'low': 171.57, 'close': 175.19}\n",
    "]"
   ],
   "metadata": {
    "collapsed": false,
    "ExecuteTime": {
     "end_time": "2024-02-23T21:08:57.442806Z",
     "start_time": "2024-02-23T21:08:57.437711Z"
    }
   },
   "id": "294afb1e1c541c17",
   "execution_count": 6
  },
  {
   "cell_type": "code",
   "outputs": [
    {
     "data": {
      "text/plain": "[{'date': '2020-04-09',\n  'symbol': 'MSFT',\n  'open': 166.36,\n  'high': 167.37,\n  'low': 163.33,\n  'close': 165.14},\n {'date': '2020-04-09',\n  'symbol': 'FB',\n  'open': 175.9,\n  'high': 177.08,\n  'low': 171.57,\n  'close': 175.19},\n {'date': '2020-04-09',\n  'symbol': 'AMZN',\n  'open': 2044.3,\n  'high': 2053.0,\n  'low': 2017.66,\n  'close': 2042.76},\n {'date': '2020-04-09',\n  'symbol': 'AAPL',\n  'open': 268.7,\n  'high': 270.04,\n  'low': 264.7,\n  'close': 267.99}]"
     },
     "execution_count": 8,
     "metadata": {},
     "output_type": "execute_result"
    }
   ],
   "source": [
    "sorted(data, key = lambda item: item['symbol'], reverse=True)"
   ],
   "metadata": {
    "collapsed": false,
    "ExecuteTime": {
     "end_time": "2024-02-23T21:09:59.873382Z",
     "start_time": "2024-02-23T21:09:59.864824Z"
    }
   },
   "id": "4fa65ac37c0f8bd3",
   "execution_count": 8
  },
  {
   "cell_type": "code",
   "outputs": [],
   "source": [],
   "metadata": {
    "collapsed": false
   },
   "id": "c8ca6fbf52636d90"
  },
  {
   "cell_type": "code",
   "outputs": [],
   "source": [],
   "metadata": {
    "collapsed": false
   },
   "id": "42e3c90959a4c64b"
  },
  {
   "cell_type": "code",
   "outputs": [],
   "source": [],
   "metadata": {
    "collapsed": false
   },
   "id": "c73c2c49f93eb08c"
  },
  {
   "cell_type": "code",
   "outputs": [],
   "source": [],
   "metadata": {
    "collapsed": false,
    "ExecuteTime": {
     "end_time": "2024-02-22T02:49:25.666290Z",
     "start_time": "2024-02-22T02:49:25.663161Z"
    }
   },
   "id": "6ea34e23f5119079",
   "execution_count": 66
  },
  {
   "cell_type": "code",
   "outputs": [],
   "source": [],
   "metadata": {
    "collapsed": false
   },
   "id": "210bb00965626237"
  },
  {
   "cell_type": "code",
   "outputs": [],
   "source": [],
   "metadata": {
    "collapsed": false
   },
   "id": "c2813583c2594fd5"
  },
  {
   "cell_type": "code",
   "outputs": [],
   "source": [],
   "metadata": {
    "collapsed": false
   },
   "id": "e756992e37ae0a05"
  },
  {
   "cell_type": "code",
   "outputs": [],
   "source": [],
   "metadata": {
    "collapsed": false
   },
   "id": "5e1fbee5c2940b60"
  },
  {
   "cell_type": "code",
   "outputs": [],
   "source": [],
   "metadata": {
    "collapsed": false
   },
   "id": "948ad118d1f0e4e"
  },
  {
   "cell_type": "code",
   "outputs": [],
   "source": [],
   "metadata": {
    "collapsed": false
   },
   "id": "2120af0706126ad0"
  }
 ],
 "metadata": {
  "kernelspec": {
   "display_name": "Python 3",
   "language": "python",
   "name": "python3"
  },
  "language_info": {
   "codemirror_mode": {
    "name": "ipython",
    "version": 2
   },
   "file_extension": ".py",
   "mimetype": "text/x-python",
   "name": "python",
   "nbconvert_exporter": "python",
   "pygments_lexer": "ipython2",
   "version": "2.7.6"
  }
 },
 "nbformat": 4,
 "nbformat_minor": 5
}
