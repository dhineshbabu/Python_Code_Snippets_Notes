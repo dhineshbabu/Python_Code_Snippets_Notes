{
 "cells": [
  {
   "cell_type": "code",
   "outputs": [],
   "source": [
    "vectors = [(0,0), (0,1), (1, 0), (1, 1)]"
   ],
   "metadata": {
    "collapsed": false,
    "ExecuteTime": {
     "end_time": "2024-02-21T20:22:32.185002Z",
     "start_time": "2024-02-21T20:22:32.183124Z"
    }
   },
   "id": "26d17408ed797b01",
   "execution_count": 54
  },
  {
   "cell_type": "code",
   "outputs": [
    {
     "name": "stdout",
     "output_type": "stream",
     "text": [
      "[0.0, 1.0, 1.0, 1.4142135623730951]\n"
     ]
    }
   ],
   "source": [
    "from math import sqrt\n",
    "magnitude = [sqrt(x**2 + y**2) for x, y in vectors]\n",
    "print(magnitude)"
   ],
   "metadata": {
    "collapsed": false,
    "ExecuteTime": {
     "end_time": "2024-02-21T20:23:33.087224Z",
     "start_time": "2024-02-21T20:23:33.078597Z"
    }
   },
   "id": "9e9dafa587c506cc",
   "execution_count": 56
  },
  {
   "cell_type": "code",
   "outputs": [
    {
     "name": "stdout",
     "output_type": "stream",
     "text": [
      "['widget 2', 'widget 3']\n"
     ]
    }
   ],
   "source": [
    "sales = {\n",
    "    'widget 1': 0,\n",
    "    'widget 2': 5,\n",
    "    'widget 3': 10,\n",
    "    'widget 4': 2\n",
    "}\n",
    "\n",
    "result = [key for key, value in sales.items() if value >= 5]\n",
    "print(result)"
   ],
   "metadata": {
    "collapsed": false,
    "ExecuteTime": {
     "end_time": "2024-02-21T20:28:48.282225Z",
     "start_time": "2024-02-21T20:28:48.274866Z"
    }
   },
   "id": "99e2ff4399dab4a3",
   "execution_count": 57
  },
  {
   "cell_type": "code",
   "outputs": [
    {
     "data": {
      "text/plain": "[[1, 0, 0], [0, 1, 0], [0, 0, 1]]"
     },
     "execution_count": 58,
     "metadata": {},
     "output_type": "execute_result"
    }
   ],
   "source": [
    "m = [[1 if row == col else 0 for col in range(3)] for row in range(3)]\n",
    "m"
   ],
   "metadata": {
    "collapsed": false,
    "ExecuteTime": {
     "end_time": "2024-02-21T20:30:54.672001Z",
     "start_time": "2024-02-21T20:30:54.670999Z"
    }
   },
   "id": "dce0ea98a55705ef",
   "execution_count": 58
  },
  {
   "cell_type": "code",
   "outputs": [
    {
     "name": "stdout",
     "output_type": "stream",
     "text": [
      "Pretty printing has been turned OFF\n"
     ]
    }
   ],
   "source": [
    "pprint(m)"
   ],
   "metadata": {
    "collapsed": false,
    "ExecuteTime": {
     "end_time": "2024-02-21T20:31:10.866037Z",
     "start_time": "2024-02-21T20:31:10.861908Z"
    }
   },
   "id": "1e4e8d1b506179f6",
   "execution_count": 59
  },
  {
   "cell_type": "code",
   "outputs": [],
   "source": [
    "data = ['a', 'a', 'a', 'b', 'b', 'c', 'c', 'c', 'd']\n"
   ],
   "metadata": {
    "collapsed": false,
    "ExecuteTime": {
     "end_time": "2024-02-22T02:48:28.598108Z",
     "start_time": "2024-02-22T02:48:28.593964Z"
    }
   },
   "id": "c37fdca7031b0c7c",
   "execution_count": 60
  },
  {
   "cell_type": "code",
   "outputs": [
    {
     "name": "stdout",
     "output_type": "stream",
     "text": [
      "Counter({'a': 3, 'c': 3, 'b': 2, 'd': 1})\n"
     ]
    }
   ],
   "source": [
    "from collections import  Counter\n",
    "freq = Counter(data)\n",
    "print(freq)"
   ],
   "metadata": {
    "collapsed": false,
    "ExecuteTime": {
     "end_time": "2024-02-22T02:48:49.518822Z",
     "start_time": "2024-02-22T02:48:49.516453Z"
    }
   },
   "id": "867208a2535bb0d8",
   "execution_count": 61
  },
  {
   "cell_type": "code",
   "outputs": [
    {
     "name": "stdout",
     "output_type": "stream",
     "text": [
      "{'l': 22, 'o': 29, 'r': 22, 'e': 38, 'm': 17, 'i': 42, 'p': 11, 's': 18, 'u': 29, 'd': 19, 't': 32, 'a': 29, 'c': 16, 'n': 24, 'g': 3, 'b': 3, 'q': 5, 'v': 3, 'x': 3, 'h': 1, 'f': 3}\n"
     ]
    }
   ],
   "source": [
    "paragraph = \"\"\"\n",
    "Lorem ipsum dolor sit amet, consectetur adipiscing elit, sed do eiusmod tempor \n",
    "incididunt ut labore et dolore magna aliqua. Ut enim ad minim veniam, quis nostrud \n",
    "exercitation ullamco laboris nisi ut aliquip ex ea commodo consequat. Duis aute irure \n",
    "dolor in reprehenderit in voluptate velit esse cillum dolore eu fugiat nulla pariatur. \n",
    "Excepteur sint occaecat cupidatat non proident, sunt in culpa qui officia deserunt\n",
    "mollit anim id est laborum.\"\"\"\n",
    "\n",
    "ignored = \" ,.\\n\"\n",
    "\n",
    "freq = {key: value\n",
    "        for key, value in dict(Counter(paragraph.casefold())).items()\n",
    "        if key not in ignored}\n",
    "\n",
    "print(freq)"
   ],
   "metadata": {
    "collapsed": false,
    "ExecuteTime": {
     "end_time": "2024-02-22T02:55:54.122315Z",
     "start_time": "2024-02-22T02:55:54.115065Z"
    }
   },
   "id": "4f8f7c601a9ed53d",
   "execution_count": 69
  },
  {
   "cell_type": "code",
   "outputs": [],
   "source": [
    "data = [\n",
    "    {'open': 100, 'high': 120, 'low': 90, 'close': 110},\n",
    "    {'open': 110, 'high': 130, 'low': 80, 'close': 120},\n",
    "    {'open': 120, 'high': 140, 'low': 70, 'close': 130},\n",
    "    {'open': 130, 'high': 150, 'low': 60, 'close': 140},\n",
    "]"
   ],
   "metadata": {
    "collapsed": false,
    "ExecuteTime": {
     "end_time": "2024-02-22T03:50:02.207217Z",
     "start_time": "2024-02-22T03:50:02.204561Z"
    }
   },
   "id": "ae682053f99d7b42",
   "execution_count": 70
  },
  {
   "cell_type": "code",
   "outputs": [],
   "source": [
    "ranges = {d['high'] - d['low']: d['open']}"
   ],
   "metadata": {
    "collapsed": false
   },
   "id": "e777907a1cafa0d2"
  },
  {
   "cell_type": "code",
   "outputs": [],
   "source": [],
   "metadata": {
    "collapsed": false
   },
   "id": "194508a457cc6ed2"
  },
  {
   "cell_type": "code",
   "outputs": [],
   "source": [],
   "metadata": {
    "collapsed": false,
    "ExecuteTime": {
     "end_time": "2024-02-22T02:49:25.666290Z",
     "start_time": "2024-02-22T02:49:25.663161Z"
    }
   },
   "id": "6ea34e23f5119079",
   "execution_count": 66
  },
  {
   "cell_type": "code",
   "outputs": [],
   "source": [],
   "metadata": {
    "collapsed": false
   },
   "id": "210bb00965626237"
  },
  {
   "cell_type": "code",
   "outputs": [],
   "source": [],
   "metadata": {
    "collapsed": false
   },
   "id": "c2813583c2594fd5"
  },
  {
   "cell_type": "code",
   "outputs": [],
   "source": [],
   "metadata": {
    "collapsed": false
   },
   "id": "e756992e37ae0a05"
  },
  {
   "cell_type": "code",
   "outputs": [],
   "source": [],
   "metadata": {
    "collapsed": false
   },
   "id": "5e1fbee5c2940b60"
  },
  {
   "cell_type": "code",
   "outputs": [],
   "source": [],
   "metadata": {
    "collapsed": false
   },
   "id": "948ad118d1f0e4e"
  },
  {
   "cell_type": "code",
   "outputs": [],
   "source": [],
   "metadata": {
    "collapsed": false
   },
   "id": "2120af0706126ad0"
  }
 ],
 "metadata": {
  "kernelspec": {
   "display_name": "Python 3",
   "language": "python",
   "name": "python3"
  },
  "language_info": {
   "codemirror_mode": {
    "name": "ipython",
    "version": 2
   },
   "file_extension": ".py",
   "mimetype": "text/x-python",
   "name": "python",
   "nbconvert_exporter": "python",
   "pygments_lexer": "ipython2",
   "version": "2.7.6"
  }
 },
 "nbformat": 4,
 "nbformat_minor": 5
}
